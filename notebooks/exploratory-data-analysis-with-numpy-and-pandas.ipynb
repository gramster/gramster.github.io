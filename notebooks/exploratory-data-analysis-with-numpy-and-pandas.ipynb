{
 "cells": [
  {
   "cell_type": "markdown",
   "metadata": {},
   "source": [
    "# Exploratory Data Analysis with NumPy and Pandas\n",
    "\n",
    "date: 2018-04-28T12:40:00\n",
    "updated: 2018-05-05\n",
    "author: Graham Wheeler\n",
    "category: Data Science\n",
    "comments: enabled\n",
    "tags: Python, Jupyter, Data Science, Pandas\n",
    "\n",
    "<!--eofm-->"
   ]
  },
  {
   "cell_type": "markdown",
   "metadata": {},
   "source": [
    "*This is the third post in a series based off my [Python for Data Science bootcamp](https://github.com/gramster/pythonbootcamp) I run at eBay occasionally. The other posts are:*\n",
    "\n",
    "- *[a Python crash course](/post/python-crash-course/)*\n",
    "- *[using Jupyter](/post/using-jupyter/)*\n",
    "- *[introductory machine learning](/post/basic-machine-learning/).*"
   ]
  },
  {
   "cell_type": "markdown",
   "metadata": {},
   "source": [
    "This is an introduction to the NumPy and Pandas libraries that form the foundation of data science in Python. These libraries, especially Pandas, have a large API surface and many powerful features. There is now way in a short amount of time to cover every topic; in many cases we will just scratch the surface. But after this you should understand the fundamentals, have an idea of the overall scope, and have some pointers for extending your learning as you need more functionality.\n",
    "\n",
    "## Introduction\n",
    "\n",
    "We'll start by importing the numpy and pandas packages. Note the \"as\" aliases; it is conventional to use \"np\" for numpy and \"pd\" for pandas. If you are using Anaconda Python distribution, as recommended for data science, these packages should already be available:"
   ]
  },
  {
   "cell_type": "code",
   "execution_count": 1,
   "metadata": {},
   "outputs": [],
   "source": [
    "import numpy as np\n",
    "import pandas as pd"
   ]
  },
  {
   "cell_type": "markdown",
   "metadata": {},
   "source": [
    "We are going to do some plotting with the matplotlib and Seaborn packages. We want the plots to appear as cell outputs inline in Jupyter.\n",
    "To do that we need to run this next line:\n",
    "<!-- TEASER_END -->"
   ]
  },
  {
   "cell_type": "code",
   "execution_count": 2,
   "metadata": {},
   "outputs": [],
   "source": [
    "%matplotlib inline"
   ]
  },
  {
   "cell_type": "markdown",
   "metadata": {},
   "source": [
    "We're going to use the Seaborn library for better styled charts, and it may not yet be installed. To install it, if you are running at the command line and using Anaconda, use:\n",
    "\n",
    "    conda config --add channels conda-forge\n",
    "    conda install seaborn\n",
    "\n",
    "Else use `pip`:\n",
    "\n",
    "    pip install seaborn\n",
    "\n",
    "If you are running this in Jupyter from an Anaconda installation, use:"
   ]
  },
  {
   "cell_type": "code",
   "execution_count": null,
   "metadata": {},
   "outputs": [],
   "source": [
    "# sys.executable is the path to the Python executable; e.g. /usr/bin/python\n",
    "import sys\n",
    "!conda config --add channels conda-forge\n",
    "!conda install --yes --prefix {sys.prefix} seaborn"
   ]
  },
  {
   "cell_type": "markdown",
   "metadata": {},
   "source": [
    "We need to import the plotting packages. We're also going to change the default style for matplotlib plots to use Seaborn's styling:"
   ]
  },
  {
   "cell_type": "code",
   "execution_count": 4,
   "metadata": {},
   "outputs": [],
   "source": [
    "import matplotlib.pyplot as plt\n",
    "import seaborn as sns\n",
    "\n",
    "# Call sns.set() to change the default styles for matplotlib to use Seaborn styles.\n",
    "sns.set()"
   ]
  },
  {
   "cell_type": "markdown",
   "metadata": {},
   "source": [
    "## NumPy - the Foundation of Data Science in Python\n",
    "\n",
    "Data science is largely about the manipulation of (often large) collections of numbers. To support effective data science a language needs a way to do this efficiently. Python lists are suboptimal because they are heterogeneous collections of object references; the objects in turn have reference counts for garbage collection, type info, size info, and the actual data. Thus storing (say) a list of a four 32-bit integers, rather than requiring just 16 bytes requires much more. Furthermore there is typically poor locality of the items referenced from the list, leading to cache misses and other performance problems. Python does offer an `array` type which is homogeneous and improves on lists as far as storage goes, but it offers limited operations on that data.\n",
    "\n",
    "NumPy bridges the gap, offering both efficient storage of homogeneous data in single or multi-dimensional arrays, and a rich set of computationally -efficient operations on that data.\n",
    "\n",
    "In this section we will cover some of the basics of NumPy. We won't go into too much detail as our main focus will be Pandas, a library built on top of NumPy that is particularly well-suited to manipulating tabular data. You can get a deeper intro to NumPy here: https://docs.scipy.org/doc/numpy-dev/user/quickstart.html"
   ]
  },
  {
   "cell_type": "code",
   "execution_count": 5,
   "metadata": {},
   "outputs": [
    {
     "data": {
      "text/plain": [
       "array([ 1,  2,  3,  4,  5,  6,  7,  8,  9, 10])"
      ]
     },
     "execution_count": 5,
     "metadata": {},
     "output_type": "execute_result"
    }
   ],
   "source": [
    "# Create a one-dimensional NumPy array from a range\n",
    "a = np.arange(1, 11)\n",
    "a"
   ]
  },
  {
   "cell_type": "code",
   "execution_count": 6,
   "metadata": {},
   "outputs": [
    {
     "data": {
      "text/plain": [
       "array([  0.5,   1. ,   1.5,   2. ,   2.5,   3. ,   3.5,   4. ,   4.5,\n",
       "         5. ,   5.5,   6. ,   6.5,   7. ,   7.5,   8. ,   8.5,   9. ,\n",
       "         9.5,  10. ])"
      ]
     },
     "execution_count": 6,
     "metadata": {},
     "output_type": "execute_result"
    }
   ],
   "source": [
    "# Create a one-dimensional NumPy array from a range with a specified increment\n",
    "a = np.arange(0.5, 10.5, 0.5)\n",
    "a"
   ]
  },
  {
   "cell_type": "code",
   "execution_count": 7,
   "metadata": {},
   "outputs": [
    {
     "data": {
      "text/plain": [
       "array([[  0.5,   1. ,   1.5,   2. ,   2.5],\n",
       "       [  3. ,   3.5,   4. ,   4.5,   5. ],\n",
       "       [  5.5,   6. ,   6.5,   7. ,   7.5],\n",
       "       [  8. ,   8.5,   9. ,   9.5,  10. ]])"
      ]
     },
     "execution_count": 7,
     "metadata": {},
     "output_type": "execute_result"
    }
   ],
   "source": [
    "# Reshape the array into a 4x5 matrix\n",
    "a = a.reshape(4, 5)\n",
    "a"
   ]
  },
  {
   "cell_type": "code",
   "execution_count": 8,
   "metadata": {},
   "outputs": [
    {
     "name": "stdout",
     "output_type": "stream",
     "text": [
      "(4, 5)\n",
      "20\n"
     ]
    }
   ],
   "source": [
    "# Get the shape and # of elements\n",
    "print(np.shape(a))\n",
    "print(np.size(a))"
   ]
  },
  {
   "cell_type": "code",
   "execution_count": 9,
   "metadata": {},
   "outputs": [
    {
     "data": {
      "text/plain": [
       "array([1, 2, 3])"
      ]
     },
     "execution_count": 9,
     "metadata": {},
     "output_type": "execute_result"
    }
   ],
   "source": [
    "# Create one dimensional NumPy array from a list\n",
    "a = np.array([1, 2, 3])\n",
    "a"
   ]
  },
  {
   "cell_type": "code",
   "execution_count": 10,
   "metadata": {},
   "outputs": [
    {
     "name": "stdout",
     "output_type": "stream",
     "text": [
      "[1 2 3]\n",
      "[1 2 3 4]\n"
     ]
    }
   ],
   "source": [
    "# Append a value\n",
    "b = a\n",
    "a = np.append(a, 4)  # Note that this makes a copy; the original array is not affected\n",
    "print(b)\n",
    "print(a)"
   ]
  },
  {
   "cell_type": "code",
   "execution_count": 11,
   "metadata": {},
   "outputs": [
    {
     "name": "stdout",
     "output_type": "stream",
     "text": [
      "Second element of a is 2\n",
      "Last element of a is 4\n",
      "Middle two elements of a are [2 3]\n"
     ]
    }
   ],
   "source": [
    "# Index and slice\n",
    "print(f'Second element of a is {a[1]}')\n",
    "print(f'Last element of a is {a[-1]}')\n",
    "print(f'Middle two elements of a are {a[1:3]}')"
   ]
  },
  {
   "cell_type": "code",
   "execution_count": 12,
   "metadata": {},
   "outputs": [
    {
     "data": {
      "text/plain": [
       "array([ 0.,  0.,  0.,  0.,  0.])"
      ]
     },
     "execution_count": 12,
     "metadata": {},
     "output_type": "execute_result"
    }
   ],
   "source": [
    "# Create an array of zeros of length n\n",
    "np.zeros(5)"
   ]
  },
  {
   "cell_type": "code",
   "execution_count": 13,
   "metadata": {},
   "outputs": [
    {
     "data": {
      "text/plain": [
       "array([ 1.,  1.,  1.,  1.,  1.])"
      ]
     },
     "execution_count": 13,
     "metadata": {},
     "output_type": "execute_result"
    }
   ],
   "source": [
    "# Create an array of 1s\n",
    "np.ones(5)"
   ]
  },
  {
   "cell_type": "code",
   "execution_count": 14,
   "metadata": {},
   "outputs": [
    {
     "data": {
      "text/plain": [
       "array([52, 77, 50, 29, 31, 43, 14, 41, 25, 82])"
      ]
     },
     "execution_count": 14,
     "metadata": {},
     "output_type": "execute_result"
    }
   ],
   "source": [
    "# Create an array of 10 random integers between 1 and 100\n",
    "np.random.randint(1,100, 10)"
   ]
  },
  {
   "cell_type": "code",
   "execution_count": 15,
   "metadata": {},
   "outputs": [
    {
     "data": {
      "text/plain": [
       "array([   0.,   25.,   50.,   75.,  100.])"
      ]
     },
     "execution_count": 15,
     "metadata": {},
     "output_type": "execute_result"
    }
   ],
   "source": [
    "# Create linearly spaced array of 5 values from 0 to 100\n",
    "np.linspace(0, 100, 5)"
   ]
  },
  {
   "cell_type": "code",
   "execution_count": 16,
   "metadata": {},
   "outputs": [
    {
     "data": {
      "text/plain": [
       "array([[1, 2, 3],\n",
       "       [4, 5, 6],\n",
       "       [7, 8, 9]])"
      ]
     },
     "execution_count": 16,
     "metadata": {},
     "output_type": "execute_result"
    }
   ],
   "source": [
    "# Create a 2-D array from a list of lists\n",
    "b = np.array([[1,2,3],\n",
    "              [4,5,6],\n",
    "              [7,8,9]])\n",
    "b"
   ]
  },
  {
   "cell_type": "code",
   "execution_count": 17,
   "metadata": {},
   "outputs": [
    {
     "name": "stdout",
     "output_type": "stream",
     "text": [
      "(3, 3)\n",
      "9\n",
      "2\n"
     ]
    }
   ],
   "source": [
    "# Get the shape, # of elements, and # of dimensions\n",
    "print(np.shape(b))\n",
    "print(np.size(b))\n",
    "print(np.ndim(b))"
   ]
  },
  {
   "cell_type": "code",
   "execution_count": 18,
   "metadata": {},
   "outputs": [
    {
     "name": "stdout",
     "output_type": "stream",
     "text": [
      "[1 2 3]\n",
      "[1 2 3]\n"
     ]
    }
   ],
   "source": [
    "# Get the first row of b; these are equivalent\n",
    "print(b[0]) \n",
    "print(b[0,:])  # First row, \"all columns\""
   ]
  },
  {
   "cell_type": "code",
   "execution_count": 19,
   "metadata": {},
   "outputs": [
    {
     "name": "stdout",
     "output_type": "stream",
     "text": [
      "[1 4 7]\n"
     ]
    }
   ],
   "source": [
    "# Get the first column of b\n",
    "print(b[:,0])"
   ]
  },
  {
   "cell_type": "code",
   "execution_count": 20,
   "metadata": {},
   "outputs": [
    {
     "name": "stdout",
     "output_type": "stream",
     "text": [
      "[[5 6]\n",
      " [8 9]]\n"
     ]
    }
   ],
   "source": [
    "# Get a subsection of b, from 1,1 through 2,2 (i.e. before 3,3)\n",
    "print(b[1:3,1:3])"
   ]
  },
  {
   "cell_type": "markdown",
   "metadata": {},
   "source": [
    "Numpy supports Boolean operations on arrays and using arrays of Boolean values to select elements:"
   ]
  },
  {
   "cell_type": "code",
   "execution_count": 21,
   "metadata": {},
   "outputs": [
    {
     "data": {
      "text/plain": [
       "array([[False,  True, False],\n",
       "       [ True, False,  True],\n",
       "       [False,  True, False]], dtype=bool)"
      ]
     },
     "execution_count": 21,
     "metadata": {},
     "output_type": "execute_result"
    }
   ],
   "source": [
    "# Get an array of Booleans based on whether entries are odd or even numbers\n",
    "b%2 == 0"
   ]
  },
  {
   "cell_type": "code",
   "execution_count": 22,
   "metadata": {},
   "outputs": [
    {
     "data": {
      "text/plain": [
       "array([[ 1, -1,  3],\n",
       "       [-1,  5, -1],\n",
       "       [ 7, -1,  9]])"
      ]
     },
     "execution_count": 22,
     "metadata": {},
     "output_type": "execute_result"
    }
   ],
   "source": [
    "# Use Boolean indexing to set all even values to -1\n",
    "b[b%2 == 0] = -1\n",
    "b"
   ]
  },
  {
   "cell_type": "markdown",
   "metadata": {},
   "source": [
    "### UFuncs\n",
    "\n",
    "NumPy supports highly efficient low-level operations on arrays called UFuncs (Universal Functions)."
   ]
  },
  {
   "cell_type": "code",
   "execution_count": 23,
   "metadata": {},
   "outputs": [
    {
     "data": {
      "text/plain": [
       "2.3333333333333335"
      ]
     },
     "execution_count": 23,
     "metadata": {},
     "output_type": "execute_result"
    }
   ],
   "source": [
    "np.mean(b)  # Get the mean of all the elements"
   ]
  },
  {
   "cell_type": "code",
   "execution_count": 24,
   "metadata": {},
   "outputs": [
    {
     "data": {
      "text/plain": [
       "array([[ 1,  1,  9],\n",
       "       [ 1, 25,  1],\n",
       "       [49,  1, 81]])"
      ]
     },
     "execution_count": 24,
     "metadata": {},
     "output_type": "execute_result"
    }
   ],
   "source": [
    "np.power(b, 2)  # Raise every element to second power"
   ]
  },
  {
   "cell_type": "markdown",
   "metadata": {},
   "source": [
    "You can get the details on UFuncs here: https://docs.scipy.org/doc/numpy-1.13.0/reference/ufuncs.html\n",
    "\n",
    "### Dates and Times in NumPy\n",
    "\n",
    "NumPy uses 64-bit integers to represent datetimes:"
   ]
  },
  {
   "cell_type": "code",
   "execution_count": 25,
   "metadata": {},
   "outputs": [
    {
     "data": {
      "text/plain": [
       "array(datetime.date(2015, 12, 25), dtype='datetime64[D]')"
      ]
     },
     "execution_count": 25,
     "metadata": {},
     "output_type": "execute_result"
    }
   ],
   "source": [
    "np.array('2015-12-25', dtype=np.datetime64)  # We use an array just so Jupyter will show us the type details"
   ]
  },
  {
   "cell_type": "markdown",
   "metadata": {},
   "source": [
    "Note the \"[D]\" after the type. NumPy is flexible in how the 64-bits are allocated between date and time components. Because we specified a date only, it assumes the granularity is days, which is what the \"D\" means. There are a number of other possible units; the most useful are:\n",
    "\n",
    "| Y\t| Years |\n",
    "|---|-------|\n",
    "| M\t| Months |\n",
    "| W\t| Weeks |\n",
    "| D\t| Days |\n",
    "| h\t| Hours |\n",
    "| m\t| Minutes |\n",
    "| s\t| Seconds |\n",
    "| ms | Milliseconds |\n",
    "| us | Microsecond |\n",
    "\n",
    "Obviously the finer the granularity the more bits are assigned to fractional seconds leaving less for years so the range dates we can represent shrinks. The values are signed integers; in most cases 0 would be 0AD but for some very fine granularity units 0 is Jan 1, 1970 (e.g. \"as\" is attoseconds and the range here is less than 10 seconds either side of the start of 1970!). \n",
    "\n",
    "There is also a default \"ns\" format suitable for most uses.\n",
    "\n",
    "When constructing a NumPy datetime the units can be specified explicitly or inferred based on the initialization value's format:"
   ]
  },
  {
   "cell_type": "code",
   "execution_count": 26,
   "metadata": {},
   "outputs": [
    {
     "data": {
      "text/plain": [
       "array(datetime.datetime(2015, 12, 25, 12, 0), dtype='datetime64[ms]')"
      ]
     },
     "execution_count": 26,
     "metadata": {},
     "output_type": "execute_result"
    }
   ],
   "source": [
    "np.array(np.datetime64('2015-12-25 12:00:00.00'))  # default to ms as that's the granularity in the datetime"
   ]
  },
  {
   "cell_type": "code",
   "execution_count": 27,
   "metadata": {},
   "outputs": [
    {
     "data": {
      "text/plain": [
       "array(datetime.datetime(2015, 12, 25, 12, 0), dtype='datetime64[us]')"
      ]
     },
     "execution_count": 27,
     "metadata": {},
     "output_type": "execute_result"
    }
   ],
   "source": [
    "np.array(np.datetime64('2015-12-25 12:00:00.00', 'us'))  # use microseconds "
   ]
  },
  {
   "cell_type": "markdown",
   "metadata": {},
   "source": [
    "NumPy's date parsing is very limited and for the most part we will use Pandas datetime types that we will discuss later."
   ]
  },
  {
   "cell_type": "markdown",
   "metadata": {},
   "source": [
    "## Pandas\n",
    "\n",
    "NumPy is primarily aimed at scientific computation e.g. linear algebra. As such, 2D data is in the form of arrays of arrays. In data science applications, we are more often dealing with tabular data; that is, collections of records (samples, observations) where each record may be heterogeneous but the schema is consistent from record to record. The Pandas library is built on top of NumPy to provide this type of representation of data, along with the types of operations more typical in data science applications, like indexing, filtering and aggregation. There are two primary classes it provides for this, Series and DataFrame. \n",
    "\n",
    "### Pandas Series\n",
    "\n",
    "A Pandas Series is a one-dimensional array of indexed data. It wraps a sequence of values (a NumPy array) and a sequence of indices (a `pd.Index` object), along with a name. Pandas indexes can be thought of as immutable dictionaries mapping keys to locations/offsets in the value array; the dictionary implementation is very efficient and there are specialized versions for each type of index (int, float, etc).\n",
    "\n",
    "> For those interested, the underlying implementation used for indexes in Pandas is klib: https://github.com/attractivechaos/klib\n"
   ]
  },
  {
   "cell_type": "code",
   "execution_count": 28,
   "metadata": {},
   "outputs": [
    {
     "name": "stdout",
     "output_type": "stream",
     "text": [
      "None\n"
     ]
    },
    {
     "data": {
      "text/plain": [
       "0     1\n",
       "1     4\n",
       "2     9\n",
       "3    16\n",
       "4    25\n",
       "dtype: int64"
      ]
     },
     "execution_count": 28,
     "metadata": {},
     "output_type": "execute_result"
    }
   ],
   "source": [
    "squares = pd.Series([1, 4, 9, 16, 25])\n",
    "print(squares.name)\n",
    "squares"
   ]
  },
  {
   "cell_type": "markdown",
   "metadata": {},
   "source": [
    "From the above you can see that by default, a series will have numeric indices assigned, as a sequential list starting from 0, much like a typical Python list or array. The default name for the series is `None`, and the type of the data is `int64`."
   ]
  },
  {
   "cell_type": "code",
   "execution_count": 29,
   "metadata": {},
   "outputs": [
    {
     "data": {
      "text/plain": [
       "array([ 1,  4,  9, 16, 25])"
      ]
     },
     "execution_count": 29,
     "metadata": {},
     "output_type": "execute_result"
    }
   ],
   "source": [
    "squares.values"
   ]
  },
  {
   "cell_type": "code",
   "execution_count": 30,
   "metadata": {},
   "outputs": [
    {
     "data": {
      "text/plain": [
       "RangeIndex(start=0, stop=5, step=1)"
      ]
     },
     "execution_count": 30,
     "metadata": {},
     "output_type": "execute_result"
    }
   ],
   "source": [
    "squares.index"
   ]
  },
  {
   "cell_type": "markdown",
   "metadata": {},
   "source": [
    "You can show the first few lines with `.head()`. The argument, if omitted, defaults to 5."
   ]
  },
  {
   "cell_type": "code",
   "execution_count": 31,
   "metadata": {},
   "outputs": [
    {
     "data": {
      "text/plain": [
       "0    1\n",
       "1    4\n",
       "dtype: int64"
      ]
     },
     "execution_count": 31,
     "metadata": {},
     "output_type": "execute_result"
    }
   ],
   "source": [
    "squares.head(2)"
   ]
  },
  {
   "cell_type": "markdown",
   "metadata": {},
   "source": [
    "The data need not be numeric:"
   ]
  },
  {
   "cell_type": "code",
   "execution_count": 32,
   "metadata": {},
   "outputs": [
    {
     "data": {
      "text/plain": [
       "0    quick\n",
       "1    brown\n",
       "2      fox\n",
       "Name: Fox, dtype: object"
      ]
     },
     "execution_count": 32,
     "metadata": {},
     "output_type": "execute_result"
    }
   ],
   "source": [
    "data = pd.Series([\"quick\", \"brown\", \"fox\"], name=\"Fox\")\n",
    "data"
   ]
  },
  {
   "cell_type": "markdown",
   "metadata": {},
   "source": [
    "Above, we have assigned a name to the series, and note that the data type is now `object`. Think of Pandas `object` as being strings/text and/or `None` rather than generic Python objects; this is the predominant usage.\n",
    "\n",
    "What if we combine integers and strings?"
   ]
  },
  {
   "cell_type": "code",
   "execution_count": 33,
   "metadata": {},
   "outputs": [
    {
     "data": {
      "text/plain": [
       "0        1\n",
       "1    quick\n",
       "2    brown\n",
       "3      fox\n",
       "Name: Fox, dtype: object"
      ]
     },
     "execution_count": 33,
     "metadata": {},
     "output_type": "execute_result"
    }
   ],
   "source": [
    "data = pd.Series([1, \"quick\", \"brown\", \"fox\"], name=\"Fox\")\n",
    "data"
   ]
  },
  {
   "cell_type": "markdown",
   "metadata": {},
   "source": [
    "We can have \"missing\" values using None:"
   ]
  },
  {
   "cell_type": "code",
   "execution_count": 34,
   "metadata": {},
   "outputs": [
    {
     "data": {
      "text/plain": [
       "0    quick\n",
       "1     None\n",
       "2      fox\n",
       "Name: Fox, dtype: object"
      ]
     },
     "execution_count": 34,
     "metadata": {},
     "output_type": "execute_result"
    }
   ],
   "source": [
    "data = pd.Series([\"quick\", None, \"fox\"], name=\"Fox\")\n",
    "data"
   ]
  },
  {
   "cell_type": "markdown",
   "metadata": {},
   "source": [
    "For a series of type `object`, `None` can simply be included, but what if the series is numeric?"
   ]
  },
  {
   "cell_type": "code",
   "execution_count": 35,
   "metadata": {},
   "outputs": [
    {
     "data": {
      "text/plain": [
       "0    1.0\n",
       "1    NaN\n",
       "2    3.0\n",
       "dtype: float64"
      ]
     },
     "execution_count": 35,
     "metadata": {},
     "output_type": "execute_result"
    }
   ],
   "source": [
    "data = pd.Series([1, None, 3])\n",
    "data"
   ]
  },
  {
   "cell_type": "markdown",
   "metadata": {},
   "source": [
    "As you can see, the special float value *NaN* (`np.nan`, for 'not a number') is used in this case. This is also why the series has been changed to have type float64 and not int64; floating point numbers have special reserved values to represent NaN while ints don't.\n",
    "\n",
    "Be careful with NaN; it will fail equality tests:"
   ]
  },
  {
   "cell_type": "code",
   "execution_count": 36,
   "metadata": {},
   "outputs": [
    {
     "data": {
      "text/plain": [
       "False"
      ]
     },
     "execution_count": 36,
     "metadata": {},
     "output_type": "execute_result"
    }
   ],
   "source": [
    "np.nan == np.nan"
   ]
  },
  {
   "cell_type": "markdown",
   "metadata": {},
   "source": [
    "Instead you can use `is` or `np.isnan()`:"
   ]
  },
  {
   "cell_type": "code",
   "execution_count": 37,
   "metadata": {},
   "outputs": [
    {
     "name": "stdout",
     "output_type": "stream",
     "text": [
      "True\n",
      "True\n"
     ]
    }
   ],
   "source": [
    "print(np.nan is np.nan)\n",
    "print(np.isnan(np.nan))"
   ]
  },
  {
   "cell_type": "markdown",
   "metadata": {},
   "source": [
    "Normal indexing and slicing operations are available, much like Python lists:"
   ]
  },
  {
   "cell_type": "code",
   "execution_count": 38,
   "metadata": {},
   "outputs": [
    {
     "data": {
      "text/plain": [
       "9"
      ]
     },
     "execution_count": 38,
     "metadata": {},
     "output_type": "execute_result"
    }
   ],
   "source": [
    "squares[2]"
   ]
  },
  {
   "cell_type": "code",
   "execution_count": 39,
   "metadata": {},
   "outputs": [
    {
     "data": {
      "text/plain": [
       "2     9\n",
       "3    16\n",
       "dtype: int64"
      ]
     },
     "execution_count": 39,
     "metadata": {},
     "output_type": "execute_result"
    }
   ],
   "source": [
    "squares[2:4]"
   ]
  },
  {
   "cell_type": "markdown",
   "metadata": {},
   "source": [
    "Where NumPy arrays have implicit integer sequence indices, Pandas indices are explicit and need not be integers:"
   ]
  },
  {
   "cell_type": "code",
   "execution_count": 40,
   "metadata": {},
   "outputs": [
    {
     "data": {
      "text/plain": [
       "square of 1     1\n",
       "square of 2     4\n",
       "square of 3     9\n",
       "square of 4    16\n",
       "square of 5    25\n",
       "dtype: int64"
      ]
     },
     "execution_count": 40,
     "metadata": {},
     "output_type": "execute_result"
    }
   ],
   "source": [
    "squares = pd.Series([1, 4, 9, 16, 25], \n",
    "                    index=['square of 1', 'square of 2', 'square of 3', 'square of 4', 'square of 5'])\n",
    "squares"
   ]
  },
  {
   "cell_type": "code",
   "execution_count": 41,
   "metadata": {},
   "outputs": [
    {
     "data": {
      "text/plain": [
       "9"
      ]
     },
     "execution_count": 41,
     "metadata": {},
     "output_type": "execute_result"
    }
   ],
   "source": [
    "squares['square of 3']"
   ]
  },
  {
   "cell_type": "markdown",
   "metadata": {},
   "source": [
    "As you can see, a Series is a lot like a Python dict (with additional slicing like a list). In fact, we can construct one from a Python dict:"
   ]
  },
  {
   "cell_type": "code",
   "execution_count": 42,
   "metadata": {},
   "outputs": [
    {
     "data": {
      "text/plain": [
       "square of 1     1\n",
       "square of 2     4\n",
       "square of 3     9\n",
       "square of 4    16\n",
       "square of 5    25\n",
       "dtype: int64"
      ]
     },
     "execution_count": 42,
     "metadata": {},
     "output_type": "execute_result"
    }
   ],
   "source": [
    "pd.Series({'square of 1':1, 'square of 2':4, 'square of 3':9, 'square of 4':16, 'square of 5':25})"
   ]
  },
  {
   "cell_type": "markdown",
   "metadata": {},
   "source": [
    "You can use both a dictionary and an explicit index but be careful if the index and dictionary keys don't align completely; the explicit index takes precedence. Look at what happens:"
   ]
  },
  {
   "cell_type": "code",
   "execution_count": 43,
   "metadata": {},
   "outputs": [
    {
     "data": {
      "text/plain": [
       "one    1.0\n",
       "two    NaN\n",
       "dtype: float64"
      ]
     },
     "execution_count": 43,
     "metadata": {},
     "output_type": "execute_result"
    }
   ],
   "source": [
    "pd.Series({\"one\": 1, \"three\": 3}, index=[\"one\", \"two\"])"
   ]
  },
  {
   "cell_type": "markdown",
   "metadata": {},
   "source": [
    "### Exercise 1\n",
    "\n",
    "Given the list below, create a Series that has the list as both the index and the values, and then display the first 3 rows:"
   ]
  },
  {
   "cell_type": "code",
   "execution_count": 44,
   "metadata": {},
   "outputs": [],
   "source": [
    "ex1 = ['a', 'b', 'c', 'd', 'e', 'f', 'g', 'h', 'i', 'j', 'k', 'l', 'm']"
   ]
  },
  {
   "cell_type": "markdown",
   "metadata": {},
   "source": [
    "A number of dict-style operations work on a Series:"
   ]
  },
  {
   "cell_type": "code",
   "execution_count": 45,
   "metadata": {},
   "outputs": [
    {
     "data": {
      "text/plain": [
       "True"
      ]
     },
     "execution_count": 45,
     "metadata": {},
     "output_type": "execute_result"
    }
   ],
   "source": [
    "'square of 5' in squares"
   ]
  },
  {
   "cell_type": "code",
   "execution_count": 46,
   "metadata": {},
   "outputs": [
    {
     "data": {
      "text/plain": [
       "Index(['square of 1', 'square of 2', 'square of 3', 'square of 4',\n",
       "       'square of 5'],\n",
       "      dtype='object')"
      ]
     },
     "execution_count": 46,
     "metadata": {},
     "output_type": "execute_result"
    }
   ],
   "source": [
    "squares.keys()"
   ]
  },
  {
   "cell_type": "code",
   "execution_count": 47,
   "metadata": {},
   "outputs": [
    {
     "data": {
      "text/plain": [
       "<zip at 0x1a108c9f48>"
      ]
     },
     "execution_count": 47,
     "metadata": {},
     "output_type": "execute_result"
    }
   ],
   "source": [
    "squares.items()  # Iterable"
   ]
  },
  {
   "cell_type": "code",
   "execution_count": 48,
   "metadata": {},
   "outputs": [
    {
     "data": {
      "text/plain": [
       "[('square of 1', 1),\n",
       " ('square of 2', 4),\n",
       " ('square of 3', 9),\n",
       " ('square of 4', 16),\n",
       " ('square of 5', 25)]"
      ]
     },
     "execution_count": 48,
     "metadata": {},
     "output_type": "execute_result"
    }
   ],
   "source": [
    "list(squares.items())"
   ]
  },
  {
   "cell_type": "markdown",
   "metadata": {},
   "source": [
    "However, unlike with a Python dict, `.values` is an array attribute, not a function returning an iterable, so we use `.values`, not `.values()`:"
   ]
  },
  {
   "cell_type": "code",
   "execution_count": 49,
   "metadata": {},
   "outputs": [
    {
     "data": {
      "text/plain": [
       "array([ 1,  4,  9, 16, 25])"
      ]
     },
     "execution_count": 49,
     "metadata": {},
     "output_type": "execute_result"
    }
   ],
   "source": [
    "squares.values "
   ]
  },
  {
   "cell_type": "markdown",
   "metadata": {},
   "source": [
    "We can add new entries:"
   ]
  },
  {
   "cell_type": "code",
   "execution_count": 50,
   "metadata": {},
   "outputs": [
    {
     "data": {
      "text/plain": [
       "square of 1     1\n",
       "square of 2     4\n",
       "square of 3     9\n",
       "square of 4    16\n",
       "square of 5    25\n",
       "square of 6    36\n",
       "dtype: int64"
      ]
     },
     "execution_count": 50,
     "metadata": {},
     "output_type": "execute_result"
    }
   ],
   "source": [
    "squares['square of 6'] = 36\n",
    "squares"
   ]
  },
  {
   "cell_type": "markdown",
   "metadata": {},
   "source": [
    "change existing values:"
   ]
  },
  {
   "cell_type": "code",
   "execution_count": 51,
   "metadata": {},
   "outputs": [
    {
     "data": {
      "text/plain": [
       "square of 1     1\n",
       "square of 2     4\n",
       "square of 3     9\n",
       "square of 4    16\n",
       "square of 5    25\n",
       "square of 6    -1\n",
       "dtype: int64"
      ]
     },
     "execution_count": 51,
     "metadata": {},
     "output_type": "execute_result"
    }
   ],
   "source": [
    "squares['square of 6'] = -1\n",
    "squares"
   ]
  },
  {
   "cell_type": "markdown",
   "metadata": {},
   "source": [
    "and delete entries:"
   ]
  },
  {
   "cell_type": "code",
   "execution_count": 52,
   "metadata": {},
   "outputs": [
    {
     "data": {
      "text/plain": [
       "square of 1     1\n",
       "square of 2     4\n",
       "square of 3     9\n",
       "square of 4    16\n",
       "square of 5    25\n",
       "dtype: int64"
      ]
     },
     "execution_count": 52,
     "metadata": {},
     "output_type": "execute_result"
    }
   ],
   "source": [
    "del squares['square of 6']\n",
    "squares"
   ]
  },
  {
   "cell_type": "markdown",
   "metadata": {},
   "source": [
    "Iteration (`.__iter__`) iterates over the values in a Series, while membership testing (`.__contains__`) checks the indices. `.iteritems()` will iterate over (index, value) tuples, similar to list's `.enumerate()`:"
   ]
  },
  {
   "cell_type": "code",
   "execution_count": 53,
   "metadata": {},
   "outputs": [
    {
     "name": "stdout",
     "output_type": "stream",
     "text": [
      "1\n",
      "4\n",
      "9\n",
      "16\n",
      "25\n"
     ]
    }
   ],
   "source": [
    "for v in squares:  # calls .__iter__()\n",
    "    print(v)"
   ]
  },
  {
   "cell_type": "code",
   "execution_count": 54,
   "metadata": {},
   "outputs": [
    {
     "name": "stdout",
     "output_type": "stream",
     "text": [
      "False\n",
      "True\n"
     ]
    }
   ],
   "source": [
    "print(16 in squares)\n",
    "print('square of 4' in squares)  # calls .__contains__()"
   ]
  },
  {
   "cell_type": "code",
   "execution_count": 55,
   "metadata": {},
   "outputs": [
    {
     "name": "stdout",
     "output_type": "stream",
     "text": [
      "True\n"
     ]
    }
   ],
   "source": [
    "print(16 in squares.values) "
   ]
  },
  {
   "cell_type": "code",
   "execution_count": 56,
   "metadata": {},
   "outputs": [
    {
     "name": "stdout",
     "output_type": "stream",
     "text": [
      "('square of 1', 1)\n",
      "('square of 2', 4)\n",
      "('square of 3', 9)\n",
      "('square of 4', 16)\n",
      "('square of 5', 25)\n"
     ]
    }
   ],
   "source": [
    "for v in squares.iteritems():\n",
    "    print(v)"
   ]
  },
  {
   "cell_type": "markdown",
   "metadata": {},
   "source": [
    "### Vectorized Operations\n",
    "\n",
    "You can iterate over a Series or Dataframe, but in many cases there are much more efficient vectorized UFuncs available; these are implemented in native code exploiting parallel processor operations and are much faster. Some examples are `.sum()`, `.median()`, `.mode()`, and `.mean()`:"
   ]
  },
  {
   "cell_type": "code",
   "execution_count": 57,
   "metadata": {},
   "outputs": [
    {
     "data": {
      "text/plain": [
       "11.0"
      ]
     },
     "execution_count": 57,
     "metadata": {},
     "output_type": "execute_result"
    }
   ],
   "source": [
    "squares.mean()"
   ]
  },
  {
   "cell_type": "markdown",
   "metadata": {},
   "source": [
    "Series also behaves a lot like a list. We saw some indexing and slicing earlier. This can be done on non-numeric indexes too, but be careful: it _includes_ the final value:"
   ]
  },
  {
   "cell_type": "code",
   "execution_count": 58,
   "metadata": {},
   "outputs": [
    {
     "data": {
      "text/plain": [
       "square of 2     4\n",
       "square of 3     9\n",
       "square of 4    16\n",
       "dtype: int64"
      ]
     },
     "execution_count": 58,
     "metadata": {},
     "output_type": "execute_result"
    }
   ],
   "source": [
    "squares['square of 2': 'square of 4']"
   ]
  },
  {
   "cell_type": "markdown",
   "metadata": {},
   "source": [
    "If one or both of the keys are invalid, the results will be empty: "
   ]
  },
  {
   "cell_type": "code",
   "execution_count": 59,
   "metadata": {},
   "outputs": [
    {
     "data": {
      "text/plain": [
       "Series([], dtype: int64)"
      ]
     },
     "execution_count": 59,
     "metadata": {},
     "output_type": "execute_result"
    }
   ],
   "source": [
    "squares['square of 2': 'cube of 4']"
   ]
  },
  {
   "cell_type": "markdown",
   "metadata": {},
   "source": [
    "### Exercise 2\n",
    "\n",
    "Delete the row 'k' from the earlier series you created in exercise 1, then display the rows from 'f' through 'l'."
   ]
  },
  {
   "cell_type": "markdown",
   "metadata": {},
   "source": [
    "Something to be aware of, is that the index need not be unique:"
   ]
  },
  {
   "cell_type": "code",
   "execution_count": 60,
   "metadata": {},
   "outputs": [
    {
     "data": {
      "text/plain": [
       "teacher    alice\n",
       "teacher      bob\n",
       "plumber    carol\n",
       "dtype: object"
      ]
     },
     "execution_count": 60,
     "metadata": {},
     "output_type": "execute_result"
    }
   ],
   "source": [
    "people = pd.Series(['alice', 'bob', 'carol'], index=['teacher', 'teacher', 'plumber'])\n",
    "people"
   ]
  },
  {
   "cell_type": "markdown",
   "metadata": {},
   "source": [
    "If we dereference a Series by a non-unique index we will get a Series, not a scalar!"
   ]
  },
  {
   "cell_type": "code",
   "execution_count": 61,
   "metadata": {},
   "outputs": [
    {
     "data": {
      "text/plain": [
       "'carol'"
      ]
     },
     "execution_count": 61,
     "metadata": {},
     "output_type": "execute_result"
    }
   ],
   "source": [
    "people['plumber']"
   ]
  },
  {
   "cell_type": "code",
   "execution_count": 62,
   "metadata": {},
   "outputs": [
    {
     "data": {
      "text/plain": [
       "teacher    alice\n",
       "teacher      bob\n",
       "dtype: object"
      ]
     },
     "execution_count": 62,
     "metadata": {},
     "output_type": "execute_result"
    }
   ],
   "source": [
    "people['teacher']"
   ]
  },
  {
   "cell_type": "markdown",
   "metadata": {},
   "source": [
    "You need to be very careful with non-unique indices. For example, assignment will change all the values for that index without collapsing to a single entry!"
   ]
  },
  {
   "cell_type": "code",
   "execution_count": 63,
   "metadata": {},
   "outputs": [
    {
     "data": {
      "text/plain": [
       "teacher     dave\n",
       "teacher     dave\n",
       "plumber    carol\n",
       "dtype: object"
      ]
     },
     "execution_count": 63,
     "metadata": {},
     "output_type": "execute_result"
    }
   ],
   "source": [
    "people['teacher'] = 'dave'\n",
    "people"
   ]
  },
  {
   "cell_type": "markdown",
   "metadata": {},
   "source": [
    "To prevent this you could use positional indexing, but my advice is to try to avoid using non-unique indices if at all possible. You can use the `.is_unique` property on the index to check:"
   ]
  },
  {
   "cell_type": "code",
   "execution_count": 64,
   "metadata": {},
   "outputs": [
    {
     "data": {
      "text/plain": [
       "False"
      ]
     },
     "execution_count": 64,
     "metadata": {},
     "output_type": "execute_result"
    }
   ],
   "source": [
    "people.index.is_unique"
   ]
  },
  {
   "cell_type": "markdown",
   "metadata": {},
   "source": [
    "### DataFrames\n",
    "\n",
    "A DataFrame is like a dictionary where the keys are column names and the values are Series that share the same index and hold the column values. The first \"column\" is actually the shared Series index (there are some exceptions to this where the index can be multi-level and span more than one column but in most cases it is flat)."
   ]
  },
  {
   "cell_type": "code",
   "execution_count": 65,
   "metadata": {},
   "outputs": [
    {
     "data": {
      "text/html": [
       "<div>\n",
       "<style scoped>\n",
       "    .dataframe tbody tr th:only-of-type {\n",
       "        vertical-align: middle;\n",
       "    }\n",
       "\n",
       "    .dataframe tbody tr th {\n",
       "        vertical-align: top;\n",
       "    }\n",
       "\n",
       "    .dataframe thead th {\n",
       "        text-align: right;\n",
       "    }\n",
       "</style>\n",
       "<table border=\"1\" class=\"dataframe\">\n",
       "  <thead>\n",
       "    <tr style=\"text-align: right;\">\n",
       "      <th></th>\n",
       "      <th>Department</th>\n",
       "      <th>Name</th>\n",
       "      <th>Phone</th>\n",
       "    </tr>\n",
       "  </thead>\n",
       "  <tbody>\n",
       "    <tr>\n",
       "      <th>0</th>\n",
       "      <td>Marketing</td>\n",
       "      <td>Alice</td>\n",
       "      <td>555-123-4567</td>\n",
       "    </tr>\n",
       "    <tr>\n",
       "      <th>1</th>\n",
       "      <td>Accounts</td>\n",
       "      <td>Bob</td>\n",
       "      <td>555-987-6543</td>\n",
       "    </tr>\n",
       "    <tr>\n",
       "      <th>2</th>\n",
       "      <td>HR</td>\n",
       "      <td>Carol</td>\n",
       "      <td>555-245-6789</td>\n",
       "    </tr>\n",
       "  </tbody>\n",
       "</table>\n",
       "</div>"
      ],
      "text/plain": [
       "  Department   Name         Phone\n",
       "0  Marketing  Alice  555-123-4567\n",
       "1   Accounts    Bob  555-987-6543\n",
       "2         HR  Carol  555-245-6789"
      ]
     },
     "execution_count": 65,
     "metadata": {},
     "output_type": "execute_result"
    }
   ],
   "source": [
    "names = pd.Series(['Alice', 'Bob', 'Carol'])\n",
    "phones = pd.Series(['555-123-4567', '555-987-6543', '555-245-6789'])\n",
    "dept = pd.Series(['Marketing', 'Accounts', 'HR'])\n",
    "\n",
    "staff = pd.DataFrame({'Name': names, 'Phone': phones, 'Department': dept})  # 'Name', 'Phone', 'Department' are the column names\n",
    "staff"
   ]
  },
  {
   "cell_type": "markdown",
   "metadata": {},
   "source": [
    "Note above that the first column with values 0, 1, 2 is actually the shared index, and there are three series keyed off the three names \"Department\", \"Name\" and \"Phone\".\n",
    "\n",
    "Like `Series`, `DataFrame` has an index for rows:"
   ]
  },
  {
   "cell_type": "code",
   "execution_count": 66,
   "metadata": {},
   "outputs": [
    {
     "data": {
      "text/plain": [
       "RangeIndex(start=0, stop=3, step=1)"
      ]
     },
     "execution_count": 66,
     "metadata": {},
     "output_type": "execute_result"
    }
   ],
   "source": [
    "staff.index"
   ]
  },
  {
   "cell_type": "markdown",
   "metadata": {},
   "source": [
    "`DataFrame` also has an index for columns:"
   ]
  },
  {
   "cell_type": "code",
   "execution_count": 67,
   "metadata": {},
   "outputs": [
    {
     "data": {
      "text/plain": [
       "Index(['Department', 'Name', 'Phone'], dtype='object')"
      ]
     },
     "execution_count": 67,
     "metadata": {},
     "output_type": "execute_result"
    }
   ],
   "source": [
    "staff.columns"
   ]
  },
  {
   "cell_type": "code",
   "execution_count": 68,
   "metadata": {},
   "outputs": [
    {
     "data": {
      "text/plain": [
       "array([['Marketing', 'Alice', '555-123-4567'],\n",
       "       ['Accounts', 'Bob', '555-987-6543'],\n",
       "       ['HR', 'Carol', '555-245-6789']], dtype=object)"
      ]
     },
     "execution_count": 68,
     "metadata": {},
     "output_type": "execute_result"
    }
   ],
   "source": [
    "staff.values"
   ]
  },
  {
   "cell_type": "markdown",
   "metadata": {},
   "source": [
    "The index operator actually selects a column in the DataFrame, while the .iloc and .loc attributes still select rows (actually, we will see in the next section that they can select a subset of the DataFrame with a row selector and column selector, but the row selector comes first so if you supply a single argument to .loc or .iloc you will select rows):"
   ]
  },
  {
   "cell_type": "code",
   "execution_count": 69,
   "metadata": {},
   "outputs": [
    {
     "data": {
      "text/plain": [
       "0    Alice\n",
       "1      Bob\n",
       "2    Carol\n",
       "Name: Name, dtype: object"
      ]
     },
     "execution_count": 69,
     "metadata": {},
     "output_type": "execute_result"
    }
   ],
   "source": [
    "staff['Name']  # Acts similar to dictionary; returns the Series for a column"
   ]
  },
  {
   "cell_type": "code",
   "execution_count": 70,
   "metadata": {},
   "outputs": [
    {
     "data": {
      "text/plain": [
       "Department              HR\n",
       "Name                 Carol\n",
       "Phone         555-245-6789\n",
       "Name: 2, dtype: object"
      ]
     },
     "execution_count": 70,
     "metadata": {},
     "output_type": "execute_result"
    }
   ],
   "source": [
    "staff.loc[2]"
   ]
  },
  {
   "cell_type": "markdown",
   "metadata": {},
   "source": [
    "You can get a transpose of the DataFrame with the .T attribute:"
   ]
  },
  {
   "cell_type": "code",
   "execution_count": 71,
   "metadata": {},
   "outputs": [
    {
     "data": {
      "text/html": [
       "<div>\n",
       "<style scoped>\n",
       "    .dataframe tbody tr th:only-of-type {\n",
       "        vertical-align: middle;\n",
       "    }\n",
       "\n",
       "    .dataframe tbody tr th {\n",
       "        vertical-align: top;\n",
       "    }\n",
       "\n",
       "    .dataframe thead th {\n",
       "        text-align: right;\n",
       "    }\n",
       "</style>\n",
       "<table border=\"1\" class=\"dataframe\">\n",
       "  <thead>\n",
       "    <tr style=\"text-align: right;\">\n",
       "      <th></th>\n",
       "      <th>0</th>\n",
       "      <th>1</th>\n",
       "      <th>2</th>\n",
       "    </tr>\n",
       "  </thead>\n",
       "  <tbody>\n",
       "    <tr>\n",
       "      <th>Department</th>\n",
       "      <td>Marketing</td>\n",
       "      <td>Accounts</td>\n",
       "      <td>HR</td>\n",
       "    </tr>\n",
       "    <tr>\n",
       "      <th>Name</th>\n",
       "      <td>Alice</td>\n",
       "      <td>Bob</td>\n",
       "      <td>Carol</td>\n",
       "    </tr>\n",
       "    <tr>\n",
       "      <th>Phone</th>\n",
       "      <td>555-123-4567</td>\n",
       "      <td>555-987-6543</td>\n",
       "      <td>555-245-6789</td>\n",
       "    </tr>\n",
       "  </tbody>\n",
       "</table>\n",
       "</div>"
      ],
      "text/plain": [
       "                       0             1             2\n",
       "Department     Marketing      Accounts            HR\n",
       "Name               Alice           Bob         Carol\n",
       "Phone       555-123-4567  555-987-6543  555-245-6789"
      ]
     },
     "execution_count": 71,
     "metadata": {},
     "output_type": "execute_result"
    }
   ],
   "source": [
    "staff.T"
   ]
  },
  {
   "cell_type": "markdown",
   "metadata": {},
   "source": [
    "You can also access columns like this, with dot-notation. Occasionally this breaks if there is a conflict with a UFunc name, like 'count':"
   ]
  },
  {
   "cell_type": "code",
   "execution_count": 72,
   "metadata": {},
   "outputs": [
    {
     "data": {
      "text/plain": [
       "0    Alice\n",
       "1      Bob\n",
       "2    Carol\n",
       "Name: Name, dtype: object"
      ]
     },
     "execution_count": 72,
     "metadata": {},
     "output_type": "execute_result"
    }
   ],
   "source": [
    "staff.Name "
   ]
  },
  {
   "cell_type": "markdown",
   "metadata": {},
   "source": [
    "You can add new columns. Later we'll see how to do this as a function of existing columns:"
   ]
  },
  {
   "cell_type": "code",
   "execution_count": 73,
   "metadata": {},
   "outputs": [
    {
     "data": {
      "text/html": [
       "<div>\n",
       "<style scoped>\n",
       "    .dataframe tbody tr th:only-of-type {\n",
       "        vertical-align: middle;\n",
       "    }\n",
       "\n",
       "    .dataframe tbody tr th {\n",
       "        vertical-align: top;\n",
       "    }\n",
       "\n",
       "    .dataframe thead th {\n",
       "        text-align: right;\n",
       "    }\n",
       "</style>\n",
       "<table border=\"1\" class=\"dataframe\">\n",
       "  <thead>\n",
       "    <tr style=\"text-align: right;\">\n",
       "      <th></th>\n",
       "      <th>Department</th>\n",
       "      <th>Name</th>\n",
       "      <th>Phone</th>\n",
       "      <th>Fulltime</th>\n",
       "    </tr>\n",
       "  </thead>\n",
       "  <tbody>\n",
       "    <tr>\n",
       "      <th>0</th>\n",
       "      <td>Marketing</td>\n",
       "      <td>Alice</td>\n",
       "      <td>555-123-4567</td>\n",
       "      <td>True</td>\n",
       "    </tr>\n",
       "    <tr>\n",
       "      <th>1</th>\n",
       "      <td>Accounts</td>\n",
       "      <td>Bob</td>\n",
       "      <td>555-987-6543</td>\n",
       "      <td>True</td>\n",
       "    </tr>\n",
       "    <tr>\n",
       "      <th>2</th>\n",
       "      <td>HR</td>\n",
       "      <td>Carol</td>\n",
       "      <td>555-245-6789</td>\n",
       "      <td>True</td>\n",
       "    </tr>\n",
       "  </tbody>\n",
       "</table>\n",
       "</div>"
      ],
      "text/plain": [
       "  Department   Name         Phone  Fulltime\n",
       "0  Marketing  Alice  555-123-4567      True\n",
       "1   Accounts    Bob  555-987-6543      True\n",
       "2         HR  Carol  555-245-6789      True"
      ]
     },
     "execution_count": 73,
     "metadata": {},
     "output_type": "execute_result"
    }
   ],
   "source": [
    "staff['Fulltime'] = True\n",
    "staff.head()"
   ]
  },
  {
   "cell_type": "markdown",
   "metadata": {},
   "source": [
    "Use `.describe()` to get summary statistics:"
   ]
  },
  {
   "cell_type": "code",
   "execution_count": 74,
   "metadata": {},
   "outputs": [
    {
     "data": {
      "text/html": [
       "<div>\n",
       "<style scoped>\n",
       "    .dataframe tbody tr th:only-of-type {\n",
       "        vertical-align: middle;\n",
       "    }\n",
       "\n",
       "    .dataframe tbody tr th {\n",
       "        vertical-align: top;\n",
       "    }\n",
       "\n",
       "    .dataframe thead th {\n",
       "        text-align: right;\n",
       "    }\n",
       "</style>\n",
       "<table border=\"1\" class=\"dataframe\">\n",
       "  <thead>\n",
       "    <tr style=\"text-align: right;\">\n",
       "      <th></th>\n",
       "      <th>Department</th>\n",
       "      <th>Name</th>\n",
       "      <th>Phone</th>\n",
       "      <th>Fulltime</th>\n",
       "    </tr>\n",
       "  </thead>\n",
       "  <tbody>\n",
       "    <tr>\n",
       "      <th>count</th>\n",
       "      <td>3</td>\n",
       "      <td>3</td>\n",
       "      <td>3</td>\n",
       "      <td>3</td>\n",
       "    </tr>\n",
       "    <tr>\n",
       "      <th>unique</th>\n",
       "      <td>3</td>\n",
       "      <td>3</td>\n",
       "      <td>3</td>\n",
       "      <td>1</td>\n",
       "    </tr>\n",
       "    <tr>\n",
       "      <th>top</th>\n",
       "      <td>Accounts</td>\n",
       "      <td>Alice</td>\n",
       "      <td>555-123-4567</td>\n",
       "      <td>True</td>\n",
       "    </tr>\n",
       "    <tr>\n",
       "      <th>freq</th>\n",
       "      <td>1</td>\n",
       "      <td>1</td>\n",
       "      <td>1</td>\n",
       "      <td>3</td>\n",
       "    </tr>\n",
       "  </tbody>\n",
       "</table>\n",
       "</div>"
      ],
      "text/plain": [
       "       Department   Name         Phone Fulltime\n",
       "count           3      3             3        3\n",
       "unique          3      3             3        1\n",
       "top      Accounts  Alice  555-123-4567     True\n",
       "freq            1      1             1        3"
      ]
     },
     "execution_count": 74,
     "metadata": {},
     "output_type": "execute_result"
    }
   ],
   "source": [
    "staff.describe()"
   ]
  },
  {
   "cell_type": "markdown",
   "metadata": {},
   "source": [
    "Use `.quantile()` to get quantiles:"
   ]
  },
  {
   "cell_type": "code",
   "execution_count": 75,
   "metadata": {},
   "outputs": [
    {
     "data": {
      "text/html": [
       "<div>\n",
       "<style scoped>\n",
       "    .dataframe tbody tr th:only-of-type {\n",
       "        vertical-align: middle;\n",
       "    }\n",
       "\n",
       "    .dataframe tbody tr th {\n",
       "        vertical-align: top;\n",
       "    }\n",
       "\n",
       "    .dataframe thead th {\n",
       "        text-align: right;\n",
       "    }\n",
       "</style>\n",
       "<table border=\"1\" class=\"dataframe\">\n",
       "  <thead>\n",
       "    <tr style=\"text-align: right;\">\n",
       "      <th></th>\n",
       "      <th>0</th>\n",
       "    </tr>\n",
       "  </thead>\n",
       "  <tbody>\n",
       "    <tr>\n",
       "      <th>0.25</th>\n",
       "      <td>2.0</td>\n",
       "    </tr>\n",
       "    <tr>\n",
       "      <th>0.75</th>\n",
       "      <td>4.0</td>\n",
       "    </tr>\n",
       "  </tbody>\n",
       "</table>\n",
       "</div>"
      ],
      "text/plain": [
       "        0\n",
       "0.25  2.0\n",
       "0.75  4.0"
      ]
     },
     "execution_count": 75,
     "metadata": {},
     "output_type": "execute_result"
    }
   ],
   "source": [
    "df = pd.DataFrame([2, 3, 1, 4, 3, 5, 2, 6, 3])\n",
    "df.quantile(q=[0.25, 0.75])"
   ]
  },
  {
   "cell_type": "markdown",
   "metadata": {},
   "source": [
    "Use `.drop()` to remove rows. This will return a copy with the modifications and leave the original untouched unless you include the argument `inplace=True`."
   ]
  },
  {
   "cell_type": "code",
   "execution_count": 76,
   "metadata": {},
   "outputs": [
    {
     "data": {
      "text/html": [
       "<div>\n",
       "<style scoped>\n",
       "    .dataframe tbody tr th:only-of-type {\n",
       "        vertical-align: middle;\n",
       "    }\n",
       "\n",
       "    .dataframe tbody tr th {\n",
       "        vertical-align: top;\n",
       "    }\n",
       "\n",
       "    .dataframe thead th {\n",
       "        text-align: right;\n",
       "    }\n",
       "</style>\n",
       "<table border=\"1\" class=\"dataframe\">\n",
       "  <thead>\n",
       "    <tr style=\"text-align: right;\">\n",
       "      <th></th>\n",
       "      <th>Department</th>\n",
       "      <th>Name</th>\n",
       "      <th>Phone</th>\n",
       "      <th>Fulltime</th>\n",
       "    </tr>\n",
       "  </thead>\n",
       "  <tbody>\n",
       "    <tr>\n",
       "      <th>0</th>\n",
       "      <td>Marketing</td>\n",
       "      <td>Alice</td>\n",
       "      <td>555-123-4567</td>\n",
       "      <td>True</td>\n",
       "    </tr>\n",
       "    <tr>\n",
       "      <th>2</th>\n",
       "      <td>HR</td>\n",
       "      <td>Carol</td>\n",
       "      <td>555-245-6789</td>\n",
       "      <td>True</td>\n",
       "    </tr>\n",
       "  </tbody>\n",
       "</table>\n",
       "</div>"
      ],
      "text/plain": [
       "  Department   Name         Phone  Fulltime\n",
       "0  Marketing  Alice  555-123-4567      True\n",
       "2         HR  Carol  555-245-6789      True"
      ]
     },
     "execution_count": 76,
     "metadata": {},
     "output_type": "execute_result"
    }
   ],
   "source": [
    "staff.drop([1])"
   ]
  },
  {
   "cell_type": "code",
   "execution_count": 77,
   "metadata": {},
   "outputs": [
    {
     "data": {
      "text/html": [
       "<div>\n",
       "<style scoped>\n",
       "    .dataframe tbody tr th:only-of-type {\n",
       "        vertical-align: middle;\n",
       "    }\n",
       "\n",
       "    .dataframe tbody tr th {\n",
       "        vertical-align: top;\n",
       "    }\n",
       "\n",
       "    .dataframe thead th {\n",
       "        text-align: right;\n",
       "    }\n",
       "</style>\n",
       "<table border=\"1\" class=\"dataframe\">\n",
       "  <thead>\n",
       "    <tr style=\"text-align: right;\">\n",
       "      <th></th>\n",
       "      <th>Department</th>\n",
       "      <th>Name</th>\n",
       "      <th>Phone</th>\n",
       "      <th>Fulltime</th>\n",
       "    </tr>\n",
       "  </thead>\n",
       "  <tbody>\n",
       "    <tr>\n",
       "      <th>0</th>\n",
       "      <td>Marketing</td>\n",
       "      <td>Alice</td>\n",
       "      <td>555-123-4567</td>\n",
       "      <td>True</td>\n",
       "    </tr>\n",
       "    <tr>\n",
       "      <th>1</th>\n",
       "      <td>Accounts</td>\n",
       "      <td>Bob</td>\n",
       "      <td>555-987-6543</td>\n",
       "      <td>True</td>\n",
       "    </tr>\n",
       "    <tr>\n",
       "      <th>2</th>\n",
       "      <td>HR</td>\n",
       "      <td>Carol</td>\n",
       "      <td>555-245-6789</td>\n",
       "      <td>True</td>\n",
       "    </tr>\n",
       "  </tbody>\n",
       "</table>\n",
       "</div>"
      ],
      "text/plain": [
       "  Department   Name         Phone  Fulltime\n",
       "0  Marketing  Alice  555-123-4567      True\n",
       "1   Accounts    Bob  555-987-6543      True\n",
       "2         HR  Carol  555-245-6789      True"
      ]
     },
     "execution_count": 77,
     "metadata": {},
     "output_type": "execute_result"
    }
   ],
   "source": [
    "# Note that because we didn't say inplace=True,\n",
    "# the original is unchanged\n",
    "staff"
   ]
  },
  {
   "cell_type": "markdown",
   "metadata": {},
   "source": [
    "There are many ways to construct a DataFrame. For example, from a Series or dictionary of Series, from a list of Python dicts, or from a 2-D NumPy array. There are also utility functions to read data from disk into a DataFrame, e.g. from a .csv file or an Excel spreadsheet. We'll cover some of these later.\n",
    "\n",
    "Many DataFrame operations take an `axis` argument which defaults to zero. This specifies whether we want to apply the operation by rows (axis=0) or by columns (axis=1).\n",
    "\n",
    "You can drop columns if you specify `axis=1`:"
   ]
  },
  {
   "cell_type": "code",
   "execution_count": 78,
   "metadata": {},
   "outputs": [
    {
     "data": {
      "text/html": [
       "<div>\n",
       "<style scoped>\n",
       "    .dataframe tbody tr th:only-of-type {\n",
       "        vertical-align: middle;\n",
       "    }\n",
       "\n",
       "    .dataframe tbody tr th {\n",
       "        vertical-align: top;\n",
       "    }\n",
       "\n",
       "    .dataframe thead th {\n",
       "        text-align: right;\n",
       "    }\n",
       "</style>\n",
       "<table border=\"1\" class=\"dataframe\">\n",
       "  <thead>\n",
       "    <tr style=\"text-align: right;\">\n",
       "      <th></th>\n",
       "      <th>Department</th>\n",
       "      <th>Name</th>\n",
       "      <th>Phone</th>\n",
       "    </tr>\n",
       "  </thead>\n",
       "  <tbody>\n",
       "    <tr>\n",
       "      <th>0</th>\n",
       "      <td>Marketing</td>\n",
       "      <td>Alice</td>\n",
       "      <td>555-123-4567</td>\n",
       "    </tr>\n",
       "    <tr>\n",
       "      <th>1</th>\n",
       "      <td>Accounts</td>\n",
       "      <td>Bob</td>\n",
       "      <td>555-987-6543</td>\n",
       "    </tr>\n",
       "    <tr>\n",
       "      <th>2</th>\n",
       "      <td>HR</td>\n",
       "      <td>Carol</td>\n",
       "      <td>555-245-6789</td>\n",
       "    </tr>\n",
       "  </tbody>\n",
       "</table>\n",
       "</div>"
      ],
      "text/plain": [
       "  Department   Name         Phone\n",
       "0  Marketing  Alice  555-123-4567\n",
       "1   Accounts    Bob  555-987-6543\n",
       "2         HR  Carol  555-245-6789"
      ]
     },
     "execution_count": 78,
     "metadata": {},
     "output_type": "execute_result"
    }
   ],
   "source": [
    "staff.drop([\"Fulltime\"], axis=1)"
   ]
  },
  {
   "cell_type": "markdown",
   "metadata": {},
   "source": [
    "Another way to remove a column in-place is to use `del`:"
   ]
  },
  {
   "cell_type": "code",
   "execution_count": 79,
   "metadata": {},
   "outputs": [
    {
     "data": {
      "text/html": [
       "<div>\n",
       "<style scoped>\n",
       "    .dataframe tbody tr th:only-of-type {\n",
       "        vertical-align: middle;\n",
       "    }\n",
       "\n",
       "    .dataframe tbody tr th {\n",
       "        vertical-align: top;\n",
       "    }\n",
       "\n",
       "    .dataframe thead th {\n",
       "        text-align: right;\n",
       "    }\n",
       "</style>\n",
       "<table border=\"1\" class=\"dataframe\">\n",
       "  <thead>\n",
       "    <tr style=\"text-align: right;\">\n",
       "      <th></th>\n",
       "      <th>Name</th>\n",
       "      <th>Phone</th>\n",
       "      <th>Fulltime</th>\n",
       "    </tr>\n",
       "  </thead>\n",
       "  <tbody>\n",
       "    <tr>\n",
       "      <th>0</th>\n",
       "      <td>Alice</td>\n",
       "      <td>555-123-4567</td>\n",
       "      <td>True</td>\n",
       "    </tr>\n",
       "    <tr>\n",
       "      <th>1</th>\n",
       "      <td>Bob</td>\n",
       "      <td>555-987-6543</td>\n",
       "      <td>True</td>\n",
       "    </tr>\n",
       "    <tr>\n",
       "      <th>2</th>\n",
       "      <td>Carol</td>\n",
       "      <td>555-245-6789</td>\n",
       "      <td>True</td>\n",
       "    </tr>\n",
       "  </tbody>\n",
       "</table>\n",
       "</div>"
      ],
      "text/plain": [
       "    Name         Phone  Fulltime\n",
       "0  Alice  555-123-4567      True\n",
       "1    Bob  555-987-6543      True\n",
       "2  Carol  555-245-6789      True"
      ]
     },
     "execution_count": 79,
     "metadata": {},
     "output_type": "execute_result"
    }
   ],
   "source": [
    "del staff[\"Department\"]\n",
    "staff"
   ]
  },
  {
   "cell_type": "markdown",
   "metadata": {},
   "source": [
    "You can change the index to be some other column. If you want to save the existing index, then first add it as a new column:"
   ]
  },
  {
   "cell_type": "code",
   "execution_count": 80,
   "metadata": {},
   "outputs": [
    {
     "data": {
      "text/html": [
       "<div>\n",
       "<style scoped>\n",
       "    .dataframe tbody tr th:only-of-type {\n",
       "        vertical-align: middle;\n",
       "    }\n",
       "\n",
       "    .dataframe tbody tr th {\n",
       "        vertical-align: top;\n",
       "    }\n",
       "\n",
       "    .dataframe thead th {\n",
       "        text-align: right;\n",
       "    }\n",
       "</style>\n",
       "<table border=\"1\" class=\"dataframe\">\n",
       "  <thead>\n",
       "    <tr style=\"text-align: right;\">\n",
       "      <th></th>\n",
       "      <th>Name</th>\n",
       "      <th>Phone</th>\n",
       "      <th>Fulltime</th>\n",
       "      <th>Number</th>\n",
       "    </tr>\n",
       "  </thead>\n",
       "  <tbody>\n",
       "    <tr>\n",
       "      <th>0</th>\n",
       "      <td>Alice</td>\n",
       "      <td>555-123-4567</td>\n",
       "      <td>True</td>\n",
       "      <td>0</td>\n",
       "    </tr>\n",
       "    <tr>\n",
       "      <th>1</th>\n",
       "      <td>Bob</td>\n",
       "      <td>555-987-6543</td>\n",
       "      <td>True</td>\n",
       "      <td>1</td>\n",
       "    </tr>\n",
       "    <tr>\n",
       "      <th>2</th>\n",
       "      <td>Carol</td>\n",
       "      <td>555-245-6789</td>\n",
       "      <td>True</td>\n",
       "      <td>2</td>\n",
       "    </tr>\n",
       "  </tbody>\n",
       "</table>\n",
       "</div>"
      ],
      "text/plain": [
       "    Name         Phone  Fulltime  Number\n",
       "0  Alice  555-123-4567      True       0\n",
       "1    Bob  555-987-6543      True       1\n",
       "2  Carol  555-245-6789      True       2"
      ]
     },
     "execution_count": 80,
     "metadata": {},
     "output_type": "execute_result"
    }
   ],
   "source": [
    "staff['Number'] = staff.index\n",
    "staff"
   ]
  },
  {
   "cell_type": "code",
   "execution_count": 81,
   "metadata": {},
   "outputs": [
    {
     "data": {
      "text/html": [
       "<div>\n",
       "<style scoped>\n",
       "    .dataframe tbody tr th:only-of-type {\n",
       "        vertical-align: middle;\n",
       "    }\n",
       "\n",
       "    .dataframe tbody tr th {\n",
       "        vertical-align: top;\n",
       "    }\n",
       "\n",
       "    .dataframe thead th {\n",
       "        text-align: right;\n",
       "    }\n",
       "</style>\n",
       "<table border=\"1\" class=\"dataframe\">\n",
       "  <thead>\n",
       "    <tr style=\"text-align: right;\">\n",
       "      <th></th>\n",
       "      <th>Phone</th>\n",
       "      <th>Fulltime</th>\n",
       "      <th>Number</th>\n",
       "    </tr>\n",
       "    <tr>\n",
       "      <th>Name</th>\n",
       "      <th></th>\n",
       "      <th></th>\n",
       "      <th></th>\n",
       "    </tr>\n",
       "  </thead>\n",
       "  <tbody>\n",
       "    <tr>\n",
       "      <th>Alice</th>\n",
       "      <td>555-123-4567</td>\n",
       "      <td>True</td>\n",
       "      <td>0</td>\n",
       "    </tr>\n",
       "    <tr>\n",
       "      <th>Bob</th>\n",
       "      <td>555-987-6543</td>\n",
       "      <td>True</td>\n",
       "      <td>1</td>\n",
       "    </tr>\n",
       "    <tr>\n",
       "      <th>Carol</th>\n",
       "      <td>555-245-6789</td>\n",
       "      <td>True</td>\n",
       "      <td>2</td>\n",
       "    </tr>\n",
       "  </tbody>\n",
       "</table>\n",
       "</div>"
      ],
      "text/plain": [
       "              Phone  Fulltime  Number\n",
       "Name                                 \n",
       "Alice  555-123-4567      True       0\n",
       "Bob    555-987-6543      True       1\n",
       "Carol  555-245-6789      True       2"
      ]
     },
     "execution_count": 81,
     "metadata": {},
     "output_type": "execute_result"
    }
   ],
   "source": [
    "# Now we can set the new index. This is a destructive\n",
    "# operation that discards the old index, which is\n",
    "# why we saved it as a new column first.\n",
    "staff = staff.set_index('Name')\n",
    "staff"
   ]
  },
  {
   "cell_type": "markdown",
   "metadata": {},
   "source": [
    "Alternatively you can promote the index to a column and go back to a numeric index with `reset_index()`:"
   ]
  },
  {
   "cell_type": "code",
   "execution_count": 82,
   "metadata": {},
   "outputs": [
    {
     "data": {
      "text/html": [
       "<div>\n",
       "<style scoped>\n",
       "    .dataframe tbody tr th:only-of-type {\n",
       "        vertical-align: middle;\n",
       "    }\n",
       "\n",
       "    .dataframe tbody tr th {\n",
       "        vertical-align: top;\n",
       "    }\n",
       "\n",
       "    .dataframe thead th {\n",
       "        text-align: right;\n",
       "    }\n",
       "</style>\n",
       "<table border=\"1\" class=\"dataframe\">\n",
       "  <thead>\n",
       "    <tr style=\"text-align: right;\">\n",
       "      <th></th>\n",
       "      <th>index</th>\n",
       "      <th>0</th>\n",
       "    </tr>\n",
       "  </thead>\n",
       "  <tbody>\n",
       "    <tr>\n",
       "      <th>0</th>\n",
       "      <td>0</td>\n",
       "      <td>2</td>\n",
       "    </tr>\n",
       "    <tr>\n",
       "      <th>1</th>\n",
       "      <td>1</td>\n",
       "      <td>3</td>\n",
       "    </tr>\n",
       "    <tr>\n",
       "      <th>2</th>\n",
       "      <td>2</td>\n",
       "      <td>1</td>\n",
       "    </tr>\n",
       "    <tr>\n",
       "      <th>3</th>\n",
       "      <td>3</td>\n",
       "      <td>4</td>\n",
       "    </tr>\n",
       "    <tr>\n",
       "      <th>4</th>\n",
       "      <td>4</td>\n",
       "      <td>3</td>\n",
       "    </tr>\n",
       "    <tr>\n",
       "      <th>5</th>\n",
       "      <td>5</td>\n",
       "      <td>5</td>\n",
       "    </tr>\n",
       "    <tr>\n",
       "      <th>6</th>\n",
       "      <td>6</td>\n",
       "      <td>2</td>\n",
       "    </tr>\n",
       "    <tr>\n",
       "      <th>7</th>\n",
       "      <td>7</td>\n",
       "      <td>6</td>\n",
       "    </tr>\n",
       "    <tr>\n",
       "      <th>8</th>\n",
       "      <td>8</td>\n",
       "      <td>3</td>\n",
       "    </tr>\n",
       "  </tbody>\n",
       "</table>\n",
       "</div>"
      ],
      "text/plain": [
       "   index  0\n",
       "0      0  2\n",
       "1      1  3\n",
       "2      2  1\n",
       "3      3  4\n",
       "4      4  3\n",
       "5      5  5\n",
       "6      6  2\n",
       "7      7  6\n",
       "8      8  3"
      ]
     },
     "execution_count": 82,
     "metadata": {},
     "output_type": "execute_result"
    }
   ],
   "source": [
    "staff = df.reset_index()\n",
    "staff"
   ]
  },
  {
   "cell_type": "markdown",
   "metadata": {},
   "source": [
    "### Exercise 3\n",
    "\n",
    "Create a DataFrame from the dictionary below:"
   ]
  },
  {
   "cell_type": "code",
   "execution_count": 83,
   "metadata": {},
   "outputs": [],
   "source": [
    "ex3data = {'animal': ['cat', 'cat', 'snake', 'dog', 'dog', 'cat', 'snake', 'cat', 'dog', 'dog'],\n",
    "           'age': [2.5, 3, 0.5, np.nan, 5, 2, 4.5, np.nan, 7, 3],\n",
    "           'visits': [1, 3, 2, 3, 2, 3, 1, 1, 2, 1],\n",
    "           'priority': ['yes', 'yes', 'no', 'yes', 'no', 'no', 'no', 'yes', 'no', 'no']}"
   ]
  },
  {
   "cell_type": "markdown",
   "metadata": {},
   "source": [
    "Then:\n",
    "\n",
    "- Generate a summary of the data\n",
    "- Calculate the sum of all visits (the total number of visits).\n"
   ]
  },
  {
   "cell_type": "markdown",
   "metadata": {},
   "source": [
    "### More on Indexing\n",
    "\n",
    "The Pandas Index type can be thought of as an immutable ordered multiset (multiset as indices need not be unique). The immutability makes it safe to share an index between multiple columns of a DataFrame. The set-like properties are useful for things like joins (a join is like an intersection between Indexes). There are dict-like properties (index by label) and list-like properties too (index by location). \n",
    "\n",
    "Indexes are complicated but understanding them is key to leveraging the power of pandas. Let's look at some example operations to get more familiar with how they work:"
   ]
  },
  {
   "cell_type": "code",
   "execution_count": 84,
   "metadata": {},
   "outputs": [],
   "source": [
    "# Let's create two Indexes for experimentation\n",
    "\n",
    "i1 = pd.Index([1, 3, 5, 7, 9])\n",
    "i2 = pd.Index([2, 3, 5, 7, 11])"
   ]
  },
  {
   "cell_type": "markdown",
   "metadata": {},
   "source": [
    "You can index like a list with `[]`:"
   ]
  },
  {
   "cell_type": "code",
   "execution_count": 85,
   "metadata": {},
   "outputs": [
    {
     "data": {
      "text/plain": [
       "5"
      ]
     },
     "execution_count": 85,
     "metadata": {},
     "output_type": "execute_result"
    }
   ],
   "source": [
    "i1[2]"
   ]
  },
  {
   "cell_type": "markdown",
   "metadata": {},
   "source": [
    "You can also slice like a list:"
   ]
  },
  {
   "cell_type": "code",
   "execution_count": 86,
   "metadata": {},
   "outputs": [
    {
     "data": {
      "text/plain": [
       "Int64Index([5, 7, 9], dtype='int64')"
      ]
     },
     "execution_count": 86,
     "metadata": {},
     "output_type": "execute_result"
    }
   ],
   "source": [
    "i1[2:5]"
   ]
  },
  {
   "cell_type": "markdown",
   "metadata": {},
   "source": [
    "The normal Python bitwise operators have set-like behavior on indices; this is very useful when comparing two dataframes that have similar indexes:"
   ]
  },
  {
   "cell_type": "code",
   "execution_count": 87,
   "metadata": {},
   "outputs": [
    {
     "data": {
      "text/plain": [
       "Int64Index([3, 5, 7], dtype='int64')"
      ]
     },
     "execution_count": 87,
     "metadata": {},
     "output_type": "execute_result"
    }
   ],
   "source": [
    "i1 & i2  # Intersection"
   ]
  },
  {
   "cell_type": "code",
   "execution_count": 88,
   "metadata": {},
   "outputs": [
    {
     "data": {
      "text/plain": [
       "Int64Index([1, 2, 3, 5, 7, 9, 11], dtype='int64')"
      ]
     },
     "execution_count": 88,
     "metadata": {},
     "output_type": "execute_result"
    }
   ],
   "source": [
    "i1 | i2  # Union"
   ]
  },
  {
   "cell_type": "code",
   "execution_count": 89,
   "metadata": {},
   "outputs": [
    {
     "data": {
      "text/plain": [
       "Int64Index([1, 2, 9, 11], dtype='int64')"
      ]
     },
     "execution_count": 89,
     "metadata": {},
     "output_type": "execute_result"
    }
   ],
   "source": [
    "i1 ^ i2  # Difference"
   ]
  },
  {
   "cell_type": "markdown",
   "metadata": {},
   "source": [
    "Series and DataFrames have an explicit Index but they also have an implicit index like a list. When using the `[]` operator, the type of the argument will determine which index is used:"
   ]
  },
  {
   "cell_type": "code",
   "execution_count": 90,
   "metadata": {},
   "outputs": [
    {
     "name": "stdout",
     "output_type": "stream",
     "text": [
      "1\n",
      "2\n"
     ]
    }
   ],
   "source": [
    "s = pd.Series([1, 2], index=[\"1\", \"2\"])\n",
    "print(s[\"1\"])  # matches index type; use explicit\n",
    "print(s[1])  # integer doesn't match index type; use implicit positional"
   ]
  },
  {
   "cell_type": "markdown",
   "metadata": {},
   "source": [
    "If the explicit Index uses integer values things can get confusing. In such cases it is good to make your intent explicit; there are attributes for this:\n",
    "\n",
    "- `.loc` references the explicit Index\n",
    "- `.iloc` references the implicit Index; i.e. a positional index 0, 1, 2,...\n",
    "\n",
    "The Python way is \"explicit is better than implicit\" so when indexing/slicing it is better to use these. The example below illustrates the difference:"
   ]
  },
  {
   "cell_type": "code",
   "execution_count": 91,
   "metadata": {},
   "outputs": [
    {
     "name": "stdout",
     "output_type": "stream",
     "text": [
      "Item at explicit index 1 is first\n",
      "Item at implicit index 1 is second\n",
      "1     first\n",
      "2    second\n",
      "3     third\n",
      "dtype: object\n",
      "2    second\n",
      "3     third\n",
      "dtype: object\n"
     ]
    }
   ],
   "source": [
    "# Note: explicit index starts at 1; implicit index starts at 0\n",
    "nums = pd.Series(['first', 'second', 'third', 'fourth'], index=[1, 2, 3, 4]) \n",
    "\n",
    "print(f'Item at explicit index 1 is {nums.loc[1]}')\n",
    "print(f'Item at implicit index 1 is {nums.iloc[1]}')\n",
    "print(nums.loc[1:3])\n",
    "print(nums.iloc[1:3])"
   ]
  },
  {
   "cell_type": "markdown",
   "metadata": {},
   "source": [
    "When using `.iloc`, the expression in `[]` can be:\n",
    "\n",
    "* an integer, a list of integers, or a slice object (e.g. `1:7`)\n",
    "* a Boolean array (see Filtering section below for why this is very useful)\n",
    "* a function with one argument (the calling object) that returns one of the above\n",
    "\n",
    "Selecting outside of the bounds of the object will raise an IndexError except when using slicing.\n",
    "\n",
    "When using `.loc`, the expression in `[]` can be:\n",
    "\n",
    "* an label, a list of labels, or a slice object with labels (e.g. `'a':'f'`; unlike normal slices the stop label is included in the slice)\n",
    "* a Boolean array\n",
    "* a function with one argument (the calling object) that returns one of the above\n",
    "\n",
    "You can use one or two dimensions in `[]` after `.loc` or `.iloc` depending on whether you want to select a subset of rows, columns, or both."
   ]
  },
  {
   "cell_type": "markdown",
   "metadata": {},
   "source": [
    "You can use the `set_index` method to change the index of a DataFrame.\n",
    "\n",
    "If you want to change entries in a DataFrame selectively to some other value, you can use assignment with indexing, such as:\n",
    "\n",
    "```python\n",
    "df.loc[row_indexer, column_indexer] = value\n",
    "```\n",
    "\n",
    "_Don't_ use:\n",
    "\n",
    "```python\n",
    "df[row_indexer][column_indexer] = value\n",
    "```\n",
    "\n",
    "That _chained indexing_ can result in copies being made which will not have the effect you expect. You want to do all your indexing in one operation. See the details at https://pandas.pydata.org/pandas-docs/stable/indexing.html\n",
    "    \n",
    " ### Exercise 4\n",
    " \n",
    " Using the same DataFrame from Exercise 3:\n",
    " \n",
    " - Select just the 'animal' and 'age' columns from the DataFrame\n",
    " - Select the data in rows [3, 5, 7] and in columns ['animal', 'age']\n",
    " "
   ]
  },
  {
   "cell_type": "markdown",
   "metadata": {},
   "source": [
    "### Loading/Saving CSV, JSON and Excel Files\n",
    "\n",
    "Use `Pandas.read_csv` to read a CSV file into a dataframe. There are many optional argumemts that you can provide, for example to set or override column headers, skip initial rows, treat first row as containing column headers, specify the type of columns (Pandas will try to infer these otherwise), skip columns, and so on. The `parse_dates` argument is especially useful for specifying which columns have date fields as Pandas doesn't infer these.\n",
    "\n",
    "Full docs are at https://pandas.pydata.org/pandas-docs/stable/generated/pandas.read_csv.html"
   ]
  },
  {
   "cell_type": "code",
   "execution_count": 92,
   "metadata": {},
   "outputs": [
    {
     "data": {
      "text/html": [
       "<div>\n",
       "<style scoped>\n",
       "    .dataframe tbody tr th:only-of-type {\n",
       "        vertical-align: middle;\n",
       "    }\n",
       "\n",
       "    .dataframe tbody tr th {\n",
       "        vertical-align: top;\n",
       "    }\n",
       "\n",
       "    .dataframe thead th {\n",
       "        text-align: right;\n",
       "    }\n",
       "</style>\n",
       "<table border=\"1\" class=\"dataframe\">\n",
       "  <thead>\n",
       "    <tr style=\"text-align: right;\">\n",
       "      <th></th>\n",
       "      <th>cdatetime</th>\n",
       "      <th>address</th>\n",
       "      <th>district</th>\n",
       "      <th>beat</th>\n",
       "      <th>grid</th>\n",
       "      <th>crimedescr</th>\n",
       "      <th>ucr_ncic_code</th>\n",
       "      <th>latitude</th>\n",
       "      <th>longitude</th>\n",
       "    </tr>\n",
       "  </thead>\n",
       "  <tbody>\n",
       "    <tr>\n",
       "      <th>0</th>\n",
       "      <td>2006-01-01</td>\n",
       "      <td>3108 OCCIDENTAL DR</td>\n",
       "      <td>3</td>\n",
       "      <td>3C</td>\n",
       "      <td>1115</td>\n",
       "      <td>10851(A)VC TAKE VEH W/O OWNER</td>\n",
       "      <td>2404</td>\n",
       "      <td>38.550420</td>\n",
       "      <td>-121.391416</td>\n",
       "    </tr>\n",
       "    <tr>\n",
       "      <th>1</th>\n",
       "      <td>2006-01-01</td>\n",
       "      <td>2082 EXPEDITION WAY</td>\n",
       "      <td>5</td>\n",
       "      <td>5A</td>\n",
       "      <td>1512</td>\n",
       "      <td>459 PC  BURGLARY RESIDENCE</td>\n",
       "      <td>2204</td>\n",
       "      <td>38.473501</td>\n",
       "      <td>-121.490186</td>\n",
       "    </tr>\n",
       "    <tr>\n",
       "      <th>2</th>\n",
       "      <td>2006-01-01</td>\n",
       "      <td>4 PALEN CT</td>\n",
       "      <td>2</td>\n",
       "      <td>2A</td>\n",
       "      <td>212</td>\n",
       "      <td>10851(A)VC TAKE VEH W/O OWNER</td>\n",
       "      <td>2404</td>\n",
       "      <td>38.657846</td>\n",
       "      <td>-121.462101</td>\n",
       "    </tr>\n",
       "    <tr>\n",
       "      <th>3</th>\n",
       "      <td>2006-01-01</td>\n",
       "      <td>22 BECKFORD CT</td>\n",
       "      <td>6</td>\n",
       "      <td>6C</td>\n",
       "      <td>1443</td>\n",
       "      <td>476 PC PASS FICTICIOUS CHECK</td>\n",
       "      <td>2501</td>\n",
       "      <td>38.506774</td>\n",
       "      <td>-121.426951</td>\n",
       "    </tr>\n",
       "    <tr>\n",
       "      <th>4</th>\n",
       "      <td>2006-01-01</td>\n",
       "      <td>3421 AUBURN BLVD</td>\n",
       "      <td>2</td>\n",
       "      <td>2A</td>\n",
       "      <td>508</td>\n",
       "      <td>459 PC  BURGLARY-UNSPECIFIED</td>\n",
       "      <td>2299</td>\n",
       "      <td>38.637448</td>\n",
       "      <td>-121.384613</td>\n",
       "    </tr>\n",
       "  </tbody>\n",
       "</table>\n",
       "</div>"
      ],
      "text/plain": [
       "   cdatetime              address  district        beat  grid  \\\n",
       "0 2006-01-01   3108 OCCIDENTAL DR         3  3C          1115   \n",
       "1 2006-01-01  2082 EXPEDITION WAY         5  5A          1512   \n",
       "2 2006-01-01           4 PALEN CT         2  2A           212   \n",
       "3 2006-01-01       22 BECKFORD CT         6  6C          1443   \n",
       "4 2006-01-01     3421 AUBURN BLVD         2  2A           508   \n",
       "\n",
       "                      crimedescr  ucr_ncic_code   latitude   longitude  \n",
       "0  10851(A)VC TAKE VEH W/O OWNER           2404  38.550420 -121.391416  \n",
       "1     459 PC  BURGLARY RESIDENCE           2204  38.473501 -121.490186  \n",
       "2  10851(A)VC TAKE VEH W/O OWNER           2404  38.657846 -121.462101  \n",
       "3   476 PC PASS FICTICIOUS CHECK           2501  38.506774 -121.426951  \n",
       "4   459 PC  BURGLARY-UNSPECIFIED           2299  38.637448 -121.384613  "
      ]
     },
     "execution_count": 92,
     "metadata": {},
     "output_type": "execute_result"
    }
   ],
   "source": [
    "crime = pd.read_csv('http://samplecsvs.s3.amazonaws.com/SacramentocrimeJanuary2006.csv',\n",
    "                    parse_dates=['cdatetime'])\n",
    "crime.head()"
   ]
  },
  {
   "cell_type": "markdown",
   "metadata": {},
   "source": [
    "If you need to do some preprocessing of a field during loading you can use the `converters` argument which takes a dictionary mapping the field names to functions that transform the field. E.g. if you had a string field `zip` and you wanted to take just the first 3 digits, you could use:\n",
    "\n",
    "```python\n",
    "..., converters={'zip': lambda x: x[:3]}, ...\n",
    "```\n",
    "\n",
    "If you know what types to expect for the columns, you can (and, IMO, you should) pass a dictionary in with the `types` argument that maps field names to NumPy types, to override the type inference. You can see details of NumPy scalar types here: https://docs.scipy.org/doc/numpy-1.13.0/reference/arrays.scalars.html. Omit any fields that you may have already included in the `parse_dates` argument.\n",
    "\n",
    "By default the first line is expected to contain the column headers. If it doesn't you can specify them yourself, using arguments such as:\n",
    "\n",
    "```python\n",
    "..., header=None, names=['column1name','column2name'], ...\n",
    "```\n",
    "\n",
    "If the separator is not a comma, use the `sep` argument; e.g. for a TAB-separated file:\n",
    "\n",
    "```python\n",
    "..., sep='\\t', ...\n",
    "```\n",
    "\n",
    "Use `Pandas.read_excel` to load spreadsheet data. Full details here: https://pandas.pydata.org/pandas-docs/stable/generated/pandas.read_excel.html"
   ]
  },
  {
   "cell_type": "code",
   "execution_count": 2,
   "metadata": {},
   "outputs": [
    {
     "data": {
      "text/html": [
       "<div>\n",
       "<style scoped>\n",
       "    .dataframe tbody tr th:only-of-type {\n",
       "        vertical-align: middle;\n",
       "    }\n",
       "\n",
       "    .dataframe tbody tr th {\n",
       "        vertical-align: top;\n",
       "    }\n",
       "\n",
       "    .dataframe thead th {\n",
       "        text-align: right;\n",
       "    }\n",
       "</style>\n",
       "<table border=\"1\" class=\"dataframe\">\n",
       "  <thead>\n",
       "    <tr style=\"text-align: right;\">\n",
       "      <th></th>\n",
       "      <th>pclass</th>\n",
       "      <th>survived</th>\n",
       "      <th>name</th>\n",
       "      <th>sex</th>\n",
       "      <th>age</th>\n",
       "      <th>sibsp</th>\n",
       "      <th>parch</th>\n",
       "      <th>ticket</th>\n",
       "      <th>fare</th>\n",
       "      <th>cabin</th>\n",
       "      <th>embarked</th>\n",
       "      <th>boat</th>\n",
       "      <th>body</th>\n",
       "      <th>home.dest</th>\n",
       "    </tr>\n",
       "  </thead>\n",
       "  <tbody>\n",
       "    <tr>\n",
       "      <th>0</th>\n",
       "      <td>1</td>\n",
       "      <td>1</td>\n",
       "      <td>Allen, Miss. Elisabeth Walton</td>\n",
       "      <td>female</td>\n",
       "      <td>29.0000</td>\n",
       "      <td>0</td>\n",
       "      <td>0</td>\n",
       "      <td>24160</td>\n",
       "      <td>211.3375</td>\n",
       "      <td>B5</td>\n",
       "      <td>S</td>\n",
       "      <td>2</td>\n",
       "      <td>NaN</td>\n",
       "      <td>St Louis, MO</td>\n",
       "    </tr>\n",
       "    <tr>\n",
       "      <th>1</th>\n",
       "      <td>1</td>\n",
       "      <td>1</td>\n",
       "      <td>Allison, Master. Hudson Trevor</td>\n",
       "      <td>male</td>\n",
       "      <td>0.9167</td>\n",
       "      <td>1</td>\n",
       "      <td>2</td>\n",
       "      <td>113781</td>\n",
       "      <td>151.5500</td>\n",
       "      <td>C22 C26</td>\n",
       "      <td>S</td>\n",
       "      <td>11</td>\n",
       "      <td>NaN</td>\n",
       "      <td>Montreal, PQ / Chesterville, ON</td>\n",
       "    </tr>\n",
       "    <tr>\n",
       "      <th>2</th>\n",
       "      <td>1</td>\n",
       "      <td>0</td>\n",
       "      <td>Allison, Miss. Helen Loraine</td>\n",
       "      <td>female</td>\n",
       "      <td>2.0000</td>\n",
       "      <td>1</td>\n",
       "      <td>2</td>\n",
       "      <td>113781</td>\n",
       "      <td>151.5500</td>\n",
       "      <td>C22 C26</td>\n",
       "      <td>S</td>\n",
       "      <td>NaN</td>\n",
       "      <td>NaN</td>\n",
       "      <td>Montreal, PQ / Chesterville, ON</td>\n",
       "    </tr>\n",
       "    <tr>\n",
       "      <th>3</th>\n",
       "      <td>1</td>\n",
       "      <td>0</td>\n",
       "      <td>Allison, Mr. Hudson Joshua Creighton</td>\n",
       "      <td>male</td>\n",
       "      <td>30.0000</td>\n",
       "      <td>1</td>\n",
       "      <td>2</td>\n",
       "      <td>113781</td>\n",
       "      <td>151.5500</td>\n",
       "      <td>C22 C26</td>\n",
       "      <td>S</td>\n",
       "      <td>NaN</td>\n",
       "      <td>135.0</td>\n",
       "      <td>Montreal, PQ / Chesterville, ON</td>\n",
       "    </tr>\n",
       "    <tr>\n",
       "      <th>4</th>\n",
       "      <td>1</td>\n",
       "      <td>0</td>\n",
       "      <td>Allison, Mrs. Hudson J C (Bessie Waldo Daniels)</td>\n",
       "      <td>female</td>\n",
       "      <td>25.0000</td>\n",
       "      <td>1</td>\n",
       "      <td>2</td>\n",
       "      <td>113781</td>\n",
       "      <td>151.5500</td>\n",
       "      <td>C22 C26</td>\n",
       "      <td>S</td>\n",
       "      <td>NaN</td>\n",
       "      <td>NaN</td>\n",
       "      <td>Montreal, PQ / Chesterville, ON</td>\n",
       "    </tr>\n",
       "  </tbody>\n",
       "</table>\n",
       "</div>"
      ],
      "text/plain": [
       "   pclass  survived                                             name     sex  \\\n",
       "0       1         1                    Allen, Miss. Elisabeth Walton  female   \n",
       "1       1         1                   Allison, Master. Hudson Trevor    male   \n",
       "2       1         0                     Allison, Miss. Helen Loraine  female   \n",
       "3       1         0             Allison, Mr. Hudson Joshua Creighton    male   \n",
       "4       1         0  Allison, Mrs. Hudson J C (Bessie Waldo Daniels)  female   \n",
       "\n",
       "       age  sibsp  parch  ticket      fare    cabin embarked boat   body  \\\n",
       "0  29.0000      0      0   24160  211.3375       B5        S    2    NaN   \n",
       "1   0.9167      1      2  113781  151.5500  C22 C26        S   11    NaN   \n",
       "2   2.0000      1      2  113781  151.5500  C22 C26        S  NaN    NaN   \n",
       "3  30.0000      1      2  113781  151.5500  C22 C26        S  NaN  135.0   \n",
       "4  25.0000      1      2  113781  151.5500  C22 C26        S  NaN    NaN   \n",
       "\n",
       "                         home.dest  \n",
       "0                     St Louis, MO  \n",
       "1  Montreal, PQ / Chesterville, ON  \n",
       "2  Montreal, PQ / Chesterville, ON  \n",
       "3  Montreal, PQ / Chesterville, ON  \n",
       "4  Montreal, PQ / Chesterville, ON  "
      ]
     },
     "execution_count": 2,
     "metadata": {},
     "output_type": "execute_result"
    }
   ],
   "source": [
    "titanic = pd.read_excel('http://biostat.mc.vanderbilt.edu/wiki/pub/Main/DataSets/titanic3.xls')\n",
    "titanic.head()"
   ]
  },
  {
   "cell_type": "markdown",
   "metadata": {},
   "source": [
    "Use the `DataFrame.to_csv` method to save a DataFrame to a file or `DataFrame.to_excel` to save as a spreadsheet.\n",
    "\n",
    "It's also possible to read JSON data into a DataFrame. The complexity here is that JSON data is typically hierarchical; in order to turn it into a DataFrame the data typically needs to be flattened in some way. This is controlled by an `orient` parameter. For details see https://pandas.pydata.org/pandas-docs/stable/generated/pandas.read_json.html."
   ]
  },
  {
   "cell_type": "markdown",
   "metadata": {},
   "source": [
    "### Sorting\n",
    "\n",
    "You can sort a DataFrame using the `sort_values` method:\n",
    "\n",
    "```python\n",
    "DataFrame.sort_values(by, axis=0, ascending=True, inplace=False, na_position='last')\n",
    "```\n",
    "    \n",
    "The `by` argument should be a column name or list of column names in priority order (if axis=0, i.e. we are sorting the rows, which is typically the case).\n",
    "\n",
    "See https://pandas.pydata.org/pandas-docs/stable/generated/pandas.DataFrame.sort_values.html for the details.\n",
    "    \n",
    "\n",
    "### Filtering\n",
    "\n",
    "A Boolean expression on a Series will return a Series of Booleans:"
   ]
  },
  {
   "cell_type": "code",
   "execution_count": 94,
   "metadata": {},
   "outputs": [
    {
     "data": {
      "text/plain": [
       "0        True\n",
       "1        True\n",
       "2       False\n",
       "3       False\n",
       "4       False\n",
       "5        True\n",
       "6        True\n",
       "7       False\n",
       "8        True\n",
       "9       False\n",
       "10      False\n",
       "11       True\n",
       "12       True\n",
       "13       True\n",
       "14       True\n",
       "15      False\n",
       "16      False\n",
       "17       True\n",
       "18       True\n",
       "19      False\n",
       "20       True\n",
       "21       True\n",
       "22       True\n",
       "23       True\n",
       "24       True\n",
       "25      False\n",
       "26       True\n",
       "27       True\n",
       "28       True\n",
       "29       True\n",
       "        ...  \n",
       "1279    False\n",
       "1280    False\n",
       "1281    False\n",
       "1282    False\n",
       "1283    False\n",
       "1284    False\n",
       "1285    False\n",
       "1286     True\n",
       "1287    False\n",
       "1288    False\n",
       "1289    False\n",
       "1290     True\n",
       "1291    False\n",
       "1292    False\n",
       "1293    False\n",
       "1294    False\n",
       "1295    False\n",
       "1296    False\n",
       "1297    False\n",
       "1298    False\n",
       "1299    False\n",
       "1300     True\n",
       "1301    False\n",
       "1302    False\n",
       "1303    False\n",
       "1304    False\n",
       "1305    False\n",
       "1306    False\n",
       "1307    False\n",
       "1308    False\n",
       "Name: survived, Length: 1309, dtype: bool"
      ]
     },
     "execution_count": 94,
     "metadata": {},
     "output_type": "execute_result"
    }
   ],
   "source": [
    "titanic.survived == 1"
   ]
  },
  {
   "cell_type": "markdown",
   "metadata": {},
   "source": [
    "If you index a Series with a Boolean Series, you will select the items where the index is True. For example:"
   ]
  },
  {
   "cell_type": "code",
   "execution_count": 95,
   "metadata": {},
   "outputs": [
    {
     "data": {
      "text/html": [
       "<div>\n",
       "<style scoped>\n",
       "    .dataframe tbody tr th:only-of-type {\n",
       "        vertical-align: middle;\n",
       "    }\n",
       "\n",
       "    .dataframe tbody tr th {\n",
       "        vertical-align: top;\n",
       "    }\n",
       "\n",
       "    .dataframe thead th {\n",
       "        text-align: right;\n",
       "    }\n",
       "</style>\n",
       "<table border=\"1\" class=\"dataframe\">\n",
       "  <thead>\n",
       "    <tr style=\"text-align: right;\">\n",
       "      <th></th>\n",
       "      <th>pclass</th>\n",
       "      <th>survived</th>\n",
       "      <th>name</th>\n",
       "      <th>sex</th>\n",
       "      <th>age</th>\n",
       "      <th>sibsp</th>\n",
       "      <th>parch</th>\n",
       "      <th>ticket</th>\n",
       "      <th>fare</th>\n",
       "      <th>cabin</th>\n",
       "      <th>embarked</th>\n",
       "      <th>boat</th>\n",
       "      <th>body</th>\n",
       "      <th>home.dest</th>\n",
       "    </tr>\n",
       "  </thead>\n",
       "  <tbody>\n",
       "    <tr>\n",
       "      <th>0</th>\n",
       "      <td>1</td>\n",
       "      <td>1</td>\n",
       "      <td>Allen, Miss. Elisabeth Walton</td>\n",
       "      <td>female</td>\n",
       "      <td>29.0000</td>\n",
       "      <td>0</td>\n",
       "      <td>0</td>\n",
       "      <td>24160</td>\n",
       "      <td>211.3375</td>\n",
       "      <td>B5</td>\n",
       "      <td>S</td>\n",
       "      <td>2</td>\n",
       "      <td>NaN</td>\n",
       "      <td>St Louis, MO</td>\n",
       "    </tr>\n",
       "    <tr>\n",
       "      <th>1</th>\n",
       "      <td>1</td>\n",
       "      <td>1</td>\n",
       "      <td>Allison, Master. Hudson Trevor</td>\n",
       "      <td>male</td>\n",
       "      <td>0.9167</td>\n",
       "      <td>1</td>\n",
       "      <td>2</td>\n",
       "      <td>113781</td>\n",
       "      <td>151.5500</td>\n",
       "      <td>C22 C26</td>\n",
       "      <td>S</td>\n",
       "      <td>11</td>\n",
       "      <td>NaN</td>\n",
       "      <td>Montreal, PQ / Chesterville, ON</td>\n",
       "    </tr>\n",
       "    <tr>\n",
       "      <th>5</th>\n",
       "      <td>1</td>\n",
       "      <td>1</td>\n",
       "      <td>Anderson, Mr. Harry</td>\n",
       "      <td>male</td>\n",
       "      <td>48.0000</td>\n",
       "      <td>0</td>\n",
       "      <td>0</td>\n",
       "      <td>19952</td>\n",
       "      <td>26.5500</td>\n",
       "      <td>E12</td>\n",
       "      <td>S</td>\n",
       "      <td>3</td>\n",
       "      <td>NaN</td>\n",
       "      <td>New York, NY</td>\n",
       "    </tr>\n",
       "    <tr>\n",
       "      <th>6</th>\n",
       "      <td>1</td>\n",
       "      <td>1</td>\n",
       "      <td>Andrews, Miss. Kornelia Theodosia</td>\n",
       "      <td>female</td>\n",
       "      <td>63.0000</td>\n",
       "      <td>1</td>\n",
       "      <td>0</td>\n",
       "      <td>13502</td>\n",
       "      <td>77.9583</td>\n",
       "      <td>D7</td>\n",
       "      <td>S</td>\n",
       "      <td>10</td>\n",
       "      <td>NaN</td>\n",
       "      <td>Hudson, NY</td>\n",
       "    </tr>\n",
       "    <tr>\n",
       "      <th>8</th>\n",
       "      <td>1</td>\n",
       "      <td>1</td>\n",
       "      <td>Appleton, Mrs. Edward Dale (Charlotte Lamson)</td>\n",
       "      <td>female</td>\n",
       "      <td>53.0000</td>\n",
       "      <td>2</td>\n",
       "      <td>0</td>\n",
       "      <td>11769</td>\n",
       "      <td>51.4792</td>\n",
       "      <td>C101</td>\n",
       "      <td>S</td>\n",
       "      <td>D</td>\n",
       "      <td>NaN</td>\n",
       "      <td>Bayside, Queens, NY</td>\n",
       "    </tr>\n",
       "  </tbody>\n",
       "</table>\n",
       "</div>"
      ],
      "text/plain": [
       "   pclass  survived                                           name     sex  \\\n",
       "0       1         1                  Allen, Miss. Elisabeth Walton  female   \n",
       "1       1         1                 Allison, Master. Hudson Trevor    male   \n",
       "5       1         1                            Anderson, Mr. Harry    male   \n",
       "6       1         1              Andrews, Miss. Kornelia Theodosia  female   \n",
       "8       1         1  Appleton, Mrs. Edward Dale (Charlotte Lamson)  female   \n",
       "\n",
       "       age  sibsp  parch  ticket      fare    cabin embarked boat  body  \\\n",
       "0  29.0000      0      0   24160  211.3375       B5        S    2   NaN   \n",
       "1   0.9167      1      2  113781  151.5500  C22 C26        S   11   NaN   \n",
       "5  48.0000      0      0   19952   26.5500      E12        S    3   NaN   \n",
       "6  63.0000      1      0   13502   77.9583       D7        S   10   NaN   \n",
       "8  53.0000      2      0   11769   51.4792     C101        S    D   NaN   \n",
       "\n",
       "                         home.dest  \n",
       "0                     St Louis, MO  \n",
       "1  Montreal, PQ / Chesterville, ON  \n",
       "5                     New York, NY  \n",
       "6                       Hudson, NY  \n",
       "8              Bayside, Queens, NY  "
      ]
     },
     "execution_count": 95,
     "metadata": {},
     "output_type": "execute_result"
    }
   ],
   "source": [
    "titanic[titanic.survived == 1].head()"
   ]
  },
  {
   "cell_type": "markdown",
   "metadata": {},
   "source": [
    "You can combine these with `&` (and) and `|` (or). Pandas uses these bitwise operators because Python allows them to be overloaded while 'and' and 'or' cannot be, and in any event they arguably make sense as they are operating on Boolean series which are similar to bit vectors.\n",
    "\n",
    "As `&` and `|` have higher operator precedence than relational operators like `>` and `==`, the subexpressions we use with them need to be enclosed in parentheses:"
   ]
  },
  {
   "cell_type": "code",
   "execution_count": 96,
   "metadata": {},
   "outputs": [
    {
     "data": {
      "text/html": [
       "<div>\n",
       "<style scoped>\n",
       "    .dataframe tbody tr th:only-of-type {\n",
       "        vertical-align: middle;\n",
       "    }\n",
       "\n",
       "    .dataframe tbody tr th {\n",
       "        vertical-align: top;\n",
       "    }\n",
       "\n",
       "    .dataframe thead th {\n",
       "        text-align: right;\n",
       "    }\n",
       "</style>\n",
       "<table border=\"1\" class=\"dataframe\">\n",
       "  <thead>\n",
       "    <tr style=\"text-align: right;\">\n",
       "      <th></th>\n",
       "      <th>pclass</th>\n",
       "      <th>survived</th>\n",
       "      <th>name</th>\n",
       "      <th>sex</th>\n",
       "      <th>age</th>\n",
       "      <th>sibsp</th>\n",
       "      <th>parch</th>\n",
       "      <th>ticket</th>\n",
       "      <th>fare</th>\n",
       "      <th>cabin</th>\n",
       "      <th>embarked</th>\n",
       "      <th>boat</th>\n",
       "      <th>body</th>\n",
       "      <th>home.dest</th>\n",
       "    </tr>\n",
       "  </thead>\n",
       "  <tbody>\n",
       "    <tr>\n",
       "      <th>6</th>\n",
       "      <td>1</td>\n",
       "      <td>1</td>\n",
       "      <td>Andrews, Miss. Kornelia Theodosia</td>\n",
       "      <td>female</td>\n",
       "      <td>63.0</td>\n",
       "      <td>1</td>\n",
       "      <td>0</td>\n",
       "      <td>13502</td>\n",
       "      <td>77.9583</td>\n",
       "      <td>D7</td>\n",
       "      <td>S</td>\n",
       "      <td>10</td>\n",
       "      <td>NaN</td>\n",
       "      <td>Hudson, NY</td>\n",
       "    </tr>\n",
       "    <tr>\n",
       "      <th>8</th>\n",
       "      <td>1</td>\n",
       "      <td>1</td>\n",
       "      <td>Appleton, Mrs. Edward Dale (Charlotte Lamson)</td>\n",
       "      <td>female</td>\n",
       "      <td>53.0</td>\n",
       "      <td>2</td>\n",
       "      <td>0</td>\n",
       "      <td>11769</td>\n",
       "      <td>51.4792</td>\n",
       "      <td>C101</td>\n",
       "      <td>S</td>\n",
       "      <td>D</td>\n",
       "      <td>NaN</td>\n",
       "      <td>Bayside, Queens, NY</td>\n",
       "    </tr>\n",
       "    <tr>\n",
       "      <th>33</th>\n",
       "      <td>1</td>\n",
       "      <td>1</td>\n",
       "      <td>Bonnell, Miss. Elizabeth</td>\n",
       "      <td>female</td>\n",
       "      <td>58.0</td>\n",
       "      <td>0</td>\n",
       "      <td>0</td>\n",
       "      <td>113783</td>\n",
       "      <td>26.5500</td>\n",
       "      <td>C103</td>\n",
       "      <td>S</td>\n",
       "      <td>8</td>\n",
       "      <td>NaN</td>\n",
       "      <td>Birkdale, England Cleveland, Ohio</td>\n",
       "    </tr>\n",
       "    <tr>\n",
       "      <th>42</th>\n",
       "      <td>1</td>\n",
       "      <td>1</td>\n",
       "      <td>Brown, Mrs. John Murray (Caroline Lane Lamson)</td>\n",
       "      <td>female</td>\n",
       "      <td>59.0</td>\n",
       "      <td>2</td>\n",
       "      <td>0</td>\n",
       "      <td>11769</td>\n",
       "      <td>51.4792</td>\n",
       "      <td>C101</td>\n",
       "      <td>S</td>\n",
       "      <td>D</td>\n",
       "      <td>NaN</td>\n",
       "      <td>Belmont, MA</td>\n",
       "    </tr>\n",
       "    <tr>\n",
       "      <th>43</th>\n",
       "      <td>1</td>\n",
       "      <td>1</td>\n",
       "      <td>Bucknell, Mrs. William Robert (Emma Eliza Ward)</td>\n",
       "      <td>female</td>\n",
       "      <td>60.0</td>\n",
       "      <td>0</td>\n",
       "      <td>0</td>\n",
       "      <td>11813</td>\n",
       "      <td>76.2917</td>\n",
       "      <td>D15</td>\n",
       "      <td>C</td>\n",
       "      <td>8</td>\n",
       "      <td>NaN</td>\n",
       "      <td>Philadelphia, PA</td>\n",
       "    </tr>\n",
       "  </tbody>\n",
       "</table>\n",
       "</div>"
      ],
      "text/plain": [
       "    pclass  survived                                             name     sex  \\\n",
       "6        1         1                Andrews, Miss. Kornelia Theodosia  female   \n",
       "8        1         1    Appleton, Mrs. Edward Dale (Charlotte Lamson)  female   \n",
       "33       1         1                         Bonnell, Miss. Elizabeth  female   \n",
       "42       1         1   Brown, Mrs. John Murray (Caroline Lane Lamson)  female   \n",
       "43       1         1  Bucknell, Mrs. William Robert (Emma Eliza Ward)  female   \n",
       "\n",
       "     age  sibsp  parch  ticket     fare cabin embarked boat  body  \\\n",
       "6   63.0      1      0   13502  77.9583    D7        S   10   NaN   \n",
       "8   53.0      2      0   11769  51.4792  C101        S    D   NaN   \n",
       "33  58.0      0      0  113783  26.5500  C103        S    8   NaN   \n",
       "42  59.0      2      0   11769  51.4792  C101        S    D   NaN   \n",
       "43  60.0      0      0   11813  76.2917   D15        C    8   NaN   \n",
       "\n",
       "                            home.dest  \n",
       "6                          Hudson, NY  \n",
       "8                 Bayside, Queens, NY  \n",
       "33  Birkdale, England Cleveland, Ohio  \n",
       "42                        Belmont, MA  \n",
       "43                   Philadelphia, PA  "
      ]
     },
     "execution_count": 96,
     "metadata": {},
     "output_type": "execute_result"
    }
   ],
   "source": [
    "titanic[titanic.survived & (titanic.sex == 'female') & (titanic.age > 50)].head()"
   ]
  },
  {
   "cell_type": "markdown",
   "metadata": {},
   "source": [
    "NumPy itself also supports such Boolean filtering; for example:"
   ]
  },
  {
   "cell_type": "code",
   "execution_count": 97,
   "metadata": {},
   "outputs": [
    {
     "data": {
      "text/plain": [
       "array([4, 5])"
      ]
     },
     "execution_count": 97,
     "metadata": {},
     "output_type": "execute_result"
    }
   ],
   "source": [
    "s = np.array([3, 2, 4, 1, 5])\n",
    "s[s > np.mean(s)]  # Get the values above the mean"
   ]
  },
  {
   "cell_type": "markdown",
   "metadata": {},
   "source": [
    "### Handling Missing Data\n",
    "\n",
    "To see if there are missing values, we can use isnull() to get a DataFrame where there are null values:"
   ]
  },
  {
   "cell_type": "code",
   "execution_count": 98,
   "metadata": {},
   "outputs": [
    {
     "data": {
      "text/html": [
       "<div>\n",
       "<style scoped>\n",
       "    .dataframe tbody tr th:only-of-type {\n",
       "        vertical-align: middle;\n",
       "    }\n",
       "\n",
       "    .dataframe tbody tr th {\n",
       "        vertical-align: top;\n",
       "    }\n",
       "\n",
       "    .dataframe thead th {\n",
       "        text-align: right;\n",
       "    }\n",
       "</style>\n",
       "<table border=\"1\" class=\"dataframe\">\n",
       "  <thead>\n",
       "    <tr style=\"text-align: right;\">\n",
       "      <th></th>\n",
       "      <th>pclass</th>\n",
       "      <th>survived</th>\n",
       "      <th>name</th>\n",
       "      <th>sex</th>\n",
       "      <th>age</th>\n",
       "      <th>sibsp</th>\n",
       "      <th>parch</th>\n",
       "      <th>ticket</th>\n",
       "      <th>fare</th>\n",
       "      <th>cabin</th>\n",
       "      <th>embarked</th>\n",
       "      <th>boat</th>\n",
       "      <th>body</th>\n",
       "      <th>home.dest</th>\n",
       "    </tr>\n",
       "  </thead>\n",
       "  <tbody>\n",
       "    <tr>\n",
       "      <th>0</th>\n",
       "      <td>False</td>\n",
       "      <td>False</td>\n",
       "      <td>False</td>\n",
       "      <td>False</td>\n",
       "      <td>False</td>\n",
       "      <td>False</td>\n",
       "      <td>False</td>\n",
       "      <td>False</td>\n",
       "      <td>False</td>\n",
       "      <td>False</td>\n",
       "      <td>False</td>\n",
       "      <td>False</td>\n",
       "      <td>True</td>\n",
       "      <td>False</td>\n",
       "    </tr>\n",
       "    <tr>\n",
       "      <th>1</th>\n",
       "      <td>False</td>\n",
       "      <td>False</td>\n",
       "      <td>False</td>\n",
       "      <td>False</td>\n",
       "      <td>False</td>\n",
       "      <td>False</td>\n",
       "      <td>False</td>\n",
       "      <td>False</td>\n",
       "      <td>False</td>\n",
       "      <td>False</td>\n",
       "      <td>False</td>\n",
       "      <td>False</td>\n",
       "      <td>True</td>\n",
       "      <td>False</td>\n",
       "    </tr>\n",
       "    <tr>\n",
       "      <th>2</th>\n",
       "      <td>False</td>\n",
       "      <td>False</td>\n",
       "      <td>False</td>\n",
       "      <td>False</td>\n",
       "      <td>False</td>\n",
       "      <td>False</td>\n",
       "      <td>False</td>\n",
       "      <td>False</td>\n",
       "      <td>False</td>\n",
       "      <td>False</td>\n",
       "      <td>False</td>\n",
       "      <td>True</td>\n",
       "      <td>True</td>\n",
       "      <td>False</td>\n",
       "    </tr>\n",
       "    <tr>\n",
       "      <th>3</th>\n",
       "      <td>False</td>\n",
       "      <td>False</td>\n",
       "      <td>False</td>\n",
       "      <td>False</td>\n",
       "      <td>False</td>\n",
       "      <td>False</td>\n",
       "      <td>False</td>\n",
       "      <td>False</td>\n",
       "      <td>False</td>\n",
       "      <td>False</td>\n",
       "      <td>False</td>\n",
       "      <td>True</td>\n",
       "      <td>False</td>\n",
       "      <td>False</td>\n",
       "    </tr>\n",
       "    <tr>\n",
       "      <th>4</th>\n",
       "      <td>False</td>\n",
       "      <td>False</td>\n",
       "      <td>False</td>\n",
       "      <td>False</td>\n",
       "      <td>False</td>\n",
       "      <td>False</td>\n",
       "      <td>False</td>\n",
       "      <td>False</td>\n",
       "      <td>False</td>\n",
       "      <td>False</td>\n",
       "      <td>False</td>\n",
       "      <td>True</td>\n",
       "      <td>True</td>\n",
       "      <td>False</td>\n",
       "    </tr>\n",
       "  </tbody>\n",
       "</table>\n",
       "</div>"
      ],
      "text/plain": [
       "   pclass  survived   name    sex    age  sibsp  parch  ticket   fare  cabin  \\\n",
       "0   False     False  False  False  False  False  False   False  False  False   \n",
       "1   False     False  False  False  False  False  False   False  False  False   \n",
       "2   False     False  False  False  False  False  False   False  False  False   \n",
       "3   False     False  False  False  False  False  False   False  False  False   \n",
       "4   False     False  False  False  False  False  False   False  False  False   \n",
       "\n",
       "   embarked   boat   body  home.dest  \n",
       "0     False  False   True      False  \n",
       "1     False  False   True      False  \n",
       "2     False   True   True      False  \n",
       "3     False   True  False      False  \n",
       "4     False   True   True      False  "
      ]
     },
     "execution_count": 98,
     "metadata": {},
     "output_type": "execute_result"
    }
   ],
   "source": [
    "titanic.isnull().head()"
   ]
  },
  {
   "cell_type": "markdown",
   "metadata": {},
   "source": [
    "The above will show us the first few rows that had null values. If we want to know which columns may have nulls, we can use:"
   ]
  },
  {
   "cell_type": "code",
   "execution_count": 99,
   "metadata": {},
   "outputs": [
    {
     "data": {
      "text/plain": [
       "pclass       False\n",
       "survived     False\n",
       "name         False\n",
       "sex          False\n",
       "age           True\n",
       "sibsp        False\n",
       "parch        False\n",
       "ticket       False\n",
       "fare          True\n",
       "cabin         True\n",
       "embarked      True\n",
       "boat          True\n",
       "body          True\n",
       "home.dest     True\n",
       "dtype: bool"
      ]
     },
     "execution_count": 99,
     "metadata": {},
     "output_type": "execute_result"
    }
   ],
   "source": [
    "titanic.isnull().any()"
   ]
  },
  {
   "cell_type": "markdown",
   "metadata": {},
   "source": [
    "`.any()` returns True if any are true; `.all()` returns True if all are true.\n",
    "  \n",
    "To drop rows that have missing values, use dropna(); add `inplace=True` to do it in place."
   ]
  },
  {
   "cell_type": "code",
   "execution_count": 100,
   "metadata": {},
   "outputs": [
    {
     "data": {
      "text/html": [
       "<div>\n",
       "<style scoped>\n",
       "    .dataframe tbody tr th:only-of-type {\n",
       "        vertical-align: middle;\n",
       "    }\n",
       "\n",
       "    .dataframe tbody tr th {\n",
       "        vertical-align: top;\n",
       "    }\n",
       "\n",
       "    .dataframe thead th {\n",
       "        text-align: right;\n",
       "    }\n",
       "</style>\n",
       "<table border=\"1\" class=\"dataframe\">\n",
       "  <thead>\n",
       "    <tr style=\"text-align: right;\">\n",
       "      <th></th>\n",
       "      <th>pclass</th>\n",
       "      <th>survived</th>\n",
       "      <th>name</th>\n",
       "      <th>sex</th>\n",
       "      <th>age</th>\n",
       "      <th>sibsp</th>\n",
       "      <th>parch</th>\n",
       "      <th>ticket</th>\n",
       "      <th>fare</th>\n",
       "      <th>cabin</th>\n",
       "      <th>embarked</th>\n",
       "      <th>boat</th>\n",
       "      <th>body</th>\n",
       "      <th>home.dest</th>\n",
       "    </tr>\n",
       "  </thead>\n",
       "  <tbody>\n",
       "  </tbody>\n",
       "</table>\n",
       "</div>"
      ],
      "text/plain": [
       "Empty DataFrame\n",
       "Columns: [pclass, survived, name, sex, age, sibsp, parch, ticket, fare, cabin, embarked, boat, body, home.dest]\n",
       "Index: []"
      ]
     },
     "execution_count": 100,
     "metadata": {},
     "output_type": "execute_result"
    }
   ],
   "source": [
    "titanic.dropna().head()"
   ]
  },
  {
   "cell_type": "markdown",
   "metadata": {},
   "source": [
    "In this case there are none - no-one could both be on a boat and be a recovered body, so at least one of these fields is always NaN.\n",
    "\n",
    "It may be more useful to be selective. For example, if we want to get the rows in which ticket and cabin are not null:"
   ]
  },
  {
   "cell_type": "code",
   "execution_count": 3,
   "metadata": {},
   "outputs": [
    {
     "data": {
      "text/html": [
       "<div>\n",
       "<style scoped>\n",
       "    .dataframe tbody tr th:only-of-type {\n",
       "        vertical-align: middle;\n",
       "    }\n",
       "\n",
       "    .dataframe tbody tr th {\n",
       "        vertical-align: top;\n",
       "    }\n",
       "\n",
       "    .dataframe thead th {\n",
       "        text-align: right;\n",
       "    }\n",
       "</style>\n",
       "<table border=\"1\" class=\"dataframe\">\n",
       "  <thead>\n",
       "    <tr style=\"text-align: right;\">\n",
       "      <th></th>\n",
       "      <th>pclass</th>\n",
       "      <th>survived</th>\n",
       "      <th>name</th>\n",
       "      <th>sex</th>\n",
       "      <th>age</th>\n",
       "      <th>sibsp</th>\n",
       "      <th>parch</th>\n",
       "      <th>ticket</th>\n",
       "      <th>fare</th>\n",
       "      <th>cabin</th>\n",
       "      <th>embarked</th>\n",
       "      <th>boat</th>\n",
       "      <th>body</th>\n",
       "      <th>home.dest</th>\n",
       "    </tr>\n",
       "  </thead>\n",
       "  <tbody>\n",
       "    <tr>\n",
       "      <th>0</th>\n",
       "      <td>True</td>\n",
       "      <td>True</td>\n",
       "      <td>True</td>\n",
       "      <td>True</td>\n",
       "      <td>True</td>\n",
       "      <td>True</td>\n",
       "      <td>True</td>\n",
       "      <td>True</td>\n",
       "      <td>True</td>\n",
       "      <td>True</td>\n",
       "      <td>True</td>\n",
       "      <td>True</td>\n",
       "      <td>False</td>\n",
       "      <td>True</td>\n",
       "    </tr>\n",
       "    <tr>\n",
       "      <th>1</th>\n",
       "      <td>True</td>\n",
       "      <td>True</td>\n",
       "      <td>True</td>\n",
       "      <td>True</td>\n",
       "      <td>True</td>\n",
       "      <td>True</td>\n",
       "      <td>True</td>\n",
       "      <td>True</td>\n",
       "      <td>True</td>\n",
       "      <td>True</td>\n",
       "      <td>True</td>\n",
       "      <td>True</td>\n",
       "      <td>False</td>\n",
       "      <td>True</td>\n",
       "    </tr>\n",
       "    <tr>\n",
       "      <th>2</th>\n",
       "      <td>True</td>\n",
       "      <td>True</td>\n",
       "      <td>True</td>\n",
       "      <td>True</td>\n",
       "      <td>True</td>\n",
       "      <td>True</td>\n",
       "      <td>True</td>\n",
       "      <td>True</td>\n",
       "      <td>True</td>\n",
       "      <td>True</td>\n",
       "      <td>True</td>\n",
       "      <td>False</td>\n",
       "      <td>False</td>\n",
       "      <td>True</td>\n",
       "    </tr>\n",
       "    <tr>\n",
       "      <th>3</th>\n",
       "      <td>True</td>\n",
       "      <td>True</td>\n",
       "      <td>True</td>\n",
       "      <td>True</td>\n",
       "      <td>True</td>\n",
       "      <td>True</td>\n",
       "      <td>True</td>\n",
       "      <td>True</td>\n",
       "      <td>True</td>\n",
       "      <td>True</td>\n",
       "      <td>True</td>\n",
       "      <td>False</td>\n",
       "      <td>True</td>\n",
       "      <td>True</td>\n",
       "    </tr>\n",
       "    <tr>\n",
       "      <th>4</th>\n",
       "      <td>True</td>\n",
       "      <td>True</td>\n",
       "      <td>True</td>\n",
       "      <td>True</td>\n",
       "      <td>True</td>\n",
       "      <td>True</td>\n",
       "      <td>True</td>\n",
       "      <td>True</td>\n",
       "      <td>True</td>\n",
       "      <td>True</td>\n",
       "      <td>True</td>\n",
       "      <td>False</td>\n",
       "      <td>False</td>\n",
       "      <td>True</td>\n",
       "    </tr>\n",
       "  </tbody>\n",
       "</table>\n",
       "</div>"
      ],
      "text/plain": [
       "   pclass  survived  name   sex   age  sibsp  parch  ticket  fare  cabin  \\\n",
       "0    True      True  True  True  True   True   True    True  True   True   \n",
       "1    True      True  True  True  True   True   True    True  True   True   \n",
       "2    True      True  True  True  True   True   True    True  True   True   \n",
       "3    True      True  True  True  True   True   True    True  True   True   \n",
       "4    True      True  True  True  True   True   True    True  True   True   \n",
       "\n",
       "   embarked   boat   body  home.dest  \n",
       "0      True   True  False       True  \n",
       "1      True   True  False       True  \n",
       "2      True  False  False       True  \n",
       "3      True  False   True       True  \n",
       "4      True  False  False       True  "
      ]
     },
     "execution_count": 3,
     "metadata": {},
     "output_type": "execute_result"
    }
   ],
   "source": [
    "filter = titanic.notnull()\n",
    "filter.head()"
   ]
  },
  {
   "cell_type": "code",
   "execution_count": 101,
   "metadata": {},
   "outputs": [
    {
     "data": {
      "text/html": [
       "<div>\n",
       "<style scoped>\n",
       "    .dataframe tbody tr th:only-of-type {\n",
       "        vertical-align: middle;\n",
       "    }\n",
       "\n",
       "    .dataframe tbody tr th {\n",
       "        vertical-align: top;\n",
       "    }\n",
       "\n",
       "    .dataframe thead th {\n",
       "        text-align: right;\n",
       "    }\n",
       "</style>\n",
       "<table border=\"1\" class=\"dataframe\">\n",
       "  <thead>\n",
       "    <tr style=\"text-align: right;\">\n",
       "      <th></th>\n",
       "      <th>pclass</th>\n",
       "      <th>survived</th>\n",
       "      <th>name</th>\n",
       "      <th>sex</th>\n",
       "      <th>age</th>\n",
       "      <th>sibsp</th>\n",
       "      <th>parch</th>\n",
       "      <th>ticket</th>\n",
       "      <th>fare</th>\n",
       "      <th>cabin</th>\n",
       "      <th>embarked</th>\n",
       "      <th>boat</th>\n",
       "      <th>body</th>\n",
       "      <th>home.dest</th>\n",
       "    </tr>\n",
       "  </thead>\n",
       "  <tbody>\n",
       "    <tr>\n",
       "      <th>0</th>\n",
       "      <td>1</td>\n",
       "      <td>1</td>\n",
       "      <td>Allen, Miss. Elisabeth Walton</td>\n",
       "      <td>female</td>\n",
       "      <td>29.0000</td>\n",
       "      <td>0</td>\n",
       "      <td>0</td>\n",
       "      <td>24160</td>\n",
       "      <td>211.3375</td>\n",
       "      <td>B5</td>\n",
       "      <td>S</td>\n",
       "      <td>2</td>\n",
       "      <td>NaN</td>\n",
       "      <td>St Louis, MO</td>\n",
       "    </tr>\n",
       "    <tr>\n",
       "      <th>1</th>\n",
       "      <td>1</td>\n",
       "      <td>1</td>\n",
       "      <td>Allison, Master. Hudson Trevor</td>\n",
       "      <td>male</td>\n",
       "      <td>0.9167</td>\n",
       "      <td>1</td>\n",
       "      <td>2</td>\n",
       "      <td>113781</td>\n",
       "      <td>151.5500</td>\n",
       "      <td>C22 C26</td>\n",
       "      <td>S</td>\n",
       "      <td>11</td>\n",
       "      <td>NaN</td>\n",
       "      <td>Montreal, PQ / Chesterville, ON</td>\n",
       "    </tr>\n",
       "    <tr>\n",
       "      <th>2</th>\n",
       "      <td>1</td>\n",
       "      <td>0</td>\n",
       "      <td>Allison, Miss. Helen Loraine</td>\n",
       "      <td>female</td>\n",
       "      <td>2.0000</td>\n",
       "      <td>1</td>\n",
       "      <td>2</td>\n",
       "      <td>113781</td>\n",
       "      <td>151.5500</td>\n",
       "      <td>C22 C26</td>\n",
       "      <td>S</td>\n",
       "      <td>NaN</td>\n",
       "      <td>NaN</td>\n",
       "      <td>Montreal, PQ / Chesterville, ON</td>\n",
       "    </tr>\n",
       "    <tr>\n",
       "      <th>3</th>\n",
       "      <td>1</td>\n",
       "      <td>0</td>\n",
       "      <td>Allison, Mr. Hudson Joshua Creighton</td>\n",
       "      <td>male</td>\n",
       "      <td>30.0000</td>\n",
       "      <td>1</td>\n",
       "      <td>2</td>\n",
       "      <td>113781</td>\n",
       "      <td>151.5500</td>\n",
       "      <td>C22 C26</td>\n",
       "      <td>S</td>\n",
       "      <td>NaN</td>\n",
       "      <td>135.0</td>\n",
       "      <td>Montreal, PQ / Chesterville, ON</td>\n",
       "    </tr>\n",
       "    <tr>\n",
       "      <th>4</th>\n",
       "      <td>1</td>\n",
       "      <td>0</td>\n",
       "      <td>Allison, Mrs. Hudson J C (Bessie Waldo Daniels)</td>\n",
       "      <td>female</td>\n",
       "      <td>25.0000</td>\n",
       "      <td>1</td>\n",
       "      <td>2</td>\n",
       "      <td>113781</td>\n",
       "      <td>151.5500</td>\n",
       "      <td>C22 C26</td>\n",
       "      <td>S</td>\n",
       "      <td>NaN</td>\n",
       "      <td>NaN</td>\n",
       "      <td>Montreal, PQ / Chesterville, ON</td>\n",
       "    </tr>\n",
       "  </tbody>\n",
       "</table>\n",
       "</div>"
      ],
      "text/plain": [
       "   pclass  survived                                             name     sex  \\\n",
       "0       1         1                    Allen, Miss. Elisabeth Walton  female   \n",
       "1       1         1                   Allison, Master. Hudson Trevor    male   \n",
       "2       1         0                     Allison, Miss. Helen Loraine  female   \n",
       "3       1         0             Allison, Mr. Hudson Joshua Creighton    male   \n",
       "4       1         0  Allison, Mrs. Hudson J C (Bessie Waldo Daniels)  female   \n",
       "\n",
       "       age  sibsp  parch  ticket      fare    cabin embarked boat   body  \\\n",
       "0  29.0000      0      0   24160  211.3375       B5        S    2    NaN   \n",
       "1   0.9167      1      2  113781  151.5500  C22 C26        S   11    NaN   \n",
       "2   2.0000      1      2  113781  151.5500  C22 C26        S  NaN    NaN   \n",
       "3  30.0000      1      2  113781  151.5500  C22 C26        S  NaN  135.0   \n",
       "4  25.0000      1      2  113781  151.5500  C22 C26        S  NaN    NaN   \n",
       "\n",
       "                         home.dest  \n",
       "0                     St Louis, MO  \n",
       "1  Montreal, PQ / Chesterville, ON  \n",
       "2  Montreal, PQ / Chesterville, ON  \n",
       "3  Montreal, PQ / Chesterville, ON  \n",
       "4  Montreal, PQ / Chesterville, ON  "
      ]
     },
     "execution_count": 101,
     "metadata": {},
     "output_type": "execute_result"
    }
   ],
   "source": [
    "titanic[filter.ticket & filter.cabin].head()"
   ]
  },
  {
   "cell_type": "markdown",
   "metadata": {},
   "source": [
    "We can use `.count()` to get the number of entries in each column that are not null."
   ]
  },
  {
   "cell_type": "code",
   "execution_count": 102,
   "metadata": {},
   "outputs": [
    {
     "data": {
      "text/plain": [
       "pclass       1309\n",
       "survived     1309\n",
       "name         1309\n",
       "sex          1309\n",
       "age          1046\n",
       "sibsp        1309\n",
       "parch        1309\n",
       "ticket       1309\n",
       "fare         1308\n",
       "cabin         295\n",
       "embarked     1307\n",
       "boat          486\n",
       "body          121\n",
       "home.dest     745\n",
       "dtype: int64"
      ]
     },
     "execution_count": 102,
     "metadata": {},
     "output_type": "execute_result"
    }
   ],
   "source": [
    "titanic.count()"
   ]
  },
  {
   "cell_type": "markdown",
   "metadata": {},
   "source": [
    "To replace missing values with values of our choosing, we use `.fillna()`. With a single scalar argument it will replace all null entries in the DataFrame with that value. Usually we will want to be more granular and control which columns are affected in what ways. Let's see if there are rows with no fare specified:"
   ]
  },
  {
   "cell_type": "code",
   "execution_count": 103,
   "metadata": {},
   "outputs": [
    {
     "data": {
      "text/html": [
       "<div>\n",
       "<style scoped>\n",
       "    .dataframe tbody tr th:only-of-type {\n",
       "        vertical-align: middle;\n",
       "    }\n",
       "\n",
       "    .dataframe tbody tr th {\n",
       "        vertical-align: top;\n",
       "    }\n",
       "\n",
       "    .dataframe thead th {\n",
       "        text-align: right;\n",
       "    }\n",
       "</style>\n",
       "<table border=\"1\" class=\"dataframe\">\n",
       "  <thead>\n",
       "    <tr style=\"text-align: right;\">\n",
       "      <th></th>\n",
       "      <th>pclass</th>\n",
       "      <th>survived</th>\n",
       "      <th>name</th>\n",
       "      <th>sex</th>\n",
       "      <th>age</th>\n",
       "      <th>sibsp</th>\n",
       "      <th>parch</th>\n",
       "      <th>ticket</th>\n",
       "      <th>fare</th>\n",
       "      <th>cabin</th>\n",
       "      <th>embarked</th>\n",
       "      <th>boat</th>\n",
       "      <th>body</th>\n",
       "      <th>home.dest</th>\n",
       "    </tr>\n",
       "  </thead>\n",
       "  <tbody>\n",
       "    <tr>\n",
       "      <th>1225</th>\n",
       "      <td>3</td>\n",
       "      <td>0</td>\n",
       "      <td>Storey, Mr. Thomas</td>\n",
       "      <td>male</td>\n",
       "      <td>60.5</td>\n",
       "      <td>0</td>\n",
       "      <td>0</td>\n",
       "      <td>3701</td>\n",
       "      <td>NaN</td>\n",
       "      <td>NaN</td>\n",
       "      <td>S</td>\n",
       "      <td>NaN</td>\n",
       "      <td>261.0</td>\n",
       "      <td>NaN</td>\n",
       "    </tr>\n",
       "  </tbody>\n",
       "</table>\n",
       "</div>"
      ],
      "text/plain": [
       "      pclass  survived                name   sex   age  sibsp  parch ticket  \\\n",
       "1225       3         0  Storey, Mr. Thomas  male  60.5      0      0   3701   \n",
       "\n",
       "      fare cabin embarked boat   body home.dest  \n",
       "1225   NaN   NaN        S  NaN  261.0       NaN  "
      ]
     },
     "execution_count": 103,
     "metadata": {},
     "output_type": "execute_result"
    }
   ],
   "source": [
    "titanic[~filter.fare]"
   ]
  },
  {
   "cell_type": "markdown",
   "metadata": {},
   "source": [
    "We can change the fare to zero by passing a dictionary as the argument rather than a scalar:"
   ]
  },
  {
   "cell_type": "code",
   "execution_count": 104,
   "metadata": {},
   "outputs": [
    {
     "data": {
      "text/html": [
       "<div>\n",
       "<style scoped>\n",
       "    .dataframe tbody tr th:only-of-type {\n",
       "        vertical-align: middle;\n",
       "    }\n",
       "\n",
       "    .dataframe tbody tr th {\n",
       "        vertical-align: top;\n",
       "    }\n",
       "\n",
       "    .dataframe thead th {\n",
       "        text-align: right;\n",
       "    }\n",
       "</style>\n",
       "<table border=\"1\" class=\"dataframe\">\n",
       "  <thead>\n",
       "    <tr style=\"text-align: right;\">\n",
       "      <th></th>\n",
       "      <th>pclass</th>\n",
       "      <th>survived</th>\n",
       "      <th>name</th>\n",
       "      <th>sex</th>\n",
       "      <th>age</th>\n",
       "      <th>sibsp</th>\n",
       "      <th>parch</th>\n",
       "      <th>ticket</th>\n",
       "      <th>fare</th>\n",
       "      <th>cabin</th>\n",
       "      <th>embarked</th>\n",
       "      <th>boat</th>\n",
       "      <th>body</th>\n",
       "      <th>home.dest</th>\n",
       "    </tr>\n",
       "  </thead>\n",
       "  <tbody>\n",
       "    <tr>\n",
       "      <th>1225</th>\n",
       "      <td>3</td>\n",
       "      <td>0</td>\n",
       "      <td>Storey, Mr. Thomas</td>\n",
       "      <td>male</td>\n",
       "      <td>60.5</td>\n",
       "      <td>0</td>\n",
       "      <td>0</td>\n",
       "      <td>3701</td>\n",
       "      <td>0.0</td>\n",
       "      <td>NaN</td>\n",
       "      <td>S</td>\n",
       "      <td>NaN</td>\n",
       "      <td>261.0</td>\n",
       "      <td>NaN</td>\n",
       "    </tr>\n",
       "  </tbody>\n",
       "</table>\n",
       "</div>"
      ],
      "text/plain": [
       "      pclass  survived                name   sex   age  sibsp  parch ticket  \\\n",
       "1225       3         0  Storey, Mr. Thomas  male  60.5      0      0   3701   \n",
       "\n",
       "      fare cabin embarked boat   body home.dest  \n",
       "1225   0.0   NaN        S  NaN  261.0       NaN  "
      ]
     },
     "execution_count": 104,
     "metadata": {},
     "output_type": "execute_result"
    }
   ],
   "source": [
    "titanic.fillna({'fare': 0}, inplace=True)\n",
    "titanic[~filter.fare]"
   ]
  },
  {
   "cell_type": "markdown",
   "metadata": {},
   "source": [
    "We could also use a `method=\"ffill\"` argument for a forward fill or `method=\"bfill\"` argument for a backward fill; these are most useful for time series data. Yet another option is to use the `.interpolate()` method to use interpolation for the missing values; that is beyond the scope of this notebook."
   ]
  },
  {
   "cell_type": "markdown",
   "metadata": {},
   "source": [
    "### Exercise 5\n",
    "\n",
    "Using the previous DataFrame from exercise 3, do the following:\n",
    "\n",
    "- Select only the rows where the number of visits is greater than or equal to 3\n",
    "- Select the rows where the age is missing, i.e. is NaN\n",
    "- Select the rows where the animal is a cat and the age is less than 3\n",
    "- Select the rows the age is between 2 and 4 (inclusive)\n",
    "- Change the index to use this list: `idx = ['a', 'b', 'c', 'd', 'e', 'f', 'g', 'h', 'i', 'j']`\n",
    "- Change the age in row 'f' to 1.5.\n",
    "- Append a new row 'k' to df with your choice of values for each column\n",
    "- Then delete that row to return the original DataFrame"
   ]
  },
  {
   "cell_type": "markdown",
   "metadata": {},
   "source": [
    "### Concatenation\n",
    "\n",
    "`pandas.concat` can be used to concatenate Series and DataFrames:"
   ]
  },
  {
   "cell_type": "code",
   "execution_count": 105,
   "metadata": {},
   "outputs": [
    {
     "data": {
      "text/plain": [
       "0    A\n",
       "1    B\n",
       "2    C\n",
       "0    D\n",
       "1    E\n",
       "2    F\n",
       "dtype: object"
      ]
     },
     "execution_count": 105,
     "metadata": {},
     "output_type": "execute_result"
    }
   ],
   "source": [
    "s1 = pd.Series(['A', 'B', 'C'])\n",
    "s2 = pd.Series(['D', 'E', 'F'])\n",
    "df = pd.concat([s1, s2])\n",
    "df"
   ]
  },
  {
   "cell_type": "markdown",
   "metadata": {},
   "source": [
    "Note that the Indexes are concatenated too, so if you are using a simple row number index you can end up with duplicate values."
   ]
  },
  {
   "cell_type": "code",
   "execution_count": 106,
   "metadata": {},
   "outputs": [
    {
     "data": {
      "text/plain": [
       "2    C\n",
       "2    F\n",
       "dtype: object"
      ]
     },
     "execution_count": 106,
     "metadata": {},
     "output_type": "execute_result"
    }
   ],
   "source": [
    "df[2]"
   ]
  },
  {
   "cell_type": "markdown",
   "metadata": {},
   "source": [
    " If you don't want this behavior use the `ignore_index` argument; a new index will be generated:"
   ]
  },
  {
   "cell_type": "code",
   "execution_count": 107,
   "metadata": {},
   "outputs": [
    {
     "data": {
      "text/plain": [
       "0    A\n",
       "1    B\n",
       "2    C\n",
       "3    D\n",
       "4    E\n",
       "5    F\n",
       "dtype: object"
      ]
     },
     "execution_count": 107,
     "metadata": {},
     "output_type": "execute_result"
    }
   ],
   "source": [
    "pd.concat([s1, s2], ignore_index=True)"
   ]
  },
  {
   "cell_type": "markdown",
   "metadata": {},
   "source": [
    "Alternatively you can use `verify_integrity=True` to cause an exception to be raised if the result would have duplicate indices."
   ]
  },
  {
   "cell_type": "code",
   "execution_count": 108,
   "metadata": {},
   "outputs": [
    {
     "ename": "ValueError",
     "evalue": "Indexes have overlapping values: [0, 1, 2]",
     "output_type": "error",
     "traceback": [
      "\u001b[0;31m---------------------------------------------------------------------------\u001b[0m",
      "\u001b[0;31mValueError\u001b[0m                                Traceback (most recent call last)",
      "\u001b[0;32m<ipython-input-108-c7992d77592a>\u001b[0m in \u001b[0;36m<module>\u001b[0;34m()\u001b[0m\n\u001b[0;32m----> 1\u001b[0;31m \u001b[0mpd\u001b[0m\u001b[0;34m.\u001b[0m\u001b[0mconcat\u001b[0m\u001b[0;34m(\u001b[0m\u001b[0;34m[\u001b[0m\u001b[0ms1\u001b[0m\u001b[0;34m,\u001b[0m \u001b[0ms2\u001b[0m\u001b[0;34m]\u001b[0m\u001b[0;34m,\u001b[0m \u001b[0mverify_integrity\u001b[0m\u001b[0;34m=\u001b[0m\u001b[0;32mTrue\u001b[0m\u001b[0;34m)\u001b[0m\u001b[0;34m\u001b[0m\u001b[0m\n\u001b[0m",
      "\u001b[0;32m~/anaconda/lib/python3.6/site-packages/pandas/core/reshape/concat.py\u001b[0m in \u001b[0;36mconcat\u001b[0;34m(objs, axis, join, join_axes, ignore_index, keys, levels, names, verify_integrity, copy)\u001b[0m\n\u001b[1;32m    210\u001b[0m                        \u001b[0mkeys\u001b[0m\u001b[0;34m=\u001b[0m\u001b[0mkeys\u001b[0m\u001b[0;34m,\u001b[0m \u001b[0mlevels\u001b[0m\u001b[0;34m=\u001b[0m\u001b[0mlevels\u001b[0m\u001b[0;34m,\u001b[0m \u001b[0mnames\u001b[0m\u001b[0;34m=\u001b[0m\u001b[0mnames\u001b[0m\u001b[0;34m,\u001b[0m\u001b[0;34m\u001b[0m\u001b[0m\n\u001b[1;32m    211\u001b[0m                        \u001b[0mverify_integrity\u001b[0m\u001b[0;34m=\u001b[0m\u001b[0mverify_integrity\u001b[0m\u001b[0;34m,\u001b[0m\u001b[0;34m\u001b[0m\u001b[0m\n\u001b[0;32m--> 212\u001b[0;31m                        copy=copy)\n\u001b[0m\u001b[1;32m    213\u001b[0m     \u001b[0;32mreturn\u001b[0m \u001b[0mop\u001b[0m\u001b[0;34m.\u001b[0m\u001b[0mget_result\u001b[0m\u001b[0;34m(\u001b[0m\u001b[0;34m)\u001b[0m\u001b[0;34m\u001b[0m\u001b[0m\n\u001b[1;32m    214\u001b[0m \u001b[0;34m\u001b[0m\u001b[0m\n",
      "\u001b[0;32m~/anaconda/lib/python3.6/site-packages/pandas/core/reshape/concat.py\u001b[0m in \u001b[0;36m__init__\u001b[0;34m(self, objs, axis, join, join_axes, keys, levels, names, ignore_index, verify_integrity, copy)\u001b[0m\n\u001b[1;32m    361\u001b[0m         \u001b[0mself\u001b[0m\u001b[0;34m.\u001b[0m\u001b[0mcopy\u001b[0m \u001b[0;34m=\u001b[0m \u001b[0mcopy\u001b[0m\u001b[0;34m\u001b[0m\u001b[0m\n\u001b[1;32m    362\u001b[0m \u001b[0;34m\u001b[0m\u001b[0m\n\u001b[0;32m--> 363\u001b[0;31m         \u001b[0mself\u001b[0m\u001b[0;34m.\u001b[0m\u001b[0mnew_axes\u001b[0m \u001b[0;34m=\u001b[0m \u001b[0mself\u001b[0m\u001b[0;34m.\u001b[0m\u001b[0m_get_new_axes\u001b[0m\u001b[0;34m(\u001b[0m\u001b[0;34m)\u001b[0m\u001b[0;34m\u001b[0m\u001b[0m\n\u001b[0m\u001b[1;32m    364\u001b[0m \u001b[0;34m\u001b[0m\u001b[0m\n\u001b[1;32m    365\u001b[0m     \u001b[0;32mdef\u001b[0m \u001b[0mget_result\u001b[0m\u001b[0;34m(\u001b[0m\u001b[0mself\u001b[0m\u001b[0;34m)\u001b[0m\u001b[0;34m:\u001b[0m\u001b[0;34m\u001b[0m\u001b[0m\n",
      "\u001b[0;32m~/anaconda/lib/python3.6/site-packages/pandas/core/reshape/concat.py\u001b[0m in \u001b[0;36m_get_new_axes\u001b[0;34m(self)\u001b[0m\n\u001b[1;32m    441\u001b[0m                 \u001b[0mnew_axes\u001b[0m\u001b[0;34m[\u001b[0m\u001b[0mi\u001b[0m\u001b[0;34m]\u001b[0m \u001b[0;34m=\u001b[0m \u001b[0max\u001b[0m\u001b[0;34m\u001b[0m\u001b[0m\n\u001b[1;32m    442\u001b[0m \u001b[0;34m\u001b[0m\u001b[0m\n\u001b[0;32m--> 443\u001b[0;31m         \u001b[0mnew_axes\u001b[0m\u001b[0;34m[\u001b[0m\u001b[0mself\u001b[0m\u001b[0;34m.\u001b[0m\u001b[0maxis\u001b[0m\u001b[0;34m]\u001b[0m \u001b[0;34m=\u001b[0m \u001b[0mself\u001b[0m\u001b[0;34m.\u001b[0m\u001b[0m_get_concat_axis\u001b[0m\u001b[0;34m(\u001b[0m\u001b[0;34m)\u001b[0m\u001b[0;34m\u001b[0m\u001b[0m\n\u001b[0m\u001b[1;32m    444\u001b[0m         \u001b[0;32mreturn\u001b[0m \u001b[0mnew_axes\u001b[0m\u001b[0;34m\u001b[0m\u001b[0m\n\u001b[1;32m    445\u001b[0m \u001b[0;34m\u001b[0m\u001b[0m\n",
      "\u001b[0;32m~/anaconda/lib/python3.6/site-packages/pandas/core/reshape/concat.py\u001b[0m in \u001b[0;36m_get_concat_axis\u001b[0;34m(self)\u001b[0m\n\u001b[1;32m    498\u001b[0m                                                   self.levels, self.names)\n\u001b[1;32m    499\u001b[0m \u001b[0;34m\u001b[0m\u001b[0m\n\u001b[0;32m--> 500\u001b[0;31m         \u001b[0mself\u001b[0m\u001b[0;34m.\u001b[0m\u001b[0m_maybe_check_integrity\u001b[0m\u001b[0;34m(\u001b[0m\u001b[0mconcat_axis\u001b[0m\u001b[0;34m)\u001b[0m\u001b[0;34m\u001b[0m\u001b[0m\n\u001b[0m\u001b[1;32m    501\u001b[0m \u001b[0;34m\u001b[0m\u001b[0m\n\u001b[1;32m    502\u001b[0m         \u001b[0;32mreturn\u001b[0m \u001b[0mconcat_axis\u001b[0m\u001b[0;34m\u001b[0m\u001b[0m\n",
      "\u001b[0;32m~/anaconda/lib/python3.6/site-packages/pandas/core/reshape/concat.py\u001b[0m in \u001b[0;36m_maybe_check_integrity\u001b[0;34m(self, concat_index)\u001b[0m\n\u001b[1;32m    507\u001b[0m                 \u001b[0moverlap\u001b[0m \u001b[0;34m=\u001b[0m \u001b[0mconcat_index\u001b[0m\u001b[0;34m.\u001b[0m\u001b[0mget_duplicates\u001b[0m\u001b[0;34m(\u001b[0m\u001b[0;34m)\u001b[0m\u001b[0;34m\u001b[0m\u001b[0m\n\u001b[1;32m    508\u001b[0m                 raise ValueError('Indexes have overlapping values: '\n\u001b[0;32m--> 509\u001b[0;31m                                  '{overlap!s}'.format(overlap=overlap))\n\u001b[0m\u001b[1;32m    510\u001b[0m \u001b[0;34m\u001b[0m\u001b[0m\n\u001b[1;32m    511\u001b[0m \u001b[0;34m\u001b[0m\u001b[0m\n",
      "\u001b[0;31mValueError\u001b[0m: Indexes have overlapping values: [0, 1, 2]"
     ]
    }
   ],
   "source": [
    "pd.concat([s1, s2], verify_integrity=True)"
   ]
  },
  {
   "cell_type": "code",
   "execution_count": 109,
   "metadata": {},
   "outputs": [
    {
     "data": {
      "text/html": [
       "<div>\n",
       "<style scoped>\n",
       "    .dataframe tbody tr th:only-of-type {\n",
       "        vertical-align: middle;\n",
       "    }\n",
       "\n",
       "    .dataframe tbody tr th {\n",
       "        vertical-align: top;\n",
       "    }\n",
       "\n",
       "    .dataframe thead th {\n",
       "        text-align: right;\n",
       "    }\n",
       "</style>\n",
       "<table border=\"1\" class=\"dataframe\">\n",
       "  <thead>\n",
       "    <tr style=\"text-align: right;\">\n",
       "      <th></th>\n",
       "      <th>A</th>\n",
       "      <th>B</th>\n",
       "    </tr>\n",
       "  </thead>\n",
       "  <tbody>\n",
       "    <tr>\n",
       "      <th>0</th>\n",
       "      <td>A1</td>\n",
       "      <td>B1</td>\n",
       "    </tr>\n",
       "    <tr>\n",
       "      <th>1</th>\n",
       "      <td>A2</td>\n",
       "      <td>B2</td>\n",
       "    </tr>\n",
       "    <tr>\n",
       "      <th>0</th>\n",
       "      <td>C3</td>\n",
       "      <td>D3</td>\n",
       "    </tr>\n",
       "    <tr>\n",
       "      <th>1</th>\n",
       "      <td>C4</td>\n",
       "      <td>D4</td>\n",
       "    </tr>\n",
       "  </tbody>\n",
       "</table>\n",
       "</div>"
      ],
      "text/plain": [
       "    A   B\n",
       "0  A1  B1\n",
       "1  A2  B2\n",
       "0  C3  D3\n",
       "1  C4  D4"
      ]
     },
     "execution_count": 109,
     "metadata": {},
     "output_type": "execute_result"
    }
   ],
   "source": [
    "d1 = pd.DataFrame([['A1', 'B1'],['A2', 'B2']], columns=['A', 'B'])\n",
    "d2 = pd.DataFrame([['C3', 'D3'],['C4', 'D4']], columns=['A', 'B'])\n",
    "d3 = pd.DataFrame([['B1', 'C1'],['B2', 'C2']], columns=['B', 'C'])\n",
    "pd.concat([d1, d2])"
   ]
  },
  {
   "cell_type": "markdown",
   "metadata": {},
   "source": [
    "We can join on other axis too:"
   ]
  },
  {
   "cell_type": "code",
   "execution_count": 110,
   "metadata": {},
   "outputs": [
    {
     "data": {
      "text/html": [
       "<div>\n",
       "<style scoped>\n",
       "    .dataframe tbody tr th:only-of-type {\n",
       "        vertical-align: middle;\n",
       "    }\n",
       "\n",
       "    .dataframe tbody tr th {\n",
       "        vertical-align: top;\n",
       "    }\n",
       "\n",
       "    .dataframe thead th {\n",
       "        text-align: right;\n",
       "    }\n",
       "</style>\n",
       "<table border=\"1\" class=\"dataframe\">\n",
       "  <thead>\n",
       "    <tr style=\"text-align: right;\">\n",
       "      <th></th>\n",
       "      <th>A</th>\n",
       "      <th>B</th>\n",
       "      <th>A</th>\n",
       "      <th>B</th>\n",
       "    </tr>\n",
       "  </thead>\n",
       "  <tbody>\n",
       "    <tr>\n",
       "      <th>0</th>\n",
       "      <td>A1</td>\n",
       "      <td>B1</td>\n",
       "      <td>C3</td>\n",
       "      <td>D3</td>\n",
       "    </tr>\n",
       "    <tr>\n",
       "      <th>1</th>\n",
       "      <td>A2</td>\n",
       "      <td>B2</td>\n",
       "      <td>C4</td>\n",
       "      <td>D4</td>\n",
       "    </tr>\n",
       "  </tbody>\n",
       "</table>\n",
       "</div>"
      ],
      "text/plain": [
       "    A   B   A   B\n",
       "0  A1  B1  C3  D3\n",
       "1  A2  B2  C4  D4"
      ]
     },
     "execution_count": 110,
     "metadata": {},
     "output_type": "execute_result"
    }
   ],
   "source": [
    "pd.concat([d1, d2], axis=1)"
   ]
  },
  {
   "cell_type": "code",
   "execution_count": 111,
   "metadata": {},
   "outputs": [
    {
     "data": {
      "text/html": [
       "<div>\n",
       "<style scoped>\n",
       "    .dataframe tbody tr th:only-of-type {\n",
       "        vertical-align: middle;\n",
       "    }\n",
       "\n",
       "    .dataframe tbody tr th {\n",
       "        vertical-align: top;\n",
       "    }\n",
       "\n",
       "    .dataframe thead th {\n",
       "        text-align: right;\n",
       "    }\n",
       "</style>\n",
       "<table border=\"1\" class=\"dataframe\">\n",
       "  <thead>\n",
       "    <tr style=\"text-align: right;\">\n",
       "      <th></th>\n",
       "      <th>A</th>\n",
       "      <th>B</th>\n",
       "      <th>B</th>\n",
       "      <th>C</th>\n",
       "    </tr>\n",
       "  </thead>\n",
       "  <tbody>\n",
       "    <tr>\n",
       "      <th>0</th>\n",
       "      <td>A1</td>\n",
       "      <td>B1</td>\n",
       "      <td>B1</td>\n",
       "      <td>C1</td>\n",
       "    </tr>\n",
       "    <tr>\n",
       "      <th>1</th>\n",
       "      <td>A2</td>\n",
       "      <td>B2</td>\n",
       "      <td>B2</td>\n",
       "      <td>C2</td>\n",
       "    </tr>\n",
       "  </tbody>\n",
       "</table>\n",
       "</div>"
      ],
      "text/plain": [
       "    A   B   B   C\n",
       "0  A1  B1  B1  C1\n",
       "1  A2  B2  B2  C2"
      ]
     },
     "execution_count": 111,
     "metadata": {},
     "output_type": "execute_result"
    }
   ],
   "source": [
    "pd.concat([d1, d3], axis=1)"
   ]
  },
  {
   "cell_type": "markdown",
   "metadata": {},
   "source": [
    "If the columns are not completely shared, additional NaN entries will be made:"
   ]
  },
  {
   "cell_type": "code",
   "execution_count": 112,
   "metadata": {},
   "outputs": [
    {
     "data": {
      "text/html": [
       "<div>\n",
       "<style scoped>\n",
       "    .dataframe tbody tr th:only-of-type {\n",
       "        vertical-align: middle;\n",
       "    }\n",
       "\n",
       "    .dataframe tbody tr th {\n",
       "        vertical-align: top;\n",
       "    }\n",
       "\n",
       "    .dataframe thead th {\n",
       "        text-align: right;\n",
       "    }\n",
       "</style>\n",
       "<table border=\"1\" class=\"dataframe\">\n",
       "  <thead>\n",
       "    <tr style=\"text-align: right;\">\n",
       "      <th></th>\n",
       "      <th>A</th>\n",
       "      <th>B</th>\n",
       "      <th>C</th>\n",
       "    </tr>\n",
       "  </thead>\n",
       "  <tbody>\n",
       "    <tr>\n",
       "      <th>0</th>\n",
       "      <td>A1</td>\n",
       "      <td>B1</td>\n",
       "      <td>NaN</td>\n",
       "    </tr>\n",
       "    <tr>\n",
       "      <th>1</th>\n",
       "      <td>A2</td>\n",
       "      <td>B2</td>\n",
       "      <td>NaN</td>\n",
       "    </tr>\n",
       "    <tr>\n",
       "      <th>0</th>\n",
       "      <td>NaN</td>\n",
       "      <td>B1</td>\n",
       "      <td>C1</td>\n",
       "    </tr>\n",
       "    <tr>\n",
       "      <th>1</th>\n",
       "      <td>NaN</td>\n",
       "      <td>B2</td>\n",
       "      <td>C2</td>\n",
       "    </tr>\n",
       "  </tbody>\n",
       "</table>\n",
       "</div>"
      ],
      "text/plain": [
       "     A   B    C\n",
       "0   A1  B1  NaN\n",
       "1   A2  B2  NaN\n",
       "0  NaN  B1   C1\n",
       "1  NaN  B2   C2"
      ]
     },
     "execution_count": 112,
     "metadata": {},
     "output_type": "execute_result"
    }
   ],
   "source": [
    "pd.concat([d1, d3])"
   ]
  },
  {
   "cell_type": "markdown",
   "metadata": {},
   "source": [
    "We can force concat to only include the columns that are shared with an inner join:"
   ]
  },
  {
   "cell_type": "code",
   "execution_count": 113,
   "metadata": {},
   "outputs": [
    {
     "data": {
      "text/html": [
       "<div>\n",
       "<style scoped>\n",
       "    .dataframe tbody tr th:only-of-type {\n",
       "        vertical-align: middle;\n",
       "    }\n",
       "\n",
       "    .dataframe tbody tr th {\n",
       "        vertical-align: top;\n",
       "    }\n",
       "\n",
       "    .dataframe thead th {\n",
       "        text-align: right;\n",
       "    }\n",
       "</style>\n",
       "<table border=\"1\" class=\"dataframe\">\n",
       "  <thead>\n",
       "    <tr style=\"text-align: right;\">\n",
       "      <th></th>\n",
       "      <th>B</th>\n",
       "    </tr>\n",
       "  </thead>\n",
       "  <tbody>\n",
       "    <tr>\n",
       "      <th>0</th>\n",
       "      <td>B1</td>\n",
       "    </tr>\n",
       "    <tr>\n",
       "      <th>1</th>\n",
       "      <td>B2</td>\n",
       "    </tr>\n",
       "    <tr>\n",
       "      <th>0</th>\n",
       "      <td>B1</td>\n",
       "    </tr>\n",
       "    <tr>\n",
       "      <th>1</th>\n",
       "      <td>B2</td>\n",
       "    </tr>\n",
       "  </tbody>\n",
       "</table>\n",
       "</div>"
      ],
      "text/plain": [
       "    B\n",
       "0  B1\n",
       "1  B2\n",
       "0  B1\n",
       "1  B2"
      ]
     },
     "execution_count": 113,
     "metadata": {},
     "output_type": "execute_result"
    }
   ],
   "source": [
    "pd.concat([d1, d3], join='inner')"
   ]
  },
  {
   "cell_type": "markdown",
   "metadata": {},
   "source": [
    "See https://pandas.pydata.org/pandas-docs/stable/generated/pandas.concat.html for more options."
   ]
  },
  {
   "cell_type": "markdown",
   "metadata": {},
   "source": [
    "### Merging and Joining\n",
    "\n",
    "We have already seen how we can add a new column to a DataFrame when it is a fixed scalar value:"
   ]
  },
  {
   "cell_type": "code",
   "execution_count": 114,
   "metadata": {},
   "outputs": [
    {
     "data": {
      "text/html": [
       "<div>\n",
       "<style scoped>\n",
       "    .dataframe tbody tr th:only-of-type {\n",
       "        vertical-align: middle;\n",
       "    }\n",
       "\n",
       "    .dataframe tbody tr th {\n",
       "        vertical-align: top;\n",
       "    }\n",
       "\n",
       "    .dataframe thead th {\n",
       "        text-align: right;\n",
       "    }\n",
       "</style>\n",
       "<table border=\"1\" class=\"dataframe\">\n",
       "  <thead>\n",
       "    <tr style=\"text-align: right;\">\n",
       "      <th></th>\n",
       "      <th>Name</th>\n",
       "    </tr>\n",
       "  </thead>\n",
       "  <tbody>\n",
       "    <tr>\n",
       "      <th>0</th>\n",
       "      <td>Fred</td>\n",
       "    </tr>\n",
       "    <tr>\n",
       "      <th>1</th>\n",
       "      <td>Alice</td>\n",
       "    </tr>\n",
       "    <tr>\n",
       "      <th>2</th>\n",
       "      <td>Joe</td>\n",
       "    </tr>\n",
       "  </tbody>\n",
       "</table>\n",
       "</div>"
      ],
      "text/plain": [
       "    Name\n",
       "0   Fred\n",
       "1  Alice\n",
       "2    Joe"
      ]
     },
     "execution_count": 114,
     "metadata": {},
     "output_type": "execute_result"
    }
   ],
   "source": [
    "df = pd.DataFrame(['Fred', 'Alice', 'Joe'], columns=['Name'])\n",
    "df"
   ]
  },
  {
   "cell_type": "code",
   "execution_count": 115,
   "metadata": {},
   "outputs": [
    {
     "data": {
      "text/html": [
       "<div>\n",
       "<style scoped>\n",
       "    .dataframe tbody tr th:only-of-type {\n",
       "        vertical-align: middle;\n",
       "    }\n",
       "\n",
       "    .dataframe tbody tr th {\n",
       "        vertical-align: top;\n",
       "    }\n",
       "\n",
       "    .dataframe thead th {\n",
       "        text-align: right;\n",
       "    }\n",
       "</style>\n",
       "<table border=\"1\" class=\"dataframe\">\n",
       "  <thead>\n",
       "    <tr style=\"text-align: right;\">\n",
       "      <th></th>\n",
       "      <th>Name</th>\n",
       "      <th>Married</th>\n",
       "    </tr>\n",
       "  </thead>\n",
       "  <tbody>\n",
       "    <tr>\n",
       "      <th>0</th>\n",
       "      <td>Fred</td>\n",
       "      <td>False</td>\n",
       "    </tr>\n",
       "    <tr>\n",
       "      <th>1</th>\n",
       "      <td>Alice</td>\n",
       "      <td>False</td>\n",
       "    </tr>\n",
       "    <tr>\n",
       "      <th>2</th>\n",
       "      <td>Joe</td>\n",
       "      <td>False</td>\n",
       "    </tr>\n",
       "  </tbody>\n",
       "</table>\n",
       "</div>"
      ],
      "text/plain": [
       "    Name  Married\n",
       "0   Fred    False\n",
       "1  Alice    False\n",
       "2    Joe    False"
      ]
     },
     "execution_count": 115,
     "metadata": {},
     "output_type": "execute_result"
    }
   ],
   "source": [
    "df['Married'] = False\n",
    "df"
   ]
  },
  {
   "cell_type": "markdown",
   "metadata": {},
   "source": [
    "We can also give an array of values provided it has the same length, or we can use a Series keyed on the index if it is not the same length:"
   ]
  },
  {
   "cell_type": "code",
   "execution_count": 116,
   "metadata": {},
   "outputs": [
    {
     "data": {
      "text/html": [
       "<div>\n",
       "<style scoped>\n",
       "    .dataframe tbody tr th:only-of-type {\n",
       "        vertical-align: middle;\n",
       "    }\n",
       "\n",
       "    .dataframe tbody tr th {\n",
       "        vertical-align: top;\n",
       "    }\n",
       "\n",
       "    .dataframe thead th {\n",
       "        text-align: right;\n",
       "    }\n",
       "</style>\n",
       "<table border=\"1\" class=\"dataframe\">\n",
       "  <thead>\n",
       "    <tr style=\"text-align: right;\">\n",
       "      <th></th>\n",
       "      <th>Name</th>\n",
       "      <th>Married</th>\n",
       "      <th>Phone</th>\n",
       "    </tr>\n",
       "  </thead>\n",
       "  <tbody>\n",
       "    <tr>\n",
       "      <th>0</th>\n",
       "      <td>Fred</td>\n",
       "      <td>False</td>\n",
       "      <td>555-123-4567</td>\n",
       "    </tr>\n",
       "    <tr>\n",
       "      <th>1</th>\n",
       "      <td>Alice</td>\n",
       "      <td>False</td>\n",
       "      <td>555-321-0000</td>\n",
       "    </tr>\n",
       "    <tr>\n",
       "      <th>2</th>\n",
       "      <td>Joe</td>\n",
       "      <td>False</td>\n",
       "      <td>555-999-8765</td>\n",
       "    </tr>\n",
       "  </tbody>\n",
       "</table>\n",
       "</div>"
      ],
      "text/plain": [
       "    Name  Married         Phone\n",
       "0   Fred    False  555-123-4567\n",
       "1  Alice    False  555-321-0000\n",
       "2    Joe    False  555-999-8765"
      ]
     },
     "execution_count": 116,
     "metadata": {},
     "output_type": "execute_result"
    }
   ],
   "source": [
    "df['Phone'] = ['555-123-4567', '555-321-0000', '555-999-8765']\n",
    "df"
   ]
  },
  {
   "cell_type": "code",
   "execution_count": 117,
   "metadata": {},
   "outputs": [
    {
     "data": {
      "text/html": [
       "<div>\n",
       "<style scoped>\n",
       "    .dataframe tbody tr th:only-of-type {\n",
       "        vertical-align: middle;\n",
       "    }\n",
       "\n",
       "    .dataframe tbody tr th {\n",
       "        vertical-align: top;\n",
       "    }\n",
       "\n",
       "    .dataframe thead th {\n",
       "        text-align: right;\n",
       "    }\n",
       "</style>\n",
       "<table border=\"1\" class=\"dataframe\">\n",
       "  <thead>\n",
       "    <tr style=\"text-align: right;\">\n",
       "      <th></th>\n",
       "      <th>Name</th>\n",
       "      <th>Married</th>\n",
       "      <th>Phone</th>\n",
       "      <th>Department</th>\n",
       "    </tr>\n",
       "  </thead>\n",
       "  <tbody>\n",
       "    <tr>\n",
       "      <th>0</th>\n",
       "      <td>Fred</td>\n",
       "      <td>False</td>\n",
       "      <td>555-123-4567</td>\n",
       "      <td>HR</td>\n",
       "    </tr>\n",
       "    <tr>\n",
       "      <th>1</th>\n",
       "      <td>Alice</td>\n",
       "      <td>False</td>\n",
       "      <td>555-321-0000</td>\n",
       "      <td>NaN</td>\n",
       "    </tr>\n",
       "    <tr>\n",
       "      <th>2</th>\n",
       "      <td>Joe</td>\n",
       "      <td>False</td>\n",
       "      <td>555-999-8765</td>\n",
       "      <td>Marketing</td>\n",
       "    </tr>\n",
       "  </tbody>\n",
       "</table>\n",
       "</div>"
      ],
      "text/plain": [
       "    Name  Married         Phone Department\n",
       "0   Fred    False  555-123-4567         HR\n",
       "1  Alice    False  555-321-0000        NaN\n",
       "2    Joe    False  555-999-8765  Marketing"
      ]
     },
     "execution_count": 117,
     "metadata": {},
     "output_type": "execute_result"
    }
   ],
   "source": [
    "df['Department'] = pd.Series({0: 'HR', 2: 'Marketing'})\n",
    "df"
   ]
  },
  {
   "cell_type": "markdown",
   "metadata": {},
   "source": [
    "Often we want to join two DataFrames instead. Pandas has a `merge` function that supports one-to-one, many-to-one and many-to-many joins. merge will look for matching column names between the inputs and use this as the key:"
   ]
  },
  {
   "cell_type": "code",
   "execution_count": 4,
   "metadata": {},
   "outputs": [
    {
     "data": {
      "text/html": [
       "<div>\n",
       "<style scoped>\n",
       "    .dataframe tbody tr th:only-of-type {\n",
       "        vertical-align: middle;\n",
       "    }\n",
       "\n",
       "    .dataframe tbody tr th {\n",
       "        vertical-align: top;\n",
       "    }\n",
       "\n",
       "    .dataframe thead th {\n",
       "        text-align: right;\n",
       "    }\n",
       "</style>\n",
       "<table border=\"1\" class=\"dataframe\">\n",
       "  <thead>\n",
       "    <tr style=\"text-align: right;\">\n",
       "      <th></th>\n",
       "      <th>city</th>\n",
       "      <th>population</th>\n",
       "      <th>area</th>\n",
       "    </tr>\n",
       "  </thead>\n",
       "  <tbody>\n",
       "    <tr>\n",
       "      <th>0</th>\n",
       "      <td>Seattle</td>\n",
       "      <td>704352</td>\n",
       "      <td>142.50</td>\n",
       "    </tr>\n",
       "    <tr>\n",
       "      <th>1</th>\n",
       "      <td>Boston</td>\n",
       "      <td>673184</td>\n",
       "      <td>48.42</td>\n",
       "    </tr>\n",
       "    <tr>\n",
       "      <th>2</th>\n",
       "      <td>New York</td>\n",
       "      <td>8537673</td>\n",
       "      <td>468.48</td>\n",
       "    </tr>\n",
       "  </tbody>\n",
       "</table>\n",
       "</div>"
      ],
      "text/plain": [
       "       city  population    area\n",
       "0   Seattle      704352  142.50\n",
       "1    Boston      673184   48.42\n",
       "2  New York     8537673  468.48"
      ]
     },
     "execution_count": 4,
     "metadata": {},
     "output_type": "execute_result"
    }
   ],
   "source": [
    "d1 = pd.DataFrame({'city': ['Seattle', 'Boston', 'New York'], 'population': [704352, 673184, 8537673]})\n",
    "d2 = pd.DataFrame({'city': ['Boston', 'New York', 'Seattle'], 'area': [48.42, 468.48, 142.5]})\n",
    "pd.merge(d1, d2)"
   ]
  },
  {
   "cell_type": "markdown",
   "metadata": {},
   "source": [
    "You can explicitly specify the column to join on; this is equivalent to the above example:"
   ]
  },
  {
   "cell_type": "code",
   "execution_count": 5,
   "metadata": {},
   "outputs": [
    {
     "data": {
      "text/html": [
       "<div>\n",
       "<style scoped>\n",
       "    .dataframe tbody tr th:only-of-type {\n",
       "        vertical-align: middle;\n",
       "    }\n",
       "\n",
       "    .dataframe tbody tr th {\n",
       "        vertical-align: top;\n",
       "    }\n",
       "\n",
       "    .dataframe thead th {\n",
       "        text-align: right;\n",
       "    }\n",
       "</style>\n",
       "<table border=\"1\" class=\"dataframe\">\n",
       "  <thead>\n",
       "    <tr style=\"text-align: right;\">\n",
       "      <th></th>\n",
       "      <th>city</th>\n",
       "      <th>population</th>\n",
       "      <th>area</th>\n",
       "    </tr>\n",
       "  </thead>\n",
       "  <tbody>\n",
       "    <tr>\n",
       "      <th>0</th>\n",
       "      <td>Seattle</td>\n",
       "      <td>704352</td>\n",
       "      <td>142.50</td>\n",
       "    </tr>\n",
       "    <tr>\n",
       "      <th>1</th>\n",
       "      <td>Boston</td>\n",
       "      <td>673184</td>\n",
       "      <td>48.42</td>\n",
       "    </tr>\n",
       "    <tr>\n",
       "      <th>2</th>\n",
       "      <td>New York</td>\n",
       "      <td>8537673</td>\n",
       "      <td>468.48</td>\n",
       "    </tr>\n",
       "  </tbody>\n",
       "</table>\n",
       "</div>"
      ],
      "text/plain": [
       "       city  population    area\n",
       "0   Seattle      704352  142.50\n",
       "1    Boston      673184   48.42\n",
       "2  New York     8537673  468.48"
      ]
     },
     "execution_count": 5,
     "metadata": {},
     "output_type": "execute_result"
    }
   ],
   "source": [
    "pd.merge(d1, d2, on='city')"
   ]
  },
  {
   "cell_type": "markdown",
   "metadata": {},
   "source": [
    "If there is more than one column in common, only items where the column values match in all cases will be included. Let's add a common column `x` and see what happens:"
   ]
  },
  {
   "cell_type": "code",
   "execution_count": 6,
   "metadata": {},
   "outputs": [
    {
     "data": {
      "text/html": [
       "<div>\n",
       "<style scoped>\n",
       "    .dataframe tbody tr th:only-of-type {\n",
       "        vertical-align: middle;\n",
       "    }\n",
       "\n",
       "    .dataframe tbody tr th {\n",
       "        vertical-align: top;\n",
       "    }\n",
       "\n",
       "    .dataframe thead th {\n",
       "        text-align: right;\n",
       "    }\n",
       "</style>\n",
       "<table border=\"1\" class=\"dataframe\">\n",
       "  <thead>\n",
       "    <tr style=\"text-align: right;\">\n",
       "      <th></th>\n",
       "      <th>city</th>\n",
       "      <th>population</th>\n",
       "      <th>x</th>\n",
       "      <th>area</th>\n",
       "    </tr>\n",
       "  </thead>\n",
       "  <tbody>\n",
       "    <tr>\n",
       "      <th>0</th>\n",
       "      <td>New York</td>\n",
       "      <td>8537673</td>\n",
       "      <td>c</td>\n",
       "      <td>468.48</td>\n",
       "    </tr>\n",
       "  </tbody>\n",
       "</table>\n",
       "</div>"
      ],
      "text/plain": [
       "       city  population  x    area\n",
       "0  New York     8537673  c  468.48"
      ]
     },
     "execution_count": 6,
     "metadata": {},
     "output_type": "execute_result"
    }
   ],
   "source": [
    "d10 = pd.DataFrame({'city': ['Seattle', 'Boston', 'New York'], \n",
    "                    'x': ['a', 'b', 'c'], \n",
    "                    'population': [704352, 673184, 8537673]})\n",
    "d11 = pd.DataFrame({'city': ['Boston', 'New York', 'Seattle'], \n",
    "                    'x': ['a', 'c', 'b'], \n",
    "                    'area': [48.42, 468.48, 142.5]})\n",
    "pd.merge(d10, d11)"
   ]
  },
  {
   "cell_type": "markdown",
   "metadata": {},
   "source": [
    "You can see that Pandas avoided ambiguous cases by just dropping them.\n",
    "\n",
    "However, if we specify the column for the join, Pandas will just treat the other common columns (if any) as distinct, and add suffixes to disambiguate the names:"
   ]
  },
  {
   "cell_type": "code",
   "execution_count": 7,
   "metadata": {},
   "outputs": [
    {
     "data": {
      "text/html": [
       "<div>\n",
       "<style scoped>\n",
       "    .dataframe tbody tr th:only-of-type {\n",
       "        vertical-align: middle;\n",
       "    }\n",
       "\n",
       "    .dataframe tbody tr th {\n",
       "        vertical-align: top;\n",
       "    }\n",
       "\n",
       "    .dataframe thead th {\n",
       "        text-align: right;\n",
       "    }\n",
       "</style>\n",
       "<table border=\"1\" class=\"dataframe\">\n",
       "  <thead>\n",
       "    <tr style=\"text-align: right;\">\n",
       "      <th></th>\n",
       "      <th>city</th>\n",
       "      <th>population</th>\n",
       "      <th>x_x</th>\n",
       "      <th>area</th>\n",
       "      <th>x_y</th>\n",
       "    </tr>\n",
       "  </thead>\n",
       "  <tbody>\n",
       "    <tr>\n",
       "      <th>0</th>\n",
       "      <td>Seattle</td>\n",
       "      <td>704352</td>\n",
       "      <td>a</td>\n",
       "      <td>142.50</td>\n",
       "      <td>b</td>\n",
       "    </tr>\n",
       "    <tr>\n",
       "      <th>1</th>\n",
       "      <td>Boston</td>\n",
       "      <td>673184</td>\n",
       "      <td>b</td>\n",
       "      <td>48.42</td>\n",
       "      <td>a</td>\n",
       "    </tr>\n",
       "    <tr>\n",
       "      <th>2</th>\n",
       "      <td>New York</td>\n",
       "      <td>8537673</td>\n",
       "      <td>c</td>\n",
       "      <td>468.48</td>\n",
       "      <td>c</td>\n",
       "    </tr>\n",
       "  </tbody>\n",
       "</table>\n",
       "</div>"
      ],
      "text/plain": [
       "       city  population x_x    area x_y\n",
       "0   Seattle      704352   a  142.50   b\n",
       "1    Boston      673184   b   48.42   a\n",
       "2  New York     8537673   c  468.48   c"
      ]
     },
     "execution_count": 7,
     "metadata": {},
     "output_type": "execute_result"
    }
   ],
   "source": [
    "pd.merge(d10, d11, on='city')"
   ]
  },
  {
   "cell_type": "markdown",
   "metadata": {},
   "source": [
    "If the column names to join on don't match you can specify the names to use explicitly:"
   ]
  },
  {
   "cell_type": "code",
   "execution_count": 120,
   "metadata": {},
   "outputs": [
    {
     "data": {
      "text/html": [
       "<div>\n",
       "<style scoped>\n",
       "    .dataframe tbody tr th:only-of-type {\n",
       "        vertical-align: middle;\n",
       "    }\n",
       "\n",
       "    .dataframe tbody tr th {\n",
       "        vertical-align: top;\n",
       "    }\n",
       "\n",
       "    .dataframe thead th {\n",
       "        text-align: right;\n",
       "    }\n",
       "</style>\n",
       "<table border=\"1\" class=\"dataframe\">\n",
       "  <thead>\n",
       "    <tr style=\"text-align: right;\">\n",
       "      <th></th>\n",
       "      <th>city</th>\n",
       "      <th>population</th>\n",
       "      <th>area</th>\n",
       "      <th>place</th>\n",
       "    </tr>\n",
       "  </thead>\n",
       "  <tbody>\n",
       "    <tr>\n",
       "      <th>0</th>\n",
       "      <td>Seattle</td>\n",
       "      <td>704352</td>\n",
       "      <td>142.50</td>\n",
       "      <td>Seattle</td>\n",
       "    </tr>\n",
       "    <tr>\n",
       "      <th>1</th>\n",
       "      <td>Boston</td>\n",
       "      <td>673184</td>\n",
       "      <td>48.42</td>\n",
       "      <td>Boston</td>\n",
       "    </tr>\n",
       "    <tr>\n",
       "      <th>2</th>\n",
       "      <td>New York</td>\n",
       "      <td>8537673</td>\n",
       "      <td>468.48</td>\n",
       "      <td>New York</td>\n",
       "    </tr>\n",
       "  </tbody>\n",
       "</table>\n",
       "</div>"
      ],
      "text/plain": [
       "       city  population    area     place\n",
       "0   Seattle      704352  142.50   Seattle\n",
       "1    Boston      673184   48.42    Boston\n",
       "2  New York     8537673  468.48  New York"
      ]
     },
     "execution_count": 120,
     "metadata": {},
     "output_type": "execute_result"
    }
   ],
   "source": [
    "d3 = pd.DataFrame({'place': ['Boston', 'New York', 'Seattle'], 'area': [48.42, 468.48, 142.5]})\n",
    "pd.merge(d1, d3, left_on='city', right_on='place')"
   ]
  },
  {
   "cell_type": "code",
   "execution_count": 121,
   "metadata": {},
   "outputs": [
    {
     "data": {
      "text/html": [
       "<div>\n",
       "<style scoped>\n",
       "    .dataframe tbody tr th:only-of-type {\n",
       "        vertical-align: middle;\n",
       "    }\n",
       "\n",
       "    .dataframe tbody tr th {\n",
       "        vertical-align: top;\n",
       "    }\n",
       "\n",
       "    .dataframe thead th {\n",
       "        text-align: right;\n",
       "    }\n",
       "</style>\n",
       "<table border=\"1\" class=\"dataframe\">\n",
       "  <thead>\n",
       "    <tr style=\"text-align: right;\">\n",
       "      <th></th>\n",
       "      <th>city</th>\n",
       "      <th>population</th>\n",
       "      <th>area</th>\n",
       "    </tr>\n",
       "  </thead>\n",
       "  <tbody>\n",
       "    <tr>\n",
       "      <th>0</th>\n",
       "      <td>Seattle</td>\n",
       "      <td>704352</td>\n",
       "      <td>142.50</td>\n",
       "    </tr>\n",
       "    <tr>\n",
       "      <th>1</th>\n",
       "      <td>Boston</td>\n",
       "      <td>673184</td>\n",
       "      <td>48.42</td>\n",
       "    </tr>\n",
       "    <tr>\n",
       "      <th>2</th>\n",
       "      <td>New York</td>\n",
       "      <td>8537673</td>\n",
       "      <td>468.48</td>\n",
       "    </tr>\n",
       "  </tbody>\n",
       "</table>\n",
       "</div>"
      ],
      "text/plain": [
       "       city  population    area\n",
       "0   Seattle      704352  142.50\n",
       "1    Boston      673184   48.42\n",
       "2  New York     8537673  468.48"
      ]
     },
     "execution_count": 121,
     "metadata": {},
     "output_type": "execute_result"
    }
   ],
   "source": [
    "# If you want to drop the redundant column:\n",
    "pd.merge(d1, d3, left_on='city', right_on='place').drop('place', axis=1)"
   ]
  },
  {
   "cell_type": "markdown",
   "metadata": {},
   "source": [
    "`merge` joins on arbitrary columns; if you want to join on the index you can use `left_index` and `right_index`:"
   ]
  },
  {
   "cell_type": "code",
   "execution_count": 122,
   "metadata": {},
   "outputs": [
    {
     "data": {
      "text/html": [
       "<div>\n",
       "<style scoped>\n",
       "    .dataframe tbody tr th:only-of-type {\n",
       "        vertical-align: middle;\n",
       "    }\n",
       "\n",
       "    .dataframe tbody tr th {\n",
       "        vertical-align: top;\n",
       "    }\n",
       "\n",
       "    .dataframe thead th {\n",
       "        text-align: right;\n",
       "    }\n",
       "</style>\n",
       "<table border=\"1\" class=\"dataframe\">\n",
       "  <thead>\n",
       "    <tr style=\"text-align: right;\">\n",
       "      <th></th>\n",
       "      <th>c1</th>\n",
       "      <th>c2</th>\n",
       "    </tr>\n",
       "  </thead>\n",
       "  <tbody>\n",
       "    <tr>\n",
       "      <th>0</th>\n",
       "      <td>A</td>\n",
       "      <td>D</td>\n",
       "    </tr>\n",
       "    <tr>\n",
       "      <th>1</th>\n",
       "      <td>B</td>\n",
       "      <td>E</td>\n",
       "    </tr>\n",
       "    <tr>\n",
       "      <th>2</th>\n",
       "      <td>C</td>\n",
       "      <td>F</td>\n",
       "    </tr>\n",
       "  </tbody>\n",
       "</table>\n",
       "</div>"
      ],
      "text/plain": [
       "  c1 c2\n",
       "0  A  D\n",
       "1  B  E\n",
       "2  C  F"
      ]
     },
     "execution_count": 122,
     "metadata": {},
     "output_type": "execute_result"
    }
   ],
   "source": [
    "df1 = pd.DataFrame(list('ABC'), columns=['c1'])\n",
    "df2 = pd.DataFrame(list('DEF'), columns=['c2'])\n",
    "pd.merge(df1, df2, left_index=True, right_index=True)"
   ]
  },
  {
   "cell_type": "markdown",
   "metadata": {},
   "source": [
    "Pandas provides a utility method on DataFrame, `join`, to do the above:"
   ]
  },
  {
   "cell_type": "code",
   "execution_count": 123,
   "metadata": {},
   "outputs": [
    {
     "data": {
      "text/html": [
       "<div>\n",
       "<style scoped>\n",
       "    .dataframe tbody tr th:only-of-type {\n",
       "        vertical-align: middle;\n",
       "    }\n",
       "\n",
       "    .dataframe tbody tr th {\n",
       "        vertical-align: top;\n",
       "    }\n",
       "\n",
       "    .dataframe thead th {\n",
       "        text-align: right;\n",
       "    }\n",
       "</style>\n",
       "<table border=\"1\" class=\"dataframe\">\n",
       "  <thead>\n",
       "    <tr style=\"text-align: right;\">\n",
       "      <th></th>\n",
       "      <th>c1</th>\n",
       "      <th>c2</th>\n",
       "    </tr>\n",
       "  </thead>\n",
       "  <tbody>\n",
       "    <tr>\n",
       "      <th>0</th>\n",
       "      <td>A</td>\n",
       "      <td>D</td>\n",
       "    </tr>\n",
       "    <tr>\n",
       "      <th>1</th>\n",
       "      <td>B</td>\n",
       "      <td>E</td>\n",
       "    </tr>\n",
       "    <tr>\n",
       "      <th>2</th>\n",
       "      <td>C</td>\n",
       "      <td>F</td>\n",
       "    </tr>\n",
       "  </tbody>\n",
       "</table>\n",
       "</div>"
      ],
      "text/plain": [
       "  c1 c2\n",
       "0  A  D\n",
       "1  B  E\n",
       "2  C  F"
      ]
     },
     "execution_count": 123,
     "metadata": {},
     "output_type": "execute_result"
    }
   ],
   "source": [
    "df1.join(df2)"
   ]
  },
  {
   "cell_type": "markdown",
   "metadata": {},
   "source": [
    "`merge` can take a `how` argument that can be `inner` (intersection), `outer` (union), `left` (first augmented by second) or `right` (second augmented by first)  to control the type of join. `inner` joins are the default.\n",
    "\n",
    "If there are other columns with the same name between the two DataFrames, Pandas will give them unique names by appending `_x` to the columns from the first argument and `_y` to the columns from the second argument.\n",
    "\n",
    "It's also possible to use lists of column names for the `left_on` and `right_on` arguments to join on multiple columns.\n",
    "\n",
    "For more info on merging see https://pandas.pydata.org/pandas-docs/stable/merging.html\n"
   ]
  },
  {
   "cell_type": "markdown",
   "metadata": {},
   "source": [
    "### Exploring the Data\n",
    "\n",
    "There are some more useful ways to explore the data in our DataFrame. Let's return to the Titanic data set, but this time we will use the sample dataset that comes with Seaborn, which is a bit different to the one we loaded before:"
   ]
  },
  {
   "cell_type": "code",
   "execution_count": 124,
   "metadata": {},
   "outputs": [
    {
     "data": {
      "text/html": [
       "<div>\n",
       "<style scoped>\n",
       "    .dataframe tbody tr th:only-of-type {\n",
       "        vertical-align: middle;\n",
       "    }\n",
       "\n",
       "    .dataframe tbody tr th {\n",
       "        vertical-align: top;\n",
       "    }\n",
       "\n",
       "    .dataframe thead th {\n",
       "        text-align: right;\n",
       "    }\n",
       "</style>\n",
       "<table border=\"1\" class=\"dataframe\">\n",
       "  <thead>\n",
       "    <tr style=\"text-align: right;\">\n",
       "      <th></th>\n",
       "      <th>survived</th>\n",
       "      <th>pclass</th>\n",
       "      <th>sex</th>\n",
       "      <th>age</th>\n",
       "      <th>sibsp</th>\n",
       "      <th>parch</th>\n",
       "      <th>fare</th>\n",
       "      <th>embarked</th>\n",
       "      <th>class</th>\n",
       "      <th>who</th>\n",
       "      <th>adult_male</th>\n",
       "      <th>deck</th>\n",
       "      <th>embark_town</th>\n",
       "      <th>alive</th>\n",
       "      <th>alone</th>\n",
       "    </tr>\n",
       "  </thead>\n",
       "  <tbody>\n",
       "    <tr>\n",
       "      <th>0</th>\n",
       "      <td>0</td>\n",
       "      <td>3</td>\n",
       "      <td>male</td>\n",
       "      <td>22.0</td>\n",
       "      <td>1</td>\n",
       "      <td>0</td>\n",
       "      <td>7.2500</td>\n",
       "      <td>S</td>\n",
       "      <td>Third</td>\n",
       "      <td>man</td>\n",
       "      <td>True</td>\n",
       "      <td>NaN</td>\n",
       "      <td>Southampton</td>\n",
       "      <td>no</td>\n",
       "      <td>False</td>\n",
       "    </tr>\n",
       "    <tr>\n",
       "      <th>1</th>\n",
       "      <td>1</td>\n",
       "      <td>1</td>\n",
       "      <td>female</td>\n",
       "      <td>38.0</td>\n",
       "      <td>1</td>\n",
       "      <td>0</td>\n",
       "      <td>71.2833</td>\n",
       "      <td>C</td>\n",
       "      <td>First</td>\n",
       "      <td>woman</td>\n",
       "      <td>False</td>\n",
       "      <td>C</td>\n",
       "      <td>Cherbourg</td>\n",
       "      <td>yes</td>\n",
       "      <td>False</td>\n",
       "    </tr>\n",
       "    <tr>\n",
       "      <th>2</th>\n",
       "      <td>1</td>\n",
       "      <td>3</td>\n",
       "      <td>female</td>\n",
       "      <td>26.0</td>\n",
       "      <td>0</td>\n",
       "      <td>0</td>\n",
       "      <td>7.9250</td>\n",
       "      <td>S</td>\n",
       "      <td>Third</td>\n",
       "      <td>woman</td>\n",
       "      <td>False</td>\n",
       "      <td>NaN</td>\n",
       "      <td>Southampton</td>\n",
       "      <td>yes</td>\n",
       "      <td>True</td>\n",
       "    </tr>\n",
       "    <tr>\n",
       "      <th>3</th>\n",
       "      <td>1</td>\n",
       "      <td>1</td>\n",
       "      <td>female</td>\n",
       "      <td>35.0</td>\n",
       "      <td>1</td>\n",
       "      <td>0</td>\n",
       "      <td>53.1000</td>\n",
       "      <td>S</td>\n",
       "      <td>First</td>\n",
       "      <td>woman</td>\n",
       "      <td>False</td>\n",
       "      <td>C</td>\n",
       "      <td>Southampton</td>\n",
       "      <td>yes</td>\n",
       "      <td>False</td>\n",
       "    </tr>\n",
       "    <tr>\n",
       "      <th>4</th>\n",
       "      <td>0</td>\n",
       "      <td>3</td>\n",
       "      <td>male</td>\n",
       "      <td>35.0</td>\n",
       "      <td>0</td>\n",
       "      <td>0</td>\n",
       "      <td>8.0500</td>\n",
       "      <td>S</td>\n",
       "      <td>Third</td>\n",
       "      <td>man</td>\n",
       "      <td>True</td>\n",
       "      <td>NaN</td>\n",
       "      <td>Southampton</td>\n",
       "      <td>no</td>\n",
       "      <td>True</td>\n",
       "    </tr>\n",
       "  </tbody>\n",
       "</table>\n",
       "</div>"
      ],
      "text/plain": [
       "   survived  pclass     sex   age  sibsp  parch     fare embarked  class  \\\n",
       "0         0       3    male  22.0      1      0   7.2500        S  Third   \n",
       "1         1       1  female  38.0      1      0  71.2833        C  First   \n",
       "2         1       3  female  26.0      0      0   7.9250        S  Third   \n",
       "3         1       1  female  35.0      1      0  53.1000        S  First   \n",
       "4         0       3    male  35.0      0      0   8.0500        S  Third   \n",
       "\n",
       "     who  adult_male deck  embark_town alive  alone  \n",
       "0    man        True  NaN  Southampton    no  False  \n",
       "1  woman       False    C    Cherbourg   yes  False  \n",
       "2  woman       False  NaN  Southampton   yes   True  \n",
       "3  woman       False    C  Southampton   yes  False  \n",
       "4    man        True  NaN  Southampton    no   True  "
      ]
     },
     "execution_count": 124,
     "metadata": {},
     "output_type": "execute_result"
    }
   ],
   "source": [
    "import seaborn as sns;\n",
    "\n",
    "titanic = sns.load_dataset('titanic')\n",
    "titanic.head()"
   ]
  },
  {
   "cell_type": "markdown",
   "metadata": {},
   "source": [
    "You can use `.unique()` to see the full set of distinct values in a series:"
   ]
  },
  {
   "cell_type": "code",
   "execution_count": 125,
   "metadata": {},
   "outputs": [
    {
     "data": {
      "text/plain": [
       "[NaN, C, E, G, D, A, B, F]\n",
       "Categories (7, object): [C, E, G, D, A, B, F]"
      ]
     },
     "execution_count": 125,
     "metadata": {},
     "output_type": "execute_result"
    }
   ],
   "source": [
    "titanic.deck.unique()"
   ]
  },
  {
   "cell_type": "markdown",
   "metadata": {},
   "source": [
    "`.value_counts()` will get the counts of the unique values:"
   ]
  },
  {
   "cell_type": "code",
   "execution_count": 126,
   "metadata": {},
   "outputs": [
    {
     "data": {
      "text/plain": [
       "C    59\n",
       "B    47\n",
       "D    33\n",
       "E    32\n",
       "A    15\n",
       "F    13\n",
       "G     4\n",
       "Name: deck, dtype: int64"
      ]
     },
     "execution_count": 126,
     "metadata": {},
     "output_type": "execute_result"
    }
   ],
   "source": [
    "titanic.deck.value_counts()"
   ]
  },
  {
   "cell_type": "markdown",
   "metadata": {},
   "source": [
    "`.describe()` will give summary statistics on a DataFrame. We first drop rows with NAs:"
   ]
  },
  {
   "cell_type": "code",
   "execution_count": 127,
   "metadata": {},
   "outputs": [
    {
     "data": {
      "text/html": [
       "<div>\n",
       "<style scoped>\n",
       "    .dataframe tbody tr th:only-of-type {\n",
       "        vertical-align: middle;\n",
       "    }\n",
       "\n",
       "    .dataframe tbody tr th {\n",
       "        vertical-align: top;\n",
       "    }\n",
       "\n",
       "    .dataframe thead th {\n",
       "        text-align: right;\n",
       "    }\n",
       "</style>\n",
       "<table border=\"1\" class=\"dataframe\">\n",
       "  <thead>\n",
       "    <tr style=\"text-align: right;\">\n",
       "      <th></th>\n",
       "      <th>survived</th>\n",
       "      <th>pclass</th>\n",
       "      <th>age</th>\n",
       "      <th>sibsp</th>\n",
       "      <th>parch</th>\n",
       "      <th>fare</th>\n",
       "    </tr>\n",
       "  </thead>\n",
       "  <tbody>\n",
       "    <tr>\n",
       "      <th>count</th>\n",
       "      <td>182.000000</td>\n",
       "      <td>182.000000</td>\n",
       "      <td>182.000000</td>\n",
       "      <td>182.000000</td>\n",
       "      <td>182.000000</td>\n",
       "      <td>182.000000</td>\n",
       "    </tr>\n",
       "    <tr>\n",
       "      <th>mean</th>\n",
       "      <td>0.675824</td>\n",
       "      <td>1.192308</td>\n",
       "      <td>35.623187</td>\n",
       "      <td>0.467033</td>\n",
       "      <td>0.478022</td>\n",
       "      <td>78.919735</td>\n",
       "    </tr>\n",
       "    <tr>\n",
       "      <th>std</th>\n",
       "      <td>0.469357</td>\n",
       "      <td>0.516411</td>\n",
       "      <td>15.671615</td>\n",
       "      <td>0.645007</td>\n",
       "      <td>0.755869</td>\n",
       "      <td>76.490774</td>\n",
       "    </tr>\n",
       "    <tr>\n",
       "      <th>min</th>\n",
       "      <td>0.000000</td>\n",
       "      <td>1.000000</td>\n",
       "      <td>0.920000</td>\n",
       "      <td>0.000000</td>\n",
       "      <td>0.000000</td>\n",
       "      <td>0.000000</td>\n",
       "    </tr>\n",
       "    <tr>\n",
       "      <th>25%</th>\n",
       "      <td>0.000000</td>\n",
       "      <td>1.000000</td>\n",
       "      <td>24.000000</td>\n",
       "      <td>0.000000</td>\n",
       "      <td>0.000000</td>\n",
       "      <td>29.700000</td>\n",
       "    </tr>\n",
       "    <tr>\n",
       "      <th>50%</th>\n",
       "      <td>1.000000</td>\n",
       "      <td>1.000000</td>\n",
       "      <td>36.000000</td>\n",
       "      <td>0.000000</td>\n",
       "      <td>0.000000</td>\n",
       "      <td>57.000000</td>\n",
       "    </tr>\n",
       "    <tr>\n",
       "      <th>75%</th>\n",
       "      <td>1.000000</td>\n",
       "      <td>1.000000</td>\n",
       "      <td>47.750000</td>\n",
       "      <td>1.000000</td>\n",
       "      <td>1.000000</td>\n",
       "      <td>90.000000</td>\n",
       "    </tr>\n",
       "    <tr>\n",
       "      <th>max</th>\n",
       "      <td>1.000000</td>\n",
       "      <td>3.000000</td>\n",
       "      <td>80.000000</td>\n",
       "      <td>3.000000</td>\n",
       "      <td>4.000000</td>\n",
       "      <td>512.329200</td>\n",
       "    </tr>\n",
       "  </tbody>\n",
       "</table>\n",
       "</div>"
      ],
      "text/plain": [
       "         survived      pclass         age       sibsp       parch        fare\n",
       "count  182.000000  182.000000  182.000000  182.000000  182.000000  182.000000\n",
       "mean     0.675824    1.192308   35.623187    0.467033    0.478022   78.919735\n",
       "std      0.469357    0.516411   15.671615    0.645007    0.755869   76.490774\n",
       "min      0.000000    1.000000    0.920000    0.000000    0.000000    0.000000\n",
       "25%      0.000000    1.000000   24.000000    0.000000    0.000000   29.700000\n",
       "50%      1.000000    1.000000   36.000000    0.000000    0.000000   57.000000\n",
       "75%      1.000000    1.000000   47.750000    1.000000    1.000000   90.000000\n",
       "max      1.000000    3.000000   80.000000    3.000000    4.000000  512.329200"
      ]
     },
     "execution_count": 127,
     "metadata": {},
     "output_type": "execute_result"
    }
   ],
   "source": [
    "titanic.dropna().describe()"
   ]
  },
  {
   "cell_type": "markdown",
   "metadata": {},
   "source": [
    "### Aggregating, Pivot Tables, and Multi-indexes\n",
    "\n",
    "There is a common set of operations known as the *split-apply-combine* pattern:\n",
    "\n",
    "- _split_ the data into groups based on some criteria (this is a `GROUP BY` in SQL, or `groupby` in Pandas)\n",
    "- _apply_ some aggregate function on the groups, such as finding the mean for of some column for each group\n",
    "- _combining_ the results into a new table (Dataframe)\n",
    "\n",
    "Let's look at some examples. We can see the survival rates by gender by grouping by gender, and aggegating the survival feature using `.mean()`:"
   ]
  },
  {
   "cell_type": "code",
   "execution_count": 128,
   "metadata": {},
   "outputs": [
    {
     "data": {
      "text/plain": [
       "sex\n",
       "female    0.742038\n",
       "male      0.188908\n",
       "Name: survived, dtype: float64"
      ]
     },
     "execution_count": 128,
     "metadata": {},
     "output_type": "execute_result"
    }
   ],
   "source": [
    "titanic.groupby('sex')['survived'].mean()"
   ]
  },
  {
   "cell_type": "markdown",
   "metadata": {},
   "source": [
    "Similarly it's interesting to see the survival rate by passenger class; we'll still group by gender as well:"
   ]
  },
  {
   "cell_type": "code",
   "execution_count": 129,
   "metadata": {},
   "outputs": [
    {
     "data": {
      "text/plain": [
       "sex     class \n",
       "female  First     0.968085\n",
       "        Second    0.921053\n",
       "        Third     0.500000\n",
       "male    First     0.368852\n",
       "        Second    0.157407\n",
       "        Third     0.135447\n",
       "Name: survived, dtype: float64"
      ]
     },
     "execution_count": 129,
     "metadata": {},
     "output_type": "execute_result"
    }
   ],
   "source": [
    "titanic.groupby(['sex', 'class'])['survived'].mean()"
   ]
  },
  {
   "cell_type": "markdown",
   "metadata": {},
   "source": [
    "Because we grouped by two columns, the DataFrame result this time is a hierarchical table; an example of a *multi-indexed* DataFrame (indexed by both 'sex' and 'class'). We're mostly going to ignore those in this notebook - you can read about them [here](https://jakevdp.github.io/PythonDataScienceHandbook/03.05-hierarchical-indexing.html) - but it is worth noting that Pandas has an `unstack` method that can turn a mutiply-indexed DataFrame back into a conventionally-indexed one. Each call to `unstack` will flatten out one level of a multi-index hierarchy (starting at the innermost, by default, although you can control this). There is also a `stack` method that does the opposite. Let's repeat the above but unstack the result:"
   ]
  },
  {
   "cell_type": "code",
   "execution_count": 130,
   "metadata": {},
   "outputs": [
    {
     "data": {
      "text/html": [
       "<div>\n",
       "<style scoped>\n",
       "    .dataframe tbody tr th:only-of-type {\n",
       "        vertical-align: middle;\n",
       "    }\n",
       "\n",
       "    .dataframe tbody tr th {\n",
       "        vertical-align: top;\n",
       "    }\n",
       "\n",
       "    .dataframe thead th {\n",
       "        text-align: right;\n",
       "    }\n",
       "</style>\n",
       "<table border=\"1\" class=\"dataframe\">\n",
       "  <thead>\n",
       "    <tr style=\"text-align: right;\">\n",
       "      <th>class</th>\n",
       "      <th>First</th>\n",
       "      <th>Second</th>\n",
       "      <th>Third</th>\n",
       "    </tr>\n",
       "    <tr>\n",
       "      <th>sex</th>\n",
       "      <th></th>\n",
       "      <th></th>\n",
       "      <th></th>\n",
       "    </tr>\n",
       "  </thead>\n",
       "  <tbody>\n",
       "    <tr>\n",
       "      <th>female</th>\n",
       "      <td>0.968085</td>\n",
       "      <td>0.921053</td>\n",
       "      <td>0.500000</td>\n",
       "    </tr>\n",
       "    <tr>\n",
       "      <th>male</th>\n",
       "      <td>0.368852</td>\n",
       "      <td>0.157407</td>\n",
       "      <td>0.135447</td>\n",
       "    </tr>\n",
       "  </tbody>\n",
       "</table>\n",
       "</div>"
      ],
      "text/plain": [
       "class      First    Second     Third\n",
       "sex                                 \n",
       "female  0.968085  0.921053  0.500000\n",
       "male    0.368852  0.157407  0.135447"
      ]
     },
     "execution_count": 130,
     "metadata": {},
     "output_type": "execute_result"
    }
   ],
   "source": [
    "titanic.groupby(['sex', 'class'])['survived'].mean().unstack()"
   ]
  },
  {
   "cell_type": "markdown",
   "metadata": {},
   "source": [
    "You may recognize the result as a *pivot* of the hierachical table. Pandas has a convenience method `pivot_table` to do all of the above in one go. It can take an `aggfunc` argument to specify how to aggregate the results; the default is to find the mean which is just what we want so we can omit it:"
   ]
  },
  {
   "cell_type": "code",
   "execution_count": 131,
   "metadata": {},
   "outputs": [
    {
     "data": {
      "text/html": [
       "<div>\n",
       "<style scoped>\n",
       "    .dataframe tbody tr th:only-of-type {\n",
       "        vertical-align: middle;\n",
       "    }\n",
       "\n",
       "    .dataframe tbody tr th {\n",
       "        vertical-align: top;\n",
       "    }\n",
       "\n",
       "    .dataframe thead th {\n",
       "        text-align: right;\n",
       "    }\n",
       "</style>\n",
       "<table border=\"1\" class=\"dataframe\">\n",
       "  <thead>\n",
       "    <tr style=\"text-align: right;\">\n",
       "      <th>class</th>\n",
       "      <th>First</th>\n",
       "      <th>Second</th>\n",
       "      <th>Third</th>\n",
       "    </tr>\n",
       "    <tr>\n",
       "      <th>sex</th>\n",
       "      <th></th>\n",
       "      <th></th>\n",
       "      <th></th>\n",
       "    </tr>\n",
       "  </thead>\n",
       "  <tbody>\n",
       "    <tr>\n",
       "      <th>female</th>\n",
       "      <td>0.968085</td>\n",
       "      <td>0.921053</td>\n",
       "      <td>0.500000</td>\n",
       "    </tr>\n",
       "    <tr>\n",
       "      <th>male</th>\n",
       "      <td>0.368852</td>\n",
       "      <td>0.157407</td>\n",
       "      <td>0.135447</td>\n",
       "    </tr>\n",
       "  </tbody>\n",
       "</table>\n",
       "</div>"
      ],
      "text/plain": [
       "class      First    Second     Third\n",
       "sex                                 \n",
       "female  0.968085  0.921053  0.500000\n",
       "male    0.368852  0.157407  0.135447"
      ]
     },
     "execution_count": 131,
     "metadata": {},
     "output_type": "execute_result"
    }
   ],
   "source": [
    "titanic.pivot_table('survived', index='sex', columns='class')"
   ]
  },
  {
   "cell_type": "markdown",
   "metadata": {},
   "source": [
    "We could have pivoted the other way:"
   ]
  },
  {
   "cell_type": "code",
   "execution_count": 132,
   "metadata": {},
   "outputs": [
    {
     "data": {
      "text/html": [
       "<div>\n",
       "<style scoped>\n",
       "    .dataframe tbody tr th:only-of-type {\n",
       "        vertical-align: middle;\n",
       "    }\n",
       "\n",
       "    .dataframe tbody tr th {\n",
       "        vertical-align: top;\n",
       "    }\n",
       "\n",
       "    .dataframe thead th {\n",
       "        text-align: right;\n",
       "    }\n",
       "</style>\n",
       "<table border=\"1\" class=\"dataframe\">\n",
       "  <thead>\n",
       "    <tr style=\"text-align: right;\">\n",
       "      <th>sex</th>\n",
       "      <th>female</th>\n",
       "      <th>male</th>\n",
       "    </tr>\n",
       "    <tr>\n",
       "      <th>class</th>\n",
       "      <th></th>\n",
       "      <th></th>\n",
       "    </tr>\n",
       "  </thead>\n",
       "  <tbody>\n",
       "    <tr>\n",
       "      <th>First</th>\n",
       "      <td>0.968085</td>\n",
       "      <td>0.368852</td>\n",
       "    </tr>\n",
       "    <tr>\n",
       "      <th>Second</th>\n",
       "      <td>0.921053</td>\n",
       "      <td>0.157407</td>\n",
       "    </tr>\n",
       "    <tr>\n",
       "      <th>Third</th>\n",
       "      <td>0.500000</td>\n",
       "      <td>0.135447</td>\n",
       "    </tr>\n",
       "  </tbody>\n",
       "</table>\n",
       "</div>"
      ],
      "text/plain": [
       "sex       female      male\n",
       "class                     \n",
       "First   0.968085  0.368852\n",
       "Second  0.921053  0.157407\n",
       "Third   0.500000  0.135447"
      ]
     },
     "execution_count": 132,
     "metadata": {},
     "output_type": "execute_result"
    }
   ],
   "source": [
    "titanic.pivot_table('survived', index='class', columns='sex')"
   ]
  },
  {
   "cell_type": "markdown",
   "metadata": {},
   "source": [
    "If we wanted counts instead, we could use Numpy's `sum` function to aggregate:"
   ]
  },
  {
   "cell_type": "code",
   "execution_count": 133,
   "metadata": {},
   "outputs": [
    {
     "data": {
      "text/html": [
       "<div>\n",
       "<style scoped>\n",
       "    .dataframe tbody tr th:only-of-type {\n",
       "        vertical-align: middle;\n",
       "    }\n",
       "\n",
       "    .dataframe tbody tr th {\n",
       "        vertical-align: top;\n",
       "    }\n",
       "\n",
       "    .dataframe thead th {\n",
       "        text-align: right;\n",
       "    }\n",
       "</style>\n",
       "<table border=\"1\" class=\"dataframe\">\n",
       "  <thead>\n",
       "    <tr style=\"text-align: right;\">\n",
       "      <th>class</th>\n",
       "      <th>First</th>\n",
       "      <th>Second</th>\n",
       "      <th>Third</th>\n",
       "    </tr>\n",
       "    <tr>\n",
       "      <th>sex</th>\n",
       "      <th></th>\n",
       "      <th></th>\n",
       "      <th></th>\n",
       "    </tr>\n",
       "  </thead>\n",
       "  <tbody>\n",
       "    <tr>\n",
       "      <th>female</th>\n",
       "      <td>91</td>\n",
       "      <td>70</td>\n",
       "      <td>72</td>\n",
       "    </tr>\n",
       "    <tr>\n",
       "      <th>male</th>\n",
       "      <td>45</td>\n",
       "      <td>17</td>\n",
       "      <td>47</td>\n",
       "    </tr>\n",
       "  </tbody>\n",
       "</table>\n",
       "</div>"
      ],
      "text/plain": [
       "class   First  Second  Third\n",
       "sex                         \n",
       "female     91      70     72\n",
       "male       45      17     47"
      ]
     },
     "execution_count": 133,
     "metadata": {},
     "output_type": "execute_result"
    }
   ],
   "source": [
    "titanic.pivot_table('survived', index='sex', columns='class', aggfunc='sum')"
   ]
  },
  {
   "cell_type": "markdown",
   "metadata": {},
   "source": [
    "You can see more about what aggregation functions are available [here](https://jakevdp.github.io/PythonDataScienceHandbook/02.04-computation-on-arrays-aggregates.html). Let's break things down further by age group (under 18 or over 18). To do this we will create a new series with the age range of each observation, using the `cut` function:"
   ]
  },
  {
   "cell_type": "code",
   "execution_count": 134,
   "metadata": {},
   "outputs": [
    {
     "data": {
      "text/plain": [
       "0    (18, 100]\n",
       "1    (18, 100]\n",
       "2    (18, 100]\n",
       "3    (18, 100]\n",
       "4    (18, 100]\n",
       "Name: age, dtype: category\n",
       "Categories (2, interval[int64]): [(0, 18] < (18, 100]]"
      ]
     },
     "execution_count": 134,
     "metadata": {},
     "output_type": "execute_result"
    }
   ],
   "source": [
    "age = pd.cut(titanic['age'], [0, 18, 100])  # Assume no-one is over 100\n",
    "age.head()"
   ]
  },
  {
   "cell_type": "markdown",
   "metadata": {},
   "source": [
    "Now we can create our pivot table using the age series as one of the indices! Pretty cool!"
   ]
  },
  {
   "cell_type": "code",
   "execution_count": 135,
   "metadata": {},
   "outputs": [
    {
     "data": {
      "text/html": [
       "<div>\n",
       "<style scoped>\n",
       "    .dataframe tbody tr th:only-of-type {\n",
       "        vertical-align: middle;\n",
       "    }\n",
       "\n",
       "    .dataframe tbody tr th {\n",
       "        vertical-align: top;\n",
       "    }\n",
       "\n",
       "    .dataframe thead th {\n",
       "        text-align: right;\n",
       "    }\n",
       "</style>\n",
       "<table border=\"1\" class=\"dataframe\">\n",
       "  <thead>\n",
       "    <tr style=\"text-align: right;\">\n",
       "      <th></th>\n",
       "      <th>class</th>\n",
       "      <th>First</th>\n",
       "      <th>Second</th>\n",
       "      <th>Third</th>\n",
       "    </tr>\n",
       "    <tr>\n",
       "      <th>sex</th>\n",
       "      <th>age</th>\n",
       "      <th></th>\n",
       "      <th></th>\n",
       "      <th></th>\n",
       "    </tr>\n",
       "  </thead>\n",
       "  <tbody>\n",
       "    <tr>\n",
       "      <th rowspan=\"2\" valign=\"top\">female</th>\n",
       "      <th>(0, 18]</th>\n",
       "      <td>0.909091</td>\n",
       "      <td>1.000000</td>\n",
       "      <td>0.511628</td>\n",
       "    </tr>\n",
       "    <tr>\n",
       "      <th>(18, 100]</th>\n",
       "      <td>0.972973</td>\n",
       "      <td>0.900000</td>\n",
       "      <td>0.423729</td>\n",
       "    </tr>\n",
       "    <tr>\n",
       "      <th rowspan=\"2\" valign=\"top\">male</th>\n",
       "      <th>(0, 18]</th>\n",
       "      <td>0.800000</td>\n",
       "      <td>0.600000</td>\n",
       "      <td>0.215686</td>\n",
       "    </tr>\n",
       "    <tr>\n",
       "      <th>(18, 100]</th>\n",
       "      <td>0.375000</td>\n",
       "      <td>0.071429</td>\n",
       "      <td>0.133663</td>\n",
       "    </tr>\n",
       "  </tbody>\n",
       "</table>\n",
       "</div>"
      ],
      "text/plain": [
       "class                First    Second     Third\n",
       "sex    age                                    \n",
       "female (0, 18]    0.909091  1.000000  0.511628\n",
       "       (18, 100]  0.972973  0.900000  0.423729\n",
       "male   (0, 18]    0.800000  0.600000  0.215686\n",
       "       (18, 100]  0.375000  0.071429  0.133663"
      ]
     },
     "execution_count": 135,
     "metadata": {},
     "output_type": "execute_result"
    }
   ],
   "source": [
    "titanic.pivot_table('survived', index=['sex', age], columns='class')"
   ]
  },
  {
   "cell_type": "markdown",
   "metadata": {},
   "source": [
    "### Applying Functions\n",
    "\n",
    "We saw earlier that we can add new columns to a DataFrame easily. The new column can be a function of an existing column. For example, we could add an 'is_adult' field to the Titanic data:"
   ]
  },
  {
   "cell_type": "code",
   "execution_count": 136,
   "metadata": {},
   "outputs": [
    {
     "data": {
      "text/html": [
       "<div>\n",
       "<style scoped>\n",
       "    .dataframe tbody tr th:only-of-type {\n",
       "        vertical-align: middle;\n",
       "    }\n",
       "\n",
       "    .dataframe tbody tr th {\n",
       "        vertical-align: top;\n",
       "    }\n",
       "\n",
       "    .dataframe thead th {\n",
       "        text-align: right;\n",
       "    }\n",
       "</style>\n",
       "<table border=\"1\" class=\"dataframe\">\n",
       "  <thead>\n",
       "    <tr style=\"text-align: right;\">\n",
       "      <th></th>\n",
       "      <th>survived</th>\n",
       "      <th>pclass</th>\n",
       "      <th>sex</th>\n",
       "      <th>age</th>\n",
       "      <th>sibsp</th>\n",
       "      <th>parch</th>\n",
       "      <th>fare</th>\n",
       "      <th>embarked</th>\n",
       "      <th>class</th>\n",
       "      <th>who</th>\n",
       "      <th>adult_male</th>\n",
       "      <th>deck</th>\n",
       "      <th>embark_town</th>\n",
       "      <th>alive</th>\n",
       "      <th>alone</th>\n",
       "      <th>is_adult</th>\n",
       "    </tr>\n",
       "  </thead>\n",
       "  <tbody>\n",
       "    <tr>\n",
       "      <th>0</th>\n",
       "      <td>0</td>\n",
       "      <td>3</td>\n",
       "      <td>male</td>\n",
       "      <td>22.0</td>\n",
       "      <td>1</td>\n",
       "      <td>0</td>\n",
       "      <td>7.2500</td>\n",
       "      <td>S</td>\n",
       "      <td>Third</td>\n",
       "      <td>man</td>\n",
       "      <td>True</td>\n",
       "      <td>NaN</td>\n",
       "      <td>Southampton</td>\n",
       "      <td>no</td>\n",
       "      <td>False</td>\n",
       "      <td>True</td>\n",
       "    </tr>\n",
       "    <tr>\n",
       "      <th>1</th>\n",
       "      <td>1</td>\n",
       "      <td>1</td>\n",
       "      <td>female</td>\n",
       "      <td>38.0</td>\n",
       "      <td>1</td>\n",
       "      <td>0</td>\n",
       "      <td>71.2833</td>\n",
       "      <td>C</td>\n",
       "      <td>First</td>\n",
       "      <td>woman</td>\n",
       "      <td>False</td>\n",
       "      <td>C</td>\n",
       "      <td>Cherbourg</td>\n",
       "      <td>yes</td>\n",
       "      <td>False</td>\n",
       "      <td>True</td>\n",
       "    </tr>\n",
       "    <tr>\n",
       "      <th>2</th>\n",
       "      <td>1</td>\n",
       "      <td>3</td>\n",
       "      <td>female</td>\n",
       "      <td>26.0</td>\n",
       "      <td>0</td>\n",
       "      <td>0</td>\n",
       "      <td>7.9250</td>\n",
       "      <td>S</td>\n",
       "      <td>Third</td>\n",
       "      <td>woman</td>\n",
       "      <td>False</td>\n",
       "      <td>NaN</td>\n",
       "      <td>Southampton</td>\n",
       "      <td>yes</td>\n",
       "      <td>True</td>\n",
       "      <td>True</td>\n",
       "    </tr>\n",
       "    <tr>\n",
       "      <th>3</th>\n",
       "      <td>1</td>\n",
       "      <td>1</td>\n",
       "      <td>female</td>\n",
       "      <td>35.0</td>\n",
       "      <td>1</td>\n",
       "      <td>0</td>\n",
       "      <td>53.1000</td>\n",
       "      <td>S</td>\n",
       "      <td>First</td>\n",
       "      <td>woman</td>\n",
       "      <td>False</td>\n",
       "      <td>C</td>\n",
       "      <td>Southampton</td>\n",
       "      <td>yes</td>\n",
       "      <td>False</td>\n",
       "      <td>True</td>\n",
       "    </tr>\n",
       "    <tr>\n",
       "      <th>4</th>\n",
       "      <td>0</td>\n",
       "      <td>3</td>\n",
       "      <td>male</td>\n",
       "      <td>35.0</td>\n",
       "      <td>0</td>\n",
       "      <td>0</td>\n",
       "      <td>8.0500</td>\n",
       "      <td>S</td>\n",
       "      <td>Third</td>\n",
       "      <td>man</td>\n",
       "      <td>True</td>\n",
       "      <td>NaN</td>\n",
       "      <td>Southampton</td>\n",
       "      <td>no</td>\n",
       "      <td>True</td>\n",
       "      <td>True</td>\n",
       "    </tr>\n",
       "  </tbody>\n",
       "</table>\n",
       "</div>"
      ],
      "text/plain": [
       "   survived  pclass     sex   age  sibsp  parch     fare embarked  class  \\\n",
       "0         0       3    male  22.0      1      0   7.2500        S  Third   \n",
       "1         1       1  female  38.0      1      0  71.2833        C  First   \n",
       "2         1       3  female  26.0      0      0   7.9250        S  Third   \n",
       "3         1       1  female  35.0      1      0  53.1000        S  First   \n",
       "4         0       3    male  35.0      0      0   8.0500        S  Third   \n",
       "\n",
       "     who  adult_male deck  embark_town alive  alone  is_adult  \n",
       "0    man        True  NaN  Southampton    no  False      True  \n",
       "1  woman       False    C    Cherbourg   yes  False      True  \n",
       "2  woman       False  NaN  Southampton   yes   True      True  \n",
       "3  woman       False    C  Southampton   yes  False      True  \n",
       "4    man        True  NaN  Southampton    no   True      True  "
      ]
     },
     "execution_count": 136,
     "metadata": {},
     "output_type": "execute_result"
    }
   ],
   "source": [
    "titanic['is_adult'] = titanic.age >= 18\n",
    "titanic.head()"
   ]
  },
  {
   "cell_type": "markdown",
   "metadata": {},
   "source": [
    "That's a simple case; we can do more complex row-by-row applications of arbitrary functions; here's the same change done differently (this would be much less efficient but may be the only option if the function is complex):"
   ]
  },
  {
   "cell_type": "code",
   "execution_count": 137,
   "metadata": {},
   "outputs": [
    {
     "data": {
      "text/html": [
       "<div>\n",
       "<style scoped>\n",
       "    .dataframe tbody tr th:only-of-type {\n",
       "        vertical-align: middle;\n",
       "    }\n",
       "\n",
       "    .dataframe tbody tr th {\n",
       "        vertical-align: top;\n",
       "    }\n",
       "\n",
       "    .dataframe thead th {\n",
       "        text-align: right;\n",
       "    }\n",
       "</style>\n",
       "<table border=\"1\" class=\"dataframe\">\n",
       "  <thead>\n",
       "    <tr style=\"text-align: right;\">\n",
       "      <th></th>\n",
       "      <th>survived</th>\n",
       "      <th>pclass</th>\n",
       "      <th>sex</th>\n",
       "      <th>age</th>\n",
       "      <th>sibsp</th>\n",
       "      <th>parch</th>\n",
       "      <th>fare</th>\n",
       "      <th>embarked</th>\n",
       "      <th>class</th>\n",
       "      <th>who</th>\n",
       "      <th>adult_male</th>\n",
       "      <th>deck</th>\n",
       "      <th>embark_town</th>\n",
       "      <th>alive</th>\n",
       "      <th>alone</th>\n",
       "      <th>is_adult</th>\n",
       "    </tr>\n",
       "  </thead>\n",
       "  <tbody>\n",
       "    <tr>\n",
       "      <th>0</th>\n",
       "      <td>0</td>\n",
       "      <td>3</td>\n",
       "      <td>male</td>\n",
       "      <td>22.0</td>\n",
       "      <td>1</td>\n",
       "      <td>0</td>\n",
       "      <td>7.2500</td>\n",
       "      <td>S</td>\n",
       "      <td>Third</td>\n",
       "      <td>man</td>\n",
       "      <td>True</td>\n",
       "      <td>NaN</td>\n",
       "      <td>Southampton</td>\n",
       "      <td>no</td>\n",
       "      <td>False</td>\n",
       "      <td>True</td>\n",
       "    </tr>\n",
       "    <tr>\n",
       "      <th>1</th>\n",
       "      <td>1</td>\n",
       "      <td>1</td>\n",
       "      <td>female</td>\n",
       "      <td>38.0</td>\n",
       "      <td>1</td>\n",
       "      <td>0</td>\n",
       "      <td>71.2833</td>\n",
       "      <td>C</td>\n",
       "      <td>First</td>\n",
       "      <td>woman</td>\n",
       "      <td>False</td>\n",
       "      <td>C</td>\n",
       "      <td>Cherbourg</td>\n",
       "      <td>yes</td>\n",
       "      <td>False</td>\n",
       "      <td>True</td>\n",
       "    </tr>\n",
       "    <tr>\n",
       "      <th>2</th>\n",
       "      <td>1</td>\n",
       "      <td>3</td>\n",
       "      <td>female</td>\n",
       "      <td>26.0</td>\n",
       "      <td>0</td>\n",
       "      <td>0</td>\n",
       "      <td>7.9250</td>\n",
       "      <td>S</td>\n",
       "      <td>Third</td>\n",
       "      <td>woman</td>\n",
       "      <td>False</td>\n",
       "      <td>NaN</td>\n",
       "      <td>Southampton</td>\n",
       "      <td>yes</td>\n",
       "      <td>True</td>\n",
       "      <td>True</td>\n",
       "    </tr>\n",
       "    <tr>\n",
       "      <th>3</th>\n",
       "      <td>1</td>\n",
       "      <td>1</td>\n",
       "      <td>female</td>\n",
       "      <td>35.0</td>\n",
       "      <td>1</td>\n",
       "      <td>0</td>\n",
       "      <td>53.1000</td>\n",
       "      <td>S</td>\n",
       "      <td>First</td>\n",
       "      <td>woman</td>\n",
       "      <td>False</td>\n",
       "      <td>C</td>\n",
       "      <td>Southampton</td>\n",
       "      <td>yes</td>\n",
       "      <td>False</td>\n",
       "      <td>True</td>\n",
       "    </tr>\n",
       "    <tr>\n",
       "      <th>4</th>\n",
       "      <td>0</td>\n",
       "      <td>3</td>\n",
       "      <td>male</td>\n",
       "      <td>35.0</td>\n",
       "      <td>0</td>\n",
       "      <td>0</td>\n",
       "      <td>8.0500</td>\n",
       "      <td>S</td>\n",
       "      <td>Third</td>\n",
       "      <td>man</td>\n",
       "      <td>True</td>\n",
       "      <td>NaN</td>\n",
       "      <td>Southampton</td>\n",
       "      <td>no</td>\n",
       "      <td>True</td>\n",
       "      <td>True</td>\n",
       "    </tr>\n",
       "  </tbody>\n",
       "</table>\n",
       "</div>"
      ],
      "text/plain": [
       "   survived  pclass     sex   age  sibsp  parch     fare embarked  class  \\\n",
       "0         0       3    male  22.0      1      0   7.2500        S  Third   \n",
       "1         1       1  female  38.0      1      0  71.2833        C  First   \n",
       "2         1       3  female  26.0      0      0   7.9250        S  Third   \n",
       "3         1       1  female  35.0      1      0  53.1000        S  First   \n",
       "4         0       3    male  35.0      0      0   8.0500        S  Third   \n",
       "\n",
       "     who  adult_male deck  embark_town alive  alone  is_adult  \n",
       "0    man        True  NaN  Southampton    no  False      True  \n",
       "1  woman       False    C    Cherbourg   yes  False      True  \n",
       "2  woman       False  NaN  Southampton   yes   True      True  \n",
       "3  woman       False    C  Southampton   yes  False      True  \n",
       "4    man        True  NaN  Southampton    no   True      True  "
      ]
     },
     "execution_count": 137,
     "metadata": {},
     "output_type": "execute_result"
    }
   ],
   "source": [
    "titanic['is_adult'] = titanic.apply(lambda row: row['age'] >= 18, axis=1)\n",
    "titanic.head()"
   ]
  },
  {
   "cell_type": "markdown",
   "metadata": {},
   "source": [
    "### Exercise 6\n",
    "\n",
    "Use the same DataFrame from exercise 5:\n",
    "\n",
    "- Calculate the mean age for each different type of animal\n",
    "- Count the number of each type of animal\n",
    "- Sort the data first by the values in the 'age' column in decending order, then by the value in the 'visits' column in ascending order.\n",
    "- In the 'animal' column, change the 'snake' entries to 'python'\n",
    "- The 'priority' column contains the values 'yes' and 'no'. Replace this column with a column of boolean values: 'yes' should be True and 'no' should be False"
   ]
  },
  {
   "cell_type": "markdown",
   "metadata": {},
   "source": [
    "### String Operations\n",
    "\n",
    "Pandas has [vectorized string operations](https://pandas.pydata.org/pandas-docs/stable/text.html) that will skip over missing values. Looks look at some examples: "
   ]
  },
  {
   "cell_type": "code",
   "execution_count": 138,
   "metadata": {},
   "outputs": [
    {
     "data": {
      "text/html": [
       "<div>\n",
       "<style scoped>\n",
       "    .dataframe tbody tr th:only-of-type {\n",
       "        vertical-align: middle;\n",
       "    }\n",
       "\n",
       "    .dataframe tbody tr th {\n",
       "        vertical-align: top;\n",
       "    }\n",
       "\n",
       "    .dataframe thead th {\n",
       "        text-align: right;\n",
       "    }\n",
       "</style>\n",
       "<table border=\"1\" class=\"dataframe\">\n",
       "  <thead>\n",
       "    <tr style=\"text-align: right;\">\n",
       "      <th></th>\n",
       "      <th>pclass</th>\n",
       "      <th>survived</th>\n",
       "      <th>name</th>\n",
       "      <th>sex</th>\n",
       "      <th>age</th>\n",
       "      <th>sibsp</th>\n",
       "      <th>parch</th>\n",
       "      <th>ticket</th>\n",
       "      <th>fare</th>\n",
       "      <th>cabin</th>\n",
       "      <th>embarked</th>\n",
       "      <th>boat</th>\n",
       "      <th>body</th>\n",
       "      <th>home.dest</th>\n",
       "    </tr>\n",
       "  </thead>\n",
       "  <tbody>\n",
       "    <tr>\n",
       "      <th>0</th>\n",
       "      <td>1</td>\n",
       "      <td>1</td>\n",
       "      <td>Allen, Miss. Elisabeth Walton</td>\n",
       "      <td>female</td>\n",
       "      <td>29.0000</td>\n",
       "      <td>0</td>\n",
       "      <td>0</td>\n",
       "      <td>24160</td>\n",
       "      <td>211.3375</td>\n",
       "      <td>B5</td>\n",
       "      <td>S</td>\n",
       "      <td>2</td>\n",
       "      <td>NaN</td>\n",
       "      <td>St Louis, MO</td>\n",
       "    </tr>\n",
       "    <tr>\n",
       "      <th>1</th>\n",
       "      <td>1</td>\n",
       "      <td>1</td>\n",
       "      <td>Allison, Master. Hudson Trevor</td>\n",
       "      <td>male</td>\n",
       "      <td>0.9167</td>\n",
       "      <td>1</td>\n",
       "      <td>2</td>\n",
       "      <td>113781</td>\n",
       "      <td>151.5500</td>\n",
       "      <td>C22 C26</td>\n",
       "      <td>S</td>\n",
       "      <td>11</td>\n",
       "      <td>NaN</td>\n",
       "      <td>Montreal, PQ / Chesterville, ON</td>\n",
       "    </tr>\n",
       "    <tr>\n",
       "      <th>2</th>\n",
       "      <td>1</td>\n",
       "      <td>0</td>\n",
       "      <td>Allison, Miss. Helen Loraine</td>\n",
       "      <td>female</td>\n",
       "      <td>2.0000</td>\n",
       "      <td>1</td>\n",
       "      <td>2</td>\n",
       "      <td>113781</td>\n",
       "      <td>151.5500</td>\n",
       "      <td>C22 C26</td>\n",
       "      <td>S</td>\n",
       "      <td>NaN</td>\n",
       "      <td>NaN</td>\n",
       "      <td>Montreal, PQ / Chesterville, ON</td>\n",
       "    </tr>\n",
       "    <tr>\n",
       "      <th>3</th>\n",
       "      <td>1</td>\n",
       "      <td>0</td>\n",
       "      <td>Allison, Mr. Hudson Joshua Creighton</td>\n",
       "      <td>male</td>\n",
       "      <td>30.0000</td>\n",
       "      <td>1</td>\n",
       "      <td>2</td>\n",
       "      <td>113781</td>\n",
       "      <td>151.5500</td>\n",
       "      <td>C22 C26</td>\n",
       "      <td>S</td>\n",
       "      <td>NaN</td>\n",
       "      <td>135.0</td>\n",
       "      <td>Montreal, PQ / Chesterville, ON</td>\n",
       "    </tr>\n",
       "    <tr>\n",
       "      <th>4</th>\n",
       "      <td>1</td>\n",
       "      <td>0</td>\n",
       "      <td>Allison, Mrs. Hudson J C (Bessie Waldo Daniels)</td>\n",
       "      <td>female</td>\n",
       "      <td>25.0000</td>\n",
       "      <td>1</td>\n",
       "      <td>2</td>\n",
       "      <td>113781</td>\n",
       "      <td>151.5500</td>\n",
       "      <td>C22 C26</td>\n",
       "      <td>S</td>\n",
       "      <td>NaN</td>\n",
       "      <td>NaN</td>\n",
       "      <td>Montreal, PQ / Chesterville, ON</td>\n",
       "    </tr>\n",
       "  </tbody>\n",
       "</table>\n",
       "</div>"
      ],
      "text/plain": [
       "   pclass  survived                                             name     sex  \\\n",
       "0       1         1                    Allen, Miss. Elisabeth Walton  female   \n",
       "1       1         1                   Allison, Master. Hudson Trevor    male   \n",
       "2       1         0                     Allison, Miss. Helen Loraine  female   \n",
       "3       1         0             Allison, Mr. Hudson Joshua Creighton    male   \n",
       "4       1         0  Allison, Mrs. Hudson J C (Bessie Waldo Daniels)  female   \n",
       "\n",
       "       age  sibsp  parch  ticket      fare    cabin embarked boat   body  \\\n",
       "0  29.0000      0      0   24160  211.3375       B5        S    2    NaN   \n",
       "1   0.9167      1      2  113781  151.5500  C22 C26        S   11    NaN   \n",
       "2   2.0000      1      2  113781  151.5500  C22 C26        S  NaN    NaN   \n",
       "3  30.0000      1      2  113781  151.5500  C22 C26        S  NaN  135.0   \n",
       "4  25.0000      1      2  113781  151.5500  C22 C26        S  NaN    NaN   \n",
       "\n",
       "                         home.dest  \n",
       "0                     St Louis, MO  \n",
       "1  Montreal, PQ / Chesterville, ON  \n",
       "2  Montreal, PQ / Chesterville, ON  \n",
       "3  Montreal, PQ / Chesterville, ON  \n",
       "4  Montreal, PQ / Chesterville, ON  "
      ]
     },
     "execution_count": 138,
     "metadata": {},
     "output_type": "execute_result"
    }
   ],
   "source": [
    "# Let's get the more detailed Titanic data set\n",
    "titanic3 = pd.read_excel('http://biostat.mc.vanderbilt.edu/wiki/pub/Main/DataSets/titanic3.xls')\n",
    "titanic3.head()"
   ]
  },
  {
   "cell_type": "code",
   "execution_count": 139,
   "metadata": {},
   "outputs": [
    {
     "data": {
      "text/plain": [
       "0                       ST LOUIS, MO\n",
       "1    MONTREAL, PQ / CHESTERVILLE, ON\n",
       "2    MONTREAL, PQ / CHESTERVILLE, ON\n",
       "3    MONTREAL, PQ / CHESTERVILLE, ON\n",
       "4    MONTREAL, PQ / CHESTERVILLE, ON\n",
       "Name: home.dest, dtype: object"
      ]
     },
     "execution_count": 139,
     "metadata": {},
     "output_type": "execute_result"
    }
   ],
   "source": [
    "# Upper-case the home.dest field\n",
    "titanic3['home.dest'].str.upper().head()"
   ]
  },
  {
   "cell_type": "code",
   "execution_count": 140,
   "metadata": {},
   "outputs": [
    {
     "data": {
      "text/html": [
       "<div>\n",
       "<style scoped>\n",
       "    .dataframe tbody tr th:only-of-type {\n",
       "        vertical-align: middle;\n",
       "    }\n",
       "\n",
       "    .dataframe tbody tr th {\n",
       "        vertical-align: top;\n",
       "    }\n",
       "\n",
       "    .dataframe thead th {\n",
       "        text-align: right;\n",
       "    }\n",
       "</style>\n",
       "<table border=\"1\" class=\"dataframe\">\n",
       "  <thead>\n",
       "    <tr style=\"text-align: right;\">\n",
       "      <th></th>\n",
       "      <th>pclass</th>\n",
       "      <th>survived</th>\n",
       "      <th>name</th>\n",
       "      <th>sex</th>\n",
       "      <th>age</th>\n",
       "      <th>sibsp</th>\n",
       "      <th>parch</th>\n",
       "      <th>ticket</th>\n",
       "      <th>fare</th>\n",
       "      <th>cabin</th>\n",
       "      <th>embarked</th>\n",
       "      <th>boat</th>\n",
       "      <th>body</th>\n",
       "      <th>home</th>\n",
       "      <th>dest</th>\n",
       "    </tr>\n",
       "  </thead>\n",
       "  <tbody>\n",
       "    <tr>\n",
       "      <th>0</th>\n",
       "      <td>1</td>\n",
       "      <td>1</td>\n",
       "      <td>Allen, Miss. Elisabeth Walton</td>\n",
       "      <td>female</td>\n",
       "      <td>29.0000</td>\n",
       "      <td>0</td>\n",
       "      <td>0</td>\n",
       "      <td>24160</td>\n",
       "      <td>211.3375</td>\n",
       "      <td>B5</td>\n",
       "      <td>S</td>\n",
       "      <td>2</td>\n",
       "      <td>NaN</td>\n",
       "      <td>St Louis, MO</td>\n",
       "      <td>None</td>\n",
       "    </tr>\n",
       "    <tr>\n",
       "      <th>1</th>\n",
       "      <td>1</td>\n",
       "      <td>1</td>\n",
       "      <td>Allison, Master. Hudson Trevor</td>\n",
       "      <td>male</td>\n",
       "      <td>0.9167</td>\n",
       "      <td>1</td>\n",
       "      <td>2</td>\n",
       "      <td>113781</td>\n",
       "      <td>151.5500</td>\n",
       "      <td>C22 C26</td>\n",
       "      <td>S</td>\n",
       "      <td>11</td>\n",
       "      <td>NaN</td>\n",
       "      <td>Montreal, PQ</td>\n",
       "      <td>Chesterville, ON</td>\n",
       "    </tr>\n",
       "    <tr>\n",
       "      <th>2</th>\n",
       "      <td>1</td>\n",
       "      <td>0</td>\n",
       "      <td>Allison, Miss. Helen Loraine</td>\n",
       "      <td>female</td>\n",
       "      <td>2.0000</td>\n",
       "      <td>1</td>\n",
       "      <td>2</td>\n",
       "      <td>113781</td>\n",
       "      <td>151.5500</td>\n",
       "      <td>C22 C26</td>\n",
       "      <td>S</td>\n",
       "      <td>NaN</td>\n",
       "      <td>NaN</td>\n",
       "      <td>Montreal, PQ</td>\n",
       "      <td>Chesterville, ON</td>\n",
       "    </tr>\n",
       "    <tr>\n",
       "      <th>3</th>\n",
       "      <td>1</td>\n",
       "      <td>0</td>\n",
       "      <td>Allison, Mr. Hudson Joshua Creighton</td>\n",
       "      <td>male</td>\n",
       "      <td>30.0000</td>\n",
       "      <td>1</td>\n",
       "      <td>2</td>\n",
       "      <td>113781</td>\n",
       "      <td>151.5500</td>\n",
       "      <td>C22 C26</td>\n",
       "      <td>S</td>\n",
       "      <td>NaN</td>\n",
       "      <td>135.0</td>\n",
       "      <td>Montreal, PQ</td>\n",
       "      <td>Chesterville, ON</td>\n",
       "    </tr>\n",
       "    <tr>\n",
       "      <th>4</th>\n",
       "      <td>1</td>\n",
       "      <td>0</td>\n",
       "      <td>Allison, Mrs. Hudson J C (Bessie Waldo Daniels)</td>\n",
       "      <td>female</td>\n",
       "      <td>25.0000</td>\n",
       "      <td>1</td>\n",
       "      <td>2</td>\n",
       "      <td>113781</td>\n",
       "      <td>151.5500</td>\n",
       "      <td>C22 C26</td>\n",
       "      <td>S</td>\n",
       "      <td>NaN</td>\n",
       "      <td>NaN</td>\n",
       "      <td>Montreal, PQ</td>\n",
       "      <td>Chesterville, ON</td>\n",
       "    </tr>\n",
       "  </tbody>\n",
       "</table>\n",
       "</div>"
      ],
      "text/plain": [
       "   pclass  survived                                             name     sex  \\\n",
       "0       1         1                    Allen, Miss. Elisabeth Walton  female   \n",
       "1       1         1                   Allison, Master. Hudson Trevor    male   \n",
       "2       1         0                     Allison, Miss. Helen Loraine  female   \n",
       "3       1         0             Allison, Mr. Hudson Joshua Creighton    male   \n",
       "4       1         0  Allison, Mrs. Hudson J C (Bessie Waldo Daniels)  female   \n",
       "\n",
       "       age  sibsp  parch  ticket      fare    cabin embarked boat   body  \\\n",
       "0  29.0000      0      0   24160  211.3375       B5        S    2    NaN   \n",
       "1   0.9167      1      2  113781  151.5500  C22 C26        S   11    NaN   \n",
       "2   2.0000      1      2  113781  151.5500  C22 C26        S  NaN    NaN   \n",
       "3  30.0000      1      2  113781  151.5500  C22 C26        S  NaN  135.0   \n",
       "4  25.0000      1      2  113781  151.5500  C22 C26        S  NaN    NaN   \n",
       "\n",
       "            home               dest  \n",
       "0   St Louis, MO               None  \n",
       "1  Montreal, PQ    Chesterville, ON  \n",
       "2  Montreal, PQ    Chesterville, ON  \n",
       "3  Montreal, PQ    Chesterville, ON  \n",
       "4  Montreal, PQ    Chesterville, ON  "
      ]
     },
     "execution_count": 140,
     "metadata": {},
     "output_type": "execute_result"
    }
   ],
   "source": [
    "# Let's split the field up into two\n",
    "place_df = titanic3['home.dest'].str.split('/', expand=True)  # Expands the split list into DF columns\n",
    "place_df.columns = ['home', 'dest', '']  # For some reason there is a third column\n",
    "titanic3['home'] = place_df['home']\n",
    "titanic3['dest'] = place_df['dest']\n",
    "titanic3 = titanic3.drop(['home.dest'], axis=1)\n",
    "titanic3.head()"
   ]
  },
  {
   "cell_type": "markdown",
   "metadata": {},
   "source": [
    "### Ordinal and Categorical Data\n",
    "\n",
    "So far we have mostly seen numeric, date-related, and \"object\" or string data. When loading data, Pandas will try to infer if it is numeric, but fall back to string/object. Loading functions like `read_csv` take arguments that can let us explicitly tell Pandas what the type of a column is, or whether it should try to parse the values in a column as dates. However, there are other types that are common where Pandas will need more help.\n",
    "\n",
    "*Categorical* data is data where the values fall into a finite set of non-numeric values. Examples could be month names, department names, or occupations. It's possible to represent these as strings but generally much more space and time efficient to map the values to some more compact underlying representation. *Ordinal* data is categorical data where the values are also ordered; for example, exam grades like 'A', 'B', 'C', etc, or statements of preference ('Dislike', 'Neutral', 'Like'). In terms of use, the main difference is that it is valid to compare categorical data for equality only, while for ordinal values sorting, or comparing with relational operators like '>', is meaningful (of course in practice we often sort categorical values alphabetically, but that is mostly a convenience and doesn't usually imply relative importance or weight). It's useful to think of ordinal and categorical data as being similar to enumerations in programming languages that support these. \n",
    "\n",
    "Let's look at some examples. We will use a dataset with automobile data from the [UCI Machine Learning Repository](http://mlr.cs.umass.edu/ml/index.html). This data has '?' for missing values so we need to specify that to get the right conversion. It's also missing a header line so we need to supply names for the columns:"
   ]
  },
  {
   "cell_type": "code",
   "execution_count": 141,
   "metadata": {},
   "outputs": [
    {
     "data": {
      "text/html": [
       "<div>\n",
       "<style scoped>\n",
       "    .dataframe tbody tr th:only-of-type {\n",
       "        vertical-align: middle;\n",
       "    }\n",
       "\n",
       "    .dataframe tbody tr th {\n",
       "        vertical-align: top;\n",
       "    }\n",
       "\n",
       "    .dataframe thead th {\n",
       "        text-align: right;\n",
       "    }\n",
       "</style>\n",
       "<table border=\"1\" class=\"dataframe\">\n",
       "  <thead>\n",
       "    <tr style=\"text-align: right;\">\n",
       "      <th></th>\n",
       "      <th>symboling</th>\n",
       "      <th>normalized_losses</th>\n",
       "      <th>make</th>\n",
       "      <th>fuel_type</th>\n",
       "      <th>aspiration</th>\n",
       "      <th>num_doors</th>\n",
       "      <th>body_style</th>\n",
       "      <th>drive_wheels</th>\n",
       "      <th>engine_location</th>\n",
       "      <th>wheel_base</th>\n",
       "      <th>...</th>\n",
       "      <th>engine_size</th>\n",
       "      <th>fuel_system</th>\n",
       "      <th>bore</th>\n",
       "      <th>stroke</th>\n",
       "      <th>compression_ratio</th>\n",
       "      <th>horsepower</th>\n",
       "      <th>peak_rpm</th>\n",
       "      <th>city_mpg</th>\n",
       "      <th>highway_mpg</th>\n",
       "      <th>price</th>\n",
       "    </tr>\n",
       "  </thead>\n",
       "  <tbody>\n",
       "    <tr>\n",
       "      <th>0</th>\n",
       "      <td>3</td>\n",
       "      <td>NaN</td>\n",
       "      <td>alfa-romero</td>\n",
       "      <td>gas</td>\n",
       "      <td>std</td>\n",
       "      <td>two</td>\n",
       "      <td>convertible</td>\n",
       "      <td>rwd</td>\n",
       "      <td>front</td>\n",
       "      <td>88.6</td>\n",
       "      <td>...</td>\n",
       "      <td>130</td>\n",
       "      <td>mpfi</td>\n",
       "      <td>3.47</td>\n",
       "      <td>2.68</td>\n",
       "      <td>9.0</td>\n",
       "      <td>111.0</td>\n",
       "      <td>5000.0</td>\n",
       "      <td>21</td>\n",
       "      <td>27</td>\n",
       "      <td>13495.0</td>\n",
       "    </tr>\n",
       "    <tr>\n",
       "      <th>1</th>\n",
       "      <td>3</td>\n",
       "      <td>NaN</td>\n",
       "      <td>alfa-romero</td>\n",
       "      <td>gas</td>\n",
       "      <td>std</td>\n",
       "      <td>two</td>\n",
       "      <td>convertible</td>\n",
       "      <td>rwd</td>\n",
       "      <td>front</td>\n",
       "      <td>88.6</td>\n",
       "      <td>...</td>\n",
       "      <td>130</td>\n",
       "      <td>mpfi</td>\n",
       "      <td>3.47</td>\n",
       "      <td>2.68</td>\n",
       "      <td>9.0</td>\n",
       "      <td>111.0</td>\n",
       "      <td>5000.0</td>\n",
       "      <td>21</td>\n",
       "      <td>27</td>\n",
       "      <td>16500.0</td>\n",
       "    </tr>\n",
       "    <tr>\n",
       "      <th>2</th>\n",
       "      <td>1</td>\n",
       "      <td>NaN</td>\n",
       "      <td>alfa-romero</td>\n",
       "      <td>gas</td>\n",
       "      <td>std</td>\n",
       "      <td>two</td>\n",
       "      <td>hatchback</td>\n",
       "      <td>rwd</td>\n",
       "      <td>front</td>\n",
       "      <td>94.5</td>\n",
       "      <td>...</td>\n",
       "      <td>152</td>\n",
       "      <td>mpfi</td>\n",
       "      <td>2.68</td>\n",
       "      <td>3.47</td>\n",
       "      <td>9.0</td>\n",
       "      <td>154.0</td>\n",
       "      <td>5000.0</td>\n",
       "      <td>19</td>\n",
       "      <td>26</td>\n",
       "      <td>16500.0</td>\n",
       "    </tr>\n",
       "    <tr>\n",
       "      <th>3</th>\n",
       "      <td>2</td>\n",
       "      <td>164.0</td>\n",
       "      <td>audi</td>\n",
       "      <td>gas</td>\n",
       "      <td>std</td>\n",
       "      <td>four</td>\n",
       "      <td>sedan</td>\n",
       "      <td>fwd</td>\n",
       "      <td>front</td>\n",
       "      <td>99.8</td>\n",
       "      <td>...</td>\n",
       "      <td>109</td>\n",
       "      <td>mpfi</td>\n",
       "      <td>3.19</td>\n",
       "      <td>3.40</td>\n",
       "      <td>10.0</td>\n",
       "      <td>102.0</td>\n",
       "      <td>5500.0</td>\n",
       "      <td>24</td>\n",
       "      <td>30</td>\n",
       "      <td>13950.0</td>\n",
       "    </tr>\n",
       "    <tr>\n",
       "      <th>4</th>\n",
       "      <td>2</td>\n",
       "      <td>164.0</td>\n",
       "      <td>audi</td>\n",
       "      <td>gas</td>\n",
       "      <td>std</td>\n",
       "      <td>four</td>\n",
       "      <td>sedan</td>\n",
       "      <td>4wd</td>\n",
       "      <td>front</td>\n",
       "      <td>99.4</td>\n",
       "      <td>...</td>\n",
       "      <td>136</td>\n",
       "      <td>mpfi</td>\n",
       "      <td>3.19</td>\n",
       "      <td>3.40</td>\n",
       "      <td>8.0</td>\n",
       "      <td>115.0</td>\n",
       "      <td>5500.0</td>\n",
       "      <td>18</td>\n",
       "      <td>22</td>\n",
       "      <td>17450.0</td>\n",
       "    </tr>\n",
       "  </tbody>\n",
       "</table>\n",
       "<p>5 rows × 26 columns</p>\n",
       "</div>"
      ],
      "text/plain": [
       "   symboling  normalized_losses         make fuel_type aspiration num_doors  \\\n",
       "0          3                NaN  alfa-romero       gas        std       two   \n",
       "1          3                NaN  alfa-romero       gas        std       two   \n",
       "2          1                NaN  alfa-romero       gas        std       two   \n",
       "3          2              164.0         audi       gas        std      four   \n",
       "4          2              164.0         audi       gas        std      four   \n",
       "\n",
       "    body_style drive_wheels engine_location  wheel_base   ...     engine_size  \\\n",
       "0  convertible          rwd           front        88.6   ...             130   \n",
       "1  convertible          rwd           front        88.6   ...             130   \n",
       "2    hatchback          rwd           front        94.5   ...             152   \n",
       "3        sedan          fwd           front        99.8   ...             109   \n",
       "4        sedan          4wd           front        99.4   ...             136   \n",
       "\n",
       "   fuel_system  bore  stroke compression_ratio horsepower  peak_rpm city_mpg  \\\n",
       "0         mpfi  3.47    2.68               9.0      111.0    5000.0       21   \n",
       "1         mpfi  3.47    2.68               9.0      111.0    5000.0       21   \n",
       "2         mpfi  2.68    3.47               9.0      154.0    5000.0       19   \n",
       "3         mpfi  3.19    3.40              10.0      102.0    5500.0       24   \n",
       "4         mpfi  3.19    3.40               8.0      115.0    5500.0       18   \n",
       "\n",
       "   highway_mpg    price  \n",
       "0           27  13495.0  \n",
       "1           27  16500.0  \n",
       "2           26  16500.0  \n",
       "3           30  13950.0  \n",
       "4           22  17450.0  \n",
       "\n",
       "[5 rows x 26 columns]"
      ]
     },
     "execution_count": 141,
     "metadata": {},
     "output_type": "execute_result"
    }
   ],
   "source": [
    "autos = pd.read_csv(\"http://mlr.cs.umass.edu/ml/machine-learning-databases/autos/imports-85.data\", na_values='?', \n",
    "                    header=None, names=[\n",
    "                        \"symboling\", \"normalized_losses\", \"make\", \"fuel_type\", \"aspiration\",\n",
    "                        \"num_doors\", \"body_style\", \"drive_wheels\", \"engine_location\",\n",
    "                        \"wheel_base\", \"length\", \"width\", \"height\", \"curb_weight\",\n",
    "                        \"engine_type\", \"num_cylinders\", \"engine_size\", \"fuel_system\",\n",
    "                        \"bore\", \"stroke\", \"compression_ratio\", \"horsepower\", \"peak_rpm\",\n",
    "                        \"city_mpg\", \"highway_mpg\", \"price\"\n",
    "                    ])\n",
    "autos.head()"
   ]
  },
  {
   "cell_type": "markdown",
   "metadata": {},
   "source": [
    "There are some obvious examples here for categorical types; for example `make`, `body_style`, `drive_wheels`, and `engine_location`. There are also some numeric columns that have been represented as words. Let's fix those first. First we should see what possible values they can take:"
   ]
  },
  {
   "cell_type": "code",
   "execution_count": 142,
   "metadata": {},
   "outputs": [
    {
     "data": {
      "text/plain": [
       "array(['four', 'six', 'five', 'three', 'twelve', 'two', 'eight'], dtype=object)"
      ]
     },
     "execution_count": 142,
     "metadata": {},
     "output_type": "execute_result"
    }
   ],
   "source": [
    "autos['num_cylinders'].unique()"
   ]
  },
  {
   "cell_type": "code",
   "execution_count": 143,
   "metadata": {},
   "outputs": [
    {
     "data": {
      "text/plain": [
       "array(['two', 'four', nan], dtype=object)"
      ]
     },
     "execution_count": 143,
     "metadata": {},
     "output_type": "execute_result"
    }
   ],
   "source": [
    "autos['num_doors'].unique()"
   ]
  },
  {
   "cell_type": "markdown",
   "metadata": {},
   "source": [
    "Let's fix the `nan` values for `num_doors`; four seems a reasonable default for the number of doors of a car:"
   ]
  },
  {
   "cell_type": "code",
   "execution_count": 144,
   "metadata": {},
   "outputs": [],
   "source": [
    "autos = autos.fillna({\"num_doors\": \"four\"})"
   ]
  },
  {
   "cell_type": "markdown",
   "metadata": {},
   "source": [
    "To convert these to numbers we need to way to map from the number name to its value. We can use a dictionary for that:"
   ]
  },
  {
   "cell_type": "code",
   "execution_count": 145,
   "metadata": {},
   "outputs": [],
   "source": [
    "numbers = {\"two\": 2, \"three\": 3, \"four\": 4, \"five\": 5, \"six\": 6, \"eight\": 8, \"twelve\": 12}"
   ]
  },
  {
   "cell_type": "markdown",
   "metadata": {},
   "source": [
    "Now we can use the `replace` method to transform the values using the dictionary:"
   ]
  },
  {
   "cell_type": "code",
   "execution_count": 146,
   "metadata": {},
   "outputs": [
    {
     "data": {
      "text/html": [
       "<div>\n",
       "<style scoped>\n",
       "    .dataframe tbody tr th:only-of-type {\n",
       "        vertical-align: middle;\n",
       "    }\n",
       "\n",
       "    .dataframe tbody tr th {\n",
       "        vertical-align: top;\n",
       "    }\n",
       "\n",
       "    .dataframe thead th {\n",
       "        text-align: right;\n",
       "    }\n",
       "</style>\n",
       "<table border=\"1\" class=\"dataframe\">\n",
       "  <thead>\n",
       "    <tr style=\"text-align: right;\">\n",
       "      <th></th>\n",
       "      <th>symboling</th>\n",
       "      <th>normalized_losses</th>\n",
       "      <th>make</th>\n",
       "      <th>fuel_type</th>\n",
       "      <th>aspiration</th>\n",
       "      <th>num_doors</th>\n",
       "      <th>body_style</th>\n",
       "      <th>drive_wheels</th>\n",
       "      <th>engine_location</th>\n",
       "      <th>wheel_base</th>\n",
       "      <th>...</th>\n",
       "      <th>engine_size</th>\n",
       "      <th>fuel_system</th>\n",
       "      <th>bore</th>\n",
       "      <th>stroke</th>\n",
       "      <th>compression_ratio</th>\n",
       "      <th>horsepower</th>\n",
       "      <th>peak_rpm</th>\n",
       "      <th>city_mpg</th>\n",
       "      <th>highway_mpg</th>\n",
       "      <th>price</th>\n",
       "    </tr>\n",
       "  </thead>\n",
       "  <tbody>\n",
       "    <tr>\n",
       "      <th>0</th>\n",
       "      <td>3</td>\n",
       "      <td>NaN</td>\n",
       "      <td>alfa-romero</td>\n",
       "      <td>gas</td>\n",
       "      <td>std</td>\n",
       "      <td>2</td>\n",
       "      <td>convertible</td>\n",
       "      <td>rwd</td>\n",
       "      <td>front</td>\n",
       "      <td>88.6</td>\n",
       "      <td>...</td>\n",
       "      <td>130</td>\n",
       "      <td>mpfi</td>\n",
       "      <td>3.47</td>\n",
       "      <td>2.68</td>\n",
       "      <td>9.0</td>\n",
       "      <td>111.0</td>\n",
       "      <td>5000.0</td>\n",
       "      <td>21</td>\n",
       "      <td>27</td>\n",
       "      <td>13495.0</td>\n",
       "    </tr>\n",
       "    <tr>\n",
       "      <th>1</th>\n",
       "      <td>3</td>\n",
       "      <td>NaN</td>\n",
       "      <td>alfa-romero</td>\n",
       "      <td>gas</td>\n",
       "      <td>std</td>\n",
       "      <td>2</td>\n",
       "      <td>convertible</td>\n",
       "      <td>rwd</td>\n",
       "      <td>front</td>\n",
       "      <td>88.6</td>\n",
       "      <td>...</td>\n",
       "      <td>130</td>\n",
       "      <td>mpfi</td>\n",
       "      <td>3.47</td>\n",
       "      <td>2.68</td>\n",
       "      <td>9.0</td>\n",
       "      <td>111.0</td>\n",
       "      <td>5000.0</td>\n",
       "      <td>21</td>\n",
       "      <td>27</td>\n",
       "      <td>16500.0</td>\n",
       "    </tr>\n",
       "    <tr>\n",
       "      <th>2</th>\n",
       "      <td>1</td>\n",
       "      <td>NaN</td>\n",
       "      <td>alfa-romero</td>\n",
       "      <td>gas</td>\n",
       "      <td>std</td>\n",
       "      <td>2</td>\n",
       "      <td>hatchback</td>\n",
       "      <td>rwd</td>\n",
       "      <td>front</td>\n",
       "      <td>94.5</td>\n",
       "      <td>...</td>\n",
       "      <td>152</td>\n",
       "      <td>mpfi</td>\n",
       "      <td>2.68</td>\n",
       "      <td>3.47</td>\n",
       "      <td>9.0</td>\n",
       "      <td>154.0</td>\n",
       "      <td>5000.0</td>\n",
       "      <td>19</td>\n",
       "      <td>26</td>\n",
       "      <td>16500.0</td>\n",
       "    </tr>\n",
       "    <tr>\n",
       "      <th>3</th>\n",
       "      <td>2</td>\n",
       "      <td>164.0</td>\n",
       "      <td>audi</td>\n",
       "      <td>gas</td>\n",
       "      <td>std</td>\n",
       "      <td>4</td>\n",
       "      <td>sedan</td>\n",
       "      <td>fwd</td>\n",
       "      <td>front</td>\n",
       "      <td>99.8</td>\n",
       "      <td>...</td>\n",
       "      <td>109</td>\n",
       "      <td>mpfi</td>\n",
       "      <td>3.19</td>\n",
       "      <td>3.40</td>\n",
       "      <td>10.0</td>\n",
       "      <td>102.0</td>\n",
       "      <td>5500.0</td>\n",
       "      <td>24</td>\n",
       "      <td>30</td>\n",
       "      <td>13950.0</td>\n",
       "    </tr>\n",
       "    <tr>\n",
       "      <th>4</th>\n",
       "      <td>2</td>\n",
       "      <td>164.0</td>\n",
       "      <td>audi</td>\n",
       "      <td>gas</td>\n",
       "      <td>std</td>\n",
       "      <td>4</td>\n",
       "      <td>sedan</td>\n",
       "      <td>4wd</td>\n",
       "      <td>front</td>\n",
       "      <td>99.4</td>\n",
       "      <td>...</td>\n",
       "      <td>136</td>\n",
       "      <td>mpfi</td>\n",
       "      <td>3.19</td>\n",
       "      <td>3.40</td>\n",
       "      <td>8.0</td>\n",
       "      <td>115.0</td>\n",
       "      <td>5500.0</td>\n",
       "      <td>18</td>\n",
       "      <td>22</td>\n",
       "      <td>17450.0</td>\n",
       "    </tr>\n",
       "  </tbody>\n",
       "</table>\n",
       "<p>5 rows × 26 columns</p>\n",
       "</div>"
      ],
      "text/plain": [
       "   symboling  normalized_losses         make fuel_type aspiration  num_doors  \\\n",
       "0          3                NaN  alfa-romero       gas        std          2   \n",
       "1          3                NaN  alfa-romero       gas        std          2   \n",
       "2          1                NaN  alfa-romero       gas        std          2   \n",
       "3          2              164.0         audi       gas        std          4   \n",
       "4          2              164.0         audi       gas        std          4   \n",
       "\n",
       "    body_style drive_wheels engine_location  wheel_base   ...     engine_size  \\\n",
       "0  convertible          rwd           front        88.6   ...             130   \n",
       "1  convertible          rwd           front        88.6   ...             130   \n",
       "2    hatchback          rwd           front        94.5   ...             152   \n",
       "3        sedan          fwd           front        99.8   ...             109   \n",
       "4        sedan          4wd           front        99.4   ...             136   \n",
       "\n",
       "   fuel_system  bore  stroke compression_ratio  horsepower  peak_rpm city_mpg  \\\n",
       "0         mpfi  3.47    2.68               9.0       111.0    5000.0       21   \n",
       "1         mpfi  3.47    2.68               9.0       111.0    5000.0       21   \n",
       "2         mpfi  2.68    3.47               9.0       154.0    5000.0       19   \n",
       "3         mpfi  3.19    3.40              10.0       102.0    5500.0       24   \n",
       "4         mpfi  3.19    3.40               8.0       115.0    5500.0       18   \n",
       "\n",
       "   highway_mpg    price  \n",
       "0           27  13495.0  \n",
       "1           27  16500.0  \n",
       "2           26  16500.0  \n",
       "3           30  13950.0  \n",
       "4           22  17450.0  \n",
       "\n",
       "[5 rows x 26 columns]"
      ]
     },
     "execution_count": 146,
     "metadata": {},
     "output_type": "execute_result"
    }
   ],
   "source": [
    "autos = autos.replace({\"num_doors\": numbers, \"num_cylinders\": numbers})\n",
    "autos.head()"
   ]
  },
  {
   "cell_type": "markdown",
   "metadata": {},
   "source": [
    "Now let's return to the categorical columns. We can use `astype` to convert the type, and we want to use the type `category`:"
   ]
  },
  {
   "cell_type": "code",
   "execution_count": 147,
   "metadata": {},
   "outputs": [
    {
     "data": {
      "text/plain": [
       "symboling               int64\n",
       "normalized_losses     float64\n",
       "make                 category\n",
       "fuel_type            category\n",
       "aspiration           category\n",
       "num_doors               int64\n",
       "body_style           category\n",
       "drive_wheels         category\n",
       "engine_location      category\n",
       "wheel_base            float64\n",
       "length                float64\n",
       "width                 float64\n",
       "height                float64\n",
       "curb_weight             int64\n",
       "engine_type          category\n",
       "num_cylinders           int64\n",
       "engine_size             int64\n",
       "fuel_system          category\n",
       "bore                  float64\n",
       "stroke                float64\n",
       "compression_ratio     float64\n",
       "horsepower            float64\n",
       "peak_rpm              float64\n",
       "city_mpg                int64\n",
       "highway_mpg             int64\n",
       "price                 float64\n",
       "dtype: object"
      ]
     },
     "execution_count": 147,
     "metadata": {},
     "output_type": "execute_result"
    }
   ],
   "source": [
    "autos[\"make\"] = autos[\"make\"].astype('category')\n",
    "autos[\"fuel_type\"] = autos[\"fuel_type\"].astype('category')\n",
    "autos[\"aspiration\"] = autos[\"aspiration\"].astype('category')\n",
    "autos[\"body_style\"] = autos[\"body_style\"].astype('category')\n",
    "autos[\"drive_wheels\"] = autos[\"drive_wheels\"].astype('category')\n",
    "autos[\"engine_location\"] = autos[\"engine_location\"].astype('category')\n",
    "autos[\"engine_type\"] = autos[\"engine_type\"].astype('category')\n",
    "autos[\"fuel_system\"] = autos[\"fuel_system\"].astype('category')\n",
    "autos.dtypes"
   ]
  },
  {
   "cell_type": "markdown",
   "metadata": {},
   "source": [
    "Under the hood now each of these columns has been turned into a type similar to an enumeration. We can use the `.cat` attribute to access some of the details. For example, to see the numeric value's now associated with each row for the `make` column:"
   ]
  },
  {
   "cell_type": "code",
   "execution_count": 148,
   "metadata": {},
   "outputs": [
    {
     "data": {
      "text/plain": [
       "0    0\n",
       "1    0\n",
       "2    0\n",
       "3    1\n",
       "4    1\n",
       "dtype: int8"
      ]
     },
     "execution_count": 148,
     "metadata": {},
     "output_type": "execute_result"
    }
   ],
   "source": [
    "autos['make'].cat.codes.head()"
   ]
  },
  {
   "cell_type": "code",
   "execution_count": 149,
   "metadata": {},
   "outputs": [
    {
     "data": {
      "text/plain": [
       "Index(['alfa-romero', 'audi', 'bmw', 'chevrolet', 'dodge', 'honda', 'isuzu',\n",
       "       'jaguar', 'mazda', 'mercedes-benz', 'mercury', 'mitsubishi', 'nissan',\n",
       "       'peugot', 'plymouth', 'porsche', 'renault', 'saab', 'subaru', 'toyota',\n",
       "       'volkswagen', 'volvo'],\n",
       "      dtype='object')"
      ]
     },
     "execution_count": 149,
     "metadata": {},
     "output_type": "execute_result"
    }
   ],
   "source": [
    "autos['make'].cat.categories"
   ]
  },
  {
   "cell_type": "code",
   "execution_count": 150,
   "metadata": {},
   "outputs": [
    {
     "data": {
      "text/plain": [
       "Index(['diesel', 'gas'], dtype='object')"
      ]
     },
     "execution_count": 150,
     "metadata": {},
     "output_type": "execute_result"
    }
   ],
   "source": [
    "autos['fuel_type'].cat.categories"
   ]
  },
  {
   "cell_type": "markdown",
   "metadata": {},
   "source": [
    "It's possible to change the categories, assign new categories, remove category values, order or re-order the category values, and more; you can see more info at http://pandas.pydata.org/pandas-docs/stable/categorical.html"
   ]
  },
  {
   "cell_type": "markdown",
   "metadata": {},
   "source": [
    "Having an underlying numerical representation is important; most machine learning algorithms require numeric features and can't deal with strings or categorical symbolic values directly. For ordinal types we can usually just use the numeric encoding we have generated above, but with non-ordinal data we need to be careful; we shouldn't be attributing weight to the underlying numeric values. Instead, for non-ordinal values, the typical approach is to use *one-hot encoding* - create a new column for each distinct value, and just use 0 or 1 in each of these columns to indicate if the observation is in that category. Let's take a simple example:"
   ]
  },
  {
   "cell_type": "code",
   "execution_count": 151,
   "metadata": {},
   "outputs": [
    {
     "data": {
      "text/html": [
       "<div>\n",
       "<style scoped>\n",
       "    .dataframe tbody tr th:only-of-type {\n",
       "        vertical-align: middle;\n",
       "    }\n",
       "\n",
       "    .dataframe tbody tr th {\n",
       "        vertical-align: top;\n",
       "    }\n",
       "\n",
       "    .dataframe thead th {\n",
       "        text-align: right;\n",
       "    }\n",
       "</style>\n",
       "<table border=\"1\" class=\"dataframe\">\n",
       "  <thead>\n",
       "    <tr style=\"text-align: right;\">\n",
       "      <th></th>\n",
       "      <th>make</th>\n",
       "      <th>drive_wheels</th>\n",
       "    </tr>\n",
       "  </thead>\n",
       "  <tbody>\n",
       "    <tr>\n",
       "      <th>0</th>\n",
       "      <td>alfa-romero</td>\n",
       "      <td>rwd</td>\n",
       "    </tr>\n",
       "    <tr>\n",
       "      <th>1</th>\n",
       "      <td>alfa-romero</td>\n",
       "      <td>rwd</td>\n",
       "    </tr>\n",
       "    <tr>\n",
       "      <th>2</th>\n",
       "      <td>alfa-romero</td>\n",
       "      <td>rwd</td>\n",
       "    </tr>\n",
       "    <tr>\n",
       "      <th>3</th>\n",
       "      <td>audi</td>\n",
       "      <td>fwd</td>\n",
       "    </tr>\n",
       "    <tr>\n",
       "      <th>4</th>\n",
       "      <td>audi</td>\n",
       "      <td>4wd</td>\n",
       "    </tr>\n",
       "  </tbody>\n",
       "</table>\n",
       "</div>"
      ],
      "text/plain": [
       "          make drive_wheels\n",
       "0  alfa-romero          rwd\n",
       "1  alfa-romero          rwd\n",
       "2  alfa-romero          rwd\n",
       "3         audi          fwd\n",
       "4         audi          4wd"
      ]
     },
     "execution_count": 151,
     "metadata": {},
     "output_type": "execute_result"
    }
   ],
   "source": [
    "wheels = autos[['make', 'drive_wheels']]\n",
    "wheels.head()"
   ]
  },
  {
   "cell_type": "markdown",
   "metadata": {},
   "source": [
    "The `get_dummies` method will 1-hot encode a feature:"
   ]
  },
  {
   "cell_type": "code",
   "execution_count": 152,
   "metadata": {},
   "outputs": [
    {
     "data": {
      "text/html": [
       "<div>\n",
       "<style scoped>\n",
       "    .dataframe tbody tr th:only-of-type {\n",
       "        vertical-align: middle;\n",
       "    }\n",
       "\n",
       "    .dataframe tbody tr th {\n",
       "        vertical-align: top;\n",
       "    }\n",
       "\n",
       "    .dataframe thead th {\n",
       "        text-align: right;\n",
       "    }\n",
       "</style>\n",
       "<table border=\"1\" class=\"dataframe\">\n",
       "  <thead>\n",
       "    <tr style=\"text-align: right;\">\n",
       "      <th></th>\n",
       "      <th>4wd</th>\n",
       "      <th>fwd</th>\n",
       "      <th>rwd</th>\n",
       "    </tr>\n",
       "  </thead>\n",
       "  <tbody>\n",
       "    <tr>\n",
       "      <th>0</th>\n",
       "      <td>0</td>\n",
       "      <td>0</td>\n",
       "      <td>1</td>\n",
       "    </tr>\n",
       "    <tr>\n",
       "      <th>1</th>\n",
       "      <td>0</td>\n",
       "      <td>0</td>\n",
       "      <td>1</td>\n",
       "    </tr>\n",
       "    <tr>\n",
       "      <th>2</th>\n",
       "      <td>0</td>\n",
       "      <td>0</td>\n",
       "      <td>1</td>\n",
       "    </tr>\n",
       "    <tr>\n",
       "      <th>3</th>\n",
       "      <td>0</td>\n",
       "      <td>1</td>\n",
       "      <td>0</td>\n",
       "    </tr>\n",
       "    <tr>\n",
       "      <th>4</th>\n",
       "      <td>1</td>\n",
       "      <td>0</td>\n",
       "      <td>0</td>\n",
       "    </tr>\n",
       "  </tbody>\n",
       "</table>\n",
       "</div>"
      ],
      "text/plain": [
       "   4wd  fwd  rwd\n",
       "0    0    0    1\n",
       "1    0    0    1\n",
       "2    0    0    1\n",
       "3    0    1    0\n",
       "4    1    0    0"
      ]
     },
     "execution_count": 152,
     "metadata": {},
     "output_type": "execute_result"
    }
   ],
   "source": [
    "onehot = pd.get_dummies(wheels['drive_wheels']).head()\n",
    "onehot"
   ]
  },
  {
   "cell_type": "markdown",
   "metadata": {},
   "source": [
    "To merge this into a dataframe with the `make`, we can merge with the `wheels` dataframe on the implicit index field, and then drop the original categorical column:"
   ]
  },
  {
   "cell_type": "code",
   "execution_count": 153,
   "metadata": {},
   "outputs": [
    {
     "data": {
      "text/html": [
       "<div>\n",
       "<style scoped>\n",
       "    .dataframe tbody tr th:only-of-type {\n",
       "        vertical-align: middle;\n",
       "    }\n",
       "\n",
       "    .dataframe tbody tr th {\n",
       "        vertical-align: top;\n",
       "    }\n",
       "\n",
       "    .dataframe thead th {\n",
       "        text-align: right;\n",
       "    }\n",
       "</style>\n",
       "<table border=\"1\" class=\"dataframe\">\n",
       "  <thead>\n",
       "    <tr style=\"text-align: right;\">\n",
       "      <th></th>\n",
       "      <th>make</th>\n",
       "      <th>4wd</th>\n",
       "      <th>fwd</th>\n",
       "      <th>rwd</th>\n",
       "    </tr>\n",
       "  </thead>\n",
       "  <tbody>\n",
       "    <tr>\n",
       "      <th>0</th>\n",
       "      <td>alfa-romero</td>\n",
       "      <td>0</td>\n",
       "      <td>0</td>\n",
       "      <td>1</td>\n",
       "    </tr>\n",
       "    <tr>\n",
       "      <th>1</th>\n",
       "      <td>alfa-romero</td>\n",
       "      <td>0</td>\n",
       "      <td>0</td>\n",
       "      <td>1</td>\n",
       "    </tr>\n",
       "    <tr>\n",
       "      <th>2</th>\n",
       "      <td>alfa-romero</td>\n",
       "      <td>0</td>\n",
       "      <td>0</td>\n",
       "      <td>1</td>\n",
       "    </tr>\n",
       "    <tr>\n",
       "      <th>3</th>\n",
       "      <td>audi</td>\n",
       "      <td>0</td>\n",
       "      <td>1</td>\n",
       "      <td>0</td>\n",
       "    </tr>\n",
       "    <tr>\n",
       "      <th>4</th>\n",
       "      <td>audi</td>\n",
       "      <td>1</td>\n",
       "      <td>0</td>\n",
       "      <td>0</td>\n",
       "    </tr>\n",
       "  </tbody>\n",
       "</table>\n",
       "</div>"
      ],
      "text/plain": [
       "          make  4wd  fwd  rwd\n",
       "0  alfa-romero    0    0    1\n",
       "1  alfa-romero    0    0    1\n",
       "2  alfa-romero    0    0    1\n",
       "3         audi    0    1    0\n",
       "4         audi    1    0    0"
      ]
     },
     "execution_count": 153,
     "metadata": {},
     "output_type": "execute_result"
    }
   ],
   "source": [
    "wheels.merge(onehot, left_index=True, right_index=True).drop('drive_wheels', axis=1)"
   ]
  },
  {
   "cell_type": "markdown",
   "metadata": {},
   "source": [
    "### Aligned Operations\n",
    "\n",
    "Pandas will align DataFrames on indexes when performing operations. Consider for example two DataFrames, one with number of transactions by day of week, and one with number of customers by day of week, and say we want to know average transactions per customer by date:"
   ]
  },
  {
   "cell_type": "code",
   "execution_count": 154,
   "metadata": {},
   "outputs": [
    {
     "data": {
      "text/html": [
       "<div>\n",
       "<style scoped>\n",
       "    .dataframe tbody tr th:only-of-type {\n",
       "        vertical-align: middle;\n",
       "    }\n",
       "\n",
       "    .dataframe tbody tr th {\n",
       "        vertical-align: top;\n",
       "    }\n",
       "\n",
       "    .dataframe thead th {\n",
       "        text-align: right;\n",
       "    }\n",
       "</style>\n",
       "<table border=\"1\" class=\"dataframe\">\n",
       "  <thead>\n",
       "    <tr style=\"text-align: right;\">\n",
       "      <th></th>\n",
       "      <th>0</th>\n",
       "    </tr>\n",
       "  </thead>\n",
       "  <tbody>\n",
       "    <tr>\n",
       "      <th>Mon</th>\n",
       "      <td>1.0</td>\n",
       "    </tr>\n",
       "    <tr>\n",
       "      <th>Sat</th>\n",
       "      <td>NaN</td>\n",
       "    </tr>\n",
       "    <tr>\n",
       "      <th>Thu</th>\n",
       "      <td>2.5</td>\n",
       "    </tr>\n",
       "    <tr>\n",
       "      <th>Tue</th>\n",
       "      <td>NaN</td>\n",
       "    </tr>\n",
       "    <tr>\n",
       "      <th>Wed</th>\n",
       "      <td>NaN</td>\n",
       "    </tr>\n",
       "  </tbody>\n",
       "</table>\n",
       "</div>"
      ],
      "text/plain": [
       "       0\n",
       "Mon  1.0\n",
       "Sat  NaN\n",
       "Thu  2.5\n",
       "Tue  NaN\n",
       "Wed  NaN"
      ]
     },
     "execution_count": 154,
     "metadata": {},
     "output_type": "execute_result"
    }
   ],
   "source": [
    "transactions = pd.DataFrame([2, 4, 5],\n",
    "                           index=['Mon', 'Wed', 'Thu'])\n",
    "customers = pd.DataFrame([2, 2, 3, 2], \n",
    "                        index=['Sat', 'Mon', 'Tue', 'Thu'])\n",
    "\n",
    "transactions / customers"
   ]
  },
  {
   "cell_type": "markdown",
   "metadata": {},
   "source": [
    "Notice how pandas aligned on index to produce the result, and used NaN for mismatched entries. We could specify the value to use as operands by using the `div` method:"
   ]
  },
  {
   "cell_type": "code",
   "execution_count": 155,
   "metadata": {},
   "outputs": [
    {
     "data": {
      "text/html": [
       "<div>\n",
       "<style scoped>\n",
       "    .dataframe tbody tr th:only-of-type {\n",
       "        vertical-align: middle;\n",
       "    }\n",
       "\n",
       "    .dataframe tbody tr th {\n",
       "        vertical-align: top;\n",
       "    }\n",
       "\n",
       "    .dataframe thead th {\n",
       "        text-align: right;\n",
       "    }\n",
       "</style>\n",
       "<table border=\"1\" class=\"dataframe\">\n",
       "  <thead>\n",
       "    <tr style=\"text-align: right;\">\n",
       "      <th></th>\n",
       "      <th>0</th>\n",
       "    </tr>\n",
       "  </thead>\n",
       "  <tbody>\n",
       "    <tr>\n",
       "      <th>Mon</th>\n",
       "      <td>1.000000</td>\n",
       "    </tr>\n",
       "    <tr>\n",
       "      <th>Sat</th>\n",
       "      <td>0.000000</td>\n",
       "    </tr>\n",
       "    <tr>\n",
       "      <th>Thu</th>\n",
       "      <td>2.500000</td>\n",
       "    </tr>\n",
       "    <tr>\n",
       "      <th>Tue</th>\n",
       "      <td>0.000000</td>\n",
       "    </tr>\n",
       "    <tr>\n",
       "      <th>Wed</th>\n",
       "      <td>inf</td>\n",
       "    </tr>\n",
       "  </tbody>\n",
       "</table>\n",
       "</div>"
      ],
      "text/plain": [
       "            0\n",
       "Mon  1.000000\n",
       "Sat  0.000000\n",
       "Thu  2.500000\n",
       "Tue  0.000000\n",
       "Wed       inf"
      ]
     },
     "execution_count": 155,
     "metadata": {},
     "output_type": "execute_result"
    }
   ],
   "source": [
    "transactions.div(customers, fill_value=0)"
   ]
  },
  {
   "cell_type": "markdown",
   "metadata": {},
   "source": [
    "### Chaining Methods and .pipe()\n",
    "\n",
    "Many operations on Series and DataFrames return modified copies of the Series or Dataframe, unless the `inplace=True` argument is included. Even in that case there is usually a copy made and then the reference is just replaced at the end, so using inplace operations generally isn't faster. Because a Series or Dataframe reference is returned, you can chain multiple operations, for example:\n",
    "\n",
    "```python\n",
    "df = (pd.read_csv('data.csv')\n",
    "        .rename(columns=str.lower)\n",
    "        .drop('id', axis=1))\n",
    "```\n",
    "\n",
    "This is great for built-in operations, but what about custom operations? The good news is these are possible too, with `.pipe()`, which will allow you to specify your own functions to call as part of the operation chain:\n",
    "\n",
    "```python\n",
    "def my_operation(df, *args, **kwargs):\n",
    "    # Do something to the df\n",
    "    ...\n",
    "    # Return the modified dataframe\n",
    "    return df\n",
    "   \n",
    "# Now we can call this in our chain.\n",
    "df = (pd.read_csv('data.csv')\n",
    "        .rename(columns=str.lower)\n",
    "        .drop('id', axis=1)\n",
    "        .pipe(my_operation, 'foo', bar=True))    \n",
    "```"
   ]
  },
  {
   "cell_type": "markdown",
   "metadata": {},
   "source": [
    "## Statistical Significance and Hypothesis Testing\n",
    "\n",
    "In exploring the data, we may come up with hypotheses about relationships between different values. We can get an indication of whether our hypothesis is correct or the relationship is coincidental using [tests of statistical significance](https://en.wikipedia.org/wiki/Statistical_hypothesis_testing).\n",
    "\n",
    "We may have a simple hypothesis, like \"All X are Y\". For phenomena in the real world, we usually we can't explore all possible X, and so we can't usually prove all X are Y. To prove the opposite, on the other hand, only requires a single counter-example. The well-known illustration is the *black swan*: to prove that all swans are white you would have to find every swan that exists (and possibly that has ever existed and may ever exist) and check its color, but to prove not all swans are white you need to find just a single swan that is not white and you can stop there. For these kinds of hypotheses we can often just look at our historical data and try to find a counterexample.\n",
    "\n",
    "Let's say that the conversion is better in the test set. How do we know that the change caused the improvement, and it wasn't just by chance? One way is to combine the observations from both the test and control set, then take random samples, and see what the probability is of a sample showing a similar improvement in conversion. If the probability of a similar improvement from a random sample is very low, then we can conclude that the improvement from the change is statistically significant.\n",
    "\n",
    "In practice we may have a large number of observations in the test set and a large number of observations in the control set, and the approach outlined above may be computationally too costly. There are various tests that can give us similar measures at a much lower cost, such as the [t-test](https://en.wikipedia.org/wiki/Student%27s_t-test) (when comparing means of populations) or the [chi-squared test](https://en.wikipedia.org/wiki/Chi-squared_test) (when comparing categorical data). The details of how these tests work tests and which ones to choose are beyond the scope of this notebook. \n",
    "\n",
    "The usual approach is to assume the opposite of what we want to prove; this is called the [null hypothesis](https://en.wikipedia.org/wiki/Null_hypothesis) or $H_0$. For our example, the null hypothesis states there is no relationship between our change and conversion on the website. We then calculate the probability that the data supports the null hypothesis rather than just being the result of unrelated variance: this is called the *p-value*. In general, a p-value of less than 0.05 (5%) is taken to mean that the hypothesis is valid, although this has recently become a [contentious point](http://www.sciencemag.org/news/2017/07/it-will-be-much-harder-call-new-findings-significant-if-team-gets-its-way). We'll set aside that debate for now and stick with 0.05.\n",
    "\n",
    "Let's revisit the Titanic data:"
   ]
  },
  {
   "cell_type": "code",
   "execution_count": 156,
   "metadata": {},
   "outputs": [
    {
     "data": {
      "text/html": [
       "<div>\n",
       "<style scoped>\n",
       "    .dataframe tbody tr th:only-of-type {\n",
       "        vertical-align: middle;\n",
       "    }\n",
       "\n",
       "    .dataframe tbody tr th {\n",
       "        vertical-align: top;\n",
       "    }\n",
       "\n",
       "    .dataframe thead th {\n",
       "        text-align: right;\n",
       "    }\n",
       "</style>\n",
       "<table border=\"1\" class=\"dataframe\">\n",
       "  <thead>\n",
       "    <tr style=\"text-align: right;\">\n",
       "      <th></th>\n",
       "      <th>survived</th>\n",
       "      <th>pclass</th>\n",
       "      <th>sex</th>\n",
       "      <th>age</th>\n",
       "      <th>sibsp</th>\n",
       "      <th>parch</th>\n",
       "      <th>fare</th>\n",
       "      <th>embarked</th>\n",
       "      <th>class</th>\n",
       "      <th>who</th>\n",
       "      <th>adult_male</th>\n",
       "      <th>deck</th>\n",
       "      <th>embark_town</th>\n",
       "      <th>alive</th>\n",
       "      <th>alone</th>\n",
       "    </tr>\n",
       "  </thead>\n",
       "  <tbody>\n",
       "    <tr>\n",
       "      <th>0</th>\n",
       "      <td>0</td>\n",
       "      <td>3</td>\n",
       "      <td>male</td>\n",
       "      <td>22.0</td>\n",
       "      <td>1</td>\n",
       "      <td>0</td>\n",
       "      <td>7.2500</td>\n",
       "      <td>S</td>\n",
       "      <td>Third</td>\n",
       "      <td>man</td>\n",
       "      <td>True</td>\n",
       "      <td>NaN</td>\n",
       "      <td>Southampton</td>\n",
       "      <td>no</td>\n",
       "      <td>False</td>\n",
       "    </tr>\n",
       "    <tr>\n",
       "      <th>1</th>\n",
       "      <td>1</td>\n",
       "      <td>1</td>\n",
       "      <td>female</td>\n",
       "      <td>38.0</td>\n",
       "      <td>1</td>\n",
       "      <td>0</td>\n",
       "      <td>71.2833</td>\n",
       "      <td>C</td>\n",
       "      <td>First</td>\n",
       "      <td>woman</td>\n",
       "      <td>False</td>\n",
       "      <td>C</td>\n",
       "      <td>Cherbourg</td>\n",
       "      <td>yes</td>\n",
       "      <td>False</td>\n",
       "    </tr>\n",
       "    <tr>\n",
       "      <th>2</th>\n",
       "      <td>1</td>\n",
       "      <td>3</td>\n",
       "      <td>female</td>\n",
       "      <td>26.0</td>\n",
       "      <td>0</td>\n",
       "      <td>0</td>\n",
       "      <td>7.9250</td>\n",
       "      <td>S</td>\n",
       "      <td>Third</td>\n",
       "      <td>woman</td>\n",
       "      <td>False</td>\n",
       "      <td>NaN</td>\n",
       "      <td>Southampton</td>\n",
       "      <td>yes</td>\n",
       "      <td>True</td>\n",
       "    </tr>\n",
       "    <tr>\n",
       "      <th>3</th>\n",
       "      <td>1</td>\n",
       "      <td>1</td>\n",
       "      <td>female</td>\n",
       "      <td>35.0</td>\n",
       "      <td>1</td>\n",
       "      <td>0</td>\n",
       "      <td>53.1000</td>\n",
       "      <td>S</td>\n",
       "      <td>First</td>\n",
       "      <td>woman</td>\n",
       "      <td>False</td>\n",
       "      <td>C</td>\n",
       "      <td>Southampton</td>\n",
       "      <td>yes</td>\n",
       "      <td>False</td>\n",
       "    </tr>\n",
       "    <tr>\n",
       "      <th>4</th>\n",
       "      <td>0</td>\n",
       "      <td>3</td>\n",
       "      <td>male</td>\n",
       "      <td>35.0</td>\n",
       "      <td>0</td>\n",
       "      <td>0</td>\n",
       "      <td>8.0500</td>\n",
       "      <td>S</td>\n",
       "      <td>Third</td>\n",
       "      <td>man</td>\n",
       "      <td>True</td>\n",
       "      <td>NaN</td>\n",
       "      <td>Southampton</td>\n",
       "      <td>no</td>\n",
       "      <td>True</td>\n",
       "    </tr>\n",
       "  </tbody>\n",
       "</table>\n",
       "</div>"
      ],
      "text/plain": [
       "   survived  pclass     sex   age  sibsp  parch     fare embarked  class  \\\n",
       "0         0       3    male  22.0      1      0   7.2500        S  Third   \n",
       "1         1       1  female  38.0      1      0  71.2833        C  First   \n",
       "2         1       3  female  26.0      0      0   7.9250        S  Third   \n",
       "3         1       1  female  35.0      1      0  53.1000        S  First   \n",
       "4         0       3    male  35.0      0      0   8.0500        S  Third   \n",
       "\n",
       "     who  adult_male deck  embark_town alive  alone  \n",
       "0    man        True  NaN  Southampton    no  False  \n",
       "1  woman       False    C    Cherbourg   yes  False  \n",
       "2  woman       False  NaN  Southampton   yes   True  \n",
       "3  woman       False    C  Southampton   yes  False  \n",
       "4    man        True  NaN  Southampton    no   True  "
      ]
     },
     "execution_count": 156,
     "metadata": {},
     "output_type": "execute_result"
    }
   ],
   "source": [
    "import seaborn as sns;\n",
    "\n",
    "titanic = sns.load_dataset('titanic')\n",
    "titanic.head()"
   ]
  },
  {
   "cell_type": "markdown",
   "metadata": {},
   "source": [
    "If we want to see how gender affected survival rates, one way is with *cross-tabulation*:"
   ]
  },
  {
   "cell_type": "code",
   "execution_count": 157,
   "metadata": {},
   "outputs": [
    {
     "data": {
      "text/html": [
       "<div>\n",
       "<style scoped>\n",
       "    .dataframe tbody tr th:only-of-type {\n",
       "        vertical-align: middle;\n",
       "    }\n",
       "\n",
       "    .dataframe tbody tr th {\n",
       "        vertical-align: top;\n",
       "    }\n",
       "\n",
       "    .dataframe thead th {\n",
       "        text-align: right;\n",
       "    }\n",
       "</style>\n",
       "<table border=\"1\" class=\"dataframe\">\n",
       "  <thead>\n",
       "    <tr style=\"text-align: right;\">\n",
       "      <th>sex</th>\n",
       "      <th>female</th>\n",
       "      <th>male</th>\n",
       "    </tr>\n",
       "    <tr>\n",
       "      <th>survived</th>\n",
       "      <th></th>\n",
       "      <th></th>\n",
       "    </tr>\n",
       "  </thead>\n",
       "  <tbody>\n",
       "    <tr>\n",
       "      <th>0</th>\n",
       "      <td>81</td>\n",
       "      <td>468</td>\n",
       "    </tr>\n",
       "    <tr>\n",
       "      <th>1</th>\n",
       "      <td>233</td>\n",
       "      <td>109</td>\n",
       "    </tr>\n",
       "  </tbody>\n",
       "</table>\n",
       "</div>"
      ],
      "text/plain": [
       "sex       female  male\n",
       "survived              \n",
       "0             81   468\n",
       "1            233   109"
      ]
     },
     "execution_count": 157,
     "metadata": {},
     "output_type": "execute_result"
    }
   ],
   "source": [
    "ct = pd.crosstab(titanic['survived'],titanic['sex'])\n",
    "ct"
   ]
  },
  {
   "cell_type": "markdown",
   "metadata": {},
   "source": [
    "There were a lot more men than women on the ship, and it certainly looks like the survival rate for women was better than for men, but is the difference statistically significant? Our  hypothesis is that gender affects survivability, and so the null hypothesis is that it doesn't. Let's measure this with a chi-squared test:"
   ]
  },
  {
   "cell_type": "code",
   "execution_count": 158,
   "metadata": {},
   "outputs": [
    {
     "data": {
      "text/plain": [
       "1.1973570627755645e-58"
      ]
     },
     "execution_count": 158,
     "metadata": {},
     "output_type": "execute_result"
    }
   ],
   "source": [
    "from scipy import stats\n",
    "\n",
    "chi2, p, dof, expected = stats.chi2_contingency(ct.values)\n",
    "p"
   ]
  },
  {
   "cell_type": "markdown",
   "metadata": {},
   "source": [
    "That's a very small p-value! So we can be sure gender was an issue.\n",
    "\n",
    "When running an online experiment, check the p-value periodically and plot the trend. You want to see the p-value gradually converging. If instead it is erratic and showing no sign of conversion, that suggests the experiment is not going to be conclusive.\n",
    "\n",
    "One last comment: it is often said \"correlation does not imply causation\". We should be more precise and less flippant than this! If X and Y are correlated, there are only four possibilities:\n",
    "\n",
    "- this was a chance event. We can determine the probability of that and assess if its a reasonable explanation.\n",
    "- X causes Y or Y causes X\n",
    "- X and Y are both caused by some unknown factor Z. This is usually what we are referring to when saying \"correlation does not imply causation\", but there is still causation!"
   ]
  },
  {
   "cell_type": "markdown",
   "metadata": {},
   "source": [
    "## Plotting\n",
    "\n",
    "Pandas includes the ability to do simple plots. For a Series, this typically means plotting the values in the series as the Y values, and then index as the X values; for a DataFrame this would be a multiplot. You can use `x` and `y` named arguments to select specific columns to plot, and you can use a `kind` argument to specify the type of plot.\n",
    "\n",
    "See https://pandas.pydata.org/pandas-docs/stable/visualization.html for details."
   ]
  },
  {
   "cell_type": "code",
   "execution_count": 159,
   "metadata": {},
   "outputs": [
    {
     "data": {
      "text/plain": [
       "<matplotlib.axes._subplots.AxesSubplot at 0x1a11adf4e0>"
      ]
     },
     "execution_count": 159,
     "metadata": {},
     "output_type": "execute_result"
    },
    {
     "data": {
      "image/png": "[encoded data removed]",
      "text/plain": [
       "<matplotlib.figure.Figure at 0x1a1209e6d8>"
      ]
     },
     "metadata": {},
     "output_type": "display_data"
    }
   ],
   "source": [
    "s = pd.Series([2, 3, 1, 5, 3], index=['a', 'b', 'c', 'd', 'e'])\n",
    "s.plot()"
   ]
  },
  {
   "cell_type": "code",
   "execution_count": 160,
   "metadata": {},
   "outputs": [
    {
     "data": {
      "text/plain": [
       "<matplotlib.axes._subplots.AxesSubplot at 0x1a125c2b00>"
      ]
     },
     "execution_count": 160,
     "metadata": {},
     "output_type": "execute_result"
    },
    {
     "data": {
      "image/png": "[encoded data removed]",
      "text/plain": [
       "<matplotlib.figure.Figure at 0x1a11adf400>"
      ]
     },
     "metadata": {},
     "output_type": "display_data"
    }
   ],
   "source": [
    "s.plot(kind='bar')"
   ]
  },
  {
   "cell_type": "code",
   "execution_count": 161,
   "metadata": {},
   "outputs": [
    {
     "data": {
      "text/plain": [
       "<matplotlib.axes._subplots.AxesSubplot at 0x1a1b3b9438>"
      ]
     },
     "execution_count": 161,
     "metadata": {},
     "output_type": "execute_result"
    },
    {
     "data": {
      "image/png": "[encoded data removed]",
      "text/plain": [
       "<matplotlib.figure.Figure at 0x1a11adf080>"
      ]
     },
     "metadata": {},
     "output_type": "display_data"
    }
   ],
   "source": [
    "df = pd.DataFrame(\n",
    "    [\n",
    "        [2, 1],\n",
    "        [4, 4],\n",
    "        [1, 2],\n",
    "        [3, 6]\n",
    "    ],\n",
    "    index=['a', 'b', 'c', 'd'],\n",
    "    columns=['s1', 's2']\n",
    ")\n",
    "df.plot()"
   ]
  },
  {
   "cell_type": "code",
   "execution_count": 162,
   "metadata": {},
   "outputs": [
    {
     "data": {
      "text/plain": [
       "<matplotlib.axes._subplots.AxesSubplot at 0x1a1b3dbf60>"
      ]
     },
     "execution_count": 162,
     "metadata": {},
     "output_type": "execute_result"
    },
    {
     "data": {
      "image/png": "[encoded data removed]",
      "text/plain": [
       "<matplotlib.figure.Figure at 0x1a12071710>"
      ]
     },
     "metadata": {},
     "output_type": "display_data"
    }
   ],
   "source": [
    "df.plot(x='s1', y='s2', kind='scatter')"
   ]
  },
  {
   "cell_type": "markdown",
   "metadata": {},
   "source": [
    "## Charting with Seaborn\n",
    "\n",
    "See the [Python Graph Gallery](https://python-graph-gallery.com/) for many examples of different types of charts including the code used to create them. As you learn to use the plotting libraries in many cases the fastest way to get results is just find an example from there and copy/paste/edit it.\n",
    "\n",
    "There are a number of plotting libraries for Python; the most well known are matplotlib, Seaborn, Bokeh, and Plotly. Some offer more interactivity than others. Matplotlib is the most commonly used; it is very flexible but requires a fair amount of boilerplate code. There is a good tutorial on matplotlib [here](https://www.datacamp.com/community/tutorials/matplotlib-tutorial-python). We will instead use [Seaborn](https://seaborn.pydata.org/), which is built on top of matplotlib and simplifies its usage so that many plots just take one line of code."
   ]
  },
  {
   "cell_type": "code",
   "execution_count": 163,
   "metadata": {},
   "outputs": [
    {
     "data": {
      "text/html": [
       "<div>\n",
       "<style scoped>\n",
       "    .dataframe tbody tr th:only-of-type {\n",
       "        vertical-align: middle;\n",
       "    }\n",
       "\n",
       "    .dataframe tbody tr th {\n",
       "        vertical-align: top;\n",
       "    }\n",
       "\n",
       "    .dataframe thead th {\n",
       "        text-align: right;\n",
       "    }\n",
       "</style>\n",
       "<table border=\"1\" class=\"dataframe\">\n",
       "  <thead>\n",
       "    <tr style=\"text-align: right;\">\n",
       "      <th></th>\n",
       "      <th>pclass</th>\n",
       "      <th>survived</th>\n",
       "      <th>name</th>\n",
       "      <th>sex</th>\n",
       "      <th>age</th>\n",
       "      <th>sibsp</th>\n",
       "      <th>parch</th>\n",
       "      <th>ticket</th>\n",
       "      <th>fare</th>\n",
       "      <th>cabin</th>\n",
       "      <th>embarked</th>\n",
       "      <th>boat</th>\n",
       "      <th>body</th>\n",
       "      <th>home.dest</th>\n",
       "    </tr>\n",
       "  </thead>\n",
       "  <tbody>\n",
       "    <tr>\n",
       "      <th>0</th>\n",
       "      <td>1</td>\n",
       "      <td>1</td>\n",
       "      <td>Allen, Miss. Elisabeth Walton</td>\n",
       "      <td>female</td>\n",
       "      <td>29.0000</td>\n",
       "      <td>0</td>\n",
       "      <td>0</td>\n",
       "      <td>24160</td>\n",
       "      <td>211.3375</td>\n",
       "      <td>B5</td>\n",
       "      <td>S</td>\n",
       "      <td>2</td>\n",
       "      <td>NaN</td>\n",
       "      <td>St Louis, MO</td>\n",
       "    </tr>\n",
       "    <tr>\n",
       "      <th>1</th>\n",
       "      <td>1</td>\n",
       "      <td>1</td>\n",
       "      <td>Allison, Master. Hudson Trevor</td>\n",
       "      <td>male</td>\n",
       "      <td>0.9167</td>\n",
       "      <td>1</td>\n",
       "      <td>2</td>\n",
       "      <td>113781</td>\n",
       "      <td>151.5500</td>\n",
       "      <td>C22 C26</td>\n",
       "      <td>S</td>\n",
       "      <td>11</td>\n",
       "      <td>NaN</td>\n",
       "      <td>Montreal, PQ / Chesterville, ON</td>\n",
       "    </tr>\n",
       "    <tr>\n",
       "      <th>2</th>\n",
       "      <td>1</td>\n",
       "      <td>0</td>\n",
       "      <td>Allison, Miss. Helen Loraine</td>\n",
       "      <td>female</td>\n",
       "      <td>2.0000</td>\n",
       "      <td>1</td>\n",
       "      <td>2</td>\n",
       "      <td>113781</td>\n",
       "      <td>151.5500</td>\n",
       "      <td>C22 C26</td>\n",
       "      <td>S</td>\n",
       "      <td>NaN</td>\n",
       "      <td>NaN</td>\n",
       "      <td>Montreal, PQ / Chesterville, ON</td>\n",
       "    </tr>\n",
       "    <tr>\n",
       "      <th>3</th>\n",
       "      <td>1</td>\n",
       "      <td>0</td>\n",
       "      <td>Allison, Mr. Hudson Joshua Creighton</td>\n",
       "      <td>male</td>\n",
       "      <td>30.0000</td>\n",
       "      <td>1</td>\n",
       "      <td>2</td>\n",
       "      <td>113781</td>\n",
       "      <td>151.5500</td>\n",
       "      <td>C22 C26</td>\n",
       "      <td>S</td>\n",
       "      <td>NaN</td>\n",
       "      <td>135.0</td>\n",
       "      <td>Montreal, PQ / Chesterville, ON</td>\n",
       "    </tr>\n",
       "    <tr>\n",
       "      <th>4</th>\n",
       "      <td>1</td>\n",
       "      <td>0</td>\n",
       "      <td>Allison, Mrs. Hudson J C (Bessie Waldo Daniels)</td>\n",
       "      <td>female</td>\n",
       "      <td>25.0000</td>\n",
       "      <td>1</td>\n",
       "      <td>2</td>\n",
       "      <td>113781</td>\n",
       "      <td>151.5500</td>\n",
       "      <td>C22 C26</td>\n",
       "      <td>S</td>\n",
       "      <td>NaN</td>\n",
       "      <td>NaN</td>\n",
       "      <td>Montreal, PQ / Chesterville, ON</td>\n",
       "    </tr>\n",
       "  </tbody>\n",
       "</table>\n",
       "</div>"
      ],
      "text/plain": [
       "   pclass  survived                                             name     sex  \\\n",
       "0       1         1                    Allen, Miss. Elisabeth Walton  female   \n",
       "1       1         1                   Allison, Master. Hudson Trevor    male   \n",
       "2       1         0                     Allison, Miss. Helen Loraine  female   \n",
       "3       1         0             Allison, Mr. Hudson Joshua Creighton    male   \n",
       "4       1         0  Allison, Mrs. Hudson J C (Bessie Waldo Daniels)  female   \n",
       "\n",
       "       age  sibsp  parch  ticket      fare    cabin embarked boat   body  \\\n",
       "0  29.0000      0      0   24160  211.3375       B5        S    2    NaN   \n",
       "1   0.9167      1      2  113781  151.5500  C22 C26        S   11    NaN   \n",
       "2   2.0000      1      2  113781  151.5500  C22 C26        S  NaN    NaN   \n",
       "3  30.0000      1      2  113781  151.5500  C22 C26        S  NaN  135.0   \n",
       "4  25.0000      1      2  113781  151.5500  C22 C26        S  NaN    NaN   \n",
       "\n",
       "                         home.dest  \n",
       "0                     St Louis, MO  \n",
       "1  Montreal, PQ / Chesterville, ON  \n",
       "2  Montreal, PQ / Chesterville, ON  \n",
       "3  Montreal, PQ / Chesterville, ON  \n",
       "4  Montreal, PQ / Chesterville, ON  "
      ]
     },
     "execution_count": 163,
     "metadata": {},
     "output_type": "execute_result"
    }
   ],
   "source": [
    "# Let's get the more detailed Titanic data set\n",
    "titanic3 = pd.read_excel('http://biostat.mc.vanderbilt.edu/wiki/pub/Main/DataSets/titanic3.xls')\n",
    "titanic3.head()"
   ]
  },
  {
   "cell_type": "code",
   "execution_count": 164,
   "metadata": {},
   "outputs": [
    {
     "data": {
      "text/plain": [
       "<seaborn.axisgrid.FacetGrid at 0x1a1b596f98>"
      ]
     },
     "execution_count": 164,
     "metadata": {},
     "output_type": "execute_result"
    },
    {
     "data": {
      "image/png": "[encoded data removed]",
      "text/plain": [
       "<matplotlib.figure.Figure at 0x1a1b596d30>"
      ]
     },
     "metadata": {},
     "output_type": "display_data"
    }
   ],
   "source": [
    "# We can use a factorplot to count categorical data\n",
    "import seaborn as sns\n",
    "sns.factorplot('sex', data=titanic3, kind='count')"
   ]
  },
  {
   "cell_type": "code",
   "execution_count": 165,
   "metadata": {
    "scrolled": true
   },
   "outputs": [
    {
     "data": {
      "text/plain": [
       "<seaborn.axisgrid.FacetGrid at 0x1a1b313fd0>"
      ]
     },
     "execution_count": 165,
     "metadata": {},
     "output_type": "execute_result"
    },
    {
     "data": {
      "image/png": "[encoded data removed]",
      "text/plain": [
       "<matplotlib.figure.Figure at 0x1a125d9c88>"
      ]
     },
     "metadata": {},
     "output_type": "display_data"
    }
   ],
   "source": [
    "# Let's bring class in too:\n",
    "sns.factorplot('pclass', data=titanic3, hue='sex', kind='count')"
   ]
  },
  {
   "cell_type": "code",
   "execution_count": 166,
   "metadata": {},
   "outputs": [
    {
     "data": {
      "text/plain": [
       "<seaborn.axisgrid.FacetGrid at 0x1a1b567a90>"
      ]
     },
     "execution_count": 166,
     "metadata": {},
     "output_type": "execute_result"
    },
    {
     "data": {
      "image/png": "[encoded data removed]",
      "text/plain": [
       "<matplotlib.figure.Figure at 0x1a1b6b84a8>"
      ]
     },
     "metadata": {},
     "output_type": "display_data"
    }
   ],
   "source": [
    "# Of course we can aggregate the other way too\n",
    "sns.factorplot('sex', data=titanic3, hue='pclass', kind='count')"
   ]
  },
  {
   "cell_type": "code",
   "execution_count": 167,
   "metadata": {},
   "outputs": [
    {
     "data": {
      "text/plain": [
       "<seaborn.axisgrid.FacetGrid at 0x1a1b86fa58>"
      ]
     },
     "execution_count": 167,
     "metadata": {},
     "output_type": "execute_result"
    },
    {
     "data": {
      "image/png": "[encoded data removed]",
      "text/plain": [
       "<matplotlib.figure.Figure at 0x1a1b878ef0>"
      ]
     },
     "metadata": {},
     "output_type": "display_data"
    }
   ],
   "source": [
    "# Let's see how many people were on each deck\n",
    "deck = pd.DataFrame(titanic3['cabin'].dropna().str[0])\n",
    "deck.columns = ['deck']  # Get just the deck column\n",
    "sns.factorplot('deck', data=deck, kind='count')"
   ]
  },
  {
   "cell_type": "code",
   "execution_count": 168,
   "metadata": {},
   "outputs": [
    {
     "data": {
      "text/plain": [
       "<matplotlib.axes._subplots.AxesSubplot at 0x1a11e88ba8>"
      ]
     },
     "execution_count": 168,
     "metadata": {},
     "output_type": "execute_result"
    },
    {
     "data": {
      "image/png": "[encoded data removed]",
      "text/plain": [
       "<matplotlib.figure.Figure at 0x1a1b9540b8>"
      ]
     },
     "metadata": {},
     "output_type": "display_data"
    }
   ],
   "source": [
    "# What class passenger was on each deck?\n",
    "df = titanic3[['cabin', 'pclass']].dropna()\n",
    "df['deck'] = df.apply(lambda row: ord(row.cabin[0]) -64, axis=1)\n",
    "\n",
    "sns.regplot(x=df[\"pclass\"], y=df[\"deck\"])"
   ]
  },
  {
   "cell_type": "markdown",
   "metadata": {},
   "source": [
    "## Working with Dates and Time Series\n",
    "\n",
    "Pandas provides several classes for dealing with datetimes: `Timestamp`, `Period`, and `Timedelta`, and corresponding index types based off these, namely `DatetimeIndex`, `PeriodIndex` and `TimedeltaIndex`.\n",
    "\n",
    "For parsing dates we can use `pd.to_datetime` which can parse dates in many formats, or `pd.to_timedelta` to get a time delta. For formatting dates as strings the `Timestamp.strftime` method can be used.\n",
    "\n",
    "For example, to get a four-week-long range of dates starting from Christmas 2017:"
   ]
  },
  {
   "cell_type": "code",
   "execution_count": 169,
   "metadata": {},
   "outputs": [
    {
     "data": {
      "text/plain": [
       "DatetimeIndex(['2017-12-25', '2017-12-26', '2017-12-27', '2017-12-28',\n",
       "               '2017-12-29', '2017-12-30', '2017-12-31', '2018-01-01',\n",
       "               '2018-01-02', '2018-01-03', '2018-01-04', '2018-01-05',\n",
       "               '2018-01-06', '2018-01-07', '2018-01-08', '2018-01-09',\n",
       "               '2018-01-10', '2018-01-11', '2018-01-12', '2018-01-13',\n",
       "               '2018-01-14', '2018-01-15', '2018-01-16', '2018-01-17',\n",
       "               '2018-01-18', '2018-01-19', '2018-01-20', '2018-01-21'],\n",
       "              dtype='datetime64[ns]', freq=None)"
      ]
     },
     "execution_count": 169,
     "metadata": {},
     "output_type": "execute_result"
    }
   ],
   "source": [
    "di = pd.to_datetime(\"December 25, 2017\") + pd.to_timedelta(np.arange(4*7), 'D')\n",
    "di"
   ]
  },
  {
   "cell_type": "markdown",
   "metadata": {},
   "source": [
    "It's also possible to pass a list of dates to `to_datetime` to create a DatetimeIndex. A DatetimeIndex can be converted to a TimedeltaIndex by subtracting a start date:"
   ]
  },
  {
   "cell_type": "code",
   "execution_count": 170,
   "metadata": {},
   "outputs": [
    {
     "data": {
      "text/plain": [
       "TimedeltaIndex([ '0 days',  '1 days',  '2 days',  '3 days',  '4 days',\n",
       "                 '5 days',  '6 days',  '7 days',  '8 days',  '9 days',\n",
       "                '10 days', '11 days', '12 days', '13 days', '14 days',\n",
       "                '15 days', '16 days', '17 days', '18 days', '19 days',\n",
       "                '20 days', '21 days', '22 days', '23 days', '24 days',\n",
       "                '25 days', '26 days', '27 days'],\n",
       "               dtype='timedelta64[ns]', freq=None)"
      ]
     },
     "execution_count": 170,
     "metadata": {},
     "output_type": "execute_result"
    }
   ],
   "source": [
    "di - di[0]"
   ]
  },
  {
   "cell_type": "markdown",
   "metadata": {},
   "source": [
    "And of course the converse is possible:"
   ]
  },
  {
   "cell_type": "code",
   "execution_count": 171,
   "metadata": {},
   "outputs": [
    {
     "data": {
      "text/plain": [
       "DatetimeIndex(['2018-01-21', '2018-01-22', '2018-01-23', '2018-01-24',\n",
       "               '2018-01-25', '2018-01-26', '2018-01-27', '2018-01-28',\n",
       "               '2018-01-29', '2018-01-30', '2018-01-31', '2018-02-01',\n",
       "               '2018-02-02', '2018-02-03', '2018-02-04', '2018-02-05',\n",
       "               '2018-02-06', '2018-02-07', '2018-02-08', '2018-02-09',\n",
       "               '2018-02-10', '2018-02-11', '2018-02-12', '2018-02-13',\n",
       "               '2018-02-14', '2018-02-15', '2018-02-16', '2018-02-17'],\n",
       "              dtype='datetime64[ns]', freq=None)"
      ]
     },
     "execution_count": 171,
     "metadata": {},
     "output_type": "execute_result"
    }
   ],
   "source": [
    "(di - di[0]) + di[-1]"
   ]
  },
  {
   "cell_type": "markdown",
   "metadata": {},
   "source": [
    "Another way of creating the indices is to specify range start and ends plus optionally the granularity, via the `periods` and `freq` arguments, using the APIs `pd.date_range`, `pd.timedelta_range`, and `pd.interval_range`:"
   ]
  },
  {
   "cell_type": "code",
   "execution_count": 172,
   "metadata": {},
   "outputs": [
    {
     "data": {
      "text/plain": [
       "DatetimeIndex(['2017-12-30', '2017-12-31'], dtype='datetime64[ns]', freq='D')"
      ]
     },
     "execution_count": 172,
     "metadata": {},
     "output_type": "execute_result"
    }
   ],
   "source": [
    "pd.date_range('2017-12-30', '2017-12-31')"
   ]
  },
  {
   "cell_type": "code",
   "execution_count": 173,
   "metadata": {},
   "outputs": [
    {
     "data": {
      "text/plain": [
       "DatetimeIndex(['2017-12-30 00:00:00', '2017-12-30 01:00:00',\n",
       "               '2017-12-30 02:00:00', '2017-12-30 03:00:00',\n",
       "               '2017-12-30 04:00:00', '2017-12-30 05:00:00',\n",
       "               '2017-12-30 06:00:00', '2017-12-30 07:00:00',\n",
       "               '2017-12-30 08:00:00', '2017-12-30 09:00:00',\n",
       "               '2017-12-30 10:00:00', '2017-12-30 11:00:00',\n",
       "               '2017-12-30 12:00:00', '2017-12-30 13:00:00',\n",
       "               '2017-12-30 14:00:00', '2017-12-30 15:00:00',\n",
       "               '2017-12-30 16:00:00', '2017-12-30 17:00:00',\n",
       "               '2017-12-30 18:00:00', '2017-12-30 19:00:00',\n",
       "               '2017-12-30 20:00:00', '2017-12-30 21:00:00',\n",
       "               '2017-12-30 22:00:00', '2017-12-30 23:00:00',\n",
       "               '2017-12-31 00:00:00'],\n",
       "              dtype='datetime64[ns]', freq='H')"
      ]
     },
     "execution_count": 173,
     "metadata": {},
     "output_type": "execute_result"
    }
   ],
   "source": [
    "pd.date_range('2017-12-30', '2017-12-31', freq='h')  # Hourly frequency"
   ]
  },
  {
   "cell_type": "code",
   "execution_count": 174,
   "metadata": {},
   "outputs": [
    {
     "data": {
      "text/plain": [
       "DatetimeIndex(['2017-12-30', '2017-12-31', '2018-01-01', '2018-01-02'], dtype='datetime64[ns]', freq='D')"
      ]
     },
     "execution_count": 174,
     "metadata": {},
     "output_type": "execute_result"
    }
   ],
   "source": [
    "pd.date_range('2017-12-30', periods=4)  # 4 values using the default frequency of day"
   ]
  },
  {
   "cell_type": "code",
   "execution_count": 175,
   "metadata": {},
   "outputs": [
    {
     "data": {
      "text/plain": [
       "DatetimeIndex(['2017-12-30 00:00:00', '2017-12-30 01:00:00',\n",
       "               '2017-12-30 02:00:00', '2017-12-30 03:00:00'],\n",
       "              dtype='datetime64[ns]', freq='H')"
      ]
     },
     "execution_count": 175,
     "metadata": {},
     "output_type": "execute_result"
    }
   ],
   "source": [
    "pd.date_range('2017-12-30', periods=4, freq='h')  # 4 values using hourly frequency "
   ]
  },
  {
   "cell_type": "markdown",
   "metadata": {},
   "source": [
    "Periods represent time intervals locked to timestamps. Consider the difference below:"
   ]
  },
  {
   "cell_type": "code",
   "execution_count": 176,
   "metadata": {},
   "outputs": [
    {
     "data": {
      "text/plain": [
       "DatetimeIndex(['2017-01-31', '2017-02-28', '2017-03-31', '2017-04-30',\n",
       "               '2017-05-31', '2017-06-30', '2017-07-31', '2017-08-31',\n",
       "               '2017-09-30', '2017-10-31', '2017-11-30'],\n",
       "              dtype='datetime64[ns]', freq='M')"
      ]
     },
     "execution_count": 176,
     "metadata": {},
     "output_type": "execute_result"
    }
   ],
   "source": [
    "pd.date_range('2017-01', '2017-12', freq='M')  # This gives us 12 dates, one for each month, on the last day of each month"
   ]
  },
  {
   "cell_type": "code",
   "execution_count": 177,
   "metadata": {},
   "outputs": [
    {
     "data": {
      "text/plain": [
       "PeriodIndex(['2017-01', '2017-02', '2017-03', '2017-04', '2017-05', '2017-06',\n",
       "             '2017-07', '2017-08', '2017-09', '2017-10', '2017-11', '2017-12'],\n",
       "            dtype='period[M]', freq='M')"
      ]
     },
     "execution_count": 177,
     "metadata": {},
     "output_type": "execute_result"
    }
   ],
   "source": [
    "pd.period_range('2017-01', '2017-12', freq='M')  # This gives us 12 month long periods"
   ]
  },
  {
   "cell_type": "markdown",
   "metadata": {},
   "source": [
    "You may wonder why the dates above were on the last day of each month. Pandas uses frequency codes, as follows:\n",
    "\n",
    "| Code | Meaning |\n",
    "|------|---------|\n",
    "| D | Calendar day |\n",
    "| B | Business day |\n",
    "| W | Weekly |\n",
    "| MS | Month start |\n",
    "| BMS | Business month start |\n",
    "| M | Month end |\n",
    "| BM | Business month end |\n",
    "| QS | Quarter start |\n",
    "| BQS | Business quarter start |\n",
    "| Q | Quarter end |\n",
    "| BQ | Business quarter end |\n",
    "| AS | Year start |\n",
    "| A | Year end |\n",
    "| BAS | Business year start |\n",
    "| BS | Business year end |\n",
    "| T\t| Minutes |\n",
    "| S\t| Seconds |\n",
    "| L\t| Milliseonds |\n",
    "| U\t| Microseconds |\n",
    "\n",
    "These can also be combined in some cases; e.g. \"!H30T\" or \"90T\" each represent 90 minutes:"
   ]
  },
  {
   "cell_type": "code",
   "execution_count": 178,
   "metadata": {},
   "outputs": [
    {
     "data": {
      "text/plain": [
       "DatetimeIndex(['2017-01-01 00:00:00', '2017-01-01 01:30:00',\n",
       "               '2017-01-01 03:00:00', '2017-01-01 04:30:00',\n",
       "               '2017-01-01 06:00:00', '2017-01-01 07:30:00',\n",
       "               '2017-01-01 09:00:00', '2017-01-01 10:30:00',\n",
       "               '2017-01-01 12:00:00', '2017-01-01 13:30:00',\n",
       "               '2017-01-01 15:00:00', '2017-01-01 16:30:00',\n",
       "               '2017-01-01 18:00:00', '2017-01-01 19:30:00',\n",
       "               '2017-01-01 21:00:00', '2017-01-01 22:30:00'],\n",
       "              dtype='datetime64[ns]', freq='90T')"
      ]
     },
     "execution_count": 178,
     "metadata": {},
     "output_type": "execute_result"
    }
   ],
   "source": [
    "pd.date_range('2017-01', periods=16, freq='1H30T') "
   ]
  },
  {
   "cell_type": "markdown",
   "metadata": {},
   "source": [
    "We can also add month offsets to annual or quarterly frequencies or day of week constraints to weekly frequencies:"
   ]
  },
  {
   "cell_type": "code",
   "execution_count": 179,
   "metadata": {},
   "outputs": [
    {
     "data": {
      "text/plain": [
       "DatetimeIndex(['2017-02-01', '2017-05-01', '2017-08-01', '2017-11-01'], dtype='datetime64[ns]', freq='QS-FEB')"
      ]
     },
     "execution_count": 179,
     "metadata": {},
     "output_type": "execute_result"
    }
   ],
   "source": [
    "pd.date_range('2017', periods=4, freq='QS-FEB')  # 4 quarters starting from beginning of February"
   ]
  },
  {
   "cell_type": "code",
   "execution_count": 180,
   "metadata": {},
   "outputs": [
    {
     "data": {
      "text/plain": [
       "DatetimeIndex(['2017-01-02', '2017-01-09', '2017-01-16', '2017-01-23'], dtype='datetime64[ns]', freq='W-MON')"
      ]
     },
     "execution_count": 180,
     "metadata": {},
     "output_type": "execute_result"
    }
   ],
   "source": [
    "pd.date_range('2017-01', periods=4, freq='W-MON')  # First 4 Mondays in Jan 2017"
   ]
  },
  {
   "cell_type": "markdown",
   "metadata": {},
   "source": [
    "So what use are all these? To understand that we need some time-series data. Let's get the eBay daily stock closing price for 2017:"
   ]
  },
  {
   "cell_type": "code",
   "execution_count": 181,
   "metadata": {},
   "outputs": [
    {
     "name": "stdout",
     "output_type": "stream",
     "text": [
      "Solving environment: done\n",
      "\n",
      "# All requested packages already installed.\n",
      "\n"
     ]
    }
   ],
   "source": [
    "import sys\n",
    "!conda install --yes --prefix {sys.prefix} pandas-datareader"
   ]
  },
  {
   "cell_type": "code",
   "execution_count": 182,
   "metadata": {},
   "outputs": [
    {
     "name": "stdout",
     "output_type": "stream",
     "text": [
      "2y\n"
     ]
    },
    {
     "data": {
      "text/plain": [
       "<matplotlib.axes._subplots.AxesSubplot at 0x1a1c3bd7f0>"
      ]
     },
     "execution_count": 182,
     "metadata": {},
     "output_type": "execute_result"
    },
    {
     "data": {
      "image/png": "[encoded data removed]",
      "text/plain": [
       "<matplotlib.figure.Figure at 0x10895d5f8>"
      ]
     },
     "metadata": {},
     "output_type": "display_data"
    }
   ],
   "source": [
    "from pandas_datareader import data\n",
    "\n",
    "ebay = data.DataReader('EBAY', start='2017', end='2018', data_source='iex')['close']\n",
    "ebay.plot()"
   ]
  },
  {
   "cell_type": "code",
   "execution_count": 183,
   "metadata": {},
   "outputs": [
    {
     "data": {
      "text/plain": [
       "date\n",
       "2017-01-03    29.84\n",
       "2017-01-04    29.76\n",
       "2017-01-05    30.01\n",
       "2017-01-06    31.05\n",
       "2017-01-09    30.75\n",
       "Name: close, dtype: float64"
      ]
     },
     "execution_count": 183,
     "metadata": {},
     "output_type": "execute_result"
    }
   ],
   "source": [
    "ebay.head()"
   ]
  },
  {
   "cell_type": "code",
   "execution_count": 184,
   "metadata": {},
   "outputs": [
    {
     "data": {
      "text/plain": [
       "Index(['2017-01-03', '2017-01-04', '2017-01-05', '2017-01-06', '2017-01-09',\n",
       "       '2017-01-10', '2017-01-11', '2017-01-12', '2017-01-13', '2017-01-17',\n",
       "       ...\n",
       "       '2017-12-15', '2017-12-18', '2017-12-19', '2017-12-20', '2017-12-21',\n",
       "       '2017-12-22', '2017-12-26', '2017-12-27', '2017-12-28', '2017-12-29'],\n",
       "      dtype='object', name='date', length=251)"
      ]
     },
     "execution_count": 184,
     "metadata": {},
     "output_type": "execute_result"
    }
   ],
   "source": [
    "ebay.index"
   ]
  },
  {
   "cell_type": "markdown",
   "metadata": {},
   "source": [
    "Our index is not timestamp-based, so let's fix that:"
   ]
  },
  {
   "cell_type": "code",
   "execution_count": 185,
   "metadata": {},
   "outputs": [
    {
     "data": {
      "text/plain": [
       "DatetimeIndex(['2017-01-03', '2017-01-04', '2017-01-05', '2017-01-06',\n",
       "               '2017-01-09', '2017-01-10', '2017-01-11', '2017-01-12',\n",
       "               '2017-01-13', '2017-01-17',\n",
       "               ...\n",
       "               '2017-12-15', '2017-12-18', '2017-12-19', '2017-12-20',\n",
       "               '2017-12-21', '2017-12-22', '2017-12-26', '2017-12-27',\n",
       "               '2017-12-28', '2017-12-29'],\n",
       "              dtype='datetime64[ns]', name='date', length=251, freq=None)"
      ]
     },
     "execution_count": 185,
     "metadata": {},
     "output_type": "execute_result"
    }
   ],
   "source": [
    "ebay.index = pd.to_datetime(ebay.index)\n",
    "ebay.index"
   ]
  },
  {
   "cell_type": "markdown",
   "metadata": {},
   "source": [
    "Let's plot just January prices:"
   ]
  },
  {
   "cell_type": "code",
   "execution_count": 186,
   "metadata": {},
   "outputs": [
    {
     "data": {
      "text/plain": [
       "<matplotlib.axes._subplots.AxesSubplot at 0x1a1c3d9470>"
      ]
     },
     "execution_count": 186,
     "metadata": {},
     "output_type": "execute_result"
    },
    {
     "data": {
      "image/png": "[encoded data removed]",
      "text/plain": [
       "<matplotlib.figure.Figure at 0x1a1c427358>"
      ]
     },
     "metadata": {},
     "output_type": "display_data"
    }
   ],
   "source": [
    "ebay[\"2017-01\"].plot()"
   ]
  },
  {
   "cell_type": "markdown",
   "metadata": {},
   "source": [
    "Let's plot weekly closing prices:"
   ]
  },
  {
   "cell_type": "code",
   "execution_count": 187,
   "metadata": {},
   "outputs": [
    {
     "data": {
      "text/plain": [
       "<matplotlib.axes._subplots.AxesSubplot at 0x1a1c3d9630>"
      ]
     },
     "execution_count": 187,
     "metadata": {},
     "output_type": "execute_result"
    },
    {
     "data": {
      "image/png": "[encoded data removed]",
      "text/plain": [
       "<matplotlib.figure.Figure at 0x1a1c4bc630>"
      ]
     },
     "metadata": {},
     "output_type": "display_data"
    }
   ],
   "source": [
    "ebay[pd.date_range('2017-01', periods=52, freq='W-FRI')].plot()  "
   ]
  },
  {
   "cell_type": "markdown",
   "metadata": {},
   "source": [
    "This is just a small sample of what Pandas can do with time series; Pandas came out of financial computation and has very rich capabilities in this area."
   ]
  },
  {
   "cell_type": "markdown",
   "metadata": {},
   "source": [
    "## Summarizing Data with pandas_profiling and facets\n",
    "\n",
    "`pandas_profiling` is a Python package that can produce much more detailed summaries of data than the `.describe()` method. In this case we must install with `pip` and the right way to do this from the notebook is:"
   ]
  },
  {
   "cell_type": "code",
   "execution_count": null,
   "metadata": {},
   "outputs": [],
   "source": [
    "import sys\n",
    "!{sys.executable} -m pip install pandas-profiling"
   ]
  },
  {
   "cell_type": "code",
   "execution_count": 205,
   "metadata": {},
   "outputs": [
    {
     "data": {
      "text/html": [
       "<meta charset=\"UTF-8\">\n",
       "\n",
       "<style>\n",
       "\n",
       "        .variablerow {\n",
       "            border: 1px solid #e1e1e8;\n",
       "            border-top: hidden;\n",
       "            padding-top: 2em;\n",
       "            padding-bottom: 2em;\n",
       "            padding-left: 1em;\n",
       "            padding-right: 1em;\n",
       "        }\n",
       "\n",
       "        .headerrow {\n",
       "            border: 1px solid #e1e1e8;\n",
       "            background-color: #f5f5f5;\n",
       "            padding: 2em;\n",
       "        }\n",
       "        .namecol {\n",
       "            margin-top: -1em;\n",
       "            overflow-x: auto;\n",
       "        }\n",
       "\n",
       "        .dl-horizontal dt {\n",
       "            text-align: left;\n",
       "            padding-right: 1em;\n",
       "            white-space: normal;\n",
       "        }\n",
       "\n",
       "        .dl-horizontal dd {\n",
       "            margin-left: 0;\n",
       "        }\n",
       "\n",
       "        .ignore {\n",
       "            opacity: 0.4;\n",
       "        }\n",
       "\n",
       "        .container.pandas-profiling {\n",
       "            max-width:975px;\n",
       "        }\n",
       "\n",
       "        .col-md-12 {\n",
       "            padding-left: 2em;\n",
       "        }\n",
       "\n",
       "        .indent {\n",
       "            margin-left: 1em;\n",
       "        }\n",
       "\n",
       "        .center-img {\n",
       "            margin-left: auto !important;\n",
       "            margin-right: auto !important;\n",
       "            display: block;\n",
       "        }\n",
       "\n",
       "        /* Table example_values */\n",
       "            table.example_values {\n",
       "                border: 0;\n",
       "            }\n",
       "\n",
       "            .example_values th {\n",
       "                border: 0;\n",
       "                padding: 0 ;\n",
       "                color: #555;\n",
       "                font-weight: 600;\n",
       "            }\n",
       "\n",
       "            .example_values tr, .example_values td{\n",
       "                border: 0;\n",
       "                padding: 0;\n",
       "                color: #555;\n",
       "            }\n",
       "\n",
       "        /* STATS */\n",
       "            table.stats {\n",
       "                border: 0;\n",
       "            }\n",
       "\n",
       "            .stats th {\n",
       "                border: 0;\n",
       "                padding: 0 2em 0 0;\n",
       "                color: #555;\n",
       "                font-weight: 600;\n",
       "            }\n",
       "\n",
       "            .stats tr {\n",
       "                border: 0;\n",
       "            }\n",
       "\n",
       "            .stats td{\n",
       "                color: #555;\n",
       "                padding: 1px;\n",
       "                border: 0;\n",
       "            }\n",
       "\n",
       "\n",
       "        /* Sample table */\n",
       "            table.sample {\n",
       "                border: 0;\n",
       "                margin-bottom: 2em;\n",
       "                margin-left:1em;\n",
       "            }\n",
       "            .sample tr {\n",
       "                border:0;\n",
       "            }\n",
       "            .sample td, .sample th{\n",
       "                padding: 0.5em;\n",
       "                white-space: nowrap;\n",
       "                border: none;\n",
       "\n",
       "            }\n",
       "\n",
       "            .sample thead {\n",
       "                border-top: 0;\n",
       "                border-bottom: 2px solid #ddd;\n",
       "            }\n",
       "\n",
       "            .sample td {\n",
       "                width:100%;\n",
       "            }\n",
       "\n",
       "\n",
       "        /* There is no good solution available to make the divs equal height and then center ... */\n",
       "            .histogram {\n",
       "                margin-top: 3em;\n",
       "            }\n",
       "        /* Freq table */\n",
       "\n",
       "            table.freq {\n",
       "                margin-bottom: 2em;\n",
       "                border: 0;\n",
       "            }\n",
       "            table.freq th, table.freq tr, table.freq td {\n",
       "                border: 0;\n",
       "                padding: 0;\n",
       "            }\n",
       "\n",
       "            .freq thead {\n",
       "                font-weight: 600;\n",
       "                white-space: nowrap;\n",
       "                overflow: hidden;\n",
       "                text-overflow: ellipsis;\n",
       "\n",
       "            }\n",
       "\n",
       "            td.fillremaining{\n",
       "                width:auto;\n",
       "                max-width: none;\n",
       "            }\n",
       "\n",
       "            td.number, th.number {\n",
       "                text-align:right ;\n",
       "            }\n",
       "\n",
       "        /* Freq mini */\n",
       "            .freq.mini td{\n",
       "                width: 50%;\n",
       "                padding: 1px;\n",
       "                font-size: 12px;\n",
       "\n",
       "            }\n",
       "            table.freq.mini {\n",
       "                 width:100%;\n",
       "            }\n",
       "            .freq.mini th {\n",
       "                overflow: hidden;\n",
       "                text-overflow: ellipsis;\n",
       "                white-space: nowrap;\n",
       "                max-width: 5em;\n",
       "                font-weight: 400;\n",
       "                text-align:right;\n",
       "                padding-right: 0.5em;\n",
       "            }\n",
       "\n",
       "            .missing {\n",
       "                color: #a94442;\n",
       "            }\n",
       "            .alert, .alert > th, .alert > td {\n",
       "                color: #a94442;\n",
       "            }\n",
       "\n",
       "\n",
       "        /* Bars in tables */\n",
       "            .freq .bar{\n",
       "                float: left;\n",
       "                width: 0;\n",
       "                height: 100%;\n",
       "                line-height: 20px;\n",
       "                color: #fff;\n",
       "                text-align: center;\n",
       "                background-color: #337ab7;\n",
       "                border-radius: 3px;\n",
       "                margin-right: 4px;\n",
       "            }\n",
       "            .other .bar {\n",
       "                background-color: #999;\n",
       "            }\n",
       "            .missing .bar{\n",
       "                background-color: #a94442;\n",
       "            }\n",
       "            .tooltip-inner {\n",
       "                width: 100%;\n",
       "                white-space: nowrap;\n",
       "                text-align:left;\n",
       "            }\n",
       "\n",
       "            .extrapadding{\n",
       "                padding: 2em;\n",
       "            }\n",
       "\n",
       "            .pp-anchor{\n",
       "\n",
       "            }\n",
       "\n",
       "</style>\n",
       "\n",
       "<div class=\"container pandas-profiling\">\n",
       "    <div class=\"row headerrow highlight\">\n",
       "        <h1>Overview</h1>\n",
       "    </div>\n",
       "    <div class=\"row variablerow\">\n",
       "    <div class=\"col-md-6 namecol\">\n",
       "        <p class=\"h4\">Dataset info</p>\n",
       "        <table class=\"stats\" style=\"margin-left: 1em;\">\n",
       "            <tbody>\n",
       "            <tr>\n",
       "                <th>Number of variables</th>\n",
       "                <td>15 </td>\n",
       "            </tr>\n",
       "            <tr>\n",
       "                <th>Number of observations</th>\n",
       "                <td>891 </td>\n",
       "            </tr>\n",
       "            <tr>\n",
       "                <th>Total Missing (%)</th>\n",
       "                <td>6.5% </td>\n",
       "            </tr>\n",
       "            <tr>\n",
       "                <th>Total size in memory</th>\n",
       "                <td>80.6 KiB </td>\n",
       "            </tr>\n",
       "            <tr>\n",
       "                <th>Average record size in memory</th>\n",
       "                <td>92.6 B </td>\n",
       "            </tr>\n",
       "            </tbody>\n",
       "        </table>\n",
       "    </div>\n",
       "    <div class=\"col-md-6 namecol\">\n",
       "        <p class=\"h4\">Variables types</p>\n",
       "        <table class=\"stats\" style=\"margin-left: 1em;\">\n",
       "            <tbody>\n",
       "            <tr>\n",
       "                <th>Numeric</th>\n",
       "                <td>5 </td>\n",
       "            </tr>\n",
       "            <tr>\n",
       "                <th>Categorical</th>\n",
       "                <td>7 </td>\n",
       "            </tr>\n",
       "            <tr>\n",
       "                <th>Boolean</th>\n",
       "                <td>3 </td>\n",
       "            </tr>\n",
       "            <tr>\n",
       "                <th>Date</th>\n",
       "                <td>0 </td>\n",
       "            </tr>\n",
       "            <tr>\n",
       "                <th>Text (Unique)</th>\n",
       "                <td>0 </td>\n",
       "            </tr>\n",
       "            <tr>\n",
       "                <th>Rejected</th>\n",
       "                <td>0 </td>\n",
       "            </tr>\n",
       "            <tr>\n",
       "                <th>Unsupported</th>\n",
       "                <td>0 </td>\n",
       "            </tr>\n",
       "            </tbody>\n",
       "        </table>\n",
       "    </div>\n",
       "    <div class=\"col-md-12\" style=\"padding-left: 1em;\">\n",
       "        \n",
       "        <p class=\"h4\">Warnings</p>\n",
       "        <ul class=\"list-unstyled\"><li><a href=\"#pp_var_age\"><code>age</code></a> has 177 / 19.9% missing values <span class=\"label label-default\">Missing</span></li><li><a href=\"#pp_var_deck\"><code>deck</code></a> has 688 / 77.2% missing values <span class=\"label label-default\">Missing</span></li><li><a href=\"#pp_var_fare\"><code>fare</code></a> has 15 / 1.7% zeros <span class=\"label label-info\">Zeros</span></li><li><a href=\"#pp_var_parch\"><code>parch</code></a> has 678 / 76.1% zeros <span class=\"label label-info\">Zeros</span></li><li><a href=\"#pp_var_sibsp\"><code>sibsp</code></a> has 608 / 68.2% zeros <span class=\"label label-info\">Zeros</span></li><li>Dataset has 107 duplicate rows <span class=\"label label-warning\">Warning</span></li> </ul>\n",
       "    </div>\n",
       "</div>\n",
       "    <div class=\"row headerrow highlight\">\n",
       "        <h1>Variables</h1>\n",
       "    </div>\n",
       "    <div class=\"row variablerow\">\n",
       "    <div class=\"col-md-3 namecol\">\n",
       "        <p class=\"h4 pp-anchor\" id=\"pp_var_adult_male\">adult_male<br/>\n",
       "            <small>Boolean</small>\n",
       "        </p>\n",
       "    </div><div class=\"col-md-6\">\n",
       "    <div class=\"row\">\n",
       "        <div class=\"col-sm-6\">\n",
       "            <table class=\"stats \">\n",
       "                <tr class=\"\">\n",
       "                    <th>Distinct count</th>\n",
       "                    <td>2</td>\n",
       "                </tr>\n",
       "                <tr>\n",
       "                    <th>Unique (%)</th>\n",
       "                    <td>0.2%</td>\n",
       "                </tr>\n",
       "                <tr class=\"ignore\">\n",
       "                    <th>Missing (%)</th>\n",
       "                    <td>0.0%</td>\n",
       "                </tr>\n",
       "                <tr class=\"ignore\">\n",
       "                    <th>Missing (n)</th>\n",
       "                    <td>0</td>\n",
       "                </tr>\n",
       "            </table>\n",
       "        </div>\n",
       "        <div class=\"col-sm-6\">\n",
       "            <table class=\"stats \">\n",
       "                <tr>\n",
       "                    <th>Mean</th>\n",
       "                    <td>0.60269</td>\n",
       "                </tr>\n",
       "            </table>\n",
       "        </div>\n",
       "    </div>\n",
       "</div>\n",
       "<div class=\"col-md-3 collapse in\" id=\"minifreqtable9216415464053888563\">\n",
       "    <table class=\"mini freq\">\n",
       "        <tr class=\"\">\n",
       "    <th>True</th>\n",
       "    <td>\n",
       "        <div class=\"bar\" style=\"width:100%\" data-toggle=\"tooltip\" data-placement=\"right\" data-html=\"true\"\n",
       "             data-delay=500 title=\"Percentage: 60.3%\">\n",
       "            537\n",
       "        </div>\n",
       "        \n",
       "    </td>\n",
       "</tr><tr class=\"missing\">\n",
       "    <th>(Missing)</th>\n",
       "    <td>\n",
       "        <div class=\"bar\" style=\"width:66%\" data-toggle=\"tooltip\" data-placement=\"right\" data-html=\"true\"\n",
       "             data-delay=500 title=\"Percentage: 39.7%\">\n",
       "            354\n",
       "        </div>\n",
       "        \n",
       "    </td>\n",
       "</tr>\n",
       "    </table>\n",
       "</div>\n",
       "<div class=\"col-md-12 text-right\">\n",
       "    <a role=\"button\" data-toggle=\"collapse\" data-target=\"#freqtable9216415464053888563, #minifreqtable9216415464053888563\"\n",
       "        aria-expanded=\"true\" aria-controls=\"collapseExample\">\n",
       "        Toggle details\n",
       "    </a>\n",
       "</div>\n",
       "<div class=\"col-md-12 extrapadding collapse\" id=\"freqtable9216415464053888563\">\n",
       "    \n",
       "<table class=\"freq table table-hover\">\n",
       "    <thead>\n",
       "    <tr>\n",
       "        <td class=\"fillremaining\">Value</td>\n",
       "        <td class=\"number\">Count</td>\n",
       "        <td class=\"number\">Frequency (%)</td>\n",
       "        <td style=\"min-width:200px\">&nbsp;</td>\n",
       "    </tr>\n",
       "    </thead>\n",
       "    <tr class=\"\">\n",
       "        <td class=\"fillremaining\">True</td>\n",
       "        <td class=\"number\">537</td>\n",
       "        <td class=\"number\">60.3%</td>\n",
       "        <td>\n",
       "            <div class=\"bar\" style=\"width:100%\">&nbsp;</div>\n",
       "        </td>\n",
       "</tr><tr class=\"missing\">\n",
       "        <td class=\"fillremaining\">(Missing)</td>\n",
       "        <td class=\"number\">354</td>\n",
       "        <td class=\"number\">39.7%</td>\n",
       "        <td>\n",
       "            <div class=\"bar\" style=\"width:66%\">&nbsp;</div>\n",
       "        </td>\n",
       "</tr>\n",
       "</table>\n",
       "</div>\n",
       "</div><div class=\"row variablerow\">\n",
       "    <div class=\"col-md-3 namecol\">\n",
       "        <p class=\"h4 pp-anchor\" id=\"pp_var_age\">age<br/>\n",
       "            <small>Numeric</small>\n",
       "        </p>\n",
       "    </div><div class=\"col-md-6\">\n",
       "    <div class=\"row\">\n",
       "        <div class=\"col-sm-6\">\n",
       "            <table class=\"stats \">\n",
       "                <tr>\n",
       "                    <th>Distinct count</th>\n",
       "                    <td>89</td>\n",
       "                </tr>\n",
       "                <tr>\n",
       "                    <th>Unique (%)</th>\n",
       "                    <td>10.0%</td>\n",
       "                </tr>\n",
       "                <tr class=\"alert\">\n",
       "                    <th>Missing (%)</th>\n",
       "                    <td>19.9%</td>\n",
       "                </tr>\n",
       "                <tr class=\"alert\">\n",
       "                    <th>Missing (n)</th>\n",
       "                    <td>177</td>\n",
       "                </tr>\n",
       "                <tr class=\"ignore\">\n",
       "                    <th>Infinite (%)</th>\n",
       "                    <td>0.0%</td>\n",
       "                </tr>\n",
       "                <tr class=\"ignore\">\n",
       "                    <th>Infinite (n)</th>\n",
       "                    <td>0</td>\n",
       "                </tr>\n",
       "            </table>\n",
       "\n",
       "        </div>\n",
       "        <div class=\"col-sm-6\">\n",
       "            <table class=\"stats \">\n",
       "\n",
       "                <tr>\n",
       "                    <th>Mean</th>\n",
       "                    <td>29.699</td>\n",
       "                </tr>\n",
       "                <tr>\n",
       "                    <th>Minimum</th>\n",
       "                    <td>0.42</td>\n",
       "                </tr>\n",
       "                <tr>\n",
       "                    <th>Maximum</th>\n",
       "                    <td>80</td>\n",
       "                </tr>\n",
       "                <tr class=\"ignore\">\n",
       "                    <th>Zeros (%)</th>\n",
       "                    <td>0.0%</td>\n",
       "                </tr>\n",
       "            </table>\n",
       "        </div>\n",
       "    </div>\n",
       "</div>\n",
       "<div class=\"col-md-3 collapse in\" id=\"minihistogram-2520434146686720069\">\n",
       "    <img src=\"data:image/png;base64,iVBORw0KGgoAAAANSUhEUgAAAMgAAABLCAYAAAA1fMjoAAAABHNCSVQICAgIfAhkiAAAAAlwSFlzAAAPYQAAD2EBqD%2BnaQAAADl0RVh0U29mdHdhcmUAbWF0cGxvdGxpYiB2ZXJzaW9uIDIuMS4xLCBodHRwOi8vbWF0cGxvdGxpYi5vcmcvAOZPmwAAATBJREFUeJzt3cGJwlAYRtFxsCSLsCfX09MUYU%2BxAbkkQsivnrMXsrl8vvDE07Isyw/w1O/RDwCTnY9%2BgKNcbv%2BbP3P/u%2B7wJExmQSB87YK8YuvqWJz3Z0EgCASCQCAIBIJAIAgEgkAgCASCQCAIBIJAIAgEgkAguM27I785eX8WBIJAIAgEgkAgCASCQCAIBIJAIAgEgkAgCASCu1jDuL81iwWBIBAIAoEgEAjjDukOqUxiQSCcpv2J5ysLwjYWdz0LAkEgEAQCQSAQxr3mZX9epa9nQSAIBIJAIDiDsMq3nlssCAQLwm4%2BYXXG3cWCSXzFgiAQCAKBIBAIAoEgEAgCgSAQCAKBIBAIAoEgEAgCgSAQCAKBIBAIAoEgEAgCgSAQCAKBIBAIAoEgEAgCgfAA2GcnmG8/XLAAAAAASUVORK5CYII%3D\">\n",
       "\n",
       "</div>\n",
       "<div class=\"col-md-12 text-right\">\n",
       "    <a role=\"button\" data-toggle=\"collapse\" data-target=\"#descriptives-2520434146686720069,#minihistogram-2520434146686720069\"\n",
       "       aria-expanded=\"false\" aria-controls=\"collapseExample\">\n",
       "        Toggle details\n",
       "    </a>\n",
       "</div>\n",
       "<div class=\"row collapse col-md-12\" id=\"descriptives-2520434146686720069\">\n",
       "    <ul class=\"nav nav-tabs\" role=\"tablist\">\n",
       "        <li role=\"presentation\" class=\"active\"><a href=\"#quantiles-2520434146686720069\"\n",
       "                                                  aria-controls=\"quantiles-2520434146686720069\" role=\"tab\"\n",
       "                                                  data-toggle=\"tab\">Statistics</a></li>\n",
       "        <li role=\"presentation\"><a href=\"#histogram-2520434146686720069\" aria-controls=\"histogram-2520434146686720069\"\n",
       "                                   role=\"tab\" data-toggle=\"tab\">Histogram</a></li>\n",
       "        <li role=\"presentation\"><a href=\"#common-2520434146686720069\" aria-controls=\"common-2520434146686720069\"\n",
       "                                   role=\"tab\" data-toggle=\"tab\">Common Values</a></li>\n",
       "        <li role=\"presentation\"><a href=\"#extreme-2520434146686720069\" aria-controls=\"extreme-2520434146686720069\"\n",
       "                                   role=\"tab\" data-toggle=\"tab\">Extreme Values</a></li>\n",
       "\n",
       "    </ul>\n",
       "\n",
       "    <div class=\"tab-content\">\n",
       "        <div role=\"tabpanel\" class=\"tab-pane active row\" id=\"quantiles-2520434146686720069\">\n",
       "            <div class=\"col-md-4 col-md-offset-1\">\n",
       "                <p class=\"h4\">Quantile statistics</p>\n",
       "                <table class=\"stats indent\">\n",
       "                    <tr>\n",
       "                        <th>Minimum</th>\n",
       "                        <td>0.42</td>\n",
       "                    </tr>\n",
       "                    <tr>\n",
       "                        <th>5-th percentile</th>\n",
       "                        <td>4</td>\n",
       "                    </tr>\n",
       "                    <tr>\n",
       "                        <th>Q1</th>\n",
       "                        <td>20.125</td>\n",
       "                    </tr>\n",
       "                    <tr>\n",
       "                        <th>Median</th>\n",
       "                        <td>28</td>\n",
       "                    </tr>\n",
       "                    <tr>\n",
       "                        <th>Q3</th>\n",
       "                        <td>38</td>\n",
       "                    </tr>\n",
       "                    <tr>\n",
       "                        <th>95-th percentile</th>\n",
       "                        <td>56</td>\n",
       "                    </tr>\n",
       "                    <tr>\n",
       "                        <th>Maximum</th>\n",
       "                        <td>80</td>\n",
       "                    </tr>\n",
       "                    <tr>\n",
       "                        <th>Range</th>\n",
       "                        <td>79.58</td>\n",
       "                    </tr>\n",
       "                    <tr>\n",
       "                        <th>Interquartile range</th>\n",
       "                        <td>17.875</td>\n",
       "                    </tr>\n",
       "                </table>\n",
       "            </div>\n",
       "            <div class=\"col-md-4 col-md-offset-2\">\n",
       "                <p class=\"h4\">Descriptive statistics</p>\n",
       "                <table class=\"stats indent\">\n",
       "                    <tr>\n",
       "                        <th>Standard deviation</th>\n",
       "                        <td>14.526</td>\n",
       "                    </tr>\n",
       "                    <tr>\n",
       "                        <th>Coef of variation</th>\n",
       "                        <td>0.48912</td>\n",
       "                    </tr>\n",
       "                    <tr>\n",
       "                        <th>Kurtosis</th>\n",
       "                        <td>0.17827</td>\n",
       "                    </tr>\n",
       "                    <tr>\n",
       "                        <th>Mean</th>\n",
       "                        <td>29.699</td>\n",
       "                    </tr>\n",
       "                    <tr>\n",
       "                        <th>MAD</th>\n",
       "                        <td>11.323</td>\n",
       "                    </tr>\n",
       "                    <tr class=\"\">\n",
       "                        <th>Skewness</th>\n",
       "                        <td>0.38911</td>\n",
       "                    </tr>\n",
       "                    <tr>\n",
       "                        <th>Sum</th>\n",
       "                        <td>21205</td>\n",
       "                    </tr>\n",
       "                    <tr>\n",
       "                        <th>Variance</th>\n",
       "                        <td>211.02</td>\n",
       "                    </tr>\n",
       "                    <tr>\n",
       "                        <th>Memory size</th>\n",
       "                        <td>7.0 KiB</td>\n",
       "                    </tr>\n",
       "                </table>\n",
       "            </div>\n",
       "        </div>\n",
       "        <div role=\"tabpanel\" class=\"tab-pane col-md-8 col-md-offset-2\" id=\"histogram-2520434146686720069\">\n",
       "            <img src=\"data:image/png;base64,iVBORw0KGgoAAAANSUhEUgAAAlgAAAGQCAYAAAByNR6YAAAABHNCSVQICAgIfAhkiAAAAAlwSFlzAAAPYQAAD2EBqD%2BnaQAAADl0RVh0U29mdHdhcmUAbWF0cGxvdGxpYiB2ZXJzaW9uIDIuMS4xLCBodHRwOi8vbWF0cGxvdGxpYi5vcmcvAOZPmwAAIABJREFUeJzt3XtwVPX9//FXkoVkkxhDhah1/BYVEo0JErmJRJGUFAEBi0ioQrVIbwRSkISCjl8QyoCVQcRQBUSnFKuRSqwKFGhHGEslAioiI5cgiBckK0EIISG38/vDr6v7CxYi72R3D8/HTCbmsHv282bPbp45u5EIx3EcAQAAwExksBcAAADgNgQWAACAMQILAADAGIEFAABgjMACAAAwRmABAAAYI7AAAACMEVgAAADGCCwAAABjBBYAAIAxAgsAAMAYgQUAAGCMwAIAADBGYAEAABgjsAAAAIwRWAAAAMYILAAAAGMEFgAAgDECCwAAwBiBBQAAYIzAAgAAMEZgAQAAGCOwAAAAjBFYAAAAxggsAAAAYwQWAACAMQILAADAGIEFAABgjMACAAAwRmABAAAYI7AAAACMEVgAAADGCCwAAABjBBYAAIAxAgsAAMAYgQUAAGCMwAIAADBGYAEAABgjsAAAAIx5gr2A84XPV2G2r8jICP3gB3EqL69UQ4Njtt9gc%2BtcErOFK2YLT26dza1zSc07W7t2F5ju72xxBisMRUZGKCIiQpGREcFeiim3ziUxW7hitvDk1tncOpfkztkILAAAAGMEFgAAgDECCwAAwBiBBQAAYIzAAgAAMEZgAQAAGCOwAAAAjBFYAAAAxggsAAAAYwQWAACAMQILAADA2Hn/jz2Xl5crJydHf/jDH9SjRw/97//%2Br1599dWAy1RXV%2BvGG2/U0qVL1dDQoC5dushxHEVEfPNvJm3atEmxsbEtvXwAABCCzuvA2rZtm6ZMmaKDBw/6t82YMUMzZszwf/3vf/9bkyZN0pQpUyRJpaWlqq2t1dtvv63WrVu3%2BJoBAEDoO28Dq7i4WAsWLFBBQYEmTpx42suUl5crPz9fDz74oDp27ChJ2rFjh1JSUoir80D/%2BZuCvYQmWTOhV7CXAAD4P%2Bfte7AyMzO1fv16DRgw4DsvM3fuXKWlpWnw4MH%2BbTt27NCpU6d0xx136IYbbtDdd9%2Btt99%2BuyWWDAAAwsR5G1jt2rWTx/PdJ/A%2B/vhjvfLKK5o0aVLA9piYGHXq1El/%2BtOftGHDBmVlZem%2B%2B%2B7Txx9/3NxLBgAAYeK8fYnwTF566SVlZGTommuuCdj%2B9Xuxvnbfffdp5cqV2rhxo0aOHClJKisrk8/nC7icxxOrpKQkk7VFRUUGfHYLt87VUjye4Py9ufl%2BY7bw5NbZ3DqX5M7ZCKzvsG7dOo0ePbrR9scee0z9%2BvVTamqqf1tNTY2io6P9XxcVFamwsDDgerm5ucrLyzNdY0KC13R/ocKtczW3Nm3ignr7br7fmC08uXU2t84luWs2Aus0jh49qn379qlbt26N/mzPnj3aunWr5s%2BfrwsvvFCLFy/WiRMnlJ2d7b9MTk6OsrKyAq7n8cTq6NFKk/VFRUUqIcGr48erVF/fYLLPUODWuVqK1fHVVG6%2B35gtPLl1NrfOJTXvbMH64ZPAOo1PPvlEknTxxRc3%2BrPZs2frkUce0ZAhQ1RVVaX09HQ9%2B%2ByzSkxM9F8mKSmp0cuBPl%2BF6upsD5r6%2BgbzfYYCt87V3IL9d%2Bbm%2B43ZwpNbZ3PrXJK7ZiOwJO3evTvg6/T09EbbvpaYmKjZs2e3xLIAAECYcs%2B7yQAAAEIEgQUAAGCMwAIAADBGYAEAABgjsAAAAIwRWAAAAMb43zQALtF//qZgL%2BGsrZnQK9hLAIBmxRksAAAAYwQWAACAMQILAADAGIEFAABgjMACAAAwRmABAAAYI7AAAACMEVgAAADGCCwAAABjBBYAAIAxAgsAAMAYgQUAAGCMwAIAADBGYAEAABgjsAAAAIwRWAAAAMYILAAAAGMEFgAAgDECCwAAwBiBBQAAYIzAAgAAMEZgAQAAGCOwAAAAjBFYAAAAxggsAAAAYwQWAACAMQILAADAWEgFVnl5ubKzs1VSUuLfNm3aNKWlpSkjI8P/UVRU5P/zJUuW6Oabb1bnzp01atQoffjhh8FYOgAAgF/IBNa2bduUk5OjgwcPBmzfsWOHZs6cqXfeecf/kZOTI0kqLi7WX/7yFy1dulQlJSW69tprlZeXJ8dxgjECAACApBAJrOLiYuXn52vixIkB22tqarRnzx6lpaWd9novvvii7rrrLnXs2FHR0dGaNGmSPvvss4AzYAAAAC0tJAIrMzNT69ev14ABAwK279q1S3V1dVqwYIFuvPFG9evXT4sXL1ZDQ4MkqbS0VMnJyf7Lt2rVSu3bt9euXbtadP0AAADf5gn2AiSpXbt2p91eUVGh7t27a9SoUZo3b54%2B%2BOAD5ebmKjIyUmPGjFFlZaW8Xm/AdWJiYnTy5MmWWPZ3Kisrk8/nC9jm8cQqKSnJZP9RUZEBn93CrXOhMY8nPO5jNx%2BTzBZ%2B3DqX5M7ZQiKwvkuvXr3Uq1cv/9edOnXSPffco9WrV2vMmDHyer2qrq4OuE51dbXi4uJaeqkBioqKVFhYGLAtNzdXeXl5preTkOA984XCkFvnwjfatAnuY7Sp3HxMMlv4cetckrtmC%2BnA%2Buc//6kvvvhCI0aM8G%2BrqalRTEyMJKljx47au3ev%2BvTpI0mqra3VgQMHAl42DIacnBxlZWUFbPN4YnX0aKXJ/qOiIpWQ4NXx41Wqr28w2WcocOtcaMzqsdDc3HxMMlv4cetcUvPOFqwf6EI6sBzH0ezZs/WjH/1IN9xwg959910tW7ZMU6dOlSTdcccdeuKJJ3TzzTfriiuu0GOPPaa2bduqa9euQV13UlJSo5cDfb4K1dXZHjT19Q3m%2BwwFbp0L3wi3%2B9fNxySzhR%2B3ziW5a7aQDqzs7GxNnTpV06dP1%2BHDh9W2bVuNHz9eQ4YMkSQNGzZMFRUVys3NVXl5udLT07Vo0SK1atUqyCsHAADns5ALrN27dwd8PWLEiICXCL8tIiJCo0eP1ujRo1tiaQAAAGfFPW/XBwAACBEEFgAAgDECCwAAwBiBBQAAYIzAAgAAMEZgAQAAGCOwAAAAjBFYAAAAxggsAAAAYwQWAACAMQILAADAGIEFAABgjMACAAAwRmABAAAYI7AAAACMEVgAAADGCCwAAABjBBYAAIAxAgsAAMAYgQUAAGCMwAIAADBGYAEAABgjsAAAAIwRWAAAAMYILAAAAGMEFgAAgDECCwAAwBiBBQAAYIzAAgAAMEZgAQAAGCOwAAAAjBFYAAAAxggsAAAAY64PrPLycmVnZ6ukpMS/be3atRoyZIiuv/56ZWVlqbCwUA0NDf4/79%2B/v6677jplZGT4P/bt2xeM5QMAgDDkCfYCmtO2bds0ZcoUHTx40L/t/fff1%2BTJkzV//nz17t1b%2B/fv1y9/%2BUvFxsZq9OjROnHihPbv369//etfuuyyy4K4egAAEK5cewaruLhY%2Bfn5mjhxYsD2Tz/9VCNGjFCfPn0UGRmpq666StnZ2dqyZYukrwIsMTGRuAIAAN%2BbawMrMzNT69ev14ABAwK29%2BvXT1OnTvV/XV1drQ0bNujaa6%2BVJO3YsUNer1cjR45Ujx49NHToUL3%2B%2BustunYAABDeXPsSYbt27c54mRMnTuh3v/udYmJidO%2B990qSIiIilJ6ervvvv18//OEP9Y9//EPjx4/X8uXL1blz57O67bKyMvl8voBtHk%2BskpKSmjzH6URFRQZ8dgu3zoXGPJ7wuI/dfEwyW/hx61ySO2dzbWCdyYcffqi8vDxddNFFWrZsmeLj4yVJY8aMCbjc4MGD9dprr2nt2rVnHVhFRUUqLCwM2Jabm6u8vDybxf%2BfhASv6f5ChVvnwjfatIkL9hKaxM3HJLOFH7fOJblrtvMysDZu3Kj7779fw4cP16RJk%2BTxfPPXsHTpUqWmpqpnz57%2BbTU1NYqOjj7r/efk5CgrKytgm8cTq6NHK8998fqq8BMSvDp%2BvEr19Q1nvkKYcOtcaMzqsdDc3HxMMlv4cetcUvPOFqwf6M67wHr33XeVm5ur6dOna9iwYY3%2B/NChQ1qxYoWWLFmiSy%2B9VC%2B//LLeeecdPfzww2d9G0lJSY1eDvT5KlRXZ3vQ1Nc3mO8zFLh1Lnwj3O5fNx%2BTzBZ%2B3DqX5K7ZzrvAeuqpp1RXV6dZs2Zp1qxZ/u1dunTR008/rcmTJysyMlJ33XWXKioq1KFDBy1evFg/%2BtGPgrhqAAAQTs6LwNq9e7f/v5966qn/etnWrVvrgQce0AMPPNDcywIAAC7lnrfrAwAAhAgCCwAAwBiBBQAAYIzAAgAAMEZgAQAAGCOwAAAAjBFYAAAAxs6L/w8WgNDSf/6mYC%2BhSdbn3xTsJQAIM5zBAgAAMEZgAQAAGCOwAAAAjBFYAAAAxggsAAAAYwQWAACAMQILAADAGIEFAABgjMACAAAwRmABAAAYI7AAAACMEVgAAADGCCwAAABjBBYAAIAxAgsAAMAYgQUAAGCMwAIAADBGYAEAABgjsAAAAIwRWAAAAMYILAAAAGMEFgAAgDECCwAAwBiBBQAAYCwsA6u8vFzZ2dkqKSnxbzt58qSmTp2qHj16qEuXLpo8ebIqKytbbE3FxcXKzs5W586dNXToUL3zzjstdtsAACC0hF1gbdu2TTk5OTp48GDA9pkzZ%2BrQoUNau3at1q1bp0OHDmnu3LktsqaSkhLNnDlTc%2BbM0ZYtWzR48GD99re/VVVVVYvcPgAACC1hFVjFxcXKz8/XxIkTA7ZXVVXp1VdfVV5enhITE3XRRRcpPz9fK1eubJHIWbFihQYOHKguXbqoVatWuvfee9WmTRutXr262W8bAACEnrAKrMzMTK1fv14DBgwI2P7RRx%2BptrZWycnJ/m1XXXWVqqurdeDAgWZfV2lpacBtS1KHDh20a9euZr9tAAAQejzBXkBTtGvX7rTbT5w4IUmKjY31b/N6vZLUIu/Dqqys9N/e12JiYnTy5Mlmv20AABB6wiqwvsvXYVVVVaW4uDj/f0tSfHx8s9%2B%2B1%2BtVdXW1/%2BuysjKVlZWpbdu22rlzpyTJ44lVUlKSye1FRUUGfHYLt86F8OfGY9LNjze3zubWuSR3zuaKwLriiivUqlUrlZaW6rrrrpMk7du3T61atVL79u2b/fY7duyovXv3%2Br8uKirS5s2bJUmvvfaaJCk3N1d5eXmmt5uQ4D3zhcKQW%2BdC%2BHLzMcls4cetc0nums0VgeX1etW/f3/NnTtXjz/%2BuCRp7ty5uu222xQTE9Pstz9s2DDl5uaqf//%2B6tKliyIiIhQfH6%2BFCxfqggsukPTVGayjR21eroyKilRCglfHj1epvr7BZJ%2BhwK1zIfy58Zh08%2BPNrbO5dS6peWdr0ybOdH9nyxWBJUnTpk3TI488okGDBqm2tlY//vGP9dBDD7XIbffs2VPTpk3T9OnTdfjwYXXo0EHPPPOM/2yaJPl8Faqrsz1o6usbzPcZCtw6F8KXm49JZgs/bp1LctdsEY7jOMFexPnA56sw25fHE6k2beJ09Gilaw5EKfTm6j9/U7CXgBCxPv%2BmkDgmLYXa482SW2dz61xS887Wrt0Fpvs7W%2B55NxkAAECIILAAAACMEVgAAADGCCwAAABjBBYAAIAxAgsAAMAYgQUAAGCMwAIAADBGYAEAABgjsAAAAIwRWAAAAMYILAAAAGMEFgAAgDECCwAAwBiBBQAAYIzAAgAAMEZgAQAAGCOwAAAAjBFYAAAAxggsAAAAYwQWAACAMQILAADAGIEFAABgjMACAAAwRmABAAAYI7AAAACMEVgAAADGCCwAAABjBBYAAIAxAgsAAMAYgQUAAGCMwAIAADBGYAEAABgjsAAAAIwRWAAAAMYILAAAAGMEFgAAgDECCwAAwJgn2Atwo7KyMvl8voBtHk%2BskpKSTPYfFRUZ8Nkt3DoXwp8bj0k3P97cOptb55LcORuB1QyKiopUWFgYsC03N1d5eXmmt5OQ4DXdX6hw61wIX24%2BJpkt/Lh1LsldsxFYzSAnJ0dZWVkB2zyeWB09Wmmy/6ioSCUkeHX8eJXq6xtM9hkK3DoXwp8bj0k3P97cOptb55Kad7Y2beJM93e2CKxmkJSU1OjlQJ%2BvQnV1tgdNfX2D%2BT5DgVvnQvhy8zHJbOHHrXNJ7prNPS92AgAAhAgCCwAAwBiBBQAAYIzAAgAAMEZgAQAAGOO3CAHgDLLnvhHsJTTJmgm9gr0E4LzHGSwAAABjBBYAAIAxAgsAAMAYgQUAAGCMwAIAADBGYAEAABgjsAAAAIwRWAAAAMYILAAAAGMEFgAAgDECCwAAwBiBBQAAYIzAAgAAMEZgAQAAGCOwAAAAjBFYAAAAxggsAAAAYwQWAACAMQILAADAGIEFAABgjMACAAAwRmABAAAYI7AAAACMEVgAAADGCCwAAABjBBYAAIAxAgsAAMCYJ9gLwLnpP39TsJdw1tZM6BXsJQAA0CI4g/U9rF69WqmpqcrIyPB/FBQUSJI2btyoQYMGqXPnzurfv79ef/31IK8WAAC0NM5gfQ87duzQkCFDNHv27IDtBw4c0Pjx4zVv3jzdcsstWrdunSZMmKB169YpMjI2SKsFAAAtjTNY38OOHTuUlpbWaHtxcbG6du2qvn37yuPxaMCAAerWrZuKioqCsEoAABAsnMFqooaGBu3cuVNer1dPP/206uvr1bt3b%2BXn56u0tFTJyckBl%2B/QoYN27doVpNUCAIBg4AxWE5WXlys1NVX9%2BvXT6tWr9cILL%2BjAgQMqKChQZWWlvF5vwOVjYmJ08uTJIK0WAAAEA2ewmqht27Z67rnn/F97vV4VFBRo%2BPDh6tGjh6qrq1VWViafzydJ%2BuSTT1RfX6/y8i%2BUlJRksoaoqMiAz%2BHC4/nv6w3XuYBQc6bHmuTux5tbZ3PrXJI7ZyOwmmjXrl167bXXNGnSJEVEREiSampqFBkZqU6dOumDDz5QUVGRCgsLA663du2rysvLM11LQoL3zBcKIW3axJ3V5cJtLiDUnO1jTXL3482ts7l1LsldsxFYTZSYmKjnnntOF154oX7xi1%2BorKxMjz76qH7605/q9ttv15///Gf17dtXK1as0ObNm/XEE09o3rx5%2Bp//6aCjRytN1hAVFamEBK%2BOH68y2V9LOdP8356rvr6hhVYFuM/ZPNe4%2BfHm1tncOpfUvLM15QcOSwRWE11yySVatGiR5s2bpyeffFLR0dEaOHCgCgoKFB0drYULF2ru3Lk6ePCgLrvsMhUWFqp3797y%2BSpUV2d70ITbA%2Bxs56%2BvbzD/uwLOJ015/Lj58ebW2dw6l%2BSu2Qis76F79%2B564YUXTvtnN910k2666aYWXhEAAAgl7nk3GQAAQIggsAAAAIwRWAAAAMZ4DxZaTP/5m4K9BAAAWgRnsAAAAIxxBgsAXCaczhavmdAr2EsAmgVnsAAAAIwRWAAAAMYILAAAAGMEFgAAgDECCwAAwBiBBQAAYIzAAgAAMEZgAQAAGCOwAAAAjBFYAAAAxggsAAAAYwQWAACAMQILAADAGIEFAABgjMACAAAwRmABAAAYI7AAAACMEVgAAADGCCwAAABjBBYAAIAxAgsAAMAYgQUAAGCMwAIAADBGYAEAABgjsAAAAIwRWAAAAMYILAAAAGMEFgAAgDECCwAAwBiBBQAAYIzAAgAAMEZgAQAAGPMEewFuVFZWJp/PF7DN44lVUlKSyf6joiIDPgNAuPJ47J/H3Poc6da5JHfORmA1g6KiIhUWFgZsy83NVV5enuntJCR4TfcHAC2tTZu4Ztu3W58j3TqX5K7ZCKxmkJOTo6ysrIBtHk%2Bsjh6tNNl/VFSkEhK8On68ymR/ABAsVs%2BL3/bt58j6%2Bgbz/QeLW%2BeSmne25oz4/4bAagZJSUmNXg70%2BSpUV2d70LjtAQbg/JM9941gL6FJ1kzoFewlqL6%2Bwfz7Sahw02zuebETAAAgRBBYAAAAxggsAAAAYwQWAACAMQILAADAGIEFAABgjMACAAAwRmABAAAYI7AAAACMEVgAAADGCCwAAABjBBYAAIAxAgsAAMAYgQUAAGCMwAIAADBGYAEAABgjsAAAAIwRWAAAAMYILAAAAGMEFgAAgDECCwAAwBiBBQAAYIzAAgAAMEZgAQAAGCOwAAAAjHmCvQAAAMJF//mbgr2EJlkzoVewl3De4gwWAACAMQILAADAGIEFAABgjMACAAAwRmABAAAYI7AAAACMEVgAAADGCCwAAABjBBYAAIAxAgsAAMAYgQUAAGCMf4sQAACXCqd/O3HrrFuDvQRTnMECAAAwxhmsZlBWViafzxewzeOJVVJSksn%2Bo6IiAz4DAOAGbvq%2BFuE4jhPsRbjNE088ocLCwoBt48aN0/jx4032X1ZWpqKiIuXk5JhFWyhw61wSs4UrZgtPbp3NrXNJ7pzNPakYQnJycrRy5cqAj5ycHLP9%2B3w%2BFRYWNjpLFu7cOpfEbOGK2cKTW2dz61ySO2fjJcJmkJSU5JoCBwAATccZLAAAAGMEFgAAgLGo6dOnTw/2ItB0cXFx6t69u%2BLi4oK9FFNunUtitnDFbOHJrbO5dS7JfbPxW4QAAADGeIkQAADAGIEFAABgjMACAAAwRmABAAAYI7AAAACMEVgAAOC89t577%2BnWW2%2BVJE2ePFnLly8/530SWAAA4LxWVVWl/fv3S5IOHTqko0ePnvM%2BCSwAAABjBBaaxZEjRzR27Fh17dpVPXr00KxZs1RXV9focuXl5crOzlZJSYl/2/bt23XnnXcqIyNDWVlZWrFiRUsuHd/hs88%2B01133aXU1FSlpKQoPT1dkydPVnV1tSRpzZo1uv7665WSkqJrrrlG48aNC/KK7ZWVlenGG2/UypUrg72U09q/f7/uueceZWRkKDMzU0899ZRWr16t1NRUZWRk%2BD8KCgqCvVQTX375pSZPnqwePXqoW7duGjt2rMrKyiSF9/PIK6%2B8EnB/ZWRkKC0tTWlpacFeWpNt3LhRgwYNUufOndW/f3%2B9/vrrwV5Sy3GAZjBy5Ehn0qRJzsmTJ52DBw86AwcOdJYsWRJwma1btzp9%2B/Z1kpOTnc2bNzuO4zhffvml0717d2f58uVObW2t85///MfJyMhwtm/fHowx8C233Xabc/XVVzvPP/%2B8c/z4cWfChAlOWlqa8/jjjzs%2Bn8%2B5%2BuqrnXvvvdeprKx0nn/%2BeSclJcV58skng71sM/X19c6oUaOcq6%2B%2B2nnppZeCvZxGampqnJ/85CfOo48%2B6pw6dcrZuXOnk5mZ6fz61792pkyZEuzlNYuRI0c6ubm5zrFjx5yKigpn3Lhxzq9%2B9SvXPY98/vnnTq9evZyXX3452Etpkv379zvp6enO%2BvXrndraWmfVqlVOp06dnM8//zzYS2tk8%2BbNTnJysuM4Xx1XCxYsOOd9cgYL5j766CO99dZbKigokNfr1eWXX66xY8fqueee81%2BmuLhY%2Bfn5mjhxYsB1161bp8TERN19993yeDzq2bOnBg0aFHBdtLxjx44pKSlJa9as0YgRIxQfH69bb71VNTU18nq9WrJkiRzH0aJFixQbG6sRI0aoU6dOWrZsWbCXbmbhwoW65JJLdOmllwZ7Kae1ZcsWlZWVKS8vT61bt1ZqaqpGjRqlrVu3huWZjzN5//33tX37ds2ZM0cJCQmKj4/XzJkzlZ%2Bf76rnEcdxVFBQoFtuuUVDhgwJ9nKapLi4WF27dlXfvn3l8Xg0YMAAdevWTUVFRcFeWosgsGBu7969SkxM1MUXX%2BzfdtVVV%2Bmzzz7T8ePHJUmZmZlav369BgwY0Oi6ycnJAds6dOigXbt2Nf/C8Z0uvPBCLV26VO3bt5ck9e7d2/%2BN/O6779bOnTsVHx%2Bv1q1b%2B6%2BTkpJi8kbRULB582atWrVK06ZNC/ZSvtPevXt1xRVXBNwHV155pSoqKrRhwwb16dNHN998sx566CEdO3YsiCu18d5776lDhw568cUXlZ2drczMTD3yyCNq166dq55H/v73v6u0tFRTpkwJ9lKarLS01DX3w/dBYMFcZWWlvF5vwLavvz558qQkqV27dvJ4PGd13ZiYGP/1EBrGjBmj6OhoXXnllcrLy9PJkycDvrFLUlxcnBoaGoK0QjtHjhzRAw88oLlz5youLi7Yy/lOp3vsfP2%2Bx379%2Bmn16tV64YUXdODAAVe8B%2BvYsWPavXu3Dhw4oOLiYr388ss6fPiwfv/737vmeaShoUFPPvmkfvOb3yg%2BPj7Yy2myUL8fli9frvT0dKWnp%2Bu%2B%2B%2B4z33/j73DAOYqNjVVVVVXAtq%2B/PtM3KK/Xq4qKioBt1dXVIf2N7XxSU1Oj2bNna/Xq1Vq8eLFiY2N15513qmvXrqqtrQ24bGVlpSIjw/tnOMdxNHnyZI0aNSrkX2Y73eOudevWSkhI0LBhwyR99fgqKCjQ8OHDdeLEibD8pv21r4P%2BwQcfVHR0tOLj4zVhwgQNHz5cQ4cO9f/yxdfC8XmkpKREZWVl/vsv3Hi93pC%2BHwYNGqSePXs22/4JLJjr2LGjvvzyS33xxRdq27atJGnfvn265JJLdMEFF/zX6yYnJ2vTpk0B20pLS9WxY8dmWy/OzoYNG5SXl6crr7xSf/vb33T55Zdr69atatWqlVJTU7Vt2zbV1dX5z0zu3r1biYmJQV71uTl06JDeeustbd%2B%2BXQsXLpQknThxQg8//LDWrl2rRYsWBXmF3%2BjYsaMOHDgQcB%2B8%2Beab8nq9chxHERERkr6K5MjIyEZnHMNNhw4d1NDQoNraWkVHR0uS/4zpNddco7/%2B9a8Blw/H55G1a9cqOztbsbGxwV7K95KcnKydO3cGbCstLQ2ZH1beeOMNPfPMM42279%2B/X927dz/3Gzjnt8kDp/Gzn/3MmThxolNRUeH/LcLv%2Bq2Mb/8WYXl5udO1a1fn2WefdWpqapw333zTycjIcN58882WXD7%2BPzU1Nc7gwYOd9PR0Z8aMGc6pU6ecTz75xBk2bJgzbdo0x%2BfzOSkpKc6oUaOciooKp6irUSPGAAACBklEQVSoyElJSXH%2B%2BMc/Bnvp5vr06ROSv0VYW1vrZGVlOXPmzHGqq6udDz74wOnZs6eTlpbmLF682KmtrXU%2B/fRTZ/jw4c4DDzwQ7OWes5qaGic7O9sZP368c%2BLECefIkSPOz3/%2Bcyc3N9c1zyO33Xab8%2BKLLwZ7Gd9baWmpk56e7qxatcr/W4Tp6enOhx9%2BGOylOY7z1W%2Btl5aWnvbjyJEj57z/CMdxnHPPNCDQF198oRkzZqikpESRkZG6/fbblZ%2Bfr6ioqEaXTUlJ0bJly9SjRw9J0o4dOzRr1izt2bNHP/jBDzR27FgNHTq0pUfAt6xbt07jx49Xq1atVF9fr4aGBkVERCgqKkqrVq1S%2B/bttX79ek2dOlUVFRWKiopS3759tWDBgmAv3VxWVpbGjRsXksfkRx99pBkzZmj79u2KjY3VyJEj1blzZ82bN0979uxRdHS0Bg4cqIKCAv9Zn3B2%2BPBhzZkzR1u2bNGpU6eUlZWlBx98UAkJCa54HsnIyND8%2BfPVu3fvYC/le3vjjTc0d%2B5cHTx4UJdddpkKCgrCep6mILAAAACMhfc7UAEAAEIQgQUAAGCMwAIAADBGYAEAABgjsAAAAIwRWAAAAMYILAAAAGMEFgAAgDECCwAAwBiBBQAAYIzAAgAAMEZgAQAAGCOwAAAAjBFYAAAAxggsAAAAY/8PKcmgN6fM1k4AAAAASUVORK5CYII%3D\"/>\n",
       "        </div>\n",
       "        <div role=\"tabpanel\" class=\"tab-pane col-md-12\" id=\"common-2520434146686720069\">\n",
       "            \n",
       "<table class=\"freq table table-hover\">\n",
       "    <thead>\n",
       "    <tr>\n",
       "        <td class=\"fillremaining\">Value</td>\n",
       "        <td class=\"number\">Count</td>\n",
       "        <td class=\"number\">Frequency (%)</td>\n",
       "        <td style=\"min-width:200px\">&nbsp;</td>\n",
       "    </tr>\n",
       "    </thead>\n",
       "    <tr class=\"\">\n",
       "        <td class=\"fillremaining\">24.0</td>\n",
       "        <td class=\"number\">30</td>\n",
       "        <td class=\"number\">3.4%</td>\n",
       "        <td>\n",
       "            <div class=\"bar\" style=\"width:7%\">&nbsp;</div>\n",
       "        </td>\n",
       "</tr><tr class=\"\">\n",
       "        <td class=\"fillremaining\">22.0</td>\n",
       "        <td class=\"number\">27</td>\n",
       "        <td class=\"number\">3.0%</td>\n",
       "        <td>\n",
       "            <div class=\"bar\" style=\"width:6%\">&nbsp;</div>\n",
       "        </td>\n",
       "</tr><tr class=\"\">\n",
       "        <td class=\"fillremaining\">18.0</td>\n",
       "        <td class=\"number\">26</td>\n",
       "        <td class=\"number\">2.9%</td>\n",
       "        <td>\n",
       "            <div class=\"bar\" style=\"width:6%\">&nbsp;</div>\n",
       "        </td>\n",
       "</tr><tr class=\"\">\n",
       "        <td class=\"fillremaining\">28.0</td>\n",
       "        <td class=\"number\">25</td>\n",
       "        <td class=\"number\">2.8%</td>\n",
       "        <td>\n",
       "            <div class=\"bar\" style=\"width:6%\">&nbsp;</div>\n",
       "        </td>\n",
       "</tr><tr class=\"\">\n",
       "        <td class=\"fillremaining\">19.0</td>\n",
       "        <td class=\"number\">25</td>\n",
       "        <td class=\"number\">2.8%</td>\n",
       "        <td>\n",
       "            <div class=\"bar\" style=\"width:6%\">&nbsp;</div>\n",
       "        </td>\n",
       "</tr><tr class=\"\">\n",
       "        <td class=\"fillremaining\">30.0</td>\n",
       "        <td class=\"number\">25</td>\n",
       "        <td class=\"number\">2.8%</td>\n",
       "        <td>\n",
       "            <div class=\"bar\" style=\"width:6%\">&nbsp;</div>\n",
       "        </td>\n",
       "</tr><tr class=\"\">\n",
       "        <td class=\"fillremaining\">21.0</td>\n",
       "        <td class=\"number\">24</td>\n",
       "        <td class=\"number\">2.7%</td>\n",
       "        <td>\n",
       "            <div class=\"bar\" style=\"width:6%\">&nbsp;</div>\n",
       "        </td>\n",
       "</tr><tr class=\"\">\n",
       "        <td class=\"fillremaining\">25.0</td>\n",
       "        <td class=\"number\">23</td>\n",
       "        <td class=\"number\">2.6%</td>\n",
       "        <td>\n",
       "            <div class=\"bar\" style=\"width:5%\">&nbsp;</div>\n",
       "        </td>\n",
       "</tr><tr class=\"\">\n",
       "        <td class=\"fillremaining\">36.0</td>\n",
       "        <td class=\"number\">22</td>\n",
       "        <td class=\"number\">2.5%</td>\n",
       "        <td>\n",
       "            <div class=\"bar\" style=\"width:5%\">&nbsp;</div>\n",
       "        </td>\n",
       "</tr><tr class=\"\">\n",
       "        <td class=\"fillremaining\">29.0</td>\n",
       "        <td class=\"number\">20</td>\n",
       "        <td class=\"number\">2.2%</td>\n",
       "        <td>\n",
       "            <div class=\"bar\" style=\"width:5%\">&nbsp;</div>\n",
       "        </td>\n",
       "</tr><tr class=\"other\">\n",
       "        <td class=\"fillremaining\">Other values (78)</td>\n",
       "        <td class=\"number\">467</td>\n",
       "        <td class=\"number\">52.4%</td>\n",
       "        <td>\n",
       "            <div class=\"bar\" style=\"width:100%\">&nbsp;</div>\n",
       "        </td>\n",
       "</tr><tr class=\"missing\">\n",
       "        <td class=\"fillremaining\">(Missing)</td>\n",
       "        <td class=\"number\">177</td>\n",
       "        <td class=\"number\">19.9%</td>\n",
       "        <td>\n",
       "            <div class=\"bar\" style=\"width:38%\">&nbsp;</div>\n",
       "        </td>\n",
       "</tr>\n",
       "</table>\n",
       "        </div>\n",
       "        <div role=\"tabpanel\" class=\"tab-pane col-md-12\"  id=\"extreme-2520434146686720069\">\n",
       "            <p class=\"h4\">Minimum 5 values</p>\n",
       "            \n",
       "<table class=\"freq table table-hover\">\n",
       "    <thead>\n",
       "    <tr>\n",
       "        <td class=\"fillremaining\">Value</td>\n",
       "        <td class=\"number\">Count</td>\n",
       "        <td class=\"number\">Frequency (%)</td>\n",
       "        <td style=\"min-width:200px\">&nbsp;</td>\n",
       "    </tr>\n",
       "    </thead>\n",
       "    <tr class=\"\">\n",
       "        <td class=\"fillremaining\">0.42</td>\n",
       "        <td class=\"number\">1</td>\n",
       "        <td class=\"number\">0.1%</td>\n",
       "        <td>\n",
       "            <div class=\"bar\" style=\"width:50%\">&nbsp;</div>\n",
       "        </td>\n",
       "</tr><tr class=\"\">\n",
       "        <td class=\"fillremaining\">0.67</td>\n",
       "        <td class=\"number\">1</td>\n",
       "        <td class=\"number\">0.1%</td>\n",
       "        <td>\n",
       "            <div class=\"bar\" style=\"width:50%\">&nbsp;</div>\n",
       "        </td>\n",
       "</tr><tr class=\"\">\n",
       "        <td class=\"fillremaining\">0.75</td>\n",
       "        <td class=\"number\">2</td>\n",
       "        <td class=\"number\">0.2%</td>\n",
       "        <td>\n",
       "            <div class=\"bar\" style=\"width:100%\">&nbsp;</div>\n",
       "        </td>\n",
       "</tr><tr class=\"\">\n",
       "        <td class=\"fillremaining\">0.83</td>\n",
       "        <td class=\"number\">2</td>\n",
       "        <td class=\"number\">0.2%</td>\n",
       "        <td>\n",
       "            <div class=\"bar\" style=\"width:100%\">&nbsp;</div>\n",
       "        </td>\n",
       "</tr><tr class=\"\">\n",
       "        <td class=\"fillremaining\">0.92</td>\n",
       "        <td class=\"number\">1</td>\n",
       "        <td class=\"number\">0.1%</td>\n",
       "        <td>\n",
       "            <div class=\"bar\" style=\"width:50%\">&nbsp;</div>\n",
       "        </td>\n",
       "</tr>\n",
       "</table>\n",
       "            <p class=\"h4\">Maximum 5 values</p>\n",
       "            \n",
       "<table class=\"freq table table-hover\">\n",
       "    <thead>\n",
       "    <tr>\n",
       "        <td class=\"fillremaining\">Value</td>\n",
       "        <td class=\"number\">Count</td>\n",
       "        <td class=\"number\">Frequency (%)</td>\n",
       "        <td style=\"min-width:200px\">&nbsp;</td>\n",
       "    </tr>\n",
       "    </thead>\n",
       "    <tr class=\"\">\n",
       "        <td class=\"fillremaining\">70.0</td>\n",
       "        <td class=\"number\">2</td>\n",
       "        <td class=\"number\">0.2%</td>\n",
       "        <td>\n",
       "            <div class=\"bar\" style=\"width:100%\">&nbsp;</div>\n",
       "        </td>\n",
       "</tr><tr class=\"\">\n",
       "        <td class=\"fillremaining\">70.5</td>\n",
       "        <td class=\"number\">1</td>\n",
       "        <td class=\"number\">0.1%</td>\n",
       "        <td>\n",
       "            <div class=\"bar\" style=\"width:50%\">&nbsp;</div>\n",
       "        </td>\n",
       "</tr><tr class=\"\">\n",
       "        <td class=\"fillremaining\">71.0</td>\n",
       "        <td class=\"number\">2</td>\n",
       "        <td class=\"number\">0.2%</td>\n",
       "        <td>\n",
       "            <div class=\"bar\" style=\"width:100%\">&nbsp;</div>\n",
       "        </td>\n",
       "</tr><tr class=\"\">\n",
       "        <td class=\"fillremaining\">74.0</td>\n",
       "        <td class=\"number\">1</td>\n",
       "        <td class=\"number\">0.1%</td>\n",
       "        <td>\n",
       "            <div class=\"bar\" style=\"width:50%\">&nbsp;</div>\n",
       "        </td>\n",
       "</tr><tr class=\"\">\n",
       "        <td class=\"fillremaining\">80.0</td>\n",
       "        <td class=\"number\">1</td>\n",
       "        <td class=\"number\">0.1%</td>\n",
       "        <td>\n",
       "            <div class=\"bar\" style=\"width:50%\">&nbsp;</div>\n",
       "        </td>\n",
       "</tr>\n",
       "</table>\n",
       "        </div>\n",
       "    </div>\n",
       "</div>\n",
       "</div><div class=\"row variablerow\">\n",
       "    <div class=\"col-md-3 namecol\">\n",
       "        <p class=\"h4 pp-anchor\" id=\"pp_var_alive\">alive<br/>\n",
       "            <small>Categorical</small>\n",
       "        </p>\n",
       "    </div><div class=\"col-md-3\">\n",
       "    <table class=\"stats \">\n",
       "        <tr class=\"\">\n",
       "            <th>Distinct count</th>\n",
       "            <td>2</td>\n",
       "        </tr>\n",
       "        <tr>\n",
       "            <th>Unique (%)</th>\n",
       "            <td>0.2%</td>\n",
       "        </tr>\n",
       "        <tr class=\"ignore\">\n",
       "            <th>Missing (%)</th>\n",
       "            <td>0.0%</td>\n",
       "        </tr>\n",
       "        <tr class=\"ignore\">\n",
       "            <th>Missing (n)</th>\n",
       "            <td>0</td>\n",
       "        </tr>\n",
       "    </table>\n",
       "</div>\n",
       "<div class=\"col-md-6 collapse in\" id=\"minifreqtable5452063789556421689\">\n",
       "    <table class=\"mini freq\">\n",
       "        <tr class=\"\">\n",
       "    <th>no</th>\n",
       "    <td>\n",
       "        <div class=\"bar\" style=\"width:100%\" data-toggle=\"tooltip\" data-placement=\"right\" data-html=\"true\"\n",
       "             data-delay=500 title=\"Percentage: 61.6%\">\n",
       "            549\n",
       "        </div>\n",
       "        \n",
       "    </td>\n",
       "</tr><tr class=\"\">\n",
       "    <th>yes</th>\n",
       "    <td>\n",
       "        <div class=\"bar\" style=\"width:62%\" data-toggle=\"tooltip\" data-placement=\"right\" data-html=\"true\"\n",
       "             data-delay=500 title=\"Percentage: 38.4%\">\n",
       "            342\n",
       "        </div>\n",
       "        \n",
       "    </td>\n",
       "</tr>\n",
       "    </table>\n",
       "</div>\n",
       "<div class=\"col-md-12 text-right\">\n",
       "    <a role=\"button\" data-toggle=\"collapse\" data-target=\"#freqtable5452063789556421689, #minifreqtable5452063789556421689\"\n",
       "       aria-expanded=\"true\" aria-controls=\"collapseExample\">\n",
       "        Toggle details\n",
       "    </a>\n",
       "</div>\n",
       "<div class=\"col-md-12 extrapadding collapse\" id=\"freqtable5452063789556421689\">\n",
       "    \n",
       "<table class=\"freq table table-hover\">\n",
       "    <thead>\n",
       "    <tr>\n",
       "        <td class=\"fillremaining\">Value</td>\n",
       "        <td class=\"number\">Count</td>\n",
       "        <td class=\"number\">Frequency (%)</td>\n",
       "        <td style=\"min-width:200px\">&nbsp;</td>\n",
       "    </tr>\n",
       "    </thead>\n",
       "    <tr class=\"\">\n",
       "        <td class=\"fillremaining\">no</td>\n",
       "        <td class=\"number\">549</td>\n",
       "        <td class=\"number\">61.6%</td>\n",
       "        <td>\n",
       "            <div class=\"bar\" style=\"width:100%\">&nbsp;</div>\n",
       "        </td>\n",
       "</tr><tr class=\"\">\n",
       "        <td class=\"fillremaining\">yes</td>\n",
       "        <td class=\"number\">342</td>\n",
       "        <td class=\"number\">38.4%</td>\n",
       "        <td>\n",
       "            <div class=\"bar\" style=\"width:62%\">&nbsp;</div>\n",
       "        </td>\n",
       "</tr>\n",
       "</table>\n",
       "</div>\n",
       "</div><div class=\"row variablerow\">\n",
       "    <div class=\"col-md-3 namecol\">\n",
       "        <p class=\"h4 pp-anchor\" id=\"pp_var_alone\">alone<br/>\n",
       "            <small>Boolean</small>\n",
       "        </p>\n",
       "    </div><div class=\"col-md-6\">\n",
       "    <div class=\"row\">\n",
       "        <div class=\"col-sm-6\">\n",
       "            <table class=\"stats \">\n",
       "                <tr class=\"\">\n",
       "                    <th>Distinct count</th>\n",
       "                    <td>2</td>\n",
       "                </tr>\n",
       "                <tr>\n",
       "                    <th>Unique (%)</th>\n",
       "                    <td>0.2%</td>\n",
       "                </tr>\n",
       "                <tr class=\"ignore\">\n",
       "                    <th>Missing (%)</th>\n",
       "                    <td>0.0%</td>\n",
       "                </tr>\n",
       "                <tr class=\"ignore\">\n",
       "                    <th>Missing (n)</th>\n",
       "                    <td>0</td>\n",
       "                </tr>\n",
       "            </table>\n",
       "        </div>\n",
       "        <div class=\"col-sm-6\">\n",
       "            <table class=\"stats \">\n",
       "                <tr>\n",
       "                    <th>Mean</th>\n",
       "                    <td>0.60269</td>\n",
       "                </tr>\n",
       "            </table>\n",
       "        </div>\n",
       "    </div>\n",
       "</div>\n",
       "<div class=\"col-md-3 collapse in\" id=\"minifreqtable2242825890910087647\">\n",
       "    <table class=\"mini freq\">\n",
       "        <tr class=\"\">\n",
       "    <th>True</th>\n",
       "    <td>\n",
       "        <div class=\"bar\" style=\"width:100%\" data-toggle=\"tooltip\" data-placement=\"right\" data-html=\"true\"\n",
       "             data-delay=500 title=\"Percentage: 60.3%\">\n",
       "            537\n",
       "        </div>\n",
       "        \n",
       "    </td>\n",
       "</tr><tr class=\"missing\">\n",
       "    <th>(Missing)</th>\n",
       "    <td>\n",
       "        <div class=\"bar\" style=\"width:66%\" data-toggle=\"tooltip\" data-placement=\"right\" data-html=\"true\"\n",
       "             data-delay=500 title=\"Percentage: 39.7%\">\n",
       "            354\n",
       "        </div>\n",
       "        \n",
       "    </td>\n",
       "</tr>\n",
       "    </table>\n",
       "</div>\n",
       "<div class=\"col-md-12 text-right\">\n",
       "    <a role=\"button\" data-toggle=\"collapse\" data-target=\"#freqtable2242825890910087647, #minifreqtable2242825890910087647\"\n",
       "        aria-expanded=\"true\" aria-controls=\"collapseExample\">\n",
       "        Toggle details\n",
       "    </a>\n",
       "</div>\n",
       "<div class=\"col-md-12 extrapadding collapse\" id=\"freqtable2242825890910087647\">\n",
       "    \n",
       "<table class=\"freq table table-hover\">\n",
       "    <thead>\n",
       "    <tr>\n",
       "        <td class=\"fillremaining\">Value</td>\n",
       "        <td class=\"number\">Count</td>\n",
       "        <td class=\"number\">Frequency (%)</td>\n",
       "        <td style=\"min-width:200px\">&nbsp;</td>\n",
       "    </tr>\n",
       "    </thead>\n",
       "    <tr class=\"\">\n",
       "        <td class=\"fillremaining\">True</td>\n",
       "        <td class=\"number\">537</td>\n",
       "        <td class=\"number\">60.3%</td>\n",
       "        <td>\n",
       "            <div class=\"bar\" style=\"width:100%\">&nbsp;</div>\n",
       "        </td>\n",
       "</tr><tr class=\"missing\">\n",
       "        <td class=\"fillremaining\">(Missing)</td>\n",
       "        <td class=\"number\">354</td>\n",
       "        <td class=\"number\">39.7%</td>\n",
       "        <td>\n",
       "            <div class=\"bar\" style=\"width:66%\">&nbsp;</div>\n",
       "        </td>\n",
       "</tr>\n",
       "</table>\n",
       "</div>\n",
       "</div><div class=\"row variablerow\">\n",
       "    <div class=\"col-md-3 namecol\">\n",
       "        <p class=\"h4 pp-anchor\" id=\"pp_var_class\">class<br/>\n",
       "            <small>Categorical</small>\n",
       "        </p>\n",
       "    </div><div class=\"col-md-3\">\n",
       "    <table class=\"stats \">\n",
       "        <tr class=\"\">\n",
       "            <th>Distinct count</th>\n",
       "            <td>3</td>\n",
       "        </tr>\n",
       "        <tr>\n",
       "            <th>Unique (%)</th>\n",
       "            <td>0.3%</td>\n",
       "        </tr>\n",
       "        <tr class=\"ignore\">\n",
       "            <th>Missing (%)</th>\n",
       "            <td>0.0%</td>\n",
       "        </tr>\n",
       "        <tr class=\"ignore\">\n",
       "            <th>Missing (n)</th>\n",
       "            <td>0</td>\n",
       "        </tr>\n",
       "    </table>\n",
       "</div>\n",
       "<div class=\"col-md-6 collapse in\" id=\"minifreqtable6615577425894118931\">\n",
       "    <table class=\"mini freq\">\n",
       "        <tr class=\"\">\n",
       "    <th>Third</th>\n",
       "    <td>\n",
       "        <div class=\"bar\" style=\"width:100%\" data-toggle=\"tooltip\" data-placement=\"right\" data-html=\"true\"\n",
       "             data-delay=500 title=\"Percentage: 55.1%\">\n",
       "            491\n",
       "        </div>\n",
       "        \n",
       "    </td>\n",
       "</tr><tr class=\"\">\n",
       "    <th>First</th>\n",
       "    <td>\n",
       "        <div class=\"bar\" style=\"width:44%\" data-toggle=\"tooltip\" data-placement=\"right\" data-html=\"true\"\n",
       "             data-delay=500 title=\"Percentage: 24.2%\">\n",
       "            216\n",
       "        </div>\n",
       "        \n",
       "    </td>\n",
       "</tr><tr class=\"\">\n",
       "    <th>Second</th>\n",
       "    <td>\n",
       "        <div class=\"bar\" style=\"width:38%\" data-toggle=\"tooltip\" data-placement=\"right\" data-html=\"true\"\n",
       "             data-delay=500 title=\"Percentage: 20.7%\">\n",
       "            184\n",
       "        </div>\n",
       "        \n",
       "    </td>\n",
       "</tr>\n",
       "    </table>\n",
       "</div>\n",
       "<div class=\"col-md-12 text-right\">\n",
       "    <a role=\"button\" data-toggle=\"collapse\" data-target=\"#freqtable6615577425894118931, #minifreqtable6615577425894118931\"\n",
       "       aria-expanded=\"true\" aria-controls=\"collapseExample\">\n",
       "        Toggle details\n",
       "    </a>\n",
       "</div>\n",
       "<div class=\"col-md-12 extrapadding collapse\" id=\"freqtable6615577425894118931\">\n",
       "    \n",
       "<table class=\"freq table table-hover\">\n",
       "    <thead>\n",
       "    <tr>\n",
       "        <td class=\"fillremaining\">Value</td>\n",
       "        <td class=\"number\">Count</td>\n",
       "        <td class=\"number\">Frequency (%)</td>\n",
       "        <td style=\"min-width:200px\">&nbsp;</td>\n",
       "    </tr>\n",
       "    </thead>\n",
       "    <tr class=\"\">\n",
       "        <td class=\"fillremaining\">Third</td>\n",
       "        <td class=\"number\">491</td>\n",
       "        <td class=\"number\">55.1%</td>\n",
       "        <td>\n",
       "            <div class=\"bar\" style=\"width:100%\">&nbsp;</div>\n",
       "        </td>\n",
       "</tr><tr class=\"\">\n",
       "        <td class=\"fillremaining\">First</td>\n",
       "        <td class=\"number\">216</td>\n",
       "        <td class=\"number\">24.2%</td>\n",
       "        <td>\n",
       "            <div class=\"bar\" style=\"width:44%\">&nbsp;</div>\n",
       "        </td>\n",
       "</tr><tr class=\"\">\n",
       "        <td class=\"fillremaining\">Second</td>\n",
       "        <td class=\"number\">184</td>\n",
       "        <td class=\"number\">20.7%</td>\n",
       "        <td>\n",
       "            <div class=\"bar\" style=\"width:38%\">&nbsp;</div>\n",
       "        </td>\n",
       "</tr>\n",
       "</table>\n",
       "</div>\n",
       "</div><div class=\"row variablerow\">\n",
       "    <div class=\"col-md-3 namecol\">\n",
       "        <p class=\"h4 pp-anchor\" id=\"pp_var_deck\">deck<br/>\n",
       "            <small>Categorical</small>\n",
       "        </p>\n",
       "    </div><div class=\"col-md-3\">\n",
       "    <table class=\"stats \">\n",
       "        <tr class=\"\">\n",
       "            <th>Distinct count</th>\n",
       "            <td>8</td>\n",
       "        </tr>\n",
       "        <tr>\n",
       "            <th>Unique (%)</th>\n",
       "            <td>0.9%</td>\n",
       "        </tr>\n",
       "        <tr class=\"alert\">\n",
       "            <th>Missing (%)</th>\n",
       "            <td>77.2%</td>\n",
       "        </tr>\n",
       "        <tr class=\"alert\">\n",
       "            <th>Missing (n)</th>\n",
       "            <td>688</td>\n",
       "        </tr>\n",
       "    </table>\n",
       "</div>\n",
       "<div class=\"col-md-6 collapse in\" id=\"minifreqtable1293627988291184828\">\n",
       "    <table class=\"mini freq\">\n",
       "        <tr class=\"\">\n",
       "    <th>C</th>\n",
       "    <td>\n",
       "        <div class=\"bar\" style=\"width:9%\" data-toggle=\"tooltip\" data-placement=\"right\" data-html=\"true\"\n",
       "             data-delay=500 title=\"Percentage: 6.6%\">\n",
       "            &nbsp;\n",
       "        </div>\n",
       "        59\n",
       "    </td>\n",
       "</tr><tr class=\"\">\n",
       "    <th>B</th>\n",
       "    <td>\n",
       "        <div class=\"bar\" style=\"width:7%\" data-toggle=\"tooltip\" data-placement=\"right\" data-html=\"true\"\n",
       "             data-delay=500 title=\"Percentage: 5.3%\">\n",
       "            &nbsp;\n",
       "        </div>\n",
       "        47\n",
       "    </td>\n",
       "</tr><tr class=\"\">\n",
       "    <th>D</th>\n",
       "    <td>\n",
       "        <div class=\"bar\" style=\"width:5%\" data-toggle=\"tooltip\" data-placement=\"right\" data-html=\"true\"\n",
       "             data-delay=500 title=\"Percentage: 3.7%\">\n",
       "            &nbsp;\n",
       "        </div>\n",
       "        33\n",
       "    </td>\n",
       "</tr><tr class=\"other\">\n",
       "    <th>Other values (4)</th>\n",
       "    <td>\n",
       "        <div class=\"bar\" style=\"width:10%\" data-toggle=\"tooltip\" data-placement=\"right\" data-html=\"true\"\n",
       "             data-delay=500 title=\"Percentage: 7.2%\">\n",
       "            &nbsp;\n",
       "        </div>\n",
       "        64\n",
       "    </td>\n",
       "</tr><tr class=\"missing\">\n",
       "    <th>(Missing)</th>\n",
       "    <td>\n",
       "        <div class=\"bar\" style=\"width:100%\" data-toggle=\"tooltip\" data-placement=\"right\" data-html=\"true\"\n",
       "             data-delay=500 title=\"Percentage: 77.2%\">\n",
       "            688\n",
       "        </div>\n",
       "        \n",
       "    </td>\n",
       "</tr>\n",
       "    </table>\n",
       "</div>\n",
       "<div class=\"col-md-12 text-right\">\n",
       "    <a role=\"button\" data-toggle=\"collapse\" data-target=\"#freqtable1293627988291184828, #minifreqtable1293627988291184828\"\n",
       "       aria-expanded=\"true\" aria-controls=\"collapseExample\">\n",
       "        Toggle details\n",
       "    </a>\n",
       "</div>\n",
       "<div class=\"col-md-12 extrapadding collapse\" id=\"freqtable1293627988291184828\">\n",
       "    \n",
       "<table class=\"freq table table-hover\">\n",
       "    <thead>\n",
       "    <tr>\n",
       "        <td class=\"fillremaining\">Value</td>\n",
       "        <td class=\"number\">Count</td>\n",
       "        <td class=\"number\">Frequency (%)</td>\n",
       "        <td style=\"min-width:200px\">&nbsp;</td>\n",
       "    </tr>\n",
       "    </thead>\n",
       "    <tr class=\"\">\n",
       "        <td class=\"fillremaining\">C</td>\n",
       "        <td class=\"number\">59</td>\n",
       "        <td class=\"number\">6.6%</td>\n",
       "        <td>\n",
       "            <div class=\"bar\" style=\"width:9%\">&nbsp;</div>\n",
       "        </td>\n",
       "</tr><tr class=\"\">\n",
       "        <td class=\"fillremaining\">B</td>\n",
       "        <td class=\"number\">47</td>\n",
       "        <td class=\"number\">5.3%</td>\n",
       "        <td>\n",
       "            <div class=\"bar\" style=\"width:7%\">&nbsp;</div>\n",
       "        </td>\n",
       "</tr><tr class=\"\">\n",
       "        <td class=\"fillremaining\">D</td>\n",
       "        <td class=\"number\">33</td>\n",
       "        <td class=\"number\">3.7%</td>\n",
       "        <td>\n",
       "            <div class=\"bar\" style=\"width:5%\">&nbsp;</div>\n",
       "        </td>\n",
       "</tr><tr class=\"\">\n",
       "        <td class=\"fillremaining\">E</td>\n",
       "        <td class=\"number\">32</td>\n",
       "        <td class=\"number\">3.6%</td>\n",
       "        <td>\n",
       "            <div class=\"bar\" style=\"width:5%\">&nbsp;</div>\n",
       "        </td>\n",
       "</tr><tr class=\"\">\n",
       "        <td class=\"fillremaining\">A</td>\n",
       "        <td class=\"number\">15</td>\n",
       "        <td class=\"number\">1.7%</td>\n",
       "        <td>\n",
       "            <div class=\"bar\" style=\"width:3%\">&nbsp;</div>\n",
       "        </td>\n",
       "</tr><tr class=\"\">\n",
       "        <td class=\"fillremaining\">F</td>\n",
       "        <td class=\"number\">13</td>\n",
       "        <td class=\"number\">1.5%</td>\n",
       "        <td>\n",
       "            <div class=\"bar\" style=\"width:2%\">&nbsp;</div>\n",
       "        </td>\n",
       "</tr><tr class=\"\">\n",
       "        <td class=\"fillremaining\">G</td>\n",
       "        <td class=\"number\">4</td>\n",
       "        <td class=\"number\">0.4%</td>\n",
       "        <td>\n",
       "            <div class=\"bar\" style=\"width:1%\">&nbsp;</div>\n",
       "        </td>\n",
       "</tr><tr class=\"missing\">\n",
       "        <td class=\"fillremaining\">(Missing)</td>\n",
       "        <td class=\"number\">688</td>\n",
       "        <td class=\"number\">77.2%</td>\n",
       "        <td>\n",
       "            <div class=\"bar\" style=\"width:100%\">&nbsp;</div>\n",
       "        </td>\n",
       "</tr>\n",
       "</table>\n",
       "</div>\n",
       "</div><div class=\"row variablerow\">\n",
       "    <div class=\"col-md-3 namecol\">\n",
       "        <p class=\"h4 pp-anchor\" id=\"pp_var_embark_town\">embark_town<br/>\n",
       "            <small>Categorical</small>\n",
       "        </p>\n",
       "    </div><div class=\"col-md-3\">\n",
       "    <table class=\"stats \">\n",
       "        <tr class=\"\">\n",
       "            <th>Distinct count</th>\n",
       "            <td>4</td>\n",
       "        </tr>\n",
       "        <tr>\n",
       "            <th>Unique (%)</th>\n",
       "            <td>0.4%</td>\n",
       "        </tr>\n",
       "        <tr class=\"ignore\">\n",
       "            <th>Missing (%)</th>\n",
       "            <td>0.2%</td>\n",
       "        </tr>\n",
       "        <tr class=\"ignore\">\n",
       "            <th>Missing (n)</th>\n",
       "            <td>2</td>\n",
       "        </tr>\n",
       "    </table>\n",
       "</div>\n",
       "<div class=\"col-md-6 collapse in\" id=\"minifreqtable-5383354737134550551\">\n",
       "    <table class=\"mini freq\">\n",
       "        <tr class=\"\">\n",
       "    <th>Southampton</th>\n",
       "    <td>\n",
       "        <div class=\"bar\" style=\"width:100%\" data-toggle=\"tooltip\" data-placement=\"right\" data-html=\"true\"\n",
       "             data-delay=500 title=\"Percentage: 72.3%\">\n",
       "            644\n",
       "        </div>\n",
       "        \n",
       "    </td>\n",
       "</tr><tr class=\"\">\n",
       "    <th>Cherbourg</th>\n",
       "    <td>\n",
       "        <div class=\"bar\" style=\"width:26%\" data-toggle=\"tooltip\" data-placement=\"right\" data-html=\"true\"\n",
       "             data-delay=500 title=\"Percentage: 18.9%\">\n",
       "            168\n",
       "        </div>\n",
       "        \n",
       "    </td>\n",
       "</tr><tr class=\"\">\n",
       "    <th>Queenstown</th>\n",
       "    <td>\n",
       "        <div class=\"bar\" style=\"width:12%\" data-toggle=\"tooltip\" data-placement=\"right\" data-html=\"true\"\n",
       "             data-delay=500 title=\"Percentage: 8.6%\">\n",
       "            &nbsp;\n",
       "        </div>\n",
       "        77\n",
       "    </td>\n",
       "</tr><tr class=\"missing\">\n",
       "    <th>(Missing)</th>\n",
       "    <td>\n",
       "        <div class=\"bar\" style=\"width:1%\" data-toggle=\"tooltip\" data-placement=\"right\" data-html=\"true\"\n",
       "             data-delay=500 title=\"Percentage: 0.2%\">\n",
       "            &nbsp;\n",
       "        </div>\n",
       "        2\n",
       "    </td>\n",
       "</tr>\n",
       "    </table>\n",
       "</div>\n",
       "<div class=\"col-md-12 text-right\">\n",
       "    <a role=\"button\" data-toggle=\"collapse\" data-target=\"#freqtable-5383354737134550551, #minifreqtable-5383354737134550551\"\n",
       "       aria-expanded=\"true\" aria-controls=\"collapseExample\">\n",
       "        Toggle details\n",
       "    </a>\n",
       "</div>\n",
       "<div class=\"col-md-12 extrapadding collapse\" id=\"freqtable-5383354737134550551\">\n",
       "    \n",
       "<table class=\"freq table table-hover\">\n",
       "    <thead>\n",
       "    <tr>\n",
       "        <td class=\"fillremaining\">Value</td>\n",
       "        <td class=\"number\">Count</td>\n",
       "        <td class=\"number\">Frequency (%)</td>\n",
       "        <td style=\"min-width:200px\">&nbsp;</td>\n",
       "    </tr>\n",
       "    </thead>\n",
       "    <tr class=\"\">\n",
       "        <td class=\"fillremaining\">Southampton</td>\n",
       "        <td class=\"number\">644</td>\n",
       "        <td class=\"number\">72.3%</td>\n",
       "        <td>\n",
       "            <div class=\"bar\" style=\"width:100%\">&nbsp;</div>\n",
       "        </td>\n",
       "</tr><tr class=\"\">\n",
       "        <td class=\"fillremaining\">Cherbourg</td>\n",
       "        <td class=\"number\">168</td>\n",
       "        <td class=\"number\">18.9%</td>\n",
       "        <td>\n",
       "            <div class=\"bar\" style=\"width:26%\">&nbsp;</div>\n",
       "        </td>\n",
       "</tr><tr class=\"\">\n",
       "        <td class=\"fillremaining\">Queenstown</td>\n",
       "        <td class=\"number\">77</td>\n",
       "        <td class=\"number\">8.6%</td>\n",
       "        <td>\n",
       "            <div class=\"bar\" style=\"width:12%\">&nbsp;</div>\n",
       "        </td>\n",
       "</tr><tr class=\"missing\">\n",
       "        <td class=\"fillremaining\">(Missing)</td>\n",
       "        <td class=\"number\">2</td>\n",
       "        <td class=\"number\">0.2%</td>\n",
       "        <td>\n",
       "            <div class=\"bar\" style=\"width:1%\">&nbsp;</div>\n",
       "        </td>\n",
       "</tr>\n",
       "</table>\n",
       "</div>\n",
       "</div><div class=\"row variablerow\">\n",
       "    <div class=\"col-md-3 namecol\">\n",
       "        <p class=\"h4 pp-anchor\" id=\"pp_var_embarked\">embarked<br/>\n",
       "            <small>Categorical</small>\n",
       "        </p>\n",
       "    </div><div class=\"col-md-3\">\n",
       "    <table class=\"stats \">\n",
       "        <tr class=\"\">\n",
       "            <th>Distinct count</th>\n",
       "            <td>4</td>\n",
       "        </tr>\n",
       "        <tr>\n",
       "            <th>Unique (%)</th>\n",
       "            <td>0.4%</td>\n",
       "        </tr>\n",
       "        <tr class=\"ignore\">\n",
       "            <th>Missing (%)</th>\n",
       "            <td>0.2%</td>\n",
       "        </tr>\n",
       "        <tr class=\"ignore\">\n",
       "            <th>Missing (n)</th>\n",
       "            <td>2</td>\n",
       "        </tr>\n",
       "    </table>\n",
       "</div>\n",
       "<div class=\"col-md-6 collapse in\" id=\"minifreqtable-7284765556769319770\">\n",
       "    <table class=\"mini freq\">\n",
       "        <tr class=\"\">\n",
       "    <th>S</th>\n",
       "    <td>\n",
       "        <div class=\"bar\" style=\"width:100%\" data-toggle=\"tooltip\" data-placement=\"right\" data-html=\"true\"\n",
       "             data-delay=500 title=\"Percentage: 72.3%\">\n",
       "            644\n",
       "        </div>\n",
       "        \n",
       "    </td>\n",
       "</tr><tr class=\"\">\n",
       "    <th>C</th>\n",
       "    <td>\n",
       "        <div class=\"bar\" style=\"width:26%\" data-toggle=\"tooltip\" data-placement=\"right\" data-html=\"true\"\n",
       "             data-delay=500 title=\"Percentage: 18.9%\">\n",
       "            168\n",
       "        </div>\n",
       "        \n",
       "    </td>\n",
       "</tr><tr class=\"\">\n",
       "    <th>Q</th>\n",
       "    <td>\n",
       "        <div class=\"bar\" style=\"width:12%\" data-toggle=\"tooltip\" data-placement=\"right\" data-html=\"true\"\n",
       "             data-delay=500 title=\"Percentage: 8.6%\">\n",
       "            &nbsp;\n",
       "        </div>\n",
       "        77\n",
       "    </td>\n",
       "</tr><tr class=\"missing\">\n",
       "    <th>(Missing)</th>\n",
       "    <td>\n",
       "        <div class=\"bar\" style=\"width:1%\" data-toggle=\"tooltip\" data-placement=\"right\" data-html=\"true\"\n",
       "             data-delay=500 title=\"Percentage: 0.2%\">\n",
       "            &nbsp;\n",
       "        </div>\n",
       "        2\n",
       "    </td>\n",
       "</tr>\n",
       "    </table>\n",
       "</div>\n",
       "<div class=\"col-md-12 text-right\">\n",
       "    <a role=\"button\" data-toggle=\"collapse\" data-target=\"#freqtable-7284765556769319770, #minifreqtable-7284765556769319770\"\n",
       "       aria-expanded=\"true\" aria-controls=\"collapseExample\">\n",
       "        Toggle details\n",
       "    </a>\n",
       "</div>\n",
       "<div class=\"col-md-12 extrapadding collapse\" id=\"freqtable-7284765556769319770\">\n",
       "    \n",
       "<table class=\"freq table table-hover\">\n",
       "    <thead>\n",
       "    <tr>\n",
       "        <td class=\"fillremaining\">Value</td>\n",
       "        <td class=\"number\">Count</td>\n",
       "        <td class=\"number\">Frequency (%)</td>\n",
       "        <td style=\"min-width:200px\">&nbsp;</td>\n",
       "    </tr>\n",
       "    </thead>\n",
       "    <tr class=\"\">\n",
       "        <td class=\"fillremaining\">S</td>\n",
       "        <td class=\"number\">644</td>\n",
       "        <td class=\"number\">72.3%</td>\n",
       "        <td>\n",
       "            <div class=\"bar\" style=\"width:100%\">&nbsp;</div>\n",
       "        </td>\n",
       "</tr><tr class=\"\">\n",
       "        <td class=\"fillremaining\">C</td>\n",
       "        <td class=\"number\">168</td>\n",
       "        <td class=\"number\">18.9%</td>\n",
       "        <td>\n",
       "            <div class=\"bar\" style=\"width:26%\">&nbsp;</div>\n",
       "        </td>\n",
       "</tr><tr class=\"\">\n",
       "        <td class=\"fillremaining\">Q</td>\n",
       "        <td class=\"number\">77</td>\n",
       "        <td class=\"number\">8.6%</td>\n",
       "        <td>\n",
       "            <div class=\"bar\" style=\"width:12%\">&nbsp;</div>\n",
       "        </td>\n",
       "</tr><tr class=\"missing\">\n",
       "        <td class=\"fillremaining\">(Missing)</td>\n",
       "        <td class=\"number\">2</td>\n",
       "        <td class=\"number\">0.2%</td>\n",
       "        <td>\n",
       "            <div class=\"bar\" style=\"width:1%\">&nbsp;</div>\n",
       "        </td>\n",
       "</tr>\n",
       "</table>\n",
       "</div>\n",
       "</div><div class=\"row variablerow\">\n",
       "    <div class=\"col-md-3 namecol\">\n",
       "        <p class=\"h4 pp-anchor\" id=\"pp_var_fare\">fare<br/>\n",
       "            <small>Numeric</small>\n",
       "        </p>\n",
       "    </div><div class=\"col-md-6\">\n",
       "    <div class=\"row\">\n",
       "        <div class=\"col-sm-6\">\n",
       "            <table class=\"stats \">\n",
       "                <tr>\n",
       "                    <th>Distinct count</th>\n",
       "                    <td>248</td>\n",
       "                </tr>\n",
       "                <tr>\n",
       "                    <th>Unique (%)</th>\n",
       "                    <td>27.8%</td>\n",
       "                </tr>\n",
       "                <tr class=\"ignore\">\n",
       "                    <th>Missing (%)</th>\n",
       "                    <td>0.0%</td>\n",
       "                </tr>\n",
       "                <tr class=\"ignore\">\n",
       "                    <th>Missing (n)</th>\n",
       "                    <td>0</td>\n",
       "                </tr>\n",
       "                <tr class=\"ignore\">\n",
       "                    <th>Infinite (%)</th>\n",
       "                    <td>0.0%</td>\n",
       "                </tr>\n",
       "                <tr class=\"ignore\">\n",
       "                    <th>Infinite (n)</th>\n",
       "                    <td>0</td>\n",
       "                </tr>\n",
       "            </table>\n",
       "\n",
       "        </div>\n",
       "        <div class=\"col-sm-6\">\n",
       "            <table class=\"stats \">\n",
       "\n",
       "                <tr>\n",
       "                    <th>Mean</th>\n",
       "                    <td>32.204</td>\n",
       "                </tr>\n",
       "                <tr>\n",
       "                    <th>Minimum</th>\n",
       "                    <td>0</td>\n",
       "                </tr>\n",
       "                <tr>\n",
       "                    <th>Maximum</th>\n",
       "                    <td>512.33</td>\n",
       "                </tr>\n",
       "                <tr class=\"alert\">\n",
       "                    <th>Zeros (%)</th>\n",
       "                    <td>1.7%</td>\n",
       "                </tr>\n",
       "            </table>\n",
       "        </div>\n",
       "    </div>\n",
       "</div>\n",
       "<div class=\"col-md-3 collapse in\" id=\"minihistogram-8081547523011189607\">\n",
       "    <img src=\"data:image/png;base64,iVBORw0KGgoAAAANSUhEUgAAAMgAAABLCAYAAAA1fMjoAAAABHNCSVQICAgIfAhkiAAAAAlwSFlzAAAPYQAAD2EBqD%2BnaQAAADl0RVh0U29mdHdhcmUAbWF0cGxvdGxpYiB2ZXJzaW9uIDIuMS4xLCBodHRwOi8vbWF0cGxvdGxpYi5vcmcvAOZPmwAAARNJREFUeJzt3bEJAkEQQFEVS7IIezK2J4uwpzUX%2BejCeYe%2Bly9M8hkm2v0YY%2ByAlw5rDwBbdlx7gGeny%2B3jN/freYFJwAaBJBAIAoEgEAgCgSAQCAKBIBAIAoEgEAgCgSAQCAKBIBAIAoEgEAgCgSAQCAKBIBAIAoEgEAgCgSAQCAKBIBAIAoEgEAgCgSAQCAKBIBAIAoEgEAgCgSAQCAKBIBAIAoGwuX/SZ/hbnaXYIBAEAkEgEAQC4SeO9BkOe97xt4F8w0yEM4S7nP0YY6w9BGyVGwSCQCAIBIJAIAgEgkAgCASCQCAIBIJAIAgEgkAgCASCQCAIBIJAIAgEgkAgCASCQCAIBIJAIAgEgkAgCATCA5JpFJU50JYtAAAAAElFTkSuQmCC\">\n",
       "\n",
       "</div>\n",
       "<div class=\"col-md-12 text-right\">\n",
       "    <a role=\"button\" data-toggle=\"collapse\" data-target=\"#descriptives-8081547523011189607,#minihistogram-8081547523011189607\"\n",
       "       aria-expanded=\"false\" aria-controls=\"collapseExample\">\n",
       "        Toggle details\n",
       "    </a>\n",
       "</div>\n",
       "<div class=\"row collapse col-md-12\" id=\"descriptives-8081547523011189607\">\n",
       "    <ul class=\"nav nav-tabs\" role=\"tablist\">\n",
       "        <li role=\"presentation\" class=\"active\"><a href=\"#quantiles-8081547523011189607\"\n",
       "                                                  aria-controls=\"quantiles-8081547523011189607\" role=\"tab\"\n",
       "                                                  data-toggle=\"tab\">Statistics</a></li>\n",
       "        <li role=\"presentation\"><a href=\"#histogram-8081547523011189607\" aria-controls=\"histogram-8081547523011189607\"\n",
       "                                   role=\"tab\" data-toggle=\"tab\">Histogram</a></li>\n",
       "        <li role=\"presentation\"><a href=\"#common-8081547523011189607\" aria-controls=\"common-8081547523011189607\"\n",
       "                                   role=\"tab\" data-toggle=\"tab\">Common Values</a></li>\n",
       "        <li role=\"presentation\"><a href=\"#extreme-8081547523011189607\" aria-controls=\"extreme-8081547523011189607\"\n",
       "                                   role=\"tab\" data-toggle=\"tab\">Extreme Values</a></li>\n",
       "\n",
       "    </ul>\n",
       "\n",
       "    <div class=\"tab-content\">\n",
       "        <div role=\"tabpanel\" class=\"tab-pane active row\" id=\"quantiles-8081547523011189607\">\n",
       "            <div class=\"col-md-4 col-md-offset-1\">\n",
       "                <p class=\"h4\">Quantile statistics</p>\n",
       "                <table class=\"stats indent\">\n",
       "                    <tr>\n",
       "                        <th>Minimum</th>\n",
       "                        <td>0</td>\n",
       "                    </tr>\n",
       "                    <tr>\n",
       "                        <th>5-th percentile</th>\n",
       "                        <td>7.225</td>\n",
       "                    </tr>\n",
       "                    <tr>\n",
       "                        <th>Q1</th>\n",
       "                        <td>7.9104</td>\n",
       "                    </tr>\n",
       "                    <tr>\n",
       "                        <th>Median</th>\n",
       "                        <td>14.454</td>\n",
       "                    </tr>\n",
       "                    <tr>\n",
       "                        <th>Q3</th>\n",
       "                        <td>31</td>\n",
       "                    </tr>\n",
       "                    <tr>\n",
       "                        <th>95-th percentile</th>\n",
       "                        <td>112.08</td>\n",
       "                    </tr>\n",
       "                    <tr>\n",
       "                        <th>Maximum</th>\n",
       "                        <td>512.33</td>\n",
       "                    </tr>\n",
       "                    <tr>\n",
       "                        <th>Range</th>\n",
       "                        <td>512.33</td>\n",
       "                    </tr>\n",
       "                    <tr>\n",
       "                        <th>Interquartile range</th>\n",
       "                        <td>23.09</td>\n",
       "                    </tr>\n",
       "                </table>\n",
       "            </div>\n",
       "            <div class=\"col-md-4 col-md-offset-2\">\n",
       "                <p class=\"h4\">Descriptive statistics</p>\n",
       "                <table class=\"stats indent\">\n",
       "                    <tr>\n",
       "                        <th>Standard deviation</th>\n",
       "                        <td>49.693</td>\n",
       "                    </tr>\n",
       "                    <tr>\n",
       "                        <th>Coef of variation</th>\n",
       "                        <td>1.5431</td>\n",
       "                    </tr>\n",
       "                    <tr>\n",
       "                        <th>Kurtosis</th>\n",
       "                        <td>33.398</td>\n",
       "                    </tr>\n",
       "                    <tr>\n",
       "                        <th>Mean</th>\n",
       "                        <td>32.204</td>\n",
       "                    </tr>\n",
       "                    <tr>\n",
       "                        <th>MAD</th>\n",
       "                        <td>28.164</td>\n",
       "                    </tr>\n",
       "                    <tr class=\"\">\n",
       "                        <th>Skewness</th>\n",
       "                        <td>4.7873</td>\n",
       "                    </tr>\n",
       "                    <tr>\n",
       "                        <th>Sum</th>\n",
       "                        <td>28694</td>\n",
       "                    </tr>\n",
       "                    <tr>\n",
       "                        <th>Variance</th>\n",
       "                        <td>2469.4</td>\n",
       "                    </tr>\n",
       "                    <tr>\n",
       "                        <th>Memory size</th>\n",
       "                        <td>7.0 KiB</td>\n",
       "                    </tr>\n",
       "                </table>\n",
       "            </div>\n",
       "        </div>\n",
       "        <div role=\"tabpanel\" class=\"tab-pane col-md-8 col-md-offset-2\" id=\"histogram-8081547523011189607\">\n",
       "            <img src=\"data:image/png;base64,iVBORw0KGgoAAAANSUhEUgAAAlgAAAGQCAYAAAByNR6YAAAABHNCSVQICAgIfAhkiAAAAAlwSFlzAAAPYQAAD2EBqD%2BnaQAAADl0RVh0U29mdHdhcmUAbWF0cGxvdGxpYiB2ZXJzaW9uIDIuMS4xLCBodHRwOi8vbWF0cGxvdGxpYi5vcmcvAOZPmwAAHgZJREFUeJzt3X1snYV58OE78YHl2MO1o%2BBEmpDSJXardpmSJeRjLKUyTVuKAlm%2BrC5Cb5EmpjrDS1U8qpKtDGTC1HabPDcShYGnLRJuokVTgLG8mlCXsXzRVQRVy%2BZQAdUi1c4X%2BfQSO37/2BtPXuiS0Ptwjo%2BvS%2BIPP4/tc58bn8PvPMckU0ZHR0cDAIA0U8s9AABAtRFYAADJBBYAQDKBBQCQTGABACQTWAAAyQQWAEAygQUAkExgAQAkE1gAAMkEFgBAMoEFAJBMYAEAJBNYAADJBBYAQDKBBQCQTGABACQTWAAAyQQWAEAygQUAkExgAQAkE1gAAMkEFgBAMoEFAJBMYAEAJBNYAADJBBYAQDKBBQCQTGABACQTWAAAyQQWAEAygQUAkExgAQAkE1gAAMkEFgBAMoEFAJBMYAEAJBNYAADJBBYAQLJCuQeYLAYHz6R/z6lTp8T06XVx4sS5uHx5NP37T0Z2ms9O89lpadhrvkrY6a233lKW23UFawKbOnVKTJkyJaZOnVLuUaqGneaz03x2Whr2mm8y71RgAQAkE1gAAMkEFgBAMoEFAJBMYAEAJBNYAADJBBYAQDKBBQCQTGABACQTWAAAyQQWAEAygQUAkExgAQAkK5R7AH4%2Bix59pdwjXLe/23RHuUcAgA%2BFK1gAAMkEFgBAMoEFAJBMYAEAJBNYAADJBBYAQDKBBQCQTGABACSrysA6fvx4tLe3x6JFi2LJkiXR1dUVw8PDY%2BffeOONWLduXSxYsCBaW1tj%2B/btZZwWAKg2VRlYmzZtitra2tizZ0/s2LEj9u7dG729vRER8d5778WDDz4Yq1atioMHD0ZXV1ds2bIlDh06VN6hAYCqUXWB9c4778SBAweis7MzisVi3HbbbdHe3h7btm2LiIjdu3dHQ0NDbNiwIQqFQixbtixWrlw5dh4A4OdVdYHV398fDQ0NMXPmzLFjc%2BbMiaNHj8bp06ejv78/Wlpaxn3N3Llz4/Dhwx/2qABAlaq6v%2Bz53LlzUSwWxx278vH58%2Bff9/y0adPi/PnzaTMMDAzE4ODguGOFQm00NTWl3UZERE3NxOrjQqHy572y04m220pmp/nstDTsNd9k3mnVBVZtbW1cuHBh3LErH9fV1UWxWIwzZ86MOz80NBR1dXVpM/T19UVPT8%2B4Yxs3boyOjo6025iIGhvzdlxq9fXFa38SN8RO89lpadhrvsm406oLrObm5jh16lQcO3YsZsyYERERb731VsyaNStuueWWaGlpiddee23c1xw5ciSam5vTZmhra4vW1tZxxwqF2jh58lzabURMvFcE2fe/FGpqpkZ9fTFOn74QIyOXyz1OVbDTfHZaGvaarxJ2Wq4X91UXWLNnz46FCxfGk08%2BGY8//nicPHkytm7dGmvXro2IiBUrVsQ3v/nN6O3tjQ0bNsQPfvCD2LVrV2zdujVthqampqveDhwcPBPDw5P7ATuR7v/IyOUJNe9EYKf57LQ07DXfZNzpxLoEcp26u7tjeHg47rrrrli/fn0sX7482tvbIyKisbExnnvuuXjllVdiyZIlsXnz5ti8eXMsXbq0zFMDANWi6q5gRUTMmDEjuru7f%2Bb5efPmxQsvvPAhTgQATCZVeQULAKCcBBYAQDKBBQCQTGABACQTWAAAyQQWAEAygQUAkExgAQAkE1gAAMkEFgBAMoEFAJBMYAEAJBNYAADJBBYAQDKBBQCQTGABACQTWAAAyQQWAEAygQUAkExgAQAkE1gAAMkEFgBAMoEFAJBMYAEAJBNYAADJBBYAQDKBBQCQTGABACQTWAAAyQQWAEAygQUAkExgAQAkq8rAOn78eLS3t8eiRYtiyZIl0dXVFcPDw2Pn33jjjVi3bl0sWLAgWltbY/v27WWcFgCoNlUZWJs2bYra2trYs2dP7NixI/bu3Ru9vb0REfHee%2B/Fgw8%2BGKtWrYqDBw9GV1dXbNmyJQ4dOlTeoQGAqlF1gfXOO%2B/EgQMHorOzM4rFYtx2223R3t4e27Zti4iI3bt3R0NDQ2zYsCEKhUIsW7YsVq5cOXYeAODnVSj3ANn6%2B/ujoaEhZs6cOXZszpw5cfTo0Th9%2BnT09/dHS0vLuK%2BZO3du7NixI22GgYGBGBwcHHesUKiNpqamtNuIiKipmVh9XChU/rxXdjrRdlvJ7DSfnZaGveabzDutusA6d%2B5cFIvFcceufHz%2B/Pn3PT9t2rQ4f/582gx9fX3R09Mz7tjGjRujo6Mj7TYmosbGunKPcN3q64vX/iRuiJ3ms9PSsNd8k3GnVRdYtbW1ceHChXHHrnxcV1cXxWIxzpw5M%2B780NBQ1NXl/ce/ra0tWltbxx0rFGrj5MlzabcRMfFeEWTf/1KoqZka9fXFOH36QoyMXC73OFXBTvPZaWnYa75K2Gm5XtxXXWA1NzfHqVOn4tixYzFjxoyIiHjrrbdi1qxZccstt0RLS0u89tpr477myJEj0dzcnDZDU1PTVW8HDg6eieHhyf2AnUj3f2Tk8oSadyKw03x2Whr2mm8y7nRiXQK5DrNnz46FCxfGk08%2BGWfPno2f/OQnsXXr1li7dm1ERKxYsSKOHTsWvb29cenSpdi3b1/s2rUr1qxZU%2BbJAYBqUXWBFRHR3d0dw8PDcdddd8X69etj%2BfLl0d7eHhERjY2N8dxzz8Urr7wSS5Ysic2bN8fmzZtj6dKlZZ4aAKgWVfcWYUTEjBkzoru7%2B2eenzdvXrzwwgsf4kQAwGRSlVewAADKSWABACQTWAAAyQQWAEAygQUAkExgAQAkE1gAAMkEFgBAMoEFAJBMYAEAJBNYAADJBBYAQDKBBQCQTGABACQTWAAAyQQWAEAygQUAkExgAQAkE1gAAMkEFgBAMoEFAJBMYAEAJBNYAADJBBYAQDKBBQCQTGABACQTWAAAyQQWAEAygQUAkExgAQAkE1gAAMmqMrBefvnl%2BMQnPhELFiwY%2B6ezs3Ps/Pe///1YuXJlzJ8/P%2B6%2B%2B%2B549dVXyzgtAFBtCuUeoBTefPPNuO%2B%2B%2B2LLli1XnXv77bfjoYceij/5kz%2BJT3/607F79%2B7YtGlT7N69O2bOnFmGaQGAalOVV7DefPPN%2BJVf%2BZX3Pbdz585YtGhRfOYzn4lCoRBf%2BMIX4vbbb4%2B%2Bvr4PeUoAoFpV3RWsy5cvx49%2B9KMoFovx7LPPxsjISNx5553x8MMPx0c%2B8pE4cuRItLS0jPuauXPnxuHDh8s0MQBQbaousE6cOBGf%2BMQn4nOf%2B1x0d3fHyZMn45FHHonOzs747ne/G%2BfOnYtisTjua6ZNmxbnz59Pm2FgYCAGBwfHHSsUaqOpqSntNiIiamom1gXIQqHy572y04m220pmp/nstDTsNd9k3mnVBdaMGTNi27ZtYx8Xi8Xo7OyM9evXx9mzZ6NYLMbQ0NC4rxkaGoq6urq0Gfr6%2BqKnp2fcsY0bN0ZHR0fabUxEjY15Oy61%2BvritT%2BJG2Kn%2Bey0NOw132TcadUF1uHDh%2BPFF1%2BMr371qzFlypSIiLh48WJMnTo1br755mhpaYkf/ehH477myJEjP/N3tj6Itra2aG1tHXesUKiNkyfPpd1GxMR7RZB9/0uhpmZq1NcX4/TpCzEycrnc41QFO81np6Vhr/kqYaflenFfdYHV0NAQ27Zti4985CPxwAMPxMDAQHzzm9%2BM3/zN34ybb7457r333nj%2B%2Befj5Zdfjs9%2B9rOxe/fuOHDgQDz66KNpMzQ1NV31duDg4JkYHp7cD9iJdP9HRi5PqHknAjvNZ6elYa/5JuNOJ9YlkOswa9asePrpp%2BMf/uEfYvHixbFmzZqYN29e/OEf/mFERMyZMye%2B853vxNNPPx233357bN26Nf78z/88PvrRj5Z5cgCgWlTdFayIiMWLF8cLL7zwM88vX748li9f/iFOBABMJlV3BQsAoNwEFgBAMoEFAJBMYAEAJBNYAADJBBYAQDKBBQCQTGABACQTWAAAyQQWAEAygQUAkExgAQAkE1gAAMkEFgBAMoEFAJBMYAEAJBNYAADJBBYAQDKBBQCQTGABACQTWAAAyQQWAEAygQUAkExgAQAkE1gAAMkEFgBAMoEFAJBMYAEAJBNYAADJBBYAQDKBBQCQTGABACSbeujQoXLPAABQVaZu27at3DMAAFSVqYcPHy73DAAAVaVw/vz5cs9QdQYGBmJwcHDcsUKhNpqamlJvp6ZmYv0KXaFQ%2BfNe2elE220ls9N8dloa9ppvMu%2B0UFdXV%2B4Zqk5fX1/09PSMO7Zx48bo6Ogo00SVobFx4vys1dcXyz1C1bHTfHZaGvaabzLutNDc3FzuGapOW1tbtLa2jjtWKNTGyZPnUm9nor0iyL7/pVBTMzXq64tx%2BvSFGBm5XO5xqoKd5rPT0rDXfJWw03K9uC%2BsWbOmLDdczZqamq56O3Bw8EwMD0/uB%2BxEuv8jI5cn1LwTgZ3ms9PSsNd8k3GnU5cuXVruGQAAqsrEeo8JAGACEFgAAMkEFgBAMoEFAJBMYAEAJBNYAADJBBYAQDKBBQCQTGABACQTWAAAyQQWAEAygQUAkExgAQAkE1gAAMkEFgBAMoEFAJBMYAEAJBNYAADJBBYAQDKBBQCQTGABACQTWAAAyQQWAEAygQUAkExgAQAkE1gAAMkEFgBAMoEFAJBMYAEAJBNYAADJBBYAQDKBBQCQTGABACQTWAAAyQQWAEAygQUAkExgAQAkK5R7gGo0MDAQg4OD444VCrXR1NSUejs1NROrjwuFyp/3yk4n2m4rmZ3ms9PSsNd8k3mnAqsE%2Bvr6oqenZ9yxjRs3RkdHR5kmqgyNjXXlHuG61dcXyz1C1bHTfHZaGvaabzLuVGCVQFtbW7S2to47VijUxsmT51JvZ6K9Isi%2B/6VQUzM16uuLcfr0hRgZuVzucaqCneaz09Kw13yVsNNyvbgXWCXQ1NR01duBg4NnYnh4cj9gJ9L9Hxm5PKHmnQjsNJ%2Bdloa95puMO51Yl0AAACYAgQUAkExgAQAkE1gAAMkEFgBAMoEFAJBMYAEAJBNYAADJBBYAQDKBBQCQTGABACQTWAAAyQQWAEAygQUAkExgAQAkE1gAAMkEFgBAMoEFAJBMYAEAJBNYAADJBBYAQDKBBQCQTGABACQTWAAAyQQWAEAygQUAkExgAQAkE1gAAMkEFgBAMoEFAJBMYAEAJBNYAADJBBYAQDKBBQCQTGABACQTWAAAyQQWAEAygQUAkKxQ7gGq0cDAQAwODo47VijURlNTU%2Brt1NRMrD4uFCp/3is7nWi7rWR2ms9OS8Ne803mnQqsEujr64uenp5xxzZu3BgdHR1lmqgyNDbWlXuE61ZfXyz3CFXHTvPZaWnYa77JuFOBVQJtbW3R2to67lihUBsnT55LvZ2J9oog%2B/6XQk3N1KivL8bp0xdiZORyucepCnaaz05Lw17zVcJOy/XiXmCVQFNT01VvBw4Ononh4cn9gJ1I939k5PKEmncisNN8dloa9ppvMu50Yl0CAQCYAAQWAEAygQUAkExgAQAkE1gAAMkEFgBAMoEFAJBMYAEAJBNYAADJBBYAQDKBBQCQTGABACQTWAAAyQQWAEAygQUAkExgAQAkE1gAAMkEFgBAMoEFAJBMYAEAJBNYAADJBBYAQDKBBQCQTGABACQTWAAAyQQWAEAygQUAkExgAQAkE1gAAMkEFgBAMoEFAJBMYAEAJBNYAADJBBYAQLL0wDpx4kSsWLEi9u/fP3bsjTfeiHXr1sWCBQuitbU1tm/fPu5rdu7cGStWrIj58%2BfH6tWr44c//GH2WAAAH5rUwPrBD34QbW1t8e67744de%2B%2B99%2BLBBx%2BMVatWxcGDB6Orqyu2bNkShw4dioiI/fv3xxNPPBFPPfVUHDx4MO6999748pe/HBcuXMgcDQDgQ1PI%2BkY7d%2B6M7u7u6OzsjK985Stjx3fv3h0NDQ2xYcOGiIhYtmxZrFy5MrZt2xa/%2Bqu/Gtu3b4977rknFi5cGBERX/rSl6Kvry9efvnlWLNmTdZ4VIC7/%2By1co9wQ/5u0x3lHgGACSotsH7jN34jVq5cGYVCYVxg9ff3R0tLy7jPnTt3buzYsSMiIo4cOXJVSM2dOzcOHz6cNdqHbmBgIAYHB8cdKxRqo6mpKfV2amr8Cl0pFQr2m%2BHKz6mf1zx2Whr2mm8y7zQtsG699db3PX7u3LkoFovjjk2bNi3Onz9/Xecnor6%2Bvujp6Rl3bOPGjdHR0VGmifggGhvryj1CVamvL177k7ghdloa9ppvMu40LbB%2BlmKxGGfOnBl3bGhoKOrq6sbODw0NXXW%2BsbGx1KOVTFtbW7S2to47VijUxsmT51JvZzK%2BIvgwZf/7mqxqaqZGfX0xTp%2B%2BECMjl8s9TlWw09Kw13yVsNNyvVgueWC1tLTEa6%2BN/92bI0eORHNzc0RENDc3R39//1XnP/WpT5V6tJJpamq66u3AwcEzMTzsATuR%2BPeVa2Tksp0ms9PSsNd8k3GnJb8EsmLFijh27Fj09vbGpUuXYt%2B%2BfbFr166x37tau3Zt7Nq1K/bt2xeXLl2K3t7eOH78eKxYsaLUowEAlETJr2A1NjbGc889F11dXdHd3R3Tp0%2BPzZs3x9KlSyPiv/6vwm984xvx2GOPxU9/%2BtOYO3duPPPMM9HQ0FDq0QAASqIkgfVv//Zv4z6eN29evPDCCz/z8%2B%2B777647777SjEKAMCHzm9JAwAkE1gAAMkEFgBAMoEFAJBMYAEAJBNYAADJBBYAQDKBBQCQTGABACQTWAAAyQQWAEAygQUAkExgAQAkE1gAAMkEFgBAMoEFAJBMYAEAJBNYAADJBBYAQDKBBQCQTGABACQTWAAAyQQWAECyQrkHgEp195%2B9Vu4Rbsjfbbqj3CMA8P%2B5ggUAkExgAQAkE1gAAMkEFgBAMoEFAJBMYAEAJBNYAADJ/DlYH8Dx48fjD/7gD%2BLAgQNRU1MT9957bzzyyCNRKFgnXA9/xhhQ7VzB%2BgA2bdoUtbW1sWfPntixY0fs3bs3ent7yz0WAFAhBNYNeuedd%2BLAgQPR2dkZxWIxbrvttmhvb49t27aVezQAoEJ4T%2BsG9ff3R0NDQ8ycOXPs2Jw5c%2BLo0aNx%2BvTpqK%2BvL%2BN0QCl4SxO4UQLrBp07dy6KxeK4Y1c%2BPn/%2BfNTX18fAwEAMDg6O%2B5xCoTaamppSZ6mpcQGS/zbRIoDSKRQ8N3wQV55Tq%2Bm5dcW39pR7hOv2fx9eXu4RUgmsG1RbWxsXLlwYd%2BzKx3V1dRER0dfXFz09PeM%2B53d/93fjoYceSp1lYGAg/s%2Bs/mhra0uPt8lqYGAg%2Bvr67DSRneaz09IYGBiIv/zLZ6tqr693fb6stz%2BZf1arJ9M/JM3NzXHq1Kk4duzY2LG33norZs2aFbfccktERLS1tcXf/M3fjPunra0tfZbBwcHo6em56moZH5yd5rPTfHZaGvaabzLv1BWsGzR79uxYuHBhPPnkk/H444/HyZMnY%2BvWrbF27dqxz2lqapp0pQ4A/DdXsD6A7u7uGB4ejrvuuivWr18fy5cvj/b29nKPBQBUCFewPoAZM2ZEd3d3uccAACpUzWOPPfZYuYfgg6urq4vFixeP/YI9Pz87zWen%2Bey0NOw132Td6ZTR0dHRcg8BAFBN/A4WAEAygQUAkExgAQAkE1gAAMkEFgBAMoEFAJBMYFFyx48fj/b29li0aFEsWbIkurq6Ynh4uNxjwYSwd%2B/eWLduXfzar/1a3HHHHfHEE0/E0NBQRES88cYbsW7duliwYEG0trbG9u3bx33tzp07Y8WKFTF//vxYvXp1/PCHPyzHXYBJSWBRcps2bYra2trYs2dP7NixI/bu3Ru9vb3lHgsq3okTJ%2BJ3fud34otf/GK8/vrrsXPnzjhw4EB897vfjffeey8efPDBWLVqVRw8eDC6urpiy5YtcejQoYiI2L9/fzzxxBPx1FNPxcGDB%2BPee%2B%2BNL3/5y3HhwoUy3yuYHAQWJfXOO%2B/EgQMHorOzM4rFYtx2223R3t4e27ZtK/doFasSrvg988wz8alPfSrmz58f999/f/z4xz%2B%2B4e9x%2BPDheOCBB2Lx4sVxxx13xO///u/HiRMnxs5f6%2BoLEdOnT49//ud/jtWrV8eUKVPi1KlT8Z//%2BZ8xffr02L17dzQ0NMSGDRuiUCjEsmXLYuXKlWOPre3bt8c999wTCxcujJtuuim%2B9KUvRWNjY7z88stlvleVY2RkJO6///742te%2BNnbs%2B9//fqxcuTLmz58fd999d7z66qtlnPDnk/E4rmSV8Fz5vxFYlFR/f380NDTEzJkzx47NmTMnjh49GqdPny7jZJWr3Ff8du7cGX/1V38Vf/EXfxH79%2B%2BPT37yk9HR0RE38pc%2BDA0NxW//9m/HggUL4p/%2B6Z/ixRdfjFOnTsXXv/71iIhrXn3hv/3iL/5iRETceeedsXLlyrj11ltj9erV0d/fHy0tLeM%2Bd%2B7cuXH48OGIiDhy5Mj/ep6Inp6eeP3118c%2Bfvvtt%2BOhhx6K3/u934vXX389Hnroodi0aVP89Kc/LeOUH0zG47jSlfu58loEFiV17ty5KBaL445d%2Bfj8%2BfPlGKmiVcIVv%2B9973vxW7/1W9Hc3By/8Au/EF/96lfj6NGjsX///uv%2BHkePHo2Pf/zjsXHjxrj55pujsbEx2tra4uDBgxER17z6wtV2794d//iP/xhTp06Njo6O931sTZs2bexxda3zk93evXtj9%2B7d8dnPfnbs2M6dO2PRokXxmc98JgqFQnzhC1%2BI22%2B/Pfr6%2Bso46QeT8TiuZJXwXHktAouSqq2tvep3Pq58PNn%2B4s/rUQlX/P7nlY%2BbbropZs%2BefUNXPn75l385nn322aipqRk79vd///fxyU9%2BMiLimldfuNq0adNi5syZ0dnZGXv27IlisTj2y%2B5XDA0NjT2urnV%2BMjt%2B/Hg8%2Buij8e1vf3tchFbTVb%2BMx3Elq4TnymsRWJRUc3NznDp1Ko4dOzZ27K233opZs2bFLbfcUsbJKlMlXPHLvvIxOjoaf/qnfxqvvvpqPProoyW5jWr1L//yL/H5z38%2BLl68OHbs4sWLcdNNN8XcuXOjv79/3OcfOXIkmpubI%2BK/Hnv/2/nJ6vLly9HZ2RkPPPBAfPzjHx93rpp%2BLqvpvryfSniuvBaBRUnNnj07Fi5cGE8%2B%2BWScPXs2fvKTn8TWrVtj7dq15R6tIlXCFb/MKx9nz56Njo6O2LVrV/z1X/91fOxjH0u/jWr2sY99LIaGhuLb3/52XLx4Mf7jP/4j/viP/zjWrl0bn/vc5%2BLYsWPR29sbly5din379sWuXbtizZo1ERGxdu3a2LVrV%2Bzbty8uXboUvb29cfz48VixYkWZ71V5Pf3003HzzTfH/ffff9W5avq5rKb78n4q4bnyWgQWJdfd3R3Dw8Nx1113xfr162P58uXR3t5e7rEqUiVc8fufVz4uXboUb7/99lVvnVzLu%2B%2B%2BG2vWrImzZ8/Gjh07xuIqIqKlpcXVletQV1cXzz77bPT398cdd9wR999/f/z6r/96fP3rX4/GxsZ47rnn4pVXXoklS5bE5s2bY/PmzbF06dKIiFi2bFl84xvfiMceeywWL14cL730UjzzzDPR0NBQ5ntVXn/7t38bBw4ciEWLFsWiRYvixRdfjBdffDEWLVpUVT%2BXWY/jSlUJz5XXNApUlC9%2B8YujX/nKV0bPnDkz%2Bu67747ec889o93d3R/a7X/ve98bXb58%2Bei//uu/jg4NDY1u2bJldMWKFaMXL1687u9x6tSp0U9/%2BtOjX/va10ZHRkauOn/ixInRRYsWjT7//POjFy9eHN27d%2B/oggULRvfu3Zt5V%2BCaHnnkkdFHHnlkdHR0dPTIkSOj8%2BbNG33ppZdGL126NPrSSy%2BNzps3b/THP/5xmae8cRmP40pX7ufKa5kyOlpF/88mVIFjx47F448/Hvv374%2BpU6fGqlWr4uGHHx73C%2BOlNDo6Gs8//3xs27YtTpw4EfPmzYs/%2BqM/io9%2B9KPX/T2ef/75eOqpp6JYLMaUKVPGnbvyp4m/%2Beab0dXVFf/%2B7/8e06dPj/b29li9enXqfYFrufJnYD311FMREbFnz5741re%2BFe%2B%2B%2B2780i/9UnR2dsadd95ZzhE/kIzHcaUr93PltQgsAIBkfgcLACCZwAIASCawAACSCSwAgGQCCwAgmcACAEgmsAAAkgksAIBkAgsAIJnAAgBIJrAAAJIJLACAZAILACCZwAIASCawAACS/T9aKENqDLKMpgAAAABJRU5ErkJggg%3D%3D\"/>\n",
       "        </div>\n",
       "        <div role=\"tabpanel\" class=\"tab-pane col-md-12\" id=\"common-8081547523011189607\">\n",
       "            \n",
       "<table class=\"freq table table-hover\">\n",
       "    <thead>\n",
       "    <tr>\n",
       "        <td class=\"fillremaining\">Value</td>\n",
       "        <td class=\"number\">Count</td>\n",
       "        <td class=\"number\">Frequency (%)</td>\n",
       "        <td style=\"min-width:200px\">&nbsp;</td>\n",
       "    </tr>\n",
       "    </thead>\n",
       "    <tr class=\"\">\n",
       "        <td class=\"fillremaining\">8.05</td>\n",
       "        <td class=\"number\">43</td>\n",
       "        <td class=\"number\">4.8%</td>\n",
       "        <td>\n",
       "            <div class=\"bar\" style=\"width:7%\">&nbsp;</div>\n",
       "        </td>\n",
       "</tr><tr class=\"\">\n",
       "        <td class=\"fillremaining\">13.0</td>\n",
       "        <td class=\"number\">42</td>\n",
       "        <td class=\"number\">4.7%</td>\n",
       "        <td>\n",
       "            <div class=\"bar\" style=\"width:7%\">&nbsp;</div>\n",
       "        </td>\n",
       "</tr><tr class=\"\">\n",
       "        <td class=\"fillremaining\">7.8958</td>\n",
       "        <td class=\"number\">38</td>\n",
       "        <td class=\"number\">4.3%</td>\n",
       "        <td>\n",
       "            <div class=\"bar\" style=\"width:7%\">&nbsp;</div>\n",
       "        </td>\n",
       "</tr><tr class=\"\">\n",
       "        <td class=\"fillremaining\">7.75</td>\n",
       "        <td class=\"number\">34</td>\n",
       "        <td class=\"number\">3.8%</td>\n",
       "        <td>\n",
       "            <div class=\"bar\" style=\"width:6%\">&nbsp;</div>\n",
       "        </td>\n",
       "</tr><tr class=\"\">\n",
       "        <td class=\"fillremaining\">26.0</td>\n",
       "        <td class=\"number\">31</td>\n",
       "        <td class=\"number\">3.5%</td>\n",
       "        <td>\n",
       "            <div class=\"bar\" style=\"width:5%\">&nbsp;</div>\n",
       "        </td>\n",
       "</tr><tr class=\"\">\n",
       "        <td class=\"fillremaining\">10.5</td>\n",
       "        <td class=\"number\">24</td>\n",
       "        <td class=\"number\">2.7%</td>\n",
       "        <td>\n",
       "            <div class=\"bar\" style=\"width:4%\">&nbsp;</div>\n",
       "        </td>\n",
       "</tr><tr class=\"\">\n",
       "        <td class=\"fillremaining\">7.925</td>\n",
       "        <td class=\"number\">18</td>\n",
       "        <td class=\"number\">2.0%</td>\n",
       "        <td>\n",
       "            <div class=\"bar\" style=\"width:3%\">&nbsp;</div>\n",
       "        </td>\n",
       "</tr><tr class=\"\">\n",
       "        <td class=\"fillremaining\">7.775</td>\n",
       "        <td class=\"number\">16</td>\n",
       "        <td class=\"number\">1.8%</td>\n",
       "        <td>\n",
       "            <div class=\"bar\" style=\"width:3%\">&nbsp;</div>\n",
       "        </td>\n",
       "</tr><tr class=\"\">\n",
       "        <td class=\"fillremaining\">26.55</td>\n",
       "        <td class=\"number\">15</td>\n",
       "        <td class=\"number\">1.7%</td>\n",
       "        <td>\n",
       "            <div class=\"bar\" style=\"width:3%\">&nbsp;</div>\n",
       "        </td>\n",
       "</tr><tr class=\"\">\n",
       "        <td class=\"fillremaining\">0.0</td>\n",
       "        <td class=\"number\">15</td>\n",
       "        <td class=\"number\">1.7%</td>\n",
       "        <td>\n",
       "            <div class=\"bar\" style=\"width:3%\">&nbsp;</div>\n",
       "        </td>\n",
       "</tr><tr class=\"other\">\n",
       "        <td class=\"fillremaining\">Other values (238)</td>\n",
       "        <td class=\"number\">615</td>\n",
       "        <td class=\"number\">69.0%</td>\n",
       "        <td>\n",
       "            <div class=\"bar\" style=\"width:100%\">&nbsp;</div>\n",
       "        </td>\n",
       "</tr>\n",
       "</table>\n",
       "        </div>\n",
       "        <div role=\"tabpanel\" class=\"tab-pane col-md-12\"  id=\"extreme-8081547523011189607\">\n",
       "            <p class=\"h4\">Minimum 5 values</p>\n",
       "            \n",
       "<table class=\"freq table table-hover\">\n",
       "    <thead>\n",
       "    <tr>\n",
       "        <td class=\"fillremaining\">Value</td>\n",
       "        <td class=\"number\">Count</td>\n",
       "        <td class=\"number\">Frequency (%)</td>\n",
       "        <td style=\"min-width:200px\">&nbsp;</td>\n",
       "    </tr>\n",
       "    </thead>\n",
       "    <tr class=\"\">\n",
       "        <td class=\"fillremaining\">0.0</td>\n",
       "        <td class=\"number\">15</td>\n",
       "        <td class=\"number\">1.7%</td>\n",
       "        <td>\n",
       "            <div class=\"bar\" style=\"width:100%\">&nbsp;</div>\n",
       "        </td>\n",
       "</tr><tr class=\"\">\n",
       "        <td class=\"fillremaining\">4.0125</td>\n",
       "        <td class=\"number\">1</td>\n",
       "        <td class=\"number\">0.1%</td>\n",
       "        <td>\n",
       "            <div class=\"bar\" style=\"width:7%\">&nbsp;</div>\n",
       "        </td>\n",
       "</tr><tr class=\"\">\n",
       "        <td class=\"fillremaining\">5.0</td>\n",
       "        <td class=\"number\">1</td>\n",
       "        <td class=\"number\">0.1%</td>\n",
       "        <td>\n",
       "            <div class=\"bar\" style=\"width:7%\">&nbsp;</div>\n",
       "        </td>\n",
       "</tr><tr class=\"\">\n",
       "        <td class=\"fillremaining\">6.2375</td>\n",
       "        <td class=\"number\">1</td>\n",
       "        <td class=\"number\">0.1%</td>\n",
       "        <td>\n",
       "            <div class=\"bar\" style=\"width:7%\">&nbsp;</div>\n",
       "        </td>\n",
       "</tr><tr class=\"\">\n",
       "        <td class=\"fillremaining\">6.4375</td>\n",
       "        <td class=\"number\">1</td>\n",
       "        <td class=\"number\">0.1%</td>\n",
       "        <td>\n",
       "            <div class=\"bar\" style=\"width:7%\">&nbsp;</div>\n",
       "        </td>\n",
       "</tr>\n",
       "</table>\n",
       "            <p class=\"h4\">Maximum 5 values</p>\n",
       "            \n",
       "<table class=\"freq table table-hover\">\n",
       "    <thead>\n",
       "    <tr>\n",
       "        <td class=\"fillremaining\">Value</td>\n",
       "        <td class=\"number\">Count</td>\n",
       "        <td class=\"number\">Frequency (%)</td>\n",
       "        <td style=\"min-width:200px\">&nbsp;</td>\n",
       "    </tr>\n",
       "    </thead>\n",
       "    <tr class=\"\">\n",
       "        <td class=\"fillremaining\">227.525</td>\n",
       "        <td class=\"number\">4</td>\n",
       "        <td class=\"number\">0.4%</td>\n",
       "        <td>\n",
       "            <div class=\"bar\" style=\"width:100%\">&nbsp;</div>\n",
       "        </td>\n",
       "</tr><tr class=\"\">\n",
       "        <td class=\"fillremaining\">247.5208</td>\n",
       "        <td class=\"number\">2</td>\n",
       "        <td class=\"number\">0.2%</td>\n",
       "        <td>\n",
       "            <div class=\"bar\" style=\"width:50%\">&nbsp;</div>\n",
       "        </td>\n",
       "</tr><tr class=\"\">\n",
       "        <td class=\"fillremaining\">262.375</td>\n",
       "        <td class=\"number\">2</td>\n",
       "        <td class=\"number\">0.2%</td>\n",
       "        <td>\n",
       "            <div class=\"bar\" style=\"width:50%\">&nbsp;</div>\n",
       "        </td>\n",
       "</tr><tr class=\"\">\n",
       "        <td class=\"fillremaining\">263.0</td>\n",
       "        <td class=\"number\">4</td>\n",
       "        <td class=\"number\">0.4%</td>\n",
       "        <td>\n",
       "            <div class=\"bar\" style=\"width:100%\">&nbsp;</div>\n",
       "        </td>\n",
       "</tr><tr class=\"\">\n",
       "        <td class=\"fillremaining\">512.3292</td>\n",
       "        <td class=\"number\">3</td>\n",
       "        <td class=\"number\">0.3%</td>\n",
       "        <td>\n",
       "            <div class=\"bar\" style=\"width:75%\">&nbsp;</div>\n",
       "        </td>\n",
       "</tr>\n",
       "</table>\n",
       "        </div>\n",
       "    </div>\n",
       "</div>\n",
       "</div><div class=\"row variablerow\">\n",
       "    <div class=\"col-md-3 namecol\">\n",
       "        <p class=\"h4 pp-anchor\" id=\"pp_var_parch\">parch<br/>\n",
       "            <small>Numeric</small>\n",
       "        </p>\n",
       "    </div><div class=\"col-md-6\">\n",
       "    <div class=\"row\">\n",
       "        <div class=\"col-sm-6\">\n",
       "            <table class=\"stats \">\n",
       "                <tr>\n",
       "                    <th>Distinct count</th>\n",
       "                    <td>7</td>\n",
       "                </tr>\n",
       "                <tr>\n",
       "                    <th>Unique (%)</th>\n",
       "                    <td>0.8%</td>\n",
       "                </tr>\n",
       "                <tr class=\"ignore\">\n",
       "                    <th>Missing (%)</th>\n",
       "                    <td>0.0%</td>\n",
       "                </tr>\n",
       "                <tr class=\"ignore\">\n",
       "                    <th>Missing (n)</th>\n",
       "                    <td>0</td>\n",
       "                </tr>\n",
       "                <tr class=\"ignore\">\n",
       "                    <th>Infinite (%)</th>\n",
       "                    <td>0.0%</td>\n",
       "                </tr>\n",
       "                <tr class=\"ignore\">\n",
       "                    <th>Infinite (n)</th>\n",
       "                    <td>0</td>\n",
       "                </tr>\n",
       "            </table>\n",
       "\n",
       "        </div>\n",
       "        <div class=\"col-sm-6\">\n",
       "            <table class=\"stats \">\n",
       "\n",
       "                <tr>\n",
       "                    <th>Mean</th>\n",
       "                    <td>0.38159</td>\n",
       "                </tr>\n",
       "                <tr>\n",
       "                    <th>Minimum</th>\n",
       "                    <td>0</td>\n",
       "                </tr>\n",
       "                <tr>\n",
       "                    <th>Maximum</th>\n",
       "                    <td>6</td>\n",
       "                </tr>\n",
       "                <tr class=\"alert\">\n",
       "                    <th>Zeros (%)</th>\n",
       "                    <td>76.1%</td>\n",
       "                </tr>\n",
       "            </table>\n",
       "        </div>\n",
       "    </div>\n",
       "</div>\n",
       "<div class=\"col-md-3 collapse in\" id=\"minihistogram-3970072562046918822\">\n",
       "    <img src=\"data:image/png;base64,iVBORw0KGgoAAAANSUhEUgAAAMgAAABLCAYAAAA1fMjoAAAABHNCSVQICAgIfAhkiAAAAAlwSFlzAAAPYQAAD2EBqD%2BnaQAAADl0RVh0U29mdHdhcmUAbWF0cGxvdGxpYiB2ZXJzaW9uIDIuMS4xLCBodHRwOi8vbWF0cGxvdGxpYi5vcmcvAOZPmwAAARtJREFUeJzt3cEJwkAQQFEjlmQR9uTZnizCnta7yIcEYqK%2Bd1%2BYy2eSvew0xhgH4K3j1gPAnp22HuDV%2BXqffeZxu6wwCdggkAQCQSAQBAJBIBAEAkEgEAQCQSAQBAJBIBAEAkEgEAQCQSAQBAJBIBAEAkEgEAQCQSAQBAJBIBAEAkEgEAQCQSAQBAJBIBAEAkEgEAQCQSAQBAJBIBAEAkEgEAQCYXfPQC/h6WjWYoNA%2BIkN8ilzN5Ut9f1sEAgCgSAQCAKB4Cd9Z5ZcWc%2B15PLgX6/SpzHG2HoI2CufWBAEAkEgEAQCQSAQBAJBIBAEAkEgEAQCQSAQBAJBIBAEAkEgEAQCQSAQBAJBIBAEAkEgEAQCQSAQBAJBIBCeJpIXlS2QVCEAAAAASUVORK5CYII%3D\">\n",
       "\n",
       "</div>\n",
       "<div class=\"col-md-12 text-right\">\n",
       "    <a role=\"button\" data-toggle=\"collapse\" data-target=\"#descriptives-3970072562046918822,#minihistogram-3970072562046918822\"\n",
       "       aria-expanded=\"false\" aria-controls=\"collapseExample\">\n",
       "        Toggle details\n",
       "    </a>\n",
       "</div>\n",
       "<div class=\"row collapse col-md-12\" id=\"descriptives-3970072562046918822\">\n",
       "    <ul class=\"nav nav-tabs\" role=\"tablist\">\n",
       "        <li role=\"presentation\" class=\"active\"><a href=\"#quantiles-3970072562046918822\"\n",
       "                                                  aria-controls=\"quantiles-3970072562046918822\" role=\"tab\"\n",
       "                                                  data-toggle=\"tab\">Statistics</a></li>\n",
       "        <li role=\"presentation\"><a href=\"#histogram-3970072562046918822\" aria-controls=\"histogram-3970072562046918822\"\n",
       "                                   role=\"tab\" data-toggle=\"tab\">Histogram</a></li>\n",
       "        <li role=\"presentation\"><a href=\"#common-3970072562046918822\" aria-controls=\"common-3970072562046918822\"\n",
       "                                   role=\"tab\" data-toggle=\"tab\">Common Values</a></li>\n",
       "        <li role=\"presentation\"><a href=\"#extreme-3970072562046918822\" aria-controls=\"extreme-3970072562046918822\"\n",
       "                                   role=\"tab\" data-toggle=\"tab\">Extreme Values</a></li>\n",
       "\n",
       "    </ul>\n",
       "\n",
       "    <div class=\"tab-content\">\n",
       "        <div role=\"tabpanel\" class=\"tab-pane active row\" id=\"quantiles-3970072562046918822\">\n",
       "            <div class=\"col-md-4 col-md-offset-1\">\n",
       "                <p class=\"h4\">Quantile statistics</p>\n",
       "                <table class=\"stats indent\">\n",
       "                    <tr>\n",
       "                        <th>Minimum</th>\n",
       "                        <td>0</td>\n",
       "                    </tr>\n",
       "                    <tr>\n",
       "                        <th>5-th percentile</th>\n",
       "                        <td>0</td>\n",
       "                    </tr>\n",
       "                    <tr>\n",
       "                        <th>Q1</th>\n",
       "                        <td>0</td>\n",
       "                    </tr>\n",
       "                    <tr>\n",
       "                        <th>Median</th>\n",
       "                        <td>0</td>\n",
       "                    </tr>\n",
       "                    <tr>\n",
       "                        <th>Q3</th>\n",
       "                        <td>0</td>\n",
       "                    </tr>\n",
       "                    <tr>\n",
       "                        <th>95-th percentile</th>\n",
       "                        <td>2</td>\n",
       "                    </tr>\n",
       "                    <tr>\n",
       "                        <th>Maximum</th>\n",
       "                        <td>6</td>\n",
       "                    </tr>\n",
       "                    <tr>\n",
       "                        <th>Range</th>\n",
       "                        <td>6</td>\n",
       "                    </tr>\n",
       "                    <tr>\n",
       "                        <th>Interquartile range</th>\n",
       "                        <td>0</td>\n",
       "                    </tr>\n",
       "                </table>\n",
       "            </div>\n",
       "            <div class=\"col-md-4 col-md-offset-2\">\n",
       "                <p class=\"h4\">Descriptive statistics</p>\n",
       "                <table class=\"stats indent\">\n",
       "                    <tr>\n",
       "                        <th>Standard deviation</th>\n",
       "                        <td>0.80606</td>\n",
       "                    </tr>\n",
       "                    <tr>\n",
       "                        <th>Coef of variation</th>\n",
       "                        <td>2.1123</td>\n",
       "                    </tr>\n",
       "                    <tr>\n",
       "                        <th>Kurtosis</th>\n",
       "                        <td>9.7781</td>\n",
       "                    </tr>\n",
       "                    <tr>\n",
       "                        <th>Mean</th>\n",
       "                        <td>0.38159</td>\n",
       "                    </tr>\n",
       "                    <tr>\n",
       "                        <th>MAD</th>\n",
       "                        <td>0.58074</td>\n",
       "                    </tr>\n",
       "                    <tr class=\"\">\n",
       "                        <th>Skewness</th>\n",
       "                        <td>2.7491</td>\n",
       "                    </tr>\n",
       "                    <tr>\n",
       "                        <th>Sum</th>\n",
       "                        <td>340</td>\n",
       "                    </tr>\n",
       "                    <tr>\n",
       "                        <th>Variance</th>\n",
       "                        <td>0.64973</td>\n",
       "                    </tr>\n",
       "                    <tr>\n",
       "                        <th>Memory size</th>\n",
       "                        <td>7.0 KiB</td>\n",
       "                    </tr>\n",
       "                </table>\n",
       "            </div>\n",
       "        </div>\n",
       "        <div role=\"tabpanel\" class=\"tab-pane col-md-8 col-md-offset-2\" id=\"histogram-3970072562046918822\">\n",
       "            <img src=\"data:image/png;base64,iVBORw0KGgoAAAANSUhEUgAAAlgAAAGQCAYAAAByNR6YAAAABHNCSVQICAgIfAhkiAAAAAlwSFlzAAAPYQAAD2EBqD%2BnaQAAADl0RVh0U29mdHdhcmUAbWF0cGxvdGxpYiB2ZXJzaW9uIDIuMS4xLCBodHRwOi8vbWF0cGxvdGxpYi5vcmcvAOZPmwAAIABJREFUeJzt3Xt0VPW9/vEnyQSYJKQEIbWysCAQkUoPyDWCqCkRuQQQoSlyENHWVmIQftzEWEQwBQQ8iikWQUWBVaIsI5cGRCkHrVJuUkQESlBEpc0MkkASEnKb3x895HROcHYC35mdGd6vtbJc%2Bc7Ons9%2BzOiTPTs7YR6PxyMAAAAYE273AAAAAKGGggUAAGAYBQsAAMAwChYAAIBhFCwAAADDKFgAAACGUbAAAAAMo2ABAAAYRsECAAAwjIIFAABgGAULAADAMAoWAACAYRQsAAAAwyhYAAAAhlGwAAAADKNgAQAAGEbBAgAAMIyCBQAAYBgFCwAAwDAKFgAAgGEULAAAAMMoWAAAAIZRsAAAAAyjYAEAABhGwQIAADCMggUAAGAYBQsAAMAwChYAAIBhFCwAAADDKFgAAACGUbAAAAAMo2ABAAAYRsECAAAwjIIFAABgGAULAADAMAoWAACAYRQsAAAAwyhYAAAAhlGwAAAADHPYPcDVwu0uMr7P8PAwNW8erTNnSlRd7TG%2B/1BARr6RjzUyskZGvpGPNX9m1LJlU6P7q6uQPIO1YcMGde3a1evj5ptv1s033yxJ2rFjh1JSUtSlSxcNHDhQ27dv9/r65cuXq1%2B/furSpYvGjh2rL774wo7DsBQeHqawsDCFh4fZPUqDRUa%2BkY81MrJGRr6Rj7VQzCgkC9bQoUO1f//%2Bmo8tW7aoWbNmyszM1IkTJ5Senq7HHntMe/fuVXp6uiZNmqT8/HxJUk5OjlatWqVXXnlFu3bt0k9%2B8hNNnDhRHg8/dQAAgLoJyYL17zwej6ZNm6Y77rhDw4YNU05Ojrp3767%2B/fvL4XBo0KBB6tGjh7KzsyVJb775pu677z516NBBjRs31pQpU3Tq1Cnt2rXL5iMBAADBIuSvwVq/fr3y8vK0dOlSSVJeXp4SEhK8tmnfvr2OHDlS8/ivfvWrmsciIyPVpk0bHTlyRL17967Tc7pcLrndbq81hyNK8fHxV3IotUREhHv9E7WRkW/kY42MrJGRb%2BRjLRQzCumCVV1drZdeekm/%2Bc1vFBMTI0kqKSmR0%2Bn02q5JkyY6f/58nR6vi%2BzsbGVlZXmtpaWlaeLEiZdzGJZiY53WG13lyMg38rFGRtbIyDfysRZKGYV0wdq1a5dcLpdGjhxZs%2BZ0OlVWVua1XVlZmaKjo%2Bv0eF2kpqYqKSnJa83hiFJBQUl9D8GniIhwxcY6de5cqaqqqo3uO1SQkW/kY42MrJGRb%2BRjzZ8ZxcXV/f/fJoV0wXr33XeVnJysqKiomrWEhAQdOnTIa7u8vLya3zDs0KGDjh07pjvvvFOSVFFRoRMnTtR6W9GX%2BPj4Wm8Hut1Fqqz0zwurqqrab/sOFWTkG/lYIyNrZOQb%2BVgLpYxC583OS9i3b5969OjhtTZ06FDt3r1bubm5qqysVG5urnbv3q1hw4ZJku69916tXr1aR44c0YULF7R48WK1aNFC3bt3t%2BMQAABAEArpM1jffPNNrTNJ7dq10%2B9//3stWrRIGRkZatWqlV588UW1bdtWkjRy5EgVFRUpLS1NZ86cUefOnbVs2TJFRkbacQgAACAIhXm4wVNA%2BONO7g5HuOLiolVQUBIyp1RNIyPfyMcaGVkjI9/Ix5o/M%2BJO7gAAACGCggUAAGAYBQsAAMAwChYAAIBhIf1bhFeD7hlb7B6hzjZP6mP3CAAABARnsAAAAAyjYAEAABhGwQIAADCMggUAAGAYBQsAAMAwChYAAIBhFCwAAADDKFgAAACGUbAAAAAMo2ABAAAYRsECAAAwjIIFAABgGAULAADAMAoWAACAYRQsAAAAwyhYAAAAhlGwAAAADKNgAQAAGEbBAgAAMIyCBQAAYBgFCwAAwDAKFgAAgGEULAAAAMMoWAAAAIZRsAAAAAyjYAEAABhGwQIAADCMggUAAGAYBQsAAMAwChYAAIBhDrsHgG/nzp3VCy8s1s6dH6m6ulpdu96iKVNmqkWLFnaPBgAAvgdnsBq4jIzpKi0tVXb2O3r77U0KDw/Xs88%2BY/dYAADAB85gNWBHjhzWoUOfaePGdxUdHSNJmjHjSZ0%2BfdrmyQAAgC8ULD9wuVxyu91eaw5HlOLj4%2Bu1n6NHP1fbtm21adN65eS8pdLSMvXunaiJE/%2BfHI5wRUQE1wlIhyPw817MKNiyChTysUZG1sjIN/KxFooZUbD8IDs7W1lZWV5raWlpmjhxYr32U1FRquPH8%2BRyndL69etVVlam6dOna968p7Vs2TKTIwdEXFy0bc8dG%2Bu07bmDAflYIyNrZOQb%2BVgLpYwoWH6QmpqqpKQkrzWHI0oFBSX12k9VleTxSBMmTFJFRZgiIpx66KHf6KGH7te337rVtGmMybH9rr7Hb0JERLhiY506d65UVVXVAX/%2Bho58rJGRNTLyjXys%2BTMju364p2D5QXx8fK23A93uIlVW1u%2Bb5vrr28jjqVZZ2QVFRERKksrLKyVJlZVVQfdCre/xm1RVVW3r8zd05GONjKyRkW/kYy2UMgqdNztDUI8evXXdda00b94cnT9fosLCQi1fvlS33XaHoqLse7sNAAD4RsFqwBwOh7KyXlZERIRGjx6hX/ziHrVsGa%2BZM2fZPRoAAPCBtwgbuBYtWurpp%2BfZPQYAAKgHzmABAAAYRsECAAAwjIIFAABgGAULAADAMAoWAACAYRQsAAAAwyhYAAAAhlGwAAAADKNgAQAAGEbBAgAAMIyCBQAAYBgFCwAAwDAKFgAAgGEULAAAAMMoWAAAAIZRsAAAAAyjYAEAABhGwQIAADCMggUAAGAYBQsAAMAwChYAAIBhFCwAAADDKFgAAACGUbAAAAAMo2ABAAAYRsECAAAwjIIFAABgGAULAADAMAoWAACAYRQsAAAAwyhYAAAAhlGwAAAADKNgAQAAGEbBAgAAMIyCBQAAYFhIFqzc3Fx16tRJXbt2rfmYNm2a3WNdlp07/6L7709V//59NWbMSH300Yd2jwQAACw47B7AHw4ePKhhw4Zp3rx5do9yRb7%2B%2BqQyMmZo9uxM3XprX%2B3YsV2zZj2utWtz1LJlvN3jAQCA7xGSZ7AOHjyom2%2B%2B2e4xrtjmzZv0H//RRf363SGHw6Gf/SxZXbp004YNOXaPBgAAfAi5M1jV1dU6dOiQnE6nVqxYoaqqKt1%2B%2B%2B2aOnWqfvCDHwRkBpfLJbfb7bXmcEQpPr5%2BZ52%2B%2BupLtW/fQQ7H//bgG264QcePH5PDEa6IiODqx/9%2BHIFyMaNgyypQyMcaGVkjI9/Ix1ooZhRyBevMmTPq1KmTBgwYoCVLlqigoEAzZszQtGnT9PLLLwdkhuzsbGVlZXmtpaWlaeLEifXaT3l5meLiYhUXF12z1qxZU504ccFrLVjYOXNsrNO25w4G5GONjKyRkW/kYy2UMgq5gtWiRQutWbOm5nOn06lp06bp5z//uYqLixUTE%2BP3GVJTU5WUlOS15nBEqaCgpF77cTgaqbCwyOvrCguL1KhRExUUlARd06/v8ZsQERGu2Finzp0rVVVVdcCfv6EjH2tkZI2MfCMfa/7MyK4f7kOuYB05ckSbNm3SlClTFBYWJkkqLy9XeHi4GjVqFJAZ4uPja70d6HYXqbKyft80bdrcoL///ajX133xxRfq2PGmeu%2BrIbBz5qqq6qDMLFDIxxoZWSMj38jHWihlFFynQOqgWbNmWrNmjVasWKHKykqdOnVKCxcu1D333BOwgmXK3XcP1v79%2B7Rt23uqrKzUtm3vaf/%2BfRowYJDdowEAAB9CrmBde%2B21WrZsmbZt26aePXvq3nvvVefOnTVr1iy7R6u3H/%2B4jebNW6RVq17TwIFJWrlyuTIzF%2Bj6639s92gAAMCHkHuLUJJ69uyptWvX2j2GEb16JapXr0S7xwAAAPUQcmewAAAA7EbBAgAAMIyCBQAAYBgFCwAAwDAKFgAAgGEULAAAAMMoWAAAAIZRsAAAAAyjYAEAABhGwQIAADCMggUAAGAYBQsAAMAwChYAAIBhFCwAAADDKFgAAACGUbAAAAAMo2ABAAAYRsECAAAwjIIFAABgGAULAADAMAoWAACAYRQsAAAAwyhYAAAAhlGwAAAADKNgAQAAGGZZsKqqqgIxBwAAQMiwLFj9%2BvXTs88%2Bq7y8vEDMAwAAEPQsC9ajjz6qTz75REOGDNGoUaO0du1aFRUVBWI2AACAoGRZsEaPHq21a9dqy5YtuvXWW7V8%2BXL17dtXU6ZM0ccffxyIGQEAAIJKnS9yb9OmjSZPnqwtW7YoLS1N27Zt00MPPaSkpCS99tprXKsFAADwPxx13fDAgQN65513lJubq/LyciUnJ2vEiBHKz8/XCy%2B8oIMHD%2Bq5557z56wAAABBwbJgLV26VOvXr9dXX32lzp07a/LkyRoyZIhiYmJqtomIiNCsWbP8OigAAECwsCxYq1ev1tChQzVy5Ei1b9/%2Bktu0a9dOU6dONT4cAABAMLIsWB988IGKi4tVWFhYs5abm6vExETFxcVJkjp16qROnTr5b0oAAIAgYnmR%2B%2Beff64BAwYoOzu7Zm3hwoVKSUnR3//%2Bd78OBwAAEIwsC9azzz6ru%2B66S5MnT65Ze//999WvXz/Nnz/fr8M1dFVVVRo7dqwef/zxmrUdO3YoJSVFXbp00cCBA7V9%2B3avr1mz5nXdc88g9e/fV48%2B%2BrBOnjwR4KkBAIC/WRasQ4cO6eGHH1ajRo1q1iIiIvTwww/rb3/7m1%2BHa%2BiysrK0d%2B/ems9PnDih9PR0PfbYY9q7d6/S09M1adIk5efnS5I2b96kdeuytXjxi/rTn7bpxhtvUkbGdHk8HrsOAQAA%2BIFlwYqJidHJkydrrf/zn/9UkyZN/DJUMNi5c6e2bt2qu%2B66q2YtJydH3bt3V//%2B/eVwODRo0CD16NGj5u3VDRtydM89I3XDDe3UuHFjPfJIuvLz87V//z67DgMAAPiB5UXuAwYM0OzZs/X000/rpz/9qcLCwnTw4EHNmTNHycnJgZixwfnuu%2B%2BUkZGhpUuXauXKlTXreXl5SkhIkMvlktvtliQ1a9ZMe/bs0YABKTpx4gvdf/8Dcjj%2B1WsdjkZq3bq1vvjimHr27FnvOSIi6nyf2Abh4nEH0sWMgi2rQCEfa2RkjYx8Ix9roZiRZcGaMmWKvv76az344IMKCwurWU9OTtb06dP9OlxDVF1drWnTpmn8%2BPHq2LGj12MlJSVyOp3Kzs5WVlaW12PvvrtR58%2BfV8uWcYqLi65Zj4mJlsdT6bUWquw8xthYp23PHQzIxxoZWSMj38jHWihlZFmwnE6nli1bpi%2B//FJHjx5VZGSk2rVrpzZt2gRgvIZn2bJlatSokcaOHVvrMafTqbKyMo0fP15JSUmSpNdee035%2BfkaMCBFK1e%2BrtOnC1VQUFLzNcXFJQoPj/Raq6tga/qXc4xXKiIiXLGxTp07V6qqquqAP39DRz7WyMgaGflGPtb8mZFdP9zX%2BU/ltG3bVm3btvXnLEFh/fr1crlc6t69uySprKxM0r9%2Bs3LMmDE6dOiQ4uPjFR8fL0kqLCxUt27d1Lx5C91www3Ky8tT7959JUmVlZX6%2Buuv9eMf36DKytB/0dl5jFVV1VdFxpeLfKyRkTUy8o18rIVSRpYF68svv9ScOXO0b98%2BVVRU1Hr88OHDfhmsodqyZYvX5xdv0TB//nwdP35cr732mnJzc3XXXXdp69at2r17tzIyMiRJgwcP1SuvvKxevW7V9df/WC%2B/vFTNmzdXly63BPw4AACA/1gWrNmzZ%2BvUqVOaOnWqmjZtGoiZgla7du30%2B9//XosWLVJGRoZatWqlF198UW3btpXbXaTBg4epqKhYTzwxTYWFBbrppk569tnn5XDU%2BUQiAAAIAmEei5sw/fSnP9Xrr7%2Burl27BmqmkOR2Fxnfp8MRruRFHxrfr79sntQn4M/pcIQrLi5aBQUlIXPa2STysUZG1sjIN/Kx5s%2BMWra05%2BSQ5VXScXFxio4O/d9wAwAAMMWyYI0dO1bPPfeciorMn4EBAAAIRZYX/%2BzYsUN/%2B9vf1KtXL11zzTVefzJHkrZt2%2Ba34QAAAIKRZcHq1auXevXqFYhZAAAAQoJlwXr00UcDMQcAAEDIqNOtwI8cOaKZM2fqF7/4hfLz87VmzRrt2rXL37MBAAAEJcuC9dlnn2nUqFH65ptv9Nlnn6m8vFyHDx/Wgw8%2BqO3btwdiRgAAgKBiWbAWLVqkBx98UKtWrVJkZKQk6ZlnntH9999f6w8aAwAAoI5nsIYPH15rffTo0friiy/8MhQAAEAwsyxYkZGRKi4urrV%2B6tQpOZ1OvwwFAAAQzCwLVv/%2B/bV48WIVFBTUrB0/flyZmZm64447/DkbAABAULIsWDNmzFBZWZluvfVWlZaWasSIERoyZIgcDoemT58eiBkBAACCiuV9sGJiYrR27Vrt3LlTn3/%2Buaqrq5WQkKDbbrtN4eF1ussDAADAVcWyYF2UmJioxMREf84CAAAQEiwLVlJSksLCwr73cf4WIQAAgDfLgnXPPfd4FayKigp99dVX%2BuCDDzRp0iS/DgcAABCMLAtWenr6JddXr16tffv26f777zc%2BFAAAQDC77KvU77zzTu3YscPkLAAAACHhsgvW7t271bhxY5OzAAAAhATLtwj/71uAHo9HxcXFOnr0KG8PAgAAXIJlwbruuutq/RZhZGSkxo0bp5SUFL8NBgAAEKwsC9b8%2BfMDMQcAAEDIsCxYe/bsqfPOevTocUXDAAAAhALLgvXAAw/I4/HUfFx08W3Di2thYWE6fPiwn8YEAAAIHpYF68UXX9S8efM0Y8YM9e7dW5GRkTpw4IBmz56t%2B%2B67T3feeWcg5gQAAAgalrdpWLBggZ566in1799fMTExaty4sXr27Kk5c%2Bbo1VdfVatWrWo%2BAAAAUIeC5XK59KMf/ajWekxMjAoKCvwyFAAAQDCzLFhdunTRc889p%2BLi4pq1wsJCLVy4UImJiX4dDgAAIBhZXoP15JNPaty4cerXr5/atGkjSfryyy/VsmVLvfHGG/6eDwAAIOhYFqx27dopNzdXGzdu1PHjxyVJ9913nwYPHiyn0%2Bn3AQEAAIKNZcGSpNjYWI0aNUrffPONWrduLelfd3MHAABAbZbXYHk8Hi1atEg9evTQkCFD9M9//lMzZszQzJkzVVFREYgZAQAAgoplwVq1apXWr1%2Bvp556So0aNZIk9e/fX3/%2B85/1wgsv%2BH1AAACAYGNZsLKzszVr1iyNGDGi5u7tgwYNUmZmpv70pz/5fUAAAIBgY1mwvvnmG91000211m%2B88UadPn3aL0MBAAAEM8uC1apVK3366ae11nfs2FFzwTsCx%2B12KT391xo06GdKSupr9zgAAOASLH%2BL8KGHHtLTTz%2Bt/Px8eTwe7dy5U2vXrtWqVas0c%2BbMQMyIfzNnzm8VFhamtWvflsdTrV%2B89rndIwEAgP/DsmDde%2B%2B9qqys1EsvvaSysjLNmjVL11xzjSZPnqzRo0cHYkb8j7KyMu3fv08vvfSKYmN/oPPni62/CAAABJxlwdqwYYPuvvtupaam6syZM/J4PLrmmmsCMVvQcrlccrvdXmsOR5Ti4%2BOvaL//%2BMc3kqSEhAQtX75Ub7zxmmLuff6K9hlIDoflO9LGRUSEe/0T3sjHGhlZIyPfyMdaKGYU5vF4PL426Nmzp/74xz%2BqXbt2gZop6L344ovKysryWktLS9PEiROvaL979%2B7VmDFjdPjwYZWXlys8PFy3Pv3nK9pnIO3NvNvuEQAACAjLM1ht2rTR0aNHKVj1kJqaqqSkJK81hyNKBQUlV7Tfysp/3SbjH//4TlFRUYqI8NmNG5wrPf7LERERrthYp86dK1VVVXXAn7%2BhIx9rZGSNjHwjH2v%2BzCguLtro/urKsmB16NBBU6dO1YoVK9SmTRs1btzY6/F58%2Bb5bbhgFR8fX%2BvtQLe7SJWVV/ZN06rV9QoLC9Obb67Vf/7nA1e0Lztc6fFfiaqqalufv6EjH2tkZI2MfCMfa6GUkWXBOnnypLp16yZJta4rQmA1adJEffverj/8IUv9%2Bw%2BQ09nE7pEAAMAlXLJgzZs3T4899piioqK0atWqQM8EHzIyZmvJksUaP36MwsIk3TXX7pEAAMD/ccnL9d944w2VlpZ6rT300ENyuVwBGQrfLyYmRk888ZQ2b/6ztm79b7vHAQAAl3DJgnWpXyz85JNPdOHCBb8PBAAAEOxC54YTAAAADQQFCwAAwLDvLVhhYWGBnAMAACBkfO9tGp555hmve15VVFRo4cKFio72vmEX98ECAADwdsmC1aNHj1r3vOratasKCgpUUFAQkMEAAACC1SULFve%2BAgAAuHxc5A4AAGAYBQsAAMAwChYAAIBhFCwAAADDKFgAAACGUbAAAAAMo2ABAAAYRsECAAAwjIIFAABgGAULAADAMAoWAACAYRQsAAAAwyhYAAAAhlGwAAAADKNgAQAAGEbBAgAAMIyCBQAAYBgFCwAAwDAKFgAAgGEULAAAAMMoWAAAAIZRsAAAAAyjYAEAABhGwQIAADCMggUAAGAYBQsAAMAwChYAAIBhFCwAAADDAlKwjhw5ovHjx6tnz57q06ePpk%2BfrjNnzkiSDhw4oFGjRqlr165KSkrSW2%2B95fW1OTk5Sk5OVpcuXTRixAjt378/ECMDAABcNr8XrLKyMv3yl79U165d9Ze//EWbNm1SYWGhnnjiCZ09e1YPP/ywhg8frj179igzM1Pz5s3Tp59%2BKknatWuX5s6dq/nz52vPnj0aOnSoHnnkEZWWlvp7bAAAgMvm94J16tQpdezYUWlpaWrUqJHi4uKUmpqqPXv2aOvWrWrWrJnGjBkjh8OhxMREpaSkaM2aNZKkt956S4MHD1a3bt0UGRmpBx54QHFxccrNzfX32AAAAJfN4e8nuOGGG7RixQqvtXfffVc/%2BclPdOzYMSUkJHg91r59e61bt06SlJeXp3vvvbfW40eOHPHv0FfI5XLJ7XZ7rTkcUYqPjzf6PBERwXUJncMR%2BHkvZhRsWQUK%2BVgjI2tk5Bv5WAvFjPxesP6dx%2BPR888/r%2B3bt2v16tV644035HQ6vbZp0qSJzp8/L0kqKSnx%2BXhDlZ2draysLK%2B1tLQ0TZw40aaJGoa4uGjbnjs21mm90VWMfKyRkTUy8o18rIVSRgErWMXFxZo5c6YOHTqk1atX68Ybb5TT6VRRUZHXdmVlZYqO/tf/iJ1Op8rKymo9HhcXF6ixL0tqaqqSkpK81hyOKBUUlBh9nmBr%2BqaPvy4iIsIVG%2BvUuXOlqqqqDvjzN3TkY42MrJGRb%2BRjzZ8Z2fXDfUAK1smTJ/WrX/1K1113ndatW6fmzZtLkhISEvTRRx95bZuXl6cOHTpIkjp06KBjx47Verxfv36BGPuyxcfH13o70O0uUmXl1f3CsvP4q6qqr/r8fSEfa2RkjYx8Ix9roZSR30%2BBnD17VuPGjdMtt9yiV155paZcSVJycrJOnz6tlStXqqKiQn/961%2B1cePGmuuuRo4cqY0bN%2Bqvf/2rKioqtHLlSn333XdKTk7299gAAACXze9nsN5%2B%2B22dOnVKmzdv1pYtW7we279/v1599VVlZmZqyZIlat68uZ588kn17t1bkpSYmKinnnpKs2fPVn5%2Bvtq3b6/ly5erWbNm/h4bAADgsoV5PB6P3UNcDdzuIuuN6snhCFfyog%2BN79dfNk/qE/DndDjCFRcXrYKCkpA57WwS%2BVgjI2tk5Bv5WPNnRi1bNjW6v7oKrqukAQAAggAFCwAAwDAKFgAAgGEULAAAAMMoWAAAAIZRsAAAAAyjYAEAABhGwQIAADCMggUAAGAYBQsAAMAwChYAAIBhFCwAAADDKFgAAACGUbAAAAAMo2ABAAAYRsECAAAwjIIFAABgGAULAADAMAoWAACAYRQsAAAAwyhYAAAAhlGwAAAADKNgAQAAGEbBAgAAMIyCBQAAYBgFCwAAwDAKFgAAgGEULAAAAMMoWAAAAIZRsAAAAAyjYAEAABjmsHsAXD0GPv%2BR3SPUy%2BZJfeweAQAQpDiDBQAAYBgFCwAAwDAKlg9nzpxRcnKydu3aVbN24MABjRo1Sl27dlVSUpLeeustr6/JyclRcnKyunTpohEjRmj//v2BHhsAANiMgvU99u3bp9TUVJ08ebJm7ezZs3r44Yc1fPhw7dmzR5mZmZo3b54%2B/fRTSdKuXbs0d%2B5czZ8/X3v27NHQoUP1yCOPqLS01K7DAAAANqBgXUJOTo6mTp2qyZMne61v3bpVzZo105gxY%2BRwOJSYmKiUlBStWbNGkvTWW29p8ODB6tatmyIjI/XAAw8oLi5Oubm5dhwGAACwCQXrEvr27av33ntPgwYN8lo/duyYEhISvNbat2%2BvI0eOSJLy8vJ8Pg4AAK4O3KbhElq2bHnJ9ZKSEjmdTq%2B1Jk2a6Pz5816Pu1wuud1uSdKFCxf07bff6syZ04qPjzc6Z0QE/difHI7Qz/fi9xDfS9%2BPjKyRkW/kYy0UM6Jg1YPT6VRRUZHXWllZmaKjo2seLysrU3Z2trKysry269ixoyZOnBiwWXHl4uKi7R4hYGJjndYbXeXIyBoZ%2BUY%2B1kIpIwpWPSQkJOijj7xvlpmXl6cOHTpIkjp06KBjx44pLS1NSUlJkqT09HQNGzZMAwakqKCgxOg8odT0GyLT/74aooiIcMXGOnXuXKmqqqrtHqdBIiNrZOQb%2BVjzZ0Z2/bBMwaqH5ORkLVy4UCtXrtSYMWO0b98%2Bbdy4UUuXLpUkjRw5UmlpaRo4cKC6deumNWvWqLi4WOPGjVNFRYQqK3lhBZOr6d9XVVX1VXW8l4OMrJGRb%2BRjLZQyomDVQ1xcnF599VVlZmZqyZIlat68uZ588kn17t1bkpSYmKinnnpKs2fPVn5%2Bvtq3b6/ly5erWbNmcrsW6ZO6AAAHS0lEQVSLLPYOAABCBQXLwtGjR70%2B79y5s9auXfu92w8bNkzDhg3z91gAAKAB4yIeAAAAwyhYAAAAhlGwAAAADKNgAQAAGMZF7kCIGPj8R9YbNRCbJ/WxewQA8CvOYAEAABhGwQIAADCMggUAAGAYBQsAAMAwChYAAIBhFCwAAADDKFgAAACGUbAAAAAMo2ABAAAYRsECAAAwjIIFAABgGAULAADAMAoWAACAYRQsAAAAwyhYAAAAhlGwAAAADKNgAQAAGEbBAgAAMIyCBQAAYBgFCwAAwDAKFgAAgGEULAAAAMMoWAAAAIZRsAAAAAyjYAEAABhGwQIAADCMggUAAGAYBQsAAMAwChYAAIBhFCwAAADDGkTB%2Bu677zRhwgR1795dvXr1UmZmpiorK%2B0eCwAA4LI0iII1adIkRUVF6cMPP9S6deu0c%2BdOrVy50u6xAAAALovtBeurr77S7t27NW3aNDmdTrVu3VoTJkzQmjVr7B4NAADgsjjsHuDYsWNq1qyZfvjDH9astWvXTqdOndK5c%2BcUGxtr43QAIHXP2GL3CCFr86Q%2Bdo9QLwOf/8juEeol2PINJbYXrJKSEjmdTq%2B1i5%2BfP38%2BKAuWy%2BWS2%2B32WnM4ohQfH2/0eSIibD8BGdIcDvL1l2DKlteZfwXT90IwCpZ8L77OQun1ZnvBioqKUmlpqdfaxc%2Bjo6PtGOmKZWdnKysry2vt0UcfVXp6utHncblcGnftMaWmphovb6HC5XIpOzv7qshob%2Bbd9f6aqymfy8XrzNrV9H3E68w/XC6XXn99RUhlZHtV7NChgwoLC3X69OmatePHj%2Bvaa69V06ZNbZzs8qWmpurtt9/2%2BkhNTTX%2BPG63W1lZWbXOluF/kZFv5GONjKyRkW/kYy0UM7L9DFabNm3UrVs3/e53v9OcOXNUUFCgpUuXauTIkXaPdtni4%2BNDpoEDAID6s/0MliQtWbJElZWV%2BtnPfqaf//znuu222zRhwgS7xwIAALgstp/BkqQWLVpoyZIldo8BAABgRMTs2bNn2z0ELl90dLR69uwZtL8QEAhk5Bv5WCMja2TkG/lYC7WMwjwej8fuIQAAAEJJg7gGCwAAIJRQsAAAAAyjYAEAABhGwQIAADCMggUAAGAYBQsAAMAwChYAAIBhFCwAAADDKFgICjt37tSoUaN0yy23qE%2BfPpo7d67KysrsHssWVVVVuu%2B%2B%2B/T444/bPQoA1Mkvf/lLde7cWV27dq35%2BOCDDy65bWFhoaZPn65evXqpR48emjBhglwuV4AnvnIULDR4Z86c0a9//WuNHj1ae/fuVU5Ojnbv3q2XX37Z7tFssWTJEu3fv9/uMQCgzj777DO98sor2r9/f81Hv379Lrltenq6zp8/r/fee0/bt29XRESEfvvb3wZ44ivXIP7YM%2BBL8%2BbN9fHHHysmJkYej0eFhYW6cOGCmjdvbvdoAffxxx/r/fff11133WX3KABQJ19//bXOnj2rTp06WW772Wef6cCBAzX/zZekuXPnyu12%2B3tM4ziDhaBw8YV2%2B%2B23KyUlRS1bttSIESNsniqwTp8%2BrSeffFKLFy%2BW0%2Bm0exwAqJODBw8qOjpakydPVu/evTVkyBCtW7fuktt%2B%2Bumnat%2B%2Bvd58800lJyerb9%2B%2BWrBggVq2bBngqa8cBQtBZevWrfrggw8UHh6uiRMn2j1OwFRXV2vatGkaP368OnbsaPc4AFBn5eXl6tKliyZPnqwPP/xQjz/%2BuDIzM7V58%2BZa2549e1ZHjx7ViRMnlJOTo3feeUf5%2BfmaMWOGDZNfGQoWgkqTJk30wx/%2BUNOmTdOHH36os2fP2j1SQPzhD39Q48aNNXbsWLtHAYB6GT58uFasWKFOnTopMjJSffv21fDhwy9ZsBo1aiRJysjIUExMjFq0aKFJkyZpx44dKikpCfToV4RrsNDgffLJJ3riiSe0YcOGmhdfeXm5IiMjr5q3yjZs2CCXy6Xu3btLUs1vUL7//vvau3evnaMBgE/r1q1TdHS0Bg4cWLNWXl6uxo0b19q2ffv2qq6uVkVFRc3j1dXVkiSPxxOYgQ3hDBYavBtvvFFlZWVavHixysvL9e2332rBggUaOXJkTeEKdVu2bNEnn3yivXv3au/evRoyZIiGDBlCuQLQ4BUXF2vu3Lk6fPiwqqurtX37dm3atEmpqam1tr311lvVunVrPfHEEyopKdGZM2f0X//1X%2Brfv3/NtbjBgjNYaPCio6O1YsUK/e53v1OfPn3UtGlTpaSkKC0tze7RAAAWxo0bp/PnzystLU3fffedWrdurQULFtSckf93kZGRWrVqlebPn68BAwbowoULSkpKUkZGhg2TX5kwT7CdcwMAAGjgeIsQAADAMAoWAACAYRQsAAAAwyhYAAAAhlGwAAAADKNgAQAAGEbBAgAAMIyCBQAAYBgFCwAAwDAKFgAAgGEULAAAAMMoWAAAAIZRsAAAAAyjYAEAABhGwQIAADDs/wOqES5SRtHfDAAAAABJRU5ErkJggg%3D%3D\"/>\n",
       "        </div>\n",
       "        <div role=\"tabpanel\" class=\"tab-pane col-md-12\" id=\"common-3970072562046918822\">\n",
       "            \n",
       "<table class=\"freq table table-hover\">\n",
       "    <thead>\n",
       "    <tr>\n",
       "        <td class=\"fillremaining\">Value</td>\n",
       "        <td class=\"number\">Count</td>\n",
       "        <td class=\"number\">Frequency (%)</td>\n",
       "        <td style=\"min-width:200px\">&nbsp;</td>\n",
       "    </tr>\n",
       "    </thead>\n",
       "    <tr class=\"\">\n",
       "        <td class=\"fillremaining\">0</td>\n",
       "        <td class=\"number\">678</td>\n",
       "        <td class=\"number\">76.1%</td>\n",
       "        <td>\n",
       "            <div class=\"bar\" style=\"width:100%\">&nbsp;</div>\n",
       "        </td>\n",
       "</tr><tr class=\"\">\n",
       "        <td class=\"fillremaining\">1</td>\n",
       "        <td class=\"number\">118</td>\n",
       "        <td class=\"number\">13.2%</td>\n",
       "        <td>\n",
       "            <div class=\"bar\" style=\"width:18%\">&nbsp;</div>\n",
       "        </td>\n",
       "</tr><tr class=\"\">\n",
       "        <td class=\"fillremaining\">2</td>\n",
       "        <td class=\"number\">80</td>\n",
       "        <td class=\"number\">9.0%</td>\n",
       "        <td>\n",
       "            <div class=\"bar\" style=\"width:12%\">&nbsp;</div>\n",
       "        </td>\n",
       "</tr><tr class=\"\">\n",
       "        <td class=\"fillremaining\">5</td>\n",
       "        <td class=\"number\">5</td>\n",
       "        <td class=\"number\">0.6%</td>\n",
       "        <td>\n",
       "            <div class=\"bar\" style=\"width:1%\">&nbsp;</div>\n",
       "        </td>\n",
       "</tr><tr class=\"\">\n",
       "        <td class=\"fillremaining\">3</td>\n",
       "        <td class=\"number\">5</td>\n",
       "        <td class=\"number\">0.6%</td>\n",
       "        <td>\n",
       "            <div class=\"bar\" style=\"width:1%\">&nbsp;</div>\n",
       "        </td>\n",
       "</tr><tr class=\"\">\n",
       "        <td class=\"fillremaining\">4</td>\n",
       "        <td class=\"number\">4</td>\n",
       "        <td class=\"number\">0.4%</td>\n",
       "        <td>\n",
       "            <div class=\"bar\" style=\"width:1%\">&nbsp;</div>\n",
       "        </td>\n",
       "</tr><tr class=\"\">\n",
       "        <td class=\"fillremaining\">6</td>\n",
       "        <td class=\"number\">1</td>\n",
       "        <td class=\"number\">0.1%</td>\n",
       "        <td>\n",
       "            <div class=\"bar\" style=\"width:1%\">&nbsp;</div>\n",
       "        </td>\n",
       "</tr>\n",
       "</table>\n",
       "        </div>\n",
       "        <div role=\"tabpanel\" class=\"tab-pane col-md-12\"  id=\"extreme-3970072562046918822\">\n",
       "            <p class=\"h4\">Minimum 5 values</p>\n",
       "            \n",
       "<table class=\"freq table table-hover\">\n",
       "    <thead>\n",
       "    <tr>\n",
       "        <td class=\"fillremaining\">Value</td>\n",
       "        <td class=\"number\">Count</td>\n",
       "        <td class=\"number\">Frequency (%)</td>\n",
       "        <td style=\"min-width:200px\">&nbsp;</td>\n",
       "    </tr>\n",
       "    </thead>\n",
       "    <tr class=\"\">\n",
       "        <td class=\"fillremaining\">0</td>\n",
       "        <td class=\"number\">678</td>\n",
       "        <td class=\"number\">76.1%</td>\n",
       "        <td>\n",
       "            <div class=\"bar\" style=\"width:100%\">&nbsp;</div>\n",
       "        </td>\n",
       "</tr><tr class=\"\">\n",
       "        <td class=\"fillremaining\">1</td>\n",
       "        <td class=\"number\">118</td>\n",
       "        <td class=\"number\">13.2%</td>\n",
       "        <td>\n",
       "            <div class=\"bar\" style=\"width:18%\">&nbsp;</div>\n",
       "        </td>\n",
       "</tr><tr class=\"\">\n",
       "        <td class=\"fillremaining\">2</td>\n",
       "        <td class=\"number\">80</td>\n",
       "        <td class=\"number\">9.0%</td>\n",
       "        <td>\n",
       "            <div class=\"bar\" style=\"width:12%\">&nbsp;</div>\n",
       "        </td>\n",
       "</tr><tr class=\"\">\n",
       "        <td class=\"fillremaining\">3</td>\n",
       "        <td class=\"number\">5</td>\n",
       "        <td class=\"number\">0.6%</td>\n",
       "        <td>\n",
       "            <div class=\"bar\" style=\"width:1%\">&nbsp;</div>\n",
       "        </td>\n",
       "</tr><tr class=\"\">\n",
       "        <td class=\"fillremaining\">4</td>\n",
       "        <td class=\"number\">4</td>\n",
       "        <td class=\"number\">0.4%</td>\n",
       "        <td>\n",
       "            <div class=\"bar\" style=\"width:1%\">&nbsp;</div>\n",
       "        </td>\n",
       "</tr>\n",
       "</table>\n",
       "            <p class=\"h4\">Maximum 5 values</p>\n",
       "            \n",
       "<table class=\"freq table table-hover\">\n",
       "    <thead>\n",
       "    <tr>\n",
       "        <td class=\"fillremaining\">Value</td>\n",
       "        <td class=\"number\">Count</td>\n",
       "        <td class=\"number\">Frequency (%)</td>\n",
       "        <td style=\"min-width:200px\">&nbsp;</td>\n",
       "    </tr>\n",
       "    </thead>\n",
       "    <tr class=\"\">\n",
       "        <td class=\"fillremaining\">2</td>\n",
       "        <td class=\"number\">80</td>\n",
       "        <td class=\"number\">9.0%</td>\n",
       "        <td>\n",
       "            <div class=\"bar\" style=\"width:100%\">&nbsp;</div>\n",
       "        </td>\n",
       "</tr><tr class=\"\">\n",
       "        <td class=\"fillremaining\">3</td>\n",
       "        <td class=\"number\">5</td>\n",
       "        <td class=\"number\">0.6%</td>\n",
       "        <td>\n",
       "            <div class=\"bar\" style=\"width:7%\">&nbsp;</div>\n",
       "        </td>\n",
       "</tr><tr class=\"\">\n",
       "        <td class=\"fillremaining\">4</td>\n",
       "        <td class=\"number\">4</td>\n",
       "        <td class=\"number\">0.4%</td>\n",
       "        <td>\n",
       "            <div class=\"bar\" style=\"width:5%\">&nbsp;</div>\n",
       "        </td>\n",
       "</tr><tr class=\"\">\n",
       "        <td class=\"fillremaining\">5</td>\n",
       "        <td class=\"number\">5</td>\n",
       "        <td class=\"number\">0.6%</td>\n",
       "        <td>\n",
       "            <div class=\"bar\" style=\"width:7%\">&nbsp;</div>\n",
       "        </td>\n",
       "</tr><tr class=\"\">\n",
       "        <td class=\"fillremaining\">6</td>\n",
       "        <td class=\"number\">1</td>\n",
       "        <td class=\"number\">0.1%</td>\n",
       "        <td>\n",
       "            <div class=\"bar\" style=\"width:2%\">&nbsp;</div>\n",
       "        </td>\n",
       "</tr>\n",
       "</table>\n",
       "        </div>\n",
       "    </div>\n",
       "</div>\n",
       "</div><div class=\"row variablerow\">\n",
       "    <div class=\"col-md-3 namecol\">\n",
       "        <p class=\"h4 pp-anchor\" id=\"pp_var_pclass\">pclass<br/>\n",
       "            <small>Numeric</small>\n",
       "        </p>\n",
       "    </div><div class=\"col-md-6\">\n",
       "    <div class=\"row\">\n",
       "        <div class=\"col-sm-6\">\n",
       "            <table class=\"stats \">\n",
       "                <tr>\n",
       "                    <th>Distinct count</th>\n",
       "                    <td>3</td>\n",
       "                </tr>\n",
       "                <tr>\n",
       "                    <th>Unique (%)</th>\n",
       "                    <td>0.3%</td>\n",
       "                </tr>\n",
       "                <tr class=\"ignore\">\n",
       "                    <th>Missing (%)</th>\n",
       "                    <td>0.0%</td>\n",
       "                </tr>\n",
       "                <tr class=\"ignore\">\n",
       "                    <th>Missing (n)</th>\n",
       "                    <td>0</td>\n",
       "                </tr>\n",
       "                <tr class=\"ignore\">\n",
       "                    <th>Infinite (%)</th>\n",
       "                    <td>0.0%</td>\n",
       "                </tr>\n",
       "                <tr class=\"ignore\">\n",
       "                    <th>Infinite (n)</th>\n",
       "                    <td>0</td>\n",
       "                </tr>\n",
       "            </table>\n",
       "\n",
       "        </div>\n",
       "        <div class=\"col-sm-6\">\n",
       "            <table class=\"stats \">\n",
       "\n",
       "                <tr>\n",
       "                    <th>Mean</th>\n",
       "                    <td>2.3086</td>\n",
       "                </tr>\n",
       "                <tr>\n",
       "                    <th>Minimum</th>\n",
       "                    <td>1</td>\n",
       "                </tr>\n",
       "                <tr>\n",
       "                    <th>Maximum</th>\n",
       "                    <td>3</td>\n",
       "                </tr>\n",
       "                <tr class=\"ignore\">\n",
       "                    <th>Zeros (%)</th>\n",
       "                    <td>0.0%</td>\n",
       "                </tr>\n",
       "            </table>\n",
       "        </div>\n",
       "    </div>\n",
       "</div>\n",
       "<div class=\"col-md-3 collapse in\" id=\"minihistogram8885073346795181634\">\n",
       "    <img src=\"data:image/png;base64,iVBORw0KGgoAAAANSUhEUgAAAMgAAABLCAYAAAA1fMjoAAAABHNCSVQICAgIfAhkiAAAAAlwSFlzAAAPYQAAD2EBqD%2BnaQAAADl0RVh0U29mdHdhcmUAbWF0cGxvdGxpYiB2ZXJzaW9uIDIuMS4xLCBodHRwOi8vbWF0cGxvdGxpYi5vcmcvAOZPmwAAAQtJREFUeJzt3MEJAkEQAEEVQzIIc/JtTgZhTmMC0qAgt5xV/4X5NDOvPc7MHIC3TlsPACs7bz0A%2B3W5PT5%2B87xffzDJ92wQCAKBIBAIAoEgEAgCgSAQCAKBIBAIAoEgEAgCgSAQCAKBIBAIAoEgEAgCgSAQCAKBIBAIAoEgEAgCgSAQCMv9rLiH3/jYDxsEgkAgLHdi/Tsn5lpsEAgCgSAQCAKBIBAIAoEgEAgCgSAQCAKBIBAIAoEgEAgCgSAQCAKBIBAIx5mZrYeAVdkgEAQCQSAQBAJBIBAEAkEgEAQCQSAQBAJBIBAEAkEgEAQCQSAQBAJBIBAEAkEgEAQCQSAQBAJBIBAEAkEgEF7/3RGT0dEIxAAAAABJRU5ErkJggg%3D%3D\">\n",
       "\n",
       "</div>\n",
       "<div class=\"col-md-12 text-right\">\n",
       "    <a role=\"button\" data-toggle=\"collapse\" data-target=\"#descriptives8885073346795181634,#minihistogram8885073346795181634\"\n",
       "       aria-expanded=\"false\" aria-controls=\"collapseExample\">\n",
       "        Toggle details\n",
       "    </a>\n",
       "</div>\n",
       "<div class=\"row collapse col-md-12\" id=\"descriptives8885073346795181634\">\n",
       "    <ul class=\"nav nav-tabs\" role=\"tablist\">\n",
       "        <li role=\"presentation\" class=\"active\"><a href=\"#quantiles8885073346795181634\"\n",
       "                                                  aria-controls=\"quantiles8885073346795181634\" role=\"tab\"\n",
       "                                                  data-toggle=\"tab\">Statistics</a></li>\n",
       "        <li role=\"presentation\"><a href=\"#histogram8885073346795181634\" aria-controls=\"histogram8885073346795181634\"\n",
       "                                   role=\"tab\" data-toggle=\"tab\">Histogram</a></li>\n",
       "        <li role=\"presentation\"><a href=\"#common8885073346795181634\" aria-controls=\"common8885073346795181634\"\n",
       "                                   role=\"tab\" data-toggle=\"tab\">Common Values</a></li>\n",
       "        <li role=\"presentation\"><a href=\"#extreme8885073346795181634\" aria-controls=\"extreme8885073346795181634\"\n",
       "                                   role=\"tab\" data-toggle=\"tab\">Extreme Values</a></li>\n",
       "\n",
       "    </ul>\n",
       "\n",
       "    <div class=\"tab-content\">\n",
       "        <div role=\"tabpanel\" class=\"tab-pane active row\" id=\"quantiles8885073346795181634\">\n",
       "            <div class=\"col-md-4 col-md-offset-1\">\n",
       "                <p class=\"h4\">Quantile statistics</p>\n",
       "                <table class=\"stats indent\">\n",
       "                    <tr>\n",
       "                        <th>Minimum</th>\n",
       "                        <td>1</td>\n",
       "                    </tr>\n",
       "                    <tr>\n",
       "                        <th>5-th percentile</th>\n",
       "                        <td>1</td>\n",
       "                    </tr>\n",
       "                    <tr>\n",
       "                        <th>Q1</th>\n",
       "                        <td>2</td>\n",
       "                    </tr>\n",
       "                    <tr>\n",
       "                        <th>Median</th>\n",
       "                        <td>3</td>\n",
       "                    </tr>\n",
       "                    <tr>\n",
       "                        <th>Q3</th>\n",
       "                        <td>3</td>\n",
       "                    </tr>\n",
       "                    <tr>\n",
       "                        <th>95-th percentile</th>\n",
       "                        <td>3</td>\n",
       "                    </tr>\n",
       "                    <tr>\n",
       "                        <th>Maximum</th>\n",
       "                        <td>3</td>\n",
       "                    </tr>\n",
       "                    <tr>\n",
       "                        <th>Range</th>\n",
       "                        <td>2</td>\n",
       "                    </tr>\n",
       "                    <tr>\n",
       "                        <th>Interquartile range</th>\n",
       "                        <td>1</td>\n",
       "                    </tr>\n",
       "                </table>\n",
       "            </div>\n",
       "            <div class=\"col-md-4 col-md-offset-2\">\n",
       "                <p class=\"h4\">Descriptive statistics</p>\n",
       "                <table class=\"stats indent\">\n",
       "                    <tr>\n",
       "                        <th>Standard deviation</th>\n",
       "                        <td>0.83607</td>\n",
       "                    </tr>\n",
       "                    <tr>\n",
       "                        <th>Coef of variation</th>\n",
       "                        <td>0.36215</td>\n",
       "                    </tr>\n",
       "                    <tr>\n",
       "                        <th>Kurtosis</th>\n",
       "                        <td>-1.28</td>\n",
       "                    </tr>\n",
       "                    <tr>\n",
       "                        <th>Mean</th>\n",
       "                        <td>2.3086</td>\n",
       "                    </tr>\n",
       "                    <tr>\n",
       "                        <th>MAD</th>\n",
       "                        <td>0.76197</td>\n",
       "                    </tr>\n",
       "                    <tr class=\"\">\n",
       "                        <th>Skewness</th>\n",
       "                        <td>-0.63055</td>\n",
       "                    </tr>\n",
       "                    <tr>\n",
       "                        <th>Sum</th>\n",
       "                        <td>2057</td>\n",
       "                    </tr>\n",
       "                    <tr>\n",
       "                        <th>Variance</th>\n",
       "                        <td>0.69902</td>\n",
       "                    </tr>\n",
       "                    <tr>\n",
       "                        <th>Memory size</th>\n",
       "                        <td>7.0 KiB</td>\n",
       "                    </tr>\n",
       "                </table>\n",
       "            </div>\n",
       "        </div>\n",
       "        <div role=\"tabpanel\" class=\"tab-pane col-md-8 col-md-offset-2\" id=\"histogram8885073346795181634\">\n",
       "            <img src=\"data:image/png;base64,iVBORw0KGgoAAAANSUhEUgAAAlgAAAGQCAYAAAByNR6YAAAABHNCSVQICAgIfAhkiAAAAAlwSFlzAAAPYQAAD2EBqD%2BnaQAAADl0RVh0U29mdHdhcmUAbWF0cGxvdGxpYiB2ZXJzaW9uIDIuMS4xLCBodHRwOi8vbWF0cGxvdGxpYi5vcmcvAOZPmwAAH7FJREFUeJzt3X1wVfWd%2BPEPEJAQioQp6ey6f9gV0KnGDQ8qFMEhI90iD7IUNrNlqMWFdt1IWketKHV1llJlWta2oLsuip3dOluEyrRuRbGVrbvVpYCudZilJbUOKqOkojwEQiQ5vz865te7KAT8Xm5y8nrNMEzOObn3%2B%2BHck7xzbxJ6ZVmWBQAAyfQu9QIAAPJGYAEAJCawAAASE1gAAIkJLACAxAQWAEBiAgsAIDGBBQCQmMACAEhMYAEAJCawAAASE1gAAIkJLACAxAQWAEBiAgsAIDGBBQCQmMACAEhMYAEAJCawAAASE1gAAIkJLACAxAQWAEBiAgsAIDGBBQCQmMACAEhMYAEAJCawAAASE1gAAIkJLACAxAQWAEBiAgsAIDGBBQCQmMACAEhMYAEAJCawAAASE1gAAIkJLACAxAQWAEBiAgsAILGyUi%2Bgp2hqOpj8Nnv37hVDhlTEvn3N0d6eJb/9UsnrXBH5nS2vc0WYrTvK61wR%2BZ2tmHMNHfqRpLfXWZ7B6sZ69%2B4VvXr1it69e5V6KUnlda6I/M6W17kizNYd5XWuiPzOlse5BBYAQGICCwAgMYEFAJCYwAIASExgAQAkJrAAABITWAAAiflFo0Wwd%2B/eaGpqKthWVjYgqqqqkt5Pnz69C/7Oi7zOFZHf2fI6V4TZuqO8zhWR39nyOFevLMvy86tgu4iVK1fGqlWrCrbV19dHQ0NDiVYEAJxJAqsIzuQzWIMGlceBA0eira096W2XUl7nisjvbHmdK8Js3VFe54rI72zFnKuysiLp7XWWlwiLoKqq6riYamo6GMeOFediaGtrL9ptl1Je54rI72x5nSvCbN1RXueKyO9seZorPy92AgB0EQILACAxLxECQE5N%2BdbPS72ETtu27NOlXkJSnsECAEhMYAEAJCawAAASE1gAAIkJLACAxAQWAEBiAgsAIDGBBQCQmMACAEhMYAEAJCawAAASE1gAAIkJLACAxAQWAEBiAgsAIDGBBQCQmMACAEhMYAEAJCawAAASE1gAAIkJLACAxAQWAEBiAgsAIDGBBQCQmMACAEhMYAEAJCawAAASE1gAAIkJLACAxAQWAEBiAgsAIDGBBQCQmMACAEhMYAEAJCawAAASE1gAAIkJLACAxAQWAEBiAgsAIDGBBQCQmMACAEhMYAEAJCawAAASE1gAAIkJLACAxAQWAEBiAgsAIDGBBQCQmMACAEhMYAEAJCawAAAS69GB1dbWFvPmzYvFixd3bPvZz34W06dPj5qampgyZUps3ry54H1Wr14dEydOjJqampg3b168/PLLZ3rZAEAX16MDa9WqVbFt27aOt1955ZVYtGhRfOlLX4pt27bFokWL4stf/nK8%2BeabERGxYcOG%2BNd//dd48MEHY8uWLXHhhRdGQ0NDZFlWqhEAgC6oxwbWc889F5s2bYpPfepTHds2bNgQY8aMiSuvvDLKysriqquuiksuuSTWrl0bERGPPPJIfPazn43hw4fHWWedFTfeeGPs2bMntmzZUqoxAIAuqEcG1ltvvRVLliyJFStWRHl5ecf2xsbGGDFiRMGxw4YNi507d77v/r59%2B8a5557bsR8AICKirNQLONPa29vj5ptvjvnz58cFF1xQsK%2B5ubkguCIi%2BvfvH4cPH%2B7U/vfs3bs3mpqaCraVlQ2IqqqqVGNERESfPr0L/s6LvM4Vkd/Z8jpXhNm6o7zOFZHv2SLyNVePC6z7778/%2BvXrF/PmzTtuX3l5ebS0tBRsa2lpiYqKik7tf8/atWtj1apVBdvq6%2BujoaEhxQjHGTSo/OQHdUN5nSsiv7Plda4Is3VHeZ0rIr%2Bz5WmuHhdYP/zhD2Pv3r0xZsyYiIiOYPrJT34Sc%2BfOjR07dhQc39jYGBdddFFERAwfPjx27doVkyZNioiId999N1555ZXjXlasq6uL2tragm1lZQPi7bebk87Sp0/vGDSoPA4cOBJtbe1Jb7uU8jpXRH5ny%2BtcEWbrjvI6V0S%2BZ4uIosxVWVlx8oOKoMcF1hNPPFHw9nu/ouHuu%2B%2BO3/zmN/HQQw/F448/Hp/61Kdi06ZN8Ytf/CKWLFkSERGf%2BcxnYuXKlTFx4sT4%2BMc/Hvfcc0989KMf7Yi191RVVR33cmBT08E4dqw4F0NbW3vRbruU8jpXRH5ny%2BtcEWbrjvI6V0R%2BZ8vTXD0usE7kvPPOi3vvvTe%2B%2Bc1vxpIlS%2BKcc86JlStXxsc//vGIiJg9e3YcPHgw6uvrY9%2B%2BfVFdXR33339/9O3bt8QrBwC6kh4fWHfffXfB2xMmTIgJEya877G9evWKa6%2B9Nq699tozsTQAoJvKz7frAwB0EQILACAxgQUAkJjAAgBITGABACQmsAAAEhNYAACJCSwAgMQEFgBAYgILACAxgQUAkJjAAgBITGABACQmsAAAEhNYAACJCSwAgMQEFgBAYgILACAxgQUAkJjAAgBITGABACQmsAAAEhNYAACJCSwAgMQEFgBAYgILACAxgQUAkJjAAgBITGABACQmsAAAEhNYAACJCSwAgMQEFgBAYgILACAxgQUAkJjAAgBITGABACQmsAAAEhNYAACJCSwAgMQEFgBAYgILACAxgQUAkJjAAgBITGABACQmsAAAEhNYAACJCSwAgMQEFgBAYgILACAxgQUAkJjAAgBILLeB9dxzz8WcOXNi1KhRMX78%2BFi6dGm0tLRERMSLL74Yc%2BbMiZEjR0ZtbW2sW7eu4H03bNgQkydPjpqampg1a1a88MILpRgBAOimchlY%2B/btiy9%2B8YvxV3/1V7Ft27bYsGFD/OIXv4h//ud/jv3798cXvvCFmDlzZmzdujWWLVsWd911V/zyl7%2BMiIgtW7bE0qVL4%2B67746tW7fGjBkz4rrrrosjR46UeCoAoLvIZWANGTIknn322Zg1a1b06tUr3nnnnTh69GgMGTIkNm3aFIMHD465c%2BdGWVlZjBs3LqZPnx4PP/xwRESsW7cupk6dGqNHj46%2BffvG5z//%2BaisrIzHH3%2B8xFMBAN1FLgMrImLgwIEREXHFFVfE9OnTY%2BjQoTFr1qzYtWtXjBgxouDYYcOGxc6dOyMiorGx8YT7AQBOpqzUCyi2TZs2xf79%2B%2BOmm26KhoaG%2BNjHPhbl5eUFx/Tv3z8OHz4cERHNzc0n3N8Ze/fujaampoJtZWUDoqqq6jSneH99%2BvQu%2BDsv8jpXRH5ny%2BtcEWbrjvI6V0S%2BZ4vI11y5D6z%2B/ftH//794%2Babb445c%2BbEvHnz4uDBgwXHtLS0REVFRURElJeXd3wz/B/ur6ys7PR9rl27NlatWlWwrb6%2BPhoaGk5zihMbNKj85Ad1Q3mdKyK/s%2BV1rgizdUd5nSsiv7Plaa5cBtbzzz8ft912W/zoRz%2BKfv36RUREa2tr9O3bN4YNGxY///nPC45vbGyM4cOHR0TE8OHDY9euXcftnzhxYqfvv66uLmprawu2lZUNiLffbj6dcT5Qnz69Y9Cg8jhw4Ei0tbUnve1SyutcEfmdLa9zRZitO8rrXBH5ni0iijJXZWVF0tvrrFwG1vnnnx8tLS2xYsWKuPHGG6OpqSmWL18es2fPjj//8z%2BPFStWxHe/%2B92YO3dubN%2B%2BPR577LG47777IiJi9uzZUV9fH1OmTInRo0fHww8/HG%2B99VZMnjy50/dfVVV13MuBTU0H49ix4lwMbW3tRbvtUsrrXBH5nS2vc0WYrTvK61wR%2BZ0tT3PlMrAqKirigQceiK9//esxfvz4%2BMhHPhLTp0%2BP%2Bvr66NevX6xZsyaWLVsW3/nOd2LIkCHx1a9%2BNcaOHRsREePGjYs77rgj7rzzznjzzTdj2LBhsXr16hg8eHCJpwIAuotcBlbE73/yb82aNe%2B7r7q6Or7//e9/4PteffXVcfXVVxdraQBAzuXn2/UBALoIgQUAkJjAAgBITGABACQmsAAAEhNYAACJCSwAgMQEFgBAYgILACAxgQUAkJjAAgBITGABACQmsAAAEhNYAACJCSwAgMQEFgBAYgILACAxgQUAkJjAAgBITGABACQmsAAAEhNYAACJCSwAgMQEFgBAYgILACAxgQUAkJjAAgBITGABACQmsAAAEhNYAACJCSwAgMQEFgBAYgILACAxgQUAkJjAAgBITGABACQmsAAAEhNYAACJCSwAgMQEFgBAYgILACAxgQUAkJjAAgBITGABACQmsAAAEhNYAACJCSwAgMTKSr0APpwxS54o9RI6beOXx5d6CQBwRngGCwAgMYEFAJCYwAIASOyMBNbOnTtj/vz5cemll8b48ePjK1/5Suzbty8iIl588cWYM2dOjBw5Mmpra2PdunUF77thw4aYPHly1NTUxKxZs%2BKFF144E0sGADhtRQ%2BslpaWWLBgQYwcOTL%2B67/%2BK/793/893nnnnbjtttti//798YUvfCFmzpwZW7dujWXLlsVdd90Vv/zlLyMiYsuWLbF06dK4%2B%2B67Y%2BvWrTFjxoy47rrr4siRI8VeNgDAaSt6YO3ZsycuuOCCqK%2Bvj379%2BkVlZWXU1dXF1q1bY9OmTTF48OCYO3dulJWVxbhx42L69Onx8MMPR0TEunXrYurUqTF69Ojo27dvfP7zn4/Kysp4/PHHi71sAIDTVvTA%2BtM//dN44IEHok%2BfPh3bnnzyybjwwgtj165dMWLEiILjhw0bFjt37oyIiMbGxhPuBwDois7oN7lnWRb33HNPbN68OZYsWRLNzc1RXl5ecEz//v3j8OHDEREn3Q8A0BWdsV80eujQobj11ltjx44d8b3vfS/OP//8KC8vj4MHDxYc19LSEhUVFRERUV5eHi0tLcftr6ysPFPLPi179%2B6Npqamgm1lZQOiqqoq6f306dO9fgi0rKxz631vru42X2fkdba8zhVhtu4or3NF5Hu2iHzNdUYCa/fu3bFw4cL44z/%2B41i/fn0MGTIkIiJGjBgRP//5zwuObWxsjOHDh0dExPDhw2PXrl3H7Z84ceKZWPZpW7t2baxatapgW319fTQ0NJRoRV1DZWXFKR0/aFD5yQ/qpvI6W17nijBbd5TXuSLyO1ue5ip6YO3fvz%2BuueaaGDt2bCxbtix69/7/dTp58uT4xje%2BEd/97ndj7ty5sX379njsscfivvvui4iI2bNnR319fUyZMiVGjx4dDz/8cLz11lsxefLkYi/7Q6mrq4va2tqCbWVlA%2BLtt5uT3k93K/3Ozt%2BnT%2B8YNKg8Dhw4Em1t7UVe1ZmV19nyOleE2bqjvM4Vke/ZIqIoc53qF/epFD2wHn300dizZ09s3Lgxnnii8P/Ne%2BGFF2LNmjWxbNmy%2BM53vhNDhgyJr371qzF27NiIiBg3blzccccdceedd8abb74Zw4YNi9WrV8fgwYOLvewPpaqq6riXA5uaDsaxY/m7GE7Fqc7f1tae23%2BzvM6W17kizNYd5XWuiPzOlqe5ih5Y8%2BfPj/nz53/g/urq6vj%2B97//gfuvvvrquPrqq4uxNACAouherzEBAHQDAgsAIDGBBQCQmMACAEhMYAEAJCawAAASO2P/VQ5AdzVmyRMnP6gL2fjl8aVeAvR4nsECAEhMYAEAJCawAAASE1gAAIkJLACAxAQWAEBiAgsAIDGBBQCQmMACAEhMYAEAJCawAAASE1gAAIkJLACAxAQWAEBiAgsAIDGBBQCQmMACAEhMYAEAJCawAAASE1gAAIkJLACAxAQWAEBiAgsAIDGBBQCQmMACAEhMYAEAJCawAAASE1gAAIkJLACAxAQWAEBiAgsAIDGBBQCQmMACAEhMYAEAJCawAAASE1gAAIkJLACAxAQWAEBiAgsAIDGBBQCQmMACAEhMYAEAJCawAAASE1gAAIkJLACAxAQWAEBiuQ6sffv2xeTJk2PLli2lXgoA0IPkNrC2b98edXV1sXv37lIvBQDoYXIZWBs2bIibbropbrjhhlIvBQDogXIZWJdffnk89dRTcdVVV5V6KQBAD1RW6gUUw9ChQ0t6/3v37o2mpqaCbWVlA6Kqqirp/fTp0736uKysc%2Bt9b67uNl9n5HW2vM4V0T1n6unXWl7nisj3bBH5miuXgVVqa9eujVWrVhVsq6%2Bvj4aGhhKtqGuorKw4peMHDSov0kpKL6%2Bz5XWu7sa19nt5nSsiv7PlaS6BVQR1dXVRW1tbsK2sbEC8/XZz0vvpbqXf2fn79OkdgwaVx4EDR6Ktrb3Iqzqz8jpbXueK6H7XWYRrLa9zReR7togoylyn%2BgVHKgKrCKqqqo57ObCp6WAcO5a/i%2BFUnOr8bW3tuf03y%2BtseZ2ru3Gt/V5e54rI72x5mqv7fWkGANDF5f4ZrF/96lelXgIA0MN4BgsAIDGBBQCQmMACAEhMYAEAJCawAAASE1gAAIkJLACAxAQWAEBiAgsAIDGBBQCQmMACAEhMYAEAJCawAAASE1gAAIkJLACAxAQWAEBiAgsAIDGBBQCQmMACAEhMYAEAJCawAAASE1gAAIkJLACAxAQWAEBiAgsAIDGBBQCQmMACAEhMYAEAJCawAAASE1gAAIkJLACAxAQWAEBiAgsAIDGBBQCQmMACAEhMYAEAJCawAAASE1gAAIkJLACAxAQWAEBiAgsAIDGBBQCQmMACAEhMYAEAJCawAAASE1gAAIkJLACAxAQWAEBiAgsAIDGBBQCQmMACAEhMYAEAJCawAAASE1gAAIkJLACAxAQWAEBiZaVeQB7t3bs3mpqaCraVlQ2IqqqqpPfTp0/36uOyss6t9725utt8nZHX2fI6V0T3nKmnX2t5nSsi37NF5GuuXlmWZaVeRN6sXLkyVq1aVbDt%2Buuvj0WLFiW9n71798batWujrq4uebyVUl7nisjvbHmdK8Js3VFe54rI72x5nCs/qdiF1NXVxaOPPlrwp66uLvn9NDU1xapVq457tqy7y%2BtcEfmdLa9zRZitO8rrXBH5nS2Pc3mJsAiqqqpyU%2BAAwKnzDBYAQGICCwAgsT533nnnnaVeBKevoqIiLr300qioqCj1UpLK61wR%2BZ0tr3NFmK07yutcEfmdLW9z%2BSlCAIDEvEQIAJCYwAIASExgAQAkJrAAABITWAAAiQksAIDE/Fc5wGnZt29f1NXVxde%2B9rW47LLLjtu/YMGC2L59e8G2w4cPR11dXfz93/99/O53v4vx48fHgAEDOvZXVlbG008/XfS1Q1eyc%2BfOWL58eezYsSP69u0b48ePj8WLF8eQIUMKjnNNdS8CCzhl27dvj8WLF8fu3bs/8JgHHnig4O3169fHqlWr4vrrr4%2BIiJdeeinOOeccH/zp0VpaWmLBggXxl3/5l3H//fdHc3Nz3HLLLXHbbbfFP/3TPxUc65rqXjpeIty3b19Mnjw5tmzZcsJ3WLBgQVRXV8fIkSM7/jzzzDNFX2hP05nz8bOf/SymT58eNTU1MWXKlNi8eXPB/tWrV8fEiROjpqYm5s2bFy%2B//HKxl80f6Mw5PNH11NbWFsuXL49PfvKTMXLkyLjuuuvi2Wefjfnz58ell14a48ePj6985Suxb9%2B%2BD7z9kz1GTseGDRvipptuihtuuKHT7/Pyyy/H0qVL45vf/GbHf4T%2B0ksvxUUXXfSh10PnvPbaa3H99dfH2LFj47LLLou//du/jVdffbXUy%2Boyfve738X5559fcC3W1tYW/X737NkTF1xwQdTX10e/fv2isrIy6urqYuvWrSd8v2JcU88991zMmTMnRo0aFePHj4%2BlS5dGS0vLad9esXX2c1yWZXHvvfdGbW1tjBo1KqZPnx5PPPFEx/6infssy7Jt27ZlV155ZTZixIjsv//7v7MTueyyy7ItW7ac8Bg%2BnM6cj9/%2B9rdZdXV19tRTT2Xvvvtu9uMf/zi7%2BOKLszfeeCPLsix79NFHswkTJmS//vWvs5aWluyuu%2B7Kpk6dmrW3t5/JUXqszl5TJ7qeVq5cmU2fPj3bs2dPdvDgwWzRokXZRRddlH3729/Ojh49mu3bty9buHBh9sUvfvF93/9kj5HTtXfv3uzdd9/Nsizr1MeMLMuyz33uc9nf/d3fFWxbsGBBNmfOnGzq1KnZZZddli1YsCDbtWvXh1obH2zGjBnZbbfdljU3N2eHDh3Kbr311mzatGmlXlaX8fTTT2eTJk0q9TKyLMuym2%2B%2BOZs3b94Jj0l9Tb311ltZdXV19oMf/CBra2vL3nzzzWzatGnZt7/97dOeo5hO5XPcQw89lNXW1maNjY1Ze3t79tOf/jSrrq7OXnzxxSzLinfue5/KV6Ovvvpq7N%2B/Pz7xiU98%2BLLjfXX2fGzYsCHGjBkTV155ZZSVlcVVV10Vl1xySaxduzYiIh555JH47Gc/G8OHD4%2BzzjorbrzxxtizZ89Jn6Hkw%2BvsOTzZ9bRu3bpYuHBh/NEf/VEMHDgwrrnmmmhtbY0ZM2Z06ivdkz1GTtfQoUOjrKzz312wbdu2ePHFFztexnjPoEGDYvTo0fEv//Iv8ZOf/CTOPffcmD9/fhw8ePBDrY/j7d%2B/Pz760Y/Gl770pRgwYEBUVFTE5z73ufj1r38d%2B/fvL/XyuoSu8IxqlmVxzz33xObNm2PJkiUfeFwxrqkhQ4bEs88%2BG7NmzYpevXrFO%2B%2B8E0ePHj3u%2B8C6ilP5HHfgwIGor6%2BP8847L3r16hW1tbVx3nnnxfPPPx8RxTv3vS%2B//PJ46qmn4qqrrjrpwS%2B99FJUVFTEDTfcEGPHjo1p06bF%2BvXrky%2BqJ%2Bvs%2BWhsbIwRI0YUbBs2bFjs3Lnzfff37ds3zj333I79FE9nz%2BGJrqeDBw/GG2%2B8UXAOR48eHYMHD47GxsaObU8%2B%2BWRceOGF73v7J3uMnClr166NKVOmxNChQwu2r1ixIm655ZYYMmRIDBw4MG699dZobm6Obdu2ndH19QRnn312PPjggx0vJUX8/rFzzjnnxNlnn13ClXUdL730Urzxxhsxbdq0GDt2bCxcuLDgWiu2Q4cORUNDQzz22GPxve99L84///wPPLZY19TAgQMjIuKKK66I6dOnx9ChQ2PWrFmnP1QRncrnuIaGhoI5fvOb38SuXbs6PnYW69z3PpWvRltbW6OmpiZuuOGG%2BM///M9YvHhxLFu2LDZu3PihF8LvdfZ8NDc3R3l5ecG2/v37x%2BHDhzu1n%2BLp7Dk80fXU3NwcEVHw00ARvz%2BHzc3NnfpKtys8Bo4dOxY//elPY8aMGQXbDx06FMuXL4/XX3%2B9Y1tbW1scO3Ys%2Bvfvf8bW11P927/9W6xZsya%2B9rWvlXopXUYpn1HdvXt3fOYzn4lDhw7F%2BvXrTxhXZ%2BKa2rRpUzzzzDPRu3fvaGhoOLVhzpDT/fj229/%2BNhYuXBgzZsyISy65JCKKd%2B5P6acIZ86cGTNnzux4%2B/LLL4%2BZM2fGxo0bY8qUKR9qIZya8vLy4775sKWlJSoqKjq1n9I70fX0yU9%2BMiIijhw5UvA%2BLS0tHR/0duzYccKvdLvCY%2BBXv/pVHD16NEaNGlWwfeDAgfHss8/G66%2B/HsuWLYvevXvH8uXL40/%2B5E9izJgxZ2x9PU1ra2vcdddd8fjjj8f9998fY8eOLfWSuowVK1YUvH3rrbfGD37wg9i2bVtMmjSpaPe7f//%2BuOaaa2Ls2LEd18KJnIlrqn///tG/f/%2B4%2BeabY86cObF///4u90zn6Xx8e/rpp2Px4sUxa9asuOWWWzq2F%2Bvcn9IvGl2/fv1xz1a1trbGWWedddoL4PSMGDEidu3aVbCtsbExhg8fHhERw4cPL9j/7rvvxiuvvHLcS0aUzomup7PPPjs%2B9rGPFTxN3dTUFO%2B8805861vf6tRXuid7jBTDyJEj40c/%2BlHH26%2B%2B%2BmqcffbZ7/sx4r777ov29va48sorY8KECdHU1BSrV6%2BOvn37Fm19Pdm%2Bffti3rx58T//8z%2Bxfv16cfUHSvmM6qOPPhp79uyJjRs3xujRowt%2Bki3izF1Tzz//fHz605%2BO1tbWjm2tra3Rt2/f454p6gpO9XPcvffeGzfeeGPcfvvtsXjx4ujVq1dEFPnc/%2BF3vJ/sJ4IeeuihbNy4cdmOHTuytra2bPPmzdnFF1%2Bcbd26Nfl333Pi89HY2JhVV1dnP/7xjzt%2BQqy6ujp7%2BeWXsyzLskceeSSbMGFC9r//%2B78dP2ExefLkrLW19UyO0OOd6Bye7Hq65557smnTpmW7d%2B/ODh48mNXX12cXXXRRtnjx4qytre2k932yxwg9R2tra/YXf/EX2bXXXpsdOXKk1MvpkmbMmJEtWrQoO3DgQHbo0KHs9ttvz6ZMmdJjPmYeOnQou%2BKKK7Kvf/3r2dGjR7PXXnstmz17dnbHHXeUemnv61Q%2Bx61ZsyYbPXp0tmPHjve9rWKd%2B5MGVk1NTfbDH/4wy7Isa29vz%2B69995s0qRJ2cUXX5xNnTo127hx44daAB/s/56PPzwXWZZlzzzzTDZjxoyspqYmmzp1avYf//EfHfva29uzBx98MKutrc1qamqyefPm%2BcRaAic6hye7nlpbW7NvfOMb2YQJE7JRo0ZlU6dOzUaMGJH92Z/9WVZTU1Pw5/1uP8tO/Bih53jyySezESNGZNXV1cc9dl5//fVSL69T/vqv/zq7/fbbi3b7r732WlZfX59deuml2ciRI7O/%2BZu/yV577bWi3V9XtGvXrmz%2B/PnZmDFjskmTJmX/8A//kB09erRj///9%2BFJKnf0c197eno0ePTr7xCc%2Bcdxj/x//8R%2BzLCveue%2BVZVn24Z4DAwDgD/nPngEAEhNYAACJCSwAgMQEFgBAYgILACAxgQUAkJjAAgBITGABACQmsAAAEhNYAACJCSwAgMQEFgBAYgILACAxgQUAkJjAAgBI7P8BxXs1I9X%2BkX8AAAAASUVORK5CYII%3D\"/>\n",
       "        </div>\n",
       "        <div role=\"tabpanel\" class=\"tab-pane col-md-12\" id=\"common8885073346795181634\">\n",
       "            \n",
       "<table class=\"freq table table-hover\">\n",
       "    <thead>\n",
       "    <tr>\n",
       "        <td class=\"fillremaining\">Value</td>\n",
       "        <td class=\"number\">Count</td>\n",
       "        <td class=\"number\">Frequency (%)</td>\n",
       "        <td style=\"min-width:200px\">&nbsp;</td>\n",
       "    </tr>\n",
       "    </thead>\n",
       "    <tr class=\"\">\n",
       "        <td class=\"fillremaining\">3</td>\n",
       "        <td class=\"number\">491</td>\n",
       "        <td class=\"number\">55.1%</td>\n",
       "        <td>\n",
       "            <div class=\"bar\" style=\"width:100%\">&nbsp;</div>\n",
       "        </td>\n",
       "</tr><tr class=\"\">\n",
       "        <td class=\"fillremaining\">1</td>\n",
       "        <td class=\"number\">216</td>\n",
       "        <td class=\"number\">24.2%</td>\n",
       "        <td>\n",
       "            <div class=\"bar\" style=\"width:44%\">&nbsp;</div>\n",
       "        </td>\n",
       "</tr><tr class=\"\">\n",
       "        <td class=\"fillremaining\">2</td>\n",
       "        <td class=\"number\">184</td>\n",
       "        <td class=\"number\">20.7%</td>\n",
       "        <td>\n",
       "            <div class=\"bar\" style=\"width:38%\">&nbsp;</div>\n",
       "        </td>\n",
       "</tr>\n",
       "</table>\n",
       "        </div>\n",
       "        <div role=\"tabpanel\" class=\"tab-pane col-md-12\"  id=\"extreme8885073346795181634\">\n",
       "            <p class=\"h4\">Minimum 5 values</p>\n",
       "            \n",
       "<table class=\"freq table table-hover\">\n",
       "    <thead>\n",
       "    <tr>\n",
       "        <td class=\"fillremaining\">Value</td>\n",
       "        <td class=\"number\">Count</td>\n",
       "        <td class=\"number\">Frequency (%)</td>\n",
       "        <td style=\"min-width:200px\">&nbsp;</td>\n",
       "    </tr>\n",
       "    </thead>\n",
       "    <tr class=\"\">\n",
       "        <td class=\"fillremaining\">1</td>\n",
       "        <td class=\"number\">216</td>\n",
       "        <td class=\"number\">24.2%</td>\n",
       "        <td>\n",
       "            <div class=\"bar\" style=\"width:44%\">&nbsp;</div>\n",
       "        </td>\n",
       "</tr><tr class=\"\">\n",
       "        <td class=\"fillremaining\">2</td>\n",
       "        <td class=\"number\">184</td>\n",
       "        <td class=\"number\">20.7%</td>\n",
       "        <td>\n",
       "            <div class=\"bar\" style=\"width:38%\">&nbsp;</div>\n",
       "        </td>\n",
       "</tr><tr class=\"\">\n",
       "        <td class=\"fillremaining\">3</td>\n",
       "        <td class=\"number\">491</td>\n",
       "        <td class=\"number\">55.1%</td>\n",
       "        <td>\n",
       "            <div class=\"bar\" style=\"width:100%\">&nbsp;</div>\n",
       "        </td>\n",
       "</tr>\n",
       "</table>\n",
       "            <p class=\"h4\">Maximum 5 values</p>\n",
       "            \n",
       "<table class=\"freq table table-hover\">\n",
       "    <thead>\n",
       "    <tr>\n",
       "        <td class=\"fillremaining\">Value</td>\n",
       "        <td class=\"number\">Count</td>\n",
       "        <td class=\"number\">Frequency (%)</td>\n",
       "        <td style=\"min-width:200px\">&nbsp;</td>\n",
       "    </tr>\n",
       "    </thead>\n",
       "    <tr class=\"\">\n",
       "        <td class=\"fillremaining\">1</td>\n",
       "        <td class=\"number\">216</td>\n",
       "        <td class=\"number\">24.2%</td>\n",
       "        <td>\n",
       "            <div class=\"bar\" style=\"width:44%\">&nbsp;</div>\n",
       "        </td>\n",
       "</tr><tr class=\"\">\n",
       "        <td class=\"fillremaining\">2</td>\n",
       "        <td class=\"number\">184</td>\n",
       "        <td class=\"number\">20.7%</td>\n",
       "        <td>\n",
       "            <div class=\"bar\" style=\"width:38%\">&nbsp;</div>\n",
       "        </td>\n",
       "</tr><tr class=\"\">\n",
       "        <td class=\"fillremaining\">3</td>\n",
       "        <td class=\"number\">491</td>\n",
       "        <td class=\"number\">55.1%</td>\n",
       "        <td>\n",
       "            <div class=\"bar\" style=\"width:100%\">&nbsp;</div>\n",
       "        </td>\n",
       "</tr>\n",
       "</table>\n",
       "        </div>\n",
       "    </div>\n",
       "</div>\n",
       "</div><div class=\"row variablerow\">\n",
       "    <div class=\"col-md-3 namecol\">\n",
       "        <p class=\"h4 pp-anchor\" id=\"pp_var_sex\">sex<br/>\n",
       "            <small>Categorical</small>\n",
       "        </p>\n",
       "    </div><div class=\"col-md-3\">\n",
       "    <table class=\"stats \">\n",
       "        <tr class=\"\">\n",
       "            <th>Distinct count</th>\n",
       "            <td>2</td>\n",
       "        </tr>\n",
       "        <tr>\n",
       "            <th>Unique (%)</th>\n",
       "            <td>0.2%</td>\n",
       "        </tr>\n",
       "        <tr class=\"ignore\">\n",
       "            <th>Missing (%)</th>\n",
       "            <td>0.0%</td>\n",
       "        </tr>\n",
       "        <tr class=\"ignore\">\n",
       "            <th>Missing (n)</th>\n",
       "            <td>0</td>\n",
       "        </tr>\n",
       "    </table>\n",
       "</div>\n",
       "<div class=\"col-md-6 collapse in\" id=\"minifreqtable-1818978451957851503\">\n",
       "    <table class=\"mini freq\">\n",
       "        <tr class=\"\">\n",
       "    <th>male</th>\n",
       "    <td>\n",
       "        <div class=\"bar\" style=\"width:100%\" data-toggle=\"tooltip\" data-placement=\"right\" data-html=\"true\"\n",
       "             data-delay=500 title=\"Percentage: 64.8%\">\n",
       "            577\n",
       "        </div>\n",
       "        \n",
       "    </td>\n",
       "</tr><tr class=\"\">\n",
       "    <th>female</th>\n",
       "    <td>\n",
       "        <div class=\"bar\" style=\"width:54%\" data-toggle=\"tooltip\" data-placement=\"right\" data-html=\"true\"\n",
       "             data-delay=500 title=\"Percentage: 35.2%\">\n",
       "            314\n",
       "        </div>\n",
       "        \n",
       "    </td>\n",
       "</tr>\n",
       "    </table>\n",
       "</div>\n",
       "<div class=\"col-md-12 text-right\">\n",
       "    <a role=\"button\" data-toggle=\"collapse\" data-target=\"#freqtable-1818978451957851503, #minifreqtable-1818978451957851503\"\n",
       "       aria-expanded=\"true\" aria-controls=\"collapseExample\">\n",
       "        Toggle details\n",
       "    </a>\n",
       "</div>\n",
       "<div class=\"col-md-12 extrapadding collapse\" id=\"freqtable-1818978451957851503\">\n",
       "    \n",
       "<table class=\"freq table table-hover\">\n",
       "    <thead>\n",
       "    <tr>\n",
       "        <td class=\"fillremaining\">Value</td>\n",
       "        <td class=\"number\">Count</td>\n",
       "        <td class=\"number\">Frequency (%)</td>\n",
       "        <td style=\"min-width:200px\">&nbsp;</td>\n",
       "    </tr>\n",
       "    </thead>\n",
       "    <tr class=\"\">\n",
       "        <td class=\"fillremaining\">male</td>\n",
       "        <td class=\"number\">577</td>\n",
       "        <td class=\"number\">64.8%</td>\n",
       "        <td>\n",
       "            <div class=\"bar\" style=\"width:100%\">&nbsp;</div>\n",
       "        </td>\n",
       "</tr><tr class=\"\">\n",
       "        <td class=\"fillremaining\">female</td>\n",
       "        <td class=\"number\">314</td>\n",
       "        <td class=\"number\">35.2%</td>\n",
       "        <td>\n",
       "            <div class=\"bar\" style=\"width:54%\">&nbsp;</div>\n",
       "        </td>\n",
       "</tr>\n",
       "</table>\n",
       "</div>\n",
       "</div><div class=\"row variablerow\">\n",
       "    <div class=\"col-md-3 namecol\">\n",
       "        <p class=\"h4 pp-anchor\" id=\"pp_var_sibsp\">sibsp<br/>\n",
       "            <small>Numeric</small>\n",
       "        </p>\n",
       "    </div><div class=\"col-md-6\">\n",
       "    <div class=\"row\">\n",
       "        <div class=\"col-sm-6\">\n",
       "            <table class=\"stats \">\n",
       "                <tr>\n",
       "                    <th>Distinct count</th>\n",
       "                    <td>7</td>\n",
       "                </tr>\n",
       "                <tr>\n",
       "                    <th>Unique (%)</th>\n",
       "                    <td>0.8%</td>\n",
       "                </tr>\n",
       "                <tr class=\"ignore\">\n",
       "                    <th>Missing (%)</th>\n",
       "                    <td>0.0%</td>\n",
       "                </tr>\n",
       "                <tr class=\"ignore\">\n",
       "                    <th>Missing (n)</th>\n",
       "                    <td>0</td>\n",
       "                </tr>\n",
       "                <tr class=\"ignore\">\n",
       "                    <th>Infinite (%)</th>\n",
       "                    <td>0.0%</td>\n",
       "                </tr>\n",
       "                <tr class=\"ignore\">\n",
       "                    <th>Infinite (n)</th>\n",
       "                    <td>0</td>\n",
       "                </tr>\n",
       "            </table>\n",
       "\n",
       "        </div>\n",
       "        <div class=\"col-sm-6\">\n",
       "            <table class=\"stats \">\n",
       "\n",
       "                <tr>\n",
       "                    <th>Mean</th>\n",
       "                    <td>0.52301</td>\n",
       "                </tr>\n",
       "                <tr>\n",
       "                    <th>Minimum</th>\n",
       "                    <td>0</td>\n",
       "                </tr>\n",
       "                <tr>\n",
       "                    <th>Maximum</th>\n",
       "                    <td>8</td>\n",
       "                </tr>\n",
       "                <tr class=\"alert\">\n",
       "                    <th>Zeros (%)</th>\n",
       "                    <td>68.2%</td>\n",
       "                </tr>\n",
       "            </table>\n",
       "        </div>\n",
       "    </div>\n",
       "</div>\n",
       "<div class=\"col-md-3 collapse in\" id=\"minihistogram697864874961638462\">\n",
       "    <img src=\"data:image/png;base64,iVBORw0KGgoAAAANSUhEUgAAAMgAAABLCAYAAAA1fMjoAAAABHNCSVQICAgIfAhkiAAAAAlwSFlzAAAPYQAAD2EBqD%2BnaQAAADl0RVh0U29mdHdhcmUAbWF0cGxvdGxpYiB2ZXJzaW9uIDIuMS4xLCBodHRwOi8vbWF0cGxvdGxpYi5vcmcvAOZPmwAAAR9JREFUeJzt3cEJAjEUQMFVLMki7MmzPVmEPcW7yINd0A06cw/8Qx4hEMhhjDEW4K3j3gPAzE57D/DqfL2vXvO4XT4wCThBIAkEgkAgCASCQCAIBIJAIAgEgkAgCASCQCAIBIJAIAgEgkAgCASCQCAIBIJAIAgEgkAgCASCQCAIBIJAIAgEgkAgCASCQCAIBMJ03x9s4csEPsUJAkEgEAQCQSAQBAJBIBAEAkEgEAQCQSAQBAJBIBAEAuEnXvNuMesL4Fnn%2Bld/G8gWazfvtzbur8y1LPPFfhhjjL2HgFm5g0AQCASBQBAIBIFAEAgEgUAQCASBQBAIBIFAEAgEgUAQCASBQBAIBIFAEAgEgUAQCASBQBAIBIFAEAgEgUB4AgF1HZVgFOXZAAAAAElFTkSuQmCC\">\n",
       "\n",
       "</div>\n",
       "<div class=\"col-md-12 text-right\">\n",
       "    <a role=\"button\" data-toggle=\"collapse\" data-target=\"#descriptives697864874961638462,#minihistogram697864874961638462\"\n",
       "       aria-expanded=\"false\" aria-controls=\"collapseExample\">\n",
       "        Toggle details\n",
       "    </a>\n",
       "</div>\n",
       "<div class=\"row collapse col-md-12\" id=\"descriptives697864874961638462\">\n",
       "    <ul class=\"nav nav-tabs\" role=\"tablist\">\n",
       "        <li role=\"presentation\" class=\"active\"><a href=\"#quantiles697864874961638462\"\n",
       "                                                  aria-controls=\"quantiles697864874961638462\" role=\"tab\"\n",
       "                                                  data-toggle=\"tab\">Statistics</a></li>\n",
       "        <li role=\"presentation\"><a href=\"#histogram697864874961638462\" aria-controls=\"histogram697864874961638462\"\n",
       "                                   role=\"tab\" data-toggle=\"tab\">Histogram</a></li>\n",
       "        <li role=\"presentation\"><a href=\"#common697864874961638462\" aria-controls=\"common697864874961638462\"\n",
       "                                   role=\"tab\" data-toggle=\"tab\">Common Values</a></li>\n",
       "        <li role=\"presentation\"><a href=\"#extreme697864874961638462\" aria-controls=\"extreme697864874961638462\"\n",
       "                                   role=\"tab\" data-toggle=\"tab\">Extreme Values</a></li>\n",
       "\n",
       "    </ul>\n",
       "\n",
       "    <div class=\"tab-content\">\n",
       "        <div role=\"tabpanel\" class=\"tab-pane active row\" id=\"quantiles697864874961638462\">\n",
       "            <div class=\"col-md-4 col-md-offset-1\">\n",
       "                <p class=\"h4\">Quantile statistics</p>\n",
       "                <table class=\"stats indent\">\n",
       "                    <tr>\n",
       "                        <th>Minimum</th>\n",
       "                        <td>0</td>\n",
       "                    </tr>\n",
       "                    <tr>\n",
       "                        <th>5-th percentile</th>\n",
       "                        <td>0</td>\n",
       "                    </tr>\n",
       "                    <tr>\n",
       "                        <th>Q1</th>\n",
       "                        <td>0</td>\n",
       "                    </tr>\n",
       "                    <tr>\n",
       "                        <th>Median</th>\n",
       "                        <td>0</td>\n",
       "                    </tr>\n",
       "                    <tr>\n",
       "                        <th>Q3</th>\n",
       "                        <td>1</td>\n",
       "                    </tr>\n",
       "                    <tr>\n",
       "                        <th>95-th percentile</th>\n",
       "                        <td>3</td>\n",
       "                    </tr>\n",
       "                    <tr>\n",
       "                        <th>Maximum</th>\n",
       "                        <td>8</td>\n",
       "                    </tr>\n",
       "                    <tr>\n",
       "                        <th>Range</th>\n",
       "                        <td>8</td>\n",
       "                    </tr>\n",
       "                    <tr>\n",
       "                        <th>Interquartile range</th>\n",
       "                        <td>1</td>\n",
       "                    </tr>\n",
       "                </table>\n",
       "            </div>\n",
       "            <div class=\"col-md-4 col-md-offset-2\">\n",
       "                <p class=\"h4\">Descriptive statistics</p>\n",
       "                <table class=\"stats indent\">\n",
       "                    <tr>\n",
       "                        <th>Standard deviation</th>\n",
       "                        <td>1.1027</td>\n",
       "                    </tr>\n",
       "                    <tr>\n",
       "                        <th>Coef of variation</th>\n",
       "                        <td>2.1085</td>\n",
       "                    </tr>\n",
       "                    <tr>\n",
       "                        <th>Kurtosis</th>\n",
       "                        <td>17.88</td>\n",
       "                    </tr>\n",
       "                    <tr>\n",
       "                        <th>Mean</th>\n",
       "                        <td>0.52301</td>\n",
       "                    </tr>\n",
       "                    <tr>\n",
       "                        <th>MAD</th>\n",
       "                        <td>0.71378</td>\n",
       "                    </tr>\n",
       "                    <tr class=\"\">\n",
       "                        <th>Skewness</th>\n",
       "                        <td>3.6954</td>\n",
       "                    </tr>\n",
       "                    <tr>\n",
       "                        <th>Sum</th>\n",
       "                        <td>466</td>\n",
       "                    </tr>\n",
       "                    <tr>\n",
       "                        <th>Variance</th>\n",
       "                        <td>1.216</td>\n",
       "                    </tr>\n",
       "                    <tr>\n",
       "                        <th>Memory size</th>\n",
       "                        <td>7.0 KiB</td>\n",
       "                    </tr>\n",
       "                </table>\n",
       "            </div>\n",
       "        </div>\n",
       "        <div role=\"tabpanel\" class=\"tab-pane col-md-8 col-md-offset-2\" id=\"histogram697864874961638462\">\n",
       "            <img src=\"data:image/png;base64,iVBORw0KGgoAAAANSUhEUgAAAlgAAAGQCAYAAAByNR6YAAAABHNCSVQICAgIfAhkiAAAAAlwSFlzAAAPYQAAD2EBqD%2BnaQAAADl0RVh0U29mdHdhcmUAbWF0cGxvdGxpYiB2ZXJzaW9uIDIuMS4xLCBodHRwOi8vbWF0cGxvdGxpYi5vcmcvAOZPmwAAIABJREFUeJzt3X10VPW97/FPkgkwCYkZhED1sk6UBMHAsimEhyL0GEyjQgB5MEdphR4rSiJpaImIBqFACBw81YaIUik3FdISzYEqCAhXKT4UIWAPVFbBhIOoKz1kgCSQJ8jT/cND7p1GxwC/yc5s3q%2B18kd%2Be8/s7ycTFp/Ze2YS0NLS0iIAAAAYE2j1AAAAAHZDwQIAADCMggUAAGAYBQsAAMAwChYAAIBhFCwAAADDKFgAAACGUbAAAAAMo2ABAAAYRsECAAAwjIIFAABgGAULAADAMAoWAACAYRQsAAAAwyhYAAAAhlGwAAAADKNgAQAAGEbBAgAAMIyCBQAAYBgFCwAAwDAKFgAAgGEULAAAAMMoWAAAAIZRsAAAAAyjYAEAABhGwQIAADCMggUAAGAYBQsAAMAwChYAAIBhFCwAAADDKFgAAACGUbAAAAAMo2ABAAAYRsECAAAwjIIFAABgGAULAADAMAoWAACAYRQsAAAAwyhYAAAAhjmsHuB64XZfMH6fgYEB6tEjVOfO1ai5ucX4/VvFrrkk%2B2azay6JbP7Irrkk%2B2bzZa5evcKM3l97cQbLjwUGBiggIECBgQFWj2KUXXNJ9s1m11wS2fyRXXNJ9s1mx1wULAAAAMMoWAAAAIZRsAAAAAyjYAEAABhGwQIAADCMggUAAGAYBQsAAMAwChYAAIBhFCwAAADDKFgAAACGUbAAAAAMo2ABAAAYRsECAAAwzGH1AL5SWVmp5cuXa%2B/evWpublZ8fLwWL16syMhIHT58WMuWLVNpaalcLpdmz56tadOmtd52y5YtWrNmjdxut2699VYtXLhQcXFxFqb5ZkOf2Wn1CO22I2OU1SMAANAhbHsGa86cOaqtrdXu3bu1Z88eBQUFaeHChaqqqtKsWbM0adIkFRcXKzs7Wzk5OTpy5Igkaf/%2B/Vq6dKlWrFih4uJiTZgwQbNnz1ZdXZ3FiQAAgL%2BwZcH65JNPdPjwYa1YsULh4eHq3r27li5dqnnz5mnXrl2KiIjQ9OnT5XA4NHLkSCUnJ6ugoECS9Prrr2vcuHEaMmSIgoODNXPmTLlcLm3fvt3iVAAAwF/Y8hLhkSNHFB0drddee01/%2BMMfVFdXp9GjR2v%2B/PkqKSlR//79PfaPjo5WUVGRJKm0tFRTpkxps/3YsWPtPn55ebncbrfHmsMRosjIyKtM9PWCgvyrHzsc7Zv3ci5/y9ceds1m11wS2fyRXXNJ9s1mx1y2LFhVVVU6fvy4Bg0apC1btqi%2Bvl5PPvmk5s%2Bfr549e8rpdHrs361bN9XW1kqSampqvG5vj8LCQuXl5XmspaWlKT09/SoT2YPLFXpF%2B4eHO799Jz9l12x2zSWRzR/ZNZdk32x2ymXLgtWlSxdJ0jPPPKOuXbuqe/fuysjI0AMPPKDJkyervr7eY//6%2BnqFhn71n7/T6fza7S6Xq93HT0lJUUJCgseawxGiioqaq4nzjfyt6bc3f1BQoMLDnTp/vk5NTc0%2Bnqpj2TWbXXNJZPNHds0l2TebL3Nd6ZN7U2xZsKKjo9Xc3KyGhgZ17dpVktTc/NUDNnDgQP3%2B97/32L%2B0tFQxMTGSpJiYGJWUlLTZPmbMmHYfPzIyss3lQLf7ghob7fOP4Wpcaf6mpmbb/szsms2uuSSy%2BSO75pLsm81OufzrFEg7ff/731ffvn319NNPq6amRufOndPzzz%2Bvu%2B%2B%2BW%2BPHj9eZM2eUn5%2BvhoYGffTRR9q6dWvr666mTp2qrVu36qOPPlJDQ4Py8/N19uxZJSYmWpwKAAD4C1sWrODgYG3YsEFBQUFKSkpSUlKS%2BvTpo%2BXLl8vlcmn9%2BvXauXOnhg8frqysLGVlZWnEiBGSpJEjR2rRokVavHixhg0bprfeekuvvPKKIiIiLE4FAAD8hS0vEUpS79699fzzz3/ttsGDB2vTpk3feNuJEydq4sSJvhoNAADYnC3PYAEAAFiJggUAAGAYBQsAAMAwChYAAIBhFCwAAADDKFgAAACGUbAAAAAMo2ABAAAYRsECAAAwjIIFAABgGAULAADAMAoWAACAYRQsAAAAwyhYAAAAhlGwAAAADKNgAQAAGEbBAgAAMIyCBQAAYBgFCwAAwDAKFgAAgGEULAAAAMMoWAAAAIZRsAAAAAyjYAEAABhGwQIAADCMggUAAGAYBQsAAMAwChYAAIBhFCwAAADDKFgAAACGUbAAAAAMo2ABAAAYRsECAAAwjIIFAABgGAULAADAMAoWAACAYRQsAAAAwyhYAAAAhlGwAAAADKNgAQAAGNYhBevs2bNKTU3V0KFDNXz4cGVnZ6uxsbF1%2B%2BHDhzVt2jTFxcUpISFBr7/%2BekeMBQAA4BMdUrAyMjIUEhKi999/X0VFRdq3b5/y8/MlSVVVVZo1a5YmTZqk4uJiZWdnKycnR0eOHOmI0QAAAIzzecE6deqUDhw4oMzMTDmdTvXt21epqakqKCiQJO3atUsRERGaPn26HA6HRo4cqeTk5NbtAAAA/sbhbePKlSs1efJkxcTEXPUBSkpKFBERod69e7eu9evXT2VlZTp//rxKSkrUv39/j9tER0erqKjoqo9ptfLycrndbo81hyNEkZGRRo8TFORfL6FzONo37%2BVc/pavPeyaza65JLL5I7vmkuybzY65vBasQ4cOKT8/X7GxsZoyZYrGjRun8PDwKzpATU2NnE6nx9rl72tra792e7du3VRbW3tFx%2BlMCgsLlZeX57GWlpam9PR0iybqHFyu0CvaPzzc%2Be07%2BSm7ZrNrLols/siuuST7ZrNTLq8F67XXXtPJkyf1xz/%2BUa%2B88opWrFihsWPHavLkyRo1apQCAgK%2B9QAhISGqq6vzWLv8fWhoqJxOpy5cuOCxvb6%2BXqGhV/afcWeSkpKihIQEjzWHI0QVFTVGj%2BNvTb%2B9%2BYOCAhUe7tT583Vqamr28VQdy67Z7JpLIps/smsuyb7ZfJnrSp/cm%2BK1YEnSLbfcorlz52ru3Lk6cOCAdu3apTlz5uiGG27Q5MmTlZKS4nH57x/FxMSosrJSZ86cUc%2BePSVJJ06cUJ8%2BfRQWFqb%2B/fvrww8/9LhNaWnpNV2WtFpkZGSby4Fu9wU1NtrnH8PVuNL8TU3Ntv2Z2TWbXXNJZPNHds0l2TebnXK1%2BxTIkSNHtGvXLu3atUuSFB8fr0OHDumHP/yh3nzzzW%2B8XVRUlIYMGaLly5erurpaX3zxhdasWaOpU6dKkhITE3XmzBnl5%2BeroaFBH330kbZu3aopU6ZcYzQAAABreD2D9fe//11vvPGG3njjDZ08eVJ33HGHnnjiCd13333q3r27JGn16tVavny5JkyY8I33k5ubqyVLlmjs2LEKDAzUpEmTlJqaKklyuVxav369srOzlZubqx49eigrK0sjRowwGBMAAKDjeC1YCQkJuvHGG5WcnKy8vDz169evzT633367oqKivB6kZ8%2Beys3N/cbtgwcP1qZNm9o3MQAAQCfntWCtXr1ad911l4KCglrXLl68qK5du7Z%2BP3bsWI0dO9Z3EwIAAPgZr6/BGjVqlBYsWKCXXnqpde2HP/yhsrKydOnSJZ8PBwAA4I%2B8FqycnBwdPnxY8fHxrWtZWVkqLi7W888/7/PhAAAA/JHXgvXOO%2B9o5cqVGjp0aOtaYmKisrOztW3bNp8PBwAA4I%2B8Fqza2lqFhYW1WXe5XG0%2BHBQAAABf8Vqw4uLitHbtWjU1NbWutbS06He/%2B50GDx7s8%2BEAAAD8kdd3Ef785z/Xj3/8Yx08eFCxsbEKCAjQ0aNHVVlZqfXr13fUjAAAAH7F6xmsQYMGadu2bRo/frwaGhrU3Nys8ePHa8eOHbrjjjs6akYAAAC/8q1/i/Dmm2/Wz3/%2B846YBQAAwBba/bcIAQAA0D4ULAAAAMMoWAAAAIZRsAAAAAyjYAEAABhGwQIAADCMggUAAGAYBQsAAMAwChYAAIBhFCwAAADDKFgAAACGUbAAAAAMo2ABAAAYRsECAAAwjIIFAABgGAULAADAMAoWAACAYRQsAAAAwyhYAAAAhlGwAAAADKNgAQAAGEbBAgAAMIyCBQAAYBgFCwAAwDAKFgAAgGEULAAAAMMoWAAAAIZRsAAAAAyjYAEAABhGwQIAADCMggUAAGAYBaudTp48qRkzZiguLk633XabYmNjtXnz5tbte/fuVXJysr773e/q3nvv1Z49eyycFgAAWImC1Q4NDQ16/PHHNXjwYO3fv1/Dhg1Tc3Ozzp07J0n67LPPNGfOHP3sZz/TwYMHNWfOHGVkZOj06dMWTw4AAKxAwWqH4uJilZeXKz09XWvXrtV3vvMdBQcHq6CgQJK0ZcsWDR06VHfffbccDofuu%2B8%2BxcfHq7Cw0OLJAQCAFRxWD%2BAPSkpKdMstt%2Bjjjz/WW2%2B9pf/4j//Q3r17deHCBUlSaWmp%2Bvfv37p/eXm5IiIiVFxcrKNHj0qSHI4QRUZGGp0rKMi/%2BrHD0b55L%2Bfyt3ztYddsds0lkc0f2TWXZN9sdsxFwWqHmpoa1dfX6%2Bmnn1Zubq5CQ0PVrVs3ud3u1u1Op7N1/8LCQm3dulWSNHnyZElSWlqa0tPTO374TsTlCr2i/cPDnd%2B%2Bk5%2Byaza75pLI5o/smkuybzY75aJgtUNISIhOnjypJ598UoMGDZIk1dfXKzT0q8LgdDpVX1/fun9KSopOnTql06dP66mnnpL01Rmsiooao3P5W9Nvb/6goECFhzt1/nydmpqafTxVx7JrNrvmksjmj%2ByaS7JvNl/mutIn96ZQsNrhhhtuUFBQkHJzc/Xiiy9Kki5cuKCuXbvqscce04ABA1ovBUpSZGSkKisrNWTIEMXGxkqS3O4Lamy0zz%2BGq3Gl%2BZuamm37M7NrNrvmksjmj%2ByaS7JvNjvl8q9TIBZJTk5W79699S//8i/68MMPtXHjRkVGRmrx4sVau3atJkyYoAMHDmj79u1qbGzU9u3bdeDAAU2cONHq0QEAgAUoWO3gcDi0fv16ffrppxo1apRmzZqlqqqq1u39%2BvXTiy%2B%2BqLVr1yo%2BPl5r1qzR6tWrdcstt1g4NQAAsAqXCNvpn/7pn/Tb3/72G7ePHj1ao0eP7sCJAABAZ8UZLAAAAMMoWAAAAIZRsAAAAAyjYAEAABhGwQIAADCMggUAAGAYBQsAAMAwChYAAIBhFCwAAADDKFgAAACGUbAAAAAMo2ABAAAYRsECAAAwjIIFAABgGAULAADAMAoWAACAYRQsAAAAwyhYAAAAhlGwAAAADKNgAQAAGEbBAgAAMIyCBQAAYBgFCwAAwDAKFgAAgGEULAAAAMMoWAAAAIZRsAAAAAyjYAEAABhGwQIAADCMggUAAGAYBQsAAMAwChYAAIBhFCwAAADDKFgAAACGUbAAAAAMo2ABAAAYRsECAAAwjIIFAABgGAULAADAMAoWAACAYQ6rB4Cn8%2BfP64UXVmn//j%2BroaFRAwferieeyFBMzG1Wj2YbBQW/09q1L8rhCFZYWJgmTpysf/3XWVaPBQCwEc5gdTIrVy5VTU21Nm36o7Zvf0cDB8bqqad%2BYfVYtrFjxza9/HKexoy5S1u3vq2oqFv0%2B9%2B/qnff/T9WjwYAsBEKVifzy1/maMmSFQoLC1Ntba2qqy8oIsJl9Vi28eabWxQYGKhFi5YpNLS7/v3fV6u5uUWbN79m9WgAABvhEmEn43A45HA4tHbti9q4MV8hISH6t3/7tdVj2cbJk/%2Blfv1iFBwcLOmrn3dU1C0qLf3U4skAAHZCwfKB8vJyud1ujzWHI0SRkZHtvo9HHnlUjz76mIqKXtO8eXO0cWOhbr75f3nsExTkXycgHY72zXs5ly/y1dXVKiTE6TGL09lNdXV17Z7vWvgym5Xsmksimz%2Byay7JvtnsmIuC5QOFhYXKy8vzWEtLS1N6evoV3Evo/9zuMb311hs6eHCfBg2aaW5IC7hcoVe0f3i40/gMTqdTDQ2XPGZpbGxQaGjoFc93LXyRrTOway6JbP7Irrkk%2B2azUy4Klg%2BkpKQoISHBY83hCFFFRc233vbRR2fqwQd/pISEu1vX6usvyuHo1ub2/tb025Nf%2BipXeLhT58/Xqamp2egMt9zST59%2Bekxud5UcDocaGxtUWlqqAQMGtnu%2Ba%2BHLbFayay6JbP7Irrkk%2B2bzZa6OfPL8/6Ng%2BUBkZGSby4Fu9wU1Nn77L83AgbH6zW9eVv/%2BA9Wjx43asOF/69KlSxo5cnS7bt%2BZXen8TU3NxjMnJd2nTz45ogULntTixdlavPgZXbx4UUlJ4zr05%2BuLbJ2BXXNJZPNHds0l2TebnXJRsDqZxx%2Bfo8DAID322E/U2Nig2NjB%2BvWvX1J4eLjVo9nCxImTVV19QS%2B/nKfx4xNVX1%2Bnxx9/QhMm3G/1aAAAG6FgdTJdunTRE09k6IknMqwexZYCAgL0ox/N1I9%2BNNPqUQAANuZfL%2BIBAADwAxQsAAAAwyhYAAAAhlGwAAAADKNgAQAAGEbBAgAAMIyCBQAAYBgFCwAAwDAKFgAAgGEULAAAAMMoWAAAAIZRsAAAAAyjYAEAABhGwQIAADCMggUAAGAYBQsAAMAwChYAAIBhFCwAAADDKFgAAACGUbAAAAAMo2ABAAAYRsECAAAwjIIFAABgGAULAADAMAoWAACAYRQsAAAAwyhYAAAAhlGwAAAADKNgAQAAGEbBAgAAMIyCBQAAYBgFCwAAwDAKFgAAgGEULAAAAMMoWAAAAIZRsAAAAAyjYAEAABjm%2BLYd6urq9Omnn6qhoUEtLS0e2%2BLj4302GAAAgL/yWrD%2B9Kc/KTMzU9XV1W3KVUBAgP72t7/5dDgAAAB/5LVgPffccxo6dKh%2B9rOfKSwsrKNmAgAA8GteC9apU6f0wgsvKDo6uqPm6RDHjh3TypUrdfToUQUHB2vUqFF66qmn1KNHDx0%2BfFjLli1TaWmpXC6XZs%2BerWnTprXedsuWLVqzZo3cbrduvfVWLVy4UHFxcRam8R/3vvCh1SNckR0Zo6weAQDgp7y%2ByD0qKkrnzp3rqFk6RH19vX76058qLi5OH3zwgbZt26bKyko9/fTTqqqq0qxZszRp0iQVFxcrOztbOTk5OnLkiCRp//79Wrp0qVasWKHi4mJNmDBBs2fPVl1dncWpAABAZ%2BK1YGVmZmrp0qV699139dlnn6msrMzjyx%2BVlZVpwIABSktLU5cuXeRyuZSSkqLi4mLt2rVLERERmj59uhwOh0aOHKnk5GQVFBRIkl5//XWNGzdOQ4YMUXBwsGbOnCmXy6Xt27dbnAoAAHQmXi8Rzpo1S5KUmpqqgICA1vWWlha/fZH7rbfeqnXr1nmsvf3224qNjVVJSYn69%2B/vsS06OlpFRUWSpNLSUk2ZMqXN9mPHjvl2aAAA4Fe8FqxXX321o%2BawREtLi1544QXt2bNHGzdu1Kuvviqn0%2BmxT7du3VRbWytJqqmp8br9svLycrndbo81hyNEkZGRRucPCuJjzHzJ4TD/8738mNntsbNrLols/siuuST7ZrNjLq8Fa9iwYR01R4errq7WggULdPToUW3cuFG33XabnE6nLly44LFffX29QkNDJUlOp1P19fVttrtcLo%2B1wsJC5eXleaylpaUpPT3dB0ngKy5XqM/uOzzc%2Be07%2BSG75pLI5o/smkuybzY75frWDxq1o88//1yPPvqobrrpJhUVFalHjx6SpP79%2B%2BvDDz3f6VZaWqqYmBhJUkxMjEpKStpsHzNmjMdaSkqKEhISPNYcjhBVVNQYzWGnpt8ZmX68pK8es/Bwp86fr1NTU7Px%2B7eKXXNJZPNHds0l2TebL3P58smyN9ddwaqqqtKMGTM0YsQIZWdnKzDw/5WUxMRErVq1Svn5%2BZo%2BfboOHTqkrVu3as2aNZKkqVOnKi0tTffee6%2BGDBmigoICnT17VomJiR7HiIyMbHM50O2%2BoMZG%2B/xjuB748vFqamq25e%2BDXXNJZPNHds0l2TebnXJddwVr8%2BbNKisr044dO7Rz506PbX/5y1%2B0fv16ZWdnKzc3Vz169FBWVpZGjBghSRo5cqQWLVqkxYsX6/Tp04qOjtYrr7yiiIgIK6IAAIBOKqDlH/8GDnzC7b7w7TtdIYcjUInPvW/8fvEVX3zQqMMRKJcrVBUVNbZ5libZN5dENn9k11ySfbP5MlevXtb8JRpexAMAAGAYBQsAAMAwChYAAIBhFCwAAADDKFgAAACGUbAAAAAMo2ABAAAYRsECAAAwjIIFAABgGAULAADAMAoWAACAYRQsAAAAwyhYAAAAhlGwAAAADKNgAQAAGEbBAgAAMIyCBQAAYBgFCwAAwDAKFgAAgGEULAAAAMMoWAAAAIZRsAAAAAxzeNuYkJCggICAb9z%2BzjvvGB8IAADA33ktWPfff79HwWpoaNCpU6f03nvvKSMjw%2BfDAQAA%2BCOvBWvOnDlfu75x40YdOnRIDz/8sE%2BGAgAA8GdX9Rqsu%2B66S3v37jU9CwAAgC1cVcE6cOCAunbtanoWAAAAW/B6ifAfLwG2tLSourpax48f5/IgAADAN/BasG666aY27yIMDg7WjBkzlJyc7NPBAAAA/JXXgrVixYqOmgMAAMA2vBas4uLidt9RfHz8NQ8DAABgB14L1syZM9XS0tL6ddnly4aX1wICAvS3v/3Nh2MCAAD4D68Fa/Xq1crJydH8%2BfM1YsQIBQcH6/Dhw1q8eLEeeugh3XXXXR01JwAAgN/w%2BjENK1eu1KJFi3T33Xere/fu6tq1q4YNG6YlS5Zo/fr1uvnmm1u/AAAA8BWvBau8vFzf%2Bc532qx3795dFRUVPhsKAADAn3ktWN/97nf1q1/9StXV1a1rlZWVWrVqlUaOHOnz4QAAAPyR19dgZWVlacaMGRozZoyioqIkSSdPnlSvXr306quvdsR8AAAAfsdrwerXr5%2B2b9%2BurVu36sSJE5Kkhx56SOPGjZPT6eyQAQEAAPyN14IlSeHh4Zo2bZq%2B/PJL9e3bV9JXn%2BYOAACAr%2Bf1NVgtLS167rnnFB8fr/Hjx%2Bu///u/NX/%2BfC1YsEANDQ0dNSMAAIBf8VqwNmzYoDfeeEOLFi1Sly5dJEl333233n33Xf3617/ukAGvxtmzZ5WamqqhQ4dq%2BPDhys7OVmNjY%2Bv2w4cPa9q0aYqLi1NCQoJef/11C6cFAAB247VgFRYW6tlnn9XkyZNbP739vvvuU3Z2tt56660OGfBqZGRkKCQkRO%2B//76Kioq0b98%2B5efnS5Kqqqo0a9YsTZo0ScXFxcrOzlZOTo6OHDli7dAAAMA2vBasL7/8UgMHDmyzftttt%2BnMmTM%2BG%2BpanDp1SgcOHFBmZqacTqf69u2r1NRUFRQUSJJ27dqliIgITZ8%2BXQ6HQyNHjlRycnLrdgAAgGvltWDdfPPNX3tmZ%2B/eva0veO9sSkpKFBERod69e7eu9evXT2VlZTp//rxKSkrUv39/j9tER0fr2LFjHT0qAACwKa/vInzkkUf0y1/%2BUqdPn1ZLS4v27dunTZs2acOGDVqwYEFHzXhFampq2nyExOXva2trv3Z7t27dVFtba2yG8vJyud1ujzWHI0SRkZHGjiFJQUFe%2BzGukcNh/ud7%2BTGz22Nn11wS2fyRXXNJ9s1mx1xeC9aUKVPU2Niol156SfX19Xr22Wd14403au7cuXrwwQc7asYrEhISorq6Oo%2B1y9%2BHhobK6XTqwoULHtvr6%2BsVGhpqbIbCwkLl5eV5rKWlpSk9Pd3YMeB7Lpe534l/FB5uz8%2BRs2suiWz%2ByK65JPtms1MurwXrzTff1D333KOUlBSdO3dOLS0tuvHGGztqtqsSExOjyspKnTlzRj179pQknThxQn369FFYWJj69%2B%2BvDz/80OM2paWliomJMTZDSkqKEhISPNYcjhBVVNQYO4Zkr6bfGZl%2BvKSvHrPwcKfOn69TU1Oz8fu3il1zSWTzR3bNJdk3my9z%2BfLJsjdeC9ayZcsUGxurG264QT169Oioma5JVFSUhgwZouXLl2vJkiWqqKjQmjVrNHXqVElSYmKiVq1apfz8fE2fPl2HDh3S1q1btWbNGmMzREZGtrkc6HZfUGOjff4xXA98%2BXg1NTXb8vfBrrkksvkju%2BaS7JvNTrm8ngKJiorS8ePHO2oWY3Jzc9XY2KixY8fqgQce0OjRo5WamipJcrlcWr9%2BvXbu3Knhw4crKytLWVlZGjFihMVTAwAAu/B6BismJkbz5s3TunXrFBUVpa5du3psz8nJ8elwV6tnz57Kzc39xu2DBw/Wpk2bOnAiAABwPfFasD7//HMNGTJEktq8Kw4AAABfz2vB2rBhQ0fNAQAAYBttXoOVk5Nj9DOhAAAArjdtCtarr77a5nOkHnnkEZWXl3fYUAAAAP6sTcFqaWlps9PHH3%2BsixcvdshAAAAA/o5PqgQAADCMggUAAGDY1xasgICAjp4DAADANr72YxqWLVvm8aGiDQ0NWrVqVZs/iNxZP2gUAADASm0KVnx8fJsPFY2Li1NFRYUqKio6bDAAAAB/1aZg8eGiAAAA14YXuQMAABhGwQIAADCMggUAAGAYBQsAAMAwChYAAIBhFCwAAADDKFgAAACGUbAAAAAMo2ABAAAYRsECAAAwjIIFAABgGAULAADAMAoWAACAYRQsAAAAwyhYAAAAhlGwAAAADKNgAQAAGEbBAgAAMIyCBQAAYBgFCwAAwDCH1QMAndW9L3xo9QhXZEfGKKtHAAD8D85gAQAAGEbBAgAAMIyCBQAAYBgFCwAAwDBe5A4A32LoMzutHuGK8IYHwHoULMAm/OldjxQAAHbHJUIAAADDKFgAAACGUbAAAAAM4zVYAADYlD%2B9NvNg9j1Wj2AUBcuPffHF51aPAKAT8qf/VHnDA%2ByKS4R%2B7OTJ/7J6BAAA8DU4g%2BUD5eXlcrvdHmsOR4giIyONHqeurk5Sd6P3CXQEh8N/ntsFBfnhWWtoAAAIS0lEQVTPrP7IF78Llx8zOz52ds4m2SsXBcsHCgsLlZeX57H2xBNPaM6cOUaP43BIDdvma/fu3a3l7fjx45owYYIOHjyosLAwo8frKOXl5SosLFRKSorxUmo1u2azay7pq2wz%2BpTYNpsdH7fy8nL97nfrbJdLuvJs/vK6pvLycq1evdpWj5l9qmInkpKSos2bN3t8paSkGD/ODTfcoPr6epWUlLSunThxQn369PHbciVJbrdbeXl5bc4C2oFds9k1l0Q2f2TXXJJ9s9kxF2ewfCAyMrJDGvhNN90kSVq/fr3uuOMOVVRUaM2aNZo6darPjw0AAL4ZBcsGmpqaNHbsWAUGBmrSpElKTU21eiQAAK5rFCwbyMzMVGxsrNVjAACA/xG0ePHixVYPgasXGhqqYcOGKTQ01OpRjLJrLsm%2B2eyaSyKbP7JrLsm%2B2eyWK6ClpaXF6iEAAADshHcRAgAAGEbBAgAAMIyCBQAAYBgFCwAAwDAKFgAAgGEULAAAAMMoWOiUzp07p8TERO3fv79d%2Bx87dkw/%2BclPNGzYMI0aNUpPPvmkzp075%2BMpgc5t%2B/btuv322xUXF9f6lZmZafVYgIejR49q%2BvTpGjp0qO68804tW7ZMly5dsnqsa0bBQqdz6NAhpaSk6PPPP2/X/vX19frpT3%2BquLg4ffDBB9q2bZsqKyv19NNP%2B3hSoHP761//qokTJ%2Bovf/lL69eqVausHgto1dzcrMcee0xJSUk6cOCAioqK9MEHH%2BiVV16xerRrRsHyU2fPnlVqaqqGDh2q4cOHKzs7W42NjVaPdc22bNmiefPmae7cue2%2BTVlZmQYMGKC0tDR16dJFLpdLKSkpKi4u9uGk%2BCb79u3TtGnT9L3vfU%2BjRo3S0qVLVV9fb/VY16W//vWvGjRokNVjGFdZWaknn3xSw4cPV3x8vFJTU1VeXm71WD7z5ptvepyFjIuL06BBg2zx2FZVVcntdqu5uVmXP/c8MDBQTqfT4smuHQXLT2VkZCgkJETvv/%2B%2BioqKtG/fPuXn51s91jW78847tXv3bt13333tvs2tt96qdevWKSgoqHXt7bff5u8zWuDcuXN67LHH9OCDD%2BrgwYPasmWLDhw4oN/85jdWj3bdaW5u1tGjR/WnP/1Jd911l8aMGaOFCxeqqqrK6tGu2Zw5c1RbW6vdu3drz549CgoK0sKFC60ey2cmTJjgcRZy586dioiIUHZ2ttWjXTOXy6WZM2dq5cqVGjx4sH7wgx8oKipKM2fOtHq0a0bB8kOnTp3SgQMHlJmZKafTqb59%2Byo1NVUFBQVWj3bNevXqJYfj6v8GeUtLi55//nnt2bNHzzzzjMHJ0B49evTQn//8Z02ePFkBAQGqrKzUxYsX1aNHD6tHu%2B6cO3dOt99%2Bu5KSkrR9%2B3Zt2rRJn332md%2B/BuuTTz7R4cOHtWLFCoWHh6t79%2B5aunSp5s2bZ/VoHaKlpUWZmZn653/%2BZ02cONHqca5Zc3OzunXrpoULF%2Bo///M/tW3bNp04cUK5ublWj3bNKFh%2BqKSkRBEREerdu3frWr9%2B/VRWVqbz589bOJm1qqurlZ6erq1bt2rjxo267bbbrB7putS9e3dJ0g9%2B8AMlJyerV69emjx5ssVTXX969uypgoICTZ06VU6nUzfddJMyMzP13nvvqbq62urxrtqRI0cUHR2t1157TYmJibrzzju1cuVK9erVy%2BrROsQbb7yh0tJSPfXUU1aPYsTu3bv19ttv66GHHlKXLl0UExOjtLQ0/eEPf7B6tGtGwfJDNTU1ba5PX/6%2BtrbWipEs9/nnn2vKlCmqrq5WUVER5aoT2LVrl9577z0FBgYqPT3d6nGuO8eOHdNzzz3X%2BroWSbp06ZICAwPVpUsXCye7NlVVVTp%2B/Lg%2B%2B%2BwzbdmyRX/84x91%2BvRpzZ8/3%2BrRfK65uVkvvfSSHn/88dYnMv7u73//e5t3DDocDgUHB1s0kTkULD8UEhKiuro6j7XL34eGhloxkqWqqqo0Y8YMfe9739Nvf/tbLkd1Et26dVPv3r2VmZmp999/3xav/fEnERERKigo0Lp169TY2KiysjKtWrVK999/v18XrMuzP/PMM%2Brevbt69uypjIwM7d27VzU1NRZP51v79%2B9XeXm5pk6davUoxtx5551yu916%2BeWX1dTUpC%2B%2B%2BEIvvfSSkpOTrR7tmlGw/FBMTIwqKyt15syZ1rUTJ06oT58%2BCgsLs3Aya2zevFllZWXasWOHhgwZ4vFOG3Ssjz/%2BWPfcc4/HM9JLly4pODjYFu8K8id9%2BvTR2rVr9c4772jYsGGaMmWKBg8erGeffdbq0a5JdHS0mpub1dDQ0LrW3NwsSR5n6%2Bzo7bffVmJiokJCQqwexZjo6GitXbtW7777roYPH66HH35YCQkJV/RO8s4qoMXuv5E29dBDD6lPnz5asmSJKioqNHv2bCUlJWnOnDlWj4brWE1NjcaNG6ekpCT94he/kNvtVkZGhmJjY7V48WKrx4MNNDQ0aNy4cRowYIBycnJ08eJFzZ07V2FhYcrLy7N6PJ9KTk7Www8/rGnTplk9CtqBM1h%2BKjc3V42NjRo7dqweeOABjR49WqmpqVaPhetcaGio1q1bp5KSEo0aNUo//vGP9f3vf58PfYUxwcHB2rBhg4KCgpSUlKSkpCT16dNHy5cvt3o0n/vyyy8VGRlp9RhoJ85gAQAAGMYZLAAAAMMoWAAAAIZRsAAAAAyjYAEAABhGwQIAADCMggUAAGAYBQsAAMAwChYAAIBhFCwAAADDKFgAAACGUbAAAAAMo2ABAAAYRsECAAAwjIIFAABgGAULAADAsP8L2AGUkQZISEIAAAAASUVORK5CYII%3D\"/>\n",
       "        </div>\n",
       "        <div role=\"tabpanel\" class=\"tab-pane col-md-12\" id=\"common697864874961638462\">\n",
       "            \n",
       "<table class=\"freq table table-hover\">\n",
       "    <thead>\n",
       "    <tr>\n",
       "        <td class=\"fillremaining\">Value</td>\n",
       "        <td class=\"number\">Count</td>\n",
       "        <td class=\"number\">Frequency (%)</td>\n",
       "        <td style=\"min-width:200px\">&nbsp;</td>\n",
       "    </tr>\n",
       "    </thead>\n",
       "    <tr class=\"\">\n",
       "        <td class=\"fillremaining\">0</td>\n",
       "        <td class=\"number\">608</td>\n",
       "        <td class=\"number\">68.2%</td>\n",
       "        <td>\n",
       "            <div class=\"bar\" style=\"width:100%\">&nbsp;</div>\n",
       "        </td>\n",
       "</tr><tr class=\"\">\n",
       "        <td class=\"fillremaining\">1</td>\n",
       "        <td class=\"number\">209</td>\n",
       "        <td class=\"number\">23.5%</td>\n",
       "        <td>\n",
       "            <div class=\"bar\" style=\"width:35%\">&nbsp;</div>\n",
       "        </td>\n",
       "</tr><tr class=\"\">\n",
       "        <td class=\"fillremaining\">2</td>\n",
       "        <td class=\"number\">28</td>\n",
       "        <td class=\"number\">3.1%</td>\n",
       "        <td>\n",
       "            <div class=\"bar\" style=\"width:5%\">&nbsp;</div>\n",
       "        </td>\n",
       "</tr><tr class=\"\">\n",
       "        <td class=\"fillremaining\">4</td>\n",
       "        <td class=\"number\">18</td>\n",
       "        <td class=\"number\">2.0%</td>\n",
       "        <td>\n",
       "            <div class=\"bar\" style=\"width:3%\">&nbsp;</div>\n",
       "        </td>\n",
       "</tr><tr class=\"\">\n",
       "        <td class=\"fillremaining\">3</td>\n",
       "        <td class=\"number\">16</td>\n",
       "        <td class=\"number\">1.8%</td>\n",
       "        <td>\n",
       "            <div class=\"bar\" style=\"width:3%\">&nbsp;</div>\n",
       "        </td>\n",
       "</tr><tr class=\"\">\n",
       "        <td class=\"fillremaining\">8</td>\n",
       "        <td class=\"number\">7</td>\n",
       "        <td class=\"number\">0.8%</td>\n",
       "        <td>\n",
       "            <div class=\"bar\" style=\"width:2%\">&nbsp;</div>\n",
       "        </td>\n",
       "</tr><tr class=\"\">\n",
       "        <td class=\"fillremaining\">5</td>\n",
       "        <td class=\"number\">5</td>\n",
       "        <td class=\"number\">0.6%</td>\n",
       "        <td>\n",
       "            <div class=\"bar\" style=\"width:1%\">&nbsp;</div>\n",
       "        </td>\n",
       "</tr>\n",
       "</table>\n",
       "        </div>\n",
       "        <div role=\"tabpanel\" class=\"tab-pane col-md-12\"  id=\"extreme697864874961638462\">\n",
       "            <p class=\"h4\">Minimum 5 values</p>\n",
       "            \n",
       "<table class=\"freq table table-hover\">\n",
       "    <thead>\n",
       "    <tr>\n",
       "        <td class=\"fillremaining\">Value</td>\n",
       "        <td class=\"number\">Count</td>\n",
       "        <td class=\"number\">Frequency (%)</td>\n",
       "        <td style=\"min-width:200px\">&nbsp;</td>\n",
       "    </tr>\n",
       "    </thead>\n",
       "    <tr class=\"\">\n",
       "        <td class=\"fillremaining\">0</td>\n",
       "        <td class=\"number\">608</td>\n",
       "        <td class=\"number\">68.2%</td>\n",
       "        <td>\n",
       "            <div class=\"bar\" style=\"width:100%\">&nbsp;</div>\n",
       "        </td>\n",
       "</tr><tr class=\"\">\n",
       "        <td class=\"fillremaining\">1</td>\n",
       "        <td class=\"number\">209</td>\n",
       "        <td class=\"number\">23.5%</td>\n",
       "        <td>\n",
       "            <div class=\"bar\" style=\"width:35%\">&nbsp;</div>\n",
       "        </td>\n",
       "</tr><tr class=\"\">\n",
       "        <td class=\"fillremaining\">2</td>\n",
       "        <td class=\"number\">28</td>\n",
       "        <td class=\"number\">3.1%</td>\n",
       "        <td>\n",
       "            <div class=\"bar\" style=\"width:5%\">&nbsp;</div>\n",
       "        </td>\n",
       "</tr><tr class=\"\">\n",
       "        <td class=\"fillremaining\">3</td>\n",
       "        <td class=\"number\">16</td>\n",
       "        <td class=\"number\">1.8%</td>\n",
       "        <td>\n",
       "            <div class=\"bar\" style=\"width:3%\">&nbsp;</div>\n",
       "        </td>\n",
       "</tr><tr class=\"\">\n",
       "        <td class=\"fillremaining\">4</td>\n",
       "        <td class=\"number\">18</td>\n",
       "        <td class=\"number\">2.0%</td>\n",
       "        <td>\n",
       "            <div class=\"bar\" style=\"width:3%\">&nbsp;</div>\n",
       "        </td>\n",
       "</tr>\n",
       "</table>\n",
       "            <p class=\"h4\">Maximum 5 values</p>\n",
       "            \n",
       "<table class=\"freq table table-hover\">\n",
       "    <thead>\n",
       "    <tr>\n",
       "        <td class=\"fillremaining\">Value</td>\n",
       "        <td class=\"number\">Count</td>\n",
       "        <td class=\"number\">Frequency (%)</td>\n",
       "        <td style=\"min-width:200px\">&nbsp;</td>\n",
       "    </tr>\n",
       "    </thead>\n",
       "    <tr class=\"\">\n",
       "        <td class=\"fillremaining\">2</td>\n",
       "        <td class=\"number\">28</td>\n",
       "        <td class=\"number\">3.1%</td>\n",
       "        <td>\n",
       "            <div class=\"bar\" style=\"width:100%\">&nbsp;</div>\n",
       "        </td>\n",
       "</tr><tr class=\"\">\n",
       "        <td class=\"fillremaining\">3</td>\n",
       "        <td class=\"number\">16</td>\n",
       "        <td class=\"number\">1.8%</td>\n",
       "        <td>\n",
       "            <div class=\"bar\" style=\"width:57%\">&nbsp;</div>\n",
       "        </td>\n",
       "</tr><tr class=\"\">\n",
       "        <td class=\"fillremaining\">4</td>\n",
       "        <td class=\"number\">18</td>\n",
       "        <td class=\"number\">2.0%</td>\n",
       "        <td>\n",
       "            <div class=\"bar\" style=\"width:64%\">&nbsp;</div>\n",
       "        </td>\n",
       "</tr><tr class=\"\">\n",
       "        <td class=\"fillremaining\">5</td>\n",
       "        <td class=\"number\">5</td>\n",
       "        <td class=\"number\">0.6%</td>\n",
       "        <td>\n",
       "            <div class=\"bar\" style=\"width:18%\">&nbsp;</div>\n",
       "        </td>\n",
       "</tr><tr class=\"\">\n",
       "        <td class=\"fillremaining\">8</td>\n",
       "        <td class=\"number\">7</td>\n",
       "        <td class=\"number\">0.8%</td>\n",
       "        <td>\n",
       "            <div class=\"bar\" style=\"width:25%\">&nbsp;</div>\n",
       "        </td>\n",
       "</tr>\n",
       "</table>\n",
       "        </div>\n",
       "    </div>\n",
       "</div>\n",
       "</div><div class=\"row variablerow\">\n",
       "    <div class=\"col-md-3 namecol\">\n",
       "        <p class=\"h4 pp-anchor\" id=\"pp_var_survived\">survived<br/>\n",
       "            <small>Boolean</small>\n",
       "        </p>\n",
       "    </div><div class=\"col-md-6\">\n",
       "    <div class=\"row\">\n",
       "        <div class=\"col-sm-6\">\n",
       "            <table class=\"stats \">\n",
       "                <tr class=\"\">\n",
       "                    <th>Distinct count</th>\n",
       "                    <td>2</td>\n",
       "                </tr>\n",
       "                <tr>\n",
       "                    <th>Unique (%)</th>\n",
       "                    <td>0.2%</td>\n",
       "                </tr>\n",
       "                <tr class=\"ignore\">\n",
       "                    <th>Missing (%)</th>\n",
       "                    <td>0.0%</td>\n",
       "                </tr>\n",
       "                <tr class=\"ignore\">\n",
       "                    <th>Missing (n)</th>\n",
       "                    <td>0</td>\n",
       "                </tr>\n",
       "            </table>\n",
       "        </div>\n",
       "        <div class=\"col-sm-6\">\n",
       "            <table class=\"stats \">\n",
       "                <tr>\n",
       "                    <th>Mean</th>\n",
       "                    <td>0.38384</td>\n",
       "                </tr>\n",
       "            </table>\n",
       "        </div>\n",
       "    </div>\n",
       "</div>\n",
       "<div class=\"col-md-3 collapse in\" id=\"minifreqtable4619168121201800727\">\n",
       "    <table class=\"mini freq\">\n",
       "        <tr class=\"\">\n",
       "    <th>0</th>\n",
       "    <td>\n",
       "        <div class=\"bar\" style=\"width:100%\" data-toggle=\"tooltip\" data-placement=\"right\" data-html=\"true\"\n",
       "             data-delay=500 title=\"Percentage: 61.6%\">\n",
       "            549\n",
       "        </div>\n",
       "        \n",
       "    </td>\n",
       "</tr><tr class=\"\">\n",
       "    <th>1</th>\n",
       "    <td>\n",
       "        <div class=\"bar\" style=\"width:62%\" data-toggle=\"tooltip\" data-placement=\"right\" data-html=\"true\"\n",
       "             data-delay=500 title=\"Percentage: 38.4%\">\n",
       "            342\n",
       "        </div>\n",
       "        \n",
       "    </td>\n",
       "</tr>\n",
       "    </table>\n",
       "</div>\n",
       "<div class=\"col-md-12 text-right\">\n",
       "    <a role=\"button\" data-toggle=\"collapse\" data-target=\"#freqtable4619168121201800727, #minifreqtable4619168121201800727\"\n",
       "        aria-expanded=\"true\" aria-controls=\"collapseExample\">\n",
       "        Toggle details\n",
       "    </a>\n",
       "</div>\n",
       "<div class=\"col-md-12 extrapadding collapse\" id=\"freqtable4619168121201800727\">\n",
       "    \n",
       "<table class=\"freq table table-hover\">\n",
       "    <thead>\n",
       "    <tr>\n",
       "        <td class=\"fillremaining\">Value</td>\n",
       "        <td class=\"number\">Count</td>\n",
       "        <td class=\"number\">Frequency (%)</td>\n",
       "        <td style=\"min-width:200px\">&nbsp;</td>\n",
       "    </tr>\n",
       "    </thead>\n",
       "    <tr class=\"\">\n",
       "        <td class=\"fillremaining\">0</td>\n",
       "        <td class=\"number\">549</td>\n",
       "        <td class=\"number\">61.6%</td>\n",
       "        <td>\n",
       "            <div class=\"bar\" style=\"width:100%\">&nbsp;</div>\n",
       "        </td>\n",
       "</tr><tr class=\"\">\n",
       "        <td class=\"fillremaining\">1</td>\n",
       "        <td class=\"number\">342</td>\n",
       "        <td class=\"number\">38.4%</td>\n",
       "        <td>\n",
       "            <div class=\"bar\" style=\"width:62%\">&nbsp;</div>\n",
       "        </td>\n",
       "</tr>\n",
       "</table>\n",
       "</div>\n",
       "</div><div class=\"row variablerow\">\n",
       "    <div class=\"col-md-3 namecol\">\n",
       "        <p class=\"h4 pp-anchor\" id=\"pp_var_who\">who<br/>\n",
       "            <small>Categorical</small>\n",
       "        </p>\n",
       "    </div><div class=\"col-md-3\">\n",
       "    <table class=\"stats \">\n",
       "        <tr class=\"\">\n",
       "            <th>Distinct count</th>\n",
       "            <td>3</td>\n",
       "        </tr>\n",
       "        <tr>\n",
       "            <th>Unique (%)</th>\n",
       "            <td>0.3%</td>\n",
       "        </tr>\n",
       "        <tr class=\"ignore\">\n",
       "            <th>Missing (%)</th>\n",
       "            <td>0.0%</td>\n",
       "        </tr>\n",
       "        <tr class=\"ignore\">\n",
       "            <th>Missing (n)</th>\n",
       "            <td>0</td>\n",
       "        </tr>\n",
       "    </table>\n",
       "</div>\n",
       "<div class=\"col-md-6 collapse in\" id=\"minifreqtable-8065091519680612574\">\n",
       "    <table class=\"mini freq\">\n",
       "        <tr class=\"\">\n",
       "    <th>man</th>\n",
       "    <td>\n",
       "        <div class=\"bar\" style=\"width:100%\" data-toggle=\"tooltip\" data-placement=\"right\" data-html=\"true\"\n",
       "             data-delay=500 title=\"Percentage: 60.3%\">\n",
       "            537\n",
       "        </div>\n",
       "        \n",
       "    </td>\n",
       "</tr><tr class=\"\">\n",
       "    <th>woman</th>\n",
       "    <td>\n",
       "        <div class=\"bar\" style=\"width:50%\" data-toggle=\"tooltip\" data-placement=\"right\" data-html=\"true\"\n",
       "             data-delay=500 title=\"Percentage: 30.4%\">\n",
       "            271\n",
       "        </div>\n",
       "        \n",
       "    </td>\n",
       "</tr><tr class=\"\">\n",
       "    <th>child</th>\n",
       "    <td>\n",
       "        <div class=\"bar\" style=\"width:16%\" data-toggle=\"tooltip\" data-placement=\"right\" data-html=\"true\"\n",
       "             data-delay=500 title=\"Percentage: 9.3%\">\n",
       "            &nbsp;\n",
       "        </div>\n",
       "        83\n",
       "    </td>\n",
       "</tr>\n",
       "    </table>\n",
       "</div>\n",
       "<div class=\"col-md-12 text-right\">\n",
       "    <a role=\"button\" data-toggle=\"collapse\" data-target=\"#freqtable-8065091519680612574, #minifreqtable-8065091519680612574\"\n",
       "       aria-expanded=\"true\" aria-controls=\"collapseExample\">\n",
       "        Toggle details\n",
       "    </a>\n",
       "</div>\n",
       "<div class=\"col-md-12 extrapadding collapse\" id=\"freqtable-8065091519680612574\">\n",
       "    \n",
       "<table class=\"freq table table-hover\">\n",
       "    <thead>\n",
       "    <tr>\n",
       "        <td class=\"fillremaining\">Value</td>\n",
       "        <td class=\"number\">Count</td>\n",
       "        <td class=\"number\">Frequency (%)</td>\n",
       "        <td style=\"min-width:200px\">&nbsp;</td>\n",
       "    </tr>\n",
       "    </thead>\n",
       "    <tr class=\"\">\n",
       "        <td class=\"fillremaining\">man</td>\n",
       "        <td class=\"number\">537</td>\n",
       "        <td class=\"number\">60.3%</td>\n",
       "        <td>\n",
       "            <div class=\"bar\" style=\"width:100%\">&nbsp;</div>\n",
       "        </td>\n",
       "</tr><tr class=\"\">\n",
       "        <td class=\"fillremaining\">woman</td>\n",
       "        <td class=\"number\">271</td>\n",
       "        <td class=\"number\">30.4%</td>\n",
       "        <td>\n",
       "            <div class=\"bar\" style=\"width:50%\">&nbsp;</div>\n",
       "        </td>\n",
       "</tr><tr class=\"\">\n",
       "        <td class=\"fillremaining\">child</td>\n",
       "        <td class=\"number\">83</td>\n",
       "        <td class=\"number\">9.3%</td>\n",
       "        <td>\n",
       "            <div class=\"bar\" style=\"width:16%\">&nbsp;</div>\n",
       "        </td>\n",
       "</tr>\n",
       "</table>\n",
       "</div>\n",
       "</div>\n",
       "    <div class=\"row headerrow highlight\">\n",
       "        <h1>Correlations</h1>\n",
       "    </div>\n",
       "    <div class=\"row variablerow\">\n",
       "    <img src=\"data:image/png;base64,iVBORw0KGgoAAAANSUhEUgAAAnQAAAIoCAYAAADgJXZDAAAABHNCSVQICAgIfAhkiAAAAAlwSFlzAAAPYQAAD2EBqD%2BnaQAAADl0RVh0U29mdHdhcmUAbWF0cGxvdGxpYiB2ZXJzaW9uIDIuMS4xLCBodHRwOi8vbWF0cGxvdGxpYi5vcmcvAOZPmwAAIABJREFUeJzs3X98zfX///Hbfv/ExnZGTH5k9o7KmEkhhuR3P7DefiXx9jVGkpR%2BSomi3jap3iIlMiFReqe3SnrnZ5a3MPnd/Npmfp79sF/n%2B8fa%2BTg2NZ29znF0v14u5/Lanq/n6/V4vp6O7XEez/M6c7NYLBZERERExGW5O3sAIiIiImIfJXQiIiIiLk4JnYiIiIiLU0InIiIi4uKU0ImIiIi4OCV0IiIiIi5OCZ2IiIiIi1NCJyIiIuLilNCJiIiIuDhPZw9ARK4dR48epWPHjlfc7%2BXlRWBgIPXq1aN9%2B/YMHDiQwMBAB45QRETK46Y//SUipS5N6CIiIsokawUFBZw%2BfZpjx44BcMMNN7BgwQJuvPFGh49VRET%2BjxI6EbG6NKH74IMPaNWqVbn9Nm/eTHx8PGazmaioKJYsWeLIYYqIyGX0HjoRuWqtWrXiscceAyAlJYWff/7ZySMSEflrU0InIn9K586drV/v2LHDiSMRERHdFCEif0qVKlWsX2dnZ9vs27p1KwsXLmT79u2cPXuWqlWr0qxZMwYNGkTr1q3LPd/58%2BdZsmQJ69evZ//%2B/ZjNZvz8/Khbty4dOnRg8ODBVKtWzeaYxo0bA/Df//6XadOmsW7dOtzd3WnSpAnz58/H09OTHTt2sGDBAnbv3s2JEyfw8fGhfv36dOrUif79%2B5d7U0deXh5LlixhzZo17N%2B/n4KCAsLCwrjjjjsYOnQo9erVs%2Bm/efNmBg8ezG233caiRYtYuHAhK1eu5MiRI3h5edGkSRMGDRpEp06d/sxUi4j8ISV0IvKnHDlyxPp1zZo1rV/PmDGDuXPnAlCtWjUiIiLIyMhg3bp1rFu3jmHDhjFhwgSbcx0%2BfJghQ4Zw4sQJPD09qVu3LrVr1%2BbYsWPs2rWLXbt28fnnn7N8%2BXICAgLKjCUhIYGUlBQiIiI4ffo0oaGheHp6snbtWsaNG0dhYSHBwcHcdNNNZGdn87///Y8dO3awatUqlixZYpPUnTx5kocffpiDBw8CUK9ePQICAjhw4ADJycmsXLmSadOm0a1btzLjKCgoYPjw4WzcuJHg4GAaNmzIoUOH2LRpE5s2beKFF17g73//u30TLyJSHouIyG/S0tIsERERloiICMumTZt%2Bt%2B8TTzxhiYiIsDRp0sSSmZlpsVgslo8%2B%2BsgSERFhiY6Otnz66afWvsXFxZbPP//c0qxZM0tERIRl6dKlNucaOHCgJSIiwtKvXz9Lenq6zXGffPKJJTIy0hIREWH58MMPbY4rHWvTpk0tW7ZssVgsFktRUZHlzJkzlqKiIsudd95piYiIsMydO9dSWFhoPe7nn3%2B23H777ZaIiAjLO%2B%2B8Y20vLCy09O7d2xIREWHp0qWLZc%2BePdZ9Fy5csDz99NPWa/7pp5%2Bs%2BzZt2mQdS7NmzSyrVq2y7jt//rzloYceskRERFhiYmIsBQUFvzuvIiJ/ht5DJyIVlpeXx%2B7du3n%2B%2BedZuXIlAEOGDCEkJIT8/HySkpIAmDp1Kr169bIe5%2BbmRrdu3ayVuaSkJAoLCwHIyspi3759AEyZMgWTyWRz3L333ktMTAwAe/fuLXdcXbt2pWXLlgC4u7sTFBTE6dOnyczMBKBfv354eHhY%2Bzdp0oRx48bRqVMngoKCrO3//ve/2bNnDz4%2BPsydO5fIyEjrvsDAQF566SXatm1LQUEBb7zxRrljGTNmDD179rR%2BX6VKFet1nz17lkOHDl1hdkVE/jwtuYpIuQYPHvyHffr27cvYsWOBkrtdT506RUBAwBU/nLhXr15MmTKF9PR0du/eza233kqNGjXYtGkTeXl5%2BPr6ljmmqKjIuiSal5dX7nlbtGhRpi04OJhq1apx7tw5Hn/8cUaOHMltt92Gu3vJ69h%2B/frRr18/m2O%2B/vprAGJjYwkPDy831sMPP8yGDRvYsmULFy5csHkvIUCHDh3KHNOwYUPr1%2BfPny/3vCIi9lBCJyLluvyDhd3c3PDx8SEoKIjGjRvTqVMnbrrpJuv%2B0ipbQUEBAwYMuOJ5PTw8KC4u5uDBg9x6663Wdl9fX06cOMGOHTv49ddfSUtL48CBA%2BzZs4ecnBwAiouLyz1naGhouXEef/xxnn32WdavX8/69eupVq0arVq14s4776R9%2B/Y27/0DrNWzJk2aXHH8pfuKioo4cuQITZs2tdkfFhZW5phLE9WioqIrnltE5M9SQici5XrmmWeu%2BMHC5blw4QIA%2Bfn5bN%2B%2B/Q/7X1qpOnjwIK%2B%2B%2Birr16%2B3SdoCAwOJjo4mIyOD1NTUK56rvMoelFThbrzxRt577z1%2B%2BOEHzp07x9q1a1m7di1ubm60b9%2BeF154wZrYmc1mgDJVt0tdmuRefncvlPx5tN9j0We5i4gBlNCJSKXw8/MDSipYK1asqPBxWVlZDBw4kKysLG644Qb69evHzTffTIMGDahTpw5ubm6MHz/%2BdxO639OqVStatWpFXl4e27ZtY%2BvWrWzYsIFdu3bxzTffcOLECVauXImbm5v1DtrS5LQ8lyai5d1xKyLiDEroRKRS1K9fHyj5CJLCwkI8Pcv%2BeLFYLGzevJmaNWtyww034O3tzfLly8nKyiIoKIjly5dTvXr1Mselp6df9Xjy8/NJS0vDbDZz22234evrS5s2bWjTpg3jxo3j888/57HHHiM1NZW9e/cSGRlJgwYN2L17N7t27brieXfu3AmULEHXrVv3qsclImIE3eUqIpWiZcuWVKlShezs7CtW6FavXs1DDz1E165dOXnyJFDy92MBbrjhhnKTuf379/PTTz8BV/f%2Bs%2B%2B%2B%2B45u3brxj3/8g/z8/DL777jjDuvXpectvaHh66%2B/Ji0trdzzfvDBBwA0a9aMqlWrVng8IiJGUkInIpXC39%2Bff/zjHwC8/PLLLF%2B%2B3Ob9cP/5z394/vnngZKPGSmtbjVo0ACA1NRUvvzyS2t/i8XCd999x7BhwygoKAAgNze3wuNp164dwcHBnD17lokTJ3L27FnrvuzsbKZPnw5ArVq1aNSoEQD33HMPjRs35uLFiwwfPtxmmddsNvPss8/y/fff4%2BnpyeOPP17xyRERMZiWXEWk0gwfPpy0tDSWLl3KpEmTeO2116hTpw7p6elkZGQA0Lx5c1566SXrMX369GHx4sUcOXKEMWPGULt2bYKDgzlx4gRZWVl4eXkRExPDli1brmrp1dvbm1mzZvHII4%2BwZs0a1q1bR926dXF3dyctLY2cnBz8/PyYNm0a3t7eAHh6ejJnzhyGDx/OwYMH6d27t81fiij9aJXJkycTHR1duZMnImIHJXQiUmnc3NyYMmUKXbp0YcmSJfz000/WD%2Bpt1qwZPXr0IC4uzppAQcldo8uWLWPu3Ll88803HD16lFOnTlGzZk3at2/PQw89hL%2B/P506dSI1NZXjx49zww03VGg8rVq14uOPP%2Ba9997jxx9/5PDhw3h6elKzZk3atGnD0KFDy5yrTp06LF%2B%2BnI8%2B%2Boh///vfHDhwgJMnT1KrVi3atm3LgAEDyvwtVxERZ3Oz6B56EREREZem99CJiIiIuDgldCIiIiIuTgmdiIiIiItTQiciIiLyO06fPk3nzp3ZvHnzFfusX7%2Benj170qxZM7p27co333xjs3/u3Lm0a9eOZs2aMWjQIA4ePFipY1RCJyIiInIFP/74I3Fxcfz6669X7HP48GESEhIYO3Ys27ZtIyEhgUcffdT6UUuffPIJCxcuZN68eWzevJkmTZowZsyYSv3bzkroRERERMrxySef8PjjjzNu3Lg/7BcdHU2nTp3w9PSkW7dutGzZkuTkZACWLl1K//79adSoET4%2BPowfP57jx4//bsXvaimhExERketORkYGu3btsnmUfsB5RbVp04avvvqKbt26/W6//fv3ExERYdN20003Wf/azOX7vby8qFevns1fo7GXPljYGdzcjI9Rvz7s2weNGsGhQ4aHS15i/McZBgRAt26wZg1kZxsejk6djI/h7g5BQXD2LFzyV7IM4%2B9vfAw3N/DxgYsXwRGfculnzjQ%2BiLs7VK8Op0875h/q55%2BNj%2BHrC7ffDps2QV6e4eHGrepgeIwaNWDSJJg6FbKyDA9H//7Gx/DxgVtugZ07S/5PGa1lS%2BNjlMuA34vJiYnMnj3bpm306NEkJCRU%2BByhoaEV6pednY2fn59Nm6%2BvLzk5ORXaXxmU0F2vgoLAw6Nke53w9i75vert7ZiEzhHc3P7vcT253q4Hd/eSi3J3d0xC5wieniXX5Hn9/Brw8yv5J7rs96ZL8/Ao%2BWfy8HD2SFxPXFwcsbGxNm0VTdCulp%2BfH3mXvTDKy8sjICCgQvsrw/XzP1lERERck3vlvwPMZDJhMpkq/bzliYiIYNeuXTZt%2B/fvp2nTpgA0atSIffv20aFDSaW6oKCAw4cPl1mmtYfeQyciIiJih169erFlyxbWrFlDYWEha9asYcuWLfTu3RuABx54gA8//JDU1FQuXrzIzJkzCQkJITo6utLGoAqdiIiIOJcBFTqjRUVFMXnyZHr16kXDhg158803mTFjBk8//TS1a9cmKSmJ%2BvXrA9CnTx8uXLjAqFGjOH36NLfccgvvvPMOXl5elTYeJXQiIiLiXC6Q0O3du9fm%2B5SUFJvv27ZtS9u2bcs91s3NjaFDhzJ06FDDxnftz6CIiIiI/C5V6ERERMS5XKBCd63TDIqIiIi4OFXoRERExLlUobObEjoRERFxLiV0dtMMioiIiLg4VehERETEuVShs5tmUERERMTFqUInIiIizqUKnd2U0ImIiIhzKaGzm2ZQRERExMWpQiciIiLOpQqd3ZTQiYiIiHMpobObZlBERETExalCJyIiIs6lCp3dNIMiIiIiLu66TOi6d%2B/OqlWrKv28K1asIDY2ttLPKyIi8pfm7l75j7%2BY63LJ9fPPP3f2EERERKSi/oIJWGVz%2BAwmJSVx1113ERMTwwMPPMC6devYvHkzjRs3tun35JNP8uSTT1qPGTp0KA888AAxMTHMnj2bdu3aUVxcbO2/ePFiunfvDkBsbCwrVqxg48aN3HrrrVy4cMHab/369cTExJCfn09%2Bfj6zZs2iY8eOxMTEMHz4cI4cOWLte%2BDAAQYNGkRUVBQ9e/Zk9%2B7dRk6NiIiIyJ/i0Ardpk2bSE5OZsWKFYSGhpKcnMzTTz/NzJkz//DYjRs3Mn/%2BfG699VaKi4uZP38%2BGzdu5M477wTgk08%2BoU%2BfPjbH3H777YSFhfHFF1/Qr18/a79evXrh7e3N9OnT2bRpEwsWLMBkMjF37lyGDh3KmjVrcHd3Z8SIEbRr1453332XX3/9leHDh%2BN%2Bla8iMjIyyMzMtGkLrV8fU1DQVZ3nqkVG2m4NFhxsfIwqVWy3RvPwcFwMR8QCcHNzXAxHxALA0wE/xhz9DxUYaHwMf3/brcHq1DE%2BhslkuzWaI6bO19d2a6ScHONjXJEqdHZzaELn4%2BPDuXPnWLp0KR06dKBv377ExcWxZcuWPzw2PDyc1q1bW7/v0aMHK1eu5M477%2BTAgQPs2bOHd955x%2BYYNzc3%2BvTpw8qVK%2BnXrx/nz5/n66%2B/ZunSpVgsFpYsWUJiYiLh4eEAjBo1iqVLl/Ltt98SHBzMiRMneOKJJ/Dx8aFRo0Y8/PDDvP/%2B%2B1d1zcnJycyePdumbfTYsSSMHXtV5/nTFi92SJi7HRKlxCVPg%2BuGo5JUR/LxcVAgXwe8mihVtapj4rRs6Zg4AE2aOCTMeAde0qBBjovlKA0bGh9j61bjY4hxHJrQRUVFkZSUxMKFC3n33Xfx9fVl0KBBNG/e/A%2BPNV32kqtv374MHjyY7Oxs680K1atXL3Pc/fffT1JSEmlpaWzYsIFGjRoRGRlJVlYWOTk5jB071qbqVlBQwLFjx8jPzyc4OBjfS14W1a1b96qvOS4ursyNFKE9e8JVJoZXLTKyJJnr3x9SU42NBaydtt3wGFWqlCRzGzfCJavohomJMT6Gh0fJdV24AEVFxsdzxKt8N7eSZO7iRbBYjI/nm3vG%2BCAeHiXJ3PnzjvmH2r/f%2BBj%2B/iXJ3K5dDinNzPzO%2BIzOZCpJ5hYuhIwMw8Nxzz3Gx/D1LUnmDhyAvDzj4zmNKnR2c2hCd/z4cWrUqMG8efPIz89n48aNjB49mhEjRgCQn5%2BPt7c3AGfOnCH4knU8t8vWb2655RZuvPFGvvrqK1avXs1LL71UbszQ0FDatWvHZ599xvr1663LssHBwfj4%2BDB//nyaNWtm7X/w4EHCwsLYs2cPp0%2BfJjs7m4CAAABOnjx51ddsMpnKJKMcOnTV5/nTUlMhJcXwMGcc8Du11IULjonniN/bl8ZyRDxHJFiXxnJIvMJCBwT5TVGRY%2BKZzcbHKJWT45B4R48aHsIqI8Mx8Ry5RJmX5%2BQlUaMpobObQ2dw586dDBs2jNTUVLy9valRowYAMTExeHp6Wu9O/eGHH9i0adMfnq9v374kJibi7u5OmzZtrtivX79%2BLF26lL1799KzZ08A3N3d6dOnDzNnzuTkyZMUFxfzySef0KNHD44cOUJUVBT169fnpZdeIjc3lyNHjjB//vxKmAURERGRyuXQCl2XLl04fPgwI0eO5MyZM9SoUYNJkyYRExPDpEmTmDNnDlOmTOH222/n/vvvJzc393fP17NnT1599VUeeeSR371ZoW3bthQXF3P33XcTeMmbjSdOnEhSUhL9%2B/fn7NmzhIeHk5iYyM033wzAv/71L5577jnuuOMOQkJC6NixI2vXrq2cyRAREZESqtDZzc1iceQijACOuf0vKgq2b4fmzR2y5Jq8xPinUXAw3H03rF3rmCXXTp2Mj%2BHhAUFBcPasY5ZcHXFXnptbyft%2B8vIcs%2BTqZ87840728vQseQKeOeOYJdeffzY%2BRmBgyc0XW7c6ZMl13KoOhseoUwfGj4eZMx2z5Nq/v/ExHPxWR4fej2OjUaPKP%2Be%2BfZV/zmvYdfnBwiIiIuJCVKGzmxI6ERERcS4ldHbTDIqIiIi4OFXoRERExLlUobObZlBERETExalCJyIiIs6lCp3dlNCJiIiIcymhs5tmUERERMTFqUInIiIizqUKnd00gyIiIiIuThU6ERERcS5V6OymhE5EREScSwmd3TSDIiIiIi5OFToRERFxLlXo7KYZFBEREXFxqtCJiIiIc6lCZzcldCIiIuJcSujspoROREREpBxZWVk8%2B%2ByzbNmyBQ8PD3r16sXEiRPx9LRNn4YNG8aPP/5o05aTk0NcXBwvvvgip06d4s4778Tf39%2B6Pzg4mK%2B//rrSxqqETkRERJzrGq3QPfroo4SFhbFhwwZOnTrFyJEjWbBgAcOGDbPp9%2B6779p8v2zZMmbPns3o0aMB2LlzJ7Vr167UBO5y1%2BYMioiIiDjRkSNH2LJlCxMmTMDPz4/w8HDi4%2BNZtGjR7x538OBBpkyZwowZMzCZTEBJQte0aVNDx6sKnRMkL7EYHiM4GO4G1k7bzpkzhocj7kE344NERcHd27n7yeaQkmJ4uPcXGP/vVL069OwJGzbA6dOGh%2BOhbpnGB/H0BN9gfHPPQGGh8fGCgoyPUSow0CFhHlvdwfAYtWvD%2BJYw87uWHDtmeDjeeOKE8UE8PYFQxg/OdMxzLyfH%2BBje3kA4TaqmgW%2B%2B8fFo6IAY5TCgQpeRkUFmpu3PvNDQUGuS9Uf27dtHUFAQYWFh1raGDRty/Phxzp8/T9WqVcs9bvLkydx7771ER0db23bu3Mm5c%2Bfo0aMHp06d4pZbbmHixIncdNNNf%2BLKyqeETkRERJzLgIQuOTmZ2bNn27SNHj2ahISECh2fnZ2Nn5%2BfTVvp9zk5OeUmdNu2bWPHjh3MmDHDpr1q1arcdNNNDB8%2BHG9vb2bNmsXDDz/MmjVrqFKlytVc1hUpoRMREZHrTlxcHLGxsTZtoaGhFT7e39%2Bf3Nxcm7bS7wMCAso9Jjk5ma5du5aJM3PmTJvvn3rqKZYvX862bdvo0KFyKvJK6ERERMS5DKjQmUymCi%2BvlqdRo0acPXuWU6dOERISAsCBAweoWbNmuVW1wsJC1q1bx5tvvmnTbjabefPNNxk4cCC1a9cGoKioiMLCQnx9ff/0%2BC6nmyJERERELlOvXj1atGjB1KlTMZvNpKWlMWfOHPr06VNu/71793Lx4kWaN29u0x4YGMgPP/zA9OnTuXDhAtnZ2UyZMoU6derYvM/OXkroRERExLnc3Sv/UQkSExMpLCykY8eO9OvXj7Zt2xIfHw9AVFQUq1atsvZNS0ujWrVq%2BPj4lDnPnDlzKC4uplOnTrRt25bMzEzmzp2Ll5dXpYwTtOQqIiIiznaNfg5dSEgIiYmJ5e5LuezTFu655x7uueeecvvWrl27zA0ale3anEERERERqTBV6ERERMS5rtEKnStRQiciIiLOpYTObppBERERERenCp2IiIg4lyp0dtMMioiIiLg4VehERETEuVShs5sSOhEREXEuJXR20wyKiIiIuDhV6ERERMS5VKGzm2ZQRERExMWpQiciIiLOpQqd3ZTQiYiIiHMpobObZlBERETExalCJyIiIs6lCp3dNIMiIiIiLu66rdA9%2BeSTAEybNs3JIxEREZHfpQqd3a7bhE5ERERchBI6u13zM3j06FEaN27MwoULufPOO2nRogUTJkzAbDYD8P7779O5c2eioqK4//772bhxY5lz5OfnM336dLp27UpUVBStW7dmypQpWCwWALZu3cr9999PdHQ0nTt35uWXX6awsBCAL7/8ku7du9OiRQu6du3KnDlzHHfxIiIiIhXgMhW6tWvXsnr1aoqKihg1ahSTJ0%2BmdevWzJkzh7fffpvbbruN5cuXM3LkSL799lubY99//302bNjA%2B%2B%2B/j8lkIiUlhYEDB9KpUydat27NE088wZgxY7jvvvs4evQof//734mOjuauu%2B5iwoQJzJ07l1atWrF7924GDBhAmzZtuPXWWys07oyMDDIzM23aiopCCQkxVdbUlKtKFdut4aKijI8RGWm7NVj16sbHqFbNdms4Twf8l/fwsN3KVatd2/gYJpPt1nCOeO6VxnBELABvb%2BNjeHnZbo2Un298jCtRhc5uLpPQPfXUU1T/7TfsmDFjGDlyJCdPniQuLo6o35KJvn370rBhQ3x9fW2O7devH/fddx81atQgIyODvLw8AgICSE9PB8DHx4cvvviCoKAgWrZsyfr163F3dycvLw9fX1%2BWLVtGcXExzZs358cff8T9Kp54ycnJzJ4926Zt1KjR9O%2BfYM90VFjr1g4JA3dvd1AgYPFih4Tp6ZAoJdq1c1SkYEcFgqpVHRfLURzxSxUYP94hYQAYNMhRkUIdFQiCHfg8d5SaNY2PceCA8THEMC6T0N14443Wr2vVqkV%2Bfj4ZGRnccMMNNv2aN29e5tjc3FxefPFFtm7dSs2aNbn55puxWCwUFxcDJRW8pKQkJk%2BeTGZmJm3btuWFF16gZs2afPTRR8yZM4fx48djNpvp0qULzzzzDNUqWFKJi4sjNjbWpm3HjlDWrr3aGbg6VaqUJHMbN8KFC8bGArj7ybLzXukiI0uSuf79ITXV8HCrJxufpFarVpLMffcdnDtneDh6tjljfBAPj5Jk7vx5KCoyPl5goPExoCSZKyhwSKiZicYnjiZTSTK3cCFkZBgejvGDM/%2B4k708PUuSuTNn4Le3zRgqL8/4GF5eJcncyZMOe/45hSp0dnOZhC49PZ0GDRoAJe%2Br8/Pzw2QyceLECZt%2Bb7zxBr169bJpK03Avv/%2Be3x8fCguLqZly5YAXLx4kf379/PCCy/g6enJoUOHeOaZZ5g6dSpTp04lIyODmTNnArBnzx4ee%2Bwx3n77bSZOnFihcZtMJkyXrWn8/HPJzxtHuHDBQbFSUhwQ5DepqQ6Jd/q04SGszp1zUDxH/JIrVVTk2HjXkWPHHBcrI8NB8Rz5XCgsdEw8Ry5RFhQ4d0nUaEro7OYyMzhz5kzMZjPp6ekkJibSu3dv%2BvXrR3JyMv/73/8oLi5m%2BfLlLFq0iODLyu1msxkfHx/c3d0xm828%2BuqrmM1mCgoKcHNz47HHHmP%2B/PkUFhYSGhqKp6cnwcHBZGdnM3z4cFavXo3FYsFkMuHu7l7m/CIiIiLO5DIVurp169KjRw9yc3Pp2bMnEyZMwMfHh/PnzzNhwgQyMzO56aabmDt3rvW9dqWeeeYZnnvuOWJiYggICKB9%2B/a0bduWX375BW9vb9566y2mT5/OO%2B%2B8g4eHB%2B3atePxxx%2BnSpUqJCYm8s9//pPnnnsOX19funXrxpAhQ5wzCSIiItcjVejs5jIJ3YABA8pd5hwwYAADBgwo037pBwo3bdqUFStWXPHczZs3Jzk5udx9sbGxZd4DJyIiInItcZmETkRERK5TqtDZTQmdiIiIOJcSOrtd8wldnTp12Lt3r7OHISIiInLNuuYTOhEREbnOqUJnN82giIiIiItThU5EREScSxU6uymhExEREedSQmc3zaCIiIiIi1OFTkRERJxLFTq7aQZFREREXJwqdCIiIuJcqtDZTQmdiIiIOJcSOrtpBkVERERcnCp0IiIi4lyq0NlNMygiIiLi4lShExEREedShc5uSuhERETEuZTQ2U0zKCIiIlKOrKws4uPjiY6OplWrVrz88ssUFhaW23fYsGHccsstREVFWR/fffcdAEVFRUyfPp077riDqKgoRo4cSUZGRqWOVQmdiIiIOJe7e%2BU/KsGjjz6Kv78/GzZsYNmyZWzcuJEFCxaU2/fnn39m3rx5pKSkWB/t2rUD4K233uK///0vy5cvZ8OGDfj6%2BvLMM89UyhhLKaETERERucyRI0fYsmULEyZMwM/Pj/DwcOLj41m0aFGZvmlpaZw7d46bb7653HN9/PHHDB8%2BnFq1ahEYGMjTTz/Nd999R1paWqWNV%2B%2Bhc4JOnYyP4eFRso2JgaIi4%2BO9v8BieIzq1aEuCqbhAAAgAElEQVQnsHrydk6fNjwcDw1xMz5IVBT03E7P55tDSorh4T5dafy/U7Vq0L49fLsjmHPnDA9H3brGx/Dzg8hISD3gRW6u8fFen3DC%2BCCenkAo4wdnwhWWkCrV//5nfIwqVSA0FPbtgwsXjI8XEmJ8DD%2B/ku2FCzjkyecsBryHLiMjg8zMTJu20NBQTCZThY7ft28fQUFBhIWFWdsaNmzI8ePHOX/%2BPFWrVrW279y5k4CAAMaNG8fOnTsJCQlhyJAh9OnThwsXLnDy5EkiIiKs/UNCQqhWrRp79%2B4lPDzczistoYROREREnMuAhC45OZnZs2fbtI0ePZqEhIQKHZ%2BdnY1faUL9m9Lvc3JybBK6/Px8mjVrxrhx42jUqBGbN28mISGBgIAAoqKiAPD397c5l6%2BvL9nZ2Vd9XVeihE5ERESuO3FxccTGxtq0hYaGVvh4f39/ci%2BripZ%2BHxAQYNN%2B7733cu%2B991q/b9OmDffeey9ffPEFd9xxh82xpfLy8sqcxx5K6ERERMS5DKjQmUymCi%2BvlqdRo0acPXuWU6dOEfLb8vqBAweoWbMmVapUsem7bNkyAgIC6Nq1q7UtPz8fHx8fqlWrRlhYGPv377cuu2ZmZnL27FmbZVh76aYIERERca5r8C7XevXq0aJFC6ZOnYrZbCYtLY05c%2BbQp0%2BfMn3NZjNTpkxh9%2B7dFBcX8%2B233/LZZ58RFxcHwP33389bb71FWloaZrOZqVOnEhMTQ91KfBOwKnQiIiIi5UhMTOTFF1%2BkY8eOuLu7c%2B%2B99xIfHw9AVFQUkydPplevXjz00EPk5OQwevRosrKyCA8PZ/r06URHRwMwatQoCgsLGTBgANnZ2bRq1Yp//vOflTpWJXQiIiLiXNfoX4oICQkhMTGx3H0pl3wygZubG/Hx8dZk73JeXl48/vjjPP7444aME7TkKiIiIuLyVKETERER57pGK3SuRAmdiIiIOJcSOrtpBkVERERcnCp0IiIi4lyq0NlNMygiIiLi4lShExEREedShc5uSuhERETEuZTQ2U0zKCIiIuLiVKETERER51KFzm6aQREREREXpwqdiIiIOJcqdHZTQiciIiLOpYTObppBERERERenCp2IiIg4lyp0dtMMioiIiLg4VehERETEuVShs5sSOhEREXEuJXR2u%2B4Tuq%2B//pp//etfHDlyhJycHG655RZeeukl6tWrx%2Beff05iYiJZWVncdttt3HDDDRQUFDBt2jQsFgsLFy5k0aJFZGVlERERwaRJk2jatKmzL0lERETExnWd0J08eZKxY8cya9YsYmNjOXPmDKNHj%2BbNN9%2Bkf//%2BTJw4kcTERNq1a8c333zDo48%2BSs%2BePQFYvHgx7733Hm%2B99RYNGzbk008/5eGHH%2BaLL74gJCSkwmPIyMggMzPTps3bO5TQUFOlXuvlPDxst0arXt34GNWq2W4NFxVlfIzISNutwRwxd4GBtluj%2BfkZH8PHx3ZrOE8H/GgujeGIWABVqhgfIyDAdms0Rzz5fH1tt0bKzTU%2BxpWoQmc3N4vFYnH2IIySn5/PyZMnqVu3LmazmbS0NN58803Onz9P3bp1ycnJ4fXXX7f2Hzt2LH5%2BfkybNo1u3boxePBgHnzwQev%2BBx98kLvvvpuhQ4dWeAxJSUnMnj3bpm3UqNGMGZNg/wWKiIhUlh9/hBYtnBP7vfcq/5wPP1z557yGXdcVOi8vLz777DOWLFmCm5sbERERmM1mPD09OXHiBDfffLNN//DwcE6dOgXAsWPHmD59OjNmzLDuLywsvOol17i4OGJjY23avL1DOXv2T15UBXl4lLwgvnABioqMjQWwYYPxMapVg3bt4Lvv4Nw54%2BP1fL658UEiI2HxYujfH1JTDQ/37evbDY8RGAjR0bBtG5jNhoejZk3jY/j4QP36cOgQXLxofLzIGpl/3Mlenp4QHAxnzkBhofHx9u0zPkZAANx2G%2BzYAdnZxscLCjI%2Bhq8vNGgABw9CXp7x8ZxFFTq7XdcJ3RdffMGHH37IRx99xI033gjAlClT%2BOWXX6hduzbHjx%2B36X/8%2BHG8vb0BqFmzJmPGjKF79%2B7W/b/%2B%2BitBV/kf2GQyYTLZLq9mZTkmyYKSOI6Idfq08TFKnTvnoHgpKQ4I8pvUVIfEc0QiXMpsdkw8hy3BU5LMOWRVyhEJ1qWxHBHvwgXjY5TKznZMPIetwVOSzDlzSdRoSujsdl3P4IULF3B3d8fX1xeLxcJ3333HypUrKSgooG/fvnz11Vds2LCBoqIi1q9fz9q1a63H9uvXj7feeosDBw4AsGHDBrp3787WrVuddTkiIiIi5bquK3T33XcfP/74I927d8fDw4MGDRrw0EMPsWjRIho3bszkyZN54YUXOHPmDNHR0bRu3RovLy8AhgwZgsViIT4%2BnoyMDMLCwnjuuefo2LGjk69KRETkOqMKnd2u64TO29ubV199tUz7mDFjOHToELfeeivr1q2ztickJFD9t9s1PTw8GDZsGMOGDXPYeEVERET%2BjL9sSrx//34eeughfv31VwA2b97Mhg0buOuuu5w8MhERkb8Yd/fKf/zFXNcVut/TuXNn9u/fz%2BDBgzl37hy1a9dmypQpNG/ugDsbRURE5P/8BROwyvaXTegARo4cyciRI509DBERERG7/KUTOhEREbkGqEJnN82giIiIiItThU5EREScSxU6uymhExEREedSQmc3zaCIiIiIi1OFTkRERJxLFTq7aQZFREREXJwqdCIiIuJcqtDZTQmdiIiIOJcSOrtpBkVERERcnCp0IiIi4lyq0NlNCZ2IiIg4lxI6u2kGRURERFycKnQiIiLiXKrQ2U0JnYiIiEg5srKyePbZZ9myZQseHh706tWLiRMn4ulZNn366KOPWLBgARkZGZhMJgYPHsyAAQMAKC4upkWLFlgsFtzc3KzH/Pe//8Xf379SxqqETkRERJzrGq3QPfroo4SFhbFhwwZOnTrFyJEjWbBgAcOGDbPp95///IfXX3%2BduXPnctttt/HTTz/xj3/8g5CQELp06cL%2B/fspKChg%2B/bteHt7GzLWa3MGRURE5K/D3b3yH3Y6cuQIW7ZsYcKECfj5%2BREeHk58fDyLFi0q0zc9PZ3hw4fTrFkz3NzciIqKolWrVmzduhWAnTt30rhxY8OSOVCFzikqqbr6u0orur6%2BYLEYH%2B%2BhbpnGB/H0BILp2eYMFBYaHu7TlcZPXLVq0B749vXtnDtneDh63%2Bv2x53sFRUF27fT/rHmkJJifLykJONjhIZCZByRO5Ih0wHP9Y4djY/h61tyXWYz5OUZHu4b7y6Gxwj0gpbAVq87MBv3e9Pq43nGxwgPh6duhlc%2BvZm0NOPjzWlhfAxHycjIIPOy/6%2BhoaGYTKYKHb9v3z6CgoIICwuztjVs2JDjx49z/vx5qlatam0vXVotlZWVxdatW3nqqaeAkoTu4sWLPPDAAxw7doyGDRsyfvx4mjdv/mcvrwwldCIiIuJcBiy5JicnM3v2bJu20aNHk5CQUKHjs7Oz8fPzs2kr/T4nJ8cmobtUZmYmI0aMoGnTpvTo0QMAX19fbr31VsaOHUu1atVYtGgRjzzyCKtWrSI8PPxqL61cSuhERETkuhMXF0dsbKxNW2hoaIWP9/f3Jzc316at9PuAgIByj/npp58YO3Ys0dHRvPLKK9abJ5588kmbfo888ggrVqxg/fr1DBw4sMJj%2Bj1K6ERERMS5DKjQmUymCi%2BvlqdRo0acPXuWU6dOERISAsCBAweoWbMmVapUKdN/2bJlvPTSS4wZM4ahQ4fa7HvjjTfo0qULN998s7UtPz8fHx%2BfPz2%2By%2BmmCBEREXGua/CmiHr16tGiRQumTp2K2WwmLS2NOXPm0KdPnzJ9v/zyS1544QWSkpLKJHMAv/zyCy%2B//DKZmZnk5%2Bcze/ZszGYznTt3tnucpZTQiYiIiJQjMTGRwsJCOnbsSL9%2B/Wjbti3x8fEAREVFsWrVKgBmz55NUVERY8aMISoqyvp47rnnAHjllVeoW7cuvXv3plWrVmzZsoX33nuPoKCgShurllxFRETEua7Rz6ELCQkhMTGx3H0pl9zFv3r16t89T1BQEK%2B88kqlju1y1%2BYMioiIiEiFqUInIiIiznWNVuhciRI6ERERcS4ldHbTDIqIiIi4OFXoRERExLlUobObZlBERETExalCJyIiIs6lCp3dlNCJiIiIcymhs5tmUERERMTFqUInIiIizqUKnd00gyIiIiIuThU6ERERcS5V6OymhE5EREScSwmd3TSDIiIiIi5OFToRERFxLlXo7KYZFBEREXFx111Ct23bNqKiogA4evQojRs35ujRo04elYiIiFyRu3vlP/5irrsl1%2BjoaFJSUpw9DBEREamov2ACVtlcOqFLSkpi2bJl5ObmEh4eTnx8PIGBgQwePJi9e/da%2B61cuZKVK1eSk5NDbGwsTz75JIGBgZjNZp599ll%2B%2BOEHPD09iYyMZNKkSTRs2JCkpCT27NmDh4cHGzZsoHr16owYMYK4uDgnXrGIiIhIWS6b0G3atInk5GRWrFhBaGgoycnJPP3008ycObNM323btrF06VKKi4uJj49n6tSpTJ06lfnz52M2m1m/fj3u7u4899xzzJgxg7feeguAdevW8eSTT/L666%2BzefNm/t//%2B3/UrVuX1q1bV3icGRkZZGZm2rRVrRpKaKjJvgn4A25utlvDeTrgqeThYbs1WLVqxscIDLTdGu63tyMYKjLSdmu00FDjYwQH226N5utrfAxvb9utwRzxHPf3t90aLTzc%2BBhhYbZbI6WlGR/jilShs5ubxWKxOHsQf0ZKSgqDBw9mxIgRdOjQgcjISNzd3dmyZYu1Qnf06FE6duzIp59%2BSuRvv1y%2B//57Ro4cyY4dO3j33XdZuHAho0aN4s4776R27dq4//akSkpK4quvvmLVqlXWmOPHj8fLy4tp06ZVeJxJSUnMnj3bpm3UqNGMGZNQCbMgIiJSOeLjYc4cJwU/dKjyz1m/fuWf8xrmshW6qKgokpKSWLhwIe%2B%2B%2By6%2Bvr4MGjSI5s2bl%2Blbp04d69e1atUiPz%2Bfs2fPMnz4cLy9vVm2bBkvvvgi4eHhjB8/nrvvvhuAevXq2ZynVq1a7Nmz56rGGRcXR2xsrE1b1aqh5OVd1Wmumpsb%2BPjAxYvgiJTdN/eM8UE8PKBqVTh/HoqKDA/37Q7jqzGBgRAdDdu2gdlseDjaP1b2/0eli4yExYuhf39ITTU%2B3sSJxscIDoa774a1a%2BGMA57rMTHGx/D2htq14dgxyM83PNzWU8b/cvX3hyZNYNcuyMkxPBz/%2BY/xMcLCYOhQmD8f0tONj%2Bc0qtDZzWUTuuPHj1OjRg3mzZtHfn4%2BGzduZPTo0SQlJZXpm56eTuBv9f6jR4/i7%2B9P9erVSU1NJTY2liFDhnDhwgUWL17MuHHj2LRpk/W4Sx09epRatWpd1ThNJhMmk%2B3yam6uY5IsKInjkFiFhQ4I8puiIofEO3fO8BBWZrOD4jnyhqHUVMfEu%2BwtDYY6c8Yx8Yx%2BxXep/HyHxHPEC5ZSOTmOiefIJcr0dCcviRpNCZ3dXHYGd%2B7cybBhw0hNTcXb25saNWoA8Msvv5Tp%2B9prr3Hu3DlOnjzJrFmzrDc2fPzxxzzxxBNkZWURGBhIYGAg/v7%2BeP/2npKffvqJTz/9lKKiItavX8%2B6det44IEHHHeRIiIiIhXgshW6Ll26cPjwYUaOHMmZM2eoUaMGkyZNokGDBmX6RkVFcc899%2BDu7k6PHj0YN24cAI899hgvvvgi3bt35%2BLFizRo0IA5c%2Bbg4%2BMDwN/%2B9jfWrVvHSy%2B9REhICK%2B99pr1M%2B5ERESkkqhCZzeXTegARowYwYgRI8q0l35kSZ06daxfl9cvICCA6dOnX/H8VapUITExsZJGKyIiImIMl07oRERE5DqgCp3dlNCJiIiIcymhs5sSuitISNDnxImIiIhrUEInIiIizqUKnd2U0ImIiIhzKaGzm2ZQRERExMWpQiciIiLOpQqd3TSDIiIiIi5OFToRERFxLlXo7KaETkRERJxLCZ3dNIMiIiIiLk4VOhEREXEuVejsphkUERERcXGq0ImIiIhzqUJnNyV0IiIi4lxK6OymGRQRERFxcarQiYiIiHOpQmc3zaCIiIhIObKysoiPjyc6OppWrVrx8ssvU1hYWG7f9evX07NnT5o1a0bXrl355ptvbPbPnTuXdu3a0axZMwYNGsTBgwcrdaxK6ERERMS53N0r/1EJHn30Ufz9/dmwYQPLli1j48aNLFiwoEy/w4cPk5CQwNixY9m2bRsJCQk8%2BuijpKenA/DJJ5%2BwcOFC5s2bx%2BbNm2nSpAljxozBYrFUyjhBCZ2IiIg42zWY0B05coQtW7YwYcIE/Pz8CA8PJz4%2BnkWLFpXp%2B8knnxAdHU2nTp3w9PSkW7dutGzZkuTkZACWLl1K//79adSoET4%2BPowfP57jx4%2BzefNmu8dZSu%2BhcwI/c6bxQTw9wTcY39wzcIXycKUKCjI%2BRqnAQIeEqVvX%2BBh%2BfiXbmjWhWjXj45GUZHyM0NCS7cSJkOmA53pCgvExoqIgLg6mT4eUFOPjbdpkfIzSnwtmM%2BTkGB7u5EnDQxAcXLLNyoIzZ4yPJ9e2jIwMMi/7GRQaGorJZKrQ8fv27SMoKIiwsDBrW8OGDTl%2B/Djnz5%2BnatWq1vb9%2B/cTERFhc/xNN91Eamqqdf/w4cOt%2B7y8vKhXrx6pqancfvvtV31t5VFCJyIiIk5lwa3Sz5mcnMzs2bNt2kaPHk1CBV8EZmdn41f6qvs3pd/n5OTYJHTl9fX19SXntxdLf7S/MiihExERketOXFwcsbGxNm2hpSsIFeDv709ubq5NW%2Bn3AQEBNu1%2Bfn7k5eXZtOXl5Vn7/dH%2ByqCETkRERJyquLjyz2kymSq8vFqeRo0acfbsWU6dOkVISAgABw4coGbNmlSpUsWmb0REBLt27bJp279/P02bNrWea9%2B%2BfXTo0AGAgoICDh8%2BXGaZ1h66KUJEREScqri48h/2qlevHi1atGDq1KmYzWbS0tKYM2cOffr0KdO3V69ebNmyhTVr1lBYWMiaNWvYsmULvXv3BuCBBx7gww8/JDU1lYsXLzJz5kxCQkKIjo62f6C/UUInIiIiUo7ExEQKCwvp2LEj/fr1o23btsTHxwMQFRXFqlWrgJKbJd58803eeecdWrZsyZw5c0hKSqJ%2B/foA9OnThyFDhjBq1Chuv/12du/ezTvvvIOXl1eljVVLriIiIuJURiy5VoaQkBASExPL3Zdy2R3vbdu2pW3btuX2dXNzY%2BjQoQwdOrTSx1hKFToRERERF6cKnYiIiDjVtVqhcyVK6ERERMSplNDZT0uuIiIiIi5OFToRERFxKlXo7KcKnYiIiIiLU4VOREREnEoVOvspoRMRERGnUkJnPy25ioiIiLg4VehERETEqVShs58qdCIiIiIuThU6ERERcSpV6OynhE5EREScSgmd/bTkKiIiIuLiVKETERERp1KFzn6q0ImIiIi4OCV0V7B582YaN27s7GGIiIhc94qLK//xV6MlVxEREXGqv2ICVtlcrkJ39OhRGjduzMKFC7nzzjtp0aIFEyZMwGw2k5%2Bfz/Tp0%2BnatStRUVG0bt2aKVOmYLFYABg0aBBPPvkkHTp0oH379pjNZnbt2sWgQYOIioqiTZs2zJo1y9ofYN68eXTu3JlmzZoxZswYzGazsy5dREREpFwuW6Fbu3Ytq1evpqioiFGjRjF58mQiIiLYsGED77//PiaTiZSUFAYOHEinTp1o3bo1AD/88AMff/wxfn5%2BFBYWMnToUAYNGsS8efM4efIkgwYNIiwsjPr16wNw7NgxPvvsM86ePUvfvn1ZtGgRI0aMqPA4MzIyyMzMtGkL9fTEZDJV3mSUx8PDditXzc/P%2BBg%2BPrZbw4WGGh8jONh2a7SoKONjREbabo3m7298DF9f263BHPF0qFrVdmu08HDjY4SF2W6NlJZmfIwrUYXOfi6b0D311FNUr14dgDFjxjBy5EgmTpzIfffdR40aNcjIyCAvL4%2BAgADS09Otx7Vr146w3/5nfPLJJ/j4%2BDBq1Cjc3NyoW7cu7733Hv7%2B/hw5cgSAhIQEfHx8CAsLo2XLlvz6669XNc7k5GRmz55t0zZ61CgSxoyx5/IrzlE/2RzJy8shYRz1uxvgt9cPxouMc1Ag4O67HRMnzoHXtHix42I5SqNGDglzzy0OCQPAHXc4Js499zgmDsDQocbHiI83PoYYx2UTuhtvvNH6da1atcjPz6egoIApU6awdetWatasyc0334zFYqH4ktT/0spYZmYmtWrVws3NzdrWoEEDAGtCF3zJy0ovLy%2BKioquapxxcXHExsbatIV6esKZM1d1nqvm4VGSzJ0/D1c55j8lMND4GFCSzBUUOCRU6gHjE0cfn5Jk7tAhuHjR8HBE7kg2PkhwcEkyt3at8c9zgOnTjY8RGVmSzPXvD6mpxsd7/33jY/j6liRz%2B/ZBXp7h4f59zPiMrmrVkmTuhx9KfvQZLSXF%2BBhhYSXJ3Pz5cElt4rqjCp39XDahS09PtyZfR48exc/Pj2effZZq1arx/fff4%2BPjQ3FxMS1btrQ57tLkrWbNmpw4cQKLxWJt/89//oPZbKZWrVqVMk6TyVR2eTUzEwoLK%2BX8f6ioyHGxrjO5uY6LdfGig%2BJdtvxvqDNnHBPPEb9VS6WmOiZeTo7xMUrl5TkkniNy%2B1LnzzsmniOXKNPTnbskajQldPZzuZsiSs2cOROz2Ux6ejqJiYn07t0bs9mMj48P7u7umM1mXn31VcxmMwVXqOi0b9%2BewsJC3n77bfLz8/n111%2BZOnUqFx1RKhERERGpJC5boatbty49evQgNzeXnj17MmHCBPbt28dzzz1HTEwMAQEBtG/fnrZt2/LLL7%2BUe46qVasyb948XnnlFd577z38/PwYMGAAcXFxbN682cFXJCIi8tekCp39XDahGzBgABMnTrRpa9q0KStWrLjiMQsXLizT9re//Y0PPvigTHurVq3Yu3evTdu0adP%2B5GhFRETkSpTQ2c9ll1xFREREpITLVuhERETk%2BqAKnf1cLqGrU6dOmaVQERERkb8yl0voRERE5PqiCp39lNCJiIiIUymhs59uihARERFxcarQiYiIiFOpQmc/VehEREREXJwqdCIiIuJUqtDZTwmdiIiIOJUSOvtpyVVERETExalCJyIiIk6lCp39VKETERERcXGq0ImIiIhTqUJnPyV0IiIi4lRK6OynJVcRERERF6cKnYiIiDiVKnT2U0InIiIicpVycnKYMmUKX3/9NYWFhXTs2JHnn3%2BegICAcvt/%2BeWXzJkzh7S0NIKCgrj//vuJj4/H3b1ksbRr164cP37c%2Bj3AsmXLaNiwYYXGo4ROREREnMoVK3RTpkzhxIkTfPnllxQVFfHoo48yY8YMnn/%2B%2BTJ9f/75Z5544gn%2B%2Bc9/ctddd3Ho0CGGDx%2BOv78/Q4cOxWw2c%2BjQIdatW0ft2rX/1Hj0HjoRERFxquLiyn9kZGSwa9cum0dGRkaljDc3N5fVq1czZswYgoKCqFGjBo8//jgrVqwgNze3TP9jx47x4IMP0qFDB9zd3WnYsCGdO3dm69atQEnCFxQU9KeTOVCFzjl%2B/tn4GIGB0LIl7N8PZrPh4R5b3cHwGLVrw/jxMDPRi2PHDA/H6xNOGB/E0xMIJbJGJhQWGh%2BvY0fjY/j6lmxjYiAvz/h4mzYZH8Pfv2T7/vuQk2N8vNtvNz5GVBRs3w4PPQQpKYaHu/kni%2BEx/PxKtg0aQDm/UytdSIjxMapUKdl26AAXLhgf73qSnJzM7NmzbdpGjx5NQkJChY7Py8sjPT293H25ubkUFBQQERFhbWvYsCF5eXkcPnyYv/3tbzb9u3TpQpcuXWzO/e2339KzZ08Adu7ciZ%2BfHwMHDmTfvn3Url2bhIQEOnSo%2BO9WJXQiIiLiVEYsucbFxREbG2vTFhoaWuHjd%2BzYweDBg8vdN3bsWAD8S1/sAX6/vaLIzs7%2B3fOazWbGjh2Lr68vQ4YMAcDNzY1bbrmFxx57jBtuuIF///vfJCQk8OGHH9KsWbMKjVcJnYiIiFx3TCYTJpPpTx/fqlUr9u7dW%2B6%2B3bt3M2vWLHJzc603QZQutQYGBl7xnAcPHmTMmDHUqFGDDz74wNp32LBhNv169erFZ599xpdfflnhhE7voRMRERGnMuI9dEaqX78%2BXl5e7N%2B/39p24MABvLy8qFevXrnHrF%2B/nr59%2B9K2bVvmzZtHtWrVrPvmzZvHxo0bbfrn5%2Bfj4%2BNT4TEpoRMRERGncrWEzs/Pj65duzJjxgxOnz7N6dOnmTFjBj169MC39H3El/jpp58YNWoUTz31FBMnTsTT03aB9MSJE0yePJm0tDQKCwtZtmwZKSkp3HfffRUekxI6ERERkav0/PPPU69ePXr27Mk999xDnTp1eO6556z7u3fvzttvvw3A22%2B/TWFhIS%2B//DJRUVHWR%2BlS6xNPPEG7du3o378/0dHRLFmyhH/961/ceOONFR6P3kMnIiIiTuWKn0MXGBjIlClTmDJlSrn7P//8c%2BvXpYndlXh7ezNp0iQmTZr0p8ejCp2IiIiIi1OFTkRERJzKFSt01xoldCIiIuJUSujspyVXERERERenCp2IiIg4lSp09lOFTkRERMTFqUInIiIiTqUKnf2U0ImIiIhTKaGzn5ZcRURERFycKnQiIiLiVKrQ2U8VOhEREREXpwqdiIiIOJUqdPZTQiciIiJOpYTOflpyFREREXFxqtCJiIiIU6lCZz8ldCIiIuJUSujsd10vua5Zs4bWrVvTokULvvnmG2cPR0RERMQQ13WF7uOPP6Z79%2B4888wzzh6KiIiIXIEqdPa7bit0ffr0YdOmTSxZsoROnWlmJ3wAACAASURBVDrx9ddf8%2BCDD9K6dWtuu%2B02Bg4cyOHDhwFYsWIF999/P0OHDiU6OprVq1eTn5/PrFmz6NixIzExMQwfPpwjR44496JEREREynHdVuiWLVvGoEGDiImJoW/fvnTu3JlZs2YRGxvLmTNnGD16NG%2B%2B%2BSavvfYaALt27WLatGm8/fbbFBcX88Ybb7Bp0yYWLFiAyWRi7ty5DB06lDVr1uDj41PhcWRkZJCZmWnTFpqXhykkpFKvtwx/f9utwWrXNj6GyWS7NZynA/57lMZwRCwAX1/jY3h7226NVlhofIzSeXPE/AFERRkfIzLSdmswPz/jY5T%2BaL6KH9F2qVLF%2BBiO/FF%2B4YLxMa5EFTr7XbcJ3aWqV6/O559/Tt26dTGbzZw8eZLg4GDS09Otfby8vOjduzfu7u5YLBaWLFlCYmIi4eHhAIwaNYqlS5fy7bff0qVLlwrHTk5OZvbs2TZto0eNIqFr18q5uD/SpIlDwoxv6ZAwAAwa5KhIoY4KBMHBjokT6sBrckSW72iNGjkmzvbtjokDsHixQ8JEOCRKiRtvdGAwB7n1VuNjfPWV8TGuRAmd/f4SCZ2XlxefffbZ/2/vzsOiKts/gH%2BHbUBwAWRQEzVNRHMBN1xSElPLDRQMX03pRdMWlkwvxUR9Cw0tl2QxzdQWUXIBQlGzxKVFEI3UMsQtQZQBAZNhEYj5/cHPyQmskeHM8Yzfz3VxDTznzNz3ERxu7uc85yAuLg4ymQzOzs5QqVQwu68r4uDgABOT2hnooqIilJWVISQkRDMGAFVVVcjNzX2o2H5%2BfvD09NQac8jOBtLT9TgiHTRpUlvM/forUFYmbCwAq48LX9EpFLXF3BdfAPn5gofD3OkF/76TvszMaou54mLDdJpUKuFjWFjUFnO5uUBlpfDxDHFMlpa1xdzFi0BFhfDx/P2Fj%2BHiUlvMTZkCZGYKHi4rTvgiVS6vLeauXQPu3hU8HIqKhI/RpEltMXf2rEHeyknCHouC7sCBA9i2bRt27NiB9v//p1t4eDiysrI0%2B8hkMs3ntra2kMvl2LJlC1xdXTXjV65cgaOj40PFVigUUPx9jjA/3zC/hIDadwADxHrIOlcv%2BfkGimeIAuv%2BWIaIZ4hi5J7KSsPEM%2BRvuYoKw8TLyBA%2Bxj2ZmQaJV14ueAiNu3cNE8%2BQU5RlZeJOiQqNHTr9Ge2iiPuVlJTAxMQElpaWUKvVOH78OBITE1FVVVXv/iYmJvD19cXq1auRl5eHmpoaJCQkYOzYsVwYQURERI%2Bcx6JDN2HCBJw%2BfRpjxoyBqakpOnbsCH9/f8TGxqLyAVNCCxYsQFRUFKZMmYLbt2/DyckJkZGR6Natm4GzJyIiMm7s0OnPqAu6L774QvP5%2B%2B%2B/X2d7cHAwAGDixImYOHGi1ja5XI558%2BZh3rx5wiZJRET0mGNBp7/HYsqViIiIyJgZdYeOiIiIHn3s0OmPHToiIiIiiWOHjoiIiETFDp3%2BWNARERGRqFjQ6Y9TrkREREQSxw4dERERiYodOv2xQ0dEREQkcezQERERkajYodMfCzoiIiISFQs6/XHKlYiIiEji2KEjIiIiUbFDpz926IiIiIgkjh06IiIiEhU7dPpjQUdERESiYkGnP065EhEREUkcCzoiIiISVU1N438IraysDAsXLoS7uzv69OmD%2BfPno7S09IH7L126FN27d4ebm5vm48svv9Rs37RpE4YOHQpXV1dMmzYNV65ceah8WNARERERPaTw8HDcvHkTX3/9NQ4dOoSbN29i1apVD9z/3LlzCA8PR0ZGhubDz88PAJCQkIAvvvgCmzdvRlpaGp5%2B%2BmkEBwdDrVbrnA8LOiIiIhKV1Dp05eXl2Lt3L4KDg9GiRQvY29tj3rx5iI%2BPR3l5eZ39KysrkZWVhe7du9f7ejt37sSUKVPQuXNnyOVyzJ07Fzdu3EBaWprOOXFRBBEREYlKiAIsPz8fBQUFWmMODg5QKBQ6Pb%2BiogJKpbLebeXl5aiqqoKzs7NmrFOnTqioqMDvv/%2BOrl27au2fmZmJ6upqREZG4vTp02jatCl8fHwwc%2BZMmJiY4NKlS3jllVc0%2B5ubm6NDhw7IzMzEgAEDdMqXBZ0I5iQNEzxG27bA3H7A6uP9cP264OGwdv5N4YOYmQFwwNzpBUB1tfDxzp4VPkbTpoCDA3DxIlBSIni4IxajBI9hYwP0exJIv/UkVCrBwyEvT/gYtrbA8z2Ag7k9UFwsfLxuP%2Bs%2BzdJQVlaAM4CsuJ9QT0Oh0fVylQkfxM0N%2BOknOE/uDWRkCB9vwwbhY7RsCcAHA3L3ALduCR8Psw0QwzC%2B/PJLREdHa40FBgYiKChIp%2BefOXMG06dPr3dbSEgIAKBJkyaaMSsrKwCo9zy6kpIS9O/fH9OmTcOaNWvw22%2B/4Y033oCJiQlmzpyJ0tJSzfPvsbS0RFlZmU65AizoiIiISGRCdOj8/Pzg6empNebg4KDz893d3XHhwoV6t50/fx7r1q1DeXk5rK2tAUAz1WpjY1Nn/8GDB2Pw4MGar3v27Al/f3/s378fM2fOhJWVFSoqKrSeU1FRoXltXbCgIyIiIqOjUCh0nl59WE8%2B%2BSTMzc1x6dIl9OrVCwBw%2BfJlzVTp33377be4desWJk%2BerBmrrKyEpaUlAKBz5864ePEihg2rncGrqqrC77//rjWl%2B2%2B4KIKIiIhEJbVFEVZWVnjhhRewatUqFBUVoaioCKtWrcLYsWM1Rdr91Go1IiIicOLECajVamRkZODzzz/XrHL18fHBtm3bkJmZibt372L16tVo2bIl%2Bvbtq3NO7NARERGRqKR4p4ilS5di5cqVGDduHKqqqjB8%2BHAsXrxYs33MmDEYN24cXn31VYwYMQILFy7E//73PyiVSrRs2RJBQUHw8vICAPj6%2BqKkpARvvPEGioqK0KNHD2zcuBHm5uY658OCjoiIiOgh2djYIDw8HOHh4fVuT05O1vp68uTJWlOu95PJZAgICEBAQECD82FBR0RERKKSYofuUcNz6IiIiIgkjh06IiIiEhU7dPpjQUdERESiYkGnP065EhEREUkcO3REREQkKnbo9MeCjoiIiETFgk5/nHIlIiIikjh26IiIiEhU7NDpjx06IiIiIoljh46IiIhExQ6d/ljQERERkahY0OmPU65EREREEscOHREREYmKHTr9sUNHREREJHHs0BEREZGo2KHT3yPbofv999/FToGIiIgMoKam8T8eN4IWdNOmTUNUVJRO%2B3p6eiI%2BPh4AEBsbi8WLFwuZmk55EBEREUnBIznlWlRUJHYKREREZCCPY0etsT10hy4lJQWTJ0/GwIED0atXL7z00kua6dFdu3Zh%2BPDhcHNzw4IFC1BeXq55XmhoKEJDQ7Veq0uXLkhLS9MaS0hIwMaNG3Hq1Cn07dv3X/O5fv06unTpgsTERAwbNgyurq5YuHAhTp06hfHjx8PNzQ3%2B/v6aIlGlUiEsLAwjR46Eq6srhgwZgg0bNtT72pWVlVi3bh2GDx%2BO/v3745VXXsG1a9ce5p%2BLiIiISHAP1aHLy8tDSEgI1q1bB09PTxQXFyMwMBAxMTGYOHEi3n33XXz88cfo168fdu7cicTERHh4eDxUQhMmTMD169dx8uRJfPHFFzo/79ixY9i/fz9ycnLg7e2N8%2BfPY9OmTTA3N8fkyZOxfft2BAYGYtWqVbh%2B/Tp2796Npk2b4tChQwgODsYLL7yA9u3ba73m2rVrkZqaik8//RQKhQKbNm1CQEAA9u/fD7lcrlNe%2Bfn5KCgo0BqzsnKAvb1C52NrCIVC%2B1FwZgZo9t6LYYhYANC0qfAxrK21HwVmYy58jCZNtB%2BFZmsrfIxmzbQfhWZlJXyMe29hOr6V6c/NTfgYLi7aj0Jr2VL4GC1aaD8K6dYt4WM8ADt0%2Bnuo34x2dnZITk5Gu3btoFKpkJeXB1tbWyiVSiQlJWHkyJEYOHAgAGDKlCnYtWuXIEnXJyAgAFZWVnB2doaDgwMmTJgAR0dHAICrqytyc3MBAEFBQTA1NYWNjQ3y8vI0hVl%2Bfr5WQadWqxEXF4fIyEg4OTkBAN544w3s3LkTR48exahRo3TK68svv0R0dLTW2BtvBCI4OEjvY9bFtGkGCQPAwVCBDPMbHAAcDHhMvXoZJEw/g0Sp9fTTBgxmIIMGiZ1B4/vb37HC%2BeknAwUCsH274WIZyvDhwsfYuFH4GA/Agk5/D1XQmZubY9%2B%2BfYiLi4NMJoOzszNUKhXMzMygVCrx9N/ewe8VQobQ4r6/XkxNTdHsvj%2BlTUxMoFarAQCFhYVYvnw5zp8/j7Zt26J79%2B4AgJq//TQVFRWhrKwMISEhMDH5a2a6qqpKUxzqws/PD56enlpjsbEOWL1a92NrCIWitpj74gsgP1/YWAAwd3rBv%2B%2BkLzOz2mKuuBiorhY%2B3sWLwsewtq4t5s6cAUpLBQ%2BXbi58RdKkSW0x9%2BuvQFmZ4OFQWCh8jGbNaou5H38E7twRPl7HjsLHkMtri7lr14C7d4WP5zy5t/BBXFxqi7kpU4DMTOHjLVokfIwWLWqLucOHgdu3hY9HkvVQBd2BAwewbds27NixQ9PNCg8PR1ZWFlq1aoWcnByt/fPy8tC5c2cAtUXV3fveNRp74YNMJtNpv5CQEHh6emLz5s0wMzNDcXExdu7cWWc/W1tbyOVybNmyBa6urprxK1euaDp/ulAoFFD8bd6zvBy4fl3nl9BLfr6BYhmiwLo/liHilZQIH%2BOe0lKDxFNZCB5Co6wMUKmEj1NcLHyMe%2B7cMUy8%2B04/FtzduwaKl5FhgCD/LzPTMPEMOUV5%2B7aoU6JCY4dOfw%2B1KKKkpAQmJiawtLSEWq3G8ePHkZiYiKqqKvj4%2BODbb7/FkSNHUF1djYSEBJw5c0bz3E6dOuHUqVNQKpWoqKhATEzMA4swuVwOlUql6ao1ppKSElhaWsLU1BRFRUVYtmwZgNrO2/1MTEzg6%2BuL1atXIy8vDzU1NUhISMDYsWO5MIKIiIgeKQ9V0E2YMAGDBg3CmDFjMGDAAHz00Ufw9/fH1atX0aNHD7z//vtYsWIF%2Bvbti6%2B//hqDBw/WPNfPzw9ubm4YP348RowYgdatW6NNmzb1xhk2bBhu376NPn364E4jz29ERERg//796N27NyZOnAhHR0d069YNWVlZdfZdsGABevXqhSlTpqBv37749NNPERkZiW7dujVqTkRERI8zXlhYfzK1EG0w%2Bkdz5ggfo21bYO5cYPVqw0y5rp1/U/ggZma1CxUKCgwz5Xr2rPAxmjb96%2BQsA0y5HrHQbTGPPmxsgH79gPR0w0y55uUJH8PWFnj%2BeeDgQcNMuRrib0YrK8DZGcjKMsyUay9X3U6L0YubW%2B3ii969DTPl%2BoBLXjWqli0BHx9gzx7DTLnOni18jHr85z%2BN/5o7djT%2Baz7KHtlbfxERERGRbh7JO0Xcz93dHZWVlQ/cnpyc/MCpWyIiInr0PY5TpI3tkS/o/n4nCSIiIiLS9sgXdERERGTc2KHTHws6IiIiEhULOv1xUQQRERGRxLFDR0RERKJih05/7NARERERSRw7dERERCQqduj0x4KOiIiIRMWCTn%2BcciUiIiKSOHboiIiISFTs0OmPHToiIiIiiWOHjoiIiETFDp3%2BWNARERGRqFjQ6Y9TrkREREQSxw4dERERiUqKHbqysjKEh4cjJSUF1dXVGD58OJYuXQpra%2Bs6%2By5ZsgR79%2B7VGquoqMCgQYOwefNm1NTUoE%2BfPlCr1ZDJZJp9fvjhBzRp0kSnfNihIyIiInpI4eHhuHnzJr7%2B%2BmscOnQIN2/exKpVq%2Brd991330VGRobmIyoqCs2aNUNoaCgA4NKlS6iqqsLJkye19tO1mANY0BEREZHIamoa/0NI5eXl2Lt3L4KDg9GiRQvY29tj3rx5iI%2BPR3l5%2BT8%2Bt6ioCPPmzcOiRYvQuXNnAMC5c%2BfQpUsXWFhYNDgnTrkSERGRqIQowPLz81FQUKA15uDgAIVCodPzKyoqoFQq691WXl6OqqoqODs7a8Y6deqEiooK/P777%2BjatesDX3fVqlXo3r07xo8frxk7d%2B4c7t69Cx8fH%2BTm5qJTp06YO3cuevfurVOuAAs6UUyZInyMe13a558HysqEj2eQIPf%2BcqmoACorhY/XsqXwMaysah9btADkcsHD7doseAg4OQH9%2BgHffgvk5AgfzxCcnGr/L2VkGOaYDPGj17Rp7WNREVBSInw8bNggfIx7/3CLFgG3bgkf79VXhY/h5gb4%2BADLl9f%2BAApt9mzhYxjIl19%2BiejoaK2xwMBABAUF6fT8M2fOYPr06fVuCwkJAQCtKVGr/38/Ly0tfeBr5uTkICkpCbt27dIat7S0RM%2BePRESEoLmzZsjNjYWM2bMQFJSEpycnHTKlwUdERERiUqIDp2fnx88PT21xhwcHHR%2Bvru7Oy5cuFDvtvPnz2PdunUoLy/XLIK4N9VqY2PzwNfcs2cP3Nzc6nTw7p1Ld8%2BMGTMQHx%2BPY8eO4aWXXtIpXxZ0REREZHQUCoXO06sP68knn4S5uTkuXbqEXr16AQAuX74Mc3NzdOjQ4YHPO3ToEAICAuqMr127FqNGjUK3bt00Y5WVlZA/xMwNF0UQERGRqKS2KMLKygovvPACVq1ahaKiIhQVFWHVqlUYO3YsLC0t631OcXExLl%2B%2BjH79%2BtXZlpWVheXLl6OgoACVlZWIjo6GSqXCiBEjdM6JBR0RERGJSmoFHQAsXboUHTp0wLhx4/D888%2Bjbdu2WLJkiWb7mDFjsOG%2Bc0evX78OAHB0dKzzWhEREWjXrh28vLzg7u6OkydPYuvWrWjRooXO%2BXDKlYiIiOgh2djYIDw8HOHh4fVuT05O1vq6R48eDzwnr0WLFoiIiNArHxZ0REREJCop3iniUcOCjoiIiETFgk5/PIeOiIiISOLYoSMiIiJRsUOnP3boiIiIiCSOHToiIiISFTt0%2BmNBR0RERKJiQac/TrkSERERSRw7dERERCQqduj0xw4dERERkcSxQ0dERESiYodOfyzoiIiISFQs6PTHKVciIiIiiWOHjoiIiETFDp3%2B2KEjIiIikjh26IiIiEhU7NDpjwUdERERiYoFnf6Mbso1Pj4enp6eYqdBREREZDDs0BEREZGo2KHTn2QLupSUFHz88ce4du0aysrK0KNHDyxbtqzOfqdOncLatWtx4cIFNGvWDOPHj8frr78OCwsLREVF4eLFi7CwsMDRo0fRpEkTeHl5Ye7cuQCAyspKfPTRR0hKSkJJSQl69eqFsLAwtG/f3tCHS0RERPRAkizo8vLyEBISgnXr1sHT0xPFxcUIDAxETEwMBg4cqNnvypUr%2BO9//4t58%2BZh69atuHnzJoKCgqBSqRAWFgYAOHToEFasWIGVK1fi%2B%2B%2B/x%2BzZszF8%2BHC4urpi7dq1SE1NxaeffgqFQoFNmzYhICAA%2B/fvh1wu1ynX/Px8FBQUaI2VlTmgZUtF4/2D1MPSUvtRcBYWwscwN9d%2BFJqVlfAxDPyNcnISPoajo/ajMTD0MTVtKnyMJk20HwXXsqXwMVq00H4Umpub8DFcXLQfhZSRIXyMB2CHTn8ytVqtFjuJh1VZWYm8vDy0a9cOKpUKOTk5iImJwZ07d%2BDt7Y3o6GikpKRg3bp1%2BO6777B7927Nc48dO4bg4GBkZGQgJiYGycnJOHjwoGb7kCFDMHfuXHh5eaF3796IjIzEkCFDAABqtRoeHh5YtGgRRo0apVOuUVFRiI6O1hp7441ABAcHNcK/BBERUSORyQCRSgIhJr6uXWv813yUSbJDZ25ujn379iEuLg4ymQzOzs5QqVQwM9M%2BnMLCQjj9rSXRtm1bVFRUoLCwEADg4OBQ57VrampQVFSEsrIyhISEwMTkr7UjVVVVyM3N1TlXPz%2B/Oos0bt1ywK%2B/6vwSDWJpCXTqBFy%2BDFRUCBsLAJ5uliN8EHNzoFUrIC8PqKoSPl5JifAxLC2Bjh2BK1cM8o2K%2BKqb4DEcHYGAAGDLFkCpFDycQRj6mIYNEz5GkyZAz57A2bNAWZnw8Qbk7hE%2BSIsWwPDhwOHDwO3bwsdbvlz4GC4uwPbtwJQpQGam8PFIsiRZ0B04cADbtm3Djh07NOezhYeHIysrS2u/J554AocOHdIay87OhoWFBZo3b/6PMWxtbSGXy7Flyxa4urpqxq9cuQLHh5h3USgUUCi0p1fT0w3zBgrU1ggGiWVZaYAg/6%2BqCqg0QLzycuFj3FNRYZB4OQaou%2B9RKg0bzxAMdUyG%2BFvinrIyA8W7dcsAQf7f7duGiWfIKcrMTFGnRIXGKVf9SfKyJSUlJTAxMYGlpSXUajWOHz%2BOxMREVP2tazNmzBhcvnwZn332GSorK5GdnY01a9Zg3LhxsPiXc75MTEzg6%2BuL1atXIy8vDzU1NUhISMDYsWNx7XHr4xIREdEjTZIdugkTJuD06dMYM2YMTE1N0bFjR/j7%2ByM2NlarqGvbti0%2B%2BeQTrFmzBlFRUbC0tMTYsWPx5ptv6hRnwYIFiIqKwpQpU3D79m04OTkhMjIS3boJP21FRET0uGCHTn%2BSLOgsLCzw/vvv1xkPDg4GUHve2j19%2B/bF9u3b632doKC6CxNSUlI0n8vlcsybNw/z5s3TN2UiIiJ6ABZ0%2BpPklCsRERER/UWSHToiIiIyHuzQ6Y8dOiIiIiKJY4eOiIiIRMUOnf5Y0BEREZGoWNDpj1OuRERERBLHDh0RERGJih06/bFDR0RERCRx7NARERGRqNih0x8LOiIiIhIVCzr9ccqViIiISOLYoSMiIiJRsUOnP3boiIiIiCSOHToiIiISFTt0%2BmNBR0RERKJiQac/TrkSERERSRwLOiIiIhJVTU3jfxhKeXk5/Pz8EB8f/4/7nTlzBpMmTYKbmxs8PT2xa9cure0JCQkYMWIEXF1dMXHiRGRkZDxUHizoiIiISFRSLeguXryIqVOn4ueff/7H/f744w/MmjUL3t7eSE9Px/LlyxEREYGzZ88CANLS0hAeHo4VK1YgPT0d48ePx2uvvYby8nKdc2FBR0RERPSQTpw4AX9/f0yYMAFt2rT5x30PHTqEFi1aYOrUqTAzM8PAgQMxbtw4xMbGAgB27dqFMWPGoE%2BfPjA3N8fLL78MW1tb7N%2B/X%2Bd8uCiCiIiIRCVERy0/Px8FBQVaYw4ODlAoFDo9v6KiAkqlst5tDg4OcHFxwZEjRyCXy7F169Z/fK2LFy/C2dlZa%2Bypp57C7t27AQCXLl2Cj49Pne2ZmZk65QqwoBNFv37Cx8jPz0dU1Jfw8/PT%2BYdXP50Ej5Cfn48vo6Jqj8nJSfB4hqB1TAb4Pq3vI3gIzc/ejBmG%2BtkTnjEfk%2BHeI2YLHsHQ/58w24DHdPCg0fzs1UetbvzXjIr6EtHR0VpjgYGBCAoK0un5Z86cwfTp0%2BvdFhMTg%2Beee07nXEpLS2FlZaU1ZmlpibKyMp2264IFnZEqKChAdHQ0PD09jeZNgMckDTwmaeAxSYMxHpOh%2BPn5wdPTU2vMwcFB5%2Be7u7vjwoULjZKLlZUVSkpKtMYqKipgbW2t2V5RUVFnu62trc4xWNARERGR0VEoFI9MEezs7IwffvhBa%2BzSpUvo3LkzAKBz5864ePFine1Dhw7VOQYXRRAREREJaMSIEbh16xY%2B/fRTVFVVITU1FXv37tWcN%2Bfr64u9e/ciNTUVVVVV%2BPTTT1FYWIgRI0boHIMFHREREVEjGzNmDDZs2AAAsLW1xZYtW3Dw4EG4u7sjLCwMYWFhGDBgAABg4MCBWLp0Kf73v/%2Bhf//%2BSE5OxqZNm9CiRQud43HK1Ug5ODggMDDwoc4XeNTxmKSBxyQNPCZpMMZjMkYpKSl1xpKTk7W%2B7tGjB%2BLi4h74Gl5eXvDy8mpwDjK1Woi1JURERERkKJxyJSIiIpI4FnREREREEseCjoiIiEjiWNARERERSRwLOiIiIiKJY0FHREREJHEs6IiIiIgkjgUdERERkcSxoCMiIiKSOBZ0RERERBLHgo6IiIhI4szEToD05%2BnpCZlM9o/7HD582EDZNL5ffvkF3bt3x507d7Bx40bY2dnB398fZmbS/fEtKipCUlIScnNzERISgvT0dAwbNkzstBosNTUVX331FQoKCtCmTRv4%2BvqiZ8%2BeYqell9LSUsTGxiInJwfV1dVa2yIiIkTKSj%2BVlZU4duwYcnNz4efnh2vXrsHFxUXstPTCYyKqxQ6dEQgKCkJgYCCGDRuGmpoa%2BPv7Y/HixZg5cyZMTU0xcuRIsVNssI8%2B%2Bgj%2B/v4AgGXLluHIkSNISEjAypUrRc6s4X799Vc8//zzOHjwIHbv3o3i4mKEhIRgz549YqfWIDt37sQrr7yCyspKdO3aFSUlJZg2bRq%2B%2BeYbsVPTy8KFCxEbG4uysjKxU2kU2dnZGD16NJYtW4Z169YhLy8PPj4%2BOHLkiNipNRiPieg%2BajIa48aNU1%2B6dElr7Pfff1ePHDlSpIz0N3r0aPVvv/2mvnv3rrpnz57q3377TX3r1i31oEGDxE6twaZOnares2ePWq1Wq/v27atWq9Xq48ePq1944QUx02qw4cOHq7///nutsaNHj6pHjx4tUkaNw9XVVa1UKsVOo9HMmjVLHRMTo66pqdH83MXHx6u9vb1FzqzheExEf2GHzojk5OSgXbt2WmOOjo7Iz88XKSP95efnw8XFBadPn0bTpk3h4uICe3t7lJeXi51ag2VlZcHLywsANFPlQ4YMgVKpFDOtBissLMSAAQO0xoYMGYKCggKRMmocDg4OsLW1FTuNRvPzzz9j5syZkMlkmp87Ly8v5OTkiJxZw/GYiP7Cgs6IdO/eHStXrkRlZSUAoLy8HOHh4ejTp4/ImTWco6Mj0tPTkZiYiIEDBwIA9u3bBycnJ5Ezazg7OztcuXJFa%2BzKlSto2bKlSBnpZ8iQuQkvcgAAFZlJREFUIdi2bZvWWHJyMgYNGiRSRo1j8uTJWLlyJe7cuSN2Ko2iadOmuHXrltZYQUEBmjdvLlJG%2BuMxEf1FumeVUx3vvPMOZs%2Bejbi4ONja2qK4uBhPPvkkPv74Y7FTa7CgoCDMnDkTlpaW2LFjB06cOIGFCxciKipK7NQabMqUKZg9ezZeffVVVFdXY//%2B/fjoo4/g5%2BcndmoN8ueff2LFihVISEhA%2B/btoVQqcebMGXTt2hXTp0/X7Pf555%2BLmKXuXFxcIJPJoFarAQCxsbGabWq1GjKZDL/99ptY6TXYuHHjEBgYiLlz56KmpgZnz57FBx98gDFjxoidWoPxmIj%2BIlPfe9cio1BdXY2MjAwolUq0atUKvXv3homJtBuxd%2B/eBQDI5XKUlpaitLQUCoVC5Kz0Exsbi%2B3btyM3NxeOjo7w8/PDyy%2B/LMnvVXR0tE77BQYGCpxJ4zh58uS/7tO/f38DZNK4qqqqsGbNGsTFxaG8vByWlpbw9fXF/PnzYWFhIXZ6DfL3Y5LL5fD19cWCBQt4TPTYYUFnZIxtuXtNTQ0OHz6MESNGQKlUIiIiAnZ2dnjrrbdgY2MjdnpUD5VKBQsLC6P45bNz5054eHjA0dERX331FSorKzFp0iSx02qQ5ORkPPfcc5DL5SgqKoKtre2/Xu5ISnhM9LhjQWdEsrOzERAQgKqqKty5cwfx8fEYO3YsoqOjJXuNs/feew9ff/01jh07hldffRUqlQpmZmZQKBR4//33xU6vQRYuXFjvuLm5Oezs7PDss8/C1dXVwFk13OXLl7FmzRrExMTgm2%2B%2BwZw5c2BtbY3169dL%2BvzNyMhIJCQkYOvWrejQoQMOHz6M9957D//5z38wc%2BZMsdN7aP3798cPP/wAc3NzsVPRW2Ji4r/u4%2B3tbYBMhHH27FlcvXoVf//1LOVjIuGxoDMis2fPRq9evfDaa6%2Bhf//%2BSE9PR0JCAj7//HMkJCSInV6DjBo1Clu3bkXz5s3h7u6O5ORk2NvbY/jw4UhLSxM7vQZZsmQJ4uPj8dxzz8HJyQk3btzAoUOHMGjQIMjlcnz33XdYvnw5Ro8eLXaqOpkxYwYUCgXee%2B89jB49GhMmTIC1tTUSExOxa9cusdNrsKFDhyI2NlZrAU52djb8/f0leU2wGTNmYPz48ZoV1lLm6en5j9tlMplkL6a%2BZs0abNq0CQ4ODloXT5fyMZFhcFGEEfn5558RFRVVZ7n78uXLRc6s4YqLi9GmTRscPXoUCoUC7du3x59//ok///xT7NQa7ObNm/jwww/x3HPPacaOHTuGHTt2IDIyEmlpaVi2bJlkCroLFy5gw4YNyM3NRXZ2NqZMmQJra2usXr1a7NT0olKp0Lp1a62x1q1bS/ZCw7dv38aCBQuwePFitGzZUmsaT2qFQkpKitgpCCYpKQkbNmyAh4eH2KmQxLCgMyL3lru3adNGMyb15e5OTk5ITEzEwYMH8cwzz6CmpgZbtmzBU089JXZqDXbmzBls3LhRa2zIkCGYO3cuAMDd3R25ublipNYg1dXVUKvV%2BOGHH/D000/DxsYGRUVFkMvlYqeml6effhoff/wxXn/9dc3Yli1bJHtO6ksvvSR2CoLIycmBUqnUTE9WVVUhKysLL7/8sriJNVBpaSmGDh0qdhokQSzojIgxLncPDQ3FggULYGlpiXfffRepqanYvHkzNmzYIHZqDWZnZ4fvvvtO6y/wEydOoEWLFgBqf0FJqQgfNGgQgoKCkJmZiRkzZiAnJwfz58/Hs88%2BK3ZqegkNDUVAQAB27tyJVq1aIS8vD9XV1fjkk0/ETq1BJkyYUO/43%2B9TKyUbN27E2rVrNd3Ge5eV6dq1q2QLumeffRZ79%2B7F%2BPHjxU6FJIbn0BkRY7wswd/du2iylI8nOTkZoaGhGDlyJNq2bYvr16/j22%2B/xTvvvIOePXvC398fL730EmbPni12qjopLS3Fli1bIJfLMWvWLGRmZmL37t2YO3curKysxE6vwcrKylBVVYUjR44gPz8frVu3xrPPPoumTZuKnVqDZGdnIyYmBkqlEjU1NQBq3zOuXr2K1NRUkbNrGA8PDyxatAgWFhZISUnBW2%2B9hfDwcLRu3Rrz5s0TO70GCQ4OxrfffosOHTrUudi4VK7lSOJgQWdEqqqqNCvYjGm5e2pqap0plQsXLiAsLEzkzBru559/xp49e5CXl4c2bdrgxRdfRJcuXXD9%2BnVcunRJ6/w6KSkuLjaa22V5enoiKSnJaC6PM23aNKjVatja2qKwsBDdunVDYmIiXn75ZclcI/Dv3NzckJGRgby8PLz%2B%2BuuIj49HUVERfH19JXue3T9d11Gq3ycyDE65GpFnnnkGXl5e8PX1hbOzs9jpNIply5YhLi4O1tbWAGrvSlBaWoohQ4aInFnDZWdnY8eOHZpOydWrV7Fs2TJNp6RDhw5ip/hQVCoVVqxYgb1796KyshJWVlaYPHky3nzzTUl3UoHa2%2BcZS0H3yy%2B/4OjRo7hx4wY%2B/PBDhIWFYejQodi4caNkCwWFQgGVSgVHR0dcv34darUadnZ2%2BOOPP8ROrcHu/14UFhaiefPmWqtdiR6EPyVG5P3330diYiImTZoEZ2dn%2BPr6YuzYsZpiSIoOHDiAbdu2oby8HElJSXjvvfewcuVKya40BIBFixZpOiVFRUXo2rWrplMiRStXrsTFixexfv16tG7dGjk5OVi3bh3Wrl2LBQsWiJ1eg7m7u2PSpEkYOnRonTuTSLEAsrKy0hQHWVlZAGovzSLl71G/fv0QHByMDz/8EN26dcOaNWsgl8vh6OgodmoNVlVVhQ8%2B%2BAC7du1CRUUFLCwsMH78eCxevFjyfyCRsFjQGREPDw94eHjgzp072LdvHxISErBy5UqMGjUKERERYqfXIOXl5XB1dUVBQQF%2B/fVXyGQyBAYGSuaSHvUxtk7JkSNHkJSUBDs7OwBAx44d0aVLF83tiqTq%2BvXrcHJywtWrV3H16lXNuFRPY2jXrh2OHTsGDw8P1NTUICcnBxYWFpJeFBEaGorVq1ejuroab7/9NkJCQqBSqST7fgcA69evR1paGj788EO0bdsW2dnZWLt2LT788EPMnz9f7PToEcaCzgg1a9YMQ4cOxZ07d5Cfny/ZE54BoFWrVigsLISDgwPy8vJQVVUFS0tLqFQqsVNrMGPrlFhZWcHU1FRrrEmTJpoT76Xqiy%2B%2BEDuFRnGviJs9ezaCg4Oxb98%2B%2BPn5YfLkyTA1Nf3Xi/Q%2BymxsbLB06VIAtavHDxw4IHJG%2Btu7dy%2B2bt2quaB1p06d0KlTJ0ydOpUFHf0jFnRGRKVS4cCBA0hMTMTZs2fh4eGBpUuXSvp8Mw8PD7z88sv47LPP0K9fP7z99tuQy%2BWSO8/sfsbSKblx4waA2tsRzZkzB6GhoXjiiSeQn5%2BPDz74QLJTyPczhgU58%2BbNQ3p6OiIiInDo0CHY29vj9ddfR4cOHaBSqR54ORMpuH37NrZv347c3Nw6f0BItUv3xx9/1HtB64qKCpEyIqlgQWdEBg8ejFatWsHHxwfr1q2rs%2BRdit566y3Y29vD3NwcS5YswaJFi6BSqRAeHi52ag02a9asejslw4cPFzu1h%2BLp6QmZTKYpdsaPH691PbAjR45g1qxZYqaoF2NZkGNubo7ly5fj5s2b2L17d537g0p1qh8A3nzzTdy8eROurq4wMTERO51G0aVLF8TFxWldCDouLs5oFrqRcHjZEiOSmpqKAQMGiJ0G6UCpVMLe3h5mZmbYv38/VCoVvL29JXXSsy53s3jiiScMkIkwBg8ejJiYmHoX5Lz77rtip6ezAwcOYNeuXUhLS0Pv3r3rbJfJZJK9vpmbmxuOHDmiuSi3MTh16hQCAgLg4uICJycnZGdn49KlS9i8eXO93z%2Bie1jQGYF9%2B/Zh7NixSExMfOA%2B3t7eBsxIfwsXLvzXfaQ6pULS0Lt3b/z0008oKCjAjBkzkJSUBJVKhdGjR%2BP48eNip/fQJk2ahF27domdRqPy8vLCJ598AgcHB7FTaVRXrlzB3r17UVhYiLZt22LMmDGS/uOIDINTrkZgw4YNGDt2LCIjI%2BvdLpPJJFfQ0aPvXsHj4uLywJWfv/32m4GzajzGtiDH2Io5AFiyZAlmzZoFb2/vOrfLk/J7XseOHRESEiJ2GiQx7NDRI%2B/OnTuQy%2BWQy%2BW4fPky7OzsjOZuBFJ26tQp9O3bFydPnkR1dTXMzMxQU1ODu3fvIisrC7169UL//v3FTrPBVq5cie%2B//x6fffYZwsLCYG1tDblcjvPnzyM%2BPl7s9Ai1nfykpCQ4ODhonUMnk8lw%2BPBhETN7ePfOSf0nUjsmMix26IzIuHHj4OvrCy8vL6M5pyQ1NRWvvfYatm7dCldXV%2Bzduxfbt2/HJ598gp49e4qd3mOtb9%2B%2BAGpXV4eFheHHH3/E%2BvXrsWHDBshkMixatEjSBd29BTlAbSdo8eLFkl%2BQY2wOHjyIr776Ck899ZTYqegtKCjoH7dLbRU8GR47dEZk%2B/btSExMRGZmJjw9PeHr64tnnnlG7LT04uPjg8mTJ2PSpEmasT179mDXrl2Ii4sTMTO6Z9KkSZg0aZLm5y0iIgL29vaYM2cOvvnmG7HTa7DS0lK88847%2BPrrr1FZWQlLS0t4e3tj4cKFklq8Ysw8PT1x8OBBo/p%2BXLt2DevXr9fcGhCovVzOvVsDEj0ICzojdPnyZcTHx2Pfvn0wNTXFxIkTJXtZgj59%2BuD06dNaY2q1Gv369cOpU6dEyoru5%2B7ujrS0NJw/fx5Tp05Feno6zMzMNDdOl6r58%2Bfj2rVrCA4O1tzSLCoqCr1798bbb78tdnoEIDExEd999x1mzJiB5s2ba01ZtmnTRsTMGm7atGkPvDWgVN/HyTA45WqEOnXqhMDAQDg7O2PdunXYvHmzZN8I7O3tcfbsWa3p1V9%2B%2BcUorrFnLKysrFBYWIiUlBT06dMHZmZmyMzMlPx5jkeOHMHBgwc1064dO3aEi4sLvLy8WNA9IkJDQwEAycnJWtdAlMlkkl2Qc%2B7cORw7dsxobg1IhsOCzsicOHECiYmJ%2BOabb9ChQwfMmDED48ePFzutBps6dSpmzZoFPz8/PPHEE7hx4wZ27tzJN7ZHiI%2BPD7y9vXHnzh1ERkbil19%2BwcyZMxEQECB2anqRy%2BV1bmlmbW0NKysrkTKiv9NlkUBeXh5atWplgGwaR5MmTYzq1oBkOJxyNSIeHh4oLS3F6NGj8eKLL6J79%2B5ip9QoEhISkJiYiPz8fCgUCrz44osYM2aM2GnRfdLS0iCXy%2BHq6oqbN2/i3LlzGDlypNhp6WXbtm04dOgQ3n77bbRv3x5KpRKrV69Gu3btMHXqVM1%2BUp3ae1zcu7yOVEyePBmvvfYaPDw84OHhgW3btsHCwgJjx45Fenq62OnRI4wFnRGJiYmBv78/bGxsxE6l0dw7Mf3gwYOorKyElZUVJkyYgNDQUKM6EZoePS4uLprP77/F2f1fS3lq73EhtXM5U1JSMGfOHOzbtw979%2B5FbGwsTE1NMWjQIKxYsULs9OgRxoLOiLi7u%2BPo0aNGNSXEE9NJLLrc2gyQ9u3NHgdS69ABxnFrQDI8FnRGxNfXF/Pnz5f0tb/%2Brl%2B/flonpgO1b3ZeXl5cwk9E/0qKBR1RQ3BRhBFp3rw5/vvf/6Jt27ZQKBRaS/ilevNtnphORET071jQGRE3Nze4ubmJnUajevXVVxEcHFznxPTRo0fjxo0bmv14YjoRET3OOOVKjzSemE5E%2BuCUKz0u2KEzIgsXLnzgtoiICANm0nh4M2oielgqlUqz2p8LCehxwYLOiBUXFyM1NRU%2BPj5ip9JgXEFIRA/Sv39/nDx5ss74s88%2Bq7k1IBdP0eOCBZ0Rqa8L9%2BOPP2L79u0iZENE1PiuXbuGJUuWQK1WQ6VSYfr06VrbVSoVmjVrJlJ2ROJhQWfkBg0ahODgYLHTICJqFO3bt8fIkSNRVFSEn376qc5lmiwsLODp6SlSdkTiYUFnxKqrq7Fv3z7Y2dmJnQoRUaO5d%2Bs1JycneHt7i5wN0aOBBZ0RcXFx0br2HACYmppi0aJFImVERNT4EhMT6/38fiz06HHDy5YYkZMnT6K6uhpmZmaoqanBqVOnMGDAAPTt21fs1IiIGs2/TanKZDKukKfHDgs6I5KSkoKwsDD8%2BOOPWL9%2BPTZs2ACZTIZFixbhxRdfFDs9IiIiEggLOiMyadIkTJo0Cb6%2BvnjmmWewYsUK2NnZYc6cOfjmm2/ETo%2BIqFGlp6c/cFu/fv0MmAmR%2BHgOnRHJzs7Giy%2B%2BiPPnz6O8vByDBg2CmZkZbt26JXZqRESNbtq0aXXGTExM0Lp1a0650mOHBZ0RsbKyQmFhIVJSUtCnTx%2BYmZkhMzMTtra2YqdGRNToMjMztb4uKipCTEwML0hOjyVOuRqRqKgo7Ny5E3fu3EFkZCTs7e0xc%2BZMBAQEYNasWWKnR0QkuIqKCowaNQrHjh0TOxUig2JBZ2TS0tIgl8vh6uqKmzdv4ty5cxg5cqTYaRERGYRSqYSXlxdv%2BUWPHU65Ghl3d3fN561bt0br1q1FzIaISDgLFy7U%2BrqqqgqnT5/GoEGDRMqISDws6IiIyCjI5XJMmzYNfn5%2BYqdCZHCcciUiIiKSOHboiIhIUqKjo/91n8DAQANkQvToYEFHRESSkpaWBqB2Reu5c%2BfQrVs3tG3bFkqlEmfOnMHgwYNFzpDI8DjlSkREkhQaGopevXrhP//5j2YsISEBhw4dwkcffSRiZkSGx4KOiIgkqXfv3jh16hRMTEw0Y3/%2B%2BSf69u2LjIwMETMjMjyTf9%2BFiIjo0WNnZ1fnfq7ff/89FAqFSBkRiYfn0BERkSTNnj0br7zyCkaNGoU2bdogOzsbhw8fxsqVK8VOjcjgOOVKRESSlZqaiq%2B%2B%2Bgr5%2Bflo3bo1fHx80KNHD5iZsV9BjxcWdEREJEnZ2dmIiYmBUqlETU0NgNq7RVy9epW3/qLHDs%2BhIyIiSVq0aBFyc3PRtGlT/Pnnn3B2dsbFixfx0ksviZ0akcGxoCMiIkn65ZdfEBMTg9dffx02NjYICwvDmjVrcOLECbFTIzI4FnRERCRJVlZWaN68Odq1a4esrCwAwNChQ3HlyhWRMyMyPBZ0REQkSe3atcOxY8dgbW2Nmpoa5OTkQKlUorq6WuzUiAyOy4CIiEiSZs2aheDgYOzbtw9%2Bfn6YPHkyTE1NMXz4cLFTIzI4rnIlIiLJUiqVsLe3h5mZGfbv3w%2BVSgVvb29YWFiInRqRQbGgIyIiIpI4nkNHREREJHEs6IiIiIgkjgUdERERkcSxoCMiIiKSOBZ0RERERBLHgo6IiIhI4ljQEREREUnc/wH3xXii9wo6sQAAAABJRU5ErkJggg%3D%3D\" class=\"center-img\">\n",
       "    <img src=\"data:image/png;base64,iVBORw0KGgoAAAANSUhEUgAAAnQAAAIoCAYAAADgJXZDAAAABHNCSVQICAgIfAhkiAAAAAlwSFlzAAAPYQAAD2EBqD%2BnaQAAADl0RVh0U29mdHdhcmUAbWF0cGxvdGxpYiB2ZXJzaW9uIDIuMS4xLCBodHRwOi8vbWF0cGxvdGxpYi5vcmcvAOZPmwAAIABJREFUeJzs3XlclOX%2B//EX%2B6qiwLhCLonmUqKomWKKmbmWpVKaVqbHnyhqmblUdsoy7WiewKyO2WZ6wlxa7bRYmZ1MLdGvmbgv4AKIoo4g6/z%2BQOY4goUN94xD7%2BfjMY%2Bbue7lc90X22c%2B133PuFksFgsiIiIi4rLcnd0BEREREbGPEjoRERERF6eETkRERMTFKaETERERcXFK6ERERERcnBI6ERERERenhE5ERETExSmhExEREXFxSuhEREREXJynszsgIo6RkpLCypUr2bhxI%2Bnp6eTl5VGrVi2aNm1Kt27dGDRoEL6%2Bvs7upoiI/Alu%2BugvkaovISGBV199leLiYgIDAwkPD8fLy4vMzEyOHTsGQN26dXnllVdo2bKlk3srIiJXSwmdSBW3atUqZsyYgb%2B/Py%2B88AI9e/bEw8PDun7//v3MmDGDbdu2UbNmTdauXUutWrWc2GMREblauoZOpIp77bXXAHj88ce54447bJI5gCZNmvDqq68SHBzM6dOneffdd53RTRERsYMSOpEq7OzZsxw5cgSAm2666Yrb1apVi9tuuw2A//u//3NI30REpPLopgiRKszT83%2B/4t9%2B%2By0tWrS44rbx8fGMGDGC4OBga9u0adNYs2YN06dPJzo6mgULFrBlyxby8/O57rrrGDhwIPfeey8%2BPj7lHnPLli0sXbqUrVu3kp2dTfXq1WnTpg3Dhw%2BnU6dO5e5z9uxZ3n//fdavX8%2B%2Bffswm834%2BfkRHh5O9%2B7dGTFiBDVq1LDZp1mzZgD897//Zc6cOaxbtw53d3datmzJm2%2B%2ByZNPPsmaNWt47rnnaN%2B%2BPYmJifz000%2BcO3eOBg0aMHjwYB588EHc3Nz48ssveeedd9i1axfFxcU0b96csWPHcuutt5bp64ULF1i1ahVff/01u3fv5uzZs3h7e1OvXj26dOnCQw89RO3atW32iYmJ4ejRo6xdu5asrCzeeOMNtm/fTk5ODg0aNKB37948/PDDBAQEXPF7JSJyOV1DJ1LF3XfffWzduhU3NzfuvPNOBg0aRNu2bctMvZanNKG7%2B%2B67%2BeKLL8jJyaFp06YUFhZy4MABANq1a8frr79OtWrVbPadN28eixcvBqBGjRo0aNCAjIwMMjMzARg1ahRTpkyx2efQoUM8%2BOCDHD9%2BHE9PT8LDw/Hz8%2BPo0aNkZ2cD0KhRI1atWmWT8JQmdG3btiU5OZmIiAhOnTpFx44dmT9/vs15fP755xQWFtKkSROysrKs/fnb3/6Gm5sbr7/%2BOtWrVycsLIyDBw%2BSk5ODm5sb//rXv%2Bjatas15qlTp3jggQfYs2cPbm5uhIeHU61aNdLT063HDA4OZvXq1dSpU8e6X2lC99BDD/H222/j7e1Nw4YNOXPmDCdOnAAgMjKSZcuWVeh7JCICgEVEqrSdO3da2rRpY4mIiLA%2B2rZtaxk9erTl9ddft2zbts1SVFRU7r5Tp0617tO9e3fLb7/9Zl23detWyy233GKJiIiwPPXUUzb7/fvf/7ZERERYoqKiLB999JG1vbi42PLZZ59Z%2B7NixQqb/e6//35LRESEZciQIZb09HSb/dasWWNp3ry5JSIiwvLee%2B/Z7Ffax1atWlk2b95ssVgslqKiIsvp06fLnMd9991nycjIsG4zbdo0S0REhKV58%2BaWZs2aWZYsWWIdj1OnTlnuuusuS0REhOX%2B%2B%2B8vd2x69uxpOXjwoM2677//3nLTTTdZIiIiLHPmzLFZ1717d2tfpk2bZjl79qz1HN977z3ruq%2B%2B%2Bqrc74mISHl0DZ1IFdeiRQs%2B%2BOAD2rVrZ20zm82sX7%2Be%2BfPnM2TIELp06cKCBQvIzc0t9xju7u4sWrSIG264wdoWGRnJ3LlzAfjggw9IT08HID8/n8TERABmz57NgAEDrPu4ubnRp08fa2UuMTGRwsJCALKysti7dy8As2bNwmQy2ex311130aFDBwB2795dbj979%2B5N%2B/btrX0OCgqyWe/p6clLL71EaGiodZu//e1vABQXF3PnnXcycuRI3N1L/jTWrFmTESNGAPDbb79Zj1NYWMjPP/%2BMm5sb06dPp2HDhjZxoqOj6dOnDwB79uwpt6/Nmzdn9uzZ1sqmm5sbw4YNs1Ybf/nll3L3ExEpjxI6kb%2BA66%2B/nuXLl/Phhx8yfvx4IiMj8fLysq7PysritddeY8CAAdZpv0vdfPPNNG/evEx7ly5daNCgAcXFxXz77bcAJCcnc/LkSQICAujRo0e5/RkwYADu7u6kp6dbE6Xg4GB%2B%2Bukntm/fTkRERJl9ioqKCAwMBEquXSvPpUlreZo1a2Yz/QlQv35969flXSdXmliazWZrm6enJ19//TXbt2%2BnW7duZfaxWCz4%2B/v/bl%2B7deuGm5tbmfbGjRsDcO7cud89FxGRS%2BmmCJG/kBtuuIEbbriB%2BPh4cnNz2bp1Kz/88AMfffQRWVlZHDlyhIkTJ5KUlGSz34033njFYzZr1oy0tDQOHToEYK2yFRQUMGzYsCvu5%2BHhQXFxMQcOHLA5vq%2BvL8ePH2f79u0cOXKE1NRU9u/fz65du8jJyQFKqmnlKa28XUndunXLtHl7e1u/rlmzZpn1l95YcjkfHx%2BysrLYtm0bhw4dIi0tjQMHDrBr1y7OnDnzu329tAJ5qdJP6ygqKrryiYiIXEYJnchflJ%2BfH507d6Zz585MnDiRGTNm8Nlnn7Ft2zZ27txp84kRl99VeqnSStTZs2eB/1WW8vPz2bp16x/2o3Q/gAMHDvDiiy%2Byfv16m0QoMDCQqKgoMjIySElJueKx/uijy/z8/H53felUa0VkZmYyd%2B5c/vOf/1BQUGATo3Xr1hQVFf3utOmliWR5LLpfTUSughI6kSps5syZ/PTTTwwcOJCxY8decTtfX1%2BeffZZvvzySwoKCjh48KBNQldaGStP6VRk6dudlCZNLVu2ZPXq1RXua1ZWFvfffz9ZWVnUq1ePIUOG0KJFCxo3bkyDBg1wc3Nj8uTJv5vQOUpeXh4PPPAA%2B/fvJygoiPvuu49WrVrRpEkTwsPD8fDwYMGCBboOTkQcRgmdSBWWl5fH4cOH%2Bfrrr383oYOSKlhAQADZ2dllPvqrdBq1PKUJ1vXXXw%2BUvK0IlLwFSWFhYblTlhaLhU2bNlGnTh3q1auHt7c3q1atIisri6CgIFatWlXux4%2BV3njhbF9//TX79%2B/H09OTpKSkMjdFAOVeiygiYhTdFCFShZXeYfrrr7/%2BYbXshx9%2BIDs7m6CgoDKfKvH9999b31vtUt9%2B%2By3Hjx/H29ubmJgYANq3b0%2B1atU4f/78FWN%2B8sknPPDAA/Tu3dua%2BKSlpQFQr169cpO5ffv2sW3bNsD515eV9jUgIKDcZO7kyZN89913gPP7KiJ/DUroRKqwzp0706tXLwCefPJJnn/%2BeWsyUiovL49Vq1YxadIkACZOnFjmUwpycnKIi4vj%2BPHj1rZNmzYxffp0oORNeUvffsPf39/6ViDPP/88q1atsrke7uuvv%2Bbpp58GSt5mJDw8HPjf3Z0pKSl88cUX1u0tFgvff/89o0aNsl6rdqW3V3GU0r6eOXOGd955x%2BZ6t23btvHQQw9Z3wjZ2X0Vkb8GTbmKVHHz5s3D39%2BfDz/8kHfffZd3332XevXqERwcTF5eHocOHSI/Px8vLy8mT57M0KFDyxyjYcOG7Nq1i9tuu42IiAhycnKsd7X269ePMWPG2Gw/evRoUlNTWbFiBTNmzOAf//gHDRo0ID09nYyMDKDkUx2ee%2B456z6DBg1i%2BfLlHD58mAkTJlC/fn1q1qzJ8ePHycrKwsvLiw4dOrB582anT73GxMQQGRlJcnIys2fPZvHixdSuXZvMzEzS09Nxc3Pjlltu4ccffyQjIwOLxVLuW5SIiFQWJXQiVZy3tzdz5sxh2LBhrF27lk2bNpGenk5KSgp%2Bfn40atSILl26MGjQIGvl6XKtW7dm3rx5JCQk8Msvv%2BDp6UmHDh247777rG%2Bgeyk3NzdmzZpFr169eP/999m2bRu7du3Cx8eHNm3a0K9fP2JjY23u9AwMDGTlypUsXryYb7/9lrS0NE6ePEmdOnXo1q0bDzzwAP7%2B/tx2222kpKRw7Ngx6tWrZ9i4/R4PDw/efvttli5dymeffUZqaip79uwhNDSUPn36MGzYMFq2bEnHjh3Jzs5m69atf/geeSIi9tBnuYrIFZV%2BBmr//v2ZN2%2Bes7sjIiJXoGvoRERERFycEjoRERERF6eETkRERMTFKaETERER%2BR2nTp2iZ8%2BebNq06YrbrF%2B/nv79%2B9OmTRt69%2B7Nt99%2Ba7N%2B8eLFdO3alTZt2jB8%2BHAOHDhQqX1UQiciVzRnzhx2796tGyJE5C/rl19%2BITY2liNHjlxxm0OHDhEfH8/EiRP5%2BeefiY%2BPZ9KkSda3WFqzZg1Lly5lyZIlbNq0iZYtWzJhwoRK/cxmJXQiIiIi5VizZg2PPfYYjzzyyB9uFxUVxW233Yanpyd9%2BvShffv2JCUlAbBixQqGDh1K06ZN8fHxYfLkyRw7dux3K35XSwmdiIiIVDkZGRns3LnT5lH6xuYV1aVLF7766qty32/zUvv27SMiIsKm7frrr7d%2B1vXl6728vGjYsKF1fWXQGws7gyPeMb5RI9i7F5o2hYMHDQ%2BX9L7xb2cYEAB9%2BsDatXD%2BvOHh%2BIPf30rh5lZyXufPgyPeEbJajgM%2BYcHDA4KDISsLHPE5pmaz8TE8PSE8HI4cgcJC4%2BNd/MxaQwUEQK9e8MUXDvmFeuSHewyPERwMM2bA7NklP35GK%2BdDVSqdjw%2B0bg07dkBenvHx2rc3Pka5DPi/mJSQwMKFC23axo8fT3x8fIWPERoaWqHtzp8/j5%2Bfn02br68vOTk5FVpfGZTQVVVBQSX/WIOCnN2TSuPtDe7uJUtHJHSO4Ob2v0eVeYvvS0%2BqqnB3Lzkf9yo0qeHlVXJOXl7O7kml8fMr%2BRZd9n/TpXl4lHybPDyc3RPXExsbS0xMjE1bRRO0q%2BXn58eFCxds2i5cuGD9XOw/Wl8ZlNCJiIiIcxnwYslkMmEymSr9uOWJiIhg586dNm379u2jVatWADRt2pS9e/fSvXt3AAoKCjh06FCZaVp7VKGXmyIiIiKON2DAADZv3szatWspLCxk7dq1bN68mTvvvBOAe%2B65h/fee4%2BUlBTy8vKYP38%2BISEhREVFVVofVKETERER53LByxkiIyN55plnGDBgAE2aNOGVV15h3rx5PPHEE9SvX5/ExEQaNWoEwKBBgzh37hzjxo3j1KlTtG7dmtdffx2vSrzkQQmdiIiIOJcLJHS7d%2B%2B2eZ6cnGzzPDo6mujo6HL3dXNzY%2BTIkYwcOdKw/l37IygiIiIiv0sVOhEREXEuF6jQXes0giIiIiIuThU6ERERcS5V6OymhE5EREScSwmd3TSCIiIiIi5OFToRERFxLlXo7KYRFBEREXFxqtCJiIiIc6lCZzcldCIiIuJcSujsphEUERERcXGq0ImIiIhzqUJnNyV0IiIi4lxK6OymERQRERFxcarQiYiIiHOpQmc3jaCIiIiIi6uSCV3fvn35%2BOOPK/24q1evJiYmptKPKyIi8pfm7l75j7%2BYKjnl%2Btlnnzm7CyIiIlJRf8EErLI5fAQTExO59dZb6dChA/fccw/r1q1j06ZNNGvWzGa7adOmMW3aNOs%2BI0eO5J577qFDhw4sXLiQrl27UlxcbN1%2B%2BfLl9O3bF4CYmBhWr17Nxo0bufHGGzl37px1u/Xr19OhQwfy8/PJz8/n5ZdfpkePHnTo0IHRo0dz%2BPBh67b79%2B9n%2BPDhREZG0r9/f3777Tcjh0ZERETkT3Fohe6nn34iKSmJ1atXExoaSlJSEk888QTz58//w303btzIm2%2B%2ByY033khxcTFvvvkmGzdupHPnzgCsWbOGQYMG2exz8803U7t2bT7//HOGDBli3W7AgAF4e3szd%2B5cfvrpJ95%2B%2B21MJhOLFy9m5MiRrF27Fnd3d8aMGUPXrl154403OHLkCKNHj8b9Kl9FZGRkkJmZadMW2qgRpqCgqzrOVWve3HZpsJo1jY9RrZrt0miOeMFYGsNhL049HfAr7%2BFhuzSat7fxMby8bJdGM/rvAzj8F6pBA%2BNjmEy2S6P5%2Bxsfw9fXdmmknBzjY1yRKnR2c2hC5%2BPjw5kzZ1ixYgXdu3dn8ODBxMbGsnnz5j/cNywsjE6dOlmf9%2BvXjw8//JDOnTuzf/9%2Bdu3axeuvv26zj5ubG4MGDeLDDz9kyJAhnD17lm%2B%2B%2BYYVK1ZgsVh4//33SUhIICwsDIBx48axYsUKvvvuO2rWrMnx48d5/PHH8fHxoWnTpjz00EO88847V3XOSUlJLFy40KZt/MSJxE%2BceFXH%2BdOWL3dImNsdEqXEJT8GVYafn4MCBQQ7KBCOSUoAgh14TnXqOCbOxb9JDtGhg0PCTO7hkDAADB/uuFiO0qSJ8TG2bDE%2BhhjHoQldZGQkiYmJLF26lDfeeANfX1%2BGDx9O27Zt/3Bf02UvuQYPHsyIESM4f/689WaFWrVqldnv7rvvJjExkdTUVDZs2EDTpk1p3rw5WVlZ5OTkMHHiRJuqW0FBAUePHiU/P5%2BaNWvie8nLovDw8Ks%2B59jY2DI3UoT27w9XmRhetebNS5K5oUMhJcXYWMCXc7YaHqNatZJkbuNGuGQW3TAXi7%2BGcncvSeZyc%2BGSKwgME3Ahy/ggHh4lyVx2NhQVGR/PEWUFL6%2BSZO7ECSgoMD7enj3Gx6hWrSSZ27zZIb9Q87cZn9GZTCXJ3NKlkJFheDjuuMP4GL6%2BJcnc/v1w4YLx8ZxGFTq7OTShO3bsGMHBwSxZsoT8/Hw2btzI%2BPHjGTNmDAD5%2Bfl4X5w%2BOX36NDUvmcdzc3OzOVbr1q257rrr%2BOqrr/jkk0947rnnyo0ZGhpK165d%2BfTTT1m/fr11WrZmzZr4%2BPjw5ptv0qZNG%2Bv2Bw4coHbt2uzatYtTp05x/vx5AgICADhx4sRVn7PJZCqTjHLw4FUf509LSYHkZMPDnD5teAirc%2BccE88RCdalsRwSr7DQAUEuKipyTLz8fONjlCoocEy87GzjY5Q6d84h8dLSDA9hlZHhmHiOnKK8cMHJU6JGU0JnN4eO4I4dOxg1ahQpKSl4e3sTfHGqpEOHDnh6elrvTv3xxx/56aef/vB4gwcPJiEhAXd3d7p06XLF7YYMGcKKFSvYvXs3/fv3B8Dd3Z1BgwYxf/58Tpw4QXFxMWvWrKFfv34cPnyYyMhIGjVqxHPPPUdubi6HDx/mzTffrIRREBEREalcDq3Q9erVi0OHDjF27FhOnz5NcHAwM2bMoEOHDsyYMYNFixYxa9Ysbr75Zu6%2B%2B25yc3N/93j9%2B/fnxRdf5OGHH/7dmxWio6MpLi7m9ttvJzAw0No%2BdepUEhMTGTp0KNnZ2YSFhZGQkECLFi0A%2BNe//sXMmTO55ZZbCAkJoUePHnz55ZeVMxgiIiJSQhU6u7lZLBaLszvxl3PZ9LEhIiNh61Zo29YhU65J7xv/Y1SzJtx%2BO3z5pWOmXPv0MT6GuzsEBMD5846Zcq2Wk258EE/PkhsVsrIcM%2BVqNhsfw9u75EaF1FTHTLlu22Z8jKAg6NED1q1zyJTrIz/cY3iMBg1g8mSYP98xU65Dhxofw98fWraEnTsdM%2BXavr3xMcrVtGnlH3Pv3so/5jWsSr6xsIiIiLgQVejspoROREREnEsJnd00giIiIiIuThU6ERERcS5V6OymERQRERFxcarQiYiIiHOpQmc3JXQiIiLiXEro7KYRFBEREXFxqtCJiIiIc6lCZzeNoIiIiIiLU4VOREREnEsVOrspoRMRERHnUkJnN42giIiIiItThU5EREScSxU6u2kERURERFycKnQiIiLiXKrQ2U0JnYiIiDiXEjq7KaETERERKUdWVhZPPfUUmzdvxsPDgwEDBjB16lQ8PW3Tp1GjRvHLL7/YtOXk5BAbG8uzzz7LyZMn6dy5M/7%2B/tb1NWvW5Jtvvqm0viqhExEREee6Rit0kyZNonbt2mzYsIGTJ08yduxY3n77bUaNGmWz3RtvvGHzfOXKlSxcuJDx48cDsGPHDurXr1%2BpCdzlrs0RFBEREXGiw4cPs3nzZqZMmYKfnx9hYWHExcWxbNmy393vwIEDzJo1i3nz5mEymYCShK5Vq1aG9lcVOidIet9ieIyaNeF24Ms5Wzl92vBwxN7rZnyQyEi4fSu3T2sLycmGh1v6rvHfp1q1oG9f%2BO47OHXK8HAMHFjb8Bju7uAP5PgFU1xseDh8ahl/TgBeQEGdMIfEGvRoE8NjNG4MC3rAI5/24MABw8Px0WvHjQ/i6QmEMnlEJhQWGh8vJ8f4GN7eQBgtq6eCb77x8TD%2BZ69cBlToMjIyyMzMtGkLDQ21Jll/ZO/evQQFBVG79v/%2BxjRp0oRjx45x9uxZqlevXu5%2BzzzzDHfddRdRUVHWth07dnDmzBn69evHyZMnad26NVOnTuX666//E2dWPiV0IiIi4lwGJHRJSUksXLjQpm38%2BPHEx8dXaP/z58/j5%2Bdn01b6PCcnp9yE7ueff2b79u3MmzfPpr169epcf/31jB49Gm9vb15%2B%2BWUeeugh1q5dS7Vq1a7mtK5ICZ2IiIhUObGxscTExNi0hYaGVnh/f39/cnNzbdpKnwcEBJS7T1JSEr179y4TZ/78%2BTbPp0%2BfzqpVq/j555/p3r17hfv0e5TQiYiIiHMZUKEzmUwVnl4tT9OmTcnOzubkyZOEhIQAsH//furUqVNuVa2wsJB169bxyiuv2LSbzWZeeeUV7r//furXrw9AUVERhYWF%2BPr6/un%2BXU43RYiIiIhcpmHDhrRr147Zs2djNptJTU1l0aJFDBo0qNztd%2B/eTV5eHm3btrVpDwwM5Mcff2Tu3LmcO3eO8%2BfPM2vWLBo0aGBznZ29lNCJiIiIc7m7V/6jEiQkJFBYWEiPHj0YMmQI0dHRxMXFARAZGcnHH39s3TY1NZUaNWrg4%2BNT5jiLFi2iuLiY2267jejoaDIzM1m8eDFeXl6V0k/QlKuIiIg42zX6PnQhISEkJCSUuy75sndbuOOOO7jjjjvK3bZ%2B/fplbtCobNfmCIqIiIhIhalCJyIiIs51jVboXIkSOhEREXEuJXR20wiKiIiIuDhV6ERERMS5VKGzm0ZQRERExMWpQiciIiLOpQqd3ZTQiYiIiHMpobObRlBERETExalCJyIiIs6lCp3dNIIiIiIiLk4VOhEREXEuVejspoROREREnEsJnd00giIiIiIuThU6ERERcS5V6OymERQRERFxcVW2Qjdt2jQA5syZ4%2BSeiIiIyO9Shc5uVTahExERERehhM5u1/wIpqWl0axZM5YuXUrnzp1p164dU6ZMwWw2A/DOO%2B/Qs2dPIiMjufvuu9m4cWOZY%2BTn5zN37lx69%2B5NZGQknTp1YtasWVgsFgC2bNnC3XffTVRUFD179uT555%2BnsLAQgC%2B%2B%2BIK%2BffvSrl07evfuzaJFixx38iIiIiIV4DIVui%2B//JJPPvmEoqIixo0bxzPPPEOnTp1YtGgRr732GjfddBOrVq1i7NixfPfddzb7vvPOO2zYsIF33nkHk8lEcnIy999/P7fddhudOnXi8ccfZ8KECQwcOJC0tDTuu%2B8%2BoqKiuPXWW5kyZQqLFy%2BmY8eO/PbbbwwbNowuXbpw4403VqjfGRkZZGZm2rQVFYUSEmKqrKEpV7VqtkvDRUYaH6N5c9ulwWrVMj5G9eq2S6M54kWwm9v/lnrR/ec0bmx8jAYNbJeG83TAv5vSGI6IBeDtbXwMLy/bpZHy842PcSX6Y2E3l0nopk%2BfTq2L/2EnTJjA2LFjOXHiBLGxsUReTCYGDx5MkyZN8PX1tdl3yJAhDBw4kODgYDIyMrhw4QIBAQGkp6cD4OPjw%2Beff05QUBDt27dn/fr1uLu7c%2BHCBXx9fVm5ciXFxcW0bduWX375Bfer%2BMFLSkpi4cKFNm3jxo1n6NB4e4ajwjp1ckgYuH2rgwIBy5c7JExfh0QpER3twGAO4ufn7B5UPkf8TwVYsMAxcQAmT3ZUpFBHBYKaNR0Xy1Hq1DE%2Bxv79xscQw7hMQnfddddZv65bty75%2BflkZGRQr149m%2B3atm1bZt/c3FyeffZZtmzZQp06dWjRogUWi4Xi4mKgpIKXmJjIM888Q2ZmJtHR0fz973%2BnTp06/Pvf/2bRokVMnjwZs9lMr169ePLJJ6lRo0aF%2Bh0bG0tMTIxN2/btoXz55dWOwNWpVq0kmdu4Ec6dMzYWwO3Tyo57pWvevCSZGzoUUlIMD/fZLOOT1OrVS5K5DRvg7FnDw9G9u/Ex3NxKkrncXLh4VYOhHJVkeXlBQYFjYj3%2BuPExGjQoSebmz4e0NOPjLZiR%2Bccb2cvTsySZO30aLl42Y6gLF4yP4eVVksydOOG4H0BnUIXObi6T0KWnp9P44jxEWloafn5%2BmEwmjh8/brPdggULGDBggE1baQL2ww8/4OPjQ3FxMe3btwcgLy%2BPffv28fe//x1PT08OHjzIk08%2ByezZs5k9ezYZGRnMnz8fgF27dvHoo4/y2muvMXXq1Ar122QyYTLZTq/%2B%2BmvJ3xtHOHfOQbGSkx0Q5KKUFIfEO3XK8BBWZ886Jt7F1zCGKv27bLE4Jl5VdOCA42KlpTkoniMSrEtjOSKeI6coCwqcOyVqNCV0dnOZEZw/fz5ms5n09HQSEhK48847GTJkCElJSfzf//0fxcXFrFq1imXLllHzsnK72WzGx8cHd3d3zGYzL774ImazmYKCAtzc3Hj00Ud58803KSwsJDQ0FE9PT2rWrMn58%2BcZPXo0n3zyCRaLBZPJhLu7e5nji4iIiDiTy1TowsPD6devH7m5ufTv358pU6bg4%2BPD2bNnmTJlCpmZmVx//fUsXrzYeq1dqSeffJKZM2fSoUNIkhzCAAAgAElEQVQHAgIC6NatG9HR0ezZswdvb29effVV5s6dy%2Buvv46Hhwddu3blscceo1q1aiQkJPDPf/6TmTNn4uvrS58%2BfXjwwQedMwgiIiJVkSp0dnOZhG7YsGHlTnMOGzaMYcOGlWm/9A2FW7VqxerVq6947LZt25KUlFTuupiYmDLXwImIiIhcS1wmoRMREZEqShU6uymhExEREedSQme3az6ha9CgAbt373Z2N0RERESuWdd8QiciIiJVnCp0dtMIioiIiLg4VehERETEuVShs5sSOhEREXEuJXR20wiKiIiIuDhV6ERERMS5VKGzm0ZQRERExMWpQiciIiLOpQqd3ZTQiYiIiHMpobObRlBERETExalCJyIiIs6lCp3dNIIiIiIiLk4VOhEREXEuVejspoROREREnEsJnd00giIiIiLlyMrKIi4ujqioKDp27Mjzzz9PYWFhuduOGjWK1q1bExkZaX18//33ABQVFTF37lxuueUWIiMjGTt2LBkZGZXaVyV0IiIi4lzu7pX/qASTJk3C39%2BfDRs2sHLlSjZu3Mjbb79d7ra//vorS5YsITk52fro2rUrAK%2B%2B%2Bir//e9/WbVqFRs2bMDX15cnn3yyUvpYSgmdiIiIyGUOHz7M5s2bmTJlCn5%2BfoSFhREXF8eyZcvKbJuamsqZM2do0aJFucf64IMPGD16NHXr1iUwMJAnnniC77//ntTU1Errr66hc4I%2BfYyPUfripHNnKC42Pt7Sdy2Gx6hVC/oCn83ayqlThodj%2BAg344NERkLfrfR9qi0kJxsebvs2479Pfn4QEQFpaZCba3g4h/wsBAZC%2B/awbRuYzcbH%2B%2Bil/cYH8fYGwljwaCrk5xsfL%2BWI8TECAyE0FA4dcsw3KjTU%2BBiWi7%2BzeXlw4YLx8ZzFgGvoMjIyyMzMtGkLDQ3FZDJVaP%2B9e/cSFBRE7dq1rW1NmjTh2LFjnD17lurVq1vbd%2BzYQUBAAI888gg7duwgJCSEBx98kEGDBnHu3DlOnDhBRESEdfuQkBBq1KjB7t27CQsLs/NMSyihExEREecyIKFLSkpi4cKFNm3jx48nPj6%2BQvufP38ePz8/m7bS5zk5OTYJXX5%2BPm3atOGRRx6hadOmbNq0ifj4eAICAoiMjATA39/f5li%2Bvr6cP3/%2Bqs/rSpTQiYiISJUTGxtLTEyMTVvoVVRV/f39yb1smqH0eUBAgE37XXfdxV133WV93qVLF%2B666y4%2B//xzbrnlFpt9S124cKHMceyhhE5EREScy4AKnclkqvD0anmaNm1KdnY2J0%2BeJCQkBID9%2B/dTp04dqlWrZrPtypUrCQgIoHfv3ta2/Px8fHx8qFGjBrVr12bfvn3WadfMzEyys7NtpmHtpZsiRERExLmuwbtcGzZsSLt27Zg9ezZms5nU1FQWLVrEoEGDymxrNpuZNWsWv/32G8XFxXz33Xd8%2BumnxMbGAnD33Xfz6quvkpqaitlsZvbs2XTo0IHw8HC7%2B1lKFToRERGRciQkJPDss8/So0cP3N3dueuuu4iLiwMgMjKSZ555hgEDBvDAAw%2BQk5PD%2BPHjycrKIiwsjLlz5xIVFQXAuHHjKCwsZNiwYZw/f56OHTvyz3/%2Bs1L7qoROREREnOsa/aSIkJAQEhISyl2XfMk7E7i5uREXF2dN9i7n5eXFY489xmOPPWZIP0FTriIiIiIuTxU6ERERca5rtELnSpTQiYiIiHMpobObRlBERETExalCJyIiIs6lCp3dNIIiIiIiLk4VOhEREXEuVejspoROREREnEsJnd00giIiIiIuThU6ERERcS5V6OymERQRERFxcarQiYiIiHOpQmc3JXQiIiLiXEro7KYRFBEREXFxqtCJiIiIc6lCZzeNoIiIiIiLU4VOREREnEsVOrspoRMRERHnUkJntyqf0H3zzTf861//4vDhw%2BTk5NC6dWuee%2B45GjZsyGeffUZCQgJZWVncdNNN1KtXj4KCAubMmYPFYmHp0qUsW7aMrKwsIiIimDFjBq1atXL2KYmIiIjYqNIJ3YkTJ5g4cSIvv/wyMTExnD59mvHjx/PKK68wdOhQpk6dSkJCAl27duXbb79l0qRJ9O/fH4Dly5fz1ltv8eqrr9KkSRM%2B%2BugjHnroIT7//HNCQkIq3IeMjAwyMzNt2vz9QzGZTJV6rpcrfbHjqBc9tWoZH6N6ddul4SIjjY/RvLnt0mB%2BfsbH8PGxXRotMND4GP7%2BtkvDeXsbH8PLy3ZptKr4jfL1NT6GI3%2BhLlwwPsaVqEJnNzeLxWJxdieMkp%2Bfz4kTJwgPD8dsNpOamsorr7zC2bNnCQ8PJycnh5deesm6/cSJE/Hz82POnDn06dOHESNGcO%2B991rX33vvvdx%2B%2B%2B2MHDmywn1ITExk4cKFNm3jxo1nwoR4%2B09QRESksvz6KzhrFuqttyr/mA89VPnHvIZV6Qqdl5cXn376Ke%2B//z5ubm5ERERgNpvx9PTk%2BPHjtGjRwmb7sLAwTp48CcDRo0eZO3cu8%2BbNs64vLCy86inX2NhYYmJibNr8/UM5f/5PnlQFubuXVGNyc6G42NhYAN99Z3yM6tUhOho2bICzZ42P1/eptsYHad4cli%2BHoUMhJcXwcHve32p4DB8fuO46OHwY8vIMD8eZM8bH8PeHli1h507IyTE%2BXvs6qcYH8fKCOnXgxAkoKDA%2B3okTxsdw9DeqZk3jY/j4QFgYpKY65hfKWVShs1uVTug%2B//xz3nvvPf79739z3XXXATBr1iz27NlD/fr1OXbsmM32x44dw/viVEedOnWYMGECffv2ta4/cuQIQUFBV9UHk8lUZnr13DnHJFlQEscRsU6dMj5GqbNnHRQvOdkBQS5KSXFIvNxcw0NY5eU5Jp7ZbHyMUjk5DoqXn%2B%2BAIBcVFDgmXlX8RjniGoZSeXnOnRI1mhI6u1XpETx37hzu7u74%2BvpisVj4/vvv%2BfDDDykoKGDw4MF89dVXbNiwgaKiItavX8%2BXX35p3XfIkCG8%2Buqr7N%2B/H4ANGzbQt29ftmzZ4qzTERERESlXla7QDRw4kF9%2B%2BYW%2Bffvi4eFB48aNeeCBB1i2bBnNmjXjmWee4e9//zunT58mKiqKTp064XXxAuEHH3wQi8VCXFwcGRkZ1K5dm5kzZ9KjRw8nn5WIiEgVowqd3ap0Quft7c2LL75Ypn3ChAkcPHiQG2%2B8kXXr1lnb4%2BPjqXXxdk0PDw9GjRrFqFGjHNZfERERkT/jL5sS79u3jwceeIAjR44AsGnTJjZs2MCtt97q5J6JiIj8xbi7V/7jL6ZKV%2Bh%2BT8%2BePdm3bx8jRozgzJkz1K9fn1mzZtG2rQPubBQREZH/%2BQsmYJXtL5vQAYwdO5axY8c6uxsiIiIidvlLJ3QiIiJyDVCFzm4aQREREREXpwqdiIiIOJcqdHZTQiciIiLOpYTObhpBERERERenCp2IiIg4lyp0dtMIioiIiLg4VehERETEuVShs5sSOhEREXEuJXR20wiKiIiIuDhV6ERERMS5VKGzmxI6ERERcS4ldHbTCIqIiIi4OFXoRERExLlUobObEjoRERGRcmRlZfHUU0%2BxefNmPDw8GDBgAFOnTsXTs2z69O9//5u3336bjIwMTCYTI0aMYNiwYQAUFxfTrl07LBYLbm5u1n3%2B%2B9//4u/vXyl9VUInIiIiznWNVugmTZpE7dq12bBhAydPnmTs2LG8/fbbjBo1yma7r7/%2BmpdeeonFixdz0003sW3bNv72t78REhJCr1692LdvHwUFBWzduhVvb29D%2BnptjqCIiIj8dbi7V/7DTocPH2bz5s1MmTIFPz8/wsLCiIuLY9myZWW2TU9PZ/To0bRp0wY3NzciIyPp2LEjW7ZsAWDHjh00a9bMsGQOVKFzimo56cYH8fSEgGACLmRBYaHh4QYOrG14jNLfz%2B7dobjY8HBs32YxPIafH0QAe97fSm6u4eG4qY3bH29kr8hI2LqViHvbQnKy8fHmzTM%2BhskE7YfTPmUpZGQYH2%2Br8SEwmWD4cPjuO4ec00fXTzY8Rg036AZ8d749Z84aHo4Z442PccMNsHIlDJp2Pbt2GR9v507jYzhKRkYGmZmZNm2hoaGYTKYK7b93716CgoKoXft//9%2BaNGnCsWPHOHv2LNWrV7e2l06tlsrKymLLli1Mnz4dKEno8vLyuOeeezh69ChNmjRh8uTJtG3b9s%2BeXhlK6ERERMS5DJhyTUpKYuHChTZt48ePJz4%2BvkL7nz9/Hj8/P5u20uc5OTk2Cd2lMjMzGTNmDK1ataJfv34A%2BPr6cuONNzJx4kRq1KjBsmXLePjhh/n4448JCwu72lMrlxI6ERERqXJiY2OJiYmxaQsNDa3w/v7%2B/uReNnVS%2BjwgIKDcfbZt28bEiROJiorihRdesN48MW3aNJvtHn74YVavXs369eu5//77K9yn36OETkRERJzLgAqdyWSq8PRqeZo2bUp2djYnT54kJCQEgP3791OnTh2qVatWZvuVK1fy3HPPMWHCBEaOHGmzbsGCBfTq1YsWLVpY2/Lz8/Hx8fnT/bucbooQERER57oGb4po2LAh7dq1Y/bs2ZjNZlJTU1m0aBGDBg0qs%2B0XX3zB3//%2BdxITE8skcwB79uzh%2BeefJzMzk/z8fBYuXIjZbKZnz55297OUEjoRERGRciQkJFBYWEiPHj0YMmQI0dHRxMXFARAZGcnHH38MwMKFCykqKmLChAlERkZaHzNnzgTghRdeIDw8nDvvvJOOHTuyefNm3nrrLYKCgiqtr5pyFREREee6Rt%2BHLiQkhISEhHLXJV9yF/8nn3zyu8cJCgrihRdeqNS%2BXe7aHEERERERqTBV6ERERMS5rtEKnStRQiciIiLOpYTObhpBERERERenCp2IiIg4lyp0dtMIioiIiLg4VehERETEuVShs5sSOhEREXEuJXR20wiKiIiIuDhV6ERERMS5VKGzm0ZQRERExMWpQiciIiLOpQqd3ZTQiYiIiHMpobObRlBERETExalCJyIiIs6lCp3dNIIiIiIiLq7KJXQ///wzkZGRAKSlpdGsWTPS0tKc3CsRERG5Inf3yn/8xVS5KdeoqCiSk5Od3Q0RERGpqL9gAlbZXDqhS0xMZOXKleTm5hIWFkZcXByBgYGMGDGC3bt3W7f78MMP%2BfDDD8nJySEmJoZp06YRGBiI2Wzmqaee4scff8TT05PmzZszY8YMmjRpQmJiIrt27cLDw4MNGzZQq1YtxowZQ2xsrBPPWERERKQsl03ofvrpJ5KSkli9ejWhoaEkJSXxxBNPMH/%2B/DLb/vzzz6xYsYLi4mLi4uKYPXs2s2fP5s0338RsNrN%2B/Xrc3d2ZOXMm8%2BbN49VXXwVg3bp1TJs2jZdeeolNmzbx//7f/yM8PJxOnTpVuJ8ZGRlkZmbatIV6eGAKDbVvAP6Ih4ft0mCOeHHl5va/pSPi%2BfkZH8PHx3ZpuIuXIxiqeXPbpdFMJuNj1Kplu6wKHHxONWoYHyMw0HZptBtuMD5Go0a2SyPt2mV8jCtShc5ubhaLxeLsTvwZycnJjBgxgjFjxtC9e3eaN2%2BOu7s7mzdvtlbo0tLS6NGjBx999BHNL/5z%2BeGHHxg7dizbt2/njTfeYOnSpYwbN47OnTtTv3593C/%2BUCUmJvLVV1/x8ccfW2NOnjwZLy8v5syZU%2BF%2BJiYmsnDhQpu28ePGET9hQiWMgoiISOVo2RJ27nRS8IMHK/%2BYjsiCryEuW6GLjIwkMTGRpUuX8sYbb%2BDr68vw4cNp27ZtmW0bNGhg/bpu3brk5%2BeTnZ3N6NGj8fb2ZuXKlTz77LOEhYUxefJkbr/9dgAaNmxoc5y6deuy6ypfwsTGxhITE2PTFurhAVlZV3Wcq%2BbhAUFBkJ0NRUXGxgJy/IINj%2BHmVlI1y80FR7wMccS9ND4%2BcN11cPgw5OUZHy/i3rK/H5WueXNYvhyGDoWUFOPjPfKI8TFq1YK%2BfeGzz%2BDUKePjOYKDz%2Bm7sOGGxwgMhKgo%2BPlnMJsND8dlr9UN0agR/OMfMGWKMTnPNUMVOru5bEJ37NgxgoODWbJkCfn5%2BWzcuJHx48eTmJhYZtv09HQCL9bg09LS8Pf3p1atWqSkpBATE8ODDz7IuXPnWL58OY888gg//fSTdb9LpaWlUbdu3avqp8lkwnT5lFB6OhQWXtVx/rSiIofEKi42PIT1991icUy83FzjY5TKy3NQPEfeMJSS4ph4GRnGxyh16pRj4zmCg87pTHXDQ1iZzXDmjPFxHDlFefCgk6dEjaaEzm4uO4I7duxg1KhRpKSk4O3tTXBwSYVoz549Zbb9xz/%2BwZkzZzhx4gQvv/yy9caGDz74gMcff5ysrCwCAwMJDAzE398fb29vALZt28ZHH31EUVER69evZ926ddxzzz2OO0kRERGRCnDZCl2vXr04dOgQY8eO5fTp0wQHBzNjxgwaN25cZtvIyEjuuOMO3N3d6devH49cnKJ59NFHefbZZ%2Bnbty95eXk0btyYRYsW4XPxCvUbbriBdevW8dxzzxESEsI//vEP63vciYiISCVRhc5uLpvQAYwZM4YxY8aUaS99y5IGDRpYvy5vu4CAAObOnXvF41erVo2EhIRK6q2IiIiIMVw6oRMREZEqQBU6uymhExEREedSQmc3JXRXEB8f7%2BwuiIiIiFSIEjoRERFxLlXo7KaETkRERJxLCZ3dNIIiIiIiLk4VOhEREXEuVejsphEUERERcXGq0ImIiIhzqUJnNyV0IiIi4lxK6OymERQRERFxcarQiYiIiHOpQmc3jaCIiIiIi1OFTkRERJxLFTq7KaETERER51JCZzeNoIiIiIiLU4VOREREnEsVOrtpBEVERETKkZWVRVxcHFFRUXTs2JHnn3%2BewsLCcrddv349/fv3p02bNvTu3Ztvv/3WZv3ixYvp2rUrbdq0Yfjw4Rw4cKBS%2B6qETkRERJzL3b3yH5Vg0qRJ%2BPv7s2HDBlauXMnGjRt5%2B%2B23y2x36NAh4uPjmThxIj///DPx8fFMmjSJ9PR0ANasWcPSpUtZsmQJmzZtomXLlkyYMAGLxVIp/QQldCIiIuJs12BCd/jwYTZv3syUKVPw8/MjLCyMuLg4li1bVmbbNWvWEBUVxW233Yanpyd9%2BvShffv2JCUlAbBixQqGDh1K06ZN8fHxYfLkyRw7doxNmzbZ3c9SuobOGcxm42N4e0NwMOTkQH6%2B4eF8atU2PEYpLy/HxDl1yvgYgYElyzNnHPNjwbx5xscwmUqWjzwCGRnGx3vsMeNjREbC8OGwYAEkJxsfb9Ei42P4%2Bv5v6e9veDhH/CgUFZUsT52CrCzj40VEGB/juuv%2Btyw9P6mYjIwMMjMzbdpCQ0Mxlf6N%2BgN79%2B4lKCiI2rX/9/%2BtSZMmHDt2jLNnz1K9enVr%2B759%2B4i47Afi%2BuuvJyUlxbp%2B9OjR1nVeXl40bNiQlJQUbr755qs%2Bt/IooRMRERGnsuBW6cdMSkpi4cKFNm3jx48nPj6%2BQvufP38ePz8/m7bS5zk5OTYJXXnb%2Bvr6kpOTU6H1lUEJnYiIiFQ5sbGxxMTE2LSFhoZWeH9/f39yc3Nt2kqfBwQE2LT7%2Bflx4cIFm7YLFy5Yt/uj9ZVBCZ2IiIg4VXFx5R/TZDJVeHq1PE2bNiU7O5uTJ08SEhICwP79%2B6lTpw7VqlWz2TYiIoKdO3fatO3bt49WrVpZj7V37166d%2B8OQEFBAYcOHSozTWsP3RQhIiIiTlVcXPkPezVs2JB27doxe/ZszGYzqampLFq0iEGDBpXZdsCAAWzevJm1a9dSWFjI2rVr2bx5M3feeScA99xzD%2B%2B99x4pKSnk5eUxf/58QkJCiIqKsr%2BjFymhExERESlHQkIChYWF9OjRgyFDhhAdHU1cXBwAkZGRfPzxx0DJzRKvvPIKr7/%2BOu3bt2fRokUkJibSqFEjAAYNGsSDDz7IuHHjuPnmm/ntt994/fXX8arEu/w05SoiIiJOZcSUa2UICQkhISGh3HXJl93xHh0dTXR0dLnburm5MXLkSEaOHFnpfSylCp2IiIiIi1OFTkRERJzqWq3QuRIldCIiIuJUSujspylXERERERenCp2IiIg4lSp09lOFTkRERMTFqUInIiIiTqUKnf2U0ImIiIhTKaGzn6ZcRURERFycKnQiIiLiVKrQ2U8VOhEREREXpwqdiIiIOJUqdPZTQiciIiJOpYTOfppyFREREXFxqtCJiIiIU6lCZz9V6ERERERcnBK6K9i0aRPNmjVzdjdERESqvOLiyn/81WjKVURERJzqr5iAVTaXq9ClpaXRrFkzli5dSufOnWnXrh1TpkzBbDaTn5/P3Llz6d27N5GRkXTq1IlZs2ZhsVgAGD58ONOmTaN79%2B5069YNs9nMzp07GT58OJGRkXTp0oWXX37Zuj3AkiVL6NmzJ23atGHChAmYzWZnnbqIiIhIuVy2Qvfll1/yySefUFRUxLhx43jmmWeIiIhgw4YNvPPOO5hMJpKTk7n//vu57bbb6NSpEwA//vgjH3zwAX5%2BfhQWFjJy5EiGDx/OkiVLOHHiBMOHD6d27do0atQIgKNHj/Lpp5%2BSnZ3N4MGDWbZsGWPGjKlwPzMyMsjMzLRpC83LwxQaWnmDUR4vL9ulXLXAQONj%2BPvbLg1nMhkfo1Yt26XRIiONj9G8ue3SaCEhxscICrJdGizYw/gYDj4lGjc2Pkb9%2BrZLIx04YHyMK1GFzn4um9BNnz6dWhf/YUyYMIGxY8cydepUBg4cSHBwMBkZGVy4cIGAgADS09Ot%2B3Xt2pXatWsDsGbNGnx8fBg3bhxubm6Eh4fz1ltv4e/vz%2BHDhwGIj4/Hx8eH2rVr0759e44cOXJV/UxKSmLhwoU2bePHjSN%2BwgR7Tr/i6tRxSBhHpo2OylHbt3dMHICWLR0UqP1wBwUC%2BvZ1TJzhDjyn5csdF8tRevZ0SJi7HRKlREyMY%2BLc7cCTevRR42MMHGh8DDGOyyZ01113nfXrunXrkp%2BfT0FBAbNmzWLLli3UqVOHFi1aYLFYKL4k9TddUqHIzMykbt26uLm5WdsaX3zJVZrQ1axZ07rOy8uLoqKiq%2BpnbGwsMZf9dQnNy4PU1Ks6zlXz8ipJ5k6cgIICY2MBBXXCDI8BJaflgNMBYNs242P4%2B5ckczt3Qk6O8fHapyw1PkitWiXJ3GefwalTxsdbsMD4GM2blyRzQ4dCSorx8aZPNz5GUFBJMvfVV5CdbXi41R6DDY8RFFSSzH3zjUNOif/%2B1/gY9euXJHMvvQRHjxofz1lUobOfyyZ06enp1uQrLS0NPz8/nnrqKWrUqMEPP/yAj48PxcXFtL%2BszHJp8lanTh2OHz%2BOxWKxtn/99deYzWbq1q1bKf00mUw2SSQA%2B/dDfn6lHP8PFRQ4LlYV48jLJXNyHBQvI8MBQS46dcox8ZKTjY9RKiXFMfFOnjQ%2BRqnsbIfEy3Lgf5vsbMjKMj6OI6cojx517pSo0ZTQ2c/lboooNX/%2BfMxmM%2Bnp6SQkJHDnnXdiNpvx8fHB3d0ds9nMiy%2B%2BiNlspuAKJZ1u3bpRWFjIa6%2B9Rn5%2BPkeOHGH27Nnk5eU5%2BGxERERE/jyXrdCFh4fTr18/cnNz6d%2B/P1OmTGHv3r3MnDmTDh06EBAQQLdu3YiOjmbPnj3lHqN69eosWbKEF154gbfeegs/Pz%2BGDRtGbGwsmzZtcvAZiYiI/DWpQmc/l03ohg0bxtSpU23aWrVqxerVq6%2B4z9KlZa8fuuGGG3j33XfLtHfs2JHdu3fbtM2ZM%2BdP9lZERESuRAmd/Vx2ylVERERESrhshU5ERESqBlXo7OdyCV2DBg3KTIWKiIiI/JW5XEInIiIiVYsqdPZTQiciIiJOpYTOfropQkRERMTFqUInIiIiTqUKnf1UoRMRERFxcarQiYiIiFOpQmc/JXQiIiLiVEro7KcpVxEREREXpwqdiIiIOJUqdPZThU5ERETExalCJyIiIk6lCp39lNCJiIiIUymhs5%2BmXEVERERcnCp0IiIi4lSq0NlPCZ2IiIjIVcrJyWHWrFl88803FBYW0qNHD55%2B%2BmkCAgLK3f6LL75g0aJFpKamEhQUxN13301cXBzu7iWTpb179%2BbYsWPW5wArV66kSZMmFeqPEjoRERFxKles0M2aNYvjx4/zxRdfUFRUxKRJk5g3bx5PP/10mW1//fVXHn/8cf75z39y6623cvDgQUaPHo2/vz8jR47EbDZz8OBB1q1bR/369f9Uf3QNnYiIiDhVcXHlPzIyMti5c6fNIyMjo1L6m5ubyyeffMKECRMICgoiODiYxx57jNWrV5Obm1tm%2B6NHj3LvvffSvXt33N3dadKkCT179mTLli1AScIXFBT0p5M5UIXOObZtMz5GUBCEhcGePZCdbXi4QY9WrCRsj8aNYcECePxxOHDA8HB89NJ%2B44N4ewNhtK%2BTCvn5xsfbanwIh1u0yPgYISEly%2BnT4eRJ4%2BPFxRkfIzISBg%2BGF16A5GTDw5k%2BHGt4jBo1Spa1aoGHh%2BHhiIgwPka9eiXL8HDw1H/sq5KUlMTChQtt2saPH098fHyF9r9w4QLp6enlrsvNzaWgoICIS34ImjRpwoULFzh06BA33HCDzfa9evWiV69eNsf%2B7rvv6N%2B/PwA7duzAz8%2BP%2B%2B%2B/n71791K/fn3i4%2BPp3r17hfoKSuhERETEyYyYco2NjSUmJsamLTQ0tML7b9%2B%2BnREjRpS7buLEiQD4%2B/tb2/z8/AA4f/787x7XbDYzceJEfH19efDBBwFwc3OjdevWPProo9SrV4///Oc/xMfH895779GmTZsK9VcJnYiIiFQ5JpMJk8n0p/fv2LEju3fvLnfdb7/9xssvv0xubq71JojSqdbAwMArHvPAgQNMmDCB4OBg3n33Xeu2o0aNstluwIABfPrpp3zxxRcVTuh0DZ2IiKemOskAACAASURBVIg4lRHX0BmpUaNGeHl5sW/fPmvb/v378fLyomHDhuXus379egYPHkx0dDRLliyhRuk1AsCSJUvYuHGjzfb5%2Bfn4%2BPhUuE9K6ERERMSpXC2h8/Pzo3fv3sybN49Tp05x6tQp5s2bR79%2B/fD19S2z/bZt2xg3bhzTp09n6tSpeF52QeTx48d55plnSE1NpbCwkJUrV5KcnMzAgQMr3CcldCIiIiJX6emnn6Zhw4b079%2BfO%2B64gwYNGjBz5kzr%2Br59%2B/Laa68B8Nprr1FYWMjzzz9PZGSk9VE61fr444/TtWtXhg4dSlRUFO%2B//z7/%2Bte/uO666yrcH11DJyIiIk7liu9DFxgYyKxZs5g1a1a56z/77DPr16WJ3ZV4e3szY8YMZsyY8af7owqdiIiIiItThU5EREScyhUrdNcaJXQiIiLiVEro7KcpVxEREREXpwqdiIiIOJUqdPZThU5ERETExalCJyIiIk6lCp39lNCJiIiIUymhs5%2BmXEVERERcnCp0IiIi4lSq0NlPFToRERERF6cKnYiIiDiVKnT2U0InIiIiTqWEzn6achURERFxcarQiYiIiFOpQmc/JXQiIiLiVEro7Felp1zXrl1Lp06daNeuHd9%2B%2B62zuyMiIiJiiCpdofvggw/o27cvTz75pLO7IiIiIlegCp39qmyFbtCgQfz/9u48Lqqy/R/4Z9gGFFNAxiVQ00Q0F1AUlxSD1CdRQYHwcYkeNK1kyeTnkttTaKi5sZlmLpUobkAiapqobYJLZpririDKIrgNi4DM7w%2B%2BzOOI1shw5njGz/v14jVwnzNzXUdGuLjuc5%2BTlpaG%2BPh4vPnmm0hNTcXIkSPRq1cvdOnSBWPGjMHVq1cBAAkJCRgxYgQCAwPh4uKC5ORklJWVITIyEh4eHujRowfee%2B89XLt2TdyDIiIiInoCg%2B3Qbdu2DWPHjkWPHj3g5%2BeHAQMGIDIyEu7u7rh9%2BzaCgoIQGxuLL774AgDw119/YcGCBVi5ciUqKyuxbNkypKWlYf369VAoFFi9ejUCAwOxa9cuyOVyrfPIy8tDfn6%2BxphtRQUUjRvX6fHW0KCB5qPAWrcWPoadneaj4MzMhI9haqr5KDSFQvgY1taaj0IzNxc%2BRqNGmo9Cc3YWPoajo%2BajwBo2FD6GpaXmo9CaNxc%2Bhq2t5qOQbtwQPsbTsEOnO4Mt6B5lbW2NlJQUtGjRAkqlEjk5ObCyskJubq56H1NTU3h5ecHIyAgqlQrx8fGIioqCvb09AGDSpEnYsmULDh48iEGDBmkde/PmzYiJidEYC5o0CcH%2B/nVzcP%2BkRw%2B9hFnmoZcwAIApU/QVyV5fgYCmTfUTZ%2BxY/cQBAE9P/cXSlwED9BPHz08/cQBg40a9hOmvlyhVXFz0E6d/f/3EAYBRo4SPMW2a8DGehgWd7l6Igs7U1BQ7d%2B5EfHw8ZDIZHBwcoFQqYWLyv8O3tbWFkVHVDHRhYSGKi4sRGhqqHgOA8vJyZGdnP1Nsf39/uLu7a4zZnj4N7N%2BvwxFpoUGDqmLuyBHg/n1hYwGYvFP4is7OrqqYW7IEuH5d8HBY9nGW8EFMTauKuZwcoLxc%2BHgHDwofw9q6qphLSQEKC4WPp68O3YABwL59wJ07wseLiBA%2BhqNjVTE3ahSQkSF4uINLfxc8hqVlVTF37BigVAoeDidPCh/D1rbqW7RxI/DYZA%2BRhheioNu9ezc2bNiATZs2oWXLlgCA8PBwnD9/Xr2PTCZTf25lZQW5XI61a9fCyclJPX758mU0adLkmWIrFAooHp/mysjQzy8FoKqY00Osy5cFD6F2/bqe4pWV6SHI/ykv10%2B8vDzhY1QrLNRPvHr1hI9R7c4d4NYt4eOcOCF8jGoZGXqJd/eu4CHUlEr9xNPnFGV%2BvrhTokJjh053Brso4lH379%2BHkZERzM3NoVKp8NNPPyEpKQnlT%2BmIGBkZwdfXF0uWLEFOTg4qKyuRmJiIIUOGcGEEERERPXdeiA7d8OHDcfz4cXh6esLY2BitW7dGQEAA4uLiUPaUrsi0adMQHR2NUaNG4c6dO7C3t0dUVBQ6dOig5%2ByJiIgMGzt0ujPogu67775Tf75o0aIa20NCQgAAI0aMwIgRIzS2yeVyhIWFISwsTNgkiYiIXnAs6HT3Qky5EhERERkyg%2B7QERER0fOPHTrdsUNHREREJHHs0BEREZGo2KHTHQs6IiIiEhULOt1xypWIiIhI4tihIyIiIlGxQ6c7duiIiIiIJI4dOiIiIhIVO3S6Y0FHREREomJBpztOuRIRERFJHDt0REREJCp26HTHDh0RERGRxLFDR0RERKJih053LOiIiIhIVCzodMcpVyIiIiKJY0FHREREoqqsrPsPoRUXF2PGjBlwdXVFt27dMHXqVBQVFT11/7lz56Jjx45wdnZWf2zevFm9ffXq1ejXrx%2BcnJwwduxYXL58%2BZnyYUFHRERE9IzCw8Nx8%2BZN/PDDD9i7dy9u3ryJxYsXP3X/U6dOITw8HCdOnFB/%2BPv7AwASExPx3XffYc2aNUhPT8drr72GkJAQqFQqrfNhQUdERESiklqHrqSkBMnJyQgJCUGjRo1gY2ODsLAwJCQkoKSkpMb%2BZWVlOH/%2BPDp27PjE19uyZQtGjRqFtm3bQi6XY8qUKbhx4wbS09O1zomLIoiIiEhUQhRgeXl5yM/P1xiztbWFQqHQ6vmlpaXIzc194raSkhKUl5fDwcFBPdamTRuUlpbi6tWraN%2B%2Bvcb%2BGRkZqKioQFRUFI4fP44GDRrAx8cH48ePh5GRES5evIj33ntPvb%2BpqSlatWqFjIwM9OzZU6t8WdCJYPIvPoLHsLMDpngAS/7wwPXrgofD9ytvCh/ExASALZZ9kg9UVAgfLyNT%2BBiWloC9PZCTAyiVgof7/tUpgsdo2BDoD%2BCg/VjcfUnwcMjLEz6GjTEwAkCCsR8K9PBTU5H0geAx1N%2Bnpb/j7l3Bw8HLWyZ8EGdn4Pff0f/jrsCJE4KH81q5UvAYaNwYgA9C7bYD5reEj4eJeoihH5s3b0ZMTIzGWFBQEIKDg7V6/smTJ/HOO%2B88cVtoaCgAoF69euoxCwsLAHjieXT3799Hjx49MHbsWCxduhRnz57FpEmTYGRkhPHjx6OoqEj9/Grm5uYoLi7WKleABR0RERGJTIgOnb%2B/P9zd3TXGbG1ttX6%2Bq6srzp0798RtZ86cQWRkJEpKSlC/fn0AUE%2B1Wlpa1ti/T58%2B6NOnj/rrzp07IyAgALt27cL48eNhYWGB0tJSjeeUlpaqX1sbLOiIiIjI4CgUCq2nV5/VK6%2B8AlNTU1y8eBFdunQBAFy6dEk9Vfq4H3/8Ebdu3cLIkSPVY2VlZTA3NwcAtG3bFhcuXMAbb7wBACgvL8fVq1c1pnT/CRdFEBERkaiktijCwsICb731FhYvXozCwkIUFhZi8eLFGDJkiLpIe5RKpUJERAQOHz4MlUqFEydO4Ntvv1WvcvXx8cGGDRuQkZGBBw8eYMmSJWjcuDFcXFy0zokdOiIiIhKVFO8UMXfuXCxcuBBDhw5FeXk5PDw8MHv2bPV2T09PDB06FO%2B//z4GDBiAGTNm4L///S9yc3PRuHFjBAcHw8vLCwDg6%2BuL%2B/fvY9KkSSgsLESnTp2watUqmJqaap0PCzoiIiKiZ2RpaYnw8HCEh4c/cXtKSorG1yNHjtSYcn2UTCZDYGAgAgMDa50PCzoiIiISlRQ7dM8bnkNHREREJHHs0BEREZGo2KHTHQs6IiIiEhULOt1xypWIiIhI4tihIyIiIlGxQ6c7FnREREQkKhZ0uuOUKxEREZHEsUNHREREomKHTnfs0BERERFJHDt0REREJCp26HTHgo6IiIhExYJOd5xyJSIiIpI4duiIiIhIVOzQ6Y4dOiIiIiKJY4eOiIiIRMUOne6e2w7d1atXxU6BiIiI9KCysu4/XjSCFnRjx45FdHS0Vvu6u7sjISEBABAXF4fZs2cLmZpWeRARERFJwXM55VpYWCh2CkRERKQnL2JHra49c4cuNTUVI0eORK9evdClSxeMGTNGPT26detWeHh4wNnZGdOmTUNJSYn6edOnT8f06dM1Xqtdu3ZIT0/XGEtMTMSqVatw7NgxuLi4/GM%2B169fR7t27ZCUlIQ33ngDTk5OmDFjBo4dO4Zhw4bB2dkZAQEB6iJRqVRi1qxZGDhwIJycnNC3b1%2BsXLnyia9dVlaGyMhIeHh4oEePHnjvvfdw7dq1Z/nnIiIiIhLcM3XocnJyEBoaisjISLi7u%2BP27dsICgpCbGwsRowYgc8%2B%2BwxfffUVunfvji1btiApKQlubm7PlNDw4cNx/fp1HDlyBN99953Wzzt06BB27dqFrKwseHt748yZM1i9ejVMTU0xcuRIbNy4EUFBQVi8eDGuX7%2BObdu2oUGDBti7dy9CQkLw1ltvoWXLlhqvuWzZMqSlpWH9%2BvVQKBRYvXo1AgMDsWvXLsjlcq3yysvLQ35%2BvsaYhYUtbGwUWh9bbSgUmo%2BCM9FDs7c6hj5iAYClpfAx6tXTfBRYQ5nwMar/2fTxzwcADx8KH6NRI81HoTVsKHwMfX%2Bf4OwsfAxHR81HoTVuLHwMfb75bt0SPsZTsEOnu2f6zWhtbY2UlBS0aNECSqUSOTk5sLKyQm5uLnbs2IGBAweiV69eAIBRo0Zh69atgiT9JIGBgbCwsICDgwNsbW0xfPhwNGnSBADg5OSE7OxsAEBwcDCMjY1haWmJnJwcdWGWl5enUdCpVCrEx8cjKioK9vb2AIBJkyZhy5YtOHjwIAYNGqRVXps3b0ZMTIzG2KRJQQgJCdb5mLUxdqxewgCw1VcgwMpKP3Fs9XhMr72mlzD99RKlihYNdslxdxc7g7qnt%2B/T77/rKRCAjRv1F0tfPDyEj7FqlfAxnoIFne6eqaAzNTXFzp07ER8fD5lMBgcHByiVSpiYmCA3NxevPfZLqboQ0odGj/z1YmxsjJdeekn9tZGREVQqFQCgoKAA8%2BfPx5kzZ2BnZ4eOHTsCACofezcVFhaiuLgYoaGhMDL638x0eXm5ujjUhr%2B/P9wf%2By0QF2eLJUu0P7baUCiqirnvvgPy8oSNBQBT3sn/5510ZWJSVczdvg1UVAgfTx8rrevVqyrm/voLKC4WPNzBou6Cx7C0rCoSjh0DlErBw0Efp9w2alRVzKWmAnfuCB/P2lr4GPr%2BPvX/uKvwQRwdq4q5UaOAjAzh482cKXyMRo2qirn9%2B/Xz5iPJeqaCbvfu3diwYQM2bdqk7maFh4fj/PnzaNq0KbKysjT2z8nJQdu2bQFUFVUPHjxQb6vrhQ8ymXZzSaGhoXB3d8eaNWtgYmKC27dvY8uWLTX2s7Kyglwux9q1a%2BHk5KQev3z5srrzpw2FQgHFY/OeJSXA9etav4RO8vL0FEsfBdajsfQRTx%2B/5aoVF%2Bsl3t17godQUyqBu3eFj1NQIHyManfu6CeesbHwMarp6/uEEyf0EOT/ZGToJ54%2Bpyjv3BF1SlRo7NDp7pkWRdy/fx9GRkYwNzeHSqXCTz/9hKSkJJSXl8PHxwc//vgjDhw4gIqKCiQmJuLkyZPq57Zp0wbHjh1Dbm4uSktLERsb%2B9QiTC6XQ6lUqrtqden%2B/fswNzeHsbExCgsLMW/ePABVnbdHGRkZwdfXF0uWLEFOTg4qKyuRmJiIIUOGcGEEERERPVeeqaAbPnw4evfuDU9PT/Ts2RNffvklAgICcOXKFXTq1AmLFi3CggUL4OLigh9%2B%2BAF9%2BvRRP9ff3x/Ozs4YNmwYBgwYgGbNmqF58%2BZPjPPGG2/gzp076NatG%2B7dq9uWQkREBHbt2oWuXbtixIgRaNKkCTp06IDz58/X2HfatGno0qULRo0aBRcXF6xfvx5RUVHo0KFDneZERET0IuOFhXX3TFOuZmZmWLRoUY3xkJAQAMDgwYMxePDgJz7X0tISy5cv1xgbP368%2BvPU1FT1523btsWBAwe0ysnOzg7nzp3TGHv0tQBgwYIF6s/79u2L3bt3P/X1Hn2uXC5HWFgYwsLCtMqFiIiInt2LWIDVtef21l9EREREpJ3n8k4Rj3J1dUVZWdlTt6ekpDx16paIiIief%2BzQ6e65L%2Bgev5MEEREREWl67gs6IiIiMmzs0OmOBR0RERGJigWd7rgogoiIiEji2KEjIiIiUbFDpzt26IiIiIgkjh06IiIiEhU7dLpjQUdERESiYkGnO065EhEREUkcO3REREQkKnbodMcOHREREZHEsUNHREREomKHTncs6IiIiEhULOh0xylXIiIiIoljh46IiIhEJcUOXXFxMcLDw5GamoqKigp4eHhg7ty5qF%2B/fo1958yZg%2BTkZI2x0tJS9O7dG2vWrEFlZSW6desGlUoFmUym3ufXX39FvXr1tMqHHToiIiKiZxQeHo6bN2/ihx9%2BwN69e3Hz5k0sXrz4ift%2B9tlnOHHihPojOjoaL730EqZPnw4AuHjxIsrLy3HkyBGN/bQt5gAWdERERCSyysq6/xBSSUkJkpOTERISgkaNGsHGxgZhYWFISEhASUnJ3z63sLAQYWFhmDlzJtq2bQsAOHXqFNq1awczM7Na58QpVyIiIhKVEAVYXl4e8vPzNcZsbW2hUCi0en5paSlyc3OfuK2kpATl5eVwcHBQj7Vp0walpaW4evUq2rdv/9TXXbx4MTp27Ihhw4apx06dOoUHDx7Ax8cH2dnZaNOmDaZMmYKuXbtqlSvAgk4Uo0YJH6O6S/uvfwHFxcLH00uQ6r9cSkuBsjLh49naCh/D3Lzq0coKsLAQPNwnQYKHQPv2QP/%2BQEwMcPas8PEe%2BXkqmNatgREjgF9/BS5fFj6ePo6pefOq79PJk8CNG8LH81q5UvggjRtXPc6cCdy6JXy8998XPoazM%2BDjA8yfD5w4IXy8iROFj6EnmzdvRkxMjMZYUFAQgoODtXr%2ByZMn8c477zxxW2hoKABoTIla/N/P8KKioqe%2BZlZWFnbs2IGtW7dqjJubm6Nz584IDQ1Fw4YNERcXh3HjxmHHjh2wt7fXKl8WdERERCQqITp0/v7%2BcHd31xizfYY/1F1dXXHu3Lknbjtz5gwiIyNRUlKiXgRRPdVqaWn51Nfcvn07nJ2da3Twqs%2BlqzZu3DgkJCTg0KFDGDNmjFb5sqAjIiIig6NQKLSeXn1Wr7zyCkxNTXHx4kV06dIFAHDp0iWYmpqiVatWT33e3r17ERgYWGN82bJlGDRoEDp06KAeKysrg1wu1zonLoogIiIiUUltUYSFhQXeeustLF68GIWFhSgsLMTixYsxZMgQmFefSvOY27dv49KlS%2BjevXuNbefPn8f8%2BfORn5%2BPsrIyxMTEQKlUYsCAAVrnxIKOiIiIRCW1gg4A5s6di1atWmHo0KH417/%2BBTs7O8yZM0e93dPTEysfOXf0%2BvXrAIAmTZrUeK2IiAi0aNECXl5ecHV1xZEjR7Bu3To0atRI63w45UpERET0jCwtLREeHo7w8PAnbk9JSdH4ulOnTk89J69Ro0aIiIjQKR8WdERERCQqKd4p4nnDgo6IiIhExYJOdzyHjoiIiEji2KEjIiIiUbFDpzt26IiIiIgkjh06IiIiEhU7dLpjQUdERESiYkGnO065EhEREUkcO3REREQkKnbodMcOHREREZHEsUNHREREomKHTncs6IiIiEhULOh0xylXIiIiIoljh46IiIhExQ6d7tihIyIiIpI4duiIiIhIVOzQ6Y4FHREREYmKBZ3uDG7KNSEhAe7u7mKnQURERKQ37NARERGRqNih051kC7rU1FR89dVXuHbtGoqLi9GpUyfMmzevxn7Hjh3DsmXLcO7cObz00ksYNmwYPvzwQ5iZmSE6OhoXLlyAmZkZDh48iHr16sHLywtTpkwBAJSVleHLL7/Ejh07cP/%2BfXTp0gWzZs1Cy5Yt9X24RERERE8lyYIuJycHoaGhiIyMhLu7O27fvo2goCDExsaiV69e6v0uX76M//znPwgLC8O6detw8%2BZNBAcHQ6lUYtasWQCAvXv3YsGCBVi4cCF%2B%2BeUXTJw4ER4eHnBycsKyZcuQlpaG9evXQ6FQYPXq1QgMDMSuXbsgl8u1yjUvLw/5%2BfkaY8XFtmjcWFF3/yBPYG6u%2BSg4MzPhY5iaaj4KTaUSPkb1%2B0jL95Ou2rcXPsYrr2g%2BCk0ff1%2B9/LLmo9CaNxc%2Bhq2t5qPgGjcWPkajRpqPQnN2Fj6Go6Pmo5BOnBA%2BxlOwQ6c7mUqlj99adausrAw5OTlo0aIFlEolsrKyEBsbi3v37sHb2xsxMTFITU1FZGQkfv75Z2zbtk393EOHDiEkJAQnTpxAbGwsUlJSsGfPHvX2vn37YsqUKfDy8kLXrl0RFRWFvn37AgBUKhXc3Nwwc%2BZMDBo0SKtco6OjERMTozE2aVIQQkKC6%2BBfgoiIqI7IZPr5Q/YJhPjD7Nq1un/N55kkO3SmpqbYuXMn4uPjIZPJ4ODgAKVSCRMTzcMpKCiAvb29xpidnR1KS0tRUFAAALB97M9TU1NTVFZWorCwEMXFxQgNDYWR0f/WjpSXlyM7O1vrXP39/Wss0rh1yxZ//aX1S9SKuTnQpg1w6RJQWipsLAB47aUs4YOYmgJNmwI5OUB5ufDxHjwQPoZcDtjbA1lZeonnO/1VwWO88grwxRfA//t/wJUrgofTW4fu44%2BBpUuBZ/jvX2stWggfw9YWGDUK2LgReGwSQRChdtuFD9KoEeDhAezfD9y5I3y8%2BfOFj%2BHoWPVNGjUKyMgQPh5JliQLut27d2PDhg3YtGmT%2Bny28PBwnD9/XmO/l19%2BGXv37tUYy8zMhJmZGRo2bPi3MaysrCCXy7F27Vo4OTmpxy9fvowmTZponatCoYBCoTm9evQoUFys9UvopLRUT7HMy/QQ5P%2BUlwNleoinj0q42oMHeol39qzgIdSuXNFPvIcPhY9RLTsbuHxZ%2BDgmevzJnJ8P3Lihh0Dmt/QQ5P/cuQPc0kM8fU5RZmSIOiUqNE656k6Sly25f/8%2BjIyMYG5uDpVKhZ9%2B%2BglJSUkof6xr4%2BnpiUuXLuGbb75BWVkZMjMzsXTpUgwdOhRm/3DOl5GREXx9fbFkyRLk5OSgsrISiYmJGDJkCK69aH1cIiIieq5JskM3fPhwHD9%2BHJ6enjA2Nkbr1q0REBCAuLg4jaLOzs4OX3/9NZYuXYro6GiYm5tjyJAh%2BOijj7SKM23aNERHR2PUqFG4c%2BcO7O3tERUVhQ4dOgh1aERERC8cduh0J8mCzszMDIsWLaoxHhISAqDqvLVqLi4u2Lhx4xNfJzi45sKE1NRU9edyuRxhYWEICwvTNWUiIiJ6ChZ0upPklCsRERER/Y8kO3RERERkONih0x07dEREREQSxw4dERERiYodOt2xoCMiIiJRsaDTHadciYiIiCSOHToiIiISFTt0umOHjoiIiEji2KEjIiIiUbFDpzsWdERERCQqFnS645QrERERkcSxQ0dERESiYodOd%2BzQEREREUkcO3REREQkKnbodMeCjoiIiETFgk53nHIlIiIikjgWdERERCSqysq6/9CXkpIS%2BPv7IyEh4W/3O3nyJPz8/ODs7Ax3d3ds3bpVY3tiYiIGDBgAJycnjBgxAidOnHimPFjQERERkaikWtBduHABo0ePxh9//PG3%2B929excTJkyAt7c3jh49ivnz5yMiIgJ//vknACA9PR3h4eFYsGABjh49imHDhuGDDz5ASUmJ1rmwoCMiIiJ6RocPH0ZAQACGDx%2BO5s2b/%2B2%2Be/fuRaNGjTB69GiYmJigV69eGDp0KOLi4gAAW7duhaenJ7p16wZTU1O8%2B%2B67sLKywq5du7TOh4siiIiISFRCdNTy8vKQn5%2BvMWZrawuFQqHV80tLS5Gbm/vEbba2tnB0dMSBAwcgl8uxbt26v32tCxcuwMHBQWPs1VdfxbZt2wAAFy9ehI%2BPT43tGRkZWuUKsKATRffuwsfIy8tDdPRm%2BPv7a/3m1U0bwSPk5eVhc3R01THZ2wseTx80junVVwWP99dfgodQv/dWrNDXe0941cc0bZrhHdO//62vY5ooeASN/0/6OKaJejymPXsM5r33JCpV3b9mdPRmxMTEaIwFBQUhODhYq%2BefPHkS77zzzhO3xcbG4s0339Q6l6KiIlhYWGiMmZubo7i4WKvt2mBBZ6Dy8/MRExMDd3d3g/khwGOSBh6TNPCYpMEQj0lf/P394e7urjFma2ur9fNdXV1x7ty5OsnFwsIC9%2B/f1xgrLS1F/fr11dtLS0trbLeystI6Bgs6IiIiMjgKheK5KYIdHBzw66%2B/aoxdvHgRbdu2BQC0bdsWFy5cqLG9X79%2BWsfgoggiIiIiAQ0YMAC3bt3C%2BvXrUV5ejrS0NCQnJ6vPm/P19UVycjLS0tJQXl6O9evXo6CgAAMGDNA6Bgs6IiIiojrm6emJlStXAgCsrKywdu1a7NmzB66urpg1axZmzZqFnj17AgB69eqFuXPn4r///S969OiBlJQUrF69Go0aNdI6HqdcDZStrS2CgoKe6XyB5x2PSRp4TNLAY5IGQzwmQ5SamlpjLCUlRePrTp06IT4%2B/qmv4eXlBS8vr1rnIFOphFhbQkRERET6wilXIiIiIoljQUdEREQkcSzoiIiIiCSOBR0RERGRxLGgIyIiIpI4FnREREREEseCjoiIiEjiWNARERERSRwLOiIiIiKJY0FHREREJHEs6IiIiIgkzkTsBEh37u7ukMlkf7vP/v379ZRN3Tt9%2BjQ6duyIe/fuYdWqVbC2tkZAQABMTKT79i0sLMSOHTuQnZ2N0NBQHD16FG%2B88YbYadVaWloavv/%2Be%2BTn56N58%2Bbw9fVF586dxU5LJ0VFRYiLi0NWVhYqKio0tkVERIiUlW7Kyspw6NAhZGdnw9/fH9euXYOjo6PYaemEx0RUhR06CMljRAAAF65JREFUAxAcHIygoCC88cYbqKysREBAAGbPno3x48fD2NgYAwcOFDvFWvvyyy8REBAAAJg3bx4OHDiAxMRELFy4UOTMau%2Bvv/7Cv/71L%2BzZswfbtm3D7du3ERoaiu3bt4udWq1s2bIF7733HsrKytC%2BfXvcv38fY8eOxb59%2B8ROTSczZsxAXFwciouLxU6lTmRmZmLw4MGYN28eIiMjkZOTAx8fHxw4cEDs1GqNx0T0CBUZjKFDh6ouXryoMXb16lXVwIEDRcpId4MHD1adPXtW9eDBA1Xnzp1VZ8%2BeVd26dUvVu3dvsVOrtdGjR6u2b9%2BuUqlUKhcXF5VKpVL99NNPqrfeekvMtGrNw8ND9csvv2iMHTx4UDV48GCRMqobTk5OqtzcXLHTqDMTJkxQxcbGqiorK9Xvu4SEBJW3t7fImdUej4nof9ihMyBZWVlo0aKFxliTJk2Ql5cnUka6y8vLg6OjI44fP44GDRrA0dERNjY2KCkpETu1Wjt//jy8vLwAQD1V3rdvX%2BTm5oqZVq0VFBSgZ8%2BeGmN9%2B/ZFfn6%2BSBnVDVtbW1hZWYmdRp35448/MH78eMhkMvX7zsvLC1lZWSJnVns8JqL/YUFnQDp27IiFCxeirKwMAFBSUoLw8HB069ZN5Mxqr0mTJjh69CiSkpLQq1cvAMDOnTthb28vcma1Z21tjcuXL2uMXb58GY0bNxYpI9307dsXGzZs0BhLSUlB7969RcqobowcORILFy7EvXv3xE6lTjRo0AC3bt3SGMvPz0fDhg1Fykh3PCai/5HuWeVUw6effoqJEyciPj4eVlZWuH37Nl555RV89dVXYqdWa8HBwRg/fjzMzc2xadMmHD58GDNmzEB0dLTYqdXaqFGjMHHiRLz//vuoqKjArl278OWXX8Lf31/s1Grl4cOHWLBgARITE9GyZUvk5ubi5MmTaN%2B%2BPd555x31ft9%2B%2B62IWWrP0dERMpkMKpUKABAXF6feplKpIJPJcPbsWbHSq7WhQ4ciKCgIU6ZMQWVlJf7880988cUX8PT0FDu1WuMxEf2PTFX9U4sMQkVFBU6cOIHc3Fw0bdoUXbt2hZGRtBuxDx48AADI5XIUFRWhqKgICoVC5Kx0ExcXh40bNyI7OxtNmjSBv78/3n33XUl%2Br2JiYrTaLygoSOBM6saRI0f%2BcZ8ePXroIZO6VV5ejqVLlyI%2BPh4lJSUwNzeHr68vpk6dCjMzM7HTq5XHj0kul8PX1xfTpk3jMdELhwWdgTG05e6VlZXYv38/BgwYgNzcXERERMDa2hoff/wxLC0txU6PnkCpVMLMzMwgfvls2bIFbm5uaNKkCb7//nuUlZXBz89P7LRqJSUlBW%2B%2B%2BSbkcjkKCwthZWX1j5c7khIeE73oWNAZkMzMTAQGBqK8vBz37t1DQkIChgwZgpiYGMle4%2Bzzzz/HDz/8gEOHDuH999%2BHUqmEiYkJFAoFFi1aJHZ6tTJjxownjpuamsLa2hr9%2B/eHk5OTnrOqvUuXLmHp0qWIjY3Fvn37MHnyZNSvXx8rVqyQ9PmbUVFRSExMxLp169CqVSvs378fn3/%2BOf79739j/PjxYqf3zHr06IFff/0VpqamYqeis6SkpH/cx9vbWw%2BZCOPPP//ElStX8PivZykfEwmPBZ0BmThxIrp06YIPPvgAPXr0wNGjR5GYmIhvv/0WiYmJYqdXK4MGDcK6devQsGFDuLq6IiUlBTY2NvDw8EB6errY6dXKnDlzkJCQgDfffBP29va4ceMG9u7di969e0Mul%2BPnn3/G/PnzMXjwYLFT1cq4ceOgUCjw%2BeefY/DgwRg%2BfDjq16%2BPpKQkbN26Vez0aq1fv36Ii4vTWICTmZmJgIAASV4TbNy4cRg2bJh6hbWUubu7/%2B12mUwm2YupL126FKtXr4atra3GxdOlfEykH1wUYUD%2B%2BOMPREdH11juPn/%2BfJEzq73bt2%2BjefPmOHjwIBQKBVq2bImHDx/i4cOHYqdWazdv3sTy5cvx5ptvqscOHTqETZs2ISoqCunp6Zg3b55kCrpz585h5cqVyM7ORmZmJkaNGoX69etjyZIlYqemE6VSiWbNmmmMNWvWTLIXGr5z5w6mTZuG2bNno3HjxhrTeFIrFFJTU8VOQTA7duzAypUr4ebmJnYqJDEs6AxI9XL35s2bq8ekvtzd3t4eSUlJ2LNnD15//XVUVlZi7dq1ePXVV8VOrdZOnjyJVatWaYz17dsXU6ZMAQC4uroiOztbjNRqpaKiAiqVCr/%2B%2Bitee%2B01WFpaorCwEHK5XOzUdPLaa6/hq6%2B%2BwocffqgeW7t2rWTPSR0zZozYKQgiKysLubm56unJ8vJynD9/Hu%2B%2B%2B664idVSUVER%2BvXrJ3YaJEEs6AyIIS53nz59OqZNmwZzc3N89tlnSEtLw5o1a7By5UqxU6s1a2tr/Pzzzxp/gR8%2BfBiNGjUCUPULSkpFeO/evREcHIyMjAyMGzcOWVlZmDp1Kvr37y92ajqZPn06AgMDsWXLFjRt2hQ5OTmoqKjA119/LXZqtTJ8%2BPAnjj9%2Bn1opWbVqFZYtW6buNlZfVqZ9%2B/aSLej69%2B%2BP5ORkDBs2TOxUSGJ4Dp0BMcTLEjyu%2BqLJUj6elJQUTJ8%2BHQMHDoSdnR2uX7%2BOH3/8EZ9%2B%2Bik6d%2B6MgIAAjBkzBhMnThQ7Va0UFRVh7dq1kMvlmDBhAjIyMrBt2zZMmTIFFhYWYqdXa8XFxSgvL8eBAweQl5eHZs2aoX///mjQoIHYqdVKZmYmYmNjkZubi8rKSgBVPzOuXLmCtLQ0kbOrHTc3N8ycORNmZmZITU3Fxx9/jPDwcDRr1gxhYWFip1crISEh%2BPHHH9GqVasaFxuXyrUcSRws6AxIeXm5egWbIS13T0tLqzGlcu7cOcyaNUvkzGrvjz/%2BwPbt25GTk4PmzZvj7bffRrt27XD9%2BnVcvHhR4/w6Kbl9%2B7bB3C7L3d0dO3bsMJjL44wdOxYqlQpWVlYoKChAhw4dkJSUhHfffVcy1wh8nLOzM06cOIGcnBx8%2BOGHSEhIQGFhIXx9fSV7nt3fXddRqt8n0g9OuRqQ119/HV5eXvD19YWDg4PY6dSJefPmIT4%2BHvXr1wdQdVeCoqIi9O3bV%2BTMai8zMxObNm1Sd0quXLmCefPmqTslrVq1EjvFZ6JUKrFgwQIkJyejrKwMFhYWGDlyJD766CNJd1KBqtvnGUpBd/r0aRw8eBA3btzA8uXLMWvWLPTr1w%2BrVq2SbKGgUCigVCrRpEkTXL9%2BHSqVCtbW1rh7967YqdXao9%2BLgoICNGzYUGO1K9HT8F1iQBYtWoSkpCT4%2BfnBwcEBvr6%2BGDJkiLoYkqLdu3djw4YNKCkpwY4dO/D5559j4cKFkl1pCAAzZ85Ud0oKCwvRvn17dadEihYuXIgLFy5gxYoVaNasGbKyshAZGYlly5Zh2rRpYqdXa66urvDz80O/fv1q3JlEigWQhYWFujg4f/48gKpLs0j5e9S9e3eEhIRg%2BfLl6NChA5YuXQq5XI4mTZqInVqtlZeX44svvsDWrVtRWloKMzMzDBs2DLNnz5b8H0gkLBZ0BsTNzQ1ubm64d%2B8edu7cicTERCxcuBCDBg1CRESE2OnVSklJCZycnJCfn4%2B//voLMpkMQUFBkrmkx5MYWqfkwIED2LFjB6ytrQEArVu3Rrt27dS3K5Kq69evw97eHleuXMGVK1fU41I9jaFFixY4dOgQ3NzcUFlZiaysLJiZmUl6UcT06dOxZMkSVFRU4JNPPkFoaCiUSqVkf94BwIoVK5Ceno7ly5fDzs4OmZmZWLZsGZYvX46pU6eKnR49x1jQGaCXXnoJ/fr1w71795CXlyfZE54BoGnTpigoKICtrS1ycnJQXl4Oc3NzKJVKsVOrNUPrlFhYWMDY2FhjrF69euoT76Xqu%2B%2B%2BEzuFOlFdxE2cOBEhISHYuXMn/P39MXLkSBgbG//jRXqfZ5aWlpg7dy6AqtXju3fvFjkj3SUnJ2PdunXqC1q3adMGbdq0wejRo1nQ0d9iQWdAlEoldu/ejaSkJPz5559wc3PD3LlzJX2%2BmZubG959911888036N69Oz755BPI5XLJnWf2KEPplNy4cQNA1e2IJk%2BejOnTp%2BPll19GXl4evvjiC8lOIT/KEBbkhIWF4ejRo4iIiMDevXthY2ODDz/8EK1atYJSqXzq5Uyk4M6dO9i4cSOys7Nr/AEh1S7d3bt3n3hB69LSUpEyIqlgQWdA%2BvTpg6ZNm8LHxweRkZE1lrxL0ccffwwbGxuYmppizpw5mDlzJpRKJcLDw8VOrdYmTJjwxE6Jh4eH2Kk9E3d3d8hkMnWxM2zYMI3rgR04cAATJkwQM0WdGMqCHFNTU8yfPx83b97Etm3batwfVKpT/QDw0Ucf4ebNm3BycoKRkZHY6dSJdu3aIT4%2BXuNC0PHx8Qaz0I2Ew8uWGJC0tDT07NlT7DRIC7m5ubCxsYGJiQl27doFpVIJb29vSZ30rM3dLF5%2B%2BWU9ZCKMPn36IDY29okLcj777DOx09Pa7t27sXXrVqSnp6Nr1641tstkMsle38zZ2RkHDhxQX5TbEBw7dgyBgYFwdHSEvb09MjMzcfHiRaxZs%2BaJ3z%2BiaizoDMDOnTsxZMgQJCUlPXUfb29vPWakuxkzZvzjPlKdUiFp6Nq1K37//Xfk5%2Bdj3Lhx2LFjB5RKJQYPHoyffvpJ7PSemZ%2BfH7Zu3Sp2GnXKy8sLX3/9NWxtbcVOpU5dvnwZycnJKCgogJ2dHTw9PSX9xxHpB6dcDcDKlSsxZMgQREVFPXG7TCaTXEFHz7/qgsfR0fGpKz/Pnj2r56zqjqEtyDG0Yg4A5syZgwkTJsDb27vG7fKk/DOvdevWCA0NFTsNkhh26Oi5d%2B/ePcjlcsjlcly6dAnW1tYGczcCKTt27BhcXFxw5MgRVFRUwMTEBJWVlXjw4AHOnz%2BPLl26oEePHmKnWWsLFy7EL7/8gm%2B%2B%2BQazZs1C/fr1IZfLcebMGSQkJIidHqGqk79jxw7Y2tpqnEMnk8mwf/9%2BETN7dtXnpP4dqR0T6Rc7dAZk6NCh8PX1hZeXl8GcU5KWloYPPvgA69atg5OTE5KTk7Fx40Z8/fXX6Ny5s9jpvdBcXFwAVK2unjVrFn777TesWLECK1euhEwmw8yZMyVd0FUvyAGqOkGzZ8%2BW/IIcQ7Nnzx58//33ePXVV8VORWfBwcF/u11qq%2BBJ/9ihMyAbN25EUlISMjIy4O7uDl9fX7z%2B%2Butip6UTHx8fjBw5En5%2Bfuqx7du3Y%2BvWrYiPjxcxM6rm5%2BcHPz8/9fstIiICNjY2mDx5Mvbt2yd2erVWVFSETz/9FD/88APKyspgbm4Ob29vzJgxQ1KLVwyZu7s79uzZY1Dfj2vXrmHFihXqWwMCVZfLqb41INHTsKAzQJcuXUJCQgJ27twJY2NjjBgxQrKXJejWrRuOHz%2BuMaZSqdC9e3ccO3ZMpKzoUa6urkhPT8eZM2cwevRoHD16FCYmJuobp0vV1KlTce3aNYSEhKhvaRYdHY2uXbvik08%2BETs9ApCUlISff/4Z48aNQ8OGDTWmLJs3by5iZrU3duzYp94aUKo/x0k/OOVqgNq0aYOgoCA4ODggMjISa9askewPAhsbG/z5558a06unT582iGvsGQoLCwsUFBQgNTUV3bp1g4mJCTIyMiR/nuOBAwewZ88e9bRr69at4ejoCC8vLxZ0z4np06cDAFJSUjSugSiTySS7IOfUqVM4dOiQwdwakPSHBZ2BOXz4MJKSkrBv3z60atUK48aNw7Bhw8ROq9ZGjx6NCRMmwN/fHy%2B//DJu3LiBLVu28Afbc8THxwfe3t64d%2B8eoqKicPr0aYwfPx6BgYFip6YTuVxe45Zm9evXh4WFhUgZ0eO0WSSQk5ODpk2b6iGbulGvXj2DujUg6Q%2BnXA2Im5sbioqKMHjwYLz99tvo2LGj2CnVicTERCQlJSEvLw8KhQJvv/02PD09xU6LHpGeng65XA4nJyfcvHkTp06dwsCBA8VOSycbNmzA3r178cknn6Bly5bIzc3FkiVL0KJFC4wePVq9n1Sn9l4U1ZfXkYqRI0figw8%2BgJubG9zc3LBhwwaYmZlhyJAhOHr0qNjp0XOMBZ0BiY2NRUBAACwtLcVOpc5Un5i%2BZ88elJWVwcLCAsOHD8f06dMN6kRoev44OjqqP3/0FmePfi3lqb0XhdTO5UxNTcXkyZOxc%2BdOJCcnIy4uDsbGxujduzcWLFggdnr0HGNBZ0BcXV1x8OBBg5oS4onpJBZtbm0GSPv2Zi8CqXXoAMO4NSDpHws6A%2BLr64upU6dK%2Btpfj%2BvevbvGielA1Q87Ly8vLuEnon8kxYKOqDa4KMKANGzYEP/5z39gZ2cHhUKhsYRfqjff5onpRERE/4wFnQFxdnaGs7Oz2GnUqffffx8hISE1TkwfPHgwbty4od6PJ6YTEdGLjFOu9FzjielEpAtOudKLgh06AzJjxoynbouIiNBjJnWHN6MmomelVCrVq/25kIBeFCzoDNjt27eRlpYGHx8fsVOpNa4gJKKn6dGjB44cOVJjvH///upbA3LxFL0oWNAZkCd14X777Tds3LhRhGyIiOretWvXMGfOHKhUKiiVSrzzzjsa25VKJV566SWRsiMSDws6A9e7d2%2BEhISInQYRUZ1o2bIlBg4ciMLCQvz%2B%2B%2B81LtNkZmYGd3d3kbIjEg8LOgNWUVGBnTt3wtraWuxUiIjqTPWt1%2Bzt7eHt7S1yNkTPBxZ0BsTR0VHj2nMAYGxsjJkzZ4qUERFR3UtKSnri549ioUcvGl62xIAcOXIEFRUVMDExQWVlJY4dO4aePXvCxcVF7NSIiOrMP02pymQyrpCnFw4LOgOSmpqKWbNm4bfffsOKFSuwcuVKyGQyzJw5E2%2B//bbY6REREZFAWNAZED8/P/j5%2BcHX1xevv/46FixYAGtra0yePBn79u0TOz0iojp19OjRp27r3r27HjMhEh/PoTMgmZmZePvtt3HmzBmUlJSgd%2B/eMDExwa1bt8ROjYiozo0dO7bGmJGREZo1a8YpV3rhsKAzIBYWFigoKEBqaiq6desGExMTZGRkwMrKSuzUiIjqXEZGhsbXhYWFiI2N5QXJ6YXEKVcDEh0djS1btuDevXuIioqCjY0Nxo8fj8DAQEyYMEHs9IiIBFdaWopBgwbh0KFDYqdCpFcs6AxMeno65HI5nJyccPPmTZw6dQoDBw4UOy0iIr3Izc2Fl5cXb/lFLxxOuRoYV1dX9efNmjVDs2bNRMyGiEg4M2bM0Pi6vLwcx48fR%2B/evUXKiEg8LOiIiMggyOVyjB07Fv7%2B/mKnQqR3nHIlIiIikjh26IiISFJiYmL%2BcZ%2BgoCA9ZEL0/GBBR0REkpKeng6gakXrqVOn0KFDB9jZ2SE3NxcnT55Enz59RM6QSP845UpERJI0ffp0dOnSBf/%2B97/VY4mJidi7dy%2B%2B/PJLETMj0j8WdEREJEldu3bFsWPHYGRkpB57%2BPAhXFxccOLECREzI9I/o3/ehYiI6PljbW1d436uv/zyCxQKhUgZEYmH59AREZEkTZw4Ee%2B99x4GDRqE5s2bIzMzE/v378fChQvFTo1I7zjlSkREkpWWlobvv/8eeXl5aNasGXx8fNCpUyeYmLBfQS8WFnRERCRJmZmZiI2NRW5uLiorKwFU3S3iypUrvPUXvXB4Dh0REUnSzJkzkZ2djQYNGuDhw4dwcHDAhQsXMGbMGLFTI9I7FnRERCRJp0%2BfRmxsLD788ENYWlpi1qxZWLp0KQ4fPix2akR6x4KOiIgkycLCAg0bNkSLFi1w/vx5AEC/fv1w%2BfJlkTMj0j8WdEREJEktWrTAoUOHUL9%2BfVRWViIrKwu5ubmoqKgQOzUiveMyICIikqQJEyYgJCQEO3fuhL%2B/P0aOHAljY2N4eHiInRqR3nGVKxERSVZubi5sbGxgYmKCXbt2QalUwtvbG2ZmZmKnRqRXLOiIiIiIJI7n0BERERFJHAs6IiIiIoljQUdEREQkcSzoiIiIiCSOBR0RERGRxLGgIyIiIpI4FnREREREEvf/AYeAL/sQIzX2AAAAAElFTkSuQmCC\" class=\"center-img\">\n",
       "</div>\n",
       "    <div class=\"row headerrow highlight\">\n",
       "        <h1>Sample</h1>\n",
       "    </div>\n",
       "    <div class=\"row variablerow\">\n",
       "    <div class=\"col-md-12\" style=\"overflow:scroll; width: 100%%; overflow-y: hidden;\">\n",
       "        <table border=\"1\" class=\"dataframe sample\">\n",
       "  <thead>\n",
       "    <tr style=\"text-align: right;\">\n",
       "      <th></th>\n",
       "      <th>survived</th>\n",
       "      <th>pclass</th>\n",
       "      <th>sex</th>\n",
       "      <th>age</th>\n",
       "      <th>sibsp</th>\n",
       "      <th>parch</th>\n",
       "      <th>fare</th>\n",
       "      <th>embarked</th>\n",
       "      <th>class</th>\n",
       "      <th>who</th>\n",
       "      <th>adult_male</th>\n",
       "      <th>deck</th>\n",
       "      <th>embark_town</th>\n",
       "      <th>alive</th>\n",
       "      <th>alone</th>\n",
       "    </tr>\n",
       "  </thead>\n",
       "  <tbody>\n",
       "    <tr>\n",
       "      <th>0</th>\n",
       "      <td>0</td>\n",
       "      <td>3</td>\n",
       "      <td>male</td>\n",
       "      <td>22.0</td>\n",
       "      <td>1</td>\n",
       "      <td>0</td>\n",
       "      <td>7.2500</td>\n",
       "      <td>S</td>\n",
       "      <td>Third</td>\n",
       "      <td>man</td>\n",
       "      <td>True</td>\n",
       "      <td>NaN</td>\n",
       "      <td>Southampton</td>\n",
       "      <td>no</td>\n",
       "      <td>False</td>\n",
       "    </tr>\n",
       "    <tr>\n",
       "      <th>1</th>\n",
       "      <td>1</td>\n",
       "      <td>1</td>\n",
       "      <td>female</td>\n",
       "      <td>38.0</td>\n",
       "      <td>1</td>\n",
       "      <td>0</td>\n",
       "      <td>71.2833</td>\n",
       "      <td>C</td>\n",
       "      <td>First</td>\n",
       "      <td>woman</td>\n",
       "      <td>False</td>\n",
       "      <td>C</td>\n",
       "      <td>Cherbourg</td>\n",
       "      <td>yes</td>\n",
       "      <td>False</td>\n",
       "    </tr>\n",
       "    <tr>\n",
       "      <th>2</th>\n",
       "      <td>1</td>\n",
       "      <td>3</td>\n",
       "      <td>female</td>\n",
       "      <td>26.0</td>\n",
       "      <td>0</td>\n",
       "      <td>0</td>\n",
       "      <td>7.9250</td>\n",
       "      <td>S</td>\n",
       "      <td>Third</td>\n",
       "      <td>woman</td>\n",
       "      <td>False</td>\n",
       "      <td>NaN</td>\n",
       "      <td>Southampton</td>\n",
       "      <td>yes</td>\n",
       "      <td>True</td>\n",
       "    </tr>\n",
       "    <tr>\n",
       "      <th>3</th>\n",
       "      <td>1</td>\n",
       "      <td>1</td>\n",
       "      <td>female</td>\n",
       "      <td>35.0</td>\n",
       "      <td>1</td>\n",
       "      <td>0</td>\n",
       "      <td>53.1000</td>\n",
       "      <td>S</td>\n",
       "      <td>First</td>\n",
       "      <td>woman</td>\n",
       "      <td>False</td>\n",
       "      <td>C</td>\n",
       "      <td>Southampton</td>\n",
       "      <td>yes</td>\n",
       "      <td>False</td>\n",
       "    </tr>\n",
       "    <tr>\n",
       "      <th>4</th>\n",
       "      <td>0</td>\n",
       "      <td>3</td>\n",
       "      <td>male</td>\n",
       "      <td>35.0</td>\n",
       "      <td>0</td>\n",
       "      <td>0</td>\n",
       "      <td>8.0500</td>\n",
       "      <td>S</td>\n",
       "      <td>Third</td>\n",
       "      <td>man</td>\n",
       "      <td>True</td>\n",
       "      <td>NaN</td>\n",
       "      <td>Southampton</td>\n",
       "      <td>no</td>\n",
       "      <td>True</td>\n",
       "    </tr>\n",
       "  </tbody>\n",
       "</table>\n",
       "    </div>\n",
       "</div>\n",
       "</div>"
      ],
      "text/plain": [
       "<pandas_profiling.ProfileReport at 0x1a1c6194a8>"
      ]
     },
     "execution_count": 205,
     "metadata": {},
     "output_type": "execute_result"
    }
   ],
   "source": [
    "%matplotlib inline\n",
    "\n",
    "import pandas_profiling\n",
    "import seaborn as sns;\n",
    "\n",
    "titanic = sns.load_dataset('titanic')\n",
    "\n",
    "pandas_profiling.ProfileReport(titanic)  # You may need to run cell twice"
   ]
  },
  {
   "cell_type": "markdown",
   "metadata": {},
   "source": [
    "Facets is a library from Google that looks very good. It has similar functionality to pandas_profiling as well as some powerful visualization. Installation is more complex so we won't use it now but it is worth considering.\n",
    "\n",
    "https://github.com/pair-code/facets"
   ]
  },
  {
   "cell_type": "markdown",
   "metadata": {},
   "source": [
    "## Handling Data that Exceeds Your System's RAM\n",
    "\n",
    "Pandas is an in-memory system. The use of NumPy means it uses memory very efficiently but you are still limited by the RAM you have available. If your data is too large, there are several options available, including:\n",
    "\n",
    "- process the data sequentially (may not be possible but see [here](https://hackernoon.com/analysing-1-4-billion-rows-with-python-6cec86ca9d73) for an interesting approach)\n",
    "- partition the data into chunks and process those separately\n",
    "- partition the data into chunks and use multiple computers configured as a cluster with `ipyparallel` (https://ipyparallel.readthedocs.io/en/latest/)\n",
    "- use a DataFrame-like library that handles larger datasets, like Dask DataFrames (http://dask.pydata.org/en/latest/dataframe.html) \n",
    "- use a tool like [Apache Drill](https://drill.apache.org/) which can SQL queries against files on disk in formats like CSV \n",
    "- putting the data in a database and operating on a subset in Pandas using a SELECT statement.\n",
    "\n",
    "These are all out of scope of this document but we will briefly elaborate on the last two. Python comes standard with an implementation of Sqlite, in the package `sqlite3`. Pandas supports reading a DataFrame from the result of running a query against a Sqlite database. Here's a very simple example of how that may look:\n",
    "\n",
    "```python\n",
    "import sqlite3 as lite\n",
    "\n",
    "with lite.connect('mydata.db') as con:\n",
    "    query = 'select * from sales limit 100'\n",
    "    df = pd.read_sql(query, con)\n",
    "```\n",
    "\n",
    "You can read more about Sqlite here: https://sqlite.org/quickstart.html.\n",
    "\n",
    "Dask supports chunked dataframes that support most of the functionality of Pandas. The key additional parameter is `blocksize` which specifies the maximum size of a chunk of data to read into memory at one time. In addition, Dask methods are lazily evaluated; you must explicitly call a `.compute()` method to kick off the calculation. Here is a simple example: assume we have multiple CSV files containing temperature measurements. We could compute the mean temperature with something like:\n",
    "\n",
    "```python\n",
    "import dask.dataframe as dd\n",
    "\n",
    "df = dd.read_csv('temp*.csv', blocksize=25e6)  # Use 25MB chunks\n",
    "df.temperature.mean().compute()\n",
    "```\n"
   ]
  },
  {
   "cell_type": "markdown",
   "metadata": {},
   "source": [
    "## Adding Interactivity with ipywidgets\n",
    "\n",
    "`ipywidgets` is an extension package for Jupyter that allows output cells to include interactive HTML elements. To install, you will need to run a command to enable the extension from a terminal and then restart Jupyter. First, install the package; the code below shows the right way to do this from within the notebook:"
   ]
  },
  {
   "cell_type": "code",
   "execution_count": 206,
   "metadata": {},
   "outputs": [
    {
     "name": "stdout",
     "output_type": "stream",
     "text": [
      "Solving environment: done\n",
      "\n",
      "# All requested packages already installed.\n",
      "\n"
     ]
    }
   ],
   "source": [
    "!conda install -c conda-forge --prefix {sys.prefix} --yes ipywidgets"
   ]
  },
  {
   "cell_type": "markdown",
   "metadata": {},
   "source": [
    "Now you need to run this command from your terminal, kill and restart JupyterLab, then return here.\n",
    "\n",
    "    jupyter labextension install @jupyter-widgets/jupyterlab-manager\n",
    "\n",
    "(You can run it from within JupyterLab but you will still need a restart before the widgets will work).\n",
    "\n",
    "We will look at a simple example using the `interact` function from `ipywidgets`. You call this giving it a function as the first argument, followed by zero or more additional arguments that can be tuples, lists or dictionaries. These arguments will each become interactive controls like sliders and drop-downs, and any change in their values will cause the function to be called again with the new values as arguments.\n",
    "\n",
    "See http://ipywidgets.readthedocs.io/en/stable/examples/Using%20Interact.html for more info on creating other types of controls when using `interact`.\n"
   ]
  },
  {
   "cell_type": "code",
   "execution_count": 207,
   "metadata": {},
   "outputs": [
    {
     "data": {
      "application/vnd.jupyter.widget-view+json": {
       "model_id": "938b8868a6574d5fb5237018d2318ac8",
       "version_major": 2,
       "version_minor": 0
      },
      "text/plain": [
       "interactive(children=(Dropdown(description='kind', options=('line', 'bar'), value='line'), Dropdown(descriptio…"
      ]
     },
     "metadata": {},
     "output_type": "display_data"
    },
    {
     "data": {
      "text/plain": [
       "<function __main__.plot_graph>"
      ]
     },
     "execution_count": 207,
     "metadata": {},
     "output_type": "execute_result"
    }
   ],
   "source": [
    "from ipywidgets import interact\n",
    "import pandas as pd\n",
    "\n",
    "df = pd.DataFrame([[2, 1], [4, 4], [1, 2], [3, 6]], index=['a', 'b', 'c', 'd'], columns=['s1', 's2'])\n",
    "\n",
    "\n",
    "def plot_graph(kind, col):\n",
    "    what = df if col == 'all' else df[col]\n",
    "    what.plot(kind=kind)\n",
    "\n",
    "\n",
    "interact(plot_graph, kind=['line', 'bar'], col=['all', 's1', 's2'])\n"
   ]
  },
  {
   "cell_type": "markdown",
   "metadata": {},
   "source": [
    "## Some Useful Packages and Resources\n",
    "\n",
    "- `openpyxl` allows you to create and work directly with Excel spreadsheets\n",
    "- `faker` can create fake data like names, addresses, credit card numbers, and social security numbers\n",
    "- `numba` includes a `@jit` decorator that can [speed up the execution of many functions](http://nbviewer.jupyter.org/github/akittas/presentations/blob/master/pythess/numba/numba.ipynb); useful when crunching data outside of Pandas (it won't speed up Pandas code)\n",
    "- `moviepy` allows you to edit video frame-by-frame (or even create video)\n",
    "- [ray](https://rise.cs.berkeley.edu/blog/pandas-on-ray/) is a new package that lets you leverage your GPU to speed up pandas code\n",
    "- [qgrid](https://github.com/quantopian/qgrid) is a Jupyter extension that adds interactive sorting, filtering and editing of DataFrames\n",
    "\n",
    "Video tutorials on Pandas: http://www.dataschool.io/easier-data-analysis-with-pandas/\n",
    "\n",
    "Jake VanderPlas' excellent Python Data Science Handbook: https://jakevdp.github.io/PythonDataScienceHandbook/\n",
    "\n",
    "Tom Augspurger has a great [multi-part series](http://tomaugspurger.github.io/modern-1-intro) on Pandas aimed at intermediate to advanced users. \n",
    "\n",
    "## Example: Loading JSON into a DataFrame and Expanding Complex Fields\n",
    "\n",
    "In this example we'll see how we can load some structured data and process it into a flat table form better suited to machine learning."
   ]
  },
  {
   "cell_type": "code",
   "execution_count": 208,
   "metadata": {},
   "outputs": [
    {
     "data": {
      "text/html": [
       "<div>\n",
       "<style scoped>\n",
       "    .dataframe tbody tr th:only-of-type {\n",
       "        vertical-align: middle;\n",
       "    }\n",
       "\n",
       "    .dataframe tbody tr th {\n",
       "        vertical-align: top;\n",
       "    }\n",
       "\n",
       "    .dataframe thead th {\n",
       "        text-align: right;\n",
       "    }\n",
       "</style>\n",
       "<table border=\"1\" class=\"dataframe\">\n",
       "  <thead>\n",
       "    <tr style=\"text-align: right;\">\n",
       "      <th></th>\n",
       "      <th>comment_count</th>\n",
       "      <th>comments_url</th>\n",
       "      <th>created_at</th>\n",
       "      <th>description</th>\n",
       "      <th>downvotes</th>\n",
       "      <th>score</th>\n",
       "      <th>short_id</th>\n",
       "      <th>short_id_url</th>\n",
       "      <th>submitter_user</th>\n",
       "      <th>tags</th>\n",
       "      <th>title</th>\n",
       "      <th>upvotes</th>\n",
       "      <th>url</th>\n",
       "    </tr>\n",
       "  </thead>\n",
       "  <tbody>\n",
       "    <tr>\n",
       "      <th>0</th>\n",
       "      <td>2</td>\n",
       "      <td>https://lobste.rs/s/9fkwad/it_s_impossible_pro...</td>\n",
       "      <td>2018-04-28 20:52:33</td>\n",
       "      <td></td>\n",
       "      <td>0</td>\n",
       "      <td>12</td>\n",
       "      <td>9fkwad</td>\n",
       "      <td>https://lobste.rs/s/9fkwad</td>\n",
       "      <td>{'username': 'apg', 'created_at': '2013-12-11T...</td>\n",
       "      <td>[privacy, security]</td>\n",
       "      <td>It’s Impossible to Prove Your Laptop Hasn’t Be...</td>\n",
       "      <td>12</td>\n",
       "      <td>https://theintercept.com/2018/04/28/computer-m...</td>\n",
       "    </tr>\n",
       "    <tr>\n",
       "      <th>1</th>\n",
       "      <td>0</td>\n",
       "      <td>https://lobste.rs/s/iwvkly/unfixed_google_inbo...</td>\n",
       "      <td>2018-04-28 07:03:40</td>\n",
       "      <td></td>\n",
       "      <td>0</td>\n",
       "      <td>33</td>\n",
       "      <td>iwvkly</td>\n",
       "      <td>https://lobste.rs/s/iwvkly</td>\n",
       "      <td>{'username': 'eligrey', 'created_at': '2017-12...</td>\n",
       "      <td>[security, show]</td>\n",
       "      <td>Unfixed Google Inbox recipient spoofing vulner...</td>\n",
       "      <td>33</td>\n",
       "      <td>https://eligrey.com/blog/google-inbox-spoofing...</td>\n",
       "    </tr>\n",
       "    <tr>\n",
       "      <th>2</th>\n",
       "      <td>1</td>\n",
       "      <td>https://lobste.rs/s/xjsf2r/chrome_is_showing_t...</td>\n",
       "      <td>2018-04-29 02:13:21</td>\n",
       "      <td></td>\n",
       "      <td>0</td>\n",
       "      <td>6</td>\n",
       "      <td>xjsf2r</td>\n",
       "      <td>https://lobste.rs/s/xjsf2r</td>\n",
       "      <td>{'username': 'stephenr', 'created_at': '2015-0...</td>\n",
       "      <td>[browsers, mobile, web]</td>\n",
       "      <td>Chrome is showing third party external links o...</td>\n",
       "      <td>6</td>\n",
       "      <td>https://twitter.com/backlon/status/99004255788...</td>\n",
       "    </tr>\n",
       "    <tr>\n",
       "      <th>3</th>\n",
       "      <td>4</td>\n",
       "      <td>https://lobste.rs/s/js0ine/nethack_devteam_is_...</td>\n",
       "      <td>2018-04-28 14:34:02</td>\n",
       "      <td>&lt;p&gt;Interestingly, this will be the final relea...</td>\n",
       "      <td>0</td>\n",
       "      <td>13</td>\n",
       "      <td>js0ine</td>\n",
       "      <td>https://lobste.rs/s/js0ine</td>\n",
       "      <td>{'username': 'intercal', 'created_at': '2016-1...</td>\n",
       "      <td>[c, games]</td>\n",
       "      <td>The NetHack DevTeam is happy to announce the r...</td>\n",
       "      <td>13</td>\n",
       "      <td>https://groups.google.com/forum/#!topic/rec.ga...</td>\n",
       "    </tr>\n",
       "    <tr>\n",
       "      <th>4</th>\n",
       "      <td>0</td>\n",
       "      <td>https://lobste.rs/s/9ac8ha/how_get_core_dump_f...</td>\n",
       "      <td>2018-04-28 22:35:08</td>\n",
       "      <td></td>\n",
       "      <td>0</td>\n",
       "      <td>7</td>\n",
       "      <td>9ac8ha</td>\n",
       "      <td>https://lobste.rs/s/9ac8ha</td>\n",
       "      <td>{'username': 'calvin', 'created_at': '2014-07-...</td>\n",
       "      <td>[debugging]</td>\n",
       "      <td>How to get a core dump for a segfault on Linux</td>\n",
       "      <td>7</td>\n",
       "      <td>https://jvns.ca/blog/2018/04/28/debugging-a-se...</td>\n",
       "    </tr>\n",
       "  </tbody>\n",
       "</table>\n",
       "</div>"
      ],
      "text/plain": [
       "   comment_count                                       comments_url  \\\n",
       "0              2  https://lobste.rs/s/9fkwad/it_s_impossible_pro...   \n",
       "1              0  https://lobste.rs/s/iwvkly/unfixed_google_inbo...   \n",
       "2              1  https://lobste.rs/s/xjsf2r/chrome_is_showing_t...   \n",
       "3              4  https://lobste.rs/s/js0ine/nethack_devteam_is_...   \n",
       "4              0  https://lobste.rs/s/9ac8ha/how_get_core_dump_f...   \n",
       "\n",
       "           created_at                                        description  \\\n",
       "0 2018-04-28 20:52:33                                                      \n",
       "1 2018-04-28 07:03:40                                                      \n",
       "2 2018-04-29 02:13:21                                                      \n",
       "3 2018-04-28 14:34:02  <p>Interestingly, this will be the final relea...   \n",
       "4 2018-04-28 22:35:08                                                      \n",
       "\n",
       "   downvotes  score short_id                short_id_url  \\\n",
       "0          0     12   9fkwad  https://lobste.rs/s/9fkwad   \n",
       "1          0     33   iwvkly  https://lobste.rs/s/iwvkly   \n",
       "2          0      6   xjsf2r  https://lobste.rs/s/xjsf2r   \n",
       "3          0     13   js0ine  https://lobste.rs/s/js0ine   \n",
       "4          0      7   9ac8ha  https://lobste.rs/s/9ac8ha   \n",
       "\n",
       "                                      submitter_user                     tags  \\\n",
       "0  {'username': 'apg', 'created_at': '2013-12-11T...      [privacy, security]   \n",
       "1  {'username': 'eligrey', 'created_at': '2017-12...         [security, show]   \n",
       "2  {'username': 'stephenr', 'created_at': '2015-0...  [browsers, mobile, web]   \n",
       "3  {'username': 'intercal', 'created_at': '2016-1...               [c, games]   \n",
       "4  {'username': 'calvin', 'created_at': '2014-07-...              [debugging]   \n",
       "\n",
       "                                               title  upvotes  \\\n",
       "0  It’s Impossible to Prove Your Laptop Hasn’t Be...       12   \n",
       "1  Unfixed Google Inbox recipient spoofing vulner...       33   \n",
       "2  Chrome is showing third party external links o...        6   \n",
       "3  The NetHack DevTeam is happy to announce the r...       13   \n",
       "4     How to get a core dump for a segfault on Linux        7   \n",
       "\n",
       "                                                 url  \n",
       "0  https://theintercept.com/2018/04/28/computer-m...  \n",
       "1  https://eligrey.com/blog/google-inbox-spoofing...  \n",
       "2  https://twitter.com/backlon/status/99004255788...  \n",
       "3  https://groups.google.com/forum/#!topic/rec.ga...  \n",
       "4  https://jvns.ca/blog/2018/04/28/debugging-a-se...  "
      ]
     },
     "execution_count": 208,
     "metadata": {},
     "output_type": "execute_result"
    }
   ],
   "source": [
    "# Let's get some data; top stories from lobste.rs; populate a DataFrame with the JSON\n",
    "stories = pd.read_json('https://lobste.rs/hottest.json')\n",
    "stories.head()"
   ]
  },
  {
   "cell_type": "code",
   "execution_count": 209,
   "metadata": {},
   "outputs": [
    {
     "data": {
      "text/html": [
       "<div>\n",
       "<style scoped>\n",
       "    .dataframe tbody tr th:only-of-type {\n",
       "        vertical-align: middle;\n",
       "    }\n",
       "\n",
       "    .dataframe tbody tr th {\n",
       "        vertical-align: top;\n",
       "    }\n",
       "\n",
       "    .dataframe thead th {\n",
       "        text-align: right;\n",
       "    }\n",
       "</style>\n",
       "<table border=\"1\" class=\"dataframe\">\n",
       "  <thead>\n",
       "    <tr style=\"text-align: right;\">\n",
       "      <th></th>\n",
       "      <th>comment_count</th>\n",
       "      <th>comments_url</th>\n",
       "      <th>created_at</th>\n",
       "      <th>description</th>\n",
       "      <th>downvotes</th>\n",
       "      <th>score</th>\n",
       "      <th>short_id_url</th>\n",
       "      <th>submitter_user</th>\n",
       "      <th>tags</th>\n",
       "      <th>title</th>\n",
       "      <th>upvotes</th>\n",
       "      <th>url</th>\n",
       "    </tr>\n",
       "    <tr>\n",
       "      <th>short_id</th>\n",
       "      <th></th>\n",
       "      <th></th>\n",
       "      <th></th>\n",
       "      <th></th>\n",
       "      <th></th>\n",
       "      <th></th>\n",
       "      <th></th>\n",
       "      <th></th>\n",
       "      <th></th>\n",
       "      <th></th>\n",
       "      <th></th>\n",
       "      <th></th>\n",
       "    </tr>\n",
       "  </thead>\n",
       "  <tbody>\n",
       "    <tr>\n",
       "      <th>9fkwad</th>\n",
       "      <td>2</td>\n",
       "      <td>https://lobste.rs/s/9fkwad/it_s_impossible_pro...</td>\n",
       "      <td>2018-04-28 20:52:33</td>\n",
       "      <td></td>\n",
       "      <td>0</td>\n",
       "      <td>12</td>\n",
       "      <td>https://lobste.rs/s/9fkwad</td>\n",
       "      <td>{'username': 'apg', 'created_at': '2013-12-11T...</td>\n",
       "      <td>[privacy, security]</td>\n",
       "      <td>It’s Impossible to Prove Your Laptop Hasn’t Be...</td>\n",
       "      <td>12</td>\n",
       "      <td>https://theintercept.com/2018/04/28/computer-m...</td>\n",
       "    </tr>\n",
       "    <tr>\n",
       "      <th>iwvkly</th>\n",
       "      <td>0</td>\n",
       "      <td>https://lobste.rs/s/iwvkly/unfixed_google_inbo...</td>\n",
       "      <td>2018-04-28 07:03:40</td>\n",
       "      <td></td>\n",
       "      <td>0</td>\n",
       "      <td>33</td>\n",
       "      <td>https://lobste.rs/s/iwvkly</td>\n",
       "      <td>{'username': 'eligrey', 'created_at': '2017-12...</td>\n",
       "      <td>[security, show]</td>\n",
       "      <td>Unfixed Google Inbox recipient spoofing vulner...</td>\n",
       "      <td>33</td>\n",
       "      <td>https://eligrey.com/blog/google-inbox-spoofing...</td>\n",
       "    </tr>\n",
       "    <tr>\n",
       "      <th>xjsf2r</th>\n",
       "      <td>1</td>\n",
       "      <td>https://lobste.rs/s/xjsf2r/chrome_is_showing_t...</td>\n",
       "      <td>2018-04-29 02:13:21</td>\n",
       "      <td></td>\n",
       "      <td>0</td>\n",
       "      <td>6</td>\n",
       "      <td>https://lobste.rs/s/xjsf2r</td>\n",
       "      <td>{'username': 'stephenr', 'created_at': '2015-0...</td>\n",
       "      <td>[browsers, mobile, web]</td>\n",
       "      <td>Chrome is showing third party external links o...</td>\n",
       "      <td>6</td>\n",
       "      <td>https://twitter.com/backlon/status/99004255788...</td>\n",
       "    </tr>\n",
       "    <tr>\n",
       "      <th>js0ine</th>\n",
       "      <td>4</td>\n",
       "      <td>https://lobste.rs/s/js0ine/nethack_devteam_is_...</td>\n",
       "      <td>2018-04-28 14:34:02</td>\n",
       "      <td>&lt;p&gt;Interestingly, this will be the final relea...</td>\n",
       "      <td>0</td>\n",
       "      <td>13</td>\n",
       "      <td>https://lobste.rs/s/js0ine</td>\n",
       "      <td>{'username': 'intercal', 'created_at': '2016-1...</td>\n",
       "      <td>[c, games]</td>\n",
       "      <td>The NetHack DevTeam is happy to announce the r...</td>\n",
       "      <td>13</td>\n",
       "      <td>https://groups.google.com/forum/#!topic/rec.ga...</td>\n",
       "    </tr>\n",
       "    <tr>\n",
       "      <th>9ac8ha</th>\n",
       "      <td>0</td>\n",
       "      <td>https://lobste.rs/s/9ac8ha/how_get_core_dump_f...</td>\n",
       "      <td>2018-04-28 22:35:08</td>\n",
       "      <td></td>\n",
       "      <td>0</td>\n",
       "      <td>7</td>\n",
       "      <td>https://lobste.rs/s/9ac8ha</td>\n",
       "      <td>{'username': 'calvin', 'created_at': '2014-07-...</td>\n",
       "      <td>[debugging]</td>\n",
       "      <td>How to get a core dump for a segfault on Linux</td>\n",
       "      <td>7</td>\n",
       "      <td>https://jvns.ca/blog/2018/04/28/debugging-a-se...</td>\n",
       "    </tr>\n",
       "  </tbody>\n",
       "</table>\n",
       "</div>"
      ],
      "text/plain": [
       "          comment_count                                       comments_url  \\\n",
       "short_id                                                                     \n",
       "9fkwad                2  https://lobste.rs/s/9fkwad/it_s_impossible_pro...   \n",
       "iwvkly                0  https://lobste.rs/s/iwvkly/unfixed_google_inbo...   \n",
       "xjsf2r                1  https://lobste.rs/s/xjsf2r/chrome_is_showing_t...   \n",
       "js0ine                4  https://lobste.rs/s/js0ine/nethack_devteam_is_...   \n",
       "9ac8ha                0  https://lobste.rs/s/9ac8ha/how_get_core_dump_f...   \n",
       "\n",
       "                  created_at  \\\n",
       "short_id                       \n",
       "9fkwad   2018-04-28 20:52:33   \n",
       "iwvkly   2018-04-28 07:03:40   \n",
       "xjsf2r   2018-04-29 02:13:21   \n",
       "js0ine   2018-04-28 14:34:02   \n",
       "9ac8ha   2018-04-28 22:35:08   \n",
       "\n",
       "                                                description  downvotes  score  \\\n",
       "short_id                                                                        \n",
       "9fkwad                                                               0     12   \n",
       "iwvkly                                                               0     33   \n",
       "xjsf2r                                                               0      6   \n",
       "js0ine    <p>Interestingly, this will be the final relea...          0     13   \n",
       "9ac8ha                                                               0      7   \n",
       "\n",
       "                        short_id_url  \\\n",
       "short_id                               \n",
       "9fkwad    https://lobste.rs/s/9fkwad   \n",
       "iwvkly    https://lobste.rs/s/iwvkly   \n",
       "xjsf2r    https://lobste.rs/s/xjsf2r   \n",
       "js0ine    https://lobste.rs/s/js0ine   \n",
       "9ac8ha    https://lobste.rs/s/9ac8ha   \n",
       "\n",
       "                                             submitter_user  \\\n",
       "short_id                                                      \n",
       "9fkwad    {'username': 'apg', 'created_at': '2013-12-11T...   \n",
       "iwvkly    {'username': 'eligrey', 'created_at': '2017-12...   \n",
       "xjsf2r    {'username': 'stephenr', 'created_at': '2015-0...   \n",
       "js0ine    {'username': 'intercal', 'created_at': '2016-1...   \n",
       "9ac8ha    {'username': 'calvin', 'created_at': '2014-07-...   \n",
       "\n",
       "                             tags  \\\n",
       "short_id                            \n",
       "9fkwad        [privacy, security]   \n",
       "iwvkly           [security, show]   \n",
       "xjsf2r    [browsers, mobile, web]   \n",
       "js0ine                 [c, games]   \n",
       "9ac8ha                [debugging]   \n",
       "\n",
       "                                                      title  upvotes  \\\n",
       "short_id                                                               \n",
       "9fkwad    It’s Impossible to Prove Your Laptop Hasn’t Be...       12   \n",
       "iwvkly    Unfixed Google Inbox recipient spoofing vulner...       33   \n",
       "xjsf2r    Chrome is showing third party external links o...        6   \n",
       "js0ine    The NetHack DevTeam is happy to announce the r...       13   \n",
       "9ac8ha       How to get a core dump for a segfault on Linux        7   \n",
       "\n",
       "                                                        url  \n",
       "short_id                                                     \n",
       "9fkwad    https://theintercept.com/2018/04/28/computer-m...  \n",
       "iwvkly    https://eligrey.com/blog/google-inbox-spoofing...  \n",
       "xjsf2r    https://twitter.com/backlon/status/99004255788...  \n",
       "js0ine    https://groups.google.com/forum/#!topic/rec.ga...  \n",
       "9ac8ha    https://jvns.ca/blog/2018/04/28/debugging-a-se...  "
      ]
     },
     "execution_count": 209,
     "metadata": {},
     "output_type": "execute_result"
    }
   ],
   "source": [
    "# Use the \"short_id' field as the index\n",
    "stories = stories.set_index('short_id')\n",
    "\n",
    "# Show the first few rows\n",
    "stories.head()"
   ]
  },
  {
   "cell_type": "code",
   "execution_count": 210,
   "metadata": {},
   "outputs": [
    {
     "data": {
      "text/plain": [
       "{'about': 'Interested in programming languages, distributed systems and security (not very good at any of them). Currently: Metrics and operations at Heroku.\\r\\n\\r\\nPreviously: founder of [hack and tell](http://hackandtell.org): an informal, monthlish show and tell for hackers in NYC. Occasional SoCal surfer.\\r\\n\\r\\nElsewhere:\\r\\n\\r\\n* [homepage](http://apgwoz.com)\\r\\n* [blog](http://sigusr2.net)\\r\\n* [fediverse](https://bsd.network/@apg)\\r\\n\\r\\nIt probably goes without saying, but opinions are my own.',\n",
       " 'avatar_url': '/avatars/apg-100.png',\n",
       " 'created_at': '2013-12-11T11:00:03.000-06:00',\n",
       " 'github_username': 'apg',\n",
       " 'is_admin': False,\n",
       " 'is_moderator': False,\n",
       " 'karma': 3808,\n",
       " 'twitter_username': 'apgwoz',\n",
       " 'username': 'apg'}"
      ]
     },
     "execution_count": 210,
     "metadata": {},
     "output_type": "execute_result"
    }
   ],
   "source": [
    "# Take a look at the submitter_user field; it is a dictionary itself.\n",
    "stories.submitter_user[0]"
   ]
  },
  {
   "cell_type": "code",
   "execution_count": 211,
   "metadata": {},
   "outputs": [
    {
     "data": {
      "text/html": [
       "<div>\n",
       "<style scoped>\n",
       "    .dataframe tbody tr th:only-of-type {\n",
       "        vertical-align: middle;\n",
       "    }\n",
       "\n",
       "    .dataframe tbody tr th {\n",
       "        vertical-align: top;\n",
       "    }\n",
       "\n",
       "    .dataframe thead th {\n",
       "        text-align: right;\n",
       "    }\n",
       "</style>\n",
       "<table border=\"1\" class=\"dataframe\">\n",
       "  <thead>\n",
       "    <tr style=\"text-align: right;\">\n",
       "      <th></th>\n",
       "      <th>about</th>\n",
       "      <th>avatar_url</th>\n",
       "      <th>created_at</th>\n",
       "      <th>github_username</th>\n",
       "      <th>is_admin</th>\n",
       "      <th>is_moderator</th>\n",
       "      <th>karma</th>\n",
       "      <th>twitter_username</th>\n",
       "      <th>username</th>\n",
       "    </tr>\n",
       "    <tr>\n",
       "      <th>short_id</th>\n",
       "      <th></th>\n",
       "      <th></th>\n",
       "      <th></th>\n",
       "      <th></th>\n",
       "      <th></th>\n",
       "      <th></th>\n",
       "      <th></th>\n",
       "      <th></th>\n",
       "      <th></th>\n",
       "    </tr>\n",
       "  </thead>\n",
       "  <tbody>\n",
       "    <tr>\n",
       "      <th>9fkwad</th>\n",
       "      <td>Interested in programming languages, distribut...</td>\n",
       "      <td>/avatars/apg-100.png</td>\n",
       "      <td>2013-12-11T11:00:03.000-06:00</td>\n",
       "      <td>apg</td>\n",
       "      <td>False</td>\n",
       "      <td>False</td>\n",
       "      <td>3808</td>\n",
       "      <td>apgwoz</td>\n",
       "      <td>apg</td>\n",
       "    </tr>\n",
       "    <tr>\n",
       "      <th>iwvkly</th>\n",
       "      <td>I'm [Eli Grey](https://eligrey.com).</td>\n",
       "      <td>/avatars/eligrey-100.png</td>\n",
       "      <td>2017-12-23T20:12:34.000-06:00</td>\n",
       "      <td>eligrey</td>\n",
       "      <td>False</td>\n",
       "      <td>False</td>\n",
       "      <td>33</td>\n",
       "      <td>sephr</td>\n",
       "      <td>eligrey</td>\n",
       "    </tr>\n",
       "    <tr>\n",
       "      <th>xjsf2r</th>\n",
       "      <td>Ops/infrastructure and web app development.\\r\\...</td>\n",
       "      <td>/avatars/stephenr-100.png</td>\n",
       "      <td>2015-04-22T19:29:06.000-05:00</td>\n",
       "      <td>NaN</td>\n",
       "      <td>False</td>\n",
       "      <td>False</td>\n",
       "      <td>497</td>\n",
       "      <td>NaN</td>\n",
       "      <td>stephenr</td>\n",
       "    </tr>\n",
       "    <tr>\n",
       "      <th>js0ine</th>\n",
       "      <td>I like programming, and programming languages ...</td>\n",
       "      <td>/avatars/intercal-100.png</td>\n",
       "      <td>2016-11-11T08:55:13.000-06:00</td>\n",
       "      <td>NaN</td>\n",
       "      <td>False</td>\n",
       "      <td>False</td>\n",
       "      <td>284</td>\n",
       "      <td>NaN</td>\n",
       "      <td>intercal</td>\n",
       "    </tr>\n",
       "    <tr>\n",
       "      <th>9ac8ha</th>\n",
       "      <td>Soon we will all have special names... names d...</td>\n",
       "      <td>/avatars/calvin-100.png</td>\n",
       "      <td>2014-07-01T06:47:13.000-05:00</td>\n",
       "      <td>NattyNarwhal</td>\n",
       "      <td>False</td>\n",
       "      <td>False</td>\n",
       "      <td>25997</td>\n",
       "      <td>NaN</td>\n",
       "      <td>calvin</td>\n",
       "    </tr>\n",
       "  </tbody>\n",
       "</table>\n",
       "</div>"
      ],
      "text/plain": [
       "                                                      about  \\\n",
       "short_id                                                      \n",
       "9fkwad    Interested in programming languages, distribut...   \n",
       "iwvkly                 I'm [Eli Grey](https://eligrey.com).   \n",
       "xjsf2r    Ops/infrastructure and web app development.\\r\\...   \n",
       "js0ine    I like programming, and programming languages ...   \n",
       "9ac8ha    Soon we will all have special names... names d...   \n",
       "\n",
       "                         avatar_url                     created_at  \\\n",
       "short_id                                                             \n",
       "9fkwad         /avatars/apg-100.png  2013-12-11T11:00:03.000-06:00   \n",
       "iwvkly     /avatars/eligrey-100.png  2017-12-23T20:12:34.000-06:00   \n",
       "xjsf2r    /avatars/stephenr-100.png  2015-04-22T19:29:06.000-05:00   \n",
       "js0ine    /avatars/intercal-100.png  2016-11-11T08:55:13.000-06:00   \n",
       "9ac8ha      /avatars/calvin-100.png  2014-07-01T06:47:13.000-05:00   \n",
       "\n",
       "         github_username  is_admin  is_moderator  karma twitter_username  \\\n",
       "short_id                                                                   \n",
       "9fkwad               apg     False         False   3808           apgwoz   \n",
       "iwvkly           eligrey     False         False     33            sephr   \n",
       "xjsf2r               NaN     False         False    497              NaN   \n",
       "js0ine               NaN     False         False    284              NaN   \n",
       "9ac8ha      NattyNarwhal     False         False  25997              NaN   \n",
       "\n",
       "          username  \n",
       "short_id            \n",
       "9fkwad         apg  \n",
       "iwvkly     eligrey  \n",
       "xjsf2r    stephenr  \n",
       "js0ine    intercal  \n",
       "9ac8ha      calvin  "
      ]
     },
     "execution_count": 211,
     "metadata": {},
     "output_type": "execute_result"
    }
   ],
   "source": [
    "# We want to expand these fields into our dataframe. First expand into its own dataframe.\n",
    "user_df = stories.submitter_user.apply(pd.Series)\n",
    "user_df.head()"
   ]
  },
  {
   "cell_type": "code",
   "execution_count": 212,
   "metadata": {},
   "outputs": [
    {
     "data": {
      "text/plain": [
       "{'created_at'}"
      ]
     },
     "execution_count": 212,
     "metadata": {},
     "output_type": "execute_result"
    }
   ],
   "source": [
    "# We should make sure there are no collisions in column names.\n",
    "set(user_df.columns).intersection(stories.columns)"
   ]
  },
  {
   "cell_type": "code",
   "execution_count": 213,
   "metadata": {},
   "outputs": [],
   "source": [
    "# We can rename the column to avoid the clash\n",
    "user_df = user_df.rename(columns={'created_at': 'user_created_at'})"
   ]
  },
  {
   "cell_type": "code",
   "execution_count": 214,
   "metadata": {},
   "outputs": [
    {
     "data": {
      "text/html": [
       "<div>\n",
       "<style scoped>\n",
       "    .dataframe tbody tr th:only-of-type {\n",
       "        vertical-align: middle;\n",
       "    }\n",
       "\n",
       "    .dataframe tbody tr th {\n",
       "        vertical-align: top;\n",
       "    }\n",
       "\n",
       "    .dataframe thead th {\n",
       "        text-align: right;\n",
       "    }\n",
       "</style>\n",
       "<table border=\"1\" class=\"dataframe\">\n",
       "  <thead>\n",
       "    <tr style=\"text-align: right;\">\n",
       "      <th></th>\n",
       "      <th>comment_count</th>\n",
       "      <th>comments_url</th>\n",
       "      <th>created_at</th>\n",
       "      <th>description</th>\n",
       "      <th>downvotes</th>\n",
       "      <th>score</th>\n",
       "      <th>short_id_url</th>\n",
       "      <th>tags</th>\n",
       "      <th>title</th>\n",
       "      <th>upvotes</th>\n",
       "      <th>url</th>\n",
       "      <th>about</th>\n",
       "      <th>avatar_url</th>\n",
       "      <th>user_created_at</th>\n",
       "      <th>github_username</th>\n",
       "      <th>is_admin</th>\n",
       "      <th>is_moderator</th>\n",
       "      <th>karma</th>\n",
       "      <th>twitter_username</th>\n",
       "      <th>username</th>\n",
       "    </tr>\n",
       "    <tr>\n",
       "      <th>short_id</th>\n",
       "      <th></th>\n",
       "      <th></th>\n",
       "      <th></th>\n",
       "      <th></th>\n",
       "      <th></th>\n",
       "      <th></th>\n",
       "      <th></th>\n",
       "      <th></th>\n",
       "      <th></th>\n",
       "      <th></th>\n",
       "      <th></th>\n",
       "      <th></th>\n",
       "      <th></th>\n",
       "      <th></th>\n",
       "      <th></th>\n",
       "      <th></th>\n",
       "      <th></th>\n",
       "      <th></th>\n",
       "      <th></th>\n",
       "      <th></th>\n",
       "    </tr>\n",
       "  </thead>\n",
       "  <tbody>\n",
       "    <tr>\n",
       "      <th>9fkwad</th>\n",
       "      <td>2</td>\n",
       "      <td>https://lobste.rs/s/9fkwad/it_s_impossible_pro...</td>\n",
       "      <td>2018-04-28 20:52:33</td>\n",
       "      <td></td>\n",
       "      <td>0</td>\n",
       "      <td>12</td>\n",
       "      <td>https://lobste.rs/s/9fkwad</td>\n",
       "      <td>[privacy, security]</td>\n",
       "      <td>It’s Impossible to Prove Your Laptop Hasn’t Be...</td>\n",
       "      <td>12</td>\n",
       "      <td>https://theintercept.com/2018/04/28/computer-m...</td>\n",
       "      <td>Interested in programming languages, distribut...</td>\n",
       "      <td>/avatars/apg-100.png</td>\n",
       "      <td>2013-12-11T11:00:03.000-06:00</td>\n",
       "      <td>apg</td>\n",
       "      <td>False</td>\n",
       "      <td>False</td>\n",
       "      <td>3808</td>\n",
       "      <td>apgwoz</td>\n",
       "      <td>apg</td>\n",
       "    </tr>\n",
       "    <tr>\n",
       "      <th>iwvkly</th>\n",
       "      <td>0</td>\n",
       "      <td>https://lobste.rs/s/iwvkly/unfixed_google_inbo...</td>\n",
       "      <td>2018-04-28 07:03:40</td>\n",
       "      <td></td>\n",
       "      <td>0</td>\n",
       "      <td>33</td>\n",
       "      <td>https://lobste.rs/s/iwvkly</td>\n",
       "      <td>[security, show]</td>\n",
       "      <td>Unfixed Google Inbox recipient spoofing vulner...</td>\n",
       "      <td>33</td>\n",
       "      <td>https://eligrey.com/blog/google-inbox-spoofing...</td>\n",
       "      <td>I'm [Eli Grey](https://eligrey.com).</td>\n",
       "      <td>/avatars/eligrey-100.png</td>\n",
       "      <td>2017-12-23T20:12:34.000-06:00</td>\n",
       "      <td>eligrey</td>\n",
       "      <td>False</td>\n",
       "      <td>False</td>\n",
       "      <td>33</td>\n",
       "      <td>sephr</td>\n",
       "      <td>eligrey</td>\n",
       "    </tr>\n",
       "    <tr>\n",
       "      <th>xjsf2r</th>\n",
       "      <td>1</td>\n",
       "      <td>https://lobste.rs/s/xjsf2r/chrome_is_showing_t...</td>\n",
       "      <td>2018-04-29 02:13:21</td>\n",
       "      <td></td>\n",
       "      <td>0</td>\n",
       "      <td>6</td>\n",
       "      <td>https://lobste.rs/s/xjsf2r</td>\n",
       "      <td>[browsers, mobile, web]</td>\n",
       "      <td>Chrome is showing third party external links o...</td>\n",
       "      <td>6</td>\n",
       "      <td>https://twitter.com/backlon/status/99004255788...</td>\n",
       "      <td>Ops/infrastructure and web app development.\\r\\...</td>\n",
       "      <td>/avatars/stephenr-100.png</td>\n",
       "      <td>2015-04-22T19:29:06.000-05:00</td>\n",
       "      <td>NaN</td>\n",
       "      <td>False</td>\n",
       "      <td>False</td>\n",
       "      <td>497</td>\n",
       "      <td>NaN</td>\n",
       "      <td>stephenr</td>\n",
       "    </tr>\n",
       "    <tr>\n",
       "      <th>js0ine</th>\n",
       "      <td>4</td>\n",
       "      <td>https://lobste.rs/s/js0ine/nethack_devteam_is_...</td>\n",
       "      <td>2018-04-28 14:34:02</td>\n",
       "      <td>&lt;p&gt;Interestingly, this will be the final relea...</td>\n",
       "      <td>0</td>\n",
       "      <td>13</td>\n",
       "      <td>https://lobste.rs/s/js0ine</td>\n",
       "      <td>[c, games]</td>\n",
       "      <td>The NetHack DevTeam is happy to announce the r...</td>\n",
       "      <td>13</td>\n",
       "      <td>https://groups.google.com/forum/#!topic/rec.ga...</td>\n",
       "      <td>I like programming, and programming languages ...</td>\n",
       "      <td>/avatars/intercal-100.png</td>\n",
       "      <td>2016-11-11T08:55:13.000-06:00</td>\n",
       "      <td>NaN</td>\n",
       "      <td>False</td>\n",
       "      <td>False</td>\n",
       "      <td>284</td>\n",
       "      <td>NaN</td>\n",
       "      <td>intercal</td>\n",
       "    </tr>\n",
       "    <tr>\n",
       "      <th>9ac8ha</th>\n",
       "      <td>0</td>\n",
       "      <td>https://lobste.rs/s/9ac8ha/how_get_core_dump_f...</td>\n",
       "      <td>2018-04-28 22:35:08</td>\n",
       "      <td></td>\n",
       "      <td>0</td>\n",
       "      <td>7</td>\n",
       "      <td>https://lobste.rs/s/9ac8ha</td>\n",
       "      <td>[debugging]</td>\n",
       "      <td>How to get a core dump for a segfault on Linux</td>\n",
       "      <td>7</td>\n",
       "      <td>https://jvns.ca/blog/2018/04/28/debugging-a-se...</td>\n",
       "      <td>Soon we will all have special names... names d...</td>\n",
       "      <td>/avatars/calvin-100.png</td>\n",
       "      <td>2014-07-01T06:47:13.000-05:00</td>\n",
       "      <td>NattyNarwhal</td>\n",
       "      <td>False</td>\n",
       "      <td>False</td>\n",
       "      <td>25997</td>\n",
       "      <td>NaN</td>\n",
       "      <td>calvin</td>\n",
       "    </tr>\n",
       "  </tbody>\n",
       "</table>\n",
       "</div>"
      ],
      "text/plain": [
       "          comment_count                                       comments_url  \\\n",
       "short_id                                                                     \n",
       "9fkwad                2  https://lobste.rs/s/9fkwad/it_s_impossible_pro...   \n",
       "iwvkly                0  https://lobste.rs/s/iwvkly/unfixed_google_inbo...   \n",
       "xjsf2r                1  https://lobste.rs/s/xjsf2r/chrome_is_showing_t...   \n",
       "js0ine                4  https://lobste.rs/s/js0ine/nethack_devteam_is_...   \n",
       "9ac8ha                0  https://lobste.rs/s/9ac8ha/how_get_core_dump_f...   \n",
       "\n",
       "                  created_at  \\\n",
       "short_id                       \n",
       "9fkwad   2018-04-28 20:52:33   \n",
       "iwvkly   2018-04-28 07:03:40   \n",
       "xjsf2r   2018-04-29 02:13:21   \n",
       "js0ine   2018-04-28 14:34:02   \n",
       "9ac8ha   2018-04-28 22:35:08   \n",
       "\n",
       "                                                description  downvotes  score  \\\n",
       "short_id                                                                        \n",
       "9fkwad                                                               0     12   \n",
       "iwvkly                                                               0     33   \n",
       "xjsf2r                                                               0      6   \n",
       "js0ine    <p>Interestingly, this will be the final relea...          0     13   \n",
       "9ac8ha                                                               0      7   \n",
       "\n",
       "                        short_id_url                     tags  \\\n",
       "short_id                                                        \n",
       "9fkwad    https://lobste.rs/s/9fkwad      [privacy, security]   \n",
       "iwvkly    https://lobste.rs/s/iwvkly         [security, show]   \n",
       "xjsf2r    https://lobste.rs/s/xjsf2r  [browsers, mobile, web]   \n",
       "js0ine    https://lobste.rs/s/js0ine               [c, games]   \n",
       "9ac8ha    https://lobste.rs/s/9ac8ha              [debugging]   \n",
       "\n",
       "                                                      title  upvotes  \\\n",
       "short_id                                                               \n",
       "9fkwad    It’s Impossible to Prove Your Laptop Hasn’t Be...       12   \n",
       "iwvkly    Unfixed Google Inbox recipient spoofing vulner...       33   \n",
       "xjsf2r    Chrome is showing third party external links o...        6   \n",
       "js0ine    The NetHack DevTeam is happy to announce the r...       13   \n",
       "9ac8ha       How to get a core dump for a segfault on Linux        7   \n",
       "\n",
       "                                                        url  \\\n",
       "short_id                                                      \n",
       "9fkwad    https://theintercept.com/2018/04/28/computer-m...   \n",
       "iwvkly    https://eligrey.com/blog/google-inbox-spoofing...   \n",
       "xjsf2r    https://twitter.com/backlon/status/99004255788...   \n",
       "js0ine    https://groups.google.com/forum/#!topic/rec.ga...   \n",
       "9ac8ha    https://jvns.ca/blog/2018/04/28/debugging-a-se...   \n",
       "\n",
       "                                                      about  \\\n",
       "short_id                                                      \n",
       "9fkwad    Interested in programming languages, distribut...   \n",
       "iwvkly                 I'm [Eli Grey](https://eligrey.com).   \n",
       "xjsf2r    Ops/infrastructure and web app development.\\r\\...   \n",
       "js0ine    I like programming, and programming languages ...   \n",
       "9ac8ha    Soon we will all have special names... names d...   \n",
       "\n",
       "                         avatar_url                user_created_at  \\\n",
       "short_id                                                             \n",
       "9fkwad         /avatars/apg-100.png  2013-12-11T11:00:03.000-06:00   \n",
       "iwvkly     /avatars/eligrey-100.png  2017-12-23T20:12:34.000-06:00   \n",
       "xjsf2r    /avatars/stephenr-100.png  2015-04-22T19:29:06.000-05:00   \n",
       "js0ine    /avatars/intercal-100.png  2016-11-11T08:55:13.000-06:00   \n",
       "9ac8ha      /avatars/calvin-100.png  2014-07-01T06:47:13.000-05:00   \n",
       "\n",
       "         github_username  is_admin  is_moderator  karma twitter_username  \\\n",
       "short_id                                                                   \n",
       "9fkwad               apg     False         False   3808           apgwoz   \n",
       "iwvkly           eligrey     False         False     33            sephr   \n",
       "xjsf2r               NaN     False         False    497              NaN   \n",
       "js0ine               NaN     False         False    284              NaN   \n",
       "9ac8ha      NattyNarwhal     False         False  25997              NaN   \n",
       "\n",
       "          username  \n",
       "short_id            \n",
       "9fkwad         apg  \n",
       "iwvkly     eligrey  \n",
       "xjsf2r    stephenr  \n",
       "js0ine    intercal  \n",
       "9ac8ha      calvin  "
      ]
     },
     "execution_count": 214,
     "metadata": {},
     "output_type": "execute_result"
    }
   ],
   "source": [
    "# Now combine them, dropping the original compound column that we are expanding.\n",
    "stories = pd.concat([stories.drop(['submitter_user'], axis=1), user_df], axis=1)\n",
    "stories.head()"
   ]
  },
  {
   "cell_type": "code",
   "execution_count": 215,
   "metadata": {},
   "outputs": [
    {
     "data": {
      "text/plain": [
       "short_id\n",
       "9fkwad        [privacy, security]\n",
       "iwvkly           [security, show]\n",
       "xjsf2r    [browsers, mobile, web]\n",
       "js0ine                 [c, games]\n",
       "9ac8ha                [debugging]\n",
       "Name: tags, dtype: object"
      ]
     },
     "execution_count": 215,
     "metadata": {},
     "output_type": "execute_result"
    }
   ],
   "source": [
    "# The tags field is another compound field.\n",
    "stories.tags.head()"
   ]
  },
  {
   "cell_type": "code",
   "execution_count": 216,
   "metadata": {},
   "outputs": [
    {
     "data": {
      "text/html": [
       "<div>\n",
       "<style scoped>\n",
       "    .dataframe tbody tr th:only-of-type {\n",
       "        vertical-align: middle;\n",
       "    }\n",
       "\n",
       "    .dataframe tbody tr th {\n",
       "        vertical-align: top;\n",
       "    }\n",
       "\n",
       "    .dataframe thead th {\n",
       "        text-align: right;\n",
       "    }\n",
       "</style>\n",
       "<table border=\"1\" class=\"dataframe\">\n",
       "  <thead>\n",
       "    <tr style=\"text-align: right;\">\n",
       "      <th></th>\n",
       "      <th>0</th>\n",
       "      <th>1</th>\n",
       "      <th>2</th>\n",
       "      <th>3</th>\n",
       "    </tr>\n",
       "    <tr>\n",
       "      <th>short_id</th>\n",
       "      <th></th>\n",
       "      <th></th>\n",
       "      <th></th>\n",
       "      <th></th>\n",
       "    </tr>\n",
       "  </thead>\n",
       "  <tbody>\n",
       "    <tr>\n",
       "      <th>9fkwad</th>\n",
       "      <td>privacy</td>\n",
       "      <td>security</td>\n",
       "      <td>NaN</td>\n",
       "      <td>NaN</td>\n",
       "    </tr>\n",
       "    <tr>\n",
       "      <th>iwvkly</th>\n",
       "      <td>security</td>\n",
       "      <td>show</td>\n",
       "      <td>NaN</td>\n",
       "      <td>NaN</td>\n",
       "    </tr>\n",
       "    <tr>\n",
       "      <th>xjsf2r</th>\n",
       "      <td>browsers</td>\n",
       "      <td>mobile</td>\n",
       "      <td>web</td>\n",
       "      <td>NaN</td>\n",
       "    </tr>\n",
       "    <tr>\n",
       "      <th>js0ine</th>\n",
       "      <td>c</td>\n",
       "      <td>games</td>\n",
       "      <td>NaN</td>\n",
       "      <td>NaN</td>\n",
       "    </tr>\n",
       "    <tr>\n",
       "      <th>9ac8ha</th>\n",
       "      <td>debugging</td>\n",
       "      <td>NaN</td>\n",
       "      <td>NaN</td>\n",
       "      <td>NaN</td>\n",
       "    </tr>\n",
       "  </tbody>\n",
       "</table>\n",
       "</div>"
      ],
      "text/plain": [
       "                  0         1    2    3\n",
       "short_id                               \n",
       "9fkwad      privacy  security  NaN  NaN\n",
       "iwvkly     security      show  NaN  NaN\n",
       "xjsf2r     browsers    mobile  web  NaN\n",
       "js0ine            c     games  NaN  NaN\n",
       "9ac8ha    debugging       NaN  NaN  NaN"
      ]
     },
     "execution_count": 216,
     "metadata": {},
     "output_type": "execute_result"
    }
   ],
   "source": [
    "# Make a new dataframe with the tag lists expanded into columns of Series.\n",
    "tag_df = stories.tags.apply(pd.Series)\n",
    "tag_df.head()"
   ]
  },
  {
   "cell_type": "code",
   "execution_count": 217,
   "metadata": {},
   "outputs": [
    {
     "data": {
      "text/plain": [
       "short_id   \n",
       "9fkwad    0             privacy\n",
       "          1            security\n",
       "iwvkly    0            security\n",
       "          1                show\n",
       "xjsf2r    0            browsers\n",
       "          1              mobile\n",
       "          2                 web\n",
       "js0ine    0                   c\n",
       "          1               games\n",
       "9ac8ha    0           debugging\n",
       "sgvyct    0             android\n",
       "          1               linux\n",
       "          2          networking\n",
       "bq7zc0    0            hardware\n",
       "yiwxq1    0          javascript\n",
       "fe8sly    0          philosophy\n",
       "          1         programming\n",
       "yvogbz    0                math\n",
       "          1       visualization\n",
       "vqaslr    0             release\n",
       "          1                show\n",
       "cy0nbk    0         programming\n",
       "          1             scaling\n",
       "12pegw    0                  go\n",
       "          1             release\n",
       "mtpakk    0             clojure\n",
       "k6evtc    0             culture\n",
       "          1             haskell\n",
       "jgyhfp    0           compilers\n",
       "          1                lisp\n",
       "          2                 pdf\n",
       "          3              python\n",
       "sv7ntm    0            hardware\n",
       "          1               video\n",
       "gs56zl    0                 art\n",
       "          1            graphics\n",
       "          2             release\n",
       "pwibis    0           compilers\n",
       "          1              elixir\n",
       "          2              erlang\n",
       "zvdbag    0           practices\n",
       "hnwahp    0                  ai\n",
       "          1         programming\n",
       "su5y1j    0          networking\n",
       "          1          philosophy\n",
       "          2       visualization\n",
       "dhevll    0         programming\n",
       "          1                rust\n",
       "f0zug5    0              mobile\n",
       "          1            security\n",
       "w6i96s    0              crypto\n",
       "          1    cryptocurrencies\n",
       "          2            security\n",
       "dtype: object"
      ]
     },
     "execution_count": 217,
     "metadata": {},
     "output_type": "execute_result"
    }
   ],
   "source": [
    "# Pivot the DataFrame\n",
    "tag_df = tag_df.stack()\n",
    "tag_df"
   ]
  },
  {
   "cell_type": "code",
   "execution_count": 218,
   "metadata": {},
   "outputs": [
    {
     "data": {
      "text/html": [
       "<div>\n",
       "<style scoped>\n",
       "    .dataframe tbody tr th:only-of-type {\n",
       "        vertical-align: middle;\n",
       "    }\n",
       "\n",
       "    .dataframe tbody tr th {\n",
       "        vertical-align: top;\n",
       "    }\n",
       "\n",
       "    .dataframe thead th {\n",
       "        text-align: right;\n",
       "    }\n",
       "</style>\n",
       "<table border=\"1\" class=\"dataframe\">\n",
       "  <thead>\n",
       "    <tr style=\"text-align: right;\">\n",
       "      <th></th>\n",
       "      <th></th>\n",
       "      <th>ai</th>\n",
       "      <th>android</th>\n",
       "      <th>art</th>\n",
       "      <th>browsers</th>\n",
       "      <th>c</th>\n",
       "      <th>clojure</th>\n",
       "      <th>compilers</th>\n",
       "      <th>crypto</th>\n",
       "      <th>cryptocurrencies</th>\n",
       "      <th>culture</th>\n",
       "      <th>...</th>\n",
       "      <th>programming</th>\n",
       "      <th>python</th>\n",
       "      <th>release</th>\n",
       "      <th>rust</th>\n",
       "      <th>scaling</th>\n",
       "      <th>security</th>\n",
       "      <th>show</th>\n",
       "      <th>video</th>\n",
       "      <th>visualization</th>\n",
       "      <th>web</th>\n",
       "    </tr>\n",
       "    <tr>\n",
       "      <th>short_id</th>\n",
       "      <th></th>\n",
       "      <th></th>\n",
       "      <th></th>\n",
       "      <th></th>\n",
       "      <th></th>\n",
       "      <th></th>\n",
       "      <th></th>\n",
       "      <th></th>\n",
       "      <th></th>\n",
       "      <th></th>\n",
       "      <th></th>\n",
       "      <th></th>\n",
       "      <th></th>\n",
       "      <th></th>\n",
       "      <th></th>\n",
       "      <th></th>\n",
       "      <th></th>\n",
       "      <th></th>\n",
       "      <th></th>\n",
       "      <th></th>\n",
       "      <th></th>\n",
       "      <th></th>\n",
       "    </tr>\n",
       "  </thead>\n",
       "  <tbody>\n",
       "    <tr>\n",
       "      <th rowspan=\"2\" valign=\"top\">9fkwad</th>\n",
       "      <th>0</th>\n",
       "      <td>0</td>\n",
       "      <td>0</td>\n",
       "      <td>0</td>\n",
       "      <td>0</td>\n",
       "      <td>0</td>\n",
       "      <td>0</td>\n",
       "      <td>0</td>\n",
       "      <td>0</td>\n",
       "      <td>0</td>\n",
       "      <td>0</td>\n",
       "      <td>...</td>\n",
       "      <td>0</td>\n",
       "      <td>0</td>\n",
       "      <td>0</td>\n",
       "      <td>0</td>\n",
       "      <td>0</td>\n",
       "      <td>0</td>\n",
       "      <td>0</td>\n",
       "      <td>0</td>\n",
       "      <td>0</td>\n",
       "      <td>0</td>\n",
       "    </tr>\n",
       "    <tr>\n",
       "      <th>1</th>\n",
       "      <td>0</td>\n",
       "      <td>0</td>\n",
       "      <td>0</td>\n",
       "      <td>0</td>\n",
       "      <td>0</td>\n",
       "      <td>0</td>\n",
       "      <td>0</td>\n",
       "      <td>0</td>\n",
       "      <td>0</td>\n",
       "      <td>0</td>\n",
       "      <td>...</td>\n",
       "      <td>0</td>\n",
       "      <td>0</td>\n",
       "      <td>0</td>\n",
       "      <td>0</td>\n",
       "      <td>0</td>\n",
       "      <td>1</td>\n",
       "      <td>0</td>\n",
       "      <td>0</td>\n",
       "      <td>0</td>\n",
       "      <td>0</td>\n",
       "    </tr>\n",
       "    <tr>\n",
       "      <th rowspan=\"2\" valign=\"top\">iwvkly</th>\n",
       "      <th>0</th>\n",
       "      <td>0</td>\n",
       "      <td>0</td>\n",
       "      <td>0</td>\n",
       "      <td>0</td>\n",
       "      <td>0</td>\n",
       "      <td>0</td>\n",
       "      <td>0</td>\n",
       "      <td>0</td>\n",
       "      <td>0</td>\n",
       "      <td>0</td>\n",
       "      <td>...</td>\n",
       "      <td>0</td>\n",
       "      <td>0</td>\n",
       "      <td>0</td>\n",
       "      <td>0</td>\n",
       "      <td>0</td>\n",
       "      <td>1</td>\n",
       "      <td>0</td>\n",
       "      <td>0</td>\n",
       "      <td>0</td>\n",
       "      <td>0</td>\n",
       "    </tr>\n",
       "    <tr>\n",
       "      <th>1</th>\n",
       "      <td>0</td>\n",
       "      <td>0</td>\n",
       "      <td>0</td>\n",
       "      <td>0</td>\n",
       "      <td>0</td>\n",
       "      <td>0</td>\n",
       "      <td>0</td>\n",
       "      <td>0</td>\n",
       "      <td>0</td>\n",
       "      <td>0</td>\n",
       "      <td>...</td>\n",
       "      <td>0</td>\n",
       "      <td>0</td>\n",
       "      <td>0</td>\n",
       "      <td>0</td>\n",
       "      <td>0</td>\n",
       "      <td>0</td>\n",
       "      <td>1</td>\n",
       "      <td>0</td>\n",
       "      <td>0</td>\n",
       "      <td>0</td>\n",
       "    </tr>\n",
       "    <tr>\n",
       "      <th>xjsf2r</th>\n",
       "      <th>0</th>\n",
       "      <td>0</td>\n",
       "      <td>0</td>\n",
       "      <td>0</td>\n",
       "      <td>1</td>\n",
       "      <td>0</td>\n",
       "      <td>0</td>\n",
       "      <td>0</td>\n",
       "      <td>0</td>\n",
       "      <td>0</td>\n",
       "      <td>0</td>\n",
       "      <td>...</td>\n",
       "      <td>0</td>\n",
       "      <td>0</td>\n",
       "      <td>0</td>\n",
       "      <td>0</td>\n",
       "      <td>0</td>\n",
       "      <td>0</td>\n",
       "      <td>0</td>\n",
       "      <td>0</td>\n",
       "      <td>0</td>\n",
       "      <td>0</td>\n",
       "    </tr>\n",
       "  </tbody>\n",
       "</table>\n",
       "<p>5 rows × 38 columns</p>\n",
       "</div>"
      ],
      "text/plain": [
       "            ai  android  art  browsers  c  clojure  compilers  crypto  \\\n",
       "short_id                                                                \n",
       "9fkwad   0   0        0    0         0  0        0          0       0   \n",
       "         1   0        0    0         0  0        0          0       0   \n",
       "iwvkly   0   0        0    0         0  0        0          0       0   \n",
       "         1   0        0    0         0  0        0          0       0   \n",
       "xjsf2r   0   0        0    0         1  0        0          0       0   \n",
       "\n",
       "            cryptocurrencies  culture ...   programming  python  release  \\\n",
       "short_id                              ...                                  \n",
       "9fkwad   0                 0        0 ...             0       0        0   \n",
       "         1                 0        0 ...             0       0        0   \n",
       "iwvkly   0                 0        0 ...             0       0        0   \n",
       "         1                 0        0 ...             0       0        0   \n",
       "xjsf2r   0                 0        0 ...             0       0        0   \n",
       "\n",
       "            rust  scaling  security  show  video  visualization  web  \n",
       "short_id                                                              \n",
       "9fkwad   0     0        0         0     0      0              0    0  \n",
       "         1     0        0         1     0      0              0    0  \n",
       "iwvkly   0     0        0         1     0      0              0    0  \n",
       "         1     0        0         0     1      0              0    0  \n",
       "xjsf2r   0     0        0         0     0      0              0    0  \n",
       "\n",
       "[5 rows x 38 columns]"
      ]
     },
     "execution_count": 218,
     "metadata": {},
     "output_type": "execute_result"
    }
   ],
   "source": [
    "# Expand into a 1-hot encoding\n",
    "tag_df = pd.get_dummies(tag_df)\n",
    "tag_df.head()"
   ]
  },
  {
   "cell_type": "code",
   "execution_count": 219,
   "metadata": {},
   "outputs": [
    {
     "data": {
      "text/html": [
       "<div>\n",
       "<style scoped>\n",
       "    .dataframe tbody tr th:only-of-type {\n",
       "        vertical-align: middle;\n",
       "    }\n",
       "\n",
       "    .dataframe tbody tr th {\n",
       "        vertical-align: top;\n",
       "    }\n",
       "\n",
       "    .dataframe thead th {\n",
       "        text-align: right;\n",
       "    }\n",
       "</style>\n",
       "<table border=\"1\" class=\"dataframe\">\n",
       "  <thead>\n",
       "    <tr style=\"text-align: right;\">\n",
       "      <th></th>\n",
       "      <th>ai</th>\n",
       "      <th>android</th>\n",
       "      <th>art</th>\n",
       "      <th>browsers</th>\n",
       "      <th>c</th>\n",
       "      <th>clojure</th>\n",
       "      <th>compilers</th>\n",
       "      <th>crypto</th>\n",
       "      <th>cryptocurrencies</th>\n",
       "      <th>culture</th>\n",
       "      <th>...</th>\n",
       "      <th>programming</th>\n",
       "      <th>python</th>\n",
       "      <th>release</th>\n",
       "      <th>rust</th>\n",
       "      <th>scaling</th>\n",
       "      <th>security</th>\n",
       "      <th>show</th>\n",
       "      <th>video</th>\n",
       "      <th>visualization</th>\n",
       "      <th>web</th>\n",
       "    </tr>\n",
       "    <tr>\n",
       "      <th>short_id</th>\n",
       "      <th></th>\n",
       "      <th></th>\n",
       "      <th></th>\n",
       "      <th></th>\n",
       "      <th></th>\n",
       "      <th></th>\n",
       "      <th></th>\n",
       "      <th></th>\n",
       "      <th></th>\n",
       "      <th></th>\n",
       "      <th></th>\n",
       "      <th></th>\n",
       "      <th></th>\n",
       "      <th></th>\n",
       "      <th></th>\n",
       "      <th></th>\n",
       "      <th></th>\n",
       "      <th></th>\n",
       "      <th></th>\n",
       "      <th></th>\n",
       "      <th></th>\n",
       "    </tr>\n",
       "  </thead>\n",
       "  <tbody>\n",
       "    <tr>\n",
       "      <th>9fkwad</th>\n",
       "      <td>0</td>\n",
       "      <td>0</td>\n",
       "      <td>0</td>\n",
       "      <td>0</td>\n",
       "      <td>0</td>\n",
       "      <td>0</td>\n",
       "      <td>0</td>\n",
       "      <td>0</td>\n",
       "      <td>0</td>\n",
       "      <td>0</td>\n",
       "      <td>...</td>\n",
       "      <td>0</td>\n",
       "      <td>0</td>\n",
       "      <td>0</td>\n",
       "      <td>0</td>\n",
       "      <td>0</td>\n",
       "      <td>1</td>\n",
       "      <td>0</td>\n",
       "      <td>0</td>\n",
       "      <td>0</td>\n",
       "      <td>0</td>\n",
       "    </tr>\n",
       "    <tr>\n",
       "      <th>iwvkly</th>\n",
       "      <td>0</td>\n",
       "      <td>0</td>\n",
       "      <td>0</td>\n",
       "      <td>0</td>\n",
       "      <td>0</td>\n",
       "      <td>0</td>\n",
       "      <td>0</td>\n",
       "      <td>0</td>\n",
       "      <td>0</td>\n",
       "      <td>0</td>\n",
       "      <td>...</td>\n",
       "      <td>0</td>\n",
       "      <td>0</td>\n",
       "      <td>0</td>\n",
       "      <td>0</td>\n",
       "      <td>0</td>\n",
       "      <td>1</td>\n",
       "      <td>1</td>\n",
       "      <td>0</td>\n",
       "      <td>0</td>\n",
       "      <td>0</td>\n",
       "    </tr>\n",
       "    <tr>\n",
       "      <th>xjsf2r</th>\n",
       "      <td>0</td>\n",
       "      <td>0</td>\n",
       "      <td>0</td>\n",
       "      <td>1</td>\n",
       "      <td>0</td>\n",
       "      <td>0</td>\n",
       "      <td>0</td>\n",
       "      <td>0</td>\n",
       "      <td>0</td>\n",
       "      <td>0</td>\n",
       "      <td>...</td>\n",
       "      <td>0</td>\n",
       "      <td>0</td>\n",
       "      <td>0</td>\n",
       "      <td>0</td>\n",
       "      <td>0</td>\n",
       "      <td>0</td>\n",
       "      <td>0</td>\n",
       "      <td>0</td>\n",
       "      <td>0</td>\n",
       "      <td>1</td>\n",
       "    </tr>\n",
       "    <tr>\n",
       "      <th>js0ine</th>\n",
       "      <td>0</td>\n",
       "      <td>0</td>\n",
       "      <td>0</td>\n",
       "      <td>0</td>\n",
       "      <td>1</td>\n",
       "      <td>0</td>\n",
       "      <td>0</td>\n",
       "      <td>0</td>\n",
       "      <td>0</td>\n",
       "      <td>0</td>\n",
       "      <td>...</td>\n",
       "      <td>0</td>\n",
       "      <td>0</td>\n",
       "      <td>0</td>\n",
       "      <td>0</td>\n",
       "      <td>0</td>\n",
       "      <td>0</td>\n",
       "      <td>0</td>\n",
       "      <td>0</td>\n",
       "      <td>0</td>\n",
       "      <td>0</td>\n",
       "    </tr>\n",
       "    <tr>\n",
       "      <th>9ac8ha</th>\n",
       "      <td>0</td>\n",
       "      <td>0</td>\n",
       "      <td>0</td>\n",
       "      <td>0</td>\n",
       "      <td>0</td>\n",
       "      <td>0</td>\n",
       "      <td>0</td>\n",
       "      <td>0</td>\n",
       "      <td>0</td>\n",
       "      <td>0</td>\n",
       "      <td>...</td>\n",
       "      <td>0</td>\n",
       "      <td>0</td>\n",
       "      <td>0</td>\n",
       "      <td>0</td>\n",
       "      <td>0</td>\n",
       "      <td>0</td>\n",
       "      <td>0</td>\n",
       "      <td>0</td>\n",
       "      <td>0</td>\n",
       "      <td>0</td>\n",
       "    </tr>\n",
       "  </tbody>\n",
       "</table>\n",
       "<p>5 rows × 38 columns</p>\n",
       "</div>"
      ],
      "text/plain": [
       "          ai  android  art  browsers  c  clojure  compilers  crypto  \\\n",
       "short_id                                                              \n",
       "9fkwad     0        0    0         0  0        0          0       0   \n",
       "iwvkly     0        0    0         0  0        0          0       0   \n",
       "xjsf2r     0        0    0         1  0        0          0       0   \n",
       "js0ine     0        0    0         0  1        0          0       0   \n",
       "9ac8ha     0        0    0         0  0        0          0       0   \n",
       "\n",
       "          cryptocurrencies  culture ...   programming  python  release  rust  \\\n",
       "short_id                            ...                                        \n",
       "9fkwad                   0        0 ...             0       0        0     0   \n",
       "iwvkly                   0        0 ...             0       0        0     0   \n",
       "xjsf2r                   0        0 ...             0       0        0     0   \n",
       "js0ine                   0        0 ...             0       0        0     0   \n",
       "9ac8ha                   0        0 ...             0       0        0     0   \n",
       "\n",
       "          scaling  security  show  video  visualization  web  \n",
       "short_id                                                      \n",
       "9fkwad          0         1     0      0              0    0  \n",
       "iwvkly          0         1     1      0              0    0  \n",
       "xjsf2r          0         0     0      0              0    1  \n",
       "js0ine          0         0     0      0              0    0  \n",
       "9ac8ha          0         0     0      0              0    0  \n",
       "\n",
       "[5 rows x 38 columns]"
      ]
     },
     "execution_count": 219,
     "metadata": {},
     "output_type": "execute_result"
    }
   ],
   "source": [
    "# Merge multiple rows\n",
    "tag_df = tag_df.sum(level=0)\n",
    "tag_df.head()"
   ]
  },
  {
   "cell_type": "code",
   "execution_count": 220,
   "metadata": {},
   "outputs": [
    {
     "data": {
      "text/html": [
       "<div>\n",
       "<style scoped>\n",
       "    .dataframe tbody tr th:only-of-type {\n",
       "        vertical-align: middle;\n",
       "    }\n",
       "\n",
       "    .dataframe tbody tr th {\n",
       "        vertical-align: top;\n",
       "    }\n",
       "\n",
       "    .dataframe thead th {\n",
       "        text-align: right;\n",
       "    }\n",
       "</style>\n",
       "<table border=\"1\" class=\"dataframe\">\n",
       "  <thead>\n",
       "    <tr style=\"text-align: right;\">\n",
       "      <th></th>\n",
       "      <th>comment_count</th>\n",
       "      <th>comments_url</th>\n",
       "      <th>created_at</th>\n",
       "      <th>description</th>\n",
       "      <th>downvotes</th>\n",
       "      <th>score</th>\n",
       "      <th>short_id_url</th>\n",
       "      <th>title</th>\n",
       "      <th>upvotes</th>\n",
       "      <th>url</th>\n",
       "      <th>...</th>\n",
       "      <th>programming</th>\n",
       "      <th>python</th>\n",
       "      <th>release</th>\n",
       "      <th>rust</th>\n",
       "      <th>scaling</th>\n",
       "      <th>security</th>\n",
       "      <th>show</th>\n",
       "      <th>video</th>\n",
       "      <th>visualization</th>\n",
       "      <th>web</th>\n",
       "    </tr>\n",
       "    <tr>\n",
       "      <th>short_id</th>\n",
       "      <th></th>\n",
       "      <th></th>\n",
       "      <th></th>\n",
       "      <th></th>\n",
       "      <th></th>\n",
       "      <th></th>\n",
       "      <th></th>\n",
       "      <th></th>\n",
       "      <th></th>\n",
       "      <th></th>\n",
       "      <th></th>\n",
       "      <th></th>\n",
       "      <th></th>\n",
       "      <th></th>\n",
       "      <th></th>\n",
       "      <th></th>\n",
       "      <th></th>\n",
       "      <th></th>\n",
       "      <th></th>\n",
       "      <th></th>\n",
       "      <th></th>\n",
       "    </tr>\n",
       "  </thead>\n",
       "  <tbody>\n",
       "    <tr>\n",
       "      <th>9fkwad</th>\n",
       "      <td>2</td>\n",
       "      <td>https://lobste.rs/s/9fkwad/it_s_impossible_pro...</td>\n",
       "      <td>2018-04-28 20:52:33</td>\n",
       "      <td></td>\n",
       "      <td>0</td>\n",
       "      <td>12</td>\n",
       "      <td>https://lobste.rs/s/9fkwad</td>\n",
       "      <td>It’s Impossible to Prove Your Laptop Hasn’t Be...</td>\n",
       "      <td>12</td>\n",
       "      <td>https://theintercept.com/2018/04/28/computer-m...</td>\n",
       "      <td>...</td>\n",
       "      <td>0</td>\n",
       "      <td>0</td>\n",
       "      <td>0</td>\n",
       "      <td>0</td>\n",
       "      <td>0</td>\n",
       "      <td>1</td>\n",
       "      <td>0</td>\n",
       "      <td>0</td>\n",
       "      <td>0</td>\n",
       "      <td>0</td>\n",
       "    </tr>\n",
       "    <tr>\n",
       "      <th>iwvkly</th>\n",
       "      <td>0</td>\n",
       "      <td>https://lobste.rs/s/iwvkly/unfixed_google_inbo...</td>\n",
       "      <td>2018-04-28 07:03:40</td>\n",
       "      <td></td>\n",
       "      <td>0</td>\n",
       "      <td>33</td>\n",
       "      <td>https://lobste.rs/s/iwvkly</td>\n",
       "      <td>Unfixed Google Inbox recipient spoofing vulner...</td>\n",
       "      <td>33</td>\n",
       "      <td>https://eligrey.com/blog/google-inbox-spoofing...</td>\n",
       "      <td>...</td>\n",
       "      <td>0</td>\n",
       "      <td>0</td>\n",
       "      <td>0</td>\n",
       "      <td>0</td>\n",
       "      <td>0</td>\n",
       "      <td>1</td>\n",
       "      <td>1</td>\n",
       "      <td>0</td>\n",
       "      <td>0</td>\n",
       "      <td>0</td>\n",
       "    </tr>\n",
       "    <tr>\n",
       "      <th>xjsf2r</th>\n",
       "      <td>1</td>\n",
       "      <td>https://lobste.rs/s/xjsf2r/chrome_is_showing_t...</td>\n",
       "      <td>2018-04-29 02:13:21</td>\n",
       "      <td></td>\n",
       "      <td>0</td>\n",
       "      <td>6</td>\n",
       "      <td>https://lobste.rs/s/xjsf2r</td>\n",
       "      <td>Chrome is showing third party external links o...</td>\n",
       "      <td>6</td>\n",
       "      <td>https://twitter.com/backlon/status/99004255788...</td>\n",
       "      <td>...</td>\n",
       "      <td>0</td>\n",
       "      <td>0</td>\n",
       "      <td>0</td>\n",
       "      <td>0</td>\n",
       "      <td>0</td>\n",
       "      <td>0</td>\n",
       "      <td>0</td>\n",
       "      <td>0</td>\n",
       "      <td>0</td>\n",
       "      <td>1</td>\n",
       "    </tr>\n",
       "    <tr>\n",
       "      <th>js0ine</th>\n",
       "      <td>4</td>\n",
       "      <td>https://lobste.rs/s/js0ine/nethack_devteam_is_...</td>\n",
       "      <td>2018-04-28 14:34:02</td>\n",
       "      <td>&lt;p&gt;Interestingly, this will be the final relea...</td>\n",
       "      <td>0</td>\n",
       "      <td>13</td>\n",
       "      <td>https://lobste.rs/s/js0ine</td>\n",
       "      <td>The NetHack DevTeam is happy to announce the r...</td>\n",
       "      <td>13</td>\n",
       "      <td>https://groups.google.com/forum/#!topic/rec.ga...</td>\n",
       "      <td>...</td>\n",
       "      <td>0</td>\n",
       "      <td>0</td>\n",
       "      <td>0</td>\n",
       "      <td>0</td>\n",
       "      <td>0</td>\n",
       "      <td>0</td>\n",
       "      <td>0</td>\n",
       "      <td>0</td>\n",
       "      <td>0</td>\n",
       "      <td>0</td>\n",
       "    </tr>\n",
       "    <tr>\n",
       "      <th>9ac8ha</th>\n",
       "      <td>0</td>\n",
       "      <td>https://lobste.rs/s/9ac8ha/how_get_core_dump_f...</td>\n",
       "      <td>2018-04-28 22:35:08</td>\n",
       "      <td></td>\n",
       "      <td>0</td>\n",
       "      <td>7</td>\n",
       "      <td>https://lobste.rs/s/9ac8ha</td>\n",
       "      <td>How to get a core dump for a segfault on Linux</td>\n",
       "      <td>7</td>\n",
       "      <td>https://jvns.ca/blog/2018/04/28/debugging-a-se...</td>\n",
       "      <td>...</td>\n",
       "      <td>0</td>\n",
       "      <td>0</td>\n",
       "      <td>0</td>\n",
       "      <td>0</td>\n",
       "      <td>0</td>\n",
       "      <td>0</td>\n",
       "      <td>0</td>\n",
       "      <td>0</td>\n",
       "      <td>0</td>\n",
       "      <td>0</td>\n",
       "    </tr>\n",
       "  </tbody>\n",
       "</table>\n",
       "<p>5 rows × 57 columns</p>\n",
       "</div>"
      ],
      "text/plain": [
       "          comment_count                                       comments_url  \\\n",
       "short_id                                                                     \n",
       "9fkwad                2  https://lobste.rs/s/9fkwad/it_s_impossible_pro...   \n",
       "iwvkly                0  https://lobste.rs/s/iwvkly/unfixed_google_inbo...   \n",
       "xjsf2r                1  https://lobste.rs/s/xjsf2r/chrome_is_showing_t...   \n",
       "js0ine                4  https://lobste.rs/s/js0ine/nethack_devteam_is_...   \n",
       "9ac8ha                0  https://lobste.rs/s/9ac8ha/how_get_core_dump_f...   \n",
       "\n",
       "                  created_at  \\\n",
       "short_id                       \n",
       "9fkwad   2018-04-28 20:52:33   \n",
       "iwvkly   2018-04-28 07:03:40   \n",
       "xjsf2r   2018-04-29 02:13:21   \n",
       "js0ine   2018-04-28 14:34:02   \n",
       "9ac8ha   2018-04-28 22:35:08   \n",
       "\n",
       "                                                description  downvotes  score  \\\n",
       "short_id                                                                        \n",
       "9fkwad                                                               0     12   \n",
       "iwvkly                                                               0     33   \n",
       "xjsf2r                                                               0      6   \n",
       "js0ine    <p>Interestingly, this will be the final relea...          0     13   \n",
       "9ac8ha                                                               0      7   \n",
       "\n",
       "                        short_id_url  \\\n",
       "short_id                               \n",
       "9fkwad    https://lobste.rs/s/9fkwad   \n",
       "iwvkly    https://lobste.rs/s/iwvkly   \n",
       "xjsf2r    https://lobste.rs/s/xjsf2r   \n",
       "js0ine    https://lobste.rs/s/js0ine   \n",
       "9ac8ha    https://lobste.rs/s/9ac8ha   \n",
       "\n",
       "                                                      title  upvotes  \\\n",
       "short_id                                                               \n",
       "9fkwad    It’s Impossible to Prove Your Laptop Hasn’t Be...       12   \n",
       "iwvkly    Unfixed Google Inbox recipient spoofing vulner...       33   \n",
       "xjsf2r    Chrome is showing third party external links o...        6   \n",
       "js0ine    The NetHack DevTeam is happy to announce the r...       13   \n",
       "9ac8ha       How to get a core dump for a segfault on Linux        7   \n",
       "\n",
       "                                                        url ...  programming  \\\n",
       "short_id                                                    ...                \n",
       "9fkwad    https://theintercept.com/2018/04/28/computer-m... ...            0   \n",
       "iwvkly    https://eligrey.com/blog/google-inbox-spoofing... ...            0   \n",
       "xjsf2r    https://twitter.com/backlon/status/99004255788... ...            0   \n",
       "js0ine    https://groups.google.com/forum/#!topic/rec.ga... ...            0   \n",
       "9ac8ha    https://jvns.ca/blog/2018/04/28/debugging-a-se... ...            0   \n",
       "\n",
       "         python release rust  scaling  security  show video visualization  web  \n",
       "short_id                                                                        \n",
       "9fkwad        0       0    0        0         1     0     0             0    0  \n",
       "iwvkly        0       0    0        0         1     1     0             0    0  \n",
       "xjsf2r        0       0    0        0         0     0     0             0    1  \n",
       "js0ine        0       0    0        0         0     0     0             0    0  \n",
       "9ac8ha        0       0    0        0         0     0     0             0    0  \n",
       "\n",
       "[5 rows x 57 columns]"
      ]
     },
     "execution_count": 220,
     "metadata": {},
     "output_type": "execute_result"
    }
   ],
   "source": [
    "# And add back to the original dataframe\n",
    "stories = pd.concat([stories.drop('tags', axis=1), tag_df], axis=1)\n",
    "stories.head()"
   ]
  },
  {
   "cell_type": "markdown",
   "metadata": {},
   "source": [
    "## Further Reading\n",
    "\n",
    "The definitive Pandas book is the one by Wes McKinney, original author of Pandas. I also recommend Jake Vanderplas's book, and the one by Matt Harrison. The links below are affiliate links where I may earn a small commission:\n",
    "\n",
    "<div>\n",
    "<a target=\"_blank\"  style=\"float:left;margin:50px\" href=\"https://amzn.to/3Eydzy0\"><img border=\"0\" src=\"//ws-na.amazon-adsystem.com/widgets/q?_encoding=UTF8&MarketPlace=US&ASIN=1491957662&ServiceVersion=20070822&ID=AsinImage&WS=1&Format=_SL250_&tag=grahamwheel0b-20\" ></a><img src=\"//ir-na.amazon-adsystem.com/e/ir?t=grahamwheel0b-20&l=am2&o=1&a=1491957662\" width=\"1\" height=\"1\" border=\"0\" alt=\"\" style=\"border:none !important; margin:0px !important;\" />\n",
    "\n",
    "<a target=\"_blank\"  style=\"float:left;margin:50px\" href=\"https://amzn.to/31b59iv\"><img border=\"0\" src=\"//ws-na.amazon-adsystem.com/widgets/q?_encoding=UTF8&MarketPlace=US&ASIN=1491912057&ServiceVersion=20070822&ID=AsinImage&WS=1&Format=_SL250_&tag=grahamwheel0b-20\" ></a><img src=\"//ir-na.amazon-adsystem.com/e/ir?t=grahamwheel0b-20&l=am2&o=1&a=1491912057\" width=\"1\" height=\"1\" border=\"0\" alt=\"\" style=\"border:none !important; margin:0px !important;\" />\n",
    "\n",
    "<a target=\"_blank\" style=\"float:left;margin:50px\"  href=\"https://amzn.to/3ECiHRx\"><img border=\"0\" src=\"//ws-na.amazon-adsystem.com/widgets/q?_encoding=UTF8&MarketPlace=US&ASIN=B01GIE03GW&ServiceVersion=20070822&ID=AsinImage&WS=1&Format=_SL250_&tag=grahamwheel0b-20\" ></a><img src=\"//ir-na.amazon-adsystem.com/e/ir?t=grahamwheel0b-20&l=am2&o=1&a=B01GIE03GW\" width=\"1\" height=\"1\" border=\"0\" alt=\"\" style=\"border:none !important; margin:0px !important;\" />\n",
    "\n",
    "<a target=\"_blank\" style=\"float:left;margin:50px\"  href=\"https://amzn.to/3qGTEYW\"><img border=\"0\" src=\"//ws-na.amazon-adsystem.com/widgets/q?_encoding=UTF8&MarketPlace=US&ASIN=1491952962&ServiceVersion=20070822&ID=AsinImage&WS=1&Format=_SL250_&tag=grahamwheel0b-20\" ></a><img src=\"//ir-na.amazon-adsystem.com/e/ir?t=grahamwheel0b-20&l=ur2&o=1&camp=1789\" width=\"1\" height=\"1\" border=\"0\" alt=\"\" style=\"border:none !important; margin:0px !important;\" />\n",
    "</div>"
   ]
  },
  {
   "cell_type": "code",
   "execution_count": null,
   "metadata": {},
   "outputs": [],
   "source": []
  }
 ],
 "metadata": {
  "kernelspec": {
   "display_name": "Python 3 (ipykernel)",
   "language": "python",
   "name": "python3"
  },
  "language_info": {
   "codemirror_mode": {
    "name": "ipython",
    "version": 3
   },
   "file_extension": ".py",
   "mimetype": "text/x-python",
   "name": "python",
   "nbconvert_exporter": "python",
   "pygments_lexer": "ipython3",
   "version": "3.10.1"
  },
  "toc": {
   "base_numbering": 1,
   "nav_menu": {},
   "number_sections": true,
   "sideBar": true,
   "skip_h1_title": false,
   "title_cell": "Table of Contents",
   "title_sidebar": "Contents",
   "toc_cell": false,
   "toc_position": {},
   "toc_section_display": true,
   "toc_window_display": false
  }
 },
 "nbformat": 4,
 "nbformat_minor": 2
}
