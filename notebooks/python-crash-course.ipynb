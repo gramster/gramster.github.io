{
 "cells": [
  {
   "cell_type": "markdown",
   "metadata": {},
   "source": [
    "# A Python Crash Course\n",
    "\n",
    "date: 2018-04-12T20:10:00\n",
    "updated: 2018-05-05\n",
    "author: Graham Wheeler\n",
    "category: Programming\n",
    "comments: enabled\n",
    "tags: Python, Programming\n",
    "\n",
    "<!--eofm-->"
   ]
  },
  {
   "cell_type": "markdown",
   "metadata": {},
   "source": [
    "I've been teaching [a crash course in data science with Python](https://github.com/gramster/pythonbootcamp), which starts off with learning Python itself. The target audience is Java programmers (generally senior level) so its assumed that things like classes and methods are well understood. The focus is mostly on what is different with Python. I teach it using Jupyter notebooks but the content is useful as a blog post too so here we go.\n",
    "\n",
    "The other parts are:\n",
    "\n",
    "- *[using Jupyter](/post/using-jupyter/)*\n",
    "- *[exploratory data analysis](/post/exploratory-data-analysis-with-numpy-and-pandas/).*\n",
    "- *[introductory machine learning](/post/basic-machine-learning/).*"
   ]
  },
  {
   "cell_type": "markdown",
   "metadata": {},
   "source": [
    "## Introduction\n",
    "\n",
    "### Python's Origins\n",
    "\n",
    "Python was conceived in the late 1980s, and its implementation began in December 1989 by Guido van Rossum at Centrum Wiskunde & Informatica (CWI) in the Netherlands as a successor to the ABC language. It takes its name from Monty Python's Flying Circus.\n",
    "\n",
    "Python is a dynamic language but is strongly typed (i.e. variables are untyped but refer to objects of fixed type).\n",
    "<!-- TEASER_END -->\n",
    "\n",
    "> ### How Python Evolves\n",
    "> \n",
    "> Python evolves in a fairly straightforward way, more-or-less like this:\n",
    "> \n",
    "> - people propose changes by writing *Python Enhancement Proposals* ([PEPs](https://www.python.org/dev/peps/))\n",
    "> - the Python core committee will assign a 'dictator' who will decide whether the PEP is worthy of becoming part of the standard, and if so it does, after some amount of discussion and revision\n",
    "> - disagreements are finally settled by the Python Steering Council, a 5-person elected body of volunteers that at the time of writing includes Guido van Rossum, Python's inventor and the 'Benevolent Dictator for Life' (BDFL)\n",
    "> \n",
    "> An important standard PEP is the Style Guide, [PEP-8](https://www.python.org/dev/peps/pep-0008/). By default, PyCharm will warn of any PEP-8 violations. There are external tools such as [flake8](https://gitlab.com/pycqa/flake8) that can be used to check code for compliance in other environments, or you can use a code formatter like [Black](https://github.com/ambv/black). "
   ]
  },
  {
   "cell_type": "markdown",
   "metadata": {},
   "source": [
    "### StackOverflow is your friend!\n",
    "\n",
    "For Python questions and Python data science questions, make use of [StackOverflow](https://stackoverflow.com/questions/tagged/python). Pay attention to comments on suggested answers; the \"accepted answer\" is often not the best. Look for comments about whether it is the \"most Pythonic\". Python has an idiomatic style different to many other languages and so a novice coming from another language will often accept an answer that is closer to idiomatic in that other language rather than Python.\n",
    "\n",
    "Also, if you're struggling to understand some code in your early days with Python, you may find this '[execution visualizer](http://pythontutor.com/)' helpful.\n",
    "\n",
    "\n",
    "### \"Batteries Included\"\n",
    "\n",
    "Python is often described as having \"batteries included\". This is a reference to the rich set of libraries (packages)included in the standard distribution as well as the vast collection of freely available packages that can be used to bootstrap your development. Or, as Randall Munroe puts it:\n",
    "\n",
    "![](https://imgs.xkcd.com/comics/python.png)\n",
    "\n",
    "There are many thousands of Python packages available, often giving you many choices for similar purposes. One way to find quality packages is to look the curated lists at https://python.libhunt.com/ and https://awesome-python.com/\n",
    "\n",
    "### What Editor/IDE Should I Use?\n",
    "\n",
    "Python is increasingly popular as a first programming language. It is very easy to pick up the basics, but is still a rich and powerful language that can serve expert programmers too. This post assumed you are familiar with some other OOP language so its not a great place to start if you're a real beginner. I suggest going to [PythonTutor](http://pythontutor.com/) which is a web-based environment that has lots of examples, great support tools, and links to a number of online course and other resources. From this point on I assume you are a proficient software developer but new(ish) to Python.\n",
    "\n",
    "Many IDEs and editors have support for Python usually through plugins. If you are already using an editor or IDE for some other language and it supports Python too, that's probably the best option. Examples are Atom, Visual Studio Code, Visual Studio, Atom, Sublime Text, and PyCharm. My personal go-to these days is Visual Studio Code, but you should use whatever works for you.\n",
    "\n",
    "### Python 2.7 or Python 3.x?\n",
    "\n",
    "Easy: all new projects should be Python 3.6 or later. Python 2.7 is the end of the 2.x line and will be end-of-lifed on Jan 1, 2020. Unless you really need it for some legacy code, forget about Python 2.\n",
    "\n",
    "### Installing Python\n",
    "\n",
    "If you're going to be doing data science, my recommendation used to be to use the [Anaconda distribution of Python](https://www.anaconda.com/download/#macos). It comes with most of the packages you will need ready to use. If you don't need all of those extras you could install the [stripped-down \"Miniconda\" version](https://conda.io/miniconda.html). I suggest that you install for yourself only, which on Mac or Linux will put the installation in a subdirectory of your home directory. You can read more about installing Anaconda [here](https://conda.io/docs/user-guide/install/index.html).\n",
    "\n",
    "However, these days you can install pre-compiled binaries through the standard `pip` package installer, and there is very little need for Anaconda anymore; Anaconda also has a very brittle environment activation system that seems to keep changing and so doesn't always place nice when you're trying to run and debug code directly from your editor. I no longer believe it is the best choice. The advantages have largely disappeared while the disadvantages have grown.\n",
    "\n",
    "Note that Macs come with Python already installed. As of Catalina they come with Python 3. It used to be that to didn't want to mess with the system-supplied Python on Macs in case you ended up breaking something. I don't know if this is still an issue, but to be safe consider instead installing Python using [Homebrew](https://brew.sh/).\n",
    "\n",
    "On Windows you can now just type \"python\" in a command shell window and you will be taken to the Windows Store from where you can install Python. \n",
    "\n",
    "On Linux, you can use your system package manager to install Python if it isn't already present.\n",
    "\n",
    "If you prefer to get Python from the source, then on a Mac or Windows you should download and install from [here](https://www.python.org/downloads/). On Linux, follow the instructions [here](http://docs.python-guide.org/en/latest/starting/install3/linux/).\n",
    "\n",
    "You may need to update your path to point to the right location. On Windows/Linux this likely isn't an issue, but if you installed Python on mac from Homebrew, you'll want to make sure that gets picked up earlier in your path than the system one. That might mean adding:\n",
    "\n",
    "    export PATH=/usr/local/bin:$PATH\n",
    "    \n",
    "to your ~/.zshrc file (assuming Catalina and so using zsh as your shell).\n",
    "\n",
    "## Python docs\n",
    "\n",
    "https://docs.python.org/3/ has very detailed documentation.\n",
    "\n",
    "Most Python packages have good documentation at https://readthedocs.org/\n",
    "\n",
    "If you use Python a lot on a Mac you may find [Dash](https://kapeli.com/dash) useful; it is a utility that gives you fast access to context-sensitive help for many libraries.\n",
    "\n",
    "That said, Python has a help() function that is very useful.\n",
    "\n",
    "The [Hitchhiker's Guide](http://docs.python-guide.org/en/latest/) is a very useful, extremely comprehensive opinionated guide that will be helpful to beginners.\n"
   ]
  },
  {
   "cell_type": "markdown",
   "metadata": {},
   "source": [
    "## Using the REPL\n",
    "\n",
    "To start the REPL (read-execute-print loop, or interactive interpreter), just type `python` at the command line.\n",
    "\n",
    "Use the `help()` function to read the documentation for a module/class/function. As a standalone invocation, you enter the help system and can explore various topics.\n",
    "\n",
    "Python scripts are stored in plain text files with `.py` extensions. You can run the script `foo.py` at the command line by invoking:\n",
    "\n",
    "    python foo.py\n",
    "    \n",
    "When you do so the Python interpreter will compile the script to an intermediate bytecode, and the result will be stored in a file with the same base name and a `.pyc` extension. As an optimization, the interpreter will look to see if a `.pyc` file with a more recent file modification date exists when you invoke it to run a script and use that if it does. In Python 2.x these files were saved alongside the Python source files but in Python 3.x they are stored in a subdirectory named `__pycache__`.\n",
    "\n",
    "> ### A better REPL: bpython\n",
    "> \n",
    "> [bpython](https://www.bpython-interpreter.org/) is an alternative REPL that adds a number of useful features at the command line, like syntax highlighting and auto-completion. \n",
    "> \n",
    "> You can install with `pip install bpython`.\n",
    "> \n",
    "> If you're going to use the command line repl I recommend it, although there are other options too that I haven't tried:\n",
    "> \n",
    "> - ptpython https://github.com/jonathanslenders/ptpython\n",
    "> - DreamPie http://dreampie.sourceforge.net/\n",
    "> \n",
    "> Yet another alternative to the REPL, of course, is Jupyter.\n",
    "> \n",
    "> For the hard-core Pythonista, you can replace your entire shell with one based on Python; see http://xon.sh/."
   ]
  },
  {
   "cell_type": "markdown",
   "metadata": {},
   "source": [
    "## Quickstart - A Simple Example\n",
    "\n",
    "Before diving into the details, let's look at a simple Python script to get a quick taste of what's to come. We're not going to go into details here but have annotated the code with some comments and if you are familiar with other object-oriented languages this should be quite easy to understand. Some things that may be unusual to you:\n",
    "\n",
    "- No braces; in Python whitespace is significant. This can take some getting used to if you come from a C-family language but isn't as bad as it seems once you do.\n",
    "- Instance methods require an explicit \"this\" argument which in Python by convention is called `self` . Because it is explicit you could call it something else, but just don't :-).\n",
    "- Static methods have a `@staticmethod` decorator.\n",
    "- The class constructor - of which there can only be one - is called `__init__`.\n",
    "- Docstrings are specified using actual string literals inline rather than in comments.\n",
    "- The method to convert to string is named `__str__` not `toString`.\n",
    "- String formatting is done using embedded code in {} and preceding the string with 'f' (this is new to Python 3.6); e.g. `print(f'Hello, {name}!')`."
   ]
  },
  {
   "cell_type": "code",
   "execution_count": 1,
   "metadata": {},
   "outputs": [
    {
     "data": {
      "image/svg+xml": [
       "<svg height=\"500\" id=\"doc\" version=\"1.1\" width=\"500\" xmlns=\"http://www.w3.org/2000/svg\"><path d=\"M0,0 M20,30 l7,7 l-7,7 l7,7 l7,-7 l7,7 l-7,7 l-7,-7 l-7,7 l7,7 l-7,7 l7,7 l7,-7 l7,7 l7,-7 l-7,-7 l7,-7 l7,7 l-7,7 l7,7 l7,-7 l7,7 l-7,7 l-7,-7 l-7,7 l7,7 l-7,7 l-7,-7 l7,-7 l-7,-7 l-7,7 l-7,-7 l-7,7 l7,7 l-7,7 l7,7 l7,-7 l7,7 l-7,7 l-7,-7 l-7,7 l7,7 l-7,7 l7,7 l7,-7 l7,7 l7,-7 l-7,-7 l7,-7 l7,7 l-7,7 l7,7 l7,-7 l7,7 l7,-7 l-7,-7 l7,-7 l-7,-7 l-7,7 l-7,-7 l7,-7 l7,7 l7,-7 l-7,-7 l7,-7 l7,7 l-7,7 l7,7 l7,-7 l7,7 l-7,7 l-7,-7 l-7,7 l7,7 l-7,7 l7,7 l7,-7 l7,7 l7,-7 l-7,-7 l7,-7 l7,7 l-7,7 l7,7 l7,-7 l7,7 l-7,7 l-7,-7 l-7,7 l7,7 l-7,7 l-7,-7 l7,-7 l-7,-7 l-7,7 l-7,-7 l-7,7 l7,7 l-7,7 l7,7 l7,-7 l7,7 l-7,7 l-7,-7 l-7,7 l7,7 l-7,7 l-7,-7 l7,-7 l-7,-7 l-7,7 l-7,-7 l7,-7 l7,7 l7,-7 l-7,-7 l7,-7 l-7,-7 l-7,7 l-7,-7 l-7,7 l7,7 l-7,7 l-7,-7 l7,-7 l-7,-7 l-7,7 l-7,-7 l-7,7 l7,7 l-7,7 l7,7 l7,-7 l7,7 l-7,7 l-7,-7 l-7,7 l7,7 l-7,7 l7,7 l7,-7 l7,7 l7,-7 l-7,-7 l7,-7 l7,7 l-7,7 l7,7 l7,-7 l7,7 l-7,7 l-7,-7 l-7,7 l7,7 l-7,7 l-7,-7 l7,-7 l-7,-7 l-7,7 l-7,-7 l-7,7 l7,7 l-7,7 l7,7 l7,-7 l7,7 l-7,7 l-7,-7 l-7,7 l7,7 l-7,7 l7,7 l7,-7 l7,7 l7,-7 l-7,-7 l7,-7 l7,7 l-7,7 l7,7 l7,-7 l7,7 l7,-7 l-7,-7 l7,-7 l-7,-7 l-7,7 l-7,-7 l7,-7 l7,7 l7,-7 l-7,-7 l7,-7 l7,7 l-7,7 l7,7 l7,-7 l7,7 l-7,7 l-7,-7 l-7,7 l7,7 l-7,7 l7,7 l7,-7 l7,7 l7,-7 l-7,-7 l7,-7 l7,7 l-7,7 l7,7 l7,-7 l7,7 l7,-7 l-7,-7 l7,-7 l-7,-7 l-7,7 l-7,-7 l7,-7 l7,7 l7,-7 l-7,-7 l7,-7 l-7,-7 l-7,7 l-7,-7 l-7,7 l7,7 l-7,7 l-7,-7 l7,-7 l-7,-7 l-7,7 l-7,-7 l7,-7 l7,7 l7,-7 l-7,-7 l7,-7 l7,7 l-7,7 l7,7 l7,-7 l7,7 l7,-7 l-7,-7 l7,-7 l-7,-7 l-7,7 l-7,-7 l7,-7 l7,7 l7,-7 l-7,-7 l7,-7 l7,7 l-7,7 l7,7 l7,-7 l7,7 l-7,7 l-7,-7 l-7,7 l7,7 l-7,7 l7,7 l7,-7 l7,7 l7,-7 l-7,-7 l7,-7 l7,7 l-7,7 l7,7 l7,-7 l7,7 l-7,7 l-7,-7 l-7,7 l7,7 l-7,7 l-7,-7 l7,-7 l-7,-7 l-7,7 l-7,-7 l-7,7 l7,7 l-7,7 l7,7 l7,-7 l7,7 l-7,7 l-7,-7 l-7,7 l7,7 l-7,7 l7,7 l7,-7 l7,7 l7,-7 l-7,-7 l7,-7 l7,7 l-7,7 l7,7 l7,-7 l7,7 l7,-7 l-7,-7 l7,-7 l-7,-7 l-7,7 l-7,-7 l7,-7 l7,7 l7,-7 l-7,-7 l7,-7 l7,7 l-7,7 l7,7 l7,-7 l7,7 l-7,7 l-7,-7 l-7,7 l7,7 l-7,7 l7,7 l7,-7 l7,7 l7,-7 l-7,-7 l7,-7 l7,7 l-7,7 l7,7 l7,-7 l7,7 l-7,7 l-7,-7 l-7,7 l7,7 l-7,7 l-7,-7 l7,-7 l-7,-7 l-7,7 l-7,-7 l-7,7 l7,7 l-7,7 l7,7 l7,-7 l7,7 l-7,7 l-7,-7 l-7,7 l7,7 l-7,7 l-7,-7 l7,-7 l-7,-7 l-7,7 l-7,-7 l7,-7 l7,7 l7,-7 l-7,-7 l7,-7 l-7,-7 l-7,7 l-7,-7 l-7,7 l7,7 l-7,7 l-7,-7 l7,-7 l-7,-7 l-7,7 l-7,-7 l-7,7 l7,7 l-7,7 l7,7 l7,-7 l7,7 l-7,7 l-7,-7 l-7,7 l7,7 l-7,7 l7,7 l7,-7 l7,7 l7,-7 l-7,-7 l7,-7 l7,7 l-7,7 l7,7 l7,-7 l7,7 l-7,7 l-7,-7 l-7,7 l7,7 l-7,7 l-7,-7 l7,-7 l-7,-7 l-7,7 l-7,-7 l-7,7 l7,7 l-7,7 l7,7 l7,-7 l7,7 l-7,7 l-7,-7 l-7,7 l7,7 l-7,7 l-7,-7 l7,-7 l-7,-7 l-7,7 l-7,-7 l7,-7 l7,7 l7,-7 l-7,-7 l7,-7 l-7,-7 l-7,7 l-7,-7 l-7,7 l7,7 l-7,7 l-7,-7 l7,-7 l-7,-7 l-7,7 l-7,-7 l7,-7 l7,7 l7,-7 l-7,-7 l7,-7 l7,7 l-7,7 l7,7 l7,-7 l7,7 l7,-7 l-7,-7 l7,-7 l-7,-7 l-7,7 l-7,-7 l7,-7 l7,7 l7,-7 l-7,-7 l7,-7 l-7,-7 l-7,7 l-7,-7 l-7,7 l7,7 l-7,7 l-7,-7 l7,-7 l-7,-7 l-7,7 l-7,-7 l-7,7 l7,7 l-7,7 l7,7 l7,-7 l7,7 l-7,7 l-7,-7 l-7,7 l7,7 l-7,7 l-7,-7 l7,-7 l-7,-7 l-7,7 l-7,-7 l7,-7 l7,7 l7,-7 l-7,-7 l7,-7 l-7,-7 l-7,7 l-7,-7 l-7,7 l7,7 l-7,7 l-7,-7 l7,-7 l-7,-7 l-7,7 l-7,-7 l-7,7 l7,7 l-7,7 l7,7 l7,-7 l7,7 l-7,7 l-7,-7 l-7,7 l7,7 l-7,7 l7,7 l7,-7 l7,7 l7,-7 l-7,-7 l7,-7 l7,7 l-7,7 l7,7 l7,-7 l7,7 l-7,7 l-7,-7 l-7,7 l7,7 l-7,7 l-7,-7 l7,-7 l-7,-7 l-7,7 l-7,-7 l-7,7 l7,7 l-7,7 l7,7 l7,-7 l7,7 l-7,7 l-7,-7 l-7,7 l7,7 l-7,7 l7,7 l7,-7 l7,7 l7,-7 l-7,-7 l7,-7 l7,7 l-7,7 l7,7 l7,-7 l7,7 l7,-7 l-7,-7 l7,-7 l-7,-7 l-7,7 l-7,-7 l7,-7 l7,7 l7,-7 l-7,-7 l7,-7 l7,7 l-7,7 l7,7 l7,-7 l7,7 l-7,7 l-7,-7 l-7,7 l7,7 l-7,7 l7,7 l7,-7 l7,7 l7,-7 l-7,-7 l7,-7 l7,7 l-7,7 l7,7 l7,-7 l7,7 l-7,7 l-7,-7 l-7,7 l7,7 l-7,7 l-7,-7 l7,-7 l-7,-7 l-7,7 l-7,-7 l-7,7 l7,7 l-7,7 l7,7 l7,-7 l7,7 l-7,7 l-7,-7 l-7,7 l7,7 l-7,7 l-7,-7 l7,-7 l-7,-7 l-7,7 l-7,-7 l7,-7 l7,7 l7,-7 l-7,-7 l7,-7 l-7,-7 l-7,7 l-7,-7 l-7,7 l7,7 l-7,7 l-7,-7 l7,-7 l-7,-7 l-7,7 l-7,-7 l-7,7 l7,7 l-7,7 l7,7 l7,-7 l7,7 l-7,7 l-7,-7 l-7,7 l7,7 l-7,7 l7,7 l7,-7 l7,7 l7,-7 l-7,-7 l7,-7 l7,7 l-7,7 l7,7 l7,-7 l7,7 l-7,7 l-7,-7 l-7,7 l7,7 l-7,7 l-7,-7 l7,-7 l-7,-7 l-7,7 l-7,-7 l-7,7 l7,7 l-7,7 l7,7 l7,-7 l7,7 l-7,7 l-7,-7 l-7,7 l7,7 l-7,7 l7,7 l7,-7 l7,7 l7,-7 l-7,-7 l7,-7 l7,7 l-7,7 l7,7 l7,-7 l7,7 l7,-7 l-7,-7 l7,-7 l-7,-7 l-7,7 l-7,-7 l7,-7 l7,7 l7,-7 l-7,-7 l7,-7 l7,7 l-7,7 l7,7 l7,-7 l7,7 l-7,7 l-7,-7 l-7,7 l7,7 l-7,7 l7,7 l7,-7 l7,7 l7,-7 l-7,-7 l7,-7 l7,7 l-7,7 l7,7 l7,-7 l7,7 l7,-7 l-7,-7 l7,-7 l-7,-7 l-7,7 l-7,-7 l7,-7 l7,7 l7,-7 l-7,-7 l7,-7 l-7,-7 l-7,7 l-7,-7 l-7,7 l7,7 l-7,7 l-7,-7 l7,-7 l-7,-7 l-7,7 l-7,-7 l7,-7 l7,7 l7,-7 l-7,-7 l7,-7 l7,7 l-7,7 l7,7 l7,-7 l7,7 l7,-7 l-7,-7 l7,-7 l-7,-7 l-7,7 l-7,-7 l7,-7 l7,7 l7,-7 l-7,-7 l7,-7 l7,7 l-7,7 l7,7 l7,-7 l7,7 l-7,7 l-7,-7 l-7,7 l7,7 l-7,7 l7,7 l7,-7 l7,7 l7,-7 l-7,-7 l7,-7 l7,7 l-7,7 l7,7 l7,-7 l7,7 l-7,7 l-7,-7 l-7,7 l7,7 l-7,7 l-7,-7 l7,-7 l-7,-7 l-7,7 l-7,-7 l-7,7 l7,7 l-7,7 l7,7 l7,-7 l7,7 l-7,7 l-7,-7 l-7,7 l7,7 l-7,7 l7,7 l7,-7 l7,7 l7,-7 l-7,-7 l7,-7 l7,7 l-7,7 l7,7 l7,-7 l7,7 l7,-7 l-7,-7 l7,-7 l-7,-7 l-7,7 l-7,-7 l7,-7 l7,7 l7,-7 l-7,-7 l7,-7 l7,7 l-7,7 l7,7 l7,-7 l7,7 l-7,7 l-7,-7 l-7,7 l7,7 l-7,7 l7,7 l7,-7 l7,7 l7,-7 l-7,-7 l7,-7 l7,7 l-7,7 l7,7 l7,-7 l7,7 l7,-7 l-7,-7 l7,-7 l-7,-7 l-7,7 l-7,-7 l7,-7 l7,7 l7,-7 l-7,-7 l7,-7 l-7,-7 l-7,7 l-7,-7 l-7,7 l7,7 l-7,7 l-7,-7 l7,-7 l-7,-7 l-7,7 l-7,-7 l7,-7 l7,7 l7,-7 l-7,-7 l7,-7 l7,7 l-7,7 l7,7 l7,-7 l7,7 l7,-7 l-7,-7 l7,-7 l-7,-7 l-7,7 l-7,-7 l7,-7 l7,7 l7,-7 l-7,-7 l7,-7 l-7,-7 l-7,7 l-7,-7 l-7,7 l7,7 l-7,7 l-7,-7 l7,-7 l-7,-7 l-7,7 l-7,-7 l-7,7 l7,7 l-7,7 l7,7 l7,-7 l7,7 l-7,7 l-7,-7 l-7,7 l7,7 l-7,7 l-7,-7 l7,-7 l-7,-7 l-7,7 l-7,-7 l7,-7 l7,7 l7,-7 l-7,-7 l7,-7 l-7,-7 l-7,7 l-7,-7 l-7,7 l7,7 l-7,7 l-7,-7 l7,-7 l-7,-7 l-7,7 l-7,-7 l7,-7 l7,7 l7,-7 l-7,-7 l7,-7 l7,7 l-7,7 l7,7 l7,-7 l7,7 l7,-7 l-7,-7 l7,-7 l-7,-7 l-7,7 l-7,-7 l7,-7 l7,7 l7,-7 l-7,-7 l7,-7 l7,7 l-7,7 l7,7 l7,-7 l7,7 l-7,7 l-7,-7 l-7,7 l7,7 l-7,7 l7,7 l7,-7 l7,7 l7,-7 l-7,-7 l7,-7 l7,7 l-7,7 l7,7 l7,-7 l7,7 l7,-7 l-7,-7 l7,-7 l-7,-7 l-7,7 l-7,-7 l7,-7 l7,7 l7,-7 l-7,-7 l7,-7 l-7,-7 l-7,7 l-7,-7 l-7,7 l7,7 l-7,7 l-7,-7 l7,-7 l-7,-7 l-7,7 l-7,-7 l7,-7 l7,7 l7,-7 l-7,-7 l7,-7 l7,7 l-7,7 l7,7 l7,-7 l7,7 l7,-7 l-7,-7 l7,-7 l-7,-7 l-7,7 l-7,-7 l7,-7 l7,7 l7,-7 l-7,-7 l7,-7 l7,7 l-7,7 l7,7 l7,-7 l7,7 l-7,7 l-7,-7 l-7,7 l7,7 l-7,7 l7,7 l7,-7 l7,7 l7,-7 l-7,-7 l7,-7 l7,7 l-7,7 l7,7 l7,-7 l7,7 l-7,7 l-7,-7 l-7,7 l7,7 l-7,7 l-7,-7 l7,-7 l-7,-7 l-7,7 l-7,-7 l-7,7 l7,7 l-7,7 l7,7 l7,-7 l7,7 l-7,7 l-7,-7 l-7,7 l7,7 l-7,7 l7,7 l7,-7 l7,7 l7,-7 l-7,-7 l7,-7 l7,7 l-7,7 l7,7 l7,-7 l7,7 l7,-7 l-7,-7 l7,-7 l-7,-7 l-7,7 l-7,-7 l7,-7 l7,7 l7,-7 l-7,-7 l7,-7 l7,7 l-7,7 l7,7 l7,-7 l7,7 l-7,7 l-7,-7 l-7,7 l7,7 l-7,7 l7,7 l7,-7 l7,7 l7,-7 l-7,-7 l7,-7 l7,7 l-7,7 l7,7 l7,-7 l7,7 l-7,7 l-7,-7 l-7,7 l7,7 l-7,7 l-7,-7 l7,-7 l-7,-7 l-7,7 l-7,-7 l-7,7 l7,7 l-7,7 l7,7 l7,-7 l7,7 l-7,7 l-7,-7 l-7,7 l7,7 l-7,7 l-7,-7 l7,-7 l-7,-7 l-7,7 l-7,-7 l7,-7 l7,7 l7,-7 l-7,-7 l7,-7 l-7,-7 l-7,7 l-7,-7 l-7,7 l7,7 l-7,7 l-7,-7 l7,-7 l-7,-7 l-7,7 l-7,-7 l-7,7 l7,7 l-7,7 l7,7 l7,-7 l7,7 l-7,7 l-7,-7 l-7,7 l7,7 l-7,7 l7,7 l7,-7 l7,7 l7,-7 l-7,-7 l7,-7 l7,7 l-7,7 l7,7 l7,-7 l7,7 l-7,7 l-7,-7 l-7,7 l7,7 l-7,7 l-7,-7 l7,-7 l-7,-7 l-7,7 l-7,-7 l-7,7 l7,7 l-7,7 l7,7 l7,-7 l7,7 l-7,7 l-7,-7 l-7,7 l7,7 l-7,7 l7,7 l7,-7 l7,7 l7,-7 l-7,-7 l7,-7 l7,7 l-7,7 l7,7 l7,-7 l7,7 l7,-7 l-7,-7 l7,-7 l-7,-7 l-7,7 l-7,-7 l7,-7 l7,7 l7,-7 l-7,-7 l7,-7 l7,7 l-7,7 l7,7 l7,-7 l7,7 l-7,7 l-7,-7 l-7,7 l7,7 l-7,7 l7,7 l7,-7 l7,7 l7,-7 l-7,-7 l7,-7 l7,7 l-7,7 l7,7 l7,-7 l7,7 l7,-7 l-7,-7 l7,-7 l-7,-7 l-7,7 l-7,-7 l7,-7 l7,7 l7,-7 l-7,-7 l7,-7 l-7,-7 l-7,7 l-7,-7 l-7,7 l7,7 l-7,7 l-7,-7 l7,-7 l-7,-7 l-7,7 l-7,-7 l7,-7 l7,7 l7,-7 l-7,-7 l7,-7 l7,7 l-7,7 l7,7 l7,-7 l7,7 l7,-7 l-7,-7 l7,-7 l-7,-7 l-7,7 l-7,-7 l7,-7 l7,7 l7,-7 l-7,-7 l7,-7 l7,7 l-7,7 l7,7 l7,-7 l7,7 l-7,7 l-7,-7 l-7,7 l7,7 l-7,7 l7,7 l7,-7 l7,7 l7,-7 l-7,-7 l7,-7 l7,7 l-7,7 l7,7 l7,-7 l7,7 l-7,7 l-7,-7 l-7,7 l7,7 l-7,7 l-7,-7 l7,-7 l-7,-7 l-7,7 l-7,-7 l-7,7 l7,7 l-7,7 l7,7 l7,-7 l7,7 l-7,7 l-7,-7 l-7,7 l7,7 l-7,7 l7,7 l7,-7 l7,7 l7,-7 l-7,-7 l7,-7 l7,7 l-7,7 l7,7 l7,-7 l7,7 l7,-7 l-7,-7 l7,-7 l-7,-7 l-7,7 l-7,-7 l7,-7 l7,7 l7,-7 l-7,-7 l7,-7 l7,7 l-7,7 l7,7 l7,-7 l7,7 l-7,7 l-7,-7 l-7,7 l7,7 l-7,7 l7,7 l7,-7 l7,7 l7,-7 l-7,-7 l7,-7 l7,7 l-7,7 l7,7 l7,-7 l7,7 l7,-7 l-7,-7 l7,-7 l-7,-7 l-7,7 l-7,-7 l7,-7 l7,7 l7,-7 l-7,-7 l7,-7 l-7,-7 l-7,7 l-7,-7 l-7,7 l7,7 l-7,7 l-7,-7 l7,-7 l-7,-7 l-7,7 l-7,-7 l7,-7 l7,7 l7,-7 l-7,-7 l7,-7 l7,7 l-7,7 l7,7 l7,-7 l7,7 l7,-7 l-7,-7 l7,-7 l-7,-7 l-7,7 l-7,-7 l7,-7 l7,7 l7,-7 l-7,-7 l7,-7 l-7,-7 l-7,7 l-7,-7 l-7,7 l7,7 l-7,7 l-7,-7 l7,-7 l-7,-7 l-7,7 l-7,-7 l-7,7 l7,7 l-7,7 l7,7 l7,-7 l7,7 l-7,7 l-7,-7 l-7,7 l7,7 l-7,7 l-7,-7 l7,-7 l-7,-7 l-7,7 l-7,-7 l7,-7 l7,7 l7,-7 l-7,-7 l7,-7 l-7,-7 l-7,7 l-7,-7 l-7,7 l7,7 l-7,7 l-7,-7 l7,-7 l-7,-7 l-7,7 l-7,-7 l7,-7 l7,7 l7,-7 l-7,-7 l7,-7 l7,7 l-7,7 l7,7 l7,-7 l7,7 l7,-7 l-7,-7 l7,-7 l-7,-7 l-7,7 l-7,-7 l7,-7 l7,7 l7,-7 l-7,-7 l7,-7 l7,7 l-7,7 l7,7 l7,-7 l7,7 l-7,7 l-7,-7 l-7,7 l7,7 l-7,7 l7,7 l7,-7 l7,7 l7,-7 l-7,-7 l7,-7 l7,7 l-7,7 l7,7 l7,-7 l7,7 l7,-7 l-7,-7 l7,-7 l-7,-7 l-7,7 l-7,-7 l7,-7 l7,7 l7,-7 l-7,-7 l7,-7 l-7,-7 l-7,7 l-7,-7 l-7,7 l7,7 l-7,7 l-7,-7 l7,-7 l-7,-7 l-7,7 l-7,-7 l7,-7 l7,7 l7,-7 l-7,-7 l7,-7 l7,7 l-7,7 l7,7 l7,-7 l7,7 l7,-7 l-7,-7 l7,-7 l-7,-7 l-7,7 l-7,-7 l7,-7 l7,7 l7,-7 l-7,-7 l7,-7 l-7,-7 l-7,7 l-7,-7 l-7,7 l7,7 l-7,7 l-7,-7 l7,-7 l-7,-7 l-7,7 l-7,-7 l-7,7 l7,7 l-7,7 l7,7 l7,-7 l7,7 l-7,7 l-7,-7 l-7,7 l7,7 l-7,7 l-7,-7 l7,-7 l-7,-7 l-7,7 l-7,-7 l7,-7 l7,7 l7,-7 l-7,-7 l7,-7 l-7,-7 l-7,7 l-7,-7 l-7,7 l7,7 l-7,7 l-7,-7 l7,-7 l-7,-7 l-7,7 l-7,-7 l-7,7 l7,7 l-7,7 l7,7 l7,-7 l7,7 l-7,7 l-7,-7 l-7,7 l7,7 l-7,7 l7,7 l7,-7 l7,7 l7,-7 l-7,-7 l7,-7 l7,7 l-7,7 l7,7 l7,-7 l7,7 l-7,7 l-7,-7 l-7,7 l7,7 l-7,7 l-7,-7 l7,-7 l-7,-7 l-7,7 l-7,-7 l-7,7 l7,7 l-7,7 l7,7 l7,-7 l7,7 l-7,7 l-7,-7 l-7,7 l7,7 l-7,7 l-7,-7 l7,-7 l-7,-7 l-7,7 l-7,-7 l7,-7 l7,7 l7,-7 l-7,-7 l7,-7 l-7,-7 l-7,7 l-7,-7 l-7,7 l7,7 l-7,7 l-7,-7 l7,-7 l-7,-7 l-7,7 l-7,-7 l7,-7 l7,7 l7,-7 l-7,-7 l7,-7 l7,7 l-7,7 l7,7 l7,-7 l7,7 l7,-7 l-7,-7 l7,-7 l-7,-7 l-7,7 l-7,-7 l7,-7 l7,7 l7,-7 l-7,-7 l7,-7 l-7,-7 l-7,7 l-7,-7 l-7,7 l7,7 l-7,7 l-7,-7 l7,-7 l-7,-7 l-7,7 l-7,-7 l-7,7 l7,7 l-7,7 l7,7 l7,-7 l7,7 l-7,7 l-7,-7 l-7,7 l7,7 l-7,7 l-7,-7 l7,-7 l-7,-7 l-7,7 l-7,-7 l7,-7 l7,7 l7,-7 l-7,-7 l7,-7 l-7,-7 l-7,7 l-7,-7 l-7,7 l7,7 l-7,7 l-7,-7 l7,-7 l-7,-7 l-7,7 l-7,-7 l7,-7 l7,7 l7,-7 l-7,-7 l7,-7 l7,7 l-7,7 l7,7 l7,-7 l7,7 l7,-7 l-7,-7 l7,-7 l-7,-7 l-7,7 l-7,-7 l7,-7 l7,7 l7,-7 l-7,-7 l7,-7 l7,7 l-7,7 l7,7 l7,-7 l7,7 l-7,7 l-7,-7 l-7,7 l7,7 l-7,7 l7,7 l7,-7 l7,7 l7,-7 l-7,-7 l7,-7 l7,7 l-7,7 l7,7 l7,-7 l7,7 l7,-7 l-7,-7 l7,-7 l-7,-7 l-7,7 l-7,-7 l7,-7 l7,7 l7,-7 l-7,-7 l7,-7 l-7,-7 l-7,7 l-7,-7 l-7,7 l7,7 l-7,7 l-7,-7 l7,-7 l-7,-7 l-7,7 l-7,-7 l7,-7 l7,7 l7,-7 l-7,-7 l7,-7 l7,7 l-7,7 l7,7 l7,-7 l7,7 l7,-7 l-7,-7 l7,-7 l-7,-7 l-7,7 l-7,-7 l7,-7 l7,7 l7,-7 l-7,-7 l7,-7 l7,7 l-7,7 l7,7 l7,-7 l7,7 l-7,7 l-7,-7 l-7,7 l7,7 l-7,7 l7,7 l7,-7 l7,7 l7,-7 l-7,-7 l7,-7 l7,7 l-7,7 l7,7 l7,-7 l7,7 l-7,7 l-7,-7 l-7,7 l7,7 l-7,7 l-7,-7 l7,-7 l-7,-7 l-7,7 l-7,-7 l-7,7 l7,7 l-7,7 l7,7 l7,-7 l7,7 l-7,7 l-7,-7 l-7,7 l7,7 l-7,7 l7,7 l7,-7 l7,7 l7,-7 l-7,-7 l7,-7 l7,7 l-7,7 l7,7 l7,-7 l7,7 l7,-7 l-7,-7 l7,-7 l-7,-7 l-7,7 l-7,-7 l7,-7 l7,7 l7,-7 l-7,-7 l7,-7 l7,7 l-7,7 l7,7 l7,-7 l7,7 l-7,7 l-7,-7 l-7,7 l7,7 l-7,7 l7,7 l7,-7 l7,7 l7,-7 l-7,-7 l7,-7 l7,7 l-7,7 l7,7 l7,-7 l7,7 l7,-7 l-7,-7 l7,-7 l-7,-7 l-7,7 l-7,-7 l7,-7 l7,7 l7,-7 l-7,-7 l7,-7 l-7,-7 l-7,7 l-7,-7 l-7,7 l7,7 l-7,7 l-7,-7 l7,-7 l-7,-7 l-7,7 l-7,-7 l7,-7 l7,7 l7,-7 l-7,-7 l7,-7 l7,7 l-7,7 l7,7 l7,-7 l7,7 l7,-7 l-7,-7 l7,-7 l-7,-7 l-7,7 l-7,-7 l7,-7 l7,7 l7,-7 l-7,-7 l7,-7 l-7,-7 l-7,7 l-7,-7 l-7,7 l7,7 l-7,7 l-7,-7 l7,-7 l-7,-7 l-7,7 l-7,-7 l-7,7 l7,7 l-7,7 l7,7 l7,-7 l7,7 l-7,7 l-7,-7 l-7,7 l7,7 l-7,7 l-7,-7 l7,-7 l-7,-7 l-7,7 l-7,-7 l7,-7 l7,7 l7,-7 l-7,-7 l7,-7 l-7,-7 l-7,7 l-7,-7 l-7,7 l7,7 l-7,7 l-7,-7 l7,-7 l-7,-7 l-7,7 l-7,-7 l7,-7 l7,7 l7,-7 l-7,-7 l7,-7 l7,7 l-7,7 l7,7 l7,-7 l7,7 l7,-7 l-7,-7 l7,-7 l-7,-7 l-7,7 l-7,-7 l7,-7 l7,7 l7,-7 l-7,-7 l7,-7 l7,7 l-7,7 l7,7 l7,-7 l7,7 l-7,7 l-7,-7 l-7,7 l7,7 l-7,7 l7,7 l7,-7 l7,7 l7,-7 l-7,-7 l7,-7 l7,7 l-7,7 l7,7 l7,-7 l7,7 l7,-7 l-7,-7 l7,-7 l-7,-7 l-7,7 l-7,-7 l7,-7 l7,7 l7,-7 l-7,-7 l7,-7 l-7,-7 l-7,7 l-7,-7 l-7,7 l7,7 l-7,7 l-7,-7 l7,-7 l-7,-7 l-7,7 l-7,-7 l7,-7 l7,7 l7,-7 l-7,-7 l7,-7 l7,7 l-7,7 l7,7 l7,-7 l7,7 l7,-7 l-7,-7 l7,-7 l-7,-7 l-7,7 l-7,-7 l7,-7 l7,7 l7,-7 l-7,-7 l7,-7 l-7,-7 l-7,7 l-7,-7 l-7,7 l7,7 l-7,7 l-7,-7 l7,-7 l-7,-7 l-7,7 l-7,-7 l-7,7 l7,7 l-7,7 l7,7 l7,-7 l7,7 l-7,7 l-7,-7 l-7,7 l7,7 l-7,7 l-7,-7 l7,-7 l-7,-7 l-7,7 l-7,-7 l7,-7 l7,7 l7,-7 l-7,-7 l7,-7 l-7,-7 l-7,7 l-7,-7 l-7,7 l7,7 l-7,7 l-7,-7 l7,-7 l-7,-7 l-7,7 l-7,-7 l-7,7 l7,7 l-7,7 l7,7 l7,-7 l7,7 l-7,7 l-7,-7 l-7,7 l7,7 l-7,7 l7,7 l7,-7 l7,7 l7,-7 l-7,-7 l7,-7 l7,7 l-7,7 l7,7 l7,-7 l7,7 l-7,7 l-7,-7 l-7,7 l7,7 l-7,7 l-7,-7 l7,-7 l-7,-7 l-7,7 l-7,-7 l-7,7 l7,7 l-7,7 l7,7 l7,-7 l7,7 l-7,7 l-7,-7 l-7,7 l7,7 l-7,7 l-7,-7 l7,-7 l-7,-7 l-7,7 l-7,-7 l7,-7 l7,7 l7,-7 l-7,-7 l7,-7 l-7,-7 l-7,7 l-7,-7 l-7,7 l7,7 l-7,7 l-7,-7 l7,-7 l-7,-7 l-7,7 l-7,-7 l7,-7 l7,7 l7,-7 l-7,-7 l7,-7 l7,7 l-7,7 l7,7 l7,-7 l7,7 l7,-7 l-7,-7 l7,-7 l-7,-7 l-7,7 l-7,-7 l7,-7 l7,7 l7,-7 l-7,-7 l7,-7 l-7,-7 l-7,7 l-7,-7 l-7,7 l7,7 l-7,7 l-7,-7 l7,-7 l-7,-7 l-7,7 l-7,-7 l-7,7 l7,7 l-7,7 l7,7 l7,-7 l7,7 l-7,7 l-7,-7 l-7,7 l7,7 l-7,7 l-7,-7 l7,-7 l-7,-7 l-7,7 l-7,-7 l7,-7 l7,7 l7,-7 l-7,-7 l7,-7 l-7,-7 l-7,7 l-7,-7 l-7,7 l7,7 l-7,7 l-7,-7 l7,-7 l-7,-7 l-7,7 l-7,-7 l-7,7 l7,7 l-7,7 l7,7 l7,-7 l7,7 l-7,7 l-7,-7 l-7,7 l7,7 l-7,7 l7,7 l7,-7 l7,7 l7,-7 l-7,-7 l7,-7 l7,7 l-7,7 l7,7 l7,-7 l7,7 l-7,7 l-7,-7 l-7,7 l7,7 l-7,7 l-7,-7 l7,-7 l-7,-7 l-7,7 l-7,-7 l-7,7 l7,7 l-7,7 l7,7 l7,-7 l7,7 l-7,7 l-7,-7 l-7,7 l7,7 l-7,7 l7,7 l7,-7 l7,7 l7,-7 l-7,-7 l7,-7 l7,7 l-7,7 l7,7 l7,-7 l7,7 l7,-7 l-7,-7 l7,-7 l-7,-7 l-7,7 l-7,-7 l7,-7 l7,7 l7,-7 l-7,-7 l7,-7 l7,7 l-7,7 l7,7 l7,-7 l7,7 l-7,7 l-7,-7 l-7,7 l7,7 l-7,7 l7,7 l7,-7 l7,7 l7,-7 l-7,-7 l7,-7 l7,7 l-7,7 l7,7 l7,-7 l7,7 l-7,7 l-7,-7 l-7,7 l7,7 l-7,7 l-7,-7 l7,-7 l-7,-7 l-7,7 l-7,-7 l-7,7 l7,7 l-7,7 l7,7 l7,-7 l7,7 l-7,7 l-7,-7 l-7,7 l7,7 l-7,7 l-7,-7 l7,-7 l-7,-7 l-7,7 l-7,-7 l7,-7 l7,7 l7,-7 l-7,-7 l7,-7 l-7,-7 l-7,7 l-7,-7 l-7,7 l7,7 l-7,7 l-7,-7 l7,-7 l-7,-7 l-7,7 l-7,-7 l-7,7 l7,7 l-7,7 l7,7 l7,-7 l7,7 l-7,7 l-7,-7 l-7,7 l7,7 l-7,7 l7,7 l7,-7 l7,7 l7,-7 l-7,-7 l7,-7 l7,7 l-7,7 l7,7 l7,-7 l7,7 l-7,7 l-7,-7 l-7,7 l7,7 l-7,7 l-7,-7 l7,-7 l-7,-7 l-7,7 l-7,-7 l-7,7 l7,7 l-7,7 l7,7 l7,-7 l7,7 l-7,7 l-7,-7 l-7,7 l7,7 l-7,7 l-7,-7 l7,-7 l-7,-7 l-7,7 l-7,-7 l7,-7 l7,7 l7,-7 l-7,-7 l7,-7 l-7,-7 l-7,7 l-7,-7 l-7,7 l7,7 l-7,7 l-7,-7 l7,-7 l-7,-7 l-7,7 l-7,-7 l7,-7 l7,7 l7,-7 l-7,-7 l7,-7 l7,7 l-7,7 l7,7 l7,-7 l7,7 l7,-7 l-7,-7 l7,-7 l-7,-7 l-7,7 l-7,-7 l7,-7 l7,7 l7,-7 l-7,-7 l7,-7 l-7,-7 l-7,7 l-7,-7 l-7,7 l7,7 l-7,7 l-7,-7 l7,-7 l-7,-7 l-7,7 l-7,-7 l-7,7 l7,7 l-7,7 l7,7 l7,-7 l7,7 l-7,7 l-7,-7 l-7,7 l7,7 l-7,7 l-7,-7 l7,-7 l-7,-7 l-7,7 l-7,-7 l7,-7 l7,7 l7,-7 l-7,-7 l7,-7 l-7,-7 l-7,7 l-7,-7 l-7,7 l7,7 l-7,7 l-7,-7 l7,-7 l-7,-7 l-7,7 l-7,-7 l7,-7 l7,7 l7,-7 l-7,-7 l7,-7 l7,7 l-7,7 l7,7 l7,-7 l7,7 l7,-7 l-7,-7 l7,-7 l-7,-7 l-7,7 l-7,-7 l7,-7 l7,7 l7,-7 l-7,-7 l7,-7 l7,7 l-7,7 l7,7 l7,-7 l7,7 l-7,7 l-7,-7 l-7,7 l7,7 l-7,7 l7,7 l7,-7 l7,7 l7,-7 l-7,-7 l7,-7 l7,7 l-7,7 l7,7 l7,-7 l7,7 l7,-7 l-7,-7 l7,-7 l-7,-7 l-7,7 l-7,-7 l7,-7 l7,7 l7,-7 l-7,-7 l7,-7 l-7,-7 l-7,7 l-7,-7 l-7,7 l7,7 l-7,7 l-7,-7 l7,-7 l-7,-7 l-7,7 l-7,-7 l7,-7 l7,7 l7,-7 l-7,-7 l7,-7 l7,7 l-7,7 l7,7 l7,-7 l7,7 l7,-7 l-7,-7 l7,-7 l-7,-7 l-7,7 l-7,-7 l7,-7 l7,7 l7,-7 l-7,-7 l7,-7 l-7,-7 l-7,7 l-7,-7 l-7,7 l7,7 l-7,7 l-7,-7 l7,-7 l-7,-7 l-7,7 l-7,-7 l-7,7 l7,7 l-7,7 l7,7 l7,-7 l7,7 l-7,7 l-7,-7 l-7,7 l7,7 l-7,7 l-7,-7 l7,-7 l-7,-7 l-7,7 l-7,-7 l7,-7 l7,7 l7,-7 l-7,-7 l7,-7 l-7,-7 l-7,7 l-7,-7 l-7,7 l7,7 l-7,7 l-7,-7 l7,-7 l-7,-7 l-7,7 l-7,-7 l-7,7 l7,7 l-7,7 l7,7 l7,-7 l7,7 l-7,7 l-7,-7 l-7,7 l7,7 l-7,7 l7,7 l7,-7 l7,7 l7,-7 l-7,-7 l7,-7 l7,7 l-7,7 l7,7 l7,-7 l7,7 l-7,7 l-7,-7 l-7,7 l7,7 l-7,7 l-7,-7 l7,-7 l-7,-7 l-7,7 l-7,-7 l-7,7 l7,7 l-7,7 l7,7 l7,-7 l7,7 l-7,7 l-7,-7 l-7,7 l7,7 l-7,7 l-7,-7 l7,-7 l-7,-7 l-7,7 l-7,-7 l7,-7 l7,7 l7,-7 l-7,-7 l7,-7 l-7,-7 l-7,7 l-7,-7 l-7,7 l7,7 l-7,7 l-7,-7 l7,-7 l-7,-7 l-7,7 l-7,-7 l7,-7 l7,7 l7,-7 l-7,-7 l7,-7 l7,7 l-7,7 l7,7 l7,-7 l7,7 l7,-7 l-7,-7 l7,-7 l-7,-7 l-7,7 l-7,-7 l7,-7 l7,7 l7,-7 l-7,-7 l7,-7 l-7,-7 l-7,7 l-7,-7 l-7,7 l7,7 l-7,7 l-7,-7 l7,-7 l-7,-7 l-7,7 l-7,-7 l-7,7 l7,7 l-7,7 l7,7 l7,-7 l7,7 l-7,7 l-7,-7 l-7,7 l7,7 l-7,7 l-7,-7 l7,-7 l-7,-7 l-7,7 l-7,-7 l7,-7 l7,7 l7,-7 l-7,-7 l7,-7 l-7,-7 l-7,7 l-7,-7 l-7,7 l7,7 l-7,7 l-7,-7 l7,-7 l-7,-7 l-7,7 l-7,-7 \" fill=\"none\" stroke=\"green\" vector-effect=\"non-scaling-stroke\"/></svg>"
      ],
      "text/plain": [
       "<IPython.core.display.SVG object>"
      ]
     },
     "metadata": {},
     "output_type": "display_data"
    },
    {
     "name": "stdout",
     "output_type": "stream",
     "text": [
      "Turtle at -7,-7 facing 315.0\n"
     ]
    }
   ],
   "source": [
    "import math  # import math module\n",
    "from IPython.display import SVG, display\n",
    "\n",
    "\"\"\"\n",
    "A simple turtle graphics example that produces SVG output that can\n",
    "be displayed in Jupyter.\n",
    "\"\"\"\n",
    "\n",
    "class Turtle:\n",
    "    \" Turtle graphics drawing to SVG path \"  # class docstring\n",
    "    \n",
    "    DEG2RAD = math.pi/180  # class level variable\n",
    "    \n",
    "    @staticmethod\n",
    "    def deg2rad(d):  # static method\n",
    "        \"\"\" Convert degrees to radians \"\"\"\n",
    "        return d * Turtle.DEG2RAD\n",
    "    \n",
    "    def __init__(self):  # class constructor; \"self\" is like \"this\"\n",
    "        # We don't declare instance variables explicitly in Python; we simply\n",
    "        # assign values to them during construction. In this case we will\n",
    "        # do all of that in the reset() method.\n",
    "        self.reset()\n",
    "        \n",
    "    def reset(self):\n",
    "        self.draw = True  # instance variable\n",
    "        self.path = \"M0,0 \"\n",
    "        self.x = self.y = 0\n",
    "        self.turnto(0.0)\n",
    "    \n",
    "    def turnto(self, angle):\n",
    "        \" Turn to absolute angle. \"\n",
    "        self.angle = angle % 360.0\n",
    "        self.dx = math.sin(Turtle.deg2rad(self.angle))\n",
    "        self.dy = math.cos(Turtle.deg2rad(self.angle))\n",
    "        \n",
    "    def right(self, angle):\n",
    "        \" Relative turn \"\n",
    "        self.turnto(self.angle + angle)\n",
    "\n",
    "    def left(self, angle):\n",
    "        self.right(angle)\n",
    "        \n",
    "    def up(self):\n",
    "        self.draw = False\n",
    "        \n",
    "    def down(self):\n",
    "        self.draw = True\n",
    "        \n",
    "    def move(self, distance):\n",
    "        \" Relative move by distance \"\n",
    "        self.x = int(distance * self.dx)\n",
    "        self.y = int(distance * self.dy)\n",
    "        self.path += f\"{'l' if self.draw else 'm'}{self.x},{self.y} \"\n",
    "\n",
    "    def moveto(self, x, y):\n",
    "        \" Absolute move to (x, y)\"\n",
    "        self.x = x\n",
    "        self.y = y\n",
    "        self.path += f\"{'L' if self.draw else 'M'}{self.x},{self.y} \"\n",
    "        \n",
    "    def svg(self):\n",
    "        return '<svg id=\"doc\" xmlns=\"http://www.w3.org/2000/svg\" ' +\\\n",
    "            'version=\"1.1\" width=\"500\" height=\"500\"><path d=\"' +\\\n",
    "            self.path +\\\n",
    "            '\" stroke=\"green\" fill=\"none\" vector-effect=\"non-scaling-stroke\" /></svg>'\n",
    "            \n",
    "    def __str__(self):\n",
    "        \" Convert to string representation. \"\n",
    "        return f\"Turtle at {self.x},{self.y} facing {self.angle}\"\n",
    "\n",
    "            \n",
    "def swisscross(turtle, level):  # top-level function\n",
    "    \" Swiss cross is a space filling curve. \"\n",
    "    if level >= 0:\n",
    "        swisscross(turtle, level - 1)\n",
    "        t.right(90)\n",
    "        swisscross(turtle, level - 1)\n",
    "        t.move(10)\n",
    "        swisscross(turtle, level - 1)\n",
    "        t.right(90)\n",
    "        swisscross(turtle, level - 1)\n",
    "        \n",
    "\n",
    "t = Turtle()  # create class instance; note no 'new' \n",
    "t.up()\n",
    "t.moveto(20, 30)\n",
    "t.turnto(315)\n",
    "t.down()\n",
    "swisscross(t, 5)\n",
    "t.move(10)\n",
    "swisscross(t, 5)\n",
    "\n",
    "# Display the result using SVG\n",
    "display(SVG(t.svg()))\n",
    "        \n",
    "# final state\n",
    "\n",
    "print(t)"
   ]
  },
  {
   "cell_type": "markdown",
   "metadata": {},
   "source": [
    "## Installing pip\n",
    "\n",
    "TODO\n",
    "\n",
    "## Creating Virtual Environments\n",
    "\n",
    "TODO - fix up and go into details\n",
    "\n",
    "When starting a Python project, you want to first create a *virtual environments* - pseudo-installations of Python and the supporting packages that use links instead of physical files, that point to appropriate versions. We won't do that here, but it is worth knowing about, and it is a recommended best practice when starting a new application. You can also use this to create a Python 2 environment after installing Python 3, and vice-versa.\n",
    "\n",
    "For Conda: https://conda.io/docs/using/envs.html\n",
    "\n",
    "For pip: https://packaging.python.org/guides/installing-using-pip-and-virtualenv/\n",
    "\n",
    "If you are not in a Conda environment, the recommended practice now is to use the virtual environment manager `pipenv`: http://docs.python-guide.org/en/latest/dev/virtualenvs/. `pipenv` did not play nice with Conda until recently but it appears that may be fixed now; you can read more at https://docs.pipenv.org/advanced/#pipenv-and-other-python-distributions.\n",
    "\n",
    "\n",
    "## Installing Third-Party Packages\n",
    "\n",
    "Once you have created and activated a virtual environment you can start to populate it with packages (you could do this globally and not in a virtual environment but that is not recommended; you can sometimes get into ['dependency hell'](https://en.wikipedia.org/wiki/Dependency_hell) and you'll be much happier if that happens in a virtual environment you can  just discard rather than your global environment. Furthermore, you may have projects that depend on different versions of the same package which is not a problem with virtual environments but not possible if you install packages globally).\n",
    "\n",
    "The standard way to install packages is with `pip install`. However, if you have installed `conda` you should use `conda install` first and only if that fails use `pip install`. Conda has a smaller set of packages which is why it doesn't always succeed, but the ones it does have have been built for Conda so installing that way is preferred.\n",
    "\n",
    "Use `conda uninstall` or `pip uninstall` to remove packages.\n",
    "\n",
    "To see what packages are installed use `pip freeze`.\n",
    "\n",
    "When installing packages with pip or conda you can specify the version number; e.g.:\n",
    "\n",
    "    pip install ipython=6.3.1\n",
    "    \n",
    "There's a lot more to package management than this but this is enough for most of what you will do.\n",
    "\n",
    "> If you really want to get into the details; [this is a great blog post](https://pydist.com/blog/pip-install) that gets into the details of what is happening under the hood when you run `pip install`."
   ]
  },
  {
   "cell_type": "markdown",
   "metadata": {},
   "source": [
    "## Python is an OOPL\n",
    "\n",
    "Python is a pure object-oriented language. Operators like `+` are simply methods on a class. The Python interpreter will convert an infix operator to an instance method call.\n",
    "\n",
    "For example, there is an `int` class for integers. There is an `__add__` method defined on that class for addition. So:    "
   ]
  },
  {
   "cell_type": "code",
   "execution_count": 2,
   "metadata": {},
   "outputs": [
    {
     "data": {
      "text/plain": [
       "7"
      ]
     },
     "execution_count": 2,
     "metadata": {},
     "output_type": "execute_result"
    }
   ],
   "source": [
    "3 + 4"
   ]
  },
  {
   "cell_type": "markdown",
   "metadata": {},
   "source": [
    "is the same as:"
   ]
  },
  {
   "cell_type": "code",
   "execution_count": 3,
   "metadata": {},
   "outputs": [
    {
     "data": {
      "text/plain": [
       "7"
      ]
     },
     "execution_count": 3,
     "metadata": {},
     "output_type": "execute_result"
    }
   ],
   "source": [
    "(3).__add__(4)"
   ]
  },
  {
   "cell_type": "markdown",
   "metadata": {},
   "source": [
    "The double underscore in Python is called *dunder* and is used extensively internally; `__add__` is called a *dunder-method*. Dunder-methods are important to understand if you want to take full advantage of Python hence this early introduction.\n",
    "\n",
    "You can see the methods on a class by using the `dir` function, for example `dir(int)`.\n",
    "\n",
    "We will discuss how to define new classes later. A key takeaway here is that this use of dunder-methods allows us to override many operators simply by overriding the associated dunder-method. Two particularly useful ones are `__str__` (cast to string) and `__repr__` (cast to text representation); these are typically the same for a class but need not be. For example, notice the differences here:"
   ]
  },
  {
   "cell_type": "code",
   "execution_count": 4,
   "metadata": {},
   "outputs": [
    {
     "name": "stdout",
     "output_type": "stream",
     "text": [
      "abc\n",
      "'abc'\n"
     ]
    }
   ],
   "source": [
    "a = \"abc\"\n",
    "print(a.__str__())  # Equivalent to str(a)\n",
    "print(a.__repr__())"
   ]
  },
  {
   "cell_type": "markdown",
   "metadata": {},
   "source": [
    "While it is true that Python is an OOPL in that everything is an object, Python does not impose OOP on you, unlike many other OOPLs. As you have seen so far, you can simply write and run one or more statements or expressions. Your code might consist of some top level statements and functions. There is no need to encapsulate everything explicitly inside a class. In that regard, Python can be considered a multi-paradigm language. You can write your code in an imperative, an object-oriented, or even, to some extent, a functional manner."
   ]
  },
  {
   "cell_type": "markdown",
   "metadata": {},
   "source": [
    "## Indentation and Comments\n",
    "\n",
    "Python does not use {} for demarcating blocks of code; instead it uses indentation. This distinguishes it from most other programming languages and can take some getting used to. In particular, it requires care when pasting code in an editor (most Python editors are smart about this but other editors are not). The reason for this choice is that Guido originally designed Python as a teaching language and favored readability.\n",
    "\n",
    "The convention in Python is to indent with spaces, not tabs (this avoids tab settings causing misinterpretation of code). Indentation standard is 4 spaces at a time, although some companies have different conventions (usually 2, if not 4).\n",
    "\n",
    "Comments start with # and continue to the end of the line. By convention if # is used on the same line as code it should be preceded by at least two spaces."
   ]
  },
  {
   "cell_type": "markdown",
   "metadata": {},
   "source": [
    "## Simple Functions\n",
    "\n",
    "Python named functions are defined with `def`:"
   ]
  },
  {
   "cell_type": "code",
   "execution_count": 5,
   "metadata": {},
   "outputs": [
    {
     "data": {
      "text/plain": [
       "5"
      ]
     },
     "execution_count": 5,
     "metadata": {},
     "output_type": "execute_result"
    }
   ],
   "source": [
    "def add(a, b):\n",
    "    return a + b\n",
    "\n",
    "add(2, 3)"
   ]
  },
  {
   "cell_type": "code",
   "execution_count": 6,
   "metadata": {},
   "outputs": [
    {
     "data": {
      "text/plain": [
       "'cathat'"
      ]
     },
     "execution_count": 6,
     "metadata": {},
     "output_type": "execute_result"
    }
   ],
   "source": [
    "add(\"cat\", \"hat\")  # This is entirely legitimate; + concatenates strings"
   ]
  },
  {
   "cell_type": "code",
   "execution_count": 7,
   "metadata": {},
   "outputs": [
    {
     "ename": "TypeError",
     "evalue": "must be str, not int",
     "output_type": "error",
     "traceback": [
      "\u001b[0;31m---------------------------------------------------------------------------\u001b[0m",
      "\u001b[0;31mTypeError\u001b[0m                                 Traceback (most recent call last)",
      "\u001b[0;32m<ipython-input-7-94b2f852ae18>\u001b[0m in \u001b[0;36m<module>\u001b[0;34m()\u001b[0m\n\u001b[0;32m----> 1\u001b[0;31m \u001b[0madd\u001b[0m\u001b[0;34m(\u001b[0m\u001b[0;34m\"cat\"\u001b[0m\u001b[0;34m,\u001b[0m \u001b[0;36m3\u001b[0m\u001b[0;34m)\u001b[0m  \u001b[0;31m# This is not allowed; Python typecasting must almost always be explicit\u001b[0m\u001b[0;34m\u001b[0m\u001b[0m\n\u001b[0m",
      "\u001b[0;32m<ipython-input-5-1315785ad0b1>\u001b[0m in \u001b[0;36madd\u001b[0;34m(a, b)\u001b[0m\n\u001b[1;32m      1\u001b[0m \u001b[0;32mdef\u001b[0m \u001b[0madd\u001b[0m\u001b[0;34m(\u001b[0m\u001b[0ma\u001b[0m\u001b[0;34m,\u001b[0m \u001b[0mb\u001b[0m\u001b[0;34m)\u001b[0m\u001b[0;34m:\u001b[0m\u001b[0;34m\u001b[0m\u001b[0m\n\u001b[0;32m----> 2\u001b[0;31m     \u001b[0;32mreturn\u001b[0m \u001b[0ma\u001b[0m \u001b[0;34m+\u001b[0m \u001b[0mb\u001b[0m\u001b[0;34m\u001b[0m\u001b[0m\n\u001b[0m\u001b[1;32m      3\u001b[0m \u001b[0;34m\u001b[0m\u001b[0m\n\u001b[1;32m      4\u001b[0m \u001b[0madd\u001b[0m\u001b[0;34m(\u001b[0m\u001b[0;36m2\u001b[0m\u001b[0;34m,\u001b[0m \u001b[0;36m3\u001b[0m\u001b[0;34m)\u001b[0m\u001b[0;34m\u001b[0m\u001b[0m\n",
      "\u001b[0;31mTypeError\u001b[0m: must be str, not int"
     ]
    }
   ],
   "source": [
    "add(\"cat\", 3)  # This is not allowed; Python typecasting must almost always be explicit"
   ]
  },
  {
   "cell_type": "markdown",
   "metadata": {},
   "source": [
    "### import\n",
    "\n",
    "Python code is packaged in the form of _packages_ consisting of one of more _modules_. A module is a single Python file, while a package is a directory of Python modules containing an additional `__init__.py` file, to distinguish a package from a directory that just happens to contain a bunch of Python scripts. The `__init__.py` file can be empty, but often contains code which is executed upon the initial import of a module in the package.\n",
    "\n",
    "You install a package with `pip` or `conda`. Once installed, to use the package you must import it. You can also import modules although this is less common. \n",
    "\n",
    "There are several common ways of importing. Let's say we want to import a package `foo` that defines a class `Widget`:\n",
    "\n",
    "* `import foo` will import the `foo` package; any reference to modules/classes/functions will need to be prefixed with `foo.`; e.g. `foo.Widget`\n",
    "* `import foo as bar` will import the `foo` package with the alias `bar`; any reference to modules/classes/functions will need to be prefixed with `bar.`; e.g. `bar.Widget`\n",
    "* `from foo import Widget` can be used to import a specific module/class/function from `foo` and it will be available as `Widget`\n",
    "* `from foo import *` will import every item in `foo` into the current namespace; this is bad practice, don't do it.\n",
    "\n",
    "When resolving an import, the Python interpreter will look for it in (in-order):\n",
    "\n",
    "- the directory from which the main script was run\n",
    "- the list of directories specified by the `PYTHONPATH` environment variable, if any\n",
    "- the directories used for packages including in the Python installation\n",
    "\n",
    "You can see the full set of directories that will be searched by looking at the `sys.path` variable:"
   ]
  },
  {
   "cell_type": "code",
   "execution_count": 1,
   "metadata": {},
   "outputs": [
    {
     "data": {
      "text/plain": [
       "['',\n",
       " '/Users/gram/anaconda/lib/python36.zip',\n",
       " '/Users/gram/anaconda/lib/python3.6',\n",
       " '/Users/gram/anaconda/lib/python3.6/lib-dynload',\n",
       " '/Users/gram/.local/lib/python3.6/site-packages',\n",
       " '/Users/gram/anaconda/lib/python3.6/site-packages',\n",
       " '/Users/gram/anaconda/lib/python3.6/site-packages/aeosa',\n",
       " '/Users/gram/anaconda/lib/python3.6/site-packages/IPython/extensions',\n",
       " '/Users/gram/.ipython']"
      ]
     },
     "execution_count": 1,
     "metadata": {},
     "output_type": "execute_result"
    }
   ],
   "source": [
    "import sys\n",
    "\n",
    "sys.path"
   ]
  },
  {
   "cell_type": "markdown",
   "metadata": {},
   "source": [
    "If the module being imported cannot be found, an `ImportError` exception will be raised. This gives a safe way to do importing of optional modules:"
   ]
  },
  {
   "cell_type": "code",
   "execution_count": 3,
   "metadata": {},
   "outputs": [
    {
     "name": "stdout",
     "output_type": "stream",
     "text": [
      "Please install the nonexistent module!\n"
     ]
    }
   ],
   "source": [
    "try:\n",
    "    import nonexistent\n",
    "except ImportError:\n",
    "    print('Please install the nonexistent module!')"
   ]
  },
  {
   "cell_type": "markdown",
   "metadata": {},
   "source": [
    "Imports don't have to happen at the top level; they can be done within the bodies of functions. This enables lazy/just-in-time importing and can help speed up initial load time of scripts. "
   ]
  },
  {
   "cell_type": "markdown",
   "metadata": {},
   "source": [
    "### Writing a main function and handling command line arguments\n",
    "\n",
    "The `sys` module lets us access command line arguments as `sys.argv:\n",
    "\n",
    "```python\n",
    "    #!/usr/bin/python\n",
    "\n",
    "    import sys\n",
    "\n",
    "    def main():\n",
    "        # print command line arguments\n",
    "        for arg in sys.argv[1:]:\n",
    "            print arg\n",
    "\n",
    "    if __name__ == \"__main__\":\n",
    "        main()\n",
    "```\n",
    "\n",
    "The `__name__` variable is set to the name of the executing module, or `\"__main__\"` if this is the top-level module. The pattern shown, where we test `__name__` before executing any code, is a common one; it allows other Python scripts to safely import this one, improving reuse.\n",
    "\n",
    "If you want to parse command-line arguments like flags etc, there is an `argparse` library as part of the standard distribution but a much easier way IMO is to use [docopt](http://docopt.org/): just write the help string and `docopt` generates the parse for you. Another option to look at is [click](http://click.pocoo.org/5/); it seems to be gaining popularity but I have not used it."
   ]
  },
  {
   "cell_type": "markdown",
   "metadata": {},
   "source": [
    "## An Overview of Python Types\n",
    "\n",
    "See https://docs.python.org/3/library/stdtypes.html for detailed documentation.\n",
    "\n",
    "The main types are:\n",
    "\n",
    "| TYPE      | GROUP     | MUTABLE? |\n",
    "|-----------|-----------|----------|\n",
    "| int       | Numerics  | N        |\n",
    "| float     | Numerics  | N        |\n",
    "| complex   | Numerics  | N        |\n",
    "| str       | Sequences | N        |\n",
    "| bytes     | Sequences | N        |\n",
    "| bytearray | Sequences | Y        |\n",
    "| list      | Sequences | Y        |\n",
    "| tuple     | Sequences | N        |\n",
    "| range     | Sequences | N        |\n",
    "| set       | Sets      | Y        |\n",
    "| frozenset | Sets      | N        |\n",
    "| dict      | Mapping   | Y        |\n",
    "\n",
    "In addition, modules, classes, instances, methods, and functions are all types. The Boolean constants `True` and `False`, and the value `None`, are instances of their own special types, and there are several other special cases like this. See the link above for more. Note that there is a string type but not a character type; characters are not treated any differently from other strings.\n",
    "\n",
    "### The Boolean Truth Value of Types\n",
    "\n",
    "Any object can be tested for truth value, for use in an `if` or `while` condition or as operand in a Boolean expression.\n",
    "\n",
    "By default, an object is considered true unless its class defines either a `__bool__()` method that returns False or a `__len__()` method that returns zero, when called with the object. Zero numeric values are considered False, as are empty collections or sequences, and vice-versa.\n",
    "\n",
    "Operations and built-in functions that have a Boolean result always return `0` or `False` for false and `1` or `True` for true, unless otherwise stated.\n",
    "\n",
    "Important exception: the Boolean operations `or` and `and` always return one of their operands. This allows for useful defaults using Boolean expressions with `or`:"
   ]
  },
  {
   "cell_type": "code",
   "execution_count": 8,
   "metadata": {},
   "outputs": [
    {
     "name": "stdout",
     "output_type": "stream",
     "text": [
      "N/A\n"
     ]
    }
   ],
   "source": [
    "s = None\n",
    "\n",
    "name = s or \"N/A\"\n",
    "\n",
    "print(name)"
   ]
  },
  {
   "cell_type": "markdown",
   "metadata": {},
   "source": [
    "### None\n",
    "\n",
    "Python has no null object, but has a special object instance `None`.\n",
    "\n",
    "To test if an object is `None`, use `is` or `is not`, not `==` or `!=`."
   ]
  },
  {
   "cell_type": "code",
   "execution_count": 9,
   "metadata": {},
   "outputs": [
    {
     "name": "stdout",
     "output_type": "stream",
     "text": [
      "True\n",
      "False\n"
     ]
    }
   ],
   "source": [
    "a = None\n",
    "print(a is None)\n",
    "print(a is not None)"
   ]
  },
  {
   "cell_type": "markdown",
   "metadata": {},
   "source": [
    "`is` tests if the arguments refer to the same object, while `==` tests if they have the same value (in general; in reality it does whatever the `__eq__` dunder-method on the left-hand-side argument defines). Python keeps a pool of string literals and reuses them if it can, so in the example below `a` and `b` both refer to the same string literal while `c` does not:"
   ]
  },
  {
   "cell_type": "code",
   "execution_count": 10,
   "metadata": {},
   "outputs": [
    {
     "name": "stdout",
     "output_type": "stream",
     "text": [
      "True\n",
      "True\n",
      "True\n",
      "False\n"
     ]
    }
   ],
   "source": [
    "a = \"3\"\n",
    "b = \"3\"\n",
    "c = f\"{3}\"\n",
    "print(a == b)\n",
    "print(a is b)\n",
    "print(a == c)\n",
    "print(a is c)"
   ]
  },
  {
   "cell_type": "markdown",
   "metadata": {},
   "source": [
    "### Numbers\n",
    "\n",
    "Most of the typical operators you know from other languages are supported. Here are some more-specific to Python:"
   ]
  },
  {
   "cell_type": "code",
   "execution_count": 11,
   "metadata": {},
   "outputs": [
    {
     "name": "stdout",
     "output_type": "stream",
     "text": [
      "True\n",
      "3\n",
      "False\n"
     ]
    }
   ],
   "source": [
    "print(bool(3))  # Convert to Boolean\n",
    "print(str(3))  # Convert to string\n",
    "print(bool(0))"
   ]
  },
  {
   "cell_type": "code",
   "execution_count": 12,
   "metadata": {},
   "outputs": [
    {
     "name": "stdout",
     "output_type": "stream",
     "text": [
      "1\n",
      "1.5\n"
     ]
    }
   ],
   "source": [
    "print(3 // 2)  # Integer division with truncation\n",
    "print(3 / 2)  # Float division"
   ]
  },
  {
   "cell_type": "code",
   "execution_count": 13,
   "metadata": {},
   "outputs": [
    {
     "name": "stdout",
     "output_type": "stream",
     "text": [
      "2\n",
      "2\n",
      "3\n"
     ]
    }
   ],
   "source": [
    "print(int(2.5)) # Convert to int with truncation\n",
    "print(round(2.5))  # Convert to int with rounding (oddly, round() with 0 \n",
    "print(round(3.5))  #   decimal places rounds to even number, not up).\n",
    "print(round(2.5001))  # Convert to int with rounding"
   ]
  },
  {
   "cell_type": "code",
   "execution_count": 1,
   "metadata": {},
   "outputs": [
    {
     "name": "stdout",
     "output_type": "stream",
     "text": [
      "9876.54\n",
      "9900.0\n"
     ]
    }
   ],
   "source": [
    "# round can take an additional argument for a power of 10 specifying precision\n",
    "print(round(9876.54321, 2))  # round to 2 decimal places\n",
    "print(round(9876.54321, -2))  # round to nearest 100 (10^2)"
   ]
  },
  {
   "cell_type": "code",
   "execution_count": 14,
   "metadata": {},
   "outputs": [
    {
     "name": "stdout",
     "output_type": "stream",
     "text": [
      "8\n",
      "-4\n",
      "1329227995784915872903807060280344576\n"
     ]
    }
   ],
   "source": [
    "print(2 ** 3)  # Exponentiation\n",
    "print(~3)  # Bitwise inverse\n",
    "print(2**120)  # Python ints are arbitrary precision, not 64-bit"
   ]
  },
  {
   "cell_type": "code",
   "execution_count": 15,
   "metadata": {},
   "outputs": [
    {
     "name": "stdout",
     "output_type": "stream",
     "text": [
      "True\n",
      "(5, 2)\n"
     ]
    }
   ],
   "source": [
    "print(2.0.is_integer())\n",
    "print(2.5.as_integer_ratio())  # Convert to fraction tuple; we'll cover tuples later"
   ]
  },
  {
   "cell_type": "markdown",
   "metadata": {},
   "source": [
    "Note that `+=` and `-=` (and `*=`, etc) are supported but `++` and `--` are not. Use `+=1` and `-=1` instead."
   ]
  },
  {
   "cell_type": "markdown",
   "metadata": {},
   "source": [
    "Because even integer literals are objects with some overhead, Python has an optimization where it makes singleton instances of all small integers from -5 to 256. This can in rare situations trip you up. "
   ]
  },
  {
   "cell_type": "code",
   "execution_count": 16,
   "metadata": {},
   "outputs": [
    {
     "name": "stdout",
     "output_type": "stream",
     "text": [
      "True\n",
      "False\n",
      "True\n",
      "False\n"
     ]
    }
   ],
   "source": [
    "a = 256\n",
    "b = 257\n",
    "c = -5\n",
    "d = -6\n",
    "print(a is 256)\n",
    "print(b is 257)\n",
    "print(c is -5)\n",
    "print(d is -6)"
   ]
  },
  {
   "cell_type": "markdown",
   "metadata": {},
   "source": [
    "### Strings\n",
    "\n",
    "Python 3 strings are Unicode. String literals can use single our double quotes (but must use same type to close as to open). Multi-line strings are most easily written using triple quotes."
   ]
  },
  {
   "cell_type": "code",
   "execution_count": 17,
   "metadata": {},
   "outputs": [
    {
     "name": "stdout",
     "output_type": "stream",
     "text": [
      "foo\n",
      "bar\n",
      "\"foo\"\n",
      "'bar'\n",
      "I am a \n",
      "multiline string\n"
     ]
    }
   ],
   "source": [
    "print('foo')\n",
    "print(\"bar\")\n",
    "print('\"foo\"')\n",
    "print(\"'bar'\")\n",
    "print(\"\"\"I am a \n",
    "multiline string\"\"\")"
   ]
  },
  {
   "cell_type": "markdown",
   "metadata": {},
   "source": [
    "You can use the usual suspects of `\\n`, `\\t`, etc in strings, and use `\\` to escape special characters like quotes and `\\` itself."
   ]
  },
  {
   "cell_type": "code",
   "execution_count": 18,
   "metadata": {},
   "outputs": [
    {
     "name": "stdout",
     "output_type": "stream",
     "text": [
      "22\n"
     ]
    }
   ],
   "source": [
    "a = \"the cat sat on the mat\"\n",
    "print(len(a))  # len gets the length of the string; implemented by __len__"
   ]
  },
  {
   "cell_type": "code",
   "execution_count": 19,
   "metadata": {},
   "outputs": [
    {
     "name": "stdout",
     "output_type": "stream",
     "text": [
      "True\n",
      "False\n"
     ]
    }
   ],
   "source": [
    "print(\"cat\" in a)  # 'in' is implemented by __contains__\n",
    "print(\"dog\" in a)"
   ]
  },
  {
   "cell_type": "code",
   "execution_count": 20,
   "metadata": {},
   "outputs": [
    {
     "name": "stdout",
     "output_type": "stream",
     "text": [
      "t\n"
     ]
    },
    {
     "ename": "TypeError",
     "evalue": "'str' object does not support item assignment",
     "output_type": "error",
     "traceback": [
      "\u001b[0;31m---------------------------------------------------------------------------\u001b[0m",
      "\u001b[0;31mTypeError\u001b[0m                                 Traceback (most recent call last)",
      "\u001b[0;32m<ipython-input-20-b63b8912561d>\u001b[0m in \u001b[0;36m<module>\u001b[0;34m()\u001b[0m\n\u001b[1;32m      1\u001b[0m \u001b[0mprint\u001b[0m\u001b[0;34m(\u001b[0m\u001b[0ma\u001b[0m\u001b[0;34m[\u001b[0m\u001b[0;36m0\u001b[0m\u001b[0;34m]\u001b[0m\u001b[0;34m)\u001b[0m  \u001b[0;31m# Implemented by __getitem__\u001b[0m\u001b[0;34m\u001b[0m\u001b[0m\n\u001b[0;32m----> 2\u001b[0;31m \u001b[0ma\u001b[0m\u001b[0;34m[\u001b[0m\u001b[0;36m0\u001b[0m\u001b[0;34m]\u001b[0m \u001b[0;34m=\u001b[0m \u001b[0;34m\"t\"\u001b[0m  \u001b[0;31m# No can do; strings are immutable.\u001b[0m\u001b[0;34m\u001b[0m\u001b[0m\n\u001b[0m",
      "\u001b[0;31mTypeError\u001b[0m: 'str' object does not support item assignment"
     ]
    }
   ],
   "source": [
    "print(a[0])  # Implemented by __getitem__\n",
    "a[0] = \"t\"  # No can do; strings are immutable."
   ]
  },
  {
   "cell_type": "code",
   "execution_count": 21,
   "metadata": {},
   "outputs": [
    {
     "name": "stdout",
     "output_type": "stream",
     "text": [
      "the cat sat on the mat\n",
      "THE CAT SAT ON THE MAT\n",
      "The cat sat on the mat\n"
     ]
    }
   ],
   "source": [
    "# Some useful functions. Note these all return copies of the string; strings are immutable!\n",
    "print(a.lower())\n",
    "print(a.upper())\n",
    "print(a.capitalize())  # Capitalize first letter"
   ]
  },
  {
   "cell_type": "code",
   "execution_count": 22,
   "metadata": {},
   "outputs": [
    {
     "name": "stdout",
     "output_type": "stream",
     "text": [
      "e cat sat on the mat\n",
      "the mat\n",
      "e ca\n",
      "tectsto h a\n"
     ]
    }
   ],
   "source": [
    "# Like any object that supports __len__ and __getitem__, strings are sliceable.\n",
    "# Slicing uses [start:end] or [start:end:increment] where any of these are optional\n",
    "# start defaults to 0, end to __len__(), and increment to 1. \n",
    "# start and end can be positive (from start of string) or negative (from end of string).\n",
    "\n",
    "print(a[2:])   # skip first two characters\n",
    "print(a[-7:])  # the last 7 characters\n",
    "print(a[2:6])  # 4 characters starting after 2nd character\n",
    "print(a[::2])  # Every second character"
   ]
  },
  {
   "cell_type": "code",
   "execution_count": 23,
   "metadata": {},
   "outputs": [
    {
     "name": "stdout",
     "output_type": "stream",
     "text": [
      "1\n",
      "16\n",
      "4\n",
      "-1\n"
     ]
    }
   ],
   "source": [
    "# Use find and rfind to find first/last occurence of a string; return offset or -1 if not found\n",
    "# You can also use index/rindex which are similar but raise ValueError exception if not found.\n",
    "\n",
    "print(a.find('he'))\n",
    "print(a.rfind('he'))\n",
    "print(a.find('cat'))\n",
    "print(a.find('dog'))"
   ]
  },
  {
   "cell_type": "code",
   "execution_count": 24,
   "metadata": {},
   "outputs": [
    {
     "name": "stdout",
     "output_type": "stream",
     "text": [
      "A\n",
      "65\n"
     ]
    }
   ],
   "source": [
    "# You can convert from character to ordinal or vice-versa with ord() and chr()\n",
    "print(chr(65))\n",
    "print(ord('A'))"
   ]
  },
  {
   "cell_type": "code",
   "execution_count": 25,
   "metadata": {},
   "outputs": [
    {
     "name": "stdout",
     "output_type": "stream",
     "text": [
      "True\n",
      "False\n",
      "False\n"
     ]
    }
   ],
   "source": [
    "# Python has no character type, just string. So functions that would apply to just \n",
    "# a character in other languages apply to entire string in Python.\n",
    "print(\"123\".isdigit())\n",
    "print(\"1X3\".isdigit())\n",
    "print(\"NOOOOooo\".isupper())"
   ]
  },
  {
   "cell_type": "markdown",
   "metadata": {},
   "source": [
    "There are many more string operations available; these are just the basics. You can encode and decode strings using other encodings; see https://docs.python.org/3/howto/unicode.html for details."
   ]
  },
  {
   "cell_type": "markdown",
   "metadata": {},
   "source": [
    "### Lists\n",
    "\n",
    "Lists are ordered, mutable sequences. They can be indexed, sliced (more on that below), appended to, have elements deleted, and sorted. They are heterogeneous. Examples:"
   ]
  },
  {
   "cell_type": "code",
   "execution_count": 26,
   "metadata": {},
   "outputs": [
    {
     "name": "stdout",
     "output_type": "stream",
     "text": [
      "[1, 2, 3, 'cat']\n",
      "4\n",
      "2\n",
      "cat\n"
     ]
    }
   ],
   "source": [
    "a = [1, 2, 3, \"cat\"]\n",
    "\n",
    "print(a)\n",
    "print(len(a))  # len() gives the length of the list\n",
    "print(a[1])  # [] can be used to index in to the list; implemented by list.__getitem__; assignment uses list.__setitem__\n",
    "print(a[-1])  # negative indices can be used to index from the end of the list (-1 for last element)"
   ]
  },
  {
   "cell_type": "code",
   "execution_count": 27,
   "metadata": {},
   "outputs": [
    {
     "name": "stdout",
     "output_type": "stream",
     "text": [
      "[1, 2, 3, 'cat']\n",
      "[1, 2, 3, 'cat', 1, 2, 3, 'cat']\n"
     ]
    }
   ],
   "source": [
    "# * can be used to create multiple concanenated copies of a list; implemented by list.__mul__\n",
    "    \n",
    "print(a)\n",
    "a = a * 2 \n",
    "print(a)"
   ]
  },
  {
   "cell_type": "code",
   "execution_count": 28,
   "metadata": {},
   "outputs": [
    {
     "name": "stdout",
     "output_type": "stream",
     "text": [
      "[1, 2, 3, 'cat', 1, 2, 3, 'cat']\n",
      "True\n",
      "False\n"
     ]
    }
   ],
   "source": [
    "# `in` can be used to check for membership; implemented by list.__contains__\n",
    "\n",
    "print(a)\n",
    "print('cat' in a)  \n",
    "print('dog' in a)"
   ]
  },
  {
   "cell_type": "code",
   "execution_count": 29,
   "metadata": {},
   "outputs": [
    {
     "name": "stdout",
     "output_type": "stream",
     "text": [
      "[1, 2, 3, 'cat', 1, 2, 3, 'cat']\n",
      "['dog', 1, 2, 3, 'cat', 1, 2, 3, 'cat']\n",
      "[1, 2, 3, 'cat', 1, 2, 3, 'cat', 'dog']\n"
     ]
    }
   ],
   "source": [
    "print(a)\n",
    "print(['dog'] + a)  # + can be used to concanetenate lists; implemented by list.__add__\n",
    "a.append('dog')  # append() can be used for concatenating elements\n",
    "print(a)"
   ]
  },
  {
   "cell_type": "code",
   "execution_count": 30,
   "metadata": {},
   "outputs": [
    {
     "name": "stdout",
     "output_type": "stream",
     "text": [
      "[1, 2, 3, 'cat', 1, 2, 3, 'cat', 'dog']\n",
      "8\n",
      "2\n"
     ]
    }
   ],
   "source": [
    "print(a)\n",
    "print(a.index('dog')) # Get index of first matching entry; throws exception if not found\n",
    "print(a.count('cat'))  # Count the number of instances of an element"
   ]
  },
  {
   "cell_type": "code",
   "execution_count": 31,
   "metadata": {},
   "outputs": [
    {
     "name": "stdout",
     "output_type": "stream",
     "text": [
      "[1, 2, 3, 'cat', 1, 2, 3, 'cat', 'dog']\n",
      "[1, 2, 3, 'cat', 1, 2, 3, 'cat']\n"
     ]
    }
   ],
   "source": [
    "print(a)\n",
    "a.remove('dog')  # Remove first matching instance of element\n",
    "print(a)\n",
    "del a[-1]  # Remove element at index; implementedby list.__del__"
   ]
  },
  {
   "cell_type": "code",
   "execution_count": 32,
   "metadata": {},
   "outputs": [
    {
     "name": "stdout",
     "output_type": "stream",
     "text": [
      "[1, 2, 3, 'cat', 1, 2, 3]\n",
      "[3, 2, 1, 'cat', 3, 2, 1]\n"
     ]
    }
   ],
   "source": [
    "# reverse() reverses the order of the list in place; implemented by list.__reversed__\n",
    "print(a)\n",
    "a.reverse()  \n",
    "print(a)"
   ]
  },
  {
   "cell_type": "code",
   "execution_count": 33,
   "metadata": {},
   "outputs": [
    {
     "name": "stdout",
     "output_type": "stream",
     "text": [
      "[3, 2, 1, 'cat', 3, 2, 1]\n",
      "3\n",
      "2\n",
      "1\n",
      "cat\n",
      "3\n",
      "2\n",
      "1\n"
     ]
    }
   ],
   "source": [
    "# for..in iterates over elements\n",
    "    \n",
    "print(a)\n",
    "for elt in a: \n",
    "    print(elt)"
   ]
  },
  {
   "cell_type": "code",
   "execution_count": 34,
   "metadata": {},
   "outputs": [
    {
     "name": "stdout",
     "output_type": "stream",
     "text": [
      "[3, 2, 1, 'cat', 3, 2, 1]\n",
      "Value at index 0 is 3\n",
      "Value at index 1 is 2\n",
      "Value at index 2 is 1\n",
      "Value at index 3 is cat\n",
      "Value at index 4 is 3\n",
      "Value at index 5 is 2\n",
      "Value at index 6 is 1\n"
     ]
    }
   ],
   "source": [
    "# enumerate() will return tuples of index, value\n",
    "print(a)\n",
    "for i, v in enumerate(a):\n",
    "    print(f'Value at index {i} is {v}')  # f'' is a format string that can contain code in {}"
   ]
  },
  {
   "cell_type": "code",
   "execution_count": 35,
   "metadata": {},
   "outputs": [
    {
     "name": "stdout",
     "output_type": "stream",
     "text": [
      "[3, 2, 1, 'cat', 3, 2, 1]\n",
      "True\n",
      "False\n",
      "False\n",
      "True\n"
     ]
    }
   ],
   "source": [
    "b = list(a)  # Makes a shallow copy; can also use b = a.copy()\n",
    "print(b)\n",
    "print(a == b)  # Elementwise comparison; implemented by list.__eq__\n",
    "b[-1] += 1  # Add 1 to last element\n",
    "print(a == b)\n",
    "print(a > b)  # Compares starting from first element; implemented by list.__gt__\n",
    "print(a < b)  # Compares starting from first element; implemented by list.__lt__"
   ]
  },
  {
   "cell_type": "code",
   "execution_count": 36,
   "metadata": {},
   "outputs": [
    {
     "name": "stdout",
     "output_type": "stream",
     "text": [
      "[3, 2, 1, 'cat', 3, 2, 1]\n",
      "[3, 2, 1, 'cat', 3, 2]\n",
      "[2, 1, 'cat', 3, 2]\n"
     ]
    }
   ],
   "source": [
    "print(a)\n",
    "a.pop()  # Removes last element\n",
    "print(a)\n",
    "a.pop(0)  # removes element at index 0\n",
    "print(a)"
   ]
  },
  {
   "cell_type": "code",
   "execution_count": 37,
   "metadata": {},
   "outputs": [
    {
     "data": {
      "text/plain": [
       "'cat,dog'"
      ]
     },
     "execution_count": 37,
     "metadata": {},
     "output_type": "execute_result"
    }
   ],
   "source": [
    "# You can join a list of words into a string\n",
    "','.join(['cat', 'dog'])"
   ]
  },
  {
   "cell_type": "code",
   "execution_count": 38,
   "metadata": {},
   "outputs": [
    {
     "name": "stdout",
     "output_type": "stream",
     "text": [
      "[3, 4, 5, 6]\n",
      "[2, 3]\n",
      "[4, 5, 6]\n",
      "[1, 3, 5]\n"
     ]
    }
   ],
   "source": [
    "# Like any object that supports __len__ and __getitem__, lists are sliceable.\n",
    "# Slicing uses [start:end] or [start:end:increment] where any of these are optional\n",
    "# start defaults to 0, end to __len__(), and increment to 1. \n",
    "# start and end can be positive (from start of string) or negative (from end of string).\n",
    "x = [1, 2, 3, 4, 5, 6]\n",
    "print(x[2:])\n",
    "print(x[1:3])\n",
    "print(x[-3:])\n",
    "print(x[::2])"
   ]
  },
  {
   "cell_type": "code",
   "execution_count": 39,
   "metadata": {},
   "outputs": [
    {
     "name": "stdout",
     "output_type": "stream",
     "text": [
      "[1, 2, 'A', 3, 4, 5, 6]\n",
      "[1, 2, 'A', [1, 2], 3, 4, 5, 6]\n"
     ]
    }
   ],
   "source": [
    "# Use insert() to insert at some position. This is done in-place.\n",
    "x.insert(2, 'A')\n",
    "print(x)\n",
    "x.insert(3, [1, 2])  # Note: insert() is for elements, so [1, 2] is a single element, not expanded\n",
    "print(x)"
   ]
  },
  {
   "cell_type": "code",
   "execution_count": 40,
   "metadata": {},
   "outputs": [
    {
     "name": "stdout",
     "output_type": "stream",
     "text": [
      "[]\n"
     ]
    }
   ],
   "source": [
    "a.clear()  # empty the list\n",
    "print(a)"
   ]
  },
  {
   "cell_type": "markdown",
   "metadata": {},
   "source": [
    "### Dicts\n",
    "\n",
    "Dictionaries are mutable mappings of keys to values. Keys must be hashable, but values can be any object. \n",
    "\n",
    "---\n",
    "_Under the hood_\n",
    "\n",
    "A hashable object is one that defines a `__hash__` dunder-method, and an `__eq__` dunder method; if two objects are equal their hashes must be the same or the results may be unpredictable. \n",
    "\n",
    "---\n"
   ]
  },
  {
   "cell_type": "code",
   "execution_count": 41,
   "metadata": {},
   "outputs": [
    {
     "data": {
      "text/plain": [
       "[{'name': 'Alice', 'phone': '555-123-4567'},\n",
       " {'name': 'Bob', 'phone': '555-987-6543'}]"
      ]
     },
     "execution_count": 41,
     "metadata": {},
     "output_type": "execute_result"
    }
   ],
   "source": [
    "# dict literals (actually a list of dicts in this example)\n",
    "\n",
    "contacts = [\n",
    "    {\n",
    "        'name': 'Alice',\n",
    "        'phone': '555-123-4567'\n",
    "    },\n",
    "    {\n",
    "        'name': 'Bob',\n",
    "        'phone': '555-987-6543'        \n",
    "    }\n",
    "]\n",
    "contacts"
   ]
  },
  {
   "cell_type": "code",
   "execution_count": 42,
   "metadata": {},
   "outputs": [
    {
     "data": {
      "text/plain": [
       "'Alice'"
      ]
     },
     "execution_count": 42,
     "metadata": {},
     "output_type": "execute_result"
    }
   ],
   "source": [
    "# Use [key] to get an item; this calls dict.__getitem__\n",
    "contacts[0]['name']"
   ]
  },
  {
   "cell_type": "code",
   "execution_count": 43,
   "metadata": {},
   "outputs": [
    {
     "data": {
      "text/plain": [
       "{'name': 'Carol', 'phone': '555-123-4567'}"
      ]
     },
     "execution_count": 43,
     "metadata": {},
     "output_type": "execute_result"
    }
   ],
   "source": [
    "# Use dict[key] = value to change an item; this calls dict.__setitem__\n",
    "contacts[0]['name'] = 'Carol'\n",
    "contacts[0]"
   ]
  },
  {
   "cell_type": "code",
   "execution_count": 44,
   "metadata": {},
   "outputs": [
    {
     "ename": "KeyError",
     "evalue": "'address'",
     "output_type": "error",
     "traceback": [
      "\u001b[0;31m---------------------------------------------------------------------------\u001b[0m",
      "\u001b[0;31mKeyError\u001b[0m                                  Traceback (most recent call last)",
      "\u001b[0;32m<ipython-input-44-0a84b14a0ce5>\u001b[0m in \u001b[0;36m<module>\u001b[0;34m()\u001b[0m\n\u001b[1;32m      1\u001b[0m \u001b[0;31m# Trying to use a non-existent key raises an exception\u001b[0m\u001b[0;34m\u001b[0m\u001b[0;34m\u001b[0m\u001b[0m\n\u001b[0;32m----> 2\u001b[0;31m \u001b[0mcontacts\u001b[0m\u001b[0;34m[\u001b[0m\u001b[0;36m0\u001b[0m\u001b[0;34m]\u001b[0m\u001b[0;34m[\u001b[0m\u001b[0;34m'address'\u001b[0m\u001b[0;34m]\u001b[0m\u001b[0;34m\u001b[0m\u001b[0m\n\u001b[0m",
      "\u001b[0;31mKeyError\u001b[0m: 'address'"
     ]
    }
   ],
   "source": [
    "# Trying to use a non-existent key raises an exception\n",
    "contacts[0]['address']"
   ]
  },
  {
   "cell_type": "code",
   "execution_count": 45,
   "metadata": {},
   "outputs": [
    {
     "name": "stdout",
     "output_type": "stream",
     "text": [
      "Carol\n",
      "No address\n"
     ]
    }
   ],
   "source": [
    "# You can avoid above and return a default value by using .get()\n",
    "print(contacts[0].get('name', 'No name'))\n",
    "print(contacts[0].get('address', 'No address'))"
   ]
  },
  {
   "cell_type": "code",
   "execution_count": 46,
   "metadata": {},
   "outputs": [
    {
     "name": "stdout",
     "output_type": "stream",
     "text": [
      "True\n",
      "False\n"
     ]
    }
   ],
   "source": [
    "# Use 'in' to see if a key exists in a dict; this calls dict.__contains__\n",
    "print('name' in contacts[0])\n",
    "print('address' in contacts[0])"
   ]
  },
  {
   "cell_type": "code",
   "execution_count": 47,
   "metadata": {},
   "outputs": [
    {
     "name": "stdout",
     "output_type": "stream",
     "text": [
      "False\n",
      "True\n"
     ]
    }
   ],
   "source": [
    "# Test for equality with '==' and !=; this calls dict.__eq__ and dict.__ne__\n",
    "print(contacts[0] == contacts[1])\n",
    "print(contacts[0] == { 'name': 'Carol', 'phone': '555-123-4567'})"
   ]
  },
  {
   "cell_type": "code",
   "execution_count": 48,
   "metadata": {},
   "outputs": [
    {
     "name": "stdout",
     "output_type": "stream",
     "text": [
      "name\n",
      "phone\n"
     ]
    }
   ],
   "source": [
    "# Use for-in to iterate over items; this calls dict.__iter__\n",
    "\n",
    "for x in contacts[0]:\n",
    "    print(x)"
   ]
  },
  {
   "cell_type": "code",
   "execution_count": 49,
   "metadata": {},
   "outputs": [
    {
     "name": "stdout",
     "output_type": "stream",
     "text": [
      "2\n"
     ]
    }
   ],
   "source": [
    "# Use len() to get number of items; this calls dict.__len__\n",
    "\n",
    "print(len(contacts[0]))"
   ]
  },
  {
   "cell_type": "code",
   "execution_count": 50,
   "metadata": {},
   "outputs": [],
   "source": [
    "# Use 'del' to delete a key from a dict; this calls dict.__delitem__"
   ]
  },
  {
   "cell_type": "code",
   "execution_count": 51,
   "metadata": {},
   "outputs": [
    {
     "data": {
      "text/plain": [
       "{}"
      ]
     },
     "execution_count": 51,
     "metadata": {},
     "output_type": "execute_result"
    }
   ],
   "source": [
    "# Use .clear() to empty dict (without changing references)\n",
    "\n",
    "a = {'name': 'me'}\n",
    "b = a\n",
    "a.clear()\n",
    "b"
   ]
  },
  {
   "cell_type": "code",
   "execution_count": 52,
   "metadata": {},
   "outputs": [
    {
     "data": {
      "text/plain": [
       "{'name': 'me'}"
      ]
     },
     "execution_count": 52,
     "metadata": {},
     "output_type": "execute_result"
    }
   ],
   "source": [
    "# Contrast above with assigning empty dict\n",
    "a = {'name': 'me'}\n",
    "b = a\n",
    "a = {}\n",
    "b"
   ]
  },
  {
   "cell_type": "code",
   "execution_count": 53,
   "metadata": {},
   "outputs": [],
   "source": [
    "# Use .keys(), .values() or .items() to get the keys, values, or both"
   ]
  },
  {
   "cell_type": "markdown",
   "metadata": {},
   "source": [
    "There are some alternative implementations in the `collections` module; you won't need these now but they may come in handy in the future, especially the first two:\n",
    "\n",
    "* `collections.OrderedDict`s remember the order of insertion so this is preserved when iterating over the entries or keys\n",
    "* `collections.defaultdict`s can specify a type in the constructor whose return value will be used if an entry can't be found\n",
    "* `collections.ChainMap`s group multiple dictionaries into a single item for lookups; inserts go in the first dictionary"
   ]
  },
  {
   "cell_type": "markdown",
   "metadata": {},
   "source": [
    "### Sets\n",
    "\n",
    "A set is a mutable unordered collection that cannot contain duplicates. Sets are used to remove duplicates and test for membership. One use for sets is to quickly see differences. For example, if you have two dicts and want to see what keys are in one but not the other:"
   ]
  },
  {
   "cell_type": "code",
   "execution_count": 54,
   "metadata": {},
   "outputs": [
    {
     "data": {
      "text/plain": [
       "{'drink'}"
      ]
     },
     "execution_count": 54,
     "metadata": {},
     "output_type": "execute_result"
    }
   ],
   "source": [
    "a = {'food': 'ham', 'drink': 'soda', 'desert': 'ice cream'}\n",
    "b = {'food': 'tofu', 'desert': 'cake'}\n",
    "\n",
    "set(a) - set(b)"
   ]
  },
  {
   "cell_type": "markdown",
   "metadata": {},
   "source": [
    "Sets are less commonly used than lists and dicts and we will not discuss them further here. You can read more here: https://docs.python.org/3/library/stdtypes.html#set-types-set-frozenset"
   ]
  },
  {
   "cell_type": "markdown",
   "metadata": {},
   "source": [
    "### Tuples\n",
    "\n",
    "Tuples are immutable sequences. Typically they are used to store record type data, or to return multiple values from a function. Tuples behave a lot like lists and support many of the same operations with similar behavior, aside from their immutability. We'll consider them briefly here.\n",
    "\n",
    "The `collections` package defines a variant `namedtuple` which allows each field to be given a name; we won't go into that here other than to point out its existence. `collections` also defines a `deque` class; stacks are easy to implement just with the built-in list type."
   ]
  },
  {
   "cell_type": "code",
   "execution_count": 55,
   "metadata": {},
   "outputs": [
    {
     "data": {
      "text/plain": [
       "('dog', 'canine')"
      ]
     },
     "execution_count": 55,
     "metadata": {},
     "output_type": "execute_result"
    }
   ],
   "source": [
    "('dog', 'canine')  # tuple"
   ]
  },
  {
   "cell_type": "code",
   "execution_count": 56,
   "metadata": {},
   "outputs": [
    {
     "data": {
      "text/plain": [
       "'dog'"
      ]
     },
     "execution_count": 56,
     "metadata": {},
     "output_type": "execute_result"
    }
   ],
   "source": [
    "('dog')  # Not a tuple! This is just a string in parens"
   ]
  },
  {
   "cell_type": "code",
   "execution_count": 57,
   "metadata": {},
   "outputs": [
    {
     "data": {
      "text/plain": [
       "('dog',)"
      ]
     },
     "execution_count": 57,
     "metadata": {},
     "output_type": "execute_result"
    }
   ],
   "source": [
    "('dog',)  # For a single-valued tuple, use a trailing comma to avoid above issue"
   ]
  },
  {
   "cell_type": "code",
   "execution_count": 58,
   "metadata": {},
   "outputs": [
    {
     "data": {
      "text/plain": [
       "('dog',)"
      ]
     },
     "execution_count": 58,
     "metadata": {},
     "output_type": "execute_result"
    }
   ],
   "source": [
    "'dog',  # Parentheses are often optional"
   ]
  },
  {
   "cell_type": "code",
   "execution_count": 59,
   "metadata": {},
   "outputs": [
    {
     "name": "stdout",
     "output_type": "stream",
     "text": [
      "dog\n",
      "canine\n",
      "dog\n",
      "dog\n"
     ]
    },
    {
     "ename": "IndexError",
     "evalue": "tuple index out of range",
     "output_type": "error",
     "traceback": [
      "\u001b[0;31m---------------------------------------------------------------------------\u001b[0m",
      "\u001b[0;31mIndexError\u001b[0m                                Traceback (most recent call last)",
      "\u001b[0;32m<ipython-input-59-c2e4b522d95a>\u001b[0m in \u001b[0;36m<module>\u001b[0;34m()\u001b[0m\n\u001b[1;32m      4\u001b[0m \u001b[0mprint\u001b[0m\u001b[0;34m(\u001b[0m\u001b[0;34m(\u001b[0m\u001b[0;34m'dog'\u001b[0m\u001b[0;34m,\u001b[0m \u001b[0;34m'canine'\u001b[0m\u001b[0;34m)\u001b[0m\u001b[0;34m[\u001b[0m\u001b[0;34m-\u001b[0m\u001b[0;36m2\u001b[0m\u001b[0;34m]\u001b[0m\u001b[0;34m)\u001b[0m\u001b[0;34m\u001b[0m\u001b[0m\n\u001b[1;32m      5\u001b[0m \u001b[0mprint\u001b[0m\u001b[0;34m(\u001b[0m\u001b[0;34m(\u001b[0m\u001b[0;34m'dog'\u001b[0m\u001b[0;34m,\u001b[0m\u001b[0;34m)\u001b[0m\u001b[0;34m[\u001b[0m\u001b[0;36m0\u001b[0m\u001b[0;34m]\u001b[0m\u001b[0;34m)\u001b[0m\u001b[0;34m\u001b[0m\u001b[0m\n\u001b[0;32m----> 6\u001b[0;31m \u001b[0mprint\u001b[0m\u001b[0;34m(\u001b[0m\u001b[0;34m(\u001b[0m\u001b[0;34m'dog'\u001b[0m\u001b[0;34m,\u001b[0m\u001b[0;34m)\u001b[0m\u001b[0;34m[\u001b[0m\u001b[0;36m1\u001b[0m\u001b[0;34m]\u001b[0m\u001b[0;34m)\u001b[0m\u001b[0;34m\u001b[0m\u001b[0m\n\u001b[0m",
      "\u001b[0;31mIndexError\u001b[0m: tuple index out of range"
     ]
    }
   ],
   "source": [
    "# Indexing can be used to get at elements, much like lists\n",
    "print(('dog', 'canine')[0])\n",
    "print(('dog', 'canine')[1])\n",
    "print(('dog', 'canine')[-2])\n",
    "print(('dog',)[0])\n",
    "print(('dog',)[1])"
   ]
  },
  {
   "cell_type": "code",
   "execution_count": 60,
   "metadata": {},
   "outputs": [
    {
     "name": "stdout",
     "output_type": "stream",
     "text": [
      "dog\n",
      "bone\n"
     ]
    }
   ],
   "source": [
    "# We can unpack a tuple through assignment to multiple variables\n",
    "a = ('dog', 'bone')\n",
    "animal, toy = a\n",
    "print(animal)\n",
    "print(toy)"
   ]
  },
  {
   "cell_type": "code",
   "execution_count": 61,
   "metadata": {},
   "outputs": [
    {
     "ename": "ValueError",
     "evalue": "not enough values to unpack (expected 3, got 2)",
     "output_type": "error",
     "traceback": [
      "\u001b[0;31m---------------------------------------------------------------------------\u001b[0m",
      "\u001b[0;31mValueError\u001b[0m                                Traceback (most recent call last)",
      "\u001b[0;32m<ipython-input-61-fee6f9af1778>\u001b[0m in \u001b[0;36m<module>\u001b[0;34m()\u001b[0m\n\u001b[1;32m      1\u001b[0m \u001b[0;31m# But need to ensure we use the right number of variables\u001b[0m\u001b[0;34m\u001b[0m\u001b[0;34m\u001b[0m\u001b[0m\n\u001b[1;32m      2\u001b[0m \u001b[0ma\u001b[0m \u001b[0;34m=\u001b[0m \u001b[0;34m(\u001b[0m\u001b[0;34m'dog'\u001b[0m\u001b[0;34m,\u001b[0m \u001b[0;34m'bone'\u001b[0m\u001b[0;34m)\u001b[0m\u001b[0;34m\u001b[0m\u001b[0m\n\u001b[0;32m----> 3\u001b[0;31m \u001b[0manimal\u001b[0m\u001b[0;34m,\u001b[0m \u001b[0mtoy\u001b[0m\u001b[0;34m,\u001b[0m \u001b[0mplace\u001b[0m \u001b[0;34m=\u001b[0m \u001b[0ma\u001b[0m\u001b[0;34m\u001b[0m\u001b[0m\n\u001b[0m",
      "\u001b[0;31mValueError\u001b[0m: not enough values to unpack (expected 3, got 2)"
     ]
    }
   ],
   "source": [
    "# But need to ensure we use the right number of variables\n",
    "a = ('dog', 'bone')\n",
    "animal, toy, place = a"
   ]
  },
  {
   "cell_type": "code",
   "execution_count": 62,
   "metadata": {},
   "outputs": [
    {
     "ename": "ValueError",
     "evalue": "too many values to unpack (expected 2)",
     "output_type": "error",
     "traceback": [
      "\u001b[0;31m---------------------------------------------------------------------------\u001b[0m",
      "\u001b[0;31mValueError\u001b[0m                                Traceback (most recent call last)",
      "\u001b[0;32m<ipython-input-62-fff6c985f996>\u001b[0m in \u001b[0;36m<module>\u001b[0;34m()\u001b[0m\n\u001b[1;32m      1\u001b[0m \u001b[0ma\u001b[0m \u001b[0;34m=\u001b[0m \u001b[0;34m(\u001b[0m\u001b[0;34m'dog'\u001b[0m\u001b[0;34m,\u001b[0m \u001b[0;34m'bone'\u001b[0m\u001b[0;34m,\u001b[0m \u001b[0;34m'house'\u001b[0m\u001b[0;34m)\u001b[0m\u001b[0;34m\u001b[0m\u001b[0m\n\u001b[0;32m----> 2\u001b[0;31m \u001b[0manimal\u001b[0m\u001b[0;34m,\u001b[0m \u001b[0mtoy\u001b[0m \u001b[0;34m=\u001b[0m \u001b[0ma\u001b[0m\u001b[0;34m\u001b[0m\u001b[0m\n\u001b[0m",
      "\u001b[0;31mValueError\u001b[0m: too many values to unpack (expected 2)"
     ]
    }
   ],
   "source": [
    "a = ('dog', 'bone', 'house')\n",
    "animal, toy = a"
   ]
  },
  {
   "cell_type": "code",
   "execution_count": 63,
   "metadata": {},
   "outputs": [
    {
     "name": "stdout",
     "output_type": "stream",
     "text": [
      "1 2\n",
      "2 1\n"
     ]
    }
   ],
   "source": [
    "# Tuples allow us to do a neat trick in Python that is harder in many languages - swap two values without using a\n",
    "# temporary intermediate.\n",
    "# Note what is going on here: the RHS of the assignment is creating a tuple; the LHS is unpacking the tuple.\n",
    "\n",
    "a = 1\n",
    "b = 2\n",
    "print(a,b)\n",
    "a, b = b, a\n",
    "print(a,b)"
   ]
  },
  {
   "cell_type": "markdown",
   "metadata": {},
   "source": [
    "### Exercise\n",
    "\n",
    "Earlier we defined a function `add` that takes two parameters and applies the + operator to them, which in turn calls the `__add__` dunder-method on the first argument, passing the second argument as a parameter.\n",
    "\n",
    "Try some experiments with calling add on different types and mixtures of arguments so you get some idea of what types have and `__add__` dunder method and what types of arguments each can sensibly handle."
   ]
  },
  {
   "cell_type": "markdown",
   "metadata": {},
   "source": [
    "## Some built-in Functions\n",
    "\n",
    "See https://docs.python.org/3.6/library/functions.html for a full list and more details.\n",
    "\n",
    "`abs(num)` - Return absolute value"
   ]
  },
  {
   "cell_type": "code",
   "execution_count": 64,
   "metadata": {},
   "outputs": [
    {
     "name": "stdout",
     "output_type": "stream",
     "text": [
      "3\n",
      "3\n"
     ]
    }
   ],
   "source": [
    "print(abs(3))\n",
    "print(abs(-3))"
   ]
  },
  {
   "cell_type": "markdown",
   "metadata": {},
   "source": [
    "`all(iterable)` - returns True if all items in the iterable are True"
   ]
  },
  {
   "cell_type": "code",
   "execution_count": 65,
   "metadata": {},
   "outputs": [
    {
     "name": "stdout",
     "output_type": "stream",
     "text": [
      "True\n",
      "False\n"
     ]
    }
   ],
   "source": [
    "print(all([True, True, True]))\n",
    "print(all([True, False, True]))"
   ]
  },
  {
   "cell_type": "markdown",
   "metadata": {},
   "source": [
    "`any(iterable)` - returns True is any item in the iterable is True."
   ]
  },
  {
   "cell_type": "code",
   "execution_count": 66,
   "metadata": {},
   "outputs": [
    {
     "name": "stdout",
     "output_type": "stream",
     "text": [
      "False\n",
      "True\n"
     ]
    }
   ],
   "source": [
    "print(any([False, False]))\n",
    "print(any([False, True]))"
   ]
  },
  {
   "cell_type": "markdown",
   "metadata": {},
   "source": [
    "`filter(fn, iter)` - construct an iterator from the elements of iterable object `iter` for which a function `fn` returns true."
   ]
  },
  {
   "cell_type": "code",
   "execution_count": 67,
   "metadata": {},
   "outputs": [
    {
     "name": "stdout",
     "output_type": "stream",
     "text": [
      "Alan Alda\n"
     ]
    }
   ],
   "source": [
    "names = [\"John Smith\", \"Alan Alda\"]\n",
    "\n",
    "# Get the names that start and end with same letter\n",
    "for i in filter(lambda s: s[0].upper() == s[-1].upper(), names):\n",
    "    print(i)"
   ]
  },
  {
   "cell_type": "markdown",
   "metadata": {},
   "source": [
    "`input` - get input from the console"
   ]
  },
  {
   "cell_type": "code",
   "execution_count": 68,
   "metadata": {},
   "outputs": [
    {
     "name": "stdout",
     "output_type": "stream",
     "text": [
      "What is your name?Graham\n",
      "Hello Graham!\n"
     ]
    }
   ],
   "source": [
    "n = input(\"What is your name?\")\n",
    "print(f'Hello {n}!')"
   ]
  },
  {
   "cell_type": "markdown",
   "metadata": {},
   "source": [
    "`isinstance` - check if an object has a certain type"
   ]
  },
  {
   "cell_type": "code",
   "execution_count": 69,
   "metadata": {},
   "outputs": [
    {
     "name": "stdout",
     "output_type": "stream",
     "text": [
      "False\n",
      "True\n",
      "True\n",
      "False\n"
     ]
    }
   ],
   "source": [
    "s = 'abc'\n",
    "n = 123\n",
    "print(isinstance(s, int))\n",
    "print(isinstance(s, str))\n",
    "print(isinstance(n, int))\n",
    "print(isinstance(n, str))"
   ]
  },
  {
   "cell_type": "markdown",
   "metadata": {},
   "source": [
    "`iter` - create an sequential iterable from an object; we will discuss iterables later"
   ]
  },
  {
   "cell_type": "code",
   "execution_count": 70,
   "metadata": {},
   "outputs": [
    {
     "name": "stdout",
     "output_type": "stream",
     "text": [
      "<list_iterator object at 0x10ff53978>\n",
      "Before first next()\n",
      "1\n",
      "Before second next()\n",
      "2\n",
      "After second next()\n",
      "3\n",
      "4\n"
     ]
    }
   ],
   "source": [
    "x = iter([1, 2, 3, 4])\n",
    "print(x)\n",
    "print(\"Before first next()\")\n",
    "print(next(x))  # returns first item and advances\n",
    "print(\"Before second next()\")\n",
    "print(next(x))  # returns second item and advances\n",
    "print(\"After second next()\")\n",
    "for v in x:  # iterates through remaining items\n",
    "    print(v)"
   ]
  },
  {
   "cell_type": "markdown",
   "metadata": {},
   "source": [
    "`len` - calls the object's `__len__` method to get the length.\n",
    "\n",
    "`map` - similar to `filter` but returns an iterable with the results of applying the function"
   ]
  },
  {
   "cell_type": "code",
   "execution_count": 71,
   "metadata": {},
   "outputs": [
    {
     "name": "stdout",
     "output_type": "stream",
     "text": [
      "[False, True]\n"
     ]
    }
   ],
   "source": [
    "names = [\"John Smith\", \"Alan Alda\"]\n",
    "\n",
    "# Get a list of bools, one for each name, specifying if the name starts and ends with the same letter.\n",
    "print(list(map(lambda s: s[0].upper() == s[-1].upper(), names)))"
   ]
  },
  {
   "cell_type": "markdown",
   "metadata": {},
   "source": [
    "`max(arg1,...)` - returns the largest arg. If a single iterable arg is given it will iterate.\n",
    "\n",
    "`min(arg1, ...)` - returns the smallest arg"
   ]
  },
  {
   "cell_type": "code",
   "execution_count": 72,
   "metadata": {},
   "outputs": [
    {
     "name": "stdout",
     "output_type": "stream",
     "text": [
      "3\n",
      "3\n"
     ]
    },
    {
     "ename": "TypeError",
     "evalue": "'>' not supported between instances of 'int' and 'list'",
     "output_type": "error",
     "traceback": [
      "\u001b[0;31m---------------------------------------------------------------------------\u001b[0m",
      "\u001b[0;31mTypeError\u001b[0m                                 Traceback (most recent call last)",
      "\u001b[0;32m<ipython-input-72-5ebfda590ac7>\u001b[0m in \u001b[0;36m<module>\u001b[0;34m()\u001b[0m\n\u001b[1;32m      1\u001b[0m \u001b[0mprint\u001b[0m\u001b[0;34m(\u001b[0m\u001b[0mmax\u001b[0m\u001b[0;34m(\u001b[0m\u001b[0;36m2\u001b[0m\u001b[0;34m,\u001b[0m \u001b[0;36m3\u001b[0m\u001b[0;34m,\u001b[0m \u001b[0;36m1\u001b[0m\u001b[0;34m)\u001b[0m\u001b[0;34m)\u001b[0m  \u001b[0;31m# Multiple scalar args\u001b[0m\u001b[0;34m\u001b[0m\u001b[0m\n\u001b[1;32m      2\u001b[0m \u001b[0mprint\u001b[0m\u001b[0;34m(\u001b[0m\u001b[0mmax\u001b[0m\u001b[0;34m(\u001b[0m\u001b[0;34m[\u001b[0m\u001b[0;36m3\u001b[0m\u001b[0;34m,\u001b[0m \u001b[0;36m2\u001b[0m\u001b[0;34m,\u001b[0m \u001b[0;36m1\u001b[0m\u001b[0;34m]\u001b[0m\u001b[0;34m)\u001b[0m\u001b[0;34m)\u001b[0m \u001b[0;31m# Single list arg\u001b[0m\u001b[0;34m\u001b[0m\u001b[0m\n\u001b[0;32m----> 3\u001b[0;31m \u001b[0mprint\u001b[0m\u001b[0;34m(\u001b[0m\u001b[0mmax\u001b[0m\u001b[0;34m(\u001b[0m\u001b[0;34m[\u001b[0m\u001b[0;36m3\u001b[0m\u001b[0;34m,\u001b[0m \u001b[0;36m2\u001b[0m\u001b[0;34m,\u001b[0m \u001b[0;36m1\u001b[0m\u001b[0;34m]\u001b[0m\u001b[0;34m,\u001b[0m \u001b[0;36m4\u001b[0m\u001b[0;34m)\u001b[0m\u001b[0;34m)\u001b[0m  \u001b[0;31m# Not allowed\u001b[0m\u001b[0;34m\u001b[0m\u001b[0m\n\u001b[0m",
      "\u001b[0;31mTypeError\u001b[0m: '>' not supported between instances of 'int' and 'list'"
     ]
    }
   ],
   "source": [
    "print(max(2, 3, 1))  # Multiple scalar args\n",
    "print(max([3, 2, 1])) # Single list arg\n",
    "print(max([3, 2, 1], 4))  # Not allowed"
   ]
  },
  {
   "cell_type": "markdown",
   "metadata": {},
   "source": [
    "`next` - gets next item from an iterable; see the section on iterables and example for `iter` above.\n",
    "\n",
    "`repr` - calls the object `__repr__` method to get a string representation. This is the *formal* representation while `__str__` returns the *informal* representation. Another way of thinking about this is that `__str__` returns the value of the object when used as a string, while `__repr__` returns a printable representation of the object's state. In Jupyter, when displaying an object, `__repr__` will be used if possible, with `__str__` used as a fallback. \n",
    "\n",
    "`reversed` - makes a copy of the object with items in reversed order (object must support `__len__` and `__getitem__`)"
   ]
  },
  {
   "cell_type": "markdown",
   "metadata": {},
   "source": [
    "`round` - rounds number to some number of decimal places (default 0)"
   ]
  },
  {
   "cell_type": "code",
   "execution_count": 73,
   "metadata": {},
   "outputs": [
    {
     "name": "stdout",
     "output_type": "stream",
     "text": [
      "3\n",
      "3.142\n"
     ]
    }
   ],
   "source": [
    "pi = 3.1415927\n",
    "print(round(pi))\n",
    "print(round(pi, 3))"
   ]
  },
  {
   "cell_type": "markdown",
   "metadata": {},
   "source": [
    "`sorted(list)` - returns a sorted version of the list."
   ]
  },
  {
   "cell_type": "code",
   "execution_count": 74,
   "metadata": {},
   "outputs": [
    {
     "name": "stdout",
     "output_type": "stream",
     "text": [
      "[1, 3, 3]\n"
     ]
    }
   ],
   "source": [
    "print(sorted([3, 1, 3]))"
   ]
  },
  {
   "cell_type": "markdown",
   "metadata": {},
   "source": [
    "`sum(iterable)` - returns the sum of the iterable"
   ]
  },
  {
   "cell_type": "code",
   "execution_count": 75,
   "metadata": {},
   "outputs": [
    {
     "name": "stdout",
     "output_type": "stream",
     "text": [
      "6\n"
     ]
    }
   ],
   "source": [
    "print(sum([1, 2, 3]))"
   ]
  },
  {
   "cell_type": "markdown",
   "metadata": {},
   "source": [
    "`type(obj)` - return the type of an object"
   ]
  },
  {
   "cell_type": "code",
   "execution_count": 76,
   "metadata": {},
   "outputs": [
    {
     "name": "stdout",
     "output_type": "stream",
     "text": [
      "<class 'str'>\n"
     ]
    }
   ],
   "source": [
    "print(type('foo'))"
   ]
  },
  {
   "cell_type": "markdown",
   "metadata": {},
   "source": [
    "`zip(list, ...)` - combines multiple lists into a single list of tuples. Note this returns a lazy iterable, not a list"
   ]
  },
  {
   "cell_type": "code",
   "execution_count": 77,
   "metadata": {},
   "outputs": [
    {
     "name": "stdout",
     "output_type": "stream",
     "text": [
      "<zip object at 0x10fcdc408>\n",
      "[('a', 1), ('b', 2), ('c', 3)]\n"
     ]
    }
   ],
   "source": [
    "print(zip(['a', 'b', 'c'], [1, 2, 3]))\n",
    "print(list(zip(['a', 'b', 'c'], [1, 2, 3])))  # instantiates the iterable as a list"
   ]
  },
  {
   "cell_type": "markdown",
   "metadata": {},
   "source": [
    "## String Formatting\n",
    "\n",
    "String formatting has evolved over time with Python. Python 3.6 introduced \"format strings\" which allow code to be directly embedded in the string. This is an improvement over older approaches and we will use it extensively.\n",
    "Format strings have an `f` prefix and include code in `{}`. For example:"
   ]
  },
  {
   "cell_type": "code",
   "execution_count": 78,
   "metadata": {},
   "outputs": [
    {
     "name": "stdout",
     "output_type": "stream",
     "text": [
      "2 x 10 = 20\n"
     ]
    }
   ],
   "source": [
    "a = 10\n",
    "print(f\"2 x {a} = {2*a}\")"
   ]
  },
  {
   "cell_type": "markdown",
   "metadata": {},
   "source": [
    "If you need to use the old approaches, there are a lot of details here: https://pyformat.info/ (this doesn't seem to cover format strings yet though). That site covers things like padding, justification, truncation, leading zeroes, fixing number of decimal places, etc. We won't cover these here except the latter:"
   ]
  },
  {
   "cell_type": "code",
   "execution_count": 79,
   "metadata": {},
   "outputs": [
    {
     "name": "stdout",
     "output_type": "stream",
     "text": [
      "1.23456\n",
      "1.23\n",
      "001.23\n"
     ]
    }
   ],
   "source": [
    "a = 1.23456\n",
    "print(a)\n",
    "print(f'{a:.2f}')  # Float restricted to two decimal places\n",
    "print(f'{a:06.2f}')  # Float restricted to two decimal places and padded with leading zeroes if less than 6 chars"
   ]
  },
  {
   "cell_type": "markdown",
   "metadata": {},
   "source": [
    "When you use `f'{a}'`, Python will look in turn for a `__format__`, a `__repr__` or a `__str__` method to call to get the string representation of `a`. You can force it to use `__repr__` with `f'{a!r}'` or to use `__str__` with `f'{a!s}'`."
   ]
  },
  {
   "cell_type": "markdown",
   "metadata": {},
   "source": [
    "### Exercise\n",
    "\n",
    "Define a function that takes an argument, and sees if the results of calling `__repr__` vs `__str__` are the same; if not, the function should print a message showing the difference. Experiment with calling this function with a few different types of arguments."
   ]
  },
  {
   "cell_type": "code",
   "execution_count": null,
   "metadata": {},
   "outputs": [],
   "source": []
  },
  {
   "cell_type": "markdown",
   "metadata": {},
   "source": [
    "## Sorting\n",
    "\n",
    "We've already seen the `sorted` function, that can create a sorted list from any iterable:"
   ]
  },
  {
   "cell_type": "code",
   "execution_count": 80,
   "metadata": {},
   "outputs": [
    {
     "name": "stdout",
     "output_type": "stream",
     "text": [
      "1\n",
      "2\n",
      "3\n",
      "4\n",
      "5\n",
      "7\n"
     ]
    }
   ],
   "source": [
    "d = [3,5,2,4,1,7]\n",
    "for i in sorted(d):\n",
    "    print(i)"
   ]
  },
  {
   "cell_type": "markdown",
   "metadata": {},
   "source": [
    "You can do a descending sort by adding a `reverse=True` argument:"
   ]
  },
  {
   "cell_type": "code",
   "execution_count": 81,
   "metadata": {},
   "outputs": [
    {
     "name": "stdout",
     "output_type": "stream",
     "text": [
      "7\n",
      "5\n",
      "4\n",
      "3\n",
      "2\n",
      "1\n"
     ]
    }
   ],
   "source": [
    "for i in sorted(d, reverse=True):\n",
    "    print(i)"
   ]
  },
  {
   "cell_type": "markdown",
   "metadata": {},
   "source": [
    "You can sort a list in place with `sort`, but this only applies to lists:"
   ]
  },
  {
   "cell_type": "code",
   "execution_count": 82,
   "metadata": {},
   "outputs": [
    {
     "name": "stdout",
     "output_type": "stream",
     "text": [
      "[3, 5, 2, 4, 1, 7]\n",
      "[1, 2, 3, 4, 5, 7]\n"
     ]
    }
   ],
   "source": [
    "print(d)\n",
    "d.sort()\n",
    "print(d)"
   ]
  },
  {
   "cell_type": "markdown",
   "metadata": {},
   "source": [
    "You can read more about sorting here, including how to sort composite objects like dictionaries, tuples and nested lists, and by multiple keys: https://docs.python.org/3/howto/sorting.html"
   ]
  },
  {
   "cell_type": "markdown",
   "metadata": {},
   "source": [
    "### Exercise\n",
    "\n",
    "Define a function that takes a single argument, and returns `True` if the argument is already sorted. Stretch: if not sorted, print out the first mismatch. Note: if you are struggling skip this exercise for now and return to it later after we have covered things like Python statements and exceptions."
   ]
  },
  {
   "cell_type": "code",
   "execution_count": null,
   "metadata": {},
   "outputs": [],
   "source": []
  },
  {
   "cell_type": "markdown",
   "metadata": {},
   "source": [
    "## Statements\n",
    "\n",
    "Here we will consider statements. We'll leave some statements to when we get to exceptions, functions and classes.\n",
    "\n",
    "For more info on statements see https://docs.python.org/3/reference/simple_stmts.html"
   ]
  },
  {
   "cell_type": "markdown",
   "metadata": {},
   "source": [
    "### pass\n",
    "\n",
    "The `pass` statement is a no-op. This is needed in Python as the language doesn't use braces, so it is the equivalent of `{}` in Java- or C-like languages.\n",
    "\n",
    "### del\n",
    "\n",
    "`del` is used to delete an object; it isn't used much but can be useful if the object uses a lot of memory to allow it to be garbage-collected.\n",
    "\n",
    "### for, break and continue\n",
    "\n",
    "You can loop over any iterable with `for...in`. `break` and `continue` are supported, and behave in the expected fashion."
   ]
  },
  {
   "cell_type": "code",
   "execution_count": 83,
   "metadata": {},
   "outputs": [
    {
     "name": "stdout",
     "output_type": "stream",
     "text": [
      "green eggs\n",
      "ham\n"
     ]
    }
   ],
   "source": [
    "for i in ['green eggs', 'ham']:\n",
    "    print(i)"
   ]
  },
  {
   "cell_type": "code",
   "execution_count": 84,
   "metadata": {},
   "outputs": [
    {
     "name": "stdout",
     "output_type": "stream",
     "text": [
      "g\n",
      "r\n",
      "e\n",
      "e\n",
      "n\n",
      " \n",
      "e\n",
      "g\n",
      "g\n",
      "s\n"
     ]
    }
   ],
   "source": [
    "for i in 'green eggs':\n",
    "    print(i)"
   ]
  },
  {
   "cell_type": "code",
   "execution_count": 85,
   "metadata": {},
   "outputs": [
    {
     "name": "stdout",
     "output_type": "stream",
     "text": [
      "a\n",
      "b\n"
     ]
    }
   ],
   "source": [
    "for i in {'a': 1, 'b': 2}: # This will loop over keys\n",
    "    print(i)"
   ]
  },
  {
   "cell_type": "code",
   "execution_count": 86,
   "metadata": {},
   "outputs": [
    {
     "name": "stdout",
     "output_type": "stream",
     "text": [
      "1\n",
      "2\n"
     ]
    }
   ],
   "source": [
    "for i in {'a': 1, 'b': 2}.values(): # This will loop over values\n",
    "    print(i)"
   ]
  },
  {
   "cell_type": "code",
   "execution_count": 87,
   "metadata": {},
   "outputs": [
    {
     "name": "stdout",
     "output_type": "stream",
     "text": [
      "('a', 1)\n",
      "('b', 2)\n"
     ]
    }
   ],
   "source": [
    "for i in {'a': 1, 'b': 2}.items():  # This will loop over key-value pairs as tuples\n",
    "    print(i)"
   ]
  },
  {
   "cell_type": "code",
   "execution_count": 88,
   "metadata": {},
   "outputs": [
    {
     "name": "stdout",
     "output_type": "stream",
     "text": [
      "1\n",
      "2\n",
      "3\n"
     ]
    }
   ],
   "source": [
    "for i in [1, 2, 3]:\n",
    "    print(i)"
   ]
  },
  {
   "cell_type": "code",
   "execution_count": 89,
   "metadata": {},
   "outputs": [
    {
     "name": "stdout",
     "output_type": "stream",
     "text": [
      "(0, 1)\n",
      "(1, 2)\n",
      "(2, 3)\n"
     ]
    }
   ],
   "source": [
    "for i in enumerate([1, 2, 3]):  # Returns (index, value) tuples\n",
    "    print(i)"
   ]
  },
  {
   "cell_type": "code",
   "execution_count": 90,
   "metadata": {},
   "outputs": [
    {
     "name": "stdout",
     "output_type": "stream",
     "text": [
      "At position 0 we have value 1\n",
      "At position 1 we have value 2\n",
      "At position 2 we have value 3\n"
     ]
    }
   ],
   "source": [
    "for index, value in enumerate([1, 2, 3]):  # We can unpack the (index, value) tuples\n",
    "    print(f'At position {index} we have value {value}')"
   ]
  },
  {
   "cell_type": "code",
   "execution_count": 91,
   "metadata": {},
   "outputs": [
    {
     "name": "stdout",
     "output_type": "stream",
     "text": [
      "1\n",
      "2\n",
      "3\n",
      "4\n",
      "5\n",
      "6\n",
      "7\n",
      "8\n",
      "9\n"
     ]
    }
   ],
   "source": [
    "for i in range(1, 10):\n",
    "    print(i)"
   ]
  },
  {
   "cell_type": "code",
   "execution_count": 92,
   "metadata": {},
   "outputs": [
    {
     "name": "stdout",
     "output_type": "stream",
     "text": [
      "1\n",
      "3\n",
      "5\n",
      "7\n",
      "9\n"
     ]
    }
   ],
   "source": [
    "for i in range(1, 10, 2):\n",
    "    print(i)"
   ]
  },
  {
   "cell_type": "markdown",
   "metadata": {},
   "source": [
    "Python has an unusual construct: for..else. The else part is executed if there was no early break from the loop.\n",
    "\n",
    "This is a common construct in other languages:\n",
    "\n",
    "```python\n",
    "    # See if the list has an even number and then take an action.\n",
    "    has_even_number = False\n",
    "    for elt in [1, 2, 3]:\n",
    "        if elt % 2 == 0:\n",
    "            has_even_number = True\n",
    "            break\n",
    "    if not has_even_number:\n",
    "        print \"list has no even numbers\"\n",
    "```\n",
    "\n",
    "but in Python, we can just do:\n",
    "\n",
    "```python\n",
    "    for elt in [1, 2, 3]:\n",
    "        if elt % 2 == 0:\n",
    "            break\n",
    "    else:\n",
    "        print \"list has no even numbers\"\n",
    "```\n",
    "\n",
    "I.e. the `else` statement will be executed if the loop completes normally (does not exit through a `break`)."
   ]
  },
  {
   "cell_type": "markdown",
   "metadata": {},
   "source": [
    "### while\n",
    "\n",
    "`while` loops are very straighforward:"
   ]
  },
  {
   "cell_type": "code",
   "execution_count": 93,
   "metadata": {},
   "outputs": [
    {
     "name": "stdout",
     "output_type": "stream",
     "text": [
      "0\n",
      "2\n",
      "4\n",
      "6\n",
      "8\n"
     ]
    }
   ],
   "source": [
    "i = 0\n",
    "while i < 10:\n",
    "    print(i)\n",
    "    i += 2"
   ]
  },
  {
   "cell_type": "markdown",
   "metadata": {},
   "source": [
    "`while...else` is supported:"
   ]
  },
  {
   "cell_type": "code",
   "execution_count": 94,
   "metadata": {},
   "outputs": [
    {
     "name": "stdout",
     "output_type": "stream",
     "text": [
      "0\n",
      "2\n",
      "4\n",
      "6\n",
      "8\n",
      "Done\n"
     ]
    }
   ],
   "source": [
    "i = 0\n",
    "while i < 10:\n",
    "    print(i)\n",
    "    i += 2\n",
    "else:\n",
    "    print('Done')"
   ]
  },
  {
   "cell_type": "code",
   "execution_count": 95,
   "metadata": {},
   "outputs": [
    {
     "name": "stdout",
     "output_type": "stream",
     "text": [
      "0\n",
      "Found an even number!\n"
     ]
    }
   ],
   "source": [
    "i = 0\n",
    "while i < 10:\n",
    "    print(i)\n",
    "    if i % 2 == 0:\n",
    "        print('Found an even number!')\n",
    "        break\n",
    "    i += 2\n",
    "else:\n",
    "    print('No even numbers!')"
   ]
  },
  {
   "cell_type": "code",
   "execution_count": 96,
   "metadata": {},
   "outputs": [
    {
     "name": "stdout",
     "output_type": "stream",
     "text": [
      "1\n",
      "3\n",
      "5\n",
      "7\n",
      "9\n",
      "No even numbers!\n"
     ]
    }
   ],
   "source": [
    "i = 1\n",
    "while i < 10:\n",
    "    print(i)\n",
    "    if i % 2 == 0:\n",
    "        print('Found an even number!')\n",
    "        break\n",
    "    i += 2\n",
    "else:\n",
    "    print('No even numbers!')"
   ]
  },
  {
   "cell_type": "markdown",
   "metadata": {},
   "source": [
    "### if Statement and Boolean Expressions\n",
    "\n",
    "Python uses `if...elif...else` syntax:"
   ]
  },
  {
   "cell_type": "code",
   "execution_count": 97,
   "metadata": {},
   "outputs": [
    {
     "name": "stdout",
     "output_type": "stream",
     "text": [
      "C\n"
     ]
    }
   ],
   "source": [
    "grade = 75\n",
    "if grade > 90:\n",
    "    print('A')\n",
    "elif grade > 80:\n",
    "    print('B')\n",
    "elif grade > 70:\n",
    "    print('C')\n",
    "else:\n",
    "    print('D')"
   ]
  },
  {
   "cell_type": "markdown",
   "metadata": {},
   "source": [
    "`and`, `or` and `not` are Boolean operators, while `&`, `|` and `^` are bitwise-operators. Short-circuiting rules apply:"
   ]
  },
  {
   "cell_type": "code",
   "execution_count": 98,
   "metadata": {},
   "outputs": [
    {
     "ename": "ZeroDivisionError",
     "evalue": "division by zero",
     "output_type": "error",
     "traceback": [
      "\u001b[0;31m---------------------------------------------------------------------------\u001b[0m",
      "\u001b[0;31mZeroDivisionError\u001b[0m                         Traceback (most recent call last)",
      "\u001b[0;32m<ipython-input-98-d26a3ac7f29d>\u001b[0m in \u001b[0;36m<module>\u001b[0;34m()\u001b[0m\n\u001b[0;32m----> 1\u001b[0;31m \u001b[0;36m1\u001b[0m \u001b[0;32mand\u001b[0m \u001b[0;36m1\u001b[0m\u001b[0;34m/\u001b[0m\u001b[0;36m0\u001b[0m\u001b[0;34m\u001b[0m\u001b[0m\n\u001b[0m",
      "\u001b[0;31mZeroDivisionError\u001b[0m: division by zero"
     ]
    }
   ],
   "source": [
    "1 and 1/0"
   ]
  },
  {
   "cell_type": "code",
   "execution_count": 99,
   "metadata": {},
   "outputs": [
    {
     "data": {
      "text/plain": [
       "1"
      ]
     },
     "execution_count": 99,
     "metadata": {},
     "output_type": "execute_result"
    }
   ],
   "source": [
    "1 or 1/0"
   ]
  },
  {
   "cell_type": "code",
   "execution_count": 100,
   "metadata": {},
   "outputs": [
    {
     "data": {
      "text/plain": [
       "0"
      ]
     },
     "execution_count": 100,
     "metadata": {},
     "output_type": "execute_result"
    }
   ],
   "source": [
    "0 and 1/0"
   ]
  },
  {
   "cell_type": "code",
   "execution_count": 101,
   "metadata": {},
   "outputs": [
    {
     "ename": "ZeroDivisionError",
     "evalue": "division by zero",
     "output_type": "error",
     "traceback": [
      "\u001b[0;31m---------------------------------------------------------------------------\u001b[0m",
      "\u001b[0;31mZeroDivisionError\u001b[0m                         Traceback (most recent call last)",
      "\u001b[0;32m<ipython-input-101-a829942d3284>\u001b[0m in \u001b[0;36m<module>\u001b[0;34m()\u001b[0m\n\u001b[0;32m----> 1\u001b[0;31m \u001b[0;36m0\u001b[0m \u001b[0;32mor\u001b[0m \u001b[0;36m1\u001b[0m\u001b[0;34m/\u001b[0m\u001b[0;36m0\u001b[0m\u001b[0;34m\u001b[0m\u001b[0m\n\u001b[0m",
      "\u001b[0;31mZeroDivisionError\u001b[0m: division by zero"
     ]
    }
   ],
   "source": [
    "0 or 1/0"
   ]
  },
  {
   "cell_type": "markdown",
   "metadata": {},
   "source": [
    "You can combine multiple range comparisons into a single one:"
   ]
  },
  {
   "cell_type": "code",
   "execution_count": 102,
   "metadata": {},
   "outputs": [
    {
     "name": "stdout",
     "output_type": "stream",
     "text": [
      "True\n",
      "False\n"
     ]
    }
   ],
   "source": [
    "print(0 < 2 < 4)\n",
    "print(2 < 0 < 4)"
   ]
  },
  {
   "cell_type": "markdown",
   "metadata": {},
   "source": [
    "Note that the Boolean literals are `True` and `False`, with capitalized first letters."
   ]
  },
  {
   "cell_type": "code",
   "execution_count": 103,
   "metadata": {},
   "outputs": [
    {
     "name": "stdout",
     "output_type": "stream",
     "text": [
      "True\n"
     ]
    }
   ],
   "source": [
    "print(0 < 2 < 4 < 6)"
   ]
  },
  {
   "cell_type": "markdown",
   "metadata": {},
   "source": [
    "If an instance of a class is used in a Boolean expression, it is evaluated by calling its `__bool__` method if it has one, else its `__len__` method (where non-zero is `True`), else it is considered `True`.\n",
    "\n",
    "Python doesn't support conditional expressions like `:?` but does support ternary expressions with `if...else`:"
   ]
  },
  {
   "cell_type": "code",
   "execution_count": 104,
   "metadata": {},
   "outputs": [
    {
     "name": "stdout",
     "output_type": "stream",
     "text": [
      "0 Widgets\n",
      "1 Widget\n",
      "2 Widgets\n"
     ]
    }
   ],
   "source": [
    "for count in range(0, 3):\n",
    "    print(f'{count} {\"Widget\" if count == 1 else \"Widgets\"}')"
   ]
  },
  {
   "cell_type": "markdown",
   "metadata": {},
   "source": [
    "### with\n",
    "\n",
    "`with` is used for scoped use of classes that need to clean up when they are no longer used (e.g. file objects that need to release underlying file handles). \n",
    "\n",
    "The most common place you'll see this is with file reading and writing, which we cover in the next section.\n",
    "\n",
    "---\n",
    "> _Under the Hood_\n",
    ">\n",
    "> When the “with” statement is executed, Python evaluates the following expression, calls the `__enter__` method on the resulting value (a “context guard”), and assigns whatever `__enter__` returns to the variable given by as. Python will then execute the code body, and no matter what happens in that code, call the guard object’s `__exit__` method.\n",
    "> \n",
    "> As an extra bonus, the `__exit__` method can look at the exception, if any, and suppress it or act on it as necessary (to suppress it, it just needs to return `True`).\n",
    "> \n",
    "> We're getting ahead of ourselves here with classes, but here is an example:"
   ]
  },
  {
   "cell_type": "code",
   "execution_count": 105,
   "metadata": {},
   "outputs": [
    {
     "name": "stdout",
     "output_type": "stream",
     "text": [
      "green eggs\n",
      "ham\n"
     ]
    }
   ],
   "source": [
    "class Wither:\n",
    "    def __enter__(self):\n",
    "        return 'green eggs'\n",
    "    def __exit__(self,  type, value, traceback):\n",
    "        print('ham')\n",
    "    \n",
    "with Wither() as x:\n",
    "    print(x)"
   ]
  },
  {
   "cell_type": "markdown",
   "metadata": {},
   "source": [
    "## Reading and Writing Files\n",
    "\n",
    "Python has a built-in `open` function for opening files for reading and writing: https://docs.python.org/3.6/library/functions.html#open\n",
    "\n",
    "The simplest for of reading a file is just:\n",
    "\n",
    "```python\n",
    "with open('myfile.txt') as f:\n",
    "    for line in f:\n",
    "        print(line)\n",
    "```\n",
    "\n",
    "and writing a file, assuming we have a list of strings `data`:\n",
    "\n",
    "```python\n",
    "with open('myfile.txt', 'w') as f:\n",
    "    for line in data:\n",
    "        f.write(line)\n",
    "```\n",
    "\n",
    "You can see more detailed examples in the tutorial, section 7.2, here: https://docs.python.org/3/tutorial/inputoutput.html\n",
    "\n",
    "If you are doing more sophisticated operations with files you may want to look at the `pyfilesystem` package: https://www.pyfilesystem.org/. This provides a richer set of functionality over a variety of different \"virtual\" file systems, like zipfiles, tarfiles, FTP, SMB, DLNA and WebDAV servers, and services like DropBox."
   ]
  },
  {
   "cell_type": "markdown",
   "metadata": {},
   "source": [
    "## Functions and Lambdas\n",
    "\n",
    "Recall that Python named functions are defined with `def`:"
   ]
  },
  {
   "cell_type": "code",
   "execution_count": 106,
   "metadata": {},
   "outputs": [
    {
     "data": {
      "text/plain": [
       "5"
      ]
     },
     "execution_count": 106,
     "metadata": {},
     "output_type": "execute_result"
    }
   ],
   "source": [
    "def add(a, b):\n",
    "    return a + b\n",
    "\n",
    "add(2, 3)"
   ]
  },
  {
   "cell_type": "markdown",
   "metadata": {},
   "source": [
    "Default arguments are allowed. If a default argument is specified, then all following arguments must have defaults as well:"
   ]
  },
  {
   "cell_type": "code",
   "execution_count": 107,
   "metadata": {},
   "outputs": [
    {
     "name": "stdout",
     "output_type": "stream",
     "text": [
      "a=2, b=3\n",
      "5\n",
      "a=2, b=1\n",
      "3\n"
     ]
    },
    {
     "ename": "TypeError",
     "evalue": "add() missing 1 required positional argument: 'a'",
     "output_type": "error",
     "traceback": [
      "\u001b[0;31m---------------------------------------------------------------------------\u001b[0m",
      "\u001b[0;31mTypeError\u001b[0m                                 Traceback (most recent call last)",
      "\u001b[0;32m<ipython-input-107-ad63163207a7>\u001b[0m in \u001b[0;36m<module>\u001b[0;34m()\u001b[0m\n\u001b[1;32m      5\u001b[0m \u001b[0mprint\u001b[0m\u001b[0;34m(\u001b[0m\u001b[0madd\u001b[0m\u001b[0;34m(\u001b[0m\u001b[0;36m2\u001b[0m\u001b[0;34m,\u001b[0m \u001b[0;36m3\u001b[0m\u001b[0;34m)\u001b[0m\u001b[0;34m)\u001b[0m\u001b[0;34m\u001b[0m\u001b[0m\n\u001b[1;32m      6\u001b[0m \u001b[0mprint\u001b[0m\u001b[0;34m(\u001b[0m\u001b[0madd\u001b[0m\u001b[0;34m(\u001b[0m\u001b[0;36m2\u001b[0m\u001b[0;34m)\u001b[0m\u001b[0;34m)\u001b[0m\u001b[0;34m\u001b[0m\u001b[0m\n\u001b[0;32m----> 7\u001b[0;31m \u001b[0mprint\u001b[0m\u001b[0;34m(\u001b[0m\u001b[0madd\u001b[0m\u001b[0;34m(\u001b[0m\u001b[0;34m)\u001b[0m\u001b[0;34m)\u001b[0m\u001b[0;34m\u001b[0m\u001b[0m\n\u001b[0m",
      "\u001b[0;31mTypeError\u001b[0m: add() missing 1 required positional argument: 'a'"
     ]
    }
   ],
   "source": [
    "def add(a, b=1):\n",
    "    print(f'a={a}, b={b}')\n",
    "    return a + b\n",
    "\n",
    "print(add(2, 3))\n",
    "print(add(2))\n",
    "print(add())"
   ]
  },
  {
   "cell_type": "markdown",
   "metadata": {},
   "source": [
    "Arguments with no defaults are *positional arguments* and must be specified in order _except_ if they are named explicitly when calling the function:"
   ]
  },
  {
   "cell_type": "code",
   "execution_count": 108,
   "metadata": {},
   "outputs": [
    {
     "name": "stdout",
     "output_type": "stream",
     "text": [
      "a=1, b=2\n",
      "3\n"
     ]
    }
   ],
   "source": [
    "print(add(b=2, a=1))"
   ]
  },
  {
   "cell_type": "markdown",
   "metadata": {},
   "source": [
    "When arguments are named as in the above example they are called *keyword arguments*."
   ]
  },
  {
   "cell_type": "markdown",
   "metadata": {},
   "source": [
    "You can use `*args` for a variable number of non-keyword arguments, which will be available internally as a list:"
   ]
  },
  {
   "cell_type": "code",
   "execution_count": 116,
   "metadata": {},
   "outputs": [
    {
     "name": "stdout",
     "output_type": "stream",
     "text": [
      "24\n"
     ]
    }
   ],
   "source": [
    "def multiply(*args):\n",
    "    z = 1\n",
    "    for num in args:\n",
    "        z *= num\n",
    "    return z\n",
    "    \n",
    "print(multiply(1, 2, 3, 4))"
   ]
  },
  {
   "cell_type": "code",
   "execution_count": 117,
   "metadata": {},
   "outputs": [
    {
     "name": "stdout",
     "output_type": "stream",
     "text": [
      "Argument 0 is 1\n",
      "Argument 1 is 2\n",
      "Argument 2 is cat\n"
     ]
    }
   ],
   "source": [
    "def foo(*args):\n",
    "    for i in range(0, len(args)):\n",
    "        print(f'Argument {i} is {args[i]}')\n",
    "\n",
    "        \n",
    "foo(1, 2, 'cat')"
   ]
  },
  {
   "cell_type": "markdown",
   "metadata": {},
   "source": [
    "When capturing positional arguments like this, all following arguments *must* be keyword arguments:"
   ]
  },
  {
   "cell_type": "code",
   "execution_count": 8,
   "metadata": {},
   "outputs": [
    {
     "name": "stdout",
     "output_type": "stream",
     "text": [
      "[1, 2, 3, 4]\n"
     ]
    },
    {
     "ename": "TypeError",
     "evalue": "foo() missing 1 required keyword-only argument: 'a'",
     "output_type": "error",
     "traceback": [
      "\u001b[0;31m---------------------------------------------------------------------------\u001b[0m",
      "\u001b[0;31mTypeError\u001b[0m                                 Traceback (most recent call last)",
      "\u001b[0;32m<ipython-input-8-e7dbf56a0506>\u001b[0m in \u001b[0;36m<module>\u001b[0;34m()\u001b[0m\n\u001b[1;32m      5\u001b[0m \u001b[0;34m\u001b[0m\u001b[0m\n\u001b[1;32m      6\u001b[0m \u001b[0mfoo\u001b[0m\u001b[0;34m(\u001b[0m\u001b[0;36m1\u001b[0m\u001b[0;34m,\u001b[0m \u001b[0;36m2\u001b[0m\u001b[0;34m,\u001b[0m \u001b[0ma\u001b[0m\u001b[0;34m=\u001b[0m\u001b[0;36m3\u001b[0m\u001b[0;34m,\u001b[0m \u001b[0mb\u001b[0m\u001b[0;34m=\u001b[0m\u001b[0;36m4\u001b[0m\u001b[0;34m)\u001b[0m\u001b[0;34m\u001b[0m\u001b[0m\n\u001b[0;32m----> 7\u001b[0;31m \u001b[0mfoo\u001b[0m\u001b[0;34m(\u001b[0m\u001b[0;36m1\u001b[0m\u001b[0;34m,\u001b[0m \u001b[0;36m2\u001b[0m\u001b[0;34m,\u001b[0m \u001b[0;36m3\u001b[0m\u001b[0;34m,\u001b[0m \u001b[0mb\u001b[0m\u001b[0;34m=\u001b[0m\u001b[0;36m4\u001b[0m\u001b[0;34m)\u001b[0m\u001b[0;34m\u001b[0m\u001b[0m\n\u001b[0m",
      "\u001b[0;31mTypeError\u001b[0m: foo() missing 1 required keyword-only argument: 'a'"
     ]
    }
   ],
   "source": [
    "def foo(*args, a, b):\n",
    "    l = list(args)\n",
    "    l.extend([a, b])\n",
    "    print(l)\n",
    "    \n",
    "foo(1, 2, a=3, b=4)\n",
    "foo(1, 2, 3, b=4)"
   ]
  },
  {
   "cell_type": "markdown",
   "metadata": {},
   "source": [
    "In Python 3, you can require keyword-only arguments without having to capture positional arguments by using `*` on its own:"
   ]
  },
  {
   "cell_type": "code",
   "execution_count": 11,
   "metadata": {},
   "outputs": [
    {
     "name": "stdout",
     "output_type": "stream",
     "text": [
      "[1, 2, 3, 4]\n"
     ]
    },
    {
     "ename": "TypeError",
     "evalue": "foo() takes 2 positional arguments but 3 positional arguments (and 1 keyword-only argument) were given",
     "output_type": "error",
     "traceback": [
      "\u001b[0;31m---------------------------------------------------------------------------\u001b[0m",
      "\u001b[0;31mTypeError\u001b[0m                                 Traceback (most recent call last)",
      "\u001b[0;32m<ipython-input-11-3fa2d715c035>\u001b[0m in \u001b[0;36m<module>\u001b[0;34m()\u001b[0m\n\u001b[1;32m      3\u001b[0m \u001b[0;34m\u001b[0m\u001b[0m\n\u001b[1;32m      4\u001b[0m \u001b[0mfoo\u001b[0m\u001b[0;34m(\u001b[0m\u001b[0;36m1\u001b[0m\u001b[0;34m,\u001b[0m \u001b[0;36m2\u001b[0m\u001b[0;34m,\u001b[0m \u001b[0mkey1\u001b[0m\u001b[0;34m=\u001b[0m\u001b[0;36m3\u001b[0m\u001b[0;34m,\u001b[0m \u001b[0mkey2\u001b[0m\u001b[0;34m=\u001b[0m\u001b[0;36m4\u001b[0m\u001b[0;34m)\u001b[0m\u001b[0;34m\u001b[0m\u001b[0m\n\u001b[0;32m----> 5\u001b[0;31m \u001b[0mfoo\u001b[0m\u001b[0;34m(\u001b[0m\u001b[0;36m1\u001b[0m\u001b[0;34m,\u001b[0m \u001b[0;36m2\u001b[0m\u001b[0;34m,\u001b[0m \u001b[0;36m3\u001b[0m\u001b[0;34m,\u001b[0m \u001b[0mkey2\u001b[0m\u001b[0;34m=\u001b[0m\u001b[0;36m4\u001b[0m\u001b[0;34m)\u001b[0m\u001b[0;34m\u001b[0m\u001b[0m\n\u001b[0m",
      "\u001b[0;31mTypeError\u001b[0m: foo() takes 2 positional arguments but 3 positional arguments (and 1 keyword-only argument) were given"
     ]
    }
   ],
   "source": [
    "def foo(pos1, pos2, *, key1, key2):\n",
    "    print([pos1, pos2, key1, key2])\n",
    "    \n",
    "foo(1, 2, key1=3, key2=4)\n",
    "foo(1, 2, 3, key2=4)"
   ]
  },
  {
   "cell_type": "markdown",
   "metadata": {},
   "source": [
    "Of course, you don't have to have any positional arguments above if you want just keyword arguments.\n",
    "\n",
    "For capturing multiple keyword arguments, you can use `**kwargs`, which will be available internally as a dictionary:"
   ]
  },
  {
   "cell_type": "code",
   "execution_count": 118,
   "metadata": {},
   "outputs": [
    {
     "name": "stdout",
     "output_type": "stream",
     "text": [
      "Positional argument 0 is cat\n",
      "Positional argument 1 is 1\n",
      "Keyword argument clothing is hat\n",
      "Keyword argument location is mat\n"
     ]
    }
   ],
   "source": [
    "def foo(*args, **kwargs):\n",
    "    for i in range(0, len(args)):\n",
    "        print(f'Positional argument {i} is {args[i]}')\n",
    "    for k, v in kwargs.items():\n",
    "        print(f'Keyword argument {k} is {v}')\n",
    "        \n",
    "foo('cat', 1, clothing='hat', location='mat')"
   ]
  },
  {
   "cell_type": "markdown",
   "metadata": {},
   "source": [
    "You can mix all types of arguments but the order is important:\n",
    "* Formal positional arguments\n",
    "* `*args`\n",
    "* Keyword arguments\n",
    "* `**kwargs`\n",
    "\n",
    "You can do the opposite as well - pass a list instead of several positional arguments, and a dictionary instead of several keyword arguments, by using `*` and `**`:"
   ]
  },
  {
   "cell_type": "code",
   "execution_count": 119,
   "metadata": {},
   "outputs": [
    {
     "name": "stdout",
     "output_type": "stream",
     "text": [
      "Positional 1 is 1\n",
      "Positional 2 is 2\n",
      "Named1 is cat\n",
      "Named1 is hat\n"
     ]
    }
   ],
   "source": [
    "def foo(pos1, pos2, named1='a', named2='b'):\n",
    "    print(f\"Positional 1 is {pos1}\")\n",
    "    print(f\"Positional 2 is {pos2}\")\n",
    "    print(f\"Named1 is {named1}\")\n",
    "    print(f\"Named1 is {named2}\")    \n",
    "    \n",
    "p = [1, 2]\n",
    "n = {'named1': 'cat', 'named2': 'hat'}\n",
    "foo(*p, **n)"
   ]
  },
  {
   "cell_type": "markdown",
   "metadata": {},
   "source": [
    "The above is actually a common pattern in Python when writing wrapper functions that need to support arbitrary arguments that they are just going to pass on to some other function. For example, say we wanted to write a wrapper that timed the execution of a function:"
   ]
  },
  {
   "cell_type": "code",
   "execution_count": 120,
   "metadata": {},
   "outputs": [
    {
     "name": "stdout",
     "output_type": "stream",
     "text": [
      "a=1, b=None, c=hello\n",
      "<function foo at 0x10ff6dae8> took 58 microseconds\n"
     ]
    }
   ],
   "source": [
    "import datetime as dt\n",
    "\n",
    "\n",
    "def foo(a, b=None, c=None):\n",
    "    print(f'a={a}, b={b}, c={c}')\n",
    "\n",
    "\n",
    "def log_time(fn, *args, **kwargs):\n",
    "    start = dt.datetime.now()\n",
    "    fn(*args, **kwargs)\n",
    "    end = dt.datetime.now()\n",
    "    print(f\"{fn} took {(end-start).microseconds} microseconds\")\n",
    "    \n",
    "log_time(foo, 1, c='hello')\n",
    "    "
   ]
  },
  {
   "cell_type": "markdown",
   "metadata": {},
   "source": [
    "Variables referenced in a function are either local or arguments. To access a global variable you must explicitly declare it global (but it is better to avoid using globals):"
   ]
  },
  {
   "cell_type": "code",
   "execution_count": 109,
   "metadata": {},
   "outputs": [
    {
     "name": "stdout",
     "output_type": "stream",
     "text": [
      "2\n",
      "2\n"
     ]
    }
   ],
   "source": [
    "x = 2\n",
    "\n",
    "def foo():\n",
    "    x = 1  # This is local\n",
    "    \n",
    "print(x)  # This is the global\n",
    "foo()\n",
    "print(x)"
   ]
  },
  {
   "cell_type": "code",
   "execution_count": 110,
   "metadata": {},
   "outputs": [
    {
     "name": "stdout",
     "output_type": "stream",
     "text": [
      "2\n",
      "1\n"
     ]
    }
   ],
   "source": [
    "x = 2\n",
    "\n",
    "def foo():\n",
    "    global x\n",
    "    x = 1\n",
    "    \n",
    "print(x)\n",
    "foo()\n",
    "print(x)"
   ]
  },
  {
   "cell_type": "markdown",
   "metadata": {},
   "source": [
    "Functions can be nested. In Python 3 you can declare a variable as \"nonlocal\" to access an outer but non-global scope."
   ]
  },
  {
   "cell_type": "code",
   "execution_count": 111,
   "metadata": {},
   "outputs": [
    {
     "name": "stdout",
     "output_type": "stream",
     "text": [
      "Inside!\n",
      "Outside!\n"
     ]
    }
   ],
   "source": [
    "def outside():\n",
    "    msg = \"Outside!\"\n",
    "    def inside():\n",
    "        msg = \"Inside!\"  # This is different to the one in outside()\n",
    "        print(msg)\n",
    "    inside()\n",
    "    print(msg)\n",
    "    \n",
    "outside()"
   ]
  },
  {
   "cell_type": "code",
   "execution_count": 112,
   "metadata": {},
   "outputs": [
    {
     "name": "stdout",
     "output_type": "stream",
     "text": [
      "Inside!\n",
      "Inside!\n"
     ]
    }
   ],
   "source": [
    "def outside():\n",
    "    msg = \"Outside!\"\n",
    "    def inside():\n",
    "        nonlocal msg  # This is the same as the one in outside()\n",
    "        msg = \"Inside!\"\n",
    "        print(msg)\n",
    "    inside()\n",
    "    print(msg)\n",
    "    \n",
    "outside()"
   ]
  },
  {
   "cell_type": "markdown",
   "metadata": {},
   "source": [
    "It is good practice to follow the `def` line with a _docstring_ to document the function. There are different conventions for how this should be formatted; I like the Google style: http://sphinxcontrib-napoleon.readthedocs.io/en/latest/example_google.html"
   ]
  },
  {
   "cell_type": "code",
   "execution_count": 113,
   "metadata": {},
   "outputs": [
    {
     "name": "stdout",
     "output_type": "stream",
     "text": [
      "Help on function add in module __main__:\n",
      "\n",
      "add(a, b)\n",
      "    Adds two objects and returns the result.\n",
      "    \n",
      "    Args:\n",
      "        a: The first parameter.\n",
      "        b: The second parameter.\n",
      "    \n",
      "    Returns:\n",
      "        The result of adding a and b.\n",
      "\n"
     ]
    }
   ],
   "source": [
    "def add(a, b):\n",
    "    \"\"\"Adds two objects and returns the result.\n",
    "\n",
    "    Args:\n",
    "        a: The first parameter.\n",
    "        b: The second parameter.\n",
    "\n",
    "    Returns:\n",
    "        The result of adding a and b.\n",
    "    \"\"\"\n",
    "    return a + b\n",
    "\n",
    "# Now we can use help() to get the docstring.\n",
    "help(add)"
   ]
  },
  {
   "cell_type": "markdown",
   "metadata": {},
   "source": [
    "You can return multiple values from a function (really just a tuple):"
   ]
  },
  {
   "cell_type": "code",
   "execution_count": 114,
   "metadata": {},
   "outputs": [
    {
     "name": "stdout",
     "output_type": "stream",
     "text": [
      "(5, 1)\n",
      "9\n",
      "-1\n"
     ]
    }
   ],
   "source": [
    "def sum_diff(a, b):\n",
    "    return a+b, a-b\n",
    "\n",
    "print(sum_diff(3, 2))\n",
    "x, y = sum_diff(4, 5)\n",
    "print(x)\n",
    "print(y)"
   ]
  },
  {
   "cell_type": "markdown",
   "metadata": {},
   "source": [
    "Python supports continuations with yield (this returns a generator which we will discuss later):"
   ]
  },
  {
   "cell_type": "code",
   "execution_count": 115,
   "metadata": {},
   "outputs": [
    {
     "name": "stdout",
     "output_type": "stream",
     "text": [
      "2\n",
      "4\n",
      "6\n"
     ]
    }
   ],
   "source": [
    "def get_next_even_number(l):\n",
    "    for v in l:\n",
    "        if v % 2 == 0:\n",
    "            yield v\n",
    "    \n",
    "x = [1, 2, 3, 4, 5, 6]\n",
    "for e in get_next_even_number(x):\n",
    "    print(e)"
   ]
  },
  {
   "cell_type": "markdown",
   "metadata": {},
   "source": [
    "Note that `def` statements are executed at their level of indentation, and they create function objects that can be called later, including evaluating the default argument values. This means you should be careful when specifying default values for arguments; stick to scalar variables. In particular avoid using things like empty lists! Look at how this can go wrong:"
   ]
  },
  {
   "cell_type": "code",
   "execution_count": 121,
   "metadata": {},
   "outputs": [
    {
     "name": "stdout",
     "output_type": "stream",
     "text": [
      "[]\n",
      "['gotcha!']\n"
     ]
    }
   ],
   "source": [
    "def beware(a=[]):\n",
    "    print(a)\n",
    "    a.append('gotcha!')\n",
    "    \n",
    "beware()\n",
    "beware() # No longer empty list!"
   ]
  },
  {
   "cell_type": "markdown",
   "metadata": {},
   "source": [
    "What happened above is that the empty list argument was created at function definition time, and at function call time a is assigned a default value which is a reference to the previously created list object. If the list changes those changes will persist.\n",
    "\n",
    "Instead, use something like:"
   ]
  },
  {
   "cell_type": "code",
   "execution_count": 122,
   "metadata": {},
   "outputs": [
    {
     "name": "stdout",
     "output_type": "stream",
     "text": [
      "[]\n",
      "[]\n"
     ]
    }
   ],
   "source": [
    "def beware(a=None):\n",
    "    if a is None:\n",
    "        a=[]\n",
    "    print(a)\n",
    "    a.append('gotcha!')\n",
    "    \n",
    "beware()\n",
    "beware() # Now we are safe"
   ]
  },
  {
   "cell_type": "markdown",
   "metadata": {},
   "source": [
    "Finally, you can use `lambda` to define anonymous functions. These will be very useful when we get to using Pandas for data manipulation:"
   ]
  },
  {
   "cell_type": "code",
   "execution_count": 123,
   "metadata": {},
   "outputs": [
    {
     "data": {
      "text/plain": [
       "3"
      ]
     },
     "execution_count": 123,
     "metadata": {},
     "output_type": "execute_result"
    }
   ],
   "source": [
    "adder = lambda a, b: a + b\n",
    "\n",
    "adder(1, 2)"
   ]
  },
  {
   "cell_type": "markdown",
   "metadata": {},
   "source": [
    "## Comprehensions\n",
    "\n",
    "Comprehensions are a powerful feature in Python, allowing lists, dictionaries and tuples to be constructed from iterative computations with minimal code. These are best illustrated by examples:"
   ]
  },
  {
   "cell_type": "code",
   "execution_count": 144,
   "metadata": {},
   "outputs": [
    {
     "data": {
      "text/plain": [
       "[1, 4, 9, 16, 25]"
      ]
     },
     "execution_count": 144,
     "metadata": {},
     "output_type": "execute_result"
    }
   ],
   "source": [
    "# A list of all squares from 1 to 25\n",
    "[x*x for x in range(1, 6)]"
   ]
  },
  {
   "cell_type": "code",
   "execution_count": 145,
   "metadata": {},
   "outputs": [
    {
     "data": {
      "text/plain": [
       "[1,\n",
       " 4,\n",
       " 9,\n",
       " 16,\n",
       " 36,\n",
       " 49,\n",
       " 64,\n",
       " 81,\n",
       " 121,\n",
       " 144,\n",
       " 169,\n",
       " 196,\n",
       " 256,\n",
       " 289,\n",
       " 324,\n",
       " 361,\n",
       " 441,\n",
       " 484,\n",
       " 529,\n",
       " 576,\n",
       " 676,\n",
       " 729,\n",
       " 784,\n",
       " 841,\n",
       " 961,\n",
       " 1024]"
      ]
     },
     "execution_count": 145,
     "metadata": {},
     "output_type": "execute_result"
    }
   ],
   "source": [
    "# A list of all squares from 1 to 1024 except those divisble by 5\n",
    "[x*x for x in range(1, 33) if (x*x) % 5 != 0]"
   ]
  },
  {
   "cell_type": "code",
   "execution_count": 146,
   "metadata": {},
   "outputs": [
    {
     "data": {
      "text/plain": [
       "[[1.0, 2.0], [3.0, 4.0]]"
      ]
     },
     "execution_count": 146,
     "metadata": {},
     "output_type": "execute_result"
    }
   ],
   "source": [
    "# Comprehensions can be nested\n",
    "t = [\n",
    "    ['1', '2'],\n",
    "    ['3', '4']\n",
    "]\n",
    "\n",
    "# Make a list of lists from t where we convert the strings to floats\n",
    "[[float(y) for y in x] for x in t]"
   ]
  },
  {
   "cell_type": "code",
   "execution_count": 147,
   "metadata": {
    "scrolled": true
   },
   "outputs": [
    {
     "data": {
      "text/plain": [
       "{'Square of 1': 1,\n",
       " 'Square of 2': 4,\n",
       " 'Square of 3': 9,\n",
       " 'Square of 4': 16,\n",
       " 'Square of 5': 25}"
      ]
     },
     "execution_count": 147,
     "metadata": {},
     "output_type": "execute_result"
    }
   ],
   "source": [
    "# Dictionary comprehension\n",
    "{ f'Square of {x}': x*x for x in range(1, 6)}"
   ]
  },
  {
   "cell_type": "markdown",
   "metadata": {},
   "source": [
    "## Classes\n",
    "\n",
    "We'll now turn to defining your own Python classes. If you are in a hurry to move to the next post in this series, you can skip this now and come back to it later."
   ]
  },
  {
   "cell_type": "code",
   "execution_count": 124,
   "metadata": {},
   "outputs": [
    {
     "data": {
      "text/plain": [
       "' This is a Widget class. '"
      ]
     },
     "execution_count": 124,
     "metadata": {},
     "output_type": "execute_result"
    }
   ],
   "source": [
    "class Widget:  # same as \"class Widget(object):\"\n",
    "    \"\"\" This is a Widget class. \"\"\"  # Classes have docstrings too.\n",
    "    \n",
    "    def print_my_class(self):  # Instance method as it has a 'self' parameter\n",
    "        \"\"\" Print the instance class. \"\"\"\n",
    "        print(self.__class__)  # __class__ is the easy way to get at an object's class\n",
    "    \n",
    "    @staticmethod\n",
    "    def print_class():  # Static method as it has no 'self' parameter\n",
    "        \"\"\" Print the class class. \"\"\"\n",
    "        print(Widget)\n",
    "        \n",
    "        \n",
    "x = Widget()  # We don't use 'new' in Python\n",
    "x.__doc__  # __doc__ has the docstring"
   ]
  },
  {
   "cell_type": "markdown",
   "metadata": {},
   "source": [
    "In Python, we can declare a class with `class(base)`. If the base class is omitted then `object` is assumed.\n",
    "\n",
    "As mentioned earlier, instance methods take an explicit `self` first parameter which references the instance. So if `widget` is an instance of a `Widget` class and we call:\n",
    "\n",
    "```python\n",
    "widget.foo()\n",
    "```\n",
    "\n",
    "internally that gets converted to the equivalent of:\n",
    "\n",
    "```python\n",
    "Widget.foo(widget)\n",
    "```\n",
    "\n",
    "To declare an instance method, we omit the `self` argument and use a `staticmethod` decorator. The latter prevents the instance being passed as a parameter when we call the method from that instance."
   ]
  },
  {
   "cell_type": "code",
   "execution_count": 125,
   "metadata": {},
   "outputs": [
    {
     "name": "stdout",
     "output_type": "stream",
     "text": [
      "Help on Widget in module __main__ object:\n",
      "\n",
      "class Widget(builtins.object)\n",
      " |  This is a Widget class.\n",
      " |  \n",
      " |  Methods defined here:\n",
      " |  \n",
      " |  print_my_class(self)\n",
      " |      Print the instance class.\n",
      " |  \n",
      " |  ----------------------------------------------------------------------\n",
      " |  Static methods defined here:\n",
      " |  \n",
      " |  print_class()\n",
      " |      Print the class class.\n",
      " |  \n",
      " |  ----------------------------------------------------------------------\n",
      " |  Data descriptors defined here:\n",
      " |  \n",
      " |  __dict__\n",
      " |      dictionary for instance variables (if defined)\n",
      " |  \n",
      " |  __weakref__\n",
      " |      list of weak references to the object (if defined)\n",
      "\n"
     ]
    }
   ],
   "source": [
    "help(x)"
   ]
  },
  {
   "cell_type": "code",
   "execution_count": 126,
   "metadata": {},
   "outputs": [
    {
     "name": "stdout",
     "output_type": "stream",
     "text": [
      "<class '__main__.Widget'>\n"
     ]
    }
   ],
   "source": [
    "x.print_my_class()"
   ]
  },
  {
   "cell_type": "code",
   "execution_count": 127,
   "metadata": {},
   "outputs": [
    {
     "name": "stdout",
     "output_type": "stream",
     "text": [
      "<class '__main__.Widget'>\n"
     ]
    }
   ],
   "source": [
    "x.print_class()"
   ]
  },
  {
   "cell_type": "code",
   "execution_count": 128,
   "metadata": {},
   "outputs": [
    {
     "name": "stdout",
     "output_type": "stream",
     "text": [
      "<class '__main__.Widget'>\n"
     ]
    }
   ],
   "source": [
    "Widget.print_class()"
   ]
  },
  {
   "cell_type": "code",
   "execution_count": 129,
   "metadata": {},
   "outputs": [
    {
     "ename": "TypeError",
     "evalue": "print_my_class() missing 1 required positional argument: 'self'",
     "output_type": "error",
     "traceback": [
      "\u001b[0;31m---------------------------------------------------------------------------\u001b[0m",
      "\u001b[0;31mTypeError\u001b[0m                                 Traceback (most recent call last)",
      "\u001b[0;32m<ipython-input-129-70eb78ad9fde>\u001b[0m in \u001b[0;36m<module>\u001b[0;34m()\u001b[0m\n\u001b[0;32m----> 1\u001b[0;31m \u001b[0mWidget\u001b[0m\u001b[0;34m.\u001b[0m\u001b[0mprint_my_class\u001b[0m\u001b[0;34m(\u001b[0m\u001b[0;34m)\u001b[0m\u001b[0;34m\u001b[0m\u001b[0m\n\u001b[0m",
      "\u001b[0;31mTypeError\u001b[0m: print_my_class() missing 1 required positional argument: 'self'"
     ]
    }
   ],
   "source": [
    "Widget.print_my_class()"
   ]
  },
  {
   "cell_type": "markdown",
   "metadata": {},
   "source": [
    "Note that if we had:\n",
    "\n",
    "```python\n",
    "class Foo():\n",
    "     def s1():\n",
    "         print('s1')\n",
    "\n",
    "     @staticmethod\n",
    "     def s2():\n",
    "         print('s2')\n",
    "```\n",
    "\n",
    "then we could call `Foo.s1()` or `Foo.s2()` with no issues, but if `foo` was an instance of `Foo`, while we could call `foo.s2()` without a problem, if we called `foo.s1()` we would get an error:\n",
    "\n",
    "```\n",
    "TypeError: s1() takes 0 positional arguments but 1 was given\n",
    "```\n",
    "\n",
    "because Python would try to pass the instance as a parameter as it is missing @staticdecorator.\n",
    "\n",
    "We can get the docstring of the class and more with `help`:"
   ]
  },
  {
   "cell_type": "code",
   "execution_count": 130,
   "metadata": {},
   "outputs": [
    {
     "name": "stdout",
     "output_type": "stream",
     "text": [
      "Help on class Widget in module __main__:\n",
      "\n",
      "class Widget(builtins.object)\n",
      " |  This is a Widget class.\n",
      " |  \n",
      " |  Methods defined here:\n",
      " |  \n",
      " |  print_my_class(self)\n",
      " |      Print the instance class.\n",
      " |  \n",
      " |  ----------------------------------------------------------------------\n",
      " |  Static methods defined here:\n",
      " |  \n",
      " |  print_class()\n",
      " |      Print the class class.\n",
      " |  \n",
      " |  ----------------------------------------------------------------------\n",
      " |  Data descriptors defined here:\n",
      " |  \n",
      " |  __dict__\n",
      " |      dictionary for instance variables (if defined)\n",
      " |  \n",
      " |  __weakref__\n",
      " |      list of weak references to the object (if defined)\n",
      "\n"
     ]
    }
   ],
   "source": [
    "help(Widget)"
   ]
  },
  {
   "cell_type": "markdown",
   "metadata": {},
   "source": [
    "### Constructors and visibility\n",
    "\n",
    "A class does not require a constructor, but can have (at most) one. The constructor is an instance method named `__init__`. It can take additional parameters other than `self`.\n",
    "\n",
    "Python does not support private or protected members. By convention, private members should be named starting with an underscore, but this is an 'honor system'; everything is public. Also by convention, you should avoid double underscores; that should be reserved for dunder-methods."
   ]
  },
  {
   "cell_type": "code",
   "execution_count": 131,
   "metadata": {},
   "outputs": [
    {
     "name": "stdout",
     "output_type": "stream",
     "text": [
      "Help on class Bug in module __main__:\n",
      "\n",
      "class Bug(builtins.object)\n",
      " |  A class for creepy crawly things.\n",
      " |  \n",
      " |  Methods defined here:\n",
      " |  \n",
      " |  __init__(self, legs=6, name='bug')\n",
      " |      Initialize self.  See help(type(self)) for accurate signature.\n",
      " |  \n",
      " |  __repr__(self)\n",
      " |      Return repr(self).\n",
      " |  \n",
      " |  article(self)\n",
      " |      Return the English article for the given name.\n",
      " |  \n",
      " |  ----------------------------------------------------------------------\n",
      " |  Data descriptors defined here:\n",
      " |  \n",
      " |  __dict__\n",
      " |      dictionary for instance variables (if defined)\n",
      " |  \n",
      " |  __weakref__\n",
      " |      list of weak references to the object (if defined)\n",
      " |  \n",
      " |  ----------------------------------------------------------------------\n",
      " |  Data and other attributes defined here:\n",
      " |  \n",
      " |  heads = 1\n",
      "\n"
     ]
    }
   ],
   "source": [
    "class Bug:\n",
    "    \"\"\" A class for creepy crawly things. \"\"\"\n",
    "    \n",
    "    heads = 1  # This is a class variable\n",
    "    \n",
    "    def __init__(self, legs=6, name='bug'):\n",
    "        self.legs = legs  # Any variable assigned to with self.var = ... in constructor is an instance variable\n",
    "        self.name = name\n",
    "    \n",
    "    @staticmethod\n",
    "    def _article(name):  # 'private' class method\n",
    "        \"\"\" Return the English article for the given name. \"\"\"\n",
    "        return 'an'if 'aeiouAEIOU'.find(name[0]) >= 0 else 'a'\n",
    "\n",
    "    def article(self):  # 'public' instance method\n",
    "        \"\"\" Return the English article for the given name. \"\"\"\n",
    "        return Bug._article(self.name)\n",
    "    \n",
    "    def __repr__(self):  # __repr__ is called to get a printable representation of an object\n",
    "        return f\"I'm {Bug._article(self.name)} {self.name} with {self.legs} legs\"\n",
    "\n",
    "# Notice how help() will show help for article() but not _article().\n",
    "# It respects the '_' convention for 'privacy'.\n",
    "help(Bug)"
   ]
  },
  {
   "cell_type": "code",
   "execution_count": 132,
   "metadata": {},
   "outputs": [
    {
     "data": {
      "text/plain": [
       "I'm a bug with 6 legs"
      ]
     },
     "execution_count": 132,
     "metadata": {},
     "output_type": "execute_result"
    }
   ],
   "source": [
    "Bug()"
   ]
  },
  {
   "cell_type": "code",
   "execution_count": 133,
   "metadata": {},
   "outputs": [
    {
     "data": {
      "text/plain": [
       "I'm a bug with 8 legs"
      ]
     },
     "execution_count": 133,
     "metadata": {},
     "output_type": "execute_result"
    }
   ],
   "source": [
    "Bug(legs=8)"
   ]
  },
  {
   "cell_type": "markdown",
   "metadata": {},
   "source": [
    "It is recommended to always define a `__repr__` method on your classes."
   ]
  },
  {
   "cell_type": "markdown",
   "metadata": {},
   "source": [
    "### Inheritance\n",
    "\n",
    "Python supports both single and multiple inheritance (which we won't discuss). To up-call to a base method with single-inheritance we use `super()`:"
   ]
  },
  {
   "cell_type": "code",
   "execution_count": 134,
   "metadata": {},
   "outputs": [
    {
     "data": {
      "text/plain": [
       "I'm an insect with 6 legs"
      ]
     },
     "execution_count": 134,
     "metadata": {},
     "output_type": "execute_result"
    }
   ],
   "source": [
    "class Insect(Bug):\n",
    "    \n",
    "    def __init__(self):\n",
    "        super().__init__(name='insect')\n",
    "        \n",
    "Insect()"
   ]
  },
  {
   "cell_type": "code",
   "execution_count": 135,
   "metadata": {},
   "outputs": [
    {
     "data": {
      "text/plain": [
       "I'm a spider with 8 legs"
      ]
     },
     "execution_count": 135,
     "metadata": {},
     "output_type": "execute_result"
    }
   ],
   "source": [
    "class Spider(Bug):\n",
    "    \n",
    "    def __init__(self):\n",
    "        super().__init__(legs=8, name='spider')\n",
    "        \n",
    "Spider()"
   ]
  },
  {
   "cell_type": "markdown",
   "metadata": {},
   "source": [
    "### Under the Hood\n",
    "\n",
    "You can skip this section if you're not interested, but it can be useful to have some understanding of how classes work in Python.\n",
    "\n",
    "Classes and class instances both have a `.__dict__` attribute that holds their methods and variables/attributes. For example:"
   ]
  },
  {
   "cell_type": "code",
   "execution_count": 136,
   "metadata": {},
   "outputs": [
    {
     "data": {
      "text/plain": [
       "mappingproxy({'__dict__': <attribute '__dict__' of 'Example' objects>,\n",
       "              '__doc__': ' this is a class docopt string. ',\n",
       "              '__init__': <function __main__.Example.__init__>,\n",
       "              '__module__': '__main__',\n",
       "              '__weakref__': <attribute '__weakref__' of 'Example' objects>,\n",
       "              'class_method': <function __main__.Example.class_method>,\n",
       "              'class_var': 'this is a class variable',\n",
       "              'instance_method': <function __main__.Example.instance_method>})"
      ]
     },
     "execution_count": 136,
     "metadata": {},
     "output_type": "execute_result"
    }
   ],
   "source": [
    "class Example:\n",
    "    \"\"\" this is a class docopt string. \"\"\"\n",
    "    \n",
    "    class_var = 'this is a class variable'\n",
    "    \n",
    "    def __init__(self):\n",
    "        \"\"\" This is an instance docopt string. \"\"\"\n",
    "        self.instance_var = 'this is an instance var'\n",
    "        \n",
    "    def class_method():\n",
    "        \"\"\" This is a class method docopt string. \"\"\"\n",
    "        pass\n",
    "    \n",
    "    def instance_method(self):\n",
    "        return self.instance_var\n",
    "    \n",
    "Example.__dict__"
   ]
  },
  {
   "cell_type": "markdown",
   "metadata": {},
   "source": [
    "In the case of classes we really have a special object, a `mappingproxy`; this is a wrapper around a dictionary that makes it read-only and enforces that all keys are strings."
   ]
  },
  {
   "cell_type": "code",
   "execution_count": 137,
   "metadata": {},
   "outputs": [
    {
     "name": "stdout",
     "output_type": "stream",
     "text": [
      "{'instance_var': 'this is an instance var'}\n",
      "<class 'dict'>\n"
     ]
    }
   ],
   "source": [
    "# Similarly for an instance, although this really is a dict, not a mappingproxy.\n",
    "e = Example()\n",
    "print(e.__dict__)\n",
    "print(e.__dict__.__class__)"
   ]
  },
  {
   "cell_type": "code",
   "execution_count": 138,
   "metadata": {},
   "outputs": [
    {
     "data": {
      "text/plain": [
       "__main__.Example"
      ]
     },
     "execution_count": 138,
     "metadata": {},
     "output_type": "execute_result"
    }
   ],
   "source": [
    "# Instances have a .__class__ attribute that points to their class.\n",
    "e.__class__"
   ]
  },
  {
   "cell_type": "code",
   "execution_count": 139,
   "metadata": {},
   "outputs": [
    {
     "name": "stdout",
     "output_type": "stream",
     "text": [
      "this is a class variable\n",
      "this is a class variable\n",
      "Changed class var\n",
      "Changed class var\n"
     ]
    }
   ],
   "source": [
    "# To change a class variable, qualify with the class name:\n",
    "\n",
    "e2 = Example()\n",
    "print(e.class_var)\n",
    "print(e2.class_var)\n",
    "\n",
    "Example.class_var = 'Changed class var'\n",
    "\n",
    "# Note how it is changed for all instances\n",
    "print(e.class_var)\n",
    "print(e2.class_var)"
   ]
  },
  {
   "cell_type": "code",
   "execution_count": 140,
   "metadata": {},
   "outputs": [
    {
     "name": "stdout",
     "output_type": "stream",
     "text": [
      "Changed class var\n",
      "e2 class var is actually an instance var\n",
      "{'instance_var': 'this is an instance var'}\n",
      "{'instance_var': 'this is an instance var', 'class_var': 'e2 class var is actually an instance var'}\n"
     ]
    }
   ],
   "source": [
    "# If you qualify with an instance instead, you'll end up creating an instance variable instead!\n",
    "e2.class_var = 'e2 class var is actually an instance var'\n",
    "print(e.class_var)\n",
    "print(e2.class_var)\n",
    "print(e.__dict__)\n",
    "print(e2.__dict__)"
   ]
  },
  {
   "cell_type": "code",
   "execution_count": 141,
   "metadata": {},
   "outputs": [
    {
     "data": {
      "text/plain": [
       "<bound method Example.instance_method of <__main__.Example object at 0x10fe224e0>>"
      ]
     },
     "execution_count": 141,
     "metadata": {},
     "output_type": "execute_result"
    }
   ],
   "source": [
    "# When we dereference an instance method, we get a *bound method*; the instance method bound to the instance:\n",
    "e.instance_method"
   ]
  },
  {
   "cell_type": "code",
   "execution_count": 142,
   "metadata": {},
   "outputs": [
    {
     "data": {
      "text/plain": [
       "\"e's instance var\""
      ]
     },
     "execution_count": 142,
     "metadata": {},
     "output_type": "execute_result"
    }
   ],
   "source": [
    "# We can save a reference to the bound method and call it later and it will use the right instance\n",
    "\n",
    "f = e.instance_method\n",
    "e.instance_var = 'e\\'s instance var'\n",
    "f()"
   ]
  },
  {
   "cell_type": "markdown",
   "metadata": {},
   "source": [
    "There's a lot more to it than this, but this should give you some idea of how Python can support monkey-patching at run-time and other flexibility."
   ]
  },
  {
   "cell_type": "markdown",
   "metadata": {},
   "source": [
    "## Exceptions\n",
    "\n",
    "You can raise an exception with the `raise` statement. You can give an instance of any class that derives from the `BaseException` class. You can catch exceptions using `try: except:`. If you want to get a reference to the exception, use `catch..as..`:"
   ]
  },
  {
   "cell_type": "code",
   "execution_count": 143,
   "metadata": {},
   "outputs": [
    {
     "name": "stdout",
     "output_type": "stream",
     "text": [
      "The dude minds, man!\n",
      "None\n"
     ]
    },
    {
     "ename": "TypeError",
     "evalue": "unsupported operand type(s) for +: 'int' and 'str'",
     "output_type": "error",
     "traceback": [
      "\u001b[0;31m---------------------------------------------------------------------------\u001b[0m",
      "\u001b[0;31mTypeError\u001b[0m                                 Traceback (most recent call last)",
      "\u001b[0;32m<ipython-input-143-d2931b582ed8>\u001b[0m in \u001b[0;36m<module>\u001b[0;34m()\u001b[0m\n\u001b[1;32m     18\u001b[0m \u001b[0;34m\u001b[0m\u001b[0m\n\u001b[1;32m     19\u001b[0m \u001b[0mprint\u001b[0m\u001b[0;34m(\u001b[0m\u001b[0maverage\u001b[0m\u001b[0;34m(\u001b[0m\u001b[0;34m[\u001b[0m\u001b[0;34m]\u001b[0m\u001b[0;34m)\u001b[0m\u001b[0;34m)\u001b[0m\u001b[0;34m\u001b[0m\u001b[0m\n\u001b[0;32m---> 20\u001b[0;31m \u001b[0mprint\u001b[0m\u001b[0;34m(\u001b[0m\u001b[0maverage\u001b[0m\u001b[0;34m(\u001b[0m\u001b[0;34m[\u001b[0m\u001b[0;34m'cat'\u001b[0m\u001b[0;34m]\u001b[0m\u001b[0;34m)\u001b[0m\u001b[0;34m)\u001b[0m\u001b[0;34m\u001b[0m\u001b[0m\n\u001b[0m",
      "\u001b[0;32m<ipython-input-143-d2931b582ed8>\u001b[0m in \u001b[0;36maverage\u001b[0;34m(seq)\u001b[0m\n\u001b[1;32m     10\u001b[0m     \u001b[0;34m\"Compute the average of an iterable. \"\u001b[0m\u001b[0;34m\u001b[0m\u001b[0m\n\u001b[1;32m     11\u001b[0m     \u001b[0;32mtry\u001b[0m\u001b[0;34m:\u001b[0m\u001b[0;34m\u001b[0m\u001b[0m\n\u001b[0;32m---> 12\u001b[0;31m         \u001b[0mresult\u001b[0m \u001b[0;34m=\u001b[0m \u001b[0msum\u001b[0m\u001b[0;34m(\u001b[0m\u001b[0mseq\u001b[0m\u001b[0;34m)\u001b[0m \u001b[0;34m/\u001b[0m \u001b[0mlen\u001b[0m\u001b[0;34m(\u001b[0m\u001b[0mseq\u001b[0m\u001b[0;34m)\u001b[0m\u001b[0;34m\u001b[0m\u001b[0m\n\u001b[0m\u001b[1;32m     13\u001b[0m     \u001b[0;32mexcept\u001b[0m \u001b[0mZeroDivisionError\u001b[0m \u001b[0;32mas\u001b[0m \u001b[0me\u001b[0m\u001b[0;34m:\u001b[0m\u001b[0;34m\u001b[0m\u001b[0m\n\u001b[1;32m     14\u001b[0m         \u001b[0;32mreturn\u001b[0m \u001b[0;32mNone\u001b[0m\u001b[0;34m\u001b[0m\u001b[0m\n",
      "\u001b[0;31mTypeError\u001b[0m: unsupported operand type(s) for +: 'int' and 'str'"
     ]
    }
   ],
   "source": [
    "try:\n",
    "    raise Exception('The dude minds, man!')\n",
    "except Exception as x:  # Exception is the type of exception to catch, x is the variable to catch it with.\n",
    "    print(x)\n",
    "    \n",
    "# You can catch different types of exceptions, and you can use 'raise' on its own in the exception handling\n",
    "# block to rethrow the exception.\n",
    "\n",
    "def average(seq):\n",
    "    \"Compute the average of an iterable. \"\n",
    "    try:\n",
    "        result = sum(seq) / len(seq)\n",
    "    except ZeroDivisionError as e:\n",
    "        return None\n",
    "    except Exception:\n",
    "        raise\n",
    "    return result\n",
    "\n",
    "print(average([]))\n",
    "print(average(['cat']))"
   ]
  },
  {
   "cell_type": "markdown",
   "metadata": {},
   "source": [
    "## Iterators and Generators\n",
    "\n",
    "A Python iterator is an object with a `__next__` method for sequential access, that raises a StopIteration when done.\n",
    "\n",
    "A Python iterable is an object that defines a `__getitem__` method that can take sequential integer indices starting from 0 (so not necessarily random access) and raises an IndexError when done, or that has an `__iter__` method which returns an iterator.\n",
    "\n",
    "See https://docs.python.org/3/tutorial/classes.html#iterators for more; here's an example from that link:"
   ]
  },
  {
   "cell_type": "code",
   "execution_count": 148,
   "metadata": {},
   "outputs": [
    {
     "name": "stdout",
     "output_type": "stream",
     "text": [
      "m\n",
      "a\n",
      "p\n",
      "s\n"
     ]
    }
   ],
   "source": [
    "class Reverse:\n",
    "    \"\"\"Iterator for looping over a sequence backwards.\"\"\"\n",
    "    def __init__(self, data):\n",
    "        self.data = data\n",
    "        self.index = len(data)\n",
    "\n",
    "    def __iter__(self):\n",
    "        return self\n",
    "\n",
    "    def __next__(self):\n",
    "        if self.index == 0:\n",
    "            raise StopIteration\n",
    "        self.index = self.index - 1\n",
    "        return self.data[self.index]\n",
    "    \n",
    "for char in Reverse(\"spam\"):\n",
    "    print(char)"
   ]
  },
  {
   "cell_type": "markdown",
   "metadata": {},
   "source": [
    "A generator is an easier way of creating an iterable, by simply writing a function that uses `yield` instead of `return`. For example, we can write a generator for Fibonacci numbers like this:"
   ]
  },
  {
   "cell_type": "code",
   "execution_count": 149,
   "metadata": {},
   "outputs": [
    {
     "name": "stdout",
     "output_type": "stream",
     "text": [
      "1\n",
      "1\n",
      "2\n",
      "3\n",
      "5\n",
      "8\n",
      "13\n",
      "21\n",
      "34\n",
      "55\n",
      "89\n",
      "144\n"
     ]
    }
   ],
   "source": [
    "def fibonacci():\n",
    "    x = 1\n",
    "    y = 0\n",
    "    while True:\n",
    "        lasty = y\n",
    "        y += x\n",
    "        x = lasty\n",
    "        yield y\n",
    "        \n",
    "#f = fibonacci()\n",
    "for i in fibonacci():\n",
    "    print(i)\n",
    "    if i > 100:\n",
    "        break"
   ]
  },
  {
   "cell_type": "markdown",
   "metadata": {},
   "source": [
    "It is worth noting that using these is very idiomatic to Python normally (see the *Fluent Python* book for example), but in the data science domain, this idiom is more commonly replaced by vectorizing. This web-based book goes deep into this different way of thinking: http://www.labri.fr/perso/nrougier/from-python-to-numpy/"
   ]
  },
  {
   "cell_type": "markdown",
   "metadata": {},
   "source": [
    "## async/await\n",
    "\n",
    "Python runs as a single-threaded process. That means things like I/O can slow things down a lot. It is possible to use multiple threads - there are several libraries for that - but even with a single thread big improvements are possible with async code. The details are beyond the scope of the bootcamp, but more info is available here: https://docs.python.org/3/library/asyncio-task.html. Recent changes in Python have made this much more powerful, flexible and easy to use, and there are some interesting third-party libraries like [Trio](https://trio.readthedocs.io/en/latest/index.html) that build on top of it. And if you don't like the standard way of doing this, there are alternatives like [Curio](https://curio.readthedocs.io/en/latest/)."
   ]
  },
  {
   "cell_type": "markdown",
   "metadata": {},
   "source": [
    "## Type Annotations and Type Checking\n",
    "\n",
    "Python has some mechanisms for doing optional type annotations. These can improve execution speed and there are some packages that can enforce type checking at run-time. It's not a bad idea to start using these but they're out of scope of this bootcamp. \n",
    "\n",
    "See https://docs.python.org/3/library/typing.html and http://mypy-lang.org/ for more."
   ]
  },
  {
   "cell_type": "markdown",
   "metadata": {},
   "source": [
    "## Structuring Your Projects\n",
    "\n",
    "TODO"
   ]
  },
  {
   "cell_type": "markdown",
   "metadata": {},
   "source": [
    "## Debugging\n",
    "\n",
    "Python comes with a debugger, pdb. You can read about using it here: https://pymotw.com/3/pdb/\n",
    "\n",
    "You can use pdb within a Jupyter notebook. Just add this code at the point you want to break execution and enter the debugger:\n",
    "    \n",
    "```python\n",
    "import pdb; pdb.set_trace()\n",
    "```\n",
    "\n",
    "Once you're in the debugger, use the command `h` for help to see the commands available."
   ]
  },
  {
   "cell_type": "markdown",
   "metadata": {},
   "source": [
    "## Testing\n",
    "\n",
    "TODO"
   ]
  },
  {
   "cell_type": "markdown",
   "metadata": {},
   "source": [
    "## Packaging your Code\n",
    "\n",
    "TODO\n",
    "\n",
    "\n",
    "This guide has been written for people who are going to be writing most of their Python code in the Jupyter environment in which case distribution is not an issue. If you're wanting to build an installable package you can distribute, however, I think your best option is [PyInstaller](https://www.pyinstaller.org/). You should also structure your code files appropriately; you can find details of the recommended directory layout and necessary files that should be included [here](http://docs.python-guide.org/en/latest/writing/structure/)."
   ]
  },
  {
   "cell_type": "markdown",
   "metadata": {},
   "source": [
    "## Generating Documentation\n",
    "\n",
    "TODO"
   ]
  },
  {
   "cell_type": "markdown",
   "metadata": {},
   "source": [
    "## The Standard Library\n",
    "\n",
    "TODO\n",
    "\n",
    "### The sys module\n",
    "\n",
    "`sys.modules` is a dictionary of the currently imported modules. This can be large so let's just look at the names of the first few:"
   ]
  },
  {
   "cell_type": "code",
   "execution_count": 4,
   "metadata": {},
   "outputs": [
    {
     "data": {
      "text/plain": [
       "['builtins',\n",
       " 'sys',\n",
       " '_frozen_importlib',\n",
       " '_imp',\n",
       " '_warnings',\n",
       " '_thread',\n",
       " '_weakref',\n",
       " '_frozen_importlib_external',\n",
       " '_io',\n",
       " 'marshal',\n",
       " 'posix',\n",
       " 'zipimport',\n",
       " 'encodings',\n",
       " 'codecs',\n",
       " '_codecs',\n",
       " 'encodings.aliases',\n",
       " 'encodings.utf_8',\n",
       " '_signal',\n",
       " '__main__',\n",
       " 'encodings.latin_1']"
      ]
     },
     "execution_count": 4,
     "metadata": {},
     "output_type": "execute_result"
    }
   ],
   "source": [
    "import sys\n",
    "\n",
    "list(sys.modules.keys())[:20]"
   ]
  },
  {
   "cell_type": "markdown",
   "metadata": {},
   "source": [
    "`sys.path` is the path to look for imports:"
   ]
  },
  {
   "cell_type": "code",
   "execution_count": 156,
   "metadata": {},
   "outputs": [
    {
     "data": {
      "text/plain": [
       "['',\n",
       " '/Users/gram/anaconda/lib/python36.zip',\n",
       " '/Users/gram/anaconda/lib/python3.6',\n",
       " '/Users/gram/anaconda/lib/python3.6/lib-dynload',\n",
       " '/Users/gram/.local/lib/python3.6/site-packages',\n",
       " '/Users/gram/anaconda/lib/python3.6/site-packages',\n",
       " '/Users/gram/anaconda/lib/python3.6/site-packages/aeosa',\n",
       " '/Users/gram/anaconda/lib/python3.6/site-packages/IPython/extensions',\n",
       " '/Users/gram/.ipython']"
      ]
     },
     "execution_count": 156,
     "metadata": {},
     "output_type": "execute_result"
    }
   ],
   "source": [
    "sys.path"
   ]
  },
  {
   "cell_type": "markdown",
   "metadata": {},
   "source": [
    "### Dates and Times\n",
    "\n",
    "It's worth briefly discussing Python's support for date and time operations as these are relevant to the exploratory data analysis we will be doing.\n",
    "\n",
    "The standard library has two modules related to this area:\n",
    "\n",
    "- `time`, which includes many low-level wrappers around platform C APIs. In particular, routines that convert between epoch time (from Jan 1, 1970) to the various time components found in a C `tm` struct. The most useful functions here are related to getting the system time zone and the `time.sleep()` function which pauses execution;\n",
    "- `datetime` which provides a more high-level set of functions for dealing with dates, times, and time intervals; this is the module we will focus on here.\n",
    "\n",
    "In addition to this, there are some good third-party libraries to be aware of, that, amongst other things, provide flexible date parsing operations from different formats. The most commonly used one, that extends the functionality of `datetime`, is `dateutil` (https://dateutil.readthedocs.io/en/stable/) but another that is growing in popularity is `arrow` (http://arrow.readthedocs.io/en/latest/) which provides a completely different approach with a very natural API. \n",
    "\n",
    "The `datetime` module (https://docs.python.org/3.6/library/datetime.html) defines five classes:\n",
    "\n",
    "- `datetime`, combining a date and time\n",
    "- `date`, a date only with no time component\n",
    "- `time`, a time of day only, with no date component\n",
    "- `timedelta`, an interval between two points in time\n",
    "- `tzinfo`, a class that contains information about a time zone"
   ]
  },
  {
   "cell_type": "markdown",
   "metadata": {},
   "source": [
    "### Handling JSON Data\n",
    "\n",
    "Non-tabular data can be stored in dictionaries, which may be nested and contain lists. This is similar to JSON data on the web and in Javascript, and Python provides a `json` package for converting between these formats."
   ]
  },
  {
   "cell_type": "code",
   "execution_count": 152,
   "metadata": {},
   "outputs": [
    {
     "name": "stdout",
     "output_type": "stream",
     "text": [
      "<class 'str'>\n"
     ]
    },
    {
     "data": {
      "text/plain": [
       "'[{\"title\": \"Tales of the Inexpressible\", \"artist\": \"Shpongle\", \"year\": 2001, \"tracks\": [{\"title\": \"Dorset Perception\", \"time\": \"8:12\"}, {\"title\": \"Star Shpongled Banner\", \"time\": \"8:23\"}, {\"title\": \"A New Way to Say Hooray!\", \"time\": \"8:32\"}, {\"title\": \"Room 2\\\\u0950\", \"time\": \"5:05\"}, {\"title\": \"My Head Feels Like a Frisbee\", \"time\": \"8:52\"}, {\"title\": \"Shpongleyes\", \"time\": \"8:56\"}, {\"title\": \"Once Upon the Sea of Blissful Awareness\", \"time\": \"7:30\"}, {\"title\": \"Around the World in a Tea Daze\", \"time\": \"11:21\"}, {\"title\": \"Flute Fruit\", \"time\": \"2:09\"}]}]'"
      ]
     },
     "execution_count": 152,
     "metadata": {},
     "output_type": "execute_result"
    }
   ],
   "source": [
    "import json\n",
    "\n",
    "my_albums = [\n",
    "    {\n",
    "        'title': 'Tales of the Inexpressible',\n",
    "        'artist': 'Shpongle',\n",
    "        'year': 2001,\n",
    "        'tracks': [\n",
    "            { 'title': 'Dorset Perception', 'time': '8:12' },\n",
    "            { 'title': 'Star Shpongled Banner', 'time': '8:23' },\n",
    "            { 'title': 'A New Way to Say Hooray!', 'time': '8:32' },\n",
    "            { 'title': 'Room 2ॐ', 'time': '5:05' },\n",
    "            { 'title': 'My Head Feels Like a Frisbee', 'time': '8:52' },\n",
    "            { 'title': 'Shpongleyes', 'time': '8:56' },\n",
    "            { 'title': 'Once Upon the Sea of Blissful Awareness', 'time': '7:30' },\n",
    "            { 'title': 'Around the World in a Tea Daze', 'time': '11:21' },\n",
    "            { 'title': 'Flute Fruit', 'time': '2:09' },\n",
    "        ],\n",
    "    }\n",
    "]\n",
    "\n",
    "j = json.dumps(my_albums)  # Convert to JSON string\n",
    "print(type(j))\n",
    "j"
   ]
  },
  {
   "cell_type": "code",
   "execution_count": 153,
   "metadata": {},
   "outputs": [
    {
     "name": "stdout",
     "output_type": "stream",
     "text": [
      "<class 'list'>\n"
     ]
    },
    {
     "data": {
      "text/plain": [
       "[{'artist': 'Shpongle',\n",
       "  'title': 'Tales of the Inexpressible',\n",
       "  'tracks': [{'time': '8:12', 'title': 'Dorset Perception'},\n",
       "   {'time': '8:23', 'title': 'Star Shpongled Banner'},\n",
       "   {'time': '8:32', 'title': 'A New Way to Say Hooray!'},\n",
       "   {'time': '5:05', 'title': 'Room 2ॐ'},\n",
       "   {'time': '8:52', 'title': 'My Head Feels Like a Frisbee'},\n",
       "   {'time': '8:56', 'title': 'Shpongleyes'},\n",
       "   {'time': '7:30', 'title': 'Once Upon the Sea of Blissful Awareness'},\n",
       "   {'time': '11:21', 'title': 'Around the World in a Tea Daze'},\n",
       "   {'time': '2:09', 'title': 'Flute Fruit'}],\n",
       "  'year': 2001}]"
      ]
     },
     "execution_count": 153,
     "metadata": {},
     "output_type": "execute_result"
    }
   ],
   "source": [
    "p = json.loads(j)  # Convert from JSON string to Python object\n",
    "print(type(p))\n",
    "p"
   ]
  },
  {
   "cell_type": "markdown",
   "metadata": {},
   "source": [
    "### Logging\n",
    "\n",
    "See https://opensource.com/article/17/9/python-logging for details on Python logging.\n",
    "\n",
    "I recommend looking at Daiquiri, which builds on top of the standard logging library and make things easy:\n",
    "\n",
    "https://julien.danjou.info/blog/python-logging-easy-with-daiquiri"
   ]
  },
  {
   "cell_type": "code",
   "execution_count": 150,
   "metadata": {},
   "outputs": [
    {
     "name": "stdout",
     "output_type": "stream",
     "text": [
      "Collecting daiquiri\n",
      "  Downloading daiquiri-1.3.0-py2.py3-none-any.whl\n",
      "Installing collected packages: daiquiri\n",
      "Successfully installed daiquiri-1.3.0\n",
      "\u001b[33mYou are using pip version 9.0.1, however version 9.0.3 is available.\n",
      "You should consider upgrading via the 'pip install --upgrade pip' command.\u001b[0m\n"
     ]
    }
   ],
   "source": [
    "import sys\n",
    "!{sys.executable} -m pip install daiquiri"
   ]
  },
  {
   "cell_type": "code",
   "execution_count": 151,
   "metadata": {},
   "outputs": [
    {
     "name": "stderr",
     "output_type": "stream",
     "text": [
      "2018-04-12 19:58:17,065 [13060] INFO     bootcamp: It works and logs to stderr by default with color!\n"
     ]
    }
   ],
   "source": [
    "import logging\n",
    "import daiquiri\n",
    "\n",
    "daiquiri.setup(level=logging.INFO)\n",
    "\n",
    "logger = daiquiri.getLogger(\"bootcamp\")\n",
    "logger.info(\"It works and logs to stderr by default with color!\")"
   ]
  },
  {
   "cell_type": "markdown",
   "metadata": {},
   "source": [
    "## Cool Stuff\n",
    "\n",
    "Notable Python features: https://github.com/tukkek/notablepython\n",
    "\n",
    "Concise reference: https://github.com/mattharrison/Tiny-Python-3.6-Notebook\n",
    "\n",
    "The Hitchhikers Guide to Python documents many best practices: http://docs.python-guide.org/en/latest/\n",
    "\n",
    "Easily add progress bars to outer loops (works in Jupyter and console): https://pypi.python.org/pypi/tqdm\n",
    "\n",
    "For anyone who wants to get really serious about Python, Mark Lutz's and David Beazley's books are good but some are dated, but the best book on the language itself is IMO \"Fluent Python\" by Luciano Ramalho. There are also many excellent talks at http://pyvideo.org/. \n",
    "\n",
    "Blog aggregator for Python: http://planetpython.org/\n",
    "\n",
    "\n",
    "If you're interested in what the underlying Python byte code looks like for a function or class you can use the `dis` module:"
   ]
  },
  {
   "cell_type": "code",
   "execution_count": 154,
   "metadata": {},
   "outputs": [
    {
     "name": "stdout",
     "output_type": "stream",
     "text": [
      "Disassembly of print_class:\n",
      " 11           0 LOAD_GLOBAL              0 (print)\n",
      "              2 LOAD_GLOBAL              1 (Widget)\n",
      "              4 CALL_FUNCTION            1\n",
      "              6 POP_TOP\n",
      "              8 LOAD_CONST               1 (None)\n",
      "             10 RETURN_VALUE\n",
      "\n",
      "Disassembly of print_my_class:\n",
      "  6           0 LOAD_GLOBAL              0 (print)\n",
      "              2 LOAD_FAST                0 (self)\n",
      "              4 LOAD_ATTR                1 (__class__)\n",
      "              6 CALL_FUNCTION            1\n",
      "              8 POP_TOP\n",
      "             10 LOAD_CONST               1 (None)\n",
      "             12 RETURN_VALUE\n",
      "\n"
     ]
    }
   ],
   "source": [
    "import dis\n",
    "\n",
    "dis.dis(Widget)"
   ]
  },
  {
   "cell_type": "markdown",
   "metadata": {},
   "source": [
    "## Going Deeper\n",
    "\n"
   ]
  },
  {
   "cell_type": "markdown",
   "metadata": {},
   "source": [
    "### Using Threads and Processes\n",
    "\n",
    "See https://medium.com/@bfortuner/python-multithreading-vs-multiprocessing-73072ce5600b\n",
    "\n",
    "### Extending Python with C code\n",
    "\n",
    "See https://dbader.org/blog/python-ctypes-tutorial#.\n",
    "\n",
    "### Functional Programming in Python\n",
    "\n",
    "See https://docs.python.org/dev/howto/functional.html#iterators and http://coconut-lang.org/\n",
    "\n",
    "### Making HTTP Requests and Parsing Responses\n",
    "\n",
    "There are numerous ways to do this in Python, but the most commonly used libraries for these are `requests` (http://docs.python-requests.org/en/master/), which handles communications, and Beautiful Soup (https://www.crummy.com/software/BeautifulSoup/), which handles parsing HTML; look at those first before considering anything else as they are powerful, stable, mature and easy to use.\n",
    "\n",
    "\n",
    "## So you want to write a...\n",
    "\n",
    "My use of Python is mostly scripting repetitive tasks and data science so I am not an expert in any of the below, but these pointers should get you headed in the right direction:\n",
    "\n",
    "### ...Web App\n",
    "\n",
    "Wow! You are spoiled for choice! How on earth will be pick between the myriad options? Let me narrow it down for you: if you want a bare-bones framework a-la node.js, try [flask](http://flask.pocoo.org/) (or if even that is too heavyweight, [bottle](https://bottlepy.org/docs/dev/)). If you want everything plus the kitchen sink and a very opinionated chef, you will love [Django](https://www.djangoproject.com/); many big-name websites do. If you want something in-between, look at [Pyramid](https://trypyramid.com/), which would be my choice. If you're just building some REST server, take a look at [Eve](http://python-eve.org/) or [Hug](http://www.hug.rest/).\n",
    "\n",
    "### ...Mobile Game or App\n",
    "\n",
    "Python isn't your best bet for mobile, unfortunately, but people are trying. On an iPad, take a look at [Pythonista](http://omz-software.com/pythonista/), which is fantastic. Else your best bet is probably [Kivy](https://kivy.org/), but keep an eye on the up-and-coming [BeeWare](https://pybee.org/).\n",
    "\n",
    "### ...Desktop Game\n",
    "\n",
    "Your two main choices here are [PyGame](https://www.pygame.org/) (a wrapper over the very mature game library SDL), or [PyArcade](http://arcade.academy/), a newer library without the SDL dependency. If it was me I'd probably go with PyArcade; it's a more modern library and has some [great teaching material](http://arcade-book.readthedocs.io/en/latest/).\n",
    "\n",
    "### ...Desktop GUI App\n",
    "\n",
    "There are three main options here: [PyQt](https://riverbankcomputing.com/software/pyqt/intro), which requires a license for the commercial Qt library so I wouldn't recommend this for most cases, [wxPython](https://www.wxpython.org/) which is free and open source, and would be my recommendation, and [TkIntr](https://wiki.python.org/moin/TkInter), which is the \"official\" way to write GUI apps but IMO the results are ugly unless you take a lot of care. For something quick and dirty, TkIntr is the way to go, but if you want a native-looking polished cross-platform app, you should use one of the other two.\n",
    "\n",
    "## Great Python Articles, Books and Courses\n",
    "\n",
    "Michael Kennedy hosts two great podcasts (https://talkpython.fm/, and https://pythonbytes.fm/, with Brian Okken). He also has some high quality courses available at https://training.talkpython.fm/courses/all\n",
    "\n",
    "There is a great collection of Python articles at https://medium.freecodecamp.org/python-collection-of-my-favorite-articles-8469b8455939\n",
    "\n",
    "Below are a few of the best books on Python. \n",
    "These are affiliate links and I may earn a small commission:\n",
    "\n",
    "<div>\n",
    "<a target=\"_blank\"  href=\"https://amzn.to/3ED0lQE\" style=\"float:left;margin:50px\"><img border=\"0\" src=\"//ws-na.amazon-adsystem.com/widgets/q?_encoding=UTF8&MarketPlace=US&ASIN=1491946008&ServiceVersion=20070822&ID=AsinImage&WS=1&Format=_SL250_&tag=grahamwheel0b-20\" ></a><img src=\"//ir-na.amazon-adsystem.com/e/ir?t=grahamwheel0b-20&l=am2&o=1&a=1491946008\" width=\"1\" height=\"1\" border=\"0\" alt=\"\" style=\"border:none !important; margin:0px !important;\" />\n",
    "\n",
    "<a target=\"_blank\"  href=\"https://amzn.to/32C133B\" style=\"float:left;margin:50px\"><img border=\"0\" src=\"//ws-na.amazon-adsystem.com/widgets/q?_encoding=UTF8&MarketPlace=US&ASIN=1449340377&ServiceVersion=20070822&ID=AsinImage&WS=1&Format=_SL250_&tag=grahamwheel0b-20\" ></a><img src=\"//ir-na.amazon-adsystem.com/e/ir?t=grahamwheel0b-20&l=am2&o=1&a=1449340377\" width=\"1\" height=\"1\" border=\"0\" alt=\"\" style=\"border:none !important; margin:0px !important;\" />\n",
    "\n",
    "<a target=\"_blank\"  href=\"https://amzn.to/3eCsPza\" style=\"float:left;margin:50px\"><img border=\"0\" src=\"//ws-na.amazon-adsystem.com/widgets/q?_encoding=UTF8&MarketPlace=US&ASIN=1775093301&ServiceVersion=20070822&ID=AsinImage&WS=1&Format=_SL250_&tag=grahamwheel0b-20\" ></a><img src=\"//ir-na.amazon-adsystem.com/e/ir?t=grahamwheel0b-20&l=am2&o=1&a=1775093301\" width=\"1\" height=\"1\" border=\"0\" alt=\"\" style=\"border:none !important; margin:0px !important;\" />\n",
    "</div>\n",
    "\n"
   ]
  },
  {
   "cell_type": "code",
   "execution_count": null,
   "metadata": {},
   "outputs": [],
   "source": []
  }
 ],
 "metadata": {
  "kernelspec": {
   "display_name": "Python 3 (ipykernel)",
   "language": "python",
   "name": "python3"
  },
  "language_info": {
   "codemirror_mode": {
    "name": "ipython",
    "version": 3
   },
   "file_extension": ".py",
   "mimetype": "text/x-python",
   "name": "python",
   "nbconvert_exporter": "python",
   "pygments_lexer": "ipython3",
   "version": "3.10.1"
  },
  "toc": {
   "base_numbering": 1,
   "nav_menu": {},
   "number_sections": true,
   "sideBar": true,
   "skip_h1_title": false,
   "title_cell": "Table of Contents",
   "title_sidebar": "Contents",
   "toc_cell": false,
   "toc_position": {},
   "toc_section_display": true,
   "toc_window_display": true
  }
 },
 "nbformat": 4,
 "nbformat_minor": 2
}
